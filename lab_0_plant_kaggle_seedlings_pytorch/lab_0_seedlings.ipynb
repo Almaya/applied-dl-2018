{
 "cells": [
  {
   "cell_type": "markdown",
   "metadata": {},
   "source": [
    "# Tel-Aviv Deep Learning Boot-camp: 12 Applied Deep Learning Labs\n",
    "\n",
    "## Lab 0: Plant Seedlings Classification (PyTorch): The most basic lab :)  \n",
    "\n",
    "<img src=\"../assets/seedlings.png\" align=\"center\">\n",
    "\n",
    "### Instructors:\n",
    "\n",
    "- Shlomo Kashani: shlomo@bayesian.io ,\n",
    "- Nathaniel Shimoni nathaniel.shimoni@grid4c.com \n",
    "\n",
    "<img src=\"../assets/pt.jpg\" width=\"35%\" align=\"center\">\n",
    "\n",
    "## Progress\n",
    "\n",
    "- [x] PyTorch DataSet\n",
    "- [x] PyTorch DataLoader\n",
    "- [x] Augmentations\n",
    "- [x] Simple CNN\n",
    "- [x] Training + train test split\n",
    "- [x] TensorBoard Support from PyTorch\n",
    "- [x] Accuray and Log Loss\n",
    "- [x] Tqdm progress\n",
    "- [x] Persisting the model\n",
    "- [x] Testing on a test set\n",
    "\n",
    "\n",
    "\n",
    "### Links:\n",
    "\n",
    "- https://www.meetup.com/Tel-Aviv-Deep-Learning-Bootcamp/ \n",
    "- Git: https://github.com/bayesianio/applied-dl-2018\n",
    "- Full info: https://www.evernote.com/shard/s341/sh/3855640e-2b0b-42e5-b5b9-00216d02ac9a/b47968226e49a81ee813901cd41d3924\n",
    "\n",
    "### Date and Location: \n",
    "- July 2018\n",
    "\n",
    "\n",
    "### Requirements:\n",
    "- Python 3.5, CUDA 9, cuDNN 7, PyTorch 2.0 or above, Keras 2 or above\n",
    "\n",
    "#### For Windows 10 and Windows Server 2016, CUDA 9\n",
    "`conda install -c peterjc123 pytorch cuda90`\n",
    "\n",
    "\n",
    "### Data\n",
    "- Download: https://www.kaggle.com/c/plant-seedlings-classification\n",
    "\n",
    "- Please make sure you have already set up a Pytorch tree structure of your dataset:\n",
    "- `data_dir= '/home/data/bone/train/' `\n",
    "\n",
    "```\n",
    "    data_dir= '/home/data/bone/train/\n",
    "    \n",
    "    ├── valid\n",
    "    │   └── Type_1\n",
    "        ├── Type_2\n",
    "        └── Type_3\n",
    "    └── train\n",
    "        ├── Type_1\n",
    "        ├── Type_2\n",
    "        └── Type_3\n",
    "```\n",
    "\n",
    "### PyTorch Datasets\n",
    "\n",
    "To create a dataset, we subclass Dataset and define a constructor, a `__len__` method, and a `__getitem__` method. \n",
    "Here is full example:\n",
    "\n",
    "```python\n",
    "class BoneDataset(Dataset):\n",
    "    def __init__(self, labels, root_dir, subset=False, transform=None):\n",
    "        self.labels = labels\n",
    "        self.root_dir = root_dir\n",
    "        self.transform = transform\n",
    "    \n",
    "    def __len__(self):\n",
    "        return len(self.labels)\n",
    "    \n",
    "    def __getitem__(self, idx):\n",
    "        img_name = self.labels.iloc[idx, 0] # file name\n",
    "        fullname = join(self.root_dir, img_name)\n",
    "        image = Image.open(fullname).convert('RGB')\n",
    "        labels = self.labels.iloc[idx, 2] # category_id\n",
    "        if self.transform:\n",
    "            image = self.transform(image)\n",
    "        return image, labels\n",
    "```\n",
    "\n",
    "### The PyTorch DataLoader Class¶\n",
    "- Will load our BoneDataset\n",
    "- Can be regarded as a list (or iterator, technically).\n",
    "- Each time it is invoked will provide a minibatch of (img, label) pairs.\n",
    "\n",
    "\n",
    "### Training with TensorBoard\n",
    "\n",
    "With the aid of [Crayon](https://github.com/torrvision/crayon),\n",
    "we can access the visualisation power of TensorBoard for any \n",
    "deep learning framework.\n",
    "\n",
    "To use the TensorBoard, install Crayon (https://github.com/torrvision/crayon)\n",
    "and set `use_tensorboard = True`"
   ]
  },
  {
   "cell_type": "code",
   "execution_count": 1,
   "metadata": {
    "_cell_guid": "42dcf0c0-28f0-4386-9ee3-367f3606aa30",
    "_uuid": "33595673f3f93faf28ed0ac10f0a7c0e59a9c0ad"
   },
   "outputs": [
    {
     "name": "stdout",
     "output_type": "stream",
     "text": [
      "__Python VERSION: 3.6.2 |Anaconda custom (64-bit)| (default, Sep 19 2017, 08:03:39) [MSC v.1900 64 bit (AMD64)]\n",
      "__pyTorch VERSION: 0.2.1+a4fc05a\n",
      "__CUDA VERSION\n",
      "nvcc: NVIDIA (R) Cuda compiler driver\n",
      "Copyright (c) 2005-2017 NVIDIA Corporation\n",
      "Built on Fri_Sep__1_21:08:32_Central_Daylight_Time_2017\n",
      "Cuda compilation tools, release 9.0, V9.0.176\n",
      "__CUDNN VERSION: None\n",
      "__Number CUDA Devices: 1\n",
      "__Devices\n",
      "Active CUDA Device: GPU 0\n",
      "Available devices  1\n",
      "Current cuda device  0\n",
      "USE CUDA=True\n"
     ]
    }
   ],
   "source": [
    "%reset -f \n",
    "%matplotlib inline\n",
    "import matplotlib.pyplot as plt\n",
    "import time\n",
    "from shutil import copyfile\n",
    "from os.path import isfile, join, abspath, exists, isdir, expanduser\n",
    "from os import listdir, makedirs, getcwd, remove\n",
    "from PIL import Image\n",
    "from mpl_toolkits.axes_grid1 import ImageGrid\n",
    "import pandas as pd\n",
    "import numpy as np\n",
    "import torch\n",
    "from torch.optim import lr_scheduler\n",
    "from torch.autograd import Variable\n",
    "from torch.utils.data import Dataset, DataLoader\n",
    "import torch.nn.functional as func\n",
    "import torchvision\n",
    "from torchvision import transforms, datasets, models\n",
    "import random \n",
    "\n",
    "\n",
    "import sys\n",
    "print('__Python VERSION:', sys.version)\n",
    "print('__pyTorch VERSION:', torch.__version__)\n",
    "print('__CUDA VERSION')\n",
    "from subprocess import call\n",
    "# call([\"nvcc\", \"--version\"]) does not work\n",
    "! nvcc --version\n",
    "print('__CUDNN VERSION:', torch.backends.cudnn.version())\n",
    "print('__Number CUDA Devices:', torch.cuda.device_count())\n",
    "print('__Devices')\n",
    "# call([\"nvidia-smi\", \"--format=csv\", \"--query-gpu=index,name,driver_version,memory.total,memory.used,memory.free\"])\n",
    "print('Active CUDA Device: GPU', torch.cuda.current_device())\n",
    "\n",
    "print ('Available devices ', torch.cuda.device_count())\n",
    "print ('Current cuda device ', torch.cuda.current_device())\n",
    "\n",
    "use_cuda = torch.cuda.is_available()\n",
    "# use_cuda = False\n",
    "\n",
    "print(\"USE CUDA=\" + str (use_cuda))\n",
    "FloatTensor = torch.cuda.FloatTensor if use_cuda else torch.FloatTensor\n",
    "LongTensor = torch.cuda.LongTensor if use_cuda else torch.LongTensor\n",
    "Tensor = FloatTensor\n",
    "\n",
    "manualSeed = None\n",
    "def fixSeed(seed):\n",
    "    random.seed(seed)\n",
    "    np.random.seed(seed)\n",
    "    torch.manual_seed(seed)\n",
    "    if use_cuda:\n",
    "        torch.cuda.manual_seed(seed)\n",
    "        torch.cuda.manual_seed_all(seed)\n",
    "\n",
    "\n",
    "if manualSeed is None:\n",
    "        manualSeed = 999\n",
    "fixSeed(manualSeed)\n",
    "\n"
   ]
  },
  {
   "cell_type": "markdown",
   "metadata": {
    "_cell_guid": "579bc4ea-49c2-4413-a4bf-57472a155db4",
    "_uuid": "ab87c9fc87053c27d96e4765be8a942e91bf79bd"
   },
   "source": [
    "### Define Custom Dataset"
   ]
  },
  {
   "cell_type": "code",
   "execution_count": 2,
   "metadata": {
    "_cell_guid": "796ac7f9-d66a-4856-acba-b1be8f4960b6",
    "_uuid": "e32251e2e44d9bf3b14af6153643b36110cb17ef"
   },
   "outputs": [
    {
     "data": {
      "text/html": [
       "<div>\n",
       "<style scoped>\n",
       "    .dataframe tbody tr th:only-of-type {\n",
       "        vertical-align: middle;\n",
       "    }\n",
       "\n",
       "    .dataframe tbody tr th {\n",
       "        vertical-align: top;\n",
       "    }\n",
       "\n",
       "    .dataframe thead th {\n",
       "        text-align: right;\n",
       "    }\n",
       "</style>\n",
       "<table border=\"1\" class=\"dataframe\">\n",
       "  <thead>\n",
       "    <tr style=\"text-align: right;\">\n",
       "      <th></th>\n",
       "      <th>file</th>\n",
       "      <th>category</th>\n",
       "      <th>category_id</th>\n",
       "    </tr>\n",
       "  </thead>\n",
       "  <tbody>\n",
       "    <tr>\n",
       "      <th>0</th>\n",
       "      <td>Black-grass/0050f38b3.png</td>\n",
       "      <td>Black-grass</td>\n",
       "      <td>0</td>\n",
       "    </tr>\n",
       "    <tr>\n",
       "      <th>1</th>\n",
       "      <td>Black-grass/0183fdf68.png</td>\n",
       "      <td>Black-grass</td>\n",
       "      <td>0</td>\n",
       "    </tr>\n",
       "    <tr>\n",
       "      <th>2</th>\n",
       "      <td>Black-grass/0260cffa8.png</td>\n",
       "      <td>Black-grass</td>\n",
       "      <td>0</td>\n",
       "    </tr>\n",
       "    <tr>\n",
       "      <th>3</th>\n",
       "      <td>Black-grass/05eedce4d.png</td>\n",
       "      <td>Black-grass</td>\n",
       "      <td>0</td>\n",
       "    </tr>\n",
       "    <tr>\n",
       "      <th>4</th>\n",
       "      <td>Black-grass/075d004bc.png</td>\n",
       "      <td>Black-grass</td>\n",
       "      <td>0</td>\n",
       "    </tr>\n",
       "  </tbody>\n",
       "</table>\n",
       "</div>"
      ],
      "text/plain": [
       "                        file     category  category_id\n",
       "0  Black-grass/0050f38b3.png  Black-grass            0\n",
       "1  Black-grass/0183fdf68.png  Black-grass            0\n",
       "2  Black-grass/0260cffa8.png  Black-grass            0\n",
       "3  Black-grass/05eedce4d.png  Black-grass            0\n",
       "4  Black-grass/075d004bc.png  Black-grass            0"
      ]
     },
     "execution_count": 2,
     "metadata": {},
     "output_type": "execute_result"
    }
   ],
   "source": [
    "class BoneDataset(Dataset):\n",
    "    def __init__(self, labels, root_dir, subset=False, transform=None):\n",
    "        self.labels = labels\n",
    "        self.root_dir = root_dir\n",
    "        self.transform = transform\n",
    "    \n",
    "    def __len__(self):\n",
    "        return len(self.labels)\n",
    "    \n",
    "    def __getitem__(self, idx):\n",
    "        img_name = self.labels.iloc[idx, 0] # file name\n",
    "        fullname = join(self.root_dir, img_name)\n",
    "        image = Image.open(fullname).convert('RGB')\n",
    "        labels = self.labels.iloc[idx, 2] # category_id\n",
    "#         print (labels)\n",
    "        if self.transform:\n",
    "            image = self.transform(image)\n",
    "        return image, labels\n",
    "    \n",
    "\n",
    "import os\n",
    "\n",
    "\n",
    "data_dir= 'd:/db/data/bone/train/'\n",
    "data_dir= 'd:/db/data/cat-dog/train/'\n",
    "data_dir= 'd:/db/data/seedings/train/'\n",
    "\n",
    "def find_classes(fullDir):\n",
    "    classes = [d for d in os.listdir(fullDir) if os.path.isdir(os.path.join(fullDir, d))]\n",
    "    classes.sort()\n",
    "    class_to_idx = {classes[i]: i for i in range(len(classes))}\n",
    "    num_to_class = dict(zip(range(len(classes)), classes))\n",
    "    \n",
    "    train = []\n",
    "    for index, label in enumerate(classes):\n",
    "        path = fullDir + label + '/'\n",
    "        for file in listdir(path):\n",
    "            train.append(['{}/{}'.format(label, file), label, index])\n",
    "    \n",
    "    df = pd.DataFrame(train, columns=['file', 'category', 'category_id',]) \n",
    "\n",
    "    return classes, class_to_idx, num_to_class, df\n",
    "\n",
    "classes, class_to_idx, num_to_class, df =find_classes (data_dir )\n",
    "\n",
    "\n",
    "# class_to_idx\n",
    "# num_to_class\n",
    "df.head(5)    "
   ]
  },
  {
   "cell_type": "code",
   "execution_count": 3,
   "metadata": {},
   "outputs": [
    {
     "data": {
      "text/plain": [
       "12"
      ]
     },
     "execution_count": 3,
     "metadata": {},
     "output_type": "execute_result"
    }
   ],
   "source": [
    "len(classes)"
   ]
  },
  {
   "cell_type": "markdown",
   "metadata": {},
   "source": [
    "# Augmentation \n",
    "- Many of the code snippts here were adapted from various github repos.\n",
    "- If you dont need augementation, just skip this part."
   ]
  },
  {
   "cell_type": "code",
   "execution_count": 4,
   "metadata": {
    "collapsed": true
   },
   "outputs": [],
   "source": [
    "from __future__ import absolute_import\n",
    "\n",
    "from torchvision.transforms import *\n",
    "\n",
    "from PIL import Image, ImageDraw\n",
    "import numpy as np\n",
    "import torch\n",
    "\n",
    "import torchvision\n",
    "import random\n",
    "from PIL import Image, ImageOps\n",
    "import numpy as np\n",
    "import numbers\n",
    "import math\n",
    "import torch\n",
    "import torch\n",
    "import random\n",
    "import PIL.ImageEnhance as ie\n",
    "import PIL.Image as im\n",
    "\n",
    "# adapted from https://github.com/kuangliu/pytorch-retinanet/blob/master/transform.py\n",
    "# https://github.com/mratsim/Amazon-Forest-Computer-Vision/blob/master/src/p_data_augmentation.py\n",
    "\n",
    "normalize_img = torchvision.transforms.Normalize(mean=[0.485, 0.456, 0.406],\n",
    "                                     std=[0.229, 0.224, 0.225])\n",
    "\n",
    "def draw(img, boxes):\n",
    "    draw = ImageDraw.Draw(img)\n",
    "    for box in boxes:\n",
    "        draw.rectangle(list(box), outline='red')\n",
    "    img.show()\n",
    "\n",
    "\n",
    "class Stack(object):\n",
    "\n",
    "    def __init__(self, roll=False):\n",
    "        self.roll = roll\n",
    "\n",
    "    def __call__(self, img_group):\n",
    "        if img_group[0].mode == 'L':\n",
    "            return np.concatenate([np.expand_dims(x, 2) for x in img_group], axis=2)\n",
    "        elif img_group[0].mode == 'RGB':\n",
    "            if self.roll:\n",
    "                return np.concatenate([np.array(x)[:, :, ::-1] for x in img_group], axis=2)\n",
    "            else:\n",
    "                return np.concatenate(img_group, axis=2)\n",
    "\n",
    "\n",
    "class ToTorchFormatTensor(object):\n",
    "    \"\"\" Converts a PIL.Image (RGB) or numpy.ndarray (H x W x C) in the range [0, 255]\n",
    "    to a torch.FloatTensor of shape (C x H x W) in the range [0.0, 1.0] \"\"\"\n",
    "    def __init__(self, div=True):\n",
    "        self.div = div\n",
    "\n",
    "    def __call__(self, pic):\n",
    "        if isinstance(pic, np.ndarray):\n",
    "            # handle numpy array\n",
    "            img = torch.from_numpy(pic).permute(2, 0, 1).contiguous()\n",
    "        else:\n",
    "            # handle PIL Image\n",
    "            img = torch.ByteTensor(torch.ByteStorage.from_buffer(pic.tobytes()))\n",
    "            img = img.view(pic.size[1], pic.size[0], len(pic.mode))\n",
    "            # put it from HWC to CHW format\n",
    "            # yikes, this transpose takes 80% of the loading time/CPU\n",
    "            img = img.transpose(0, 1).transpose(0, 2).contiguous()\n",
    "        return img.float().div(255) if self.div else img.float()\n",
    "\n",
    "\n",
    "class IdentityTransform(object):\n",
    "\n",
    "    def __call__(self, data):\n",
    "        return data\n",
    "\n",
    "class RandomErasing(object):\n",
    "    def __init__(self, EPSILON = 0.5, sl = 0.02, sh = 0.4, r1 = 0.3, mean=[0.4914, 0.4822, 0.4465]):\n",
    "        self.EPSILON = EPSILON\n",
    "        self.mean = mean\n",
    "        self.sl = sl\n",
    "        self.sh = sh\n",
    "        self.r1 = r1\n",
    "       \n",
    "    def __call__(self, img):\n",
    "\n",
    "        if random.uniform(0, 1) > self.EPSILON:\n",
    "            return img\n",
    "\n",
    "        for attempt in range(100):\n",
    "            area = img.size()[1] * img.size()[2]\n",
    "       \n",
    "            target_area = random.uniform(self.sl, self.sh) * area\n",
    "            aspect_ratio = random.uniform(self.r1, 1/self.r1)\n",
    "\n",
    "            h = int(round(math.sqrt(target_area * aspect_ratio)))\n",
    "            w = int(round(math.sqrt(target_area / aspect_ratio)))\n",
    "\n",
    "            if w <= img.size()[2] and h <= img.size()[1]:\n",
    "                x1 = random.randint(0, img.size()[1] - h)\n",
    "                y1 = random.randint(0, img.size()[2] - w)\n",
    "                if img.size()[0] == 3:\n",
    "                    #img[0, x1:x1+h, y1:y1+w] = random.uniform(0, 1)\n",
    "                    #img[1, x1:x1+h, y1:y1+w] = random.uniform(0, 1)\n",
    "                    #img[2, x1:x1+h, y1:y1+w] = random.uniform(0, 1)\n",
    "                    img[0, x1:x1+h, y1:y1+w] = self.mean[0]\n",
    "                    img[1, x1:x1+h, y1:y1+w] = self.mean[1]\n",
    "                    img[2, x1:x1+h, y1:y1+w] = self.mean[2]\n",
    "                    #img[:, x1:x1+h, y1:y1+w] = torch.from_numpy(np.random.rand(3, h, w))\n",
    "                else:\n",
    "                    img[0, x1:x1+h, y1:y1+w] = self.mean[1]\n",
    "                    # img[0, x1:x1+h, y1:y1+w] = torch.from_numpy(np.random.rand(1, h, w))\n",
    "                return img\n",
    "\n",
    "        return img\n",
    "\n",
    "def random_crop(img, boxes):\n",
    "    '''Crop the given PIL image to a random size and aspect ratio.\n",
    "    A crop of random size of (0.08 to 1.0) of the original size and a random\n",
    "    aspect ratio of 3/4 to 4/3 of the original aspect ratio is made.\n",
    "    Args:\n",
    "      img: (PIL.Image) image to be cropped.\n",
    "      boxes: (tensor) object boxes, sized [#ojb,4].\n",
    "    Returns:\n",
    "      img: (PIL.Image) randomly cropped image.\n",
    "      boxes: (tensor) randomly cropped boxes.\n",
    "    '''\n",
    "    success = False\n",
    "    for attempt in range(10):\n",
    "        area = img.size[0] * img.size[1]\n",
    "        target_area = random.uniform(0.56, 1.0) * area\n",
    "        aspect_ratio = random.uniform(3. / 4, 4. / 3)\n",
    "\n",
    "        w = int(round(math.sqrt(target_area * aspect_ratio)))\n",
    "        h = int(round(math.sqrt(target_area / aspect_ratio)))\n",
    "\n",
    "        if random.random() < 0.5:\n",
    "            w, h = h, w\n",
    "\n",
    "        if w <= img.size[0] and h <= img.size[1]:\n",
    "            x = random.randint(0, img.size[0] - w)\n",
    "            y = random.randint(0, img.size[1] - h)\n",
    "            success = True\n",
    "            break\n",
    "\n",
    "    # Fallback\n",
    "    if not success:\n",
    "        w = h = min(img.size[0], img.size[1])\n",
    "        x = (img.size[0] - w) // 2\n",
    "        y = (img.size[1] - h) // 2\n",
    "\n",
    "    img = img.crop((x, y, x+w, y+h))\n",
    "    boxes -= torch.Tensor([x,y,x,y])\n",
    "    boxes[:,0::2].clamp_(min=0, max=w-1)\n",
    "    boxes[:,1::2].clamp_(min=0, max=h-1)\n",
    "    return img, boxes\n",
    "\n",
    "\n",
    "class Lighting(object):\n",
    "    \"\"\"Lighting noise(AlexNet - style PCA - based noise)\"\"\"\n",
    "\n",
    "    def __init__(self, alphastd, eigval, eigvec):\n",
    "        self.alphastd = alphastd\n",
    "        self.eigval = eigval\n",
    "        self.eigvec = eigvec\n",
    "\n",
    "    def __call__(self, img):\n",
    "        if self.alphastd == 0:\n",
    "            return img\n",
    "\n",
    "        alpha = img.new().resize_(3).normal_(0, self.alphastd)\n",
    "        rgb = self.eigvec.type_as(img).clone() \\\n",
    "            .mul(alpha.view(1, 3).expand(3, 3)) \\\n",
    "            .mul(self.eigval.view(1, 3).expand(3, 3)) \\\n",
    "            .sum(1).squeeze()\n",
    "\n",
    "        return img.add(rgb.view(3, 1, 1).expand_as(img))\n",
    "\n",
    "\n",
    "class Grayscale(object):\n",
    "    def __call__(self, img):\n",
    "        gs = img.clone()\n",
    "        gs[0].mul_(0.299).add_(0.587, gs[1]).add_(0.114, gs[2])\n",
    "        gs[1].copy_(gs[0])\n",
    "        gs[2].copy_(gs[0])\n",
    "        return gs\n",
    "\n",
    "\n",
    "class Saturation(object):\n",
    "    def __init__(self, var):\n",
    "        self.var = var\n",
    "\n",
    "    def __call__(self, img):\n",
    "        gs = Grayscale()(img)\n",
    "        alpha = random.uniform(0, self.var)\n",
    "        return img.lerp(gs, alpha)\n",
    "\n",
    "\n",
    "class Brightness(object):\n",
    "    def __init__(self, var):\n",
    "        self.var = var\n",
    "\n",
    "    def __call__(self, img):\n",
    "        gs = img.new().resize_as_(img).zero_()\n",
    "        alpha = random.uniform(0, self.var)\n",
    "        return img.lerp(gs, alpha)\n",
    "\n",
    "\n",
    "class Contrast(object):\n",
    "    def __init__(self, var):\n",
    "        self.var = var\n",
    "\n",
    "    def __call__(self, img):\n",
    "        gs = Grayscale()(img)\n",
    "        gs.fill_(gs.mean())\n",
    "        alpha = random.uniform(0, self.var)\n",
    "        return img.lerp(gs, alpha)\n",
    "\n",
    "\n",
    "class RandomOrder(object):\n",
    "    \"\"\" Composes several transforms together in random order.\n",
    "    \"\"\"\n",
    "\n",
    "    def __init__(self, transforms):\n",
    "        self.transforms = transforms\n",
    "\n",
    "    def __call__(self, img):\n",
    "        if self.transforms is None:\n",
    "            return img\n",
    "        order = torch.randperm(len(self.transforms))\n",
    "        for i in order:\n",
    "            img = self.transforms[i](img)\n",
    "        return img\n",
    "\n",
    "\n",
    "class ColorJitter(RandomOrder):\n",
    "    def __init__(self, brightness=0.4, contrast=0.4, saturation=0.4):\n",
    "        self.transforms = []\n",
    "        if brightness != 0:\n",
    "            self.transforms.append(Brightness(brightness))\n",
    "        if contrast != 0:\n",
    "            self.transforms.append(Contrast(contrast))\n",
    "        if saturation != 0:\n",
    "            self.transforms.append(Saturation(saturation))\n",
    "\n",
    "\n",
    "class RandomFlip(object):\n",
    "    \"\"\"Randomly flips the given PIL.Image with a probability of 0.25 horizontal,\n",
    "                                                                0.25 vertical,\n",
    "                                                                0.5 as is\n",
    "    \"\"\"\n",
    "\n",
    "    def __call__(self, img):\n",
    "        dispatcher = {\n",
    "            0: img,\n",
    "            1: img,\n",
    "            2: img.transpose(im.FLIP_LEFT_RIGHT),\n",
    "            3: img.transpose(im.FLIP_TOP_BOTTOM)\n",
    "        }\n",
    "\n",
    "        return dispatcher[random.randint(0, 3)]  # randint is inclusive\n",
    "\n",
    "\n",
    "class RandomRotate(object):\n",
    "    \"\"\"Randomly rotate the given PIL.Image with a probability of 1/6 90°,\n",
    "                                                                 1/6 180°,\n",
    "                                                                 1/6 270°,\n",
    "                                                                 1/2 as is\n",
    "    \"\"\"\n",
    "\n",
    "    def __call__(self, img):\n",
    "        dispatcher = {\n",
    "            0: img,\n",
    "            1: img,\n",
    "            2: img,\n",
    "            3: img.transpose(im.ROTATE_90),\n",
    "            4: img.transpose(im.ROTATE_180),\n",
    "            5: img.transpose(im.ROTATE_270)\n",
    "        }\n",
    "\n",
    "        return dispatcher[random.randint(0, 5)]  # randint is inclusive\n",
    "\n",
    "\n",
    "class PILColorBalance(object):\n",
    "    def __init__(self, var):\n",
    "        self.var = var\n",
    "\n",
    "    def __call__(self, img):\n",
    "        alpha = random.uniform(1 - self.var, 1 + self.var)\n",
    "        return ie.Color(img).enhance(alpha)\n",
    "\n",
    "\n",
    "class PILContrast(object):\n",
    "    def __init__(self, var):\n",
    "        self.var = var\n",
    "\n",
    "    def __call__(self, img):\n",
    "        alpha = random.uniform(1 - self.var, 1 + self.var)\n",
    "        return ie.Contrast(img).enhance(alpha)\n",
    "\n",
    "\n",
    "class PILBrightness(object):\n",
    "    def __init__(self, var):\n",
    "        self.var = var\n",
    "\n",
    "    def __call__(self, img):\n",
    "        alpha = random.uniform(1 - self.var, 1 + self.var)\n",
    "        return ie.Brightness(img).enhance(alpha)\n",
    "\n",
    "\n",
    "class PILSharpness(object):\n",
    "    def __init__(self, var):\n",
    "        self.var = var\n",
    "\n",
    "    def __call__(self, img):\n",
    "        alpha = random.uniform(1 - self.var, 1 + self.var)\n",
    "        return ie.Sharpness(img).enhance(alpha)\n",
    "\n",
    "\n",
    "# Check ImageEnhancer effect: https://www.youtube.com/watch?v=_7iDTpTop04\n",
    "# Not documented but all enhancements can go beyond 1.0 to 2\n",
    "# Image must be RGB\n",
    "# Use Pillow-SIMD because Pillow is too slow\n",
    "class PowerPIL(RandomOrder):\n",
    "    def __init__(self, rotate=True,\n",
    "                 flip=True,\n",
    "                 colorbalance=0.4,\n",
    "                 contrast=0.4,\n",
    "                 brightness=0.4,\n",
    "                 sharpness=0.4):\n",
    "        self.transforms = []\n",
    "        if rotate:\n",
    "            self.transforms.append(RandomRotate())\n",
    "        if flip:\n",
    "            self.transforms.append(RandomFlip())\n",
    "        if brightness != 0:\n",
    "            self.transforms.append(PILBrightness(brightness))\n",
    "        if contrast != 0:\n",
    "            self.transforms.append(PILContrast(contrast))\n",
    "        if colorbalance != 0:\n",
    "            self.transforms.append(PILColorBalance(colorbalance))\n",
    "        if sharpness != 0:\n",
    "            self.transforms.append(PILSharpness(sharpness))\n",
    "\n",
    "def default_loader(input_path):\n",
    "    input_image = (Image.open(input_path)).convert('RGB')\n",
    "    return input_image\n"
   ]
  },
  {
   "cell_type": "markdown",
   "metadata": {
    "_cell_guid": "bc8a9969-280a-4ec8-850b-25aed1ee38d6",
    "_uuid": "0163fcd2a2ea5a4e93bc87f47a96f404bcad6a83"
   },
   "source": [
    "## Setup transforms, datasets, and dataloaders\n",
    "\n",
    "- Data loaders spit out data from a dataset in batches. This is what you actually feed the neural network during training."
   ]
  },
  {
   "cell_type": "code",
   "execution_count": 5,
   "metadata": {
    "_cell_guid": "f94cb9fa-e76a-46d5-a363-8856b45c59e1",
    "_uuid": "fe82da4f8b1501203d12027200d1f8d2209f0057"
   },
   "outputs": [
    {
     "name": "stdout",
     "output_type": "stream",
     "text": [
      "{'train': 4038, 'valid': 712}\n"
     ]
    }
   ],
   "source": [
    "image_size = 224\n",
    "\n",
    "normalize_img = torchvision.transforms.Normalize(mean=[0.485, 0.456, 0.406],\n",
    "                                     std=[0.229, 0.224, 0.225])\n",
    "\n",
    "\n",
    "train_trans = transforms.Compose([\n",
    "    transforms.RandomSizedCrop(image_size),\n",
    "    PowerPIL(),\n",
    "    transforms.ToTensor(),\n",
    "#     normalize_img,\n",
    "    RandomErasing()\n",
    "])\n",
    "\n",
    "## Normalization only for validation and test\n",
    "valid_trans = transforms.Compose([\n",
    "    transforms.Scale(256),\n",
    "    transforms.CenterCrop(image_size),\n",
    "    transforms.ToTensor(),\n",
    "#     normalize_img\n",
    "])\n",
    "\n",
    "batch_size = 16\n",
    "train_data = df.sample(frac=0.85)\n",
    "valid_data = df[~df['file'].isin(train_data['file'])]\n",
    "\n",
    "train_set = BoneDataset(train_data, data_dir, transform = train_trans)\n",
    "valid_set = BoneDataset(valid_data, data_dir, transform = valid_trans)\n",
    "        \n",
    "\n",
    "t_loader = DataLoader(train_set, batch_size=batch_size, shuffle=True, num_workers=0)\n",
    "v_loader = DataLoader(valid_set, batch_size=batch_size, shuffle=True, num_workers=0)\n",
    "# test_loader  = DataLoader(test_set, batch_size=batch_size, shuffle=False, num_workers=4)\n",
    "\n",
    "dataset_sizes = {\n",
    "    'train': len(t_loader.dataset), \n",
    "    'valid': len(v_loader.dataset)\n",
    "}\n",
    "\n",
    "print (dataset_sizes)"
   ]
  },
  {
   "cell_type": "markdown",
   "metadata": {},
   "source": [
    "### Test the DataLoader Class"
   ]
  },
  {
   "cell_type": "code",
   "execution_count": 6,
   "metadata": {},
   "outputs": [
    {
     "name": "stdout",
     "output_type": "stream",
     "text": [
      "i=0: \n",
      "i=1: \n",
      "i=2: \n",
      "i=3: \n"
     ]
    },
    {
     "data": {
      "image/png": "[encoded data removed]",
      "text/plain": [
       "<matplotlib.figure.Figure at 0x2068f325860>"
      ]
     },
     "metadata": {},
     "output_type": "display_data"
    }
   ],
   "source": [
    "imagesToShow=4\n",
    "\n",
    "def flaotTensorToImage(img, mean=0, std=1):\n",
    "        \"\"\"convert a tensor to an image\"\"\"\n",
    "        img = np.transpose(img.numpy(), (1, 2, 0))\n",
    "        img = (img*std+ mean)*255\n",
    "        img = img.astype(np.uint8)    \n",
    "        return img    \n",
    "\n",
    "for i, data in enumerate(t_loader, 0):\n",
    "    print('i=%d: '%(i))            \n",
    "    images, labels = data            \n",
    "    num = len(images)\n",
    "    \n",
    "    ax = plt.subplot(1, imagesToShow, i + 1)\n",
    "    plt.tight_layout()\n",
    "    ax.set_title('Sample #{}'.format(i))\n",
    "    ax.axis('off')\n",
    "    \n",
    "    for n in range(num):\n",
    "        image=images[n]\n",
    "        label=labels[n]\n",
    "        plt.imshow (flaotTensorToImage(image))\n",
    "        \n",
    "    if i==imagesToShow-1:\n",
    "        break"
   ]
  },
  {
   "cell_type": "markdown",
   "metadata": {
    "_cell_guid": "d966c8a9-d189-4b76-8def-6180f9498154",
    "_uuid": "fde155bdd9ce81e2598146c263cedfa65eaba806"
   },
   "source": [
    "## Define the model\n",
    "- A simple CNN with great performance (95% accuracy) \n",
    "- In PyTorch, a model is defined by a subclass of nn.Module. It has two methods:\n",
    "\n",
    "`__init__:` constructor. Create layers here. Note that we don't define the connections between layers in this function.\n",
    "\n",
    "`forward(x):` forward function. Receives an input variable x. Returns a output variable. Note that we actually connect the layers here dynamically."
   ]
  },
  {
   "cell_type": "code",
   "execution_count": 7,
   "metadata": {
    "_cell_guid": "f2eb7b14-c63b-4fdf-8370-baabd48a9943",
    "_uuid": "29184efaeb75c7105b9f144550b68814c577534a"
   },
   "outputs": [
    {
     "name": "stdout",
     "output_type": "stream",
     "text": [
      "SimpleNet (\n",
      "  (avgpool): AdaptiveAvgPool2d (output_size=1)\n",
      "  (cnn1): ConvCNN (\n",
      "    (math): Sequential (\n",
      "      (0): Conv2d(3, 64, kernel_size=(7, 7), stride=(1, 1), padding=(2, 2))\n",
      "      (1): BatchNorm2d(64, eps=1e-05, momentum=0.1, affine=True)\n",
      "      (2): LeakyReLU (0.01)\n",
      "      (3): MaxPool2d (size=(4, 4), stride=(4, 4), dilation=(1, 1))\n",
      "    )\n",
      "    (avgpool): AvgPool2d (size=4, stride=4, padding=0, ceil_mode=False, count_include_pad=True)\n",
      "  )\n",
      "  (cnn2): ConvCNN (\n",
      "    (math): Sequential (\n",
      "      (0): Conv2d(64, 64, kernel_size=(5, 5), stride=(1, 1), padding=(2, 2))\n",
      "      (1): BatchNorm2d(64, eps=1e-05, momentum=0.1, affine=True)\n",
      "      (2): LeakyReLU (0.01)\n",
      "      (3): MaxPool2d (size=(2, 2), stride=(2, 2), dilation=(1, 1))\n",
      "    )\n",
      "    (avgpool): AvgPool2d (size=2, stride=2, padding=0, ceil_mode=False, count_include_pad=True)\n",
      "  )\n",
      "  (cnn3): ConvCNN (\n",
      "    (math): Sequential (\n",
      "      (0): Conv2d(64, 512, kernel_size=(5, 5), stride=(1, 1), padding=(2, 2))\n",
      "      (1): BatchNorm2d(512, eps=1e-05, momentum=0.1, affine=True)\n",
      "      (2): LeakyReLU (0.01)\n",
      "      (3): MaxPool2d (size=(2, 2), stride=(2, 2), dilation=(1, 1))\n",
      "    )\n",
      "    (avgpool): AvgPool2d (size=2, stride=2, padding=0, ceil_mode=False, count_include_pad=True)\n",
      "  )\n",
      "  (res1): ConvRes (\n",
      "    (math): Sequential (\n",
      "      (0): BatchNorm2d(512, eps=1e-05, momentum=0.1, affine=True)\n",
      "      (1): Dropout (p = 0.3)\n",
      "      (2): Conv2d(512, 64, kernel_size=(2, 2), stride=(1, 1), padding=(2, 2))\n",
      "      (3): PReLU (1)\n",
      "    )\n",
      "  )\n",
      "  (features): Sequential (\n",
      "    (0): ConvCNN (\n",
      "      (math): Sequential (\n",
      "        (0): Conv2d(3, 64, kernel_size=(7, 7), stride=(1, 1), padding=(2, 2))\n",
      "        (1): BatchNorm2d(64, eps=1e-05, momentum=0.1, affine=True)\n",
      "        (2): LeakyReLU (0.01)\n",
      "        (3): MaxPool2d (size=(4, 4), stride=(4, 4), dilation=(1, 1))\n",
      "      )\n",
      "      (avgpool): AvgPool2d (size=4, stride=4, padding=0, ceil_mode=False, count_include_pad=True)\n",
      "    )\n",
      "    (1): Dropout (p = 0.6)\n",
      "    (2): ConvCNN (\n",
      "      (math): Sequential (\n",
      "        (0): Conv2d(64, 64, kernel_size=(5, 5), stride=(1, 1), padding=(2, 2))\n",
      "        (1): BatchNorm2d(64, eps=1e-05, momentum=0.1, affine=True)\n",
      "        (2): LeakyReLU (0.01)\n",
      "        (3): MaxPool2d (size=(2, 2), stride=(2, 2), dilation=(1, 1))\n",
      "      )\n",
      "      (avgpool): AvgPool2d (size=2, stride=2, padding=0, ceil_mode=False, count_include_pad=True)\n",
      "    )\n",
      "    (3): ConvCNN (\n",
      "      (math): Sequential (\n",
      "        (0): Conv2d(64, 512, kernel_size=(5, 5), stride=(1, 1), padding=(2, 2))\n",
      "        (1): BatchNorm2d(512, eps=1e-05, momentum=0.1, affine=True)\n",
      "        (2): LeakyReLU (0.01)\n",
      "        (3): MaxPool2d (size=(2, 2), stride=(2, 2), dilation=(1, 1))\n",
      "      )\n",
      "      (avgpool): AvgPool2d (size=2, stride=2, padding=0, ceil_mode=False, count_include_pad=True)\n",
      "    )\n",
      "    (4): ConvRes (\n",
      "      (math): Sequential (\n",
      "        (0): BatchNorm2d(512, eps=1e-05, momentum=0.1, affine=True)\n",
      "        (1): Dropout (p = 0.3)\n",
      "        (2): Conv2d(512, 64, kernel_size=(2, 2), stride=(1, 1), padding=(2, 2))\n",
      "        (3): PReLU (1)\n",
      "      )\n",
      "    )\n",
      "  )\n",
      "  (classifier): Sequential (\n",
      "    (0): Linear (2304 -> 12)\n",
      "  )\n",
      ")\n"
     ]
    }
   ],
   "source": [
    "import torch\n",
    "import torch.nn as nn\n",
    "import torch.nn.functional as F\n",
    "import torch.optim as optim\n",
    "from torchvision import datasets, transforms\n",
    "from torch.autograd import Variable\n",
    "import math \n",
    "import torch\n",
    "import torch.nn as nn\n",
    "import torch.nn.functional as F\n",
    "from torch.autograd import Variable\n",
    "from collections import OrderedDict\n",
    "from torch.nn import init\n",
    "import numpy as np\n",
    "\n",
    "\n",
    "\n",
    "dropout = torch.nn.Dropout(p=0.60)\n",
    "relu=torch.nn.LeakyReLU()\n",
    "pool = nn.MaxPool2d(2, 2)\n",
    "\n",
    "class ConvRes(nn.Module):\n",
    "    def __init__(self,insize, outsize):\n",
    "        super(ConvRes, self).__init__()\n",
    "        drate = .3\n",
    "        self.math = nn.Sequential(\n",
    "                 nn.BatchNorm2d(insize),\n",
    "                 nn.Dropout(drate),\n",
    "                 torch.nn.Conv2d(insize, outsize, kernel_size=2,padding=2),\n",
    "                 nn.PReLU(),\n",
    "                )\n",
    "        \n",
    "    def forward(self, x):\n",
    "        return self.math(x) \n",
    "\n",
    "class ConvCNN(nn.Module):\n",
    "    def __init__(self,insize, outsize, kernel_size=7, padding=2, pool=2, avg=True):\n",
    "        super(ConvCNN, self).__init__()\n",
    "        self.avg=avg\n",
    "        self.math = torch.nn.Sequential(\n",
    "            torch.nn.Conv2d(insize, outsize, kernel_size=kernel_size,padding=padding),\n",
    "            torch.nn.BatchNorm2d(outsize),\n",
    "            torch.nn.LeakyReLU(),\n",
    "            torch.nn.MaxPool2d(pool,pool),\n",
    "        )\n",
    "        self.avgpool=torch.nn.AvgPool2d(pool,pool)\n",
    "        \n",
    "    def forward(self, x):\n",
    "        x=self.math(x)\n",
    "        if self.avg is True:\n",
    "            x=self.avgpool(x)\n",
    "        return x   \n",
    "        \n",
    "class SimpleNet(nn.Module):\n",
    "    def __init__(self):\n",
    "        super(SimpleNet, self).__init__()        \n",
    "        \n",
    "        self.avgpool = nn.AdaptiveAvgPool2d(1)\n",
    "        \n",
    "        self.cnn1 = ConvCNN (3,64,  kernel_size=7, pool=4, avg=False)\n",
    "        self.cnn2 = ConvCNN (64,64, kernel_size=5, pool=2, avg=True)\n",
    "        self.cnn3 = ConvCNN (64,512, kernel_size=5, pool=2, avg=True)\n",
    "        \n",
    "        self.res1 = ConvRes (512,64)\n",
    "        \n",
    "        self.features = nn.Sequential( \n",
    "            self.cnn1,dropout,          \n",
    "            self.cnn2,\n",
    "            self.cnn3,\n",
    "            self.res1,\n",
    "        )        \n",
    "        \n",
    "        self.classifier = torch.nn.Sequential(\n",
    "            nn.Linear(2304, len(classes)),             \n",
    "        )\n",
    "#         self.sig=nn.Sigmoid()        \n",
    "            \n",
    "    def forward(self, x):\n",
    "        x = self.features(x) \n",
    "        x = x.view(x.size(0), -1)        \n",
    "#         print (x.data.shape)\n",
    "        x = self.classifier(x)                \n",
    "#         x = self.sig(x)\n",
    "        return x        \n",
    "\n",
    "model = SimpleNet()\n",
    "# model = senetXX_generic(1, 3, 16)\n",
    "if use_cuda:\n",
    "    model = model.cuda()\n",
    "criterion = torch.nn.CrossEntropyLoss()\n",
    "optimizer = torch.optim.Adam(model.parameters(), lr= 0.00005 * 2 * 2)\n",
    "\n",
    "if use_cuda:\n",
    "    model = model.cuda()\n",
    "print (model)"
   ]
  },
  {
   "cell_type": "markdown",
   "metadata": {},
   "source": [
    "# Metrics and Tensorboard"
   ]
  },
  {
   "cell_type": "code",
   "execution_count": 11,
   "metadata": {
    "collapsed": true
   },
   "outputs": [],
   "source": [
    "import datetime \n",
    "try:\n",
    "    from pycrayon import CrayonClient\n",
    "except ImportError:\n",
    "    CrayonClient = None\n",
    "\n",
    "# tensorboad\n",
    "use_tensorboard = False\n",
    "# use_tensorboard = True and CrayonClient is not None\n",
    "\n",
    "if use_tensorboard == True:\n",
    "    cc = CrayonClient(hostname='http://192.168.1.2') # point to where you installed Crayon\n",
    "#     cc.remove_all_experiments()\n",
    "    \n",
    "model_name = (type(model).__name__)\n",
    "exp_name = datetime.datetime.now().strftime(model_name + '_' + 'bone' + '_%Y-%m-%d_%H-%M-%S')\n",
    "if use_tensorboard == True:\n",
    "    exp = cc.create_experiment(exp_name)    \n",
    "    \n",
    "\n",
    "class AverageMeter(object):\n",
    "    \"\"\"Computes and stores the average and current value\"\"\"\n",
    "\n",
    "    def __init__(self):\n",
    "        self.reset()\n",
    "\n",
    "    def reset(self):\n",
    "        self.val = 0\n",
    "        self.avg = 0\n",
    "        self.sum = 0\n",
    "        self.count = 0\n",
    "\n",
    "    def update(self, val, n=1):\n",
    "        self.val = val\n",
    "        self.sum += val * n\n",
    "        self.count += n\n",
    "        self.avg = self.sum / self.count\n",
    "\n",
    "def accuracy2(y_pred, y_actual, topk=(1, )):\n",
    "    \"\"\"Computes the precision@k for the specified values of k\"\"\"\n",
    "    maxk = max(topk)\n",
    "    batch_size = y_actual.size(0)\n",
    "\n",
    "    _, pred = y_pred.topk(maxk, 1, True, True)\n",
    "    pred = pred.t()\n",
    "    correct = pred.eq(y_actual.view(1, -1).expand_as(pred))\n",
    "\n",
    "    res = []\n",
    "    for k in topk:\n",
    "        correct_k = correct[:k].view(-1).float().sum(0)\n",
    "        res.append(correct_k.mul_(100.0 / batch_size))\n",
    "\n",
    "    return res\n",
    "        "
   ]
  },
  {
   "cell_type": "markdown",
   "metadata": {
    "_cell_guid": "0cd8c571-5d93-42b6-9ef0-9c16b6d43ef7",
    "_uuid": "1257d2cc10e64019a8ca94c814d4e179a45e04cd"
   },
   "source": [
    "### Training"
   ]
  },
  {
   "cell_type": "code",
   "execution_count": 12,
   "metadata": {
    "_cell_guid": "f2cd5d63-c765-476a-9258-0152d8a06360",
    "_uuid": "d5ecfa57978ed8afd52e1551f6f5688ce9e16a5c"
   },
   "outputs": [],
   "source": [
    "from tqdm import tqdm \n",
    "from sklearn import metrics\n",
    "import torch\n",
    "import numpy as np\n",
    "from sklearn import cross_validation\n",
    "from sklearn import metrics\n",
    "from sklearn.metrics import roc_auc_score, log_loss, roc_auc_score, roc_curve, auc\n",
    "\n",
    "def train(train_loader, model, epoch, optimizer):\n",
    "    if use_cuda:\n",
    "        model.cuda()\n",
    "        criterion.cuda()\n",
    "\n",
    "    batch_time = AverageMeter()\n",
    "    data_time = AverageMeter()\n",
    "    losses = AverageMeter()\n",
    "    acc = AverageMeter()\n",
    "   \n",
    "    # switch to train mode\n",
    "    model.train()\n",
    "\n",
    "    end = time.time()\n",
    "    for batch_idx, (images, target) in enumerate(train_loader): \n",
    "        correct = 0\n",
    "        # measure data loading time\n",
    "        data_time.update(time.time() - end)\n",
    "\n",
    "        if use_cuda:\n",
    "            images, target = images.cuda(), target.cuda()\n",
    "            images, target = Variable(images), Variable(target)\n",
    "        # compute y_pred\n",
    "        y_pred = model(images)\n",
    "        loss = criterion(y_pred, target)\n",
    "\n",
    "        # measure accuracy and record loss\n",
    "        prec1, prec1 = accuracy2(y_pred.data, target.data, topk=(1, 1))\n",
    "        losses.update(loss.data[0], images.size(0))\n",
    "        acc.update(prec1[0], images.size(0))\n",
    "        \n",
    "        pred = y_pred.data.max(1)[1] # get the index of the max log-probability\n",
    "        correct += pred.eq(target.data).cpu().sum()\n",
    "        accuracy = 100. * correct / len(images)\n",
    "        \n",
    "        # compute gradient and do SGD step\n",
    "        optimizer.zero_grad()\n",
    "        loss.backward()\n",
    "        optimizer.step()\n",
    "\n",
    "        # measure elapsed time\n",
    "        batch_time.update(time.time() - end)\n",
    "        end = time.time()\n",
    "\n",
    "        if batch_idx % 100  == 0:\n",
    "            print('TRAIN: LOSS-->{loss.val:.4f} ({loss.avg:.4f})\\t' 'ACC-->{acc.val:.3f}% ({acc.avg:.3f}%)'.format(loss=losses, acc=acc))\n",
    "            if use_tensorboard:\n",
    "                exp.add_scalar_value('tr_epoch_loss', losses.avg, step=epoch)\n",
    "                exp.add_scalar_value('tr_epoch_acc', acc.avg, step=epoch)\n",
    "                \n",
    "            print('TRAIN: {} [{}/{} ({:.0f}%)]\\tLoss: {:.6f}, Accuracy: {}/{} ({:.3f}%)'.format(\n",
    "                epoch, batch_idx * len(images), len(train_loader.dataset),\n",
    "                100. * batch_idx / len(train_loader), loss.data[0],\n",
    "                correct, len(images),\n",
    "                accuracy))            \n",
    "    \n",
    "\n",
    "    return float('{loss.avg:.4f}'.format(loss=losses)), float('{acc.avg:.4f}'.format(acc=acc))\n",
    "\n",
    "def validate(val_loader, model, epoch):\n",
    "    if use_cuda:\n",
    "        model.cuda()\n",
    "        criterion.cuda()\n",
    "\n",
    "    batch_time = AverageMeter()\n",
    "    losses = AverageMeter()\n",
    "    acc = AverageMeter()\n",
    "\n",
    "    # switch to evaluate mode\n",
    "    model.eval()\n",
    "\n",
    "    end = time.time()\n",
    "    for i, (images, labels) in enumerate(val_loader):\n",
    "\n",
    "        if use_cuda:\n",
    "            images, labels = images.cuda(), labels.cuda()\n",
    "            images, labels = Variable(images, volatile=True), Variable(labels)\n",
    "\n",
    "        # compute y_pred\n",
    "        y_pred = model(images)\n",
    "        loss = criterion(y_pred, labels)\n",
    "\n",
    "        # measure accuracy and record loss\n",
    "        prec1, temp_var = accuracy2(y_pred.data, labels.data, topk=(1, 1))\n",
    "        losses.update(loss.data[0], images.size(0))\n",
    "        acc.update(prec1[0], images.size(0))\n",
    "\n",
    "        # measure elapsed time\n",
    "        batch_time.update(time.time() - end)\n",
    "        end = time.time()\n",
    "\n",
    "        if i % 100== 0:\n",
    "            print('VAL:   LOSS--> {loss.val:.4f} ({loss.avg:.4f})\\t''ACC-->{acc.val:.3f} ({acc.avg:.3f})'.format(loss=losses, acc=acc))\n",
    "\n",
    "        if i % 50 == 0:\n",
    "            if use_tensorboard:\n",
    "                exp.add_scalar_value('val_epoch_loss', losses.avg, step=epoch)\n",
    "                exp.add_scalar_value('val_epoch_acc', acc.avg, step=epoch)\n",
    "\n",
    "    print(' * Accuracy {acc.avg:.4f}'.format(acc=acc))\n",
    "    return float('{loss.avg:.6f}'.format(loss=losses)), float('{acc.avg:.6f}'.format(acc=acc))\n",
    "\n",
    "test_trans = valid_trans\n",
    "test_data_dir = 'd:/db/data/seedings/test/'\n",
    "\n",
    "def testImageLoader(image_name):\n",
    "    \"\"\"load image, returns cuda tensor\"\"\"\n",
    "#     image = Image.open(image_name)\n",
    "    image = Image.open(image_name).convert('RGB')\n",
    "    image = test_trans(image)\n",
    "#     image = Variable(image, requires_grad=True)\n",
    "    image = image.unsqueeze(0)  \n",
    "    if use_cuda:\n",
    "#         print (\"cuda\")\n",
    "        image.cuda()         \n",
    "    return image  \n",
    "\n",
    "def testModel(test_dir, local_model):    \n",
    "    if use_cuda:\n",
    "        local_model.cuda()\n",
    "    \n",
    "    local_model.eval()\n",
    "    \n",
    "    columns = ['file', 'species']\n",
    "    df_pred = pd.DataFrame(data=np.zeros((0, len(columns))), columns=columns)\n",
    "#     df_pred.species.astype(int)\n",
    "    for index, row in (sample_submission.iterrows()):\n",
    "#         for file in os.listdir(test_dir):            \n",
    "        currImage=os.path.join(test_dir, row['file'])\n",
    "        if os.path.isfile(currImage):\n",
    "            X_tensor_test=testImageLoader (currImage)            \n",
    "#             print (type(X_tensor_test))\n",
    "            if use_cuda:\n",
    "                X_tensor_test = Variable(X_tensor_test.cuda()) \n",
    "            else:\n",
    "                X_tensor_test = Variable(X_tensor_test)        \n",
    "            \n",
    "            # get the index of the max log-probability\n",
    "            predicted_val = (local_model(X_tensor_test)).data.max(1)[1] # get the index of the max log-probability\n",
    "#             predicted_val = predicted_val.data.max(1, keepdim=True)[1]\n",
    "            p_test = (predicted_val.cpu().numpy().item())\n",
    "            df_pred = df_pred.append({'file': row['file'], 'species': num_to_class[int(p_test)]}, ignore_index=True)             \n",
    "    \n",
    "    return df_pred"
   ]
  },
  {
   "cell_type": "markdown",
   "metadata": {
    "_cell_guid": "7b939262-bef9-4384-9e65-1c6f19b0e7af",
    "_uuid": "c89aec6e431baa5ad878aa07c30faef161dea697"
   },
   "source": [
    "### Train the model"
   ]
  },
  {
   "cell_type": "code",
   "execution_count": 13,
   "metadata": {
    "_cell_guid": "c75d0756-757e-4cdb-b3e3-43d0ae2110eb",
    "_uuid": "56b469e006382a0c93c7ce30b7976783257762b9"
   },
   "outputs": [
    {
     "name": "stdout",
     "output_type": "stream",
     "text": [
      "MODEL: SimpleNet\n"
     ]
    },
    {
     "name": "stderr",
     "output_type": "stream",
     "text": [
      "\r",
      "  0%|                                                                                          | 0/150 [00:00<?, ?it/s]"
     ]
    },
    {
     "name": "stdout",
     "output_type": "stream",
     "text": [
      "TRAIN: LOSS-->2.1419 (2.1419)\tACC-->18.750% (18.750%)\n",
      "TRAIN: 0 [0/4038 (0%)]\tLoss: 2.141867, Accuracy: 3/16 (18.750%)\n",
      "TRAIN: LOSS-->2.2403 (2.1578)\tACC-->18.750% (26.423%)\n",
      "TRAIN: 0 [1600/4038 (40%)]\tLoss: 2.240259, Accuracy: 3/16 (18.750%)\n",
      "TRAIN: LOSS-->1.5785 (2.0903)\tACC-->50.000% (28.887%)\n",
      "TRAIN: 0 [3200/4038 (79%)]\tLoss: 1.578460, Accuracy: 8/16 (50.000%)\n",
      "VAL:   LOSS--> 1.9431 (1.9431)\tACC-->12.500 (12.500)\n",
      " * Accuracy 43.1180\n"
     ]
    },
    {
     "name": "stderr",
     "output_type": "stream",
     "text": [
      "\r",
      "  1%|▌                                                                               | 1/150 [00:54<2:16:12, 54.85s/it]"
     ]
    },
    {
     "name": "stdout",
     "output_type": "stream",
     "text": [
      "TRAIN: LOSS-->2.6763 (2.6763)\tACC-->25.000% (25.000%)\n",
      "TRAIN: 1 [0/4038 (0%)]\tLoss: 2.676314, Accuracy: 4/16 (25.000%)\n",
      "TRAIN: LOSS-->1.9208 (1.9522)\tACC-->31.250% (33.106%)\n",
      "TRAIN: 1 [1600/4038 (40%)]\tLoss: 1.920820, Accuracy: 5/16 (31.250%)\n",
      "TRAIN: LOSS-->1.8150 (1.9051)\tACC-->31.250% (34.950%)\n",
      "TRAIN: 1 [3200/4038 (79%)]\tLoss: 1.814955, Accuracy: 5/16 (31.250%)\n",
      "VAL:   LOSS--> 1.3720 (1.3720)\tACC-->56.250 (56.250)\n",
      " * Accuracy 45.9270\n"
     ]
    },
    {
     "name": "stderr",
     "output_type": "stream",
     "text": [
      "\r",
      "  1%|█                                                                               | 2/150 [01:49<2:15:27, 54.91s/it]"
     ]
    },
    {
     "name": "stdout",
     "output_type": "stream",
     "text": [
      "TRAIN: LOSS-->2.1656 (2.1656)\tACC-->31.250% (31.250%)\n",
      "TRAIN: 2 [0/4038 (0%)]\tLoss: 2.165639, Accuracy: 5/16 (31.250%)\n",
      "TRAIN: LOSS-->1.5016 (1.8207)\tACC-->37.500% (39.047%)\n",
      "TRAIN: 2 [1600/4038 (40%)]\tLoss: 1.501622, Accuracy: 6/16 (37.500%)\n",
      "TRAIN: LOSS-->1.9455 (1.7823)\tACC-->25.000% (39.863%)\n",
      "TRAIN: 2 [3200/4038 (79%)]\tLoss: 1.945530, Accuracy: 4/16 (25.000%)\n",
      "VAL:   LOSS--> 1.1089 (1.1089)\tACC-->56.250 (56.250)\n",
      " * Accuracy 55.3371\n"
     ]
    },
    {
     "name": "stderr",
     "output_type": "stream",
     "text": [
      "\r",
      "  2%|█▌                                                                              | 3/150 [02:44<2:14:31, 54.91s/it]"
     ]
    },
    {
     "name": "stdout",
     "output_type": "stream",
     "text": [
      "TRAIN: LOSS-->1.3969 (1.3969)\tACC-->56.250% (56.250%)\n",
      "TRAIN: 3 [0/4038 (0%)]\tLoss: 1.396856, Accuracy: 9/16 (56.250%)\n",
      "TRAIN: LOSS-->1.6744 (1.6826)\tACC-->31.250% (43.193%)\n",
      "TRAIN: 3 [1600/4038 (40%)]\tLoss: 1.674416, Accuracy: 5/16 (31.250%)\n",
      "TRAIN: LOSS-->1.4399 (1.6825)\tACC-->43.750% (42.973%)\n",
      "TRAIN: 3 [3200/4038 (79%)]\tLoss: 1.439904, Accuracy: 7/16 (43.750%)\n",
      "VAL:   LOSS--> 1.2290 (1.2290)\tACC-->68.750 (68.750)\n",
      " * Accuracy 66.5730\n"
     ]
    },
    {
     "name": "stderr",
     "output_type": "stream",
     "text": [
      "\r",
      "  3%|██▏                                                                             | 4/150 [03:39<2:13:35, 54.90s/it]"
     ]
    },
    {
     "name": "stdout",
     "output_type": "stream",
     "text": [
      "TRAIN: LOSS-->1.8092 (1.8092)\tACC-->25.000% (25.000%)\n",
      "TRAIN: 4 [0/4038 (0%)]\tLoss: 1.809249, Accuracy: 4/16 (25.000%)\n",
      "TRAIN: LOSS-->1.6838 (1.6471)\tACC-->56.250% (45.359%)\n",
      "TRAIN: 4 [1600/4038 (40%)]\tLoss: 1.683824, Accuracy: 9/16 (56.250%)\n",
      "TRAIN: LOSS-->1.7082 (1.6279)\tACC-->37.500% (45.678%)\n",
      "TRAIN: 4 [3200/4038 (79%)]\tLoss: 1.708161, Accuracy: 6/16 (37.500%)\n",
      "VAL:   LOSS--> 1.4292 (1.4292)\tACC-->37.500 (37.500)\n",
      " * Accuracy 57.0225\n"
     ]
    },
    {
     "name": "stderr",
     "output_type": "stream",
     "text": [
      "\r",
      "  3%|██▋                                                                             | 5/150 [04:34<2:12:37, 54.88s/it]"
     ]
    },
    {
     "name": "stdout",
     "output_type": "stream",
     "text": [
      "TRAIN: LOSS-->1.2661 (1.2661)\tACC-->56.250% (56.250%)\n",
      "TRAIN: 5 [0/4038 (0%)]\tLoss: 1.266087, Accuracy: 9/16 (56.250%)\n",
      "TRAIN: LOSS-->1.6237 (1.5409)\tACC-->50.000% (50.124%)\n",
      "TRAIN: 5 [1600/4038 (40%)]\tLoss: 1.623691, Accuracy: 8/16 (50.000%)\n",
      "TRAIN: LOSS-->1.5687 (1.5292)\tACC-->37.500% (49.813%)\n",
      "TRAIN: 5 [3200/4038 (79%)]\tLoss: 1.568739, Accuracy: 6/16 (37.500%)\n",
      "VAL:   LOSS--> 1.1834 (1.1834)\tACC-->50.000 (50.000)\n",
      " * Accuracy 64.6067\n"
     ]
    },
    {
     "name": "stderr",
     "output_type": "stream",
     "text": [
      "\r",
      "  4%|███▏                                                                            | 6/150 [05:29<2:11:41, 54.87s/it]"
     ]
    },
    {
     "name": "stdout",
     "output_type": "stream",
     "text": [
      "TRAIN: LOSS-->1.4170 (1.4170)\tACC-->62.500% (62.500%)\n",
      "TRAIN: 6 [0/4038 (0%)]\tLoss: 1.417023, Accuracy: 10/16 (62.500%)\n",
      "TRAIN: LOSS-->1.9285 (1.5287)\tACC-->56.250% (49.691%)\n",
      "TRAIN: 6 [1600/4038 (40%)]\tLoss: 1.928530, Accuracy: 9/16 (56.250%)\n",
      "TRAIN: LOSS-->1.7578 (1.5267)\tACC-->25.000% (49.845%)\n",
      "TRAIN: 6 [3200/4038 (79%)]\tLoss: 1.757843, Accuracy: 4/16 (25.000%)\n",
      "VAL:   LOSS--> 1.3565 (1.3565)\tACC-->50.000 (50.000)\n",
      " * Accuracy 67.2753\n"
     ]
    },
    {
     "name": "stderr",
     "output_type": "stream",
     "text": [
      "\r",
      "  5%|███▋                                                                            | 7/150 [06:24<2:10:47, 54.88s/it]"
     ]
    },
    {
     "name": "stdout",
     "output_type": "stream",
     "text": [
      "TRAIN: LOSS-->1.7237 (1.7237)\tACC-->31.250% (31.250%)\n",
      "TRAIN: 7 [0/4038 (0%)]\tLoss: 1.723716, Accuracy: 5/16 (31.250%)\n",
      "TRAIN: LOSS-->1.5331 (1.4706)\tACC-->43.750% (49.072%)\n",
      "TRAIN: 7 [1600/4038 (40%)]\tLoss: 1.533102, Accuracy: 7/16 (43.750%)\n",
      "TRAIN: LOSS-->1.4808 (1.4541)\tACC-->50.000% (50.187%)\n",
      "TRAIN: 7 [3200/4038 (79%)]\tLoss: 1.480773, Accuracy: 8/16 (50.000%)\n",
      "VAL:   LOSS--> 1.1484 (1.1484)\tACC-->62.500 (62.500)\n",
      " * Accuracy 77.5281\n"
     ]
    },
    {
     "name": "stderr",
     "output_type": "stream",
     "text": [
      "\r",
      "  5%|████▎                                                                           | 8/150 [07:19<2:09:53, 54.89s/it]"
     ]
    },
    {
     "name": "stdout",
     "output_type": "stream",
     "text": [
      "TRAIN: LOSS-->1.4456 (1.4456)\tACC-->56.250% (56.250%)\n",
      "TRAIN: 8 [0/4038 (0%)]\tLoss: 1.445578, Accuracy: 9/16 (56.250%)\n",
      "TRAIN: LOSS-->1.6364 (1.4423)\tACC-->50.000% (52.166%)\n",
      "TRAIN: 8 [1600/4038 (40%)]\tLoss: 1.636387, Accuracy: 8/16 (50.000%)\n",
      "TRAIN: LOSS-->1.5402 (1.4414)\tACC-->43.750% (51.710%)\n",
      "TRAIN: 8 [3200/4038 (79%)]\tLoss: 1.540243, Accuracy: 7/16 (43.750%)\n",
      "VAL:   LOSS--> 1.0493 (1.0493)\tACC-->50.000 (50.000)\n",
      " * Accuracy 66.7135\n"
     ]
    },
    {
     "name": "stderr",
     "output_type": "stream",
     "text": [
      "\r",
      "  6%|████▊                                                                           | 9/150 [08:13<2:08:58, 54.88s/it]"
     ]
    },
    {
     "name": "stdout",
     "output_type": "stream",
     "text": [
      "TRAIN: LOSS-->1.0294 (1.0294)\tACC-->68.750% (68.750%)\n",
      "TRAIN: 9 [0/4038 (0%)]\tLoss: 1.029408, Accuracy: 11/16 (68.750%)\n",
      "TRAIN: LOSS-->1.9521 (1.3735)\tACC-->37.500% (53.837%)\n",
      "TRAIN: 9 [1600/4038 (40%)]\tLoss: 1.952093, Accuracy: 6/16 (37.500%)\n",
      "TRAIN: LOSS-->1.0234 (1.3672)\tACC-->68.750% (54.042%)\n",
      "TRAIN: 9 [3200/4038 (79%)]\tLoss: 1.023421, Accuracy: 11/16 (68.750%)\n",
      "VAL:   LOSS--> 0.6909 (0.6909)\tACC-->68.750 (68.750)\n",
      " * Accuracy 75.7022\n"
     ]
    },
    {
     "name": "stderr",
     "output_type": "stream",
     "text": [
      "\r",
      "  7%|█████▎                                                                         | 10/150 [09:08<2:08:01, 54.87s/it]"
     ]
    },
    {
     "name": "stdout",
     "output_type": "stream",
     "text": [
      "TRAIN: LOSS-->1.2000 (1.2000)\tACC-->50.000% (50.000%)\n",
      "TRAIN: 10 [0/4038 (0%)]\tLoss: 1.199963, Accuracy: 8/16 (50.000%)\n",
      "TRAIN: LOSS-->1.2241 (1.3296)\tACC-->50.000% (55.446%)\n",
      "TRAIN: 10 [1600/4038 (40%)]\tLoss: 1.224088, Accuracy: 8/16 (50.000%)\n",
      "TRAIN: LOSS-->1.7323 (1.3380)\tACC-->50.000% (55.006%)\n",
      "TRAIN: 10 [3200/4038 (79%)]\tLoss: 1.732318, Accuracy: 8/16 (50.000%)\n",
      "VAL:   LOSS--> 0.4952 (0.4952)\tACC-->81.250 (81.250)\n",
      " * Accuracy 78.9326\n"
     ]
    },
    {
     "name": "stderr",
     "output_type": "stream",
     "text": [
      "\r",
      "  7%|█████▊                                                                         | 11/150 [10:03<2:07:05, 54.86s/it]"
     ]
    },
    {
     "name": "stdout",
     "output_type": "stream",
     "text": [
      "TRAIN: LOSS-->1.0282 (1.0282)\tACC-->68.750% (68.750%)\n",
      "TRAIN: 11 [0/4038 (0%)]\tLoss: 1.028181, Accuracy: 11/16 (68.750%)\n",
      "TRAIN: LOSS-->1.2571 (1.2927)\tACC-->43.750% (56.931%)\n",
      "TRAIN: 11 [1600/4038 (40%)]\tLoss: 1.257137, Accuracy: 7/16 (43.750%)\n",
      "TRAIN: LOSS-->1.8707 (1.2901)\tACC-->43.750% (56.312%)\n",
      "TRAIN: 11 [3200/4038 (79%)]\tLoss: 1.870703, Accuracy: 7/16 (43.750%)\n",
      "VAL:   LOSS--> 0.7001 (0.7001)\tACC-->81.250 (81.250)\n",
      " * Accuracy 79.2135\n"
     ]
    },
    {
     "name": "stderr",
     "output_type": "stream",
     "text": [
      "\r",
      "  8%|██████▎                                                                        | 12/150 [10:58<2:06:09, 54.85s/it]"
     ]
    },
    {
     "name": "stdout",
     "output_type": "stream",
     "text": [
      "TRAIN: LOSS-->1.4420 (1.4420)\tACC-->56.250% (56.250%)\n",
      "TRAIN: 12 [0/4038 (0%)]\tLoss: 1.441952, Accuracy: 9/16 (56.250%)\n",
      "TRAIN: LOSS-->2.1378 (1.2460)\tACC-->43.750% (57.797%)\n",
      "TRAIN: 12 [1600/4038 (40%)]\tLoss: 2.137845, Accuracy: 7/16 (43.750%)\n",
      "TRAIN: LOSS-->1.1969 (1.2355)\tACC-->56.250% (58.178%)\n",
      "TRAIN: 12 [3200/4038 (79%)]\tLoss: 1.196853, Accuracy: 9/16 (56.250%)\n",
      "VAL:   LOSS--> 0.5276 (0.5276)\tACC-->87.500 (87.500)\n",
      " * Accuracy 79.0730\n"
     ]
    },
    {
     "name": "stderr",
     "output_type": "stream",
     "text": [
      "\r",
      "  9%|██████▊                                                                        | 13/150 [11:53<2:05:14, 54.85s/it]"
     ]
    },
    {
     "name": "stdout",
     "output_type": "stream",
     "text": [
      "TRAIN: LOSS-->1.6063 (1.6063)\tACC-->37.500% (37.500%)\n",
      "TRAIN: 13 [0/4038 (0%)]\tLoss: 1.606254, Accuracy: 6/16 (37.500%)\n",
      "TRAIN: LOSS-->1.4893 (1.1986)\tACC-->50.000% (60.210%)\n",
      "TRAIN: 13 [1600/4038 (40%)]\tLoss: 1.489274, Accuracy: 8/16 (50.000%)\n",
      "TRAIN: LOSS-->1.4828 (1.2206)\tACC-->56.250% (58.396%)\n",
      "TRAIN: 13 [3200/4038 (79%)]\tLoss: 1.482830, Accuracy: 9/16 (56.250%)\n",
      "VAL:   LOSS--> 0.6459 (0.6459)\tACC-->75.000 (75.000)\n",
      " * Accuracy 73.1742\n"
     ]
    },
    {
     "name": "stderr",
     "output_type": "stream",
     "text": [
      "\r",
      "  9%|███████▎                                                                       | 14/150 [12:47<2:04:19, 54.85s/it]"
     ]
    },
    {
     "name": "stdout",
     "output_type": "stream",
     "text": [
      "TRAIN: LOSS-->0.6641 (0.6641)\tACC-->87.500% (87.500%)\n",
      "TRAIN: 14 [0/4038 (0%)]\tLoss: 0.664074, Accuracy: 14/16 (87.500%)\n",
      "TRAIN: LOSS-->1.1481 (1.1333)\tACC-->56.250% (62.624%)\n",
      "TRAIN: 14 [1600/4038 (40%)]\tLoss: 1.148060, Accuracy: 9/16 (56.250%)\n",
      "TRAIN: LOSS-->1.1641 (1.1793)\tACC-->68.750% (60.852%)\n",
      "TRAIN: 14 [3200/4038 (79%)]\tLoss: 1.164120, Accuracy: 11/16 (68.750%)\n",
      "VAL:   LOSS--> 0.5285 (0.5285)\tACC-->93.750 (93.750)\n",
      " * Accuracy 79.9157\n"
     ]
    },
    {
     "name": "stderr",
     "output_type": "stream",
     "text": [
      "\r",
      " 10%|███████▉                                                                       | 15/150 [13:42<2:03:24, 54.85s/it]"
     ]
    },
    {
     "name": "stdout",
     "output_type": "stream",
     "text": [
      "TRAIN: LOSS-->1.4429 (1.4429)\tACC-->50.000% (50.000%)\n",
      "TRAIN: 15 [0/4038 (0%)]\tLoss: 1.442902, Accuracy: 8/16 (50.000%)\n",
      "TRAIN: LOSS-->0.7783 (1.1635)\tACC-->75.000% (60.087%)\n",
      "TRAIN: 15 [1600/4038 (40%)]\tLoss: 0.778314, Accuracy: 12/16 (75.000%)\n",
      "TRAIN: LOSS-->1.3480 (1.1624)\tACC-->68.750% (61.163%)\n",
      "TRAIN: 15 [3200/4038 (79%)]\tLoss: 1.347995, Accuracy: 11/16 (68.750%)\n",
      "VAL:   LOSS--> 0.4428 (0.4428)\tACC-->81.250 (81.250)\n",
      " * Accuracy 83.9888\n"
     ]
    },
    {
     "name": "stderr",
     "output_type": "stream",
     "text": [
      "\r",
      " 11%|████████▍                                                                      | 16/150 [14:37<2:02:28, 54.84s/it]"
     ]
    },
    {
     "name": "stdout",
     "output_type": "stream",
     "text": [
      "TRAIN: LOSS-->0.9406 (0.9406)\tACC-->68.750% (68.750%)\n",
      "TRAIN: 16 [0/4038 (0%)]\tLoss: 0.940642, Accuracy: 11/16 (68.750%)\n",
      "TRAIN: LOSS-->0.8805 (1.1229)\tACC-->68.750% (61.015%)\n",
      "TRAIN: 16 [1600/4038 (40%)]\tLoss: 0.880491, Accuracy: 11/16 (68.750%)\n",
      "TRAIN: LOSS-->1.2127 (1.1436)\tACC-->43.750% (60.448%)\n",
      "TRAIN: 16 [3200/4038 (79%)]\tLoss: 1.212653, Accuracy: 7/16 (43.750%)\n",
      "VAL:   LOSS--> 0.4102 (0.4102)\tACC-->87.500 (87.500)\n",
      " * Accuracy 83.0056\n"
     ]
    },
    {
     "name": "stderr",
     "output_type": "stream",
     "text": [
      "\r",
      " 11%|████████▉                                                                      | 17/150 [15:32<2:01:33, 54.84s/it]"
     ]
    },
    {
     "name": "stdout",
     "output_type": "stream",
     "text": [
      "TRAIN: LOSS-->0.9081 (0.9081)\tACC-->68.750% (68.750%)\n",
      "TRAIN: 17 [0/4038 (0%)]\tLoss: 0.908113, Accuracy: 11/16 (68.750%)\n",
      "TRAIN: LOSS-->1.1624 (1.1351)\tACC-->50.000% (62.438%)\n",
      "TRAIN: 17 [1600/4038 (40%)]\tLoss: 1.162368, Accuracy: 8/16 (50.000%)\n",
      "TRAIN: LOSS-->1.4448 (1.1324)\tACC-->50.000% (61.723%)\n",
      "TRAIN: 17 [3200/4038 (79%)]\tLoss: 1.444831, Accuracy: 8/16 (50.000%)\n",
      "VAL:   LOSS--> 0.3065 (0.3065)\tACC-->93.750 (93.750)\n",
      " * Accuracy 81.6011\n"
     ]
    },
    {
     "name": "stderr",
     "output_type": "stream",
     "text": [
      "\r",
      " 12%|█████████▍                                                                     | 18/150 [16:26<2:00:37, 54.83s/it]"
     ]
    },
    {
     "name": "stdout",
     "output_type": "stream",
     "text": [
      "TRAIN: LOSS-->1.2106 (1.2106)\tACC-->56.250% (56.250%)\n",
      "TRAIN: 18 [0/4038 (0%)]\tLoss: 1.210583, Accuracy: 9/16 (56.250%)\n",
      "TRAIN: LOSS-->1.5430 (1.1240)\tACC-->68.750% (62.129%)\n",
      "TRAIN: 18 [1600/4038 (40%)]\tLoss: 1.542979, Accuracy: 11/16 (68.750%)\n",
      "TRAIN: LOSS-->0.8087 (1.1357)\tACC-->81.250% (62.096%)\n",
      "TRAIN: 18 [3200/4038 (79%)]\tLoss: 0.808679, Accuracy: 13/16 (81.250%)\n",
      "VAL:   LOSS--> 0.3118 (0.3118)\tACC-->100.000 (100.000)\n",
      " * Accuracy 85.9551\n"
     ]
    },
    {
     "name": "stderr",
     "output_type": "stream",
     "text": [
      "\r",
      " 13%|██████████                                                                     | 19/150 [17:21<1:59:42, 54.83s/it]"
     ]
    },
    {
     "name": "stdout",
     "output_type": "stream",
     "text": [
      "TRAIN: LOSS-->1.4752 (1.4752)\tACC-->50.000% (50.000%)\n",
      "TRAIN: 19 [0/4038 (0%)]\tLoss: 1.475213, Accuracy: 8/16 (50.000%)\n",
      "TRAIN: LOSS-->1.5246 (1.0986)\tACC-->56.250% (61.139%)\n",
      "TRAIN: 19 [1600/4038 (40%)]\tLoss: 1.524587, Accuracy: 9/16 (56.250%)\n",
      "TRAIN: LOSS-->1.2759 (1.0953)\tACC-->62.500% (61.723%)\n",
      "TRAIN: 19 [3200/4038 (79%)]\tLoss: 1.275852, Accuracy: 10/16 (62.500%)\n",
      "VAL:   LOSS--> 0.5478 (0.5478)\tACC-->87.500 (87.500)\n",
      " * Accuracy 80.0562\n"
     ]
    },
    {
     "name": "stderr",
     "output_type": "stream",
     "text": [
      "\r",
      " 13%|██████████▌                                                                    | 20/150 [18:16<1:58:47, 54.82s/it]"
     ]
    },
    {
     "name": "stdout",
     "output_type": "stream",
     "text": [
      "TRAIN: LOSS-->1.0909 (1.0909)\tACC-->62.500% (62.500%)\n",
      "TRAIN: 20 [0/4038 (0%)]\tLoss: 1.090883, Accuracy: 10/16 (62.500%)\n",
      "TRAIN: LOSS-->0.5266 (1.0637)\tACC-->81.250% (64.790%)\n",
      "TRAIN: 20 [1600/4038 (40%)]\tLoss: 0.526583, Accuracy: 13/16 (81.250%)\n",
      "TRAIN: LOSS-->1.0657 (1.0706)\tACC-->56.250% (64.148%)\n",
      "TRAIN: 20 [3200/4038 (79%)]\tLoss: 1.065727, Accuracy: 9/16 (56.250%)\n",
      "VAL:   LOSS--> 0.5465 (0.5465)\tACC-->81.250 (81.250)\n",
      " * Accuracy 85.1124\n"
     ]
    },
    {
     "name": "stderr",
     "output_type": "stream",
     "text": [
      "\r",
      " 14%|███████████                                                                    | 21/150 [19:11<1:57:52, 54.83s/it]"
     ]
    },
    {
     "name": "stdout",
     "output_type": "stream",
     "text": [
      "TRAIN: LOSS-->0.7581 (0.7581)\tACC-->68.750% (68.750%)\n",
      "TRAIN: 21 [0/4038 (0%)]\tLoss: 0.758089, Accuracy: 11/16 (68.750%)\n",
      "TRAIN: LOSS-->0.6990 (1.0490)\tACC-->81.250% (64.542%)\n",
      "TRAIN: 21 [1600/4038 (40%)]\tLoss: 0.699005, Accuracy: 13/16 (81.250%)\n",
      "TRAIN: LOSS-->1.0940 (1.0574)\tACC-->68.750% (64.521%)\n",
      "TRAIN: 21 [3200/4038 (79%)]\tLoss: 1.093963, Accuracy: 11/16 (68.750%)\n",
      "VAL:   LOSS--> 0.8407 (0.8407)\tACC-->56.250 (56.250)\n",
      " * Accuracy 76.9663\n"
     ]
    },
    {
     "name": "stderr",
     "output_type": "stream",
     "text": [
      "\r",
      " 15%|███████████▌                                                                   | 22/150 [20:06<1:56:57, 54.82s/it]"
     ]
    },
    {
     "name": "stdout",
     "output_type": "stream",
     "text": [
      "TRAIN: LOSS-->1.4364 (1.4364)\tACC-->68.750% (68.750%)\n",
      "TRAIN: 22 [0/4038 (0%)]\tLoss: 1.436359, Accuracy: 11/16 (68.750%)\n",
      "TRAIN: LOSS-->1.0148 (1.0898)\tACC-->56.250% (61.819%)\n",
      "TRAIN: 22 [1600/4038 (40%)]\tLoss: 1.014799, Accuracy: 9/16 (56.250%)\n",
      "TRAIN: LOSS-->0.7114 (1.0428)\tACC-->68.750% (63.806%)\n",
      "TRAIN: 22 [3200/4038 (79%)]\tLoss: 0.711396, Accuracy: 11/16 (68.750%)\n",
      "VAL:   LOSS--> 0.6132 (0.6132)\tACC-->75.000 (75.000)\n",
      " * Accuracy 81.8820\n"
     ]
    },
    {
     "name": "stderr",
     "output_type": "stream",
     "text": [
      "\r",
      " 15%|████████████                                                                   | 23/150 [21:00<1:56:01, 54.82s/it]"
     ]
    },
    {
     "name": "stdout",
     "output_type": "stream",
     "text": [
      "TRAIN: LOSS-->1.1366 (1.1366)\tACC-->68.750% (68.750%)\n",
      "TRAIN: 23 [0/4038 (0%)]\tLoss: 1.136601, Accuracy: 11/16 (68.750%)\n",
      "TRAIN: LOSS-->0.7282 (1.0681)\tACC-->75.000% (63.923%)\n",
      "TRAIN: 23 [1600/4038 (40%)]\tLoss: 0.728160, Accuracy: 12/16 (75.000%)\n",
      "TRAIN: LOSS-->1.1555 (1.0604)\tACC-->43.750% (63.713%)\n",
      "TRAIN: 23 [3200/4038 (79%)]\tLoss: 1.155456, Accuracy: 7/16 (43.750%)\n",
      "VAL:   LOSS--> 0.7340 (0.7340)\tACC-->68.750 (68.750)\n",
      " * Accuracy 81.3202\n"
     ]
    },
    {
     "name": "stderr",
     "output_type": "stream",
     "text": [
      "\r",
      " 16%|████████████▋                                                                  | 24/150 [21:55<1:55:06, 54.82s/it]"
     ]
    },
    {
     "name": "stdout",
     "output_type": "stream",
     "text": [
      "TRAIN: LOSS-->0.9338 (0.9338)\tACC-->75.000% (75.000%)\n",
      "TRAIN: 24 [0/4038 (0%)]\tLoss: 0.933765, Accuracy: 12/16 (75.000%)\n",
      "TRAIN: LOSS-->1.4789 (1.0401)\tACC-->56.250% (64.666%)\n",
      "TRAIN: 24 [1600/4038 (40%)]\tLoss: 1.478884, Accuracy: 9/16 (56.250%)\n",
      "TRAIN: LOSS-->0.6402 (0.9954)\tACC-->81.250% (65.485%)\n",
      "TRAIN: 24 [3200/4038 (79%)]\tLoss: 0.640176, Accuracy: 13/16 (81.250%)\n",
      "VAL:   LOSS--> 1.0755 (1.0755)\tACC-->75.000 (75.000)\n",
      " * Accuracy 76.6854\n"
     ]
    },
    {
     "name": "stderr",
     "output_type": "stream",
     "text": [
      "\r",
      " 17%|█████████████▏                                                                 | 25/150 [22:50<1:54:11, 54.81s/it]"
     ]
    },
    {
     "name": "stdout",
     "output_type": "stream",
     "text": [
      "TRAIN: LOSS-->0.7198 (0.7198)\tACC-->81.250% (81.250%)\n",
      "TRAIN: 25 [0/4038 (0%)]\tLoss: 0.719839, Accuracy: 13/16 (81.250%)\n",
      "TRAIN: LOSS-->1.2070 (0.9629)\tACC-->68.750% (68.255%)\n",
      "TRAIN: 25 [1600/4038 (40%)]\tLoss: 1.207028, Accuracy: 11/16 (68.750%)\n",
      "TRAIN: LOSS-->0.9995 (0.9760)\tACC-->56.250% (66.978%)\n",
      "TRAIN: 25 [3200/4038 (79%)]\tLoss: 0.999549, Accuracy: 9/16 (56.250%)\n",
      "VAL:   LOSS--> 0.7844 (0.7844)\tACC-->68.750 (68.750)\n",
      " * Accuracy 68.2584\n"
     ]
    },
    {
     "name": "stderr",
     "output_type": "stream",
     "text": [
      "\r",
      " 17%|█████████████▋                                                                 | 26/150 [23:45<1:53:16, 54.81s/it]"
     ]
    },
    {
     "name": "stdout",
     "output_type": "stream",
     "text": [
      "TRAIN: LOSS-->0.5952 (0.5952)\tACC-->81.250% (81.250%)\n",
      "TRAIN: 26 [0/4038 (0%)]\tLoss: 0.595189, Accuracy: 13/16 (81.250%)\n",
      "TRAIN: LOSS-->1.1792 (1.0117)\tACC-->56.250% (65.347%)\n",
      "TRAIN: 26 [1600/4038 (40%)]\tLoss: 1.179196, Accuracy: 9/16 (56.250%)\n",
      "TRAIN: LOSS-->1.0312 (0.9968)\tACC-->56.250% (66.573%)\n",
      "TRAIN: 26 [3200/4038 (79%)]\tLoss: 1.031177, Accuracy: 9/16 (56.250%)\n",
      "VAL:   LOSS--> 0.2440 (0.2440)\tACC-->93.750 (93.750)\n",
      " * Accuracy 87.2191\n"
     ]
    },
    {
     "name": "stderr",
     "output_type": "stream",
     "text": [
      "\r",
      " 18%|██████████████▏                                                                | 27/150 [24:39<1:52:21, 54.81s/it]"
     ]
    },
    {
     "name": "stdout",
     "output_type": "stream",
     "text": [
      "TRAIN: LOSS-->0.7144 (0.7144)\tACC-->81.250% (81.250%)\n",
      "TRAIN: 27 [0/4038 (0%)]\tLoss: 0.714444, Accuracy: 13/16 (81.250%)\n",
      "TRAIN: LOSS-->0.5625 (1.0061)\tACC-->87.500% (64.851%)\n",
      "TRAIN: 27 [1600/4038 (40%)]\tLoss: 0.562530, Accuracy: 14/16 (87.500%)\n",
      "TRAIN: LOSS-->0.5959 (0.9818)\tACC-->81.250% (66.045%)\n",
      "TRAIN: 27 [3200/4038 (79%)]\tLoss: 0.595940, Accuracy: 13/16 (81.250%)\n",
      "VAL:   LOSS--> 0.3339 (0.3339)\tACC-->93.750 (93.750)\n",
      " * Accuracy 86.2360\n"
     ]
    },
    {
     "name": "stderr",
     "output_type": "stream",
     "text": [
      "\r",
      " 19%|██████████████▋                                                                | 28/150 [25:34<1:51:26, 54.81s/it]"
     ]
    },
    {
     "name": "stdout",
     "output_type": "stream",
     "text": [
      "TRAIN: LOSS-->1.1074 (1.1074)\tACC-->68.750% (68.750%)\n",
      "TRAIN: 28 [0/4038 (0%)]\tLoss: 1.107371, Accuracy: 11/16 (68.750%)\n",
      "TRAIN: LOSS-->0.9330 (0.9708)\tACC-->75.000% (67.822%)\n",
      "TRAIN: 28 [1600/4038 (40%)]\tLoss: 0.933028, Accuracy: 12/16 (75.000%)\n",
      "TRAIN: LOSS-->0.6308 (0.9676)\tACC-->75.000% (67.942%)\n",
      "TRAIN: 28 [3200/4038 (79%)]\tLoss: 0.630771, Accuracy: 12/16 (75.000%)\n",
      "VAL:   LOSS--> 0.7903 (0.7903)\tACC-->75.000 (75.000)\n",
      " * Accuracy 75.4213\n"
     ]
    },
    {
     "name": "stderr",
     "output_type": "stream",
     "text": [
      "\r",
      " 19%|███████████████▎                                                               | 29/150 [26:29<1:50:31, 54.81s/it]"
     ]
    },
    {
     "name": "stdout",
     "output_type": "stream",
     "text": [
      "TRAIN: LOSS-->0.5029 (0.5029)\tACC-->87.500% (87.500%)\n",
      "TRAIN: 29 [0/4038 (0%)]\tLoss: 0.502942, Accuracy: 14/16 (87.500%)\n",
      "TRAIN: LOSS-->1.0151 (0.9709)\tACC-->68.750% (66.770%)\n",
      "TRAIN: 29 [1600/4038 (40%)]\tLoss: 1.015112, Accuracy: 11/16 (68.750%)\n",
      "TRAIN: LOSS-->1.0108 (0.9425)\tACC-->50.000% (67.786%)\n",
      "TRAIN: 29 [3200/4038 (79%)]\tLoss: 1.010809, Accuracy: 8/16 (50.000%)\n",
      "VAL:   LOSS--> 0.3219 (0.3219)\tACC-->87.500 (87.500)\n",
      " * Accuracy 84.2697\n"
     ]
    },
    {
     "name": "stderr",
     "output_type": "stream",
     "text": [
      "\r",
      " 20%|███████████████▊                                                               | 30/150 [27:24<1:49:36, 54.81s/it]"
     ]
    },
    {
     "name": "stdout",
     "output_type": "stream",
     "text": [
      "TRAIN: LOSS-->0.7764 (0.7764)\tACC-->68.750% (68.750%)\n",
      "TRAIN: 30 [0/4038 (0%)]\tLoss: 0.776383, Accuracy: 11/16 (68.750%)\n",
      "TRAIN: LOSS-->1.1268 (0.9277)\tACC-->75.000% (68.626%)\n",
      "TRAIN: 30 [1600/4038 (40%)]\tLoss: 1.126796, Accuracy: 12/16 (75.000%)\n",
      "TRAIN: LOSS-->1.0040 (0.9335)\tACC-->68.750% (68.439%)\n",
      "TRAIN: 30 [3200/4038 (79%)]\tLoss: 1.003953, Accuracy: 11/16 (68.750%)\n",
      "VAL:   LOSS--> 0.5901 (0.5901)\tACC-->62.500 (62.500)\n",
      " * Accuracy 83.1461\n"
     ]
    },
    {
     "name": "stderr",
     "output_type": "stream",
     "text": [
      "\r",
      " 21%|████████████████▎                                                              | 31/150 [28:18<1:48:41, 54.80s/it]"
     ]
    },
    {
     "name": "stdout",
     "output_type": "stream",
     "text": [
      "TRAIN: LOSS-->1.1232 (1.1232)\tACC-->62.500% (62.500%)\n",
      "TRAIN: 31 [0/4038 (0%)]\tLoss: 1.123157, Accuracy: 10/16 (62.500%)\n",
      "TRAIN: LOSS-->0.9778 (0.9518)\tACC-->68.750% (67.698%)\n",
      "TRAIN: 31 [1600/4038 (40%)]\tLoss: 0.977803, Accuracy: 11/16 (68.750%)\n",
      "TRAIN: LOSS-->0.4991 (0.9225)\tACC-->81.250% (68.408%)\n",
      "TRAIN: 31 [3200/4038 (79%)]\tLoss: 0.499115, Accuracy: 13/16 (81.250%)\n",
      "VAL:   LOSS--> 0.2808 (0.2808)\tACC-->87.500 (87.500)\n",
      " * Accuracy 87.2191\n"
     ]
    },
    {
     "name": "stderr",
     "output_type": "stream",
     "text": [
      "\r",
      " 21%|████████████████▊                                                              | 32/150 [29:13<1:47:46, 54.80s/it]"
     ]
    },
    {
     "name": "stdout",
     "output_type": "stream",
     "text": [
      "TRAIN: LOSS-->1.0944 (1.0944)\tACC-->62.500% (62.500%)\n",
      "TRAIN: 32 [0/4038 (0%)]\tLoss: 1.094409, Accuracy: 10/16 (62.500%)\n",
      "TRAIN: LOSS-->1.1305 (0.9287)\tACC-->43.750% (69.307%)\n",
      "TRAIN: 32 [1600/4038 (40%)]\tLoss: 1.130501, Accuracy: 7/16 (43.750%)\n",
      "TRAIN: LOSS-->0.6577 (0.9204)\tACC-->75.000% (69.496%)\n",
      "TRAIN: 32 [3200/4038 (79%)]\tLoss: 0.657689, Accuracy: 12/16 (75.000%)\n",
      "VAL:   LOSS--> 0.3671 (0.3671)\tACC-->81.250 (81.250)\n",
      " * Accuracy 87.6404\n"
     ]
    },
    {
     "name": "stderr",
     "output_type": "stream",
     "text": [
      "\r",
      " 22%|█████████████████▍                                                             | 33/150 [30:08<1:46:51, 54.80s/it]"
     ]
    },
    {
     "name": "stdout",
     "output_type": "stream",
     "text": [
      "TRAIN: LOSS-->0.5373 (0.5373)\tACC-->87.500% (87.500%)\n",
      "TRAIN: 33 [0/4038 (0%)]\tLoss: 0.537323, Accuracy: 14/16 (87.500%)\n",
      "TRAIN: LOSS-->1.1983 (0.9579)\tACC-->62.500% (67.450%)\n",
      "TRAIN: 33 [1600/4038 (40%)]\tLoss: 1.198324, Accuracy: 10/16 (62.500%)\n",
      "TRAIN: LOSS-->1.2511 (0.9610)\tACC-->75.000% (67.320%)\n",
      "TRAIN: 33 [3200/4038 (79%)]\tLoss: 1.251093, Accuracy: 12/16 (75.000%)\n",
      "VAL:   LOSS--> 0.4031 (0.4031)\tACC-->87.500 (87.500)\n",
      " * Accuracy 87.9213\n"
     ]
    },
    {
     "name": "stderr",
     "output_type": "stream",
     "text": [
      "\r",
      " 23%|█████████████████▉                                                             | 34/150 [31:03<1:45:56, 54.80s/it]"
     ]
    },
    {
     "name": "stdout",
     "output_type": "stream",
     "text": [
      "TRAIN: LOSS-->1.2393 (1.2393)\tACC-->50.000% (50.000%)\n",
      "TRAIN: 34 [0/4038 (0%)]\tLoss: 1.239270, Accuracy: 8/16 (50.000%)\n",
      "TRAIN: LOSS-->0.6085 (0.9586)\tACC-->75.000% (67.327%)\n",
      "TRAIN: 34 [1600/4038 (40%)]\tLoss: 0.608491, Accuracy: 12/16 (75.000%)\n",
      "TRAIN: LOSS-->0.8542 (0.9277)\tACC-->68.750% (68.190%)\n",
      "TRAIN: 34 [3200/4038 (79%)]\tLoss: 0.854169, Accuracy: 11/16 (68.750%)\n",
      "VAL:   LOSS--> 0.4126 (0.4126)\tACC-->87.500 (87.500)\n",
      " * Accuracy 86.3764\n"
     ]
    },
    {
     "name": "stderr",
     "output_type": "stream",
     "text": [
      "\r",
      " 23%|██████████████████▍                                                            | 35/150 [31:57<1:45:01, 54.79s/it]"
     ]
    },
    {
     "name": "stdout",
     "output_type": "stream",
     "text": [
      "TRAIN: LOSS-->0.9309 (0.9309)\tACC-->68.750% (68.750%)\n",
      "TRAIN: 35 [0/4038 (0%)]\tLoss: 0.930860, Accuracy: 11/16 (68.750%)\n",
      "TRAIN: LOSS-->0.7647 (0.9168)\tACC-->68.750% (69.183%)\n",
      "TRAIN: 35 [1600/4038 (40%)]\tLoss: 0.764704, Accuracy: 11/16 (68.750%)\n",
      "TRAIN: LOSS-->0.8418 (0.8812)\tACC-->62.500% (70.243%)\n",
      "TRAIN: 35 [3200/4038 (79%)]\tLoss: 0.841826, Accuracy: 10/16 (62.500%)\n",
      "VAL:   LOSS--> 0.2021 (0.2021)\tACC-->93.750 (93.750)\n",
      " * Accuracy 86.7978\n"
     ]
    },
    {
     "name": "stderr",
     "output_type": "stream",
     "text": [
      "\r",
      " 24%|██████████████████▉                                                            | 36/150 [32:52<1:44:06, 54.79s/it]"
     ]
    },
    {
     "name": "stdout",
     "output_type": "stream",
     "text": [
      "TRAIN: LOSS-->0.7308 (0.7308)\tACC-->68.750% (68.750%)\n",
      "TRAIN: 36 [0/4038 (0%)]\tLoss: 0.730761, Accuracy: 11/16 (68.750%)\n",
      "TRAIN: LOSS-->1.0429 (0.9196)\tACC-->56.250% (68.936%)\n",
      "TRAIN: 36 [1600/4038 (40%)]\tLoss: 1.042877, Accuracy: 9/16 (56.250%)\n",
      "TRAIN: LOSS-->0.7951 (0.9081)\tACC-->68.750% (69.123%)\n",
      "TRAIN: 36 [3200/4038 (79%)]\tLoss: 0.795122, Accuracy: 11/16 (68.750%)\n",
      "VAL:   LOSS--> 0.2056 (0.2056)\tACC-->87.500 (87.500)\n",
      " * Accuracy 88.0618\n"
     ]
    },
    {
     "name": "stderr",
     "output_type": "stream",
     "text": [
      "\r",
      " 25%|███████████████████▍                                                           | 37/150 [33:47<1:43:11, 54.79s/it]"
     ]
    },
    {
     "name": "stdout",
     "output_type": "stream",
     "text": [
      "TRAIN: LOSS-->1.2808 (1.2808)\tACC-->50.000% (50.000%)\n",
      "TRAIN: 37 [0/4038 (0%)]\tLoss: 1.280848, Accuracy: 8/16 (50.000%)\n",
      "TRAIN: LOSS-->1.5007 (0.9171)\tACC-->50.000% (68.317%)\n",
      "TRAIN: 37 [1600/4038 (40%)]\tLoss: 1.500719, Accuracy: 8/16 (50.000%)\n",
      "TRAIN: LOSS-->0.8860 (0.9305)\tACC-->62.500% (68.470%)\n",
      "TRAIN: 37 [3200/4038 (79%)]\tLoss: 0.886038, Accuracy: 10/16 (62.500%)\n",
      "VAL:   LOSS--> 0.3894 (0.3894)\tACC-->93.750 (93.750)\n",
      " * Accuracy 88.2022\n"
     ]
    },
    {
     "name": "stderr",
     "output_type": "stream",
     "text": [
      "\r",
      " 25%|████████████████████                                                           | 38/150 [34:42<1:42:16, 54.79s/it]"
     ]
    },
    {
     "name": "stdout",
     "output_type": "stream",
     "text": [
      "TRAIN: LOSS-->1.0115 (1.0115)\tACC-->62.500% (62.500%)\n",
      "TRAIN: 38 [0/4038 (0%)]\tLoss: 1.011502, Accuracy: 10/16 (62.500%)\n",
      "TRAIN: LOSS-->0.8251 (0.8935)\tACC-->68.750% (69.121%)\n",
      "TRAIN: 38 [1600/4038 (40%)]\tLoss: 0.825056, Accuracy: 11/16 (68.750%)\n",
      "TRAIN: LOSS-->0.7853 (0.8901)\tACC-->75.000% (68.812%)\n",
      "TRAIN: 38 [3200/4038 (79%)]\tLoss: 0.785275, Accuracy: 12/16 (75.000%)\n",
      "VAL:   LOSS--> 0.2106 (0.2106)\tACC-->93.750 (93.750)\n",
      " * Accuracy 84.6910\n"
     ]
    },
    {
     "name": "stderr",
     "output_type": "stream",
     "text": [
      "\r",
      " 26%|████████████████████▌                                                          | 39/150 [35:36<1:41:21, 54.79s/it]"
     ]
    },
    {
     "name": "stdout",
     "output_type": "stream",
     "text": [
      "TRAIN: LOSS-->1.0481 (1.0481)\tACC-->75.000% (75.000%)\n",
      "TRAIN: 39 [0/4038 (0%)]\tLoss: 1.048059, Accuracy: 12/16 (75.000%)\n",
      "TRAIN: LOSS-->1.4561 (0.9066)\tACC-->56.250% (69.554%)\n",
      "TRAIN: 39 [1600/4038 (40%)]\tLoss: 1.456073, Accuracy: 9/16 (56.250%)\n",
      "TRAIN: LOSS-->0.4580 (0.8821)\tACC-->81.250% (70.367%)\n",
      "TRAIN: 39 [3200/4038 (79%)]\tLoss: 0.457980, Accuracy: 13/16 (81.250%)\n",
      "VAL:   LOSS--> 0.1498 (0.1498)\tACC-->93.750 (93.750)\n",
      " * Accuracy 85.9551\n"
     ]
    },
    {
     "name": "stderr",
     "output_type": "stream",
     "text": [
      "\r",
      " 27%|█████████████████████                                                          | 40/150 [36:31<1:40:26, 54.79s/it]"
     ]
    },
    {
     "name": "stdout",
     "output_type": "stream",
     "text": [
      "TRAIN: LOSS-->0.9155 (0.9155)\tACC-->68.750% (68.750%)\n",
      "TRAIN: 40 [0/4038 (0%)]\tLoss: 0.915450, Accuracy: 11/16 (68.750%)\n",
      "TRAIN: LOSS-->1.0572 (0.8570)\tACC-->56.250% (70.050%)\n",
      "TRAIN: 40 [1600/4038 (40%)]\tLoss: 1.057223, Accuracy: 9/16 (56.250%)\n",
      "TRAIN: LOSS-->0.7122 (0.8699)\tACC-->75.000% (69.683%)\n",
      "TRAIN: 40 [3200/4038 (79%)]\tLoss: 0.712204, Accuracy: 12/16 (75.000%)\n",
      "VAL:   LOSS--> 0.2319 (0.2319)\tACC-->93.750 (93.750)\n",
      " * Accuracy 90.1685\n",
      "EARLY STOP\n"
     ]
    },
    {
     "name": "stderr",
     "output_type": "stream",
     "text": [
      "\r",
      " 27%|█████████████████████▌                                                         | 41/150 [37:31<1:39:45, 54.92s/it]"
     ]
    },
    {
     "name": "stdout",
     "output_type": "stream",
     "text": [
      "TRAIN: LOSS-->0.6733 (0.6733)\tACC-->75.000% (75.000%)\n",
      "TRAIN: 41 [0/4038 (0%)]\tLoss: 0.673254, Accuracy: 12/16 (75.000%)\n",
      "TRAIN: LOSS-->0.5196 (0.8792)\tACC-->87.500% (70.050%)\n",
      "TRAIN: 41 [1600/4038 (40%)]\tLoss: 0.519629, Accuracy: 14/16 (87.500%)\n",
      "TRAIN: LOSS-->0.7365 (0.8751)\tACC-->68.750% (70.118%)\n",
      "TRAIN: 41 [3200/4038 (79%)]\tLoss: 0.736487, Accuracy: 11/16 (68.750%)\n",
      "VAL:   LOSS--> 0.2047 (0.2047)\tACC-->93.750 (93.750)\n",
      " * Accuracy 86.3764\n"
     ]
    },
    {
     "name": "stderr",
     "output_type": "stream",
     "text": [
      "\r",
      " 28%|██████████████████████                                                         | 42/150 [38:26<1:38:51, 54.92s/it]"
     ]
    },
    {
     "name": "stdout",
     "output_type": "stream",
     "text": [
      "TRAIN: LOSS-->0.5862 (0.5862)\tACC-->75.000% (75.000%)\n",
      "TRAIN: 42 [0/4038 (0%)]\tLoss: 0.586220, Accuracy: 12/16 (75.000%)\n",
      "TRAIN: LOSS-->0.8687 (0.8830)\tACC-->68.750% (69.616%)\n",
      "TRAIN: 42 [1600/4038 (40%)]\tLoss: 0.868660, Accuracy: 11/16 (68.750%)\n",
      "TRAIN: LOSS-->0.4410 (0.8759)\tACC-->87.500% (69.963%)\n",
      "TRAIN: 42 [3200/4038 (79%)]\tLoss: 0.441009, Accuracy: 14/16 (87.500%)\n",
      "VAL:   LOSS--> 0.3401 (0.3401)\tACC-->93.750 (93.750)\n",
      " * Accuracy 89.3258\n"
     ]
    },
    {
     "name": "stderr",
     "output_type": "stream",
     "text": [
      "\r",
      " 29%|██████████████████████▋                                                        | 43/150 [39:21<1:37:55, 54.91s/it]"
     ]
    },
    {
     "name": "stdout",
     "output_type": "stream",
     "text": [
      "TRAIN: LOSS-->0.9808 (0.9808)\tACC-->56.250% (56.250%)\n",
      "TRAIN: 43 [0/4038 (0%)]\tLoss: 0.980848, Accuracy: 9/16 (56.250%)\n",
      "TRAIN: LOSS-->0.4622 (0.8581)\tACC-->93.750% (69.926%)\n",
      "TRAIN: 43 [1600/4038 (40%)]\tLoss: 0.462160, Accuracy: 15/16 (93.750%)\n",
      "TRAIN: LOSS-->0.6455 (0.8476)\tACC-->81.250% (70.771%)\n",
      "TRAIN: 43 [3200/4038 (79%)]\tLoss: 0.645534, Accuracy: 13/16 (81.250%)\n",
      "VAL:   LOSS--> 0.2162 (0.2162)\tACC-->93.750 (93.750)\n",
      " * Accuracy 86.6573\n"
     ]
    },
    {
     "name": "stderr",
     "output_type": "stream",
     "text": [
      "\r",
      " 29%|███████████████████████▏                                                       | 44/150 [40:15<1:37:00, 54.91s/it]"
     ]
    },
    {
     "name": "stdout",
     "output_type": "stream",
     "text": [
      "TRAIN: LOSS-->0.5473 (0.5473)\tACC-->87.500% (87.500%)\n",
      "TRAIN: 44 [0/4038 (0%)]\tLoss: 0.547256, Accuracy: 14/16 (87.500%)\n",
      "TRAIN: LOSS-->0.7033 (0.8119)\tACC-->75.000% (73.020%)\n",
      "TRAIN: 44 [1600/4038 (40%)]\tLoss: 0.703258, Accuracy: 12/16 (75.000%)\n",
      "TRAIN: LOSS-->0.6261 (0.8313)\tACC-->87.500% (72.233%)\n",
      "TRAIN: 44 [3200/4038 (79%)]\tLoss: 0.626054, Accuracy: 14/16 (87.500%)\n",
      "VAL:   LOSS--> 0.5919 (0.5919)\tACC-->81.250 (81.250)\n",
      " * Accuracy 89.1854\n"
     ]
    },
    {
     "name": "stderr",
     "output_type": "stream",
     "text": [
      "\r",
      " 30%|███████████████████████▋                                                       | 45/150 [41:10<1:36:04, 54.90s/it]"
     ]
    },
    {
     "name": "stdout",
     "output_type": "stream",
     "text": [
      "TRAIN: LOSS-->0.7001 (0.7001)\tACC-->68.750% (68.750%)\n",
      "TRAIN: 45 [0/4038 (0%)]\tLoss: 0.700078, Accuracy: 11/16 (68.750%)\n",
      "TRAIN: LOSS-->0.4907 (0.8261)\tACC-->75.000% (73.020%)\n",
      "TRAIN: 45 [1600/4038 (40%)]\tLoss: 0.490726, Accuracy: 12/16 (75.000%)\n",
      "TRAIN: LOSS-->1.0162 (0.8540)\tACC-->68.750% (71.362%)\n",
      "TRAIN: 45 [3200/4038 (79%)]\tLoss: 1.016168, Accuracy: 11/16 (68.750%)\n",
      "VAL:   LOSS--> 0.0751 (0.0751)\tACC-->100.000 (100.000)\n",
      " * Accuracy 88.9045\n"
     ]
    },
    {
     "name": "stderr",
     "output_type": "stream",
     "text": [
      "\r",
      " 31%|████████████████████████▏                                                      | 46/150 [42:05<1:35:09, 54.90s/it]"
     ]
    },
    {
     "name": "stdout",
     "output_type": "stream",
     "text": [
      "TRAIN: LOSS-->1.1918 (1.1918)\tACC-->62.500% (62.500%)\n",
      "TRAIN: 46 [0/4038 (0%)]\tLoss: 1.191817, Accuracy: 10/16 (62.500%)\n",
      "TRAIN: LOSS-->0.5692 (0.7924)\tACC-->75.000% (73.205%)\n",
      "TRAIN: 46 [1600/4038 (40%)]\tLoss: 0.569159, Accuracy: 12/16 (75.000%)\n",
      "TRAIN: LOSS-->0.8875 (0.8130)\tACC-->62.500% (73.228%)\n",
      "TRAIN: 46 [3200/4038 (79%)]\tLoss: 0.887493, Accuracy: 10/16 (62.500%)\n",
      "VAL:   LOSS--> 0.0989 (0.0989)\tACC-->100.000 (100.000)\n",
      " * Accuracy 91.5730\n",
      "EARLY STOP\n"
     ]
    },
    {
     "name": "stderr",
     "output_type": "stream",
     "text": [
      "\r",
      " 31%|████████████████████████▊                                                      | 47/150 [43:05<1:34:25, 55.01s/it]"
     ]
    },
    {
     "name": "stdout",
     "output_type": "stream",
     "text": [
      "TRAIN: LOSS-->0.9137 (0.9137)\tACC-->68.750% (68.750%)\n",
      "TRAIN: 47 [0/4038 (0%)]\tLoss: 0.913712, Accuracy: 11/16 (68.750%)\n",
      "TRAIN: LOSS-->0.7716 (0.8136)\tACC-->75.000% (72.092%)\n",
      "TRAIN: 47 [1600/4038 (40%)]\tLoss: 0.771579, Accuracy: 12/16 (75.000%)\n",
      "TRAIN: LOSS-->0.8619 (0.8184)\tACC-->68.750% (71.828%)\n",
      "TRAIN: 47 [3200/4038 (79%)]\tLoss: 0.861938, Accuracy: 11/16 (68.750%)\n",
      "VAL:   LOSS--> 0.5609 (0.5609)\tACC-->75.000 (75.000)\n",
      " * Accuracy 91.9944\n",
      "EARLY STOP\n"
     ]
    },
    {
     "name": "stderr",
     "output_type": "stream",
     "text": [
      "\r",
      " 32%|█████████████████████████▎                                                     | 48/150 [44:05<1:33:40, 55.11s/it]"
     ]
    },
    {
     "name": "stdout",
     "output_type": "stream",
     "text": [
      "TRAIN: LOSS-->0.9452 (0.9452)\tACC-->68.750% (68.750%)\n",
      "TRAIN: 48 [0/4038 (0%)]\tLoss: 0.945189, Accuracy: 11/16 (68.750%)\n",
      "TRAIN: LOSS-->0.3711 (0.7836)\tACC-->87.500% (73.700%)\n",
      "TRAIN: 48 [1600/4038 (40%)]\tLoss: 0.371098, Accuracy: 14/16 (87.500%)\n",
      "TRAIN: LOSS-->0.6844 (0.8313)\tACC-->81.250% (71.953%)\n",
      "TRAIN: 48 [3200/4038 (79%)]\tLoss: 0.684362, Accuracy: 13/16 (81.250%)\n",
      "VAL:   LOSS--> 0.0908 (0.0908)\tACC-->100.000 (100.000)\n",
      " * Accuracy 91.2921\n",
      "EARLY STOP\n"
     ]
    },
    {
     "name": "stderr",
     "output_type": "stream",
     "text": [
      "\r",
      " 33%|█████████████████████████▊                                                     | 49/150 [45:05<1:32:55, 55.21s/it]"
     ]
    },
    {
     "name": "stdout",
     "output_type": "stream",
     "text": [
      "TRAIN: LOSS-->1.1511 (1.1511)\tACC-->62.500% (62.500%)\n",
      "TRAIN: 49 [0/4038 (0%)]\tLoss: 1.151149, Accuracy: 10/16 (62.500%)\n",
      "TRAIN: LOSS-->0.5092 (0.8131)\tACC-->81.250% (72.153%)\n",
      "TRAIN: 49 [1600/4038 (40%)]\tLoss: 0.509246, Accuracy: 13/16 (81.250%)\n",
      "TRAIN: LOSS-->0.9535 (0.8278)\tACC-->75.000% (71.144%)\n",
      "TRAIN: 49 [3200/4038 (79%)]\tLoss: 0.953462, Accuracy: 12/16 (75.000%)\n",
      "VAL:   LOSS--> 0.1457 (0.1457)\tACC-->93.750 (93.750)\n",
      " * Accuracy 90.8708\n",
      "EARLY STOP\n"
     ]
    },
    {
     "name": "stderr",
     "output_type": "stream",
     "text": [
      "\r",
      " 33%|██████████████████████████▎                                                    | 50/150 [46:05<1:32:10, 55.30s/it]"
     ]
    },
    {
     "name": "stdout",
     "output_type": "stream",
     "text": [
      "TRAIN: LOSS-->0.8250 (0.8250)\tACC-->81.250% (81.250%)\n",
      "TRAIN: 50 [0/4038 (0%)]\tLoss: 0.824997, Accuracy: 13/16 (81.250%)\n",
      "TRAIN: LOSS-->0.7056 (0.8183)\tACC-->87.500% (71.844%)\n",
      "TRAIN: 50 [1600/4038 (40%)]\tLoss: 0.705620, Accuracy: 14/16 (87.500%)\n",
      "TRAIN: LOSS-->1.0469 (0.8131)\tACC-->68.750% (71.175%)\n",
      "TRAIN: 50 [3200/4038 (79%)]\tLoss: 1.046917, Accuracy: 11/16 (68.750%)\n",
      "VAL:   LOSS--> 0.4657 (0.4657)\tACC-->81.250 (81.250)\n",
      " * Accuracy 79.6348\n"
     ]
    },
    {
     "name": "stderr",
     "output_type": "stream",
     "text": [
      "\r",
      " 34%|██████████████████████████▊                                                    | 51/150 [46:59<1:31:13, 55.29s/it]"
     ]
    },
    {
     "name": "stdout",
     "output_type": "stream",
     "text": [
      "TRAIN: LOSS-->0.8769 (0.8769)\tACC-->62.500% (62.500%)\n",
      "TRAIN: 51 [0/4038 (0%)]\tLoss: 0.876926, Accuracy: 10/16 (62.500%)\n",
      "TRAIN: LOSS-->0.5928 (0.8010)\tACC-->81.250% (72.772%)\n",
      "TRAIN: 51 [1600/4038 (40%)]\tLoss: 0.592791, Accuracy: 13/16 (81.250%)\n",
      "TRAIN: LOSS-->0.5830 (0.8091)\tACC-->68.750% (72.419%)\n",
      "TRAIN: 51 [3200/4038 (79%)]\tLoss: 0.583024, Accuracy: 11/16 (68.750%)\n",
      "VAL:   LOSS--> 0.2104 (0.2104)\tACC-->93.750 (93.750)\n",
      " * Accuracy 87.7809\n"
     ]
    },
    {
     "name": "stderr",
     "output_type": "stream",
     "text": [
      "\r",
      " 35%|███████████████████████████▍                                                   | 52/150 [47:54<1:30:17, 55.28s/it]"
     ]
    },
    {
     "name": "stdout",
     "output_type": "stream",
     "text": [
      "TRAIN: LOSS-->0.9957 (0.9957)\tACC-->75.000% (75.000%)\n",
      "TRAIN: 52 [0/4038 (0%)]\tLoss: 0.995708, Accuracy: 12/16 (75.000%)\n",
      "TRAIN: LOSS-->1.0109 (0.7862)\tACC-->56.250% (72.649%)\n",
      "TRAIN: 52 [1600/4038 (40%)]\tLoss: 1.010942, Accuracy: 9/16 (56.250%)\n",
      "TRAIN: LOSS-->0.7707 (0.7799)\tACC-->68.750% (72.886%)\n",
      "TRAIN: 52 [3200/4038 (79%)]\tLoss: 0.770671, Accuracy: 11/16 (68.750%)\n",
      "VAL:   LOSS--> 0.1375 (0.1375)\tACC-->100.000 (100.000)\n",
      " * Accuracy 87.2191\n"
     ]
    },
    {
     "name": "stderr",
     "output_type": "stream",
     "text": [
      "\r",
      " 35%|███████████████████████████▉                                                   | 53/150 [48:49<1:29:20, 55.27s/it]"
     ]
    },
    {
     "name": "stdout",
     "output_type": "stream",
     "text": [
      "TRAIN: LOSS-->0.6004 (0.6004)\tACC-->75.000% (75.000%)\n",
      "TRAIN: 53 [0/4038 (0%)]\tLoss: 0.600356, Accuracy: 12/16 (75.000%)\n",
      "TRAIN: LOSS-->0.9993 (0.8441)\tACC-->62.500% (71.535%)\n",
      "TRAIN: 53 [1600/4038 (40%)]\tLoss: 0.999331, Accuracy: 10/16 (62.500%)\n",
      "TRAIN: LOSS-->0.8941 (0.8098)\tACC-->56.250% (72.233%)\n",
      "TRAIN: 53 [3200/4038 (79%)]\tLoss: 0.894121, Accuracy: 9/16 (56.250%)\n",
      "VAL:   LOSS--> 0.2607 (0.2607)\tACC-->100.000 (100.000)\n",
      " * Accuracy 91.2921\n",
      "EARLY STOP\n"
     ]
    },
    {
     "name": "stderr",
     "output_type": "stream",
     "text": [
      "\r",
      " 36%|████████████████████████████▍                                                  | 54/150 [49:49<1:28:33, 55.35s/it]"
     ]
    },
    {
     "name": "stdout",
     "output_type": "stream",
     "text": [
      "TRAIN: LOSS-->0.7976 (0.7976)\tACC-->75.000% (75.000%)\n",
      "TRAIN: 54 [0/4038 (0%)]\tLoss: 0.797613, Accuracy: 12/16 (75.000%)\n",
      "TRAIN: LOSS-->0.6881 (0.7873)\tACC-->81.250% (71.658%)\n",
      "TRAIN: 54 [1600/4038 (40%)]\tLoss: 0.688139, Accuracy: 13/16 (81.250%)\n",
      "TRAIN: LOSS-->0.8131 (0.7864)\tACC-->68.750% (72.637%)\n",
      "TRAIN: 54 [3200/4038 (79%)]\tLoss: 0.813063, Accuracy: 11/16 (68.750%)\n",
      "VAL:   LOSS--> 0.3673 (0.3673)\tACC-->87.500 (87.500)\n",
      " * Accuracy 91.2921\n",
      "EARLY STOP\n"
     ]
    },
    {
     "name": "stderr",
     "output_type": "stream",
     "text": [
      "\r",
      " 37%|████████████████████████████▉                                                  | 55/150 [50:48<1:27:46, 55.44s/it]"
     ]
    },
    {
     "name": "stdout",
     "output_type": "stream",
     "text": [
      "TRAIN: LOSS-->0.8071 (0.8071)\tACC-->81.250% (81.250%)\n",
      "TRAIN: 55 [0/4038 (0%)]\tLoss: 0.807095, Accuracy: 13/16 (81.250%)\n",
      "TRAIN: LOSS-->0.5232 (0.7596)\tACC-->93.750% (73.700%)\n",
      "TRAIN: 55 [1600/4038 (40%)]\tLoss: 0.523210, Accuracy: 15/16 (93.750%)\n",
      "TRAIN: LOSS-->0.5778 (0.7690)\tACC-->81.250% (73.165%)\n",
      "TRAIN: 55 [3200/4038 (79%)]\tLoss: 0.577783, Accuracy: 13/16 (81.250%)\n",
      "VAL:   LOSS--> 0.1244 (0.1244)\tACC-->93.750 (93.750)\n",
      " * Accuracy 91.0112\n",
      "EARLY STOP\n"
     ]
    },
    {
     "name": "stderr",
     "output_type": "stream",
     "text": [
      "\r",
      " 37%|█████████████████████████████▍                                                 | 56/150 [51:48<1:26:58, 55.52s/it]"
     ]
    },
    {
     "name": "stdout",
     "output_type": "stream",
     "text": [
      "TRAIN: LOSS-->0.4600 (0.4600)\tACC-->93.750% (93.750%)\n",
      "TRAIN: 56 [0/4038 (0%)]\tLoss: 0.460010, Accuracy: 15/16 (93.750%)\n",
      "TRAIN: LOSS-->0.8634 (0.7663)\tACC-->81.250% (72.401%)\n",
      "TRAIN: 56 [1600/4038 (40%)]\tLoss: 0.863392, Accuracy: 13/16 (81.250%)\n",
      "TRAIN: LOSS-->0.9572 (0.7809)\tACC-->68.750% (72.077%)\n",
      "TRAIN: 56 [3200/4038 (79%)]\tLoss: 0.957155, Accuracy: 11/16 (68.750%)\n",
      "VAL:   LOSS--> 0.2198 (0.2198)\tACC-->93.750 (93.750)\n",
      " * Accuracy 89.1854\n"
     ]
    },
    {
     "name": "stderr",
     "output_type": "stream",
     "text": [
      "\r",
      " 38%|██████████████████████████████                                                 | 57/150 [52:43<1:26:01, 55.50s/it]"
     ]
    },
    {
     "name": "stdout",
     "output_type": "stream",
     "text": [
      "TRAIN: LOSS-->0.7760 (0.7760)\tACC-->81.250% (81.250%)\n",
      "TRAIN: 57 [0/4038 (0%)]\tLoss: 0.775977, Accuracy: 13/16 (81.250%)\n",
      "TRAIN: LOSS-->0.6713 (0.7484)\tACC-->75.000% (74.257%)\n",
      "TRAIN: 57 [1600/4038 (40%)]\tLoss: 0.671320, Accuracy: 12/16 (75.000%)\n",
      "TRAIN: LOSS-->1.1618 (0.7712)\tACC-->50.000% (73.290%)\n",
      "TRAIN: 57 [3200/4038 (79%)]\tLoss: 1.161811, Accuracy: 8/16 (50.000%)\n",
      "VAL:   LOSS--> 0.3791 (0.3791)\tACC-->87.500 (87.500)\n",
      " * Accuracy 89.6067\n"
     ]
    },
    {
     "name": "stderr",
     "output_type": "stream",
     "text": [
      "\r",
      " 39%|██████████████████████████████▌                                                | 58/150 [53:38<1:25:05, 55.49s/it]"
     ]
    },
    {
     "name": "stdout",
     "output_type": "stream",
     "text": [
      "TRAIN: LOSS-->0.5160 (0.5160)\tACC-->81.250% (81.250%)\n",
      "TRAIN: 58 [0/4038 (0%)]\tLoss: 0.516041, Accuracy: 13/16 (81.250%)\n",
      "TRAIN: LOSS-->0.7773 (0.7300)\tACC-->75.000% (75.681%)\n",
      "TRAIN: 58 [1600/4038 (40%)]\tLoss: 0.777265, Accuracy: 12/16 (75.000%)\n",
      "TRAIN: LOSS-->0.8028 (0.7284)\tACC-->68.750% (75.280%)\n",
      "TRAIN: 58 [3200/4038 (79%)]\tLoss: 0.802771, Accuracy: 11/16 (68.750%)\n",
      "VAL:   LOSS--> 0.3489 (0.3489)\tACC-->87.500 (87.500)\n",
      " * Accuracy 88.0618\n"
     ]
    },
    {
     "name": "stderr",
     "output_type": "stream",
     "text": [
      "\r",
      " 39%|███████████████████████████████                                                | 59/150 [54:33<1:24:08, 55.48s/it]"
     ]
    },
    {
     "name": "stdout",
     "output_type": "stream",
     "text": [
      "TRAIN: LOSS-->1.5265 (1.5265)\tACC-->68.750% (68.750%)\n",
      "TRAIN: 59 [0/4038 (0%)]\tLoss: 1.526466, Accuracy: 11/16 (68.750%)\n",
      "TRAIN: LOSS-->1.0069 (0.7803)\tACC-->62.500% (74.257%)\n",
      "TRAIN: 59 [1600/4038 (40%)]\tLoss: 1.006901, Accuracy: 10/16 (62.500%)\n",
      "TRAIN: LOSS-->0.6844 (0.7898)\tACC-->68.750% (73.601%)\n",
      "TRAIN: 59 [3200/4038 (79%)]\tLoss: 0.684435, Accuracy: 11/16 (68.750%)\n",
      "VAL:   LOSS--> 0.3242 (0.3242)\tACC-->81.250 (81.250)\n",
      " * Accuracy 90.0281\n",
      "EARLY STOP\n"
     ]
    },
    {
     "name": "stderr",
     "output_type": "stream",
     "text": [
      "\r",
      " 40%|███████████████████████████████▌                                               | 60/150 [55:32<1:23:19, 55.55s/it]"
     ]
    },
    {
     "name": "stdout",
     "output_type": "stream",
     "text": [
      "TRAIN: LOSS-->0.8420 (0.8420)\tACC-->68.750% (68.750%)\n",
      "TRAIN: 60 [0/4038 (0%)]\tLoss: 0.842044, Accuracy: 11/16 (68.750%)\n",
      "TRAIN: LOSS-->0.6966 (0.7410)\tACC-->75.000% (74.134%)\n",
      "TRAIN: 60 [1600/4038 (40%)]\tLoss: 0.696599, Accuracy: 12/16 (75.000%)\n",
      "TRAIN: LOSS-->0.5585 (0.7570)\tACC-->81.250% (73.881%)\n",
      "TRAIN: 60 [3200/4038 (79%)]\tLoss: 0.558517, Accuracy: 13/16 (81.250%)\n",
      "VAL:   LOSS--> 0.1520 (0.1520)\tACC-->100.000 (100.000)\n",
      " * Accuracy 90.3090\n",
      "EARLY STOP\n"
     ]
    },
    {
     "name": "stderr",
     "output_type": "stream",
     "text": [
      "\r",
      " 41%|████████████████████████████████▏                                              | 61/150 [56:32<1:22:30, 55.62s/it]"
     ]
    },
    {
     "name": "stdout",
     "output_type": "stream",
     "text": [
      "TRAIN: LOSS-->0.5355 (0.5355)\tACC-->75.000% (75.000%)\n",
      "TRAIN: 61 [0/4038 (0%)]\tLoss: 0.535471, Accuracy: 12/16 (75.000%)\n",
      "TRAIN: LOSS-->0.9393 (0.7790)\tACC-->68.750% (73.824%)\n",
      "TRAIN: 61 [1600/4038 (40%)]\tLoss: 0.939264, Accuracy: 11/16 (68.750%)\n",
      "TRAIN: LOSS-->0.9763 (0.7658)\tACC-->81.250% (73.787%)\n",
      "TRAIN: 61 [3200/4038 (79%)]\tLoss: 0.976300, Accuracy: 13/16 (81.250%)\n",
      "VAL:   LOSS--> 0.1862 (0.1862)\tACC-->100.000 (100.000)\n",
      " * Accuracy 90.7303\n",
      "EARLY STOP\n"
     ]
    },
    {
     "name": "stderr",
     "output_type": "stream",
     "text": [
      "\r",
      " 41%|████████████████████████████████▋                                              | 62/150 [57:32<1:21:40, 55.69s/it]"
     ]
    },
    {
     "name": "stdout",
     "output_type": "stream",
     "text": [
      "TRAIN: LOSS-->1.0631 (1.0631)\tACC-->62.500% (62.500%)\n",
      "TRAIN: 62 [0/4038 (0%)]\tLoss: 1.063080, Accuracy: 10/16 (62.500%)\n",
      "TRAIN: LOSS-->1.0678 (0.7925)\tACC-->56.250% (72.401%)\n",
      "TRAIN: 62 [1600/4038 (40%)]\tLoss: 1.067834, Accuracy: 9/16 (56.250%)\n",
      "TRAIN: LOSS-->0.5259 (0.7694)\tACC-->81.250% (72.823%)\n",
      "TRAIN: 62 [3200/4038 (79%)]\tLoss: 0.525932, Accuracy: 13/16 (81.250%)\n",
      "VAL:   LOSS--> 0.1583 (0.1583)\tACC-->93.750 (93.750)\n",
      " * Accuracy 89.7472\n"
     ]
    },
    {
     "name": "stderr",
     "output_type": "stream",
     "text": [
      "\r",
      " 42%|█████████████████████████████████▏                                             | 63/150 [58:27<1:20:43, 55.68s/it]"
     ]
    },
    {
     "name": "stdout",
     "output_type": "stream",
     "text": [
      "TRAIN: LOSS-->0.3458 (0.3458)\tACC-->93.750% (93.750%)\n",
      "TRAIN: 63 [0/4038 (0%)]\tLoss: 0.345807, Accuracy: 15/16 (93.750%)\n",
      "TRAIN: LOSS-->0.4594 (0.7202)\tACC-->75.000% (75.557%)\n",
      "TRAIN: 63 [1600/4038 (40%)]\tLoss: 0.459377, Accuracy: 12/16 (75.000%)\n",
      "TRAIN: LOSS-->0.8783 (0.7138)\tACC-->50.000% (76.057%)\n",
      "TRAIN: 63 [3200/4038 (79%)]\tLoss: 0.878317, Accuracy: 8/16 (50.000%)\n",
      "VAL:   LOSS--> 0.3915 (0.3915)\tACC-->87.500 (87.500)\n",
      " * Accuracy 86.6573\n"
     ]
    },
    {
     "name": "stderr",
     "output_type": "stream",
     "text": [
      "\r",
      " 43%|█████████████████████████████████▋                                             | 64/150 [59:22<1:19:46, 55.66s/it]"
     ]
    },
    {
     "name": "stdout",
     "output_type": "stream",
     "text": [
      "TRAIN: LOSS-->0.4011 (0.4011)\tACC-->87.500% (87.500%)\n",
      "TRAIN: 64 [0/4038 (0%)]\tLoss: 0.401149, Accuracy: 14/16 (87.500%)\n",
      "TRAIN: LOSS-->1.1956 (0.7220)\tACC-->75.000% (75.743%)\n",
      "TRAIN: 64 [1600/4038 (40%)]\tLoss: 1.195584, Accuracy: 12/16 (75.000%)\n",
      "TRAIN: LOSS-->0.6934 (0.7472)\tACC-->68.750% (74.689%)\n",
      "TRAIN: 64 [3200/4038 (79%)]\tLoss: 0.693427, Accuracy: 11/16 (68.750%)\n",
      "VAL:   LOSS--> 0.1781 (0.1781)\tACC-->93.750 (93.750)\n",
      " * Accuracy 90.7303\n",
      "EARLY STOP\n"
     ]
    },
    {
     "name": "stderr",
     "output_type": "stream",
     "text": [
      "\r",
      " 43%|█████████████████████████████████▎                                           | 65/150 [1:00:22<1:18:56, 55.73s/it]"
     ]
    },
    {
     "name": "stdout",
     "output_type": "stream",
     "text": [
      "TRAIN: LOSS-->0.4426 (0.4426)\tACC-->87.500% (87.500%)\n",
      "TRAIN: 65 [0/4038 (0%)]\tLoss: 0.442629, Accuracy: 14/16 (87.500%)\n",
      "TRAIN: LOSS-->0.6582 (0.7707)\tACC-->75.000% (74.691%)\n",
      "TRAIN: 65 [1600/4038 (40%)]\tLoss: 0.658198, Accuracy: 12/16 (75.000%)\n",
      "TRAIN: LOSS-->0.4776 (0.7562)\tACC-->81.250% (74.067%)\n",
      "TRAIN: 65 [3200/4038 (79%)]\tLoss: 0.477578, Accuracy: 13/16 (81.250%)\n",
      "VAL:   LOSS--> 0.3686 (0.3686)\tACC-->87.500 (87.500)\n",
      " * Accuracy 91.9944\n",
      "EARLY STOP\n"
     ]
    },
    {
     "name": "stderr",
     "output_type": "stream",
     "text": [
      "\r",
      " 44%|█████████████████████████████████▉                                           | 66/150 [1:01:22<1:18:06, 55.79s/it]"
     ]
    },
    {
     "name": "stdout",
     "output_type": "stream",
     "text": [
      "TRAIN: LOSS-->0.8001 (0.8001)\tACC-->75.000% (75.000%)\n",
      "TRAIN: 66 [0/4038 (0%)]\tLoss: 0.800054, Accuracy: 12/16 (75.000%)\n",
      "TRAIN: LOSS-->0.6553 (0.7196)\tACC-->81.250% (75.619%)\n",
      "TRAIN: 66 [1600/4038 (40%)]\tLoss: 0.655310, Accuracy: 13/16 (81.250%)\n",
      "TRAIN: LOSS-->0.8373 (0.7116)\tACC-->62.500% (75.560%)\n",
      "TRAIN: 66 [3200/4038 (79%)]\tLoss: 0.837289, Accuracy: 10/16 (62.500%)\n",
      "VAL:   LOSS--> 0.4744 (0.4744)\tACC-->62.500 (62.500)\n",
      " * Accuracy 88.6236\n"
     ]
    },
    {
     "name": "stderr",
     "output_type": "stream",
     "text": [
      "\r",
      " 45%|██████████████████████████████████▍                                          | 67/150 [1:02:16<1:17:09, 55.77s/it]"
     ]
    },
    {
     "name": "stdout",
     "output_type": "stream",
     "text": [
      "TRAIN: LOSS-->0.9445 (0.9445)\tACC-->68.750% (68.750%)\n",
      "TRAIN: 67 [0/4038 (0%)]\tLoss: 0.944548, Accuracy: 11/16 (68.750%)\n",
      "TRAIN: LOSS-->1.0576 (0.7703)\tACC-->56.250% (73.639%)\n",
      "TRAIN: 67 [1600/4038 (40%)]\tLoss: 1.057649, Accuracy: 9/16 (56.250%)\n",
      "TRAIN: LOSS-->0.4728 (0.7003)\tACC-->87.500% (75.808%)\n",
      "TRAIN: 67 [3200/4038 (79%)]\tLoss: 0.472790, Accuracy: 14/16 (87.500%)\n",
      "VAL:   LOSS--> 0.1398 (0.1398)\tACC-->93.750 (93.750)\n",
      " * Accuracy 89.7472\n"
     ]
    },
    {
     "name": "stderr",
     "output_type": "stream",
     "text": [
      "\r",
      " 45%|██████████████████████████████████▉                                          | 68/150 [1:03:11<1:16:12, 55.76s/it]"
     ]
    },
    {
     "name": "stdout",
     "output_type": "stream",
     "text": [
      "TRAIN: LOSS-->0.7757 (0.7757)\tACC-->75.000% (75.000%)\n",
      "TRAIN: 68 [0/4038 (0%)]\tLoss: 0.775737, Accuracy: 12/16 (75.000%)\n",
      "TRAIN: LOSS-->0.7012 (0.7453)\tACC-->68.750% (74.134%)\n",
      "TRAIN: 68 [1600/4038 (40%)]\tLoss: 0.701210, Accuracy: 11/16 (68.750%)\n",
      "TRAIN: LOSS-->1.3926 (0.7426)\tACC-->56.250% (75.000%)\n",
      "TRAIN: 68 [3200/4038 (79%)]\tLoss: 1.392637, Accuracy: 9/16 (56.250%)\n",
      "VAL:   LOSS--> 0.0740 (0.0740)\tACC-->100.000 (100.000)\n",
      " * Accuracy 92.5562\n",
      "EARLY STOP\n"
     ]
    },
    {
     "name": "stderr",
     "output_type": "stream",
     "text": [
      "\r",
      " 46%|███████████████████████████████████▍                                         | 69/150 [1:04:11<1:15:21, 55.82s/it]"
     ]
    },
    {
     "name": "stdout",
     "output_type": "stream",
     "text": [
      "TRAIN: LOSS-->0.9988 (0.9988)\tACC-->56.250% (56.250%)\n",
      "TRAIN: 69 [0/4038 (0%)]\tLoss: 0.998754, Accuracy: 9/16 (56.250%)\n",
      "TRAIN: LOSS-->0.8783 (0.7143)\tACC-->75.000% (75.309%)\n",
      "TRAIN: 69 [1600/4038 (40%)]\tLoss: 0.878298, Accuracy: 12/16 (75.000%)\n",
      "TRAIN: LOSS-->0.6127 (0.7177)\tACC-->68.750% (74.471%)\n",
      "TRAIN: 69 [3200/4038 (79%)]\tLoss: 0.612669, Accuracy: 11/16 (68.750%)\n",
      "VAL:   LOSS--> 0.1380 (0.1380)\tACC-->100.000 (100.000)\n",
      " * Accuracy 92.5562\n",
      "EARLY STOP\n"
     ]
    },
    {
     "name": "stderr",
     "output_type": "stream",
     "text": [
      "\r",
      " 47%|███████████████████████████████████▉                                         | 70/150 [1:05:11<1:14:30, 55.88s/it]"
     ]
    },
    {
     "name": "stdout",
     "output_type": "stream",
     "text": [
      "TRAIN: LOSS-->0.9387 (0.9387)\tACC-->68.750% (68.750%)\n",
      "TRAIN: 70 [0/4038 (0%)]\tLoss: 0.938729, Accuracy: 11/16 (68.750%)\n",
      "TRAIN: LOSS-->0.9771 (0.7299)\tACC-->75.000% (75.928%)\n",
      "TRAIN: 70 [1600/4038 (40%)]\tLoss: 0.977099, Accuracy: 12/16 (75.000%)\n",
      "TRAIN: LOSS-->1.2394 (0.7424)\tACC-->31.250% (75.187%)\n",
      "TRAIN: 70 [3200/4038 (79%)]\tLoss: 1.239366, Accuracy: 5/16 (31.250%)\n",
      "VAL:   LOSS--> 0.4352 (0.4352)\tACC-->75.000 (75.000)\n",
      " * Accuracy 91.7135\n",
      "EARLY STOP\n"
     ]
    },
    {
     "name": "stderr",
     "output_type": "stream",
     "text": [
      "\r",
      " 47%|████████████████████████████████████▍                                        | 71/150 [1:06:11<1:13:38, 55.93s/it]"
     ]
    },
    {
     "name": "stdout",
     "output_type": "stream",
     "text": [
      "TRAIN: LOSS-->1.1196 (1.1196)\tACC-->68.750% (68.750%)\n",
      "TRAIN: 71 [0/4038 (0%)]\tLoss: 1.119569, Accuracy: 11/16 (68.750%)\n",
      "TRAIN: LOSS-->0.8823 (0.7260)\tACC-->68.750% (75.866%)\n",
      "TRAIN: 71 [1600/4038 (40%)]\tLoss: 0.882263, Accuracy: 11/16 (68.750%)\n",
      "TRAIN: LOSS-->0.8512 (0.7053)\tACC-->68.750% (75.622%)\n",
      "TRAIN: 71 [3200/4038 (79%)]\tLoss: 0.851212, Accuracy: 11/16 (68.750%)\n",
      "VAL:   LOSS--> 0.1196 (0.1196)\tACC-->93.750 (93.750)\n",
      " * Accuracy 86.3764\n"
     ]
    },
    {
     "name": "stderr",
     "output_type": "stream",
     "text": [
      "\r",
      " 48%|████████████████████████████████████▉                                        | 72/150 [1:07:05<1:12:41, 55.92s/it]"
     ]
    },
    {
     "name": "stdout",
     "output_type": "stream",
     "text": [
      "TRAIN: LOSS-->0.5347 (0.5347)\tACC-->81.250% (81.250%)\n",
      "TRAIN: 72 [0/4038 (0%)]\tLoss: 0.534725, Accuracy: 13/16 (81.250%)\n",
      "TRAIN: LOSS-->0.7711 (0.7117)\tACC-->81.250% (75.371%)\n",
      "TRAIN: 72 [1600/4038 (40%)]\tLoss: 0.771066, Accuracy: 13/16 (81.250%)\n",
      "TRAIN: LOSS-->0.3910 (0.7082)\tACC-->81.250% (75.777%)\n",
      "TRAIN: 72 [3200/4038 (79%)]\tLoss: 0.391010, Accuracy: 13/16 (81.250%)\n",
      "VAL:   LOSS--> 0.5903 (0.5903)\tACC-->87.500 (87.500)\n",
      " * Accuracy 89.3258\n"
     ]
    },
    {
     "name": "stderr",
     "output_type": "stream",
     "text": [
      "\r",
      " 49%|█████████████████████████████████████▍                                       | 73/150 [1:08:00<1:11:44, 55.90s/it]"
     ]
    },
    {
     "name": "stdout",
     "output_type": "stream",
     "text": [
      "TRAIN: LOSS-->0.6078 (0.6078)\tACC-->81.250% (81.250%)\n",
      "TRAIN: 73 [0/4038 (0%)]\tLoss: 0.607827, Accuracy: 13/16 (81.250%)\n",
      "TRAIN: LOSS-->0.4035 (0.6532)\tACC-->81.250% (77.537%)\n",
      "TRAIN: 73 [1600/4038 (40%)]\tLoss: 0.403459, Accuracy: 13/16 (81.250%)\n",
      "TRAIN: LOSS-->0.8417 (0.6436)\tACC-->75.000% (77.954%)\n",
      "TRAIN: 73 [3200/4038 (79%)]\tLoss: 0.841686, Accuracy: 12/16 (75.000%)\n",
      "VAL:   LOSS--> 0.2472 (0.2472)\tACC-->93.750 (93.750)\n",
      " * Accuracy 88.9045\n"
     ]
    },
    {
     "name": "stderr",
     "output_type": "stream",
     "text": [
      "\r",
      " 49%|█████████████████████████████████████▉                                       | 74/150 [1:08:55<1:10:47, 55.88s/it]"
     ]
    },
    {
     "name": "stdout",
     "output_type": "stream",
     "text": [
      "TRAIN: LOSS-->0.7905 (0.7905)\tACC-->68.750% (68.750%)\n",
      "TRAIN: 74 [0/4038 (0%)]\tLoss: 0.790530, Accuracy: 11/16 (68.750%)\n",
      "TRAIN: LOSS-->0.4222 (0.6995)\tACC-->93.750% (76.795%)\n",
      "TRAIN: 74 [1600/4038 (40%)]\tLoss: 0.422240, Accuracy: 15/16 (93.750%)\n",
      "TRAIN: LOSS-->0.9122 (0.6941)\tACC-->75.000% (76.741%)\n",
      "TRAIN: 74 [3200/4038 (79%)]\tLoss: 0.912152, Accuracy: 12/16 (75.000%)\n",
      "VAL:   LOSS--> 0.1462 (0.1462)\tACC-->93.750 (93.750)\n",
      " * Accuracy 91.4326\n",
      "EARLY STOP\n"
     ]
    },
    {
     "name": "stderr",
     "output_type": "stream",
     "text": [
      "\r",
      " 50%|██████████████████████████████████████▌                                      | 75/150 [1:09:55<1:09:55, 55.94s/it]"
     ]
    },
    {
     "name": "stdout",
     "output_type": "stream",
     "text": [
      "TRAIN: LOSS-->0.3865 (0.3865)\tACC-->93.750% (93.750%)\n",
      "TRAIN: 75 [0/4038 (0%)]\tLoss: 0.386524, Accuracy: 15/16 (93.750%)\n",
      "TRAIN: LOSS-->1.1141 (0.7170)\tACC-->56.250% (75.371%)\n",
      "TRAIN: 75 [1600/4038 (40%)]\tLoss: 1.114110, Accuracy: 9/16 (56.250%)\n",
      "TRAIN: LOSS-->0.4173 (0.7027)\tACC-->87.500% (75.933%)\n",
      "TRAIN: 75 [3200/4038 (79%)]\tLoss: 0.417288, Accuracy: 14/16 (87.500%)\n",
      "VAL:   LOSS--> 0.2254 (0.2254)\tACC-->87.500 (87.500)\n",
      " * Accuracy 92.2753\n",
      "EARLY STOP\n"
     ]
    },
    {
     "name": "stderr",
     "output_type": "stream",
     "text": [
      "\r",
      " 51%|███████████████████████████████████████                                      | 76/150 [1:10:55<1:09:03, 55.99s/it]"
     ]
    },
    {
     "name": "stdout",
     "output_type": "stream",
     "text": [
      "TRAIN: LOSS-->0.8251 (0.8251)\tACC-->75.000% (75.000%)\n",
      "TRAIN: 76 [0/4038 (0%)]\tLoss: 0.825128, Accuracy: 12/16 (75.000%)\n",
      "TRAIN: LOSS-->1.2739 (0.7072)\tACC-->50.000% (75.557%)\n",
      "TRAIN: 76 [1600/4038 (40%)]\tLoss: 1.273890, Accuracy: 8/16 (50.000%)\n",
      "TRAIN: LOSS-->0.6237 (0.6955)\tACC-->68.750% (75.964%)\n",
      "TRAIN: 76 [3200/4038 (79%)]\tLoss: 0.623697, Accuracy: 11/16 (68.750%)\n",
      "VAL:   LOSS--> 0.1408 (0.1408)\tACC-->93.750 (93.750)\n",
      " * Accuracy 88.9045\n"
     ]
    },
    {
     "name": "stderr",
     "output_type": "stream",
     "text": [
      "\r",
      " 51%|███████████████████████████████████████▌                                     | 77/150 [1:11:49<1:08:06, 55.97s/it]"
     ]
    },
    {
     "name": "stdout",
     "output_type": "stream",
     "text": [
      "TRAIN: LOSS-->0.5001 (0.5001)\tACC-->87.500% (87.500%)\n",
      "TRAIN: 77 [0/4038 (0%)]\tLoss: 0.500055, Accuracy: 14/16 (87.500%)\n",
      "TRAIN: LOSS-->1.0643 (0.7433)\tACC-->68.750% (75.248%)\n",
      "TRAIN: 77 [1600/4038 (40%)]\tLoss: 1.064313, Accuracy: 11/16 (68.750%)\n",
      "TRAIN: LOSS-->0.5246 (0.7073)\tACC-->75.000% (75.622%)\n",
      "TRAIN: 77 [3200/4038 (79%)]\tLoss: 0.524620, Accuracy: 12/16 (75.000%)\n",
      "VAL:   LOSS--> 0.2530 (0.2530)\tACC-->87.500 (87.500)\n",
      " * Accuracy 92.9775\n",
      "EARLY STOP\n"
     ]
    },
    {
     "name": "stderr",
     "output_type": "stream",
     "text": [
      "\r",
      " 52%|████████████████████████████████████████                                     | 78/150 [1:12:49<1:07:13, 56.02s/it]"
     ]
    },
    {
     "name": "stdout",
     "output_type": "stream",
     "text": [
      "TRAIN: LOSS-->1.0185 (1.0185)\tACC-->68.750% (68.750%)\n",
      "TRAIN: 78 [0/4038 (0%)]\tLoss: 1.018521, Accuracy: 11/16 (68.750%)\n",
      "TRAIN: LOSS-->0.5119 (0.7143)\tACC-->81.250% (75.990%)\n",
      "TRAIN: 78 [1600/4038 (40%)]\tLoss: 0.511926, Accuracy: 13/16 (81.250%)\n",
      "TRAIN: LOSS-->0.9041 (0.6994)\tACC-->75.000% (76.461%)\n",
      "TRAIN: 78 [3200/4038 (79%)]\tLoss: 0.904123, Accuracy: 12/16 (75.000%)\n",
      "VAL:   LOSS--> 0.1679 (0.1679)\tACC-->100.000 (100.000)\n",
      " * Accuracy 91.4326\n",
      "EARLY STOP\n"
     ]
    },
    {
     "name": "stderr",
     "output_type": "stream",
     "text": [
      "\r",
      " 53%|████████████████████████████████████████▌                                    | 79/150 [1:13:49<1:06:21, 56.07s/it]"
     ]
    },
    {
     "name": "stdout",
     "output_type": "stream",
     "text": [
      "TRAIN: LOSS-->0.6683 (0.6683)\tACC-->87.500% (87.500%)\n",
      "TRAIN: 79 [0/4038 (0%)]\tLoss: 0.668310, Accuracy: 14/16 (87.500%)\n",
      "TRAIN: LOSS-->1.1872 (0.6381)\tACC-->75.000% (78.465%)\n",
      "TRAIN: 79 [1600/4038 (40%)]\tLoss: 1.187223, Accuracy: 12/16 (75.000%)\n",
      "TRAIN: LOSS-->0.6627 (0.6443)\tACC-->75.000% (77.456%)\n",
      "TRAIN: 79 [3200/4038 (79%)]\tLoss: 0.662736, Accuracy: 12/16 (75.000%)\n",
      "VAL:   LOSS--> 0.2508 (0.2508)\tACC-->81.250 (81.250)\n",
      " * Accuracy 88.2022\n"
     ]
    },
    {
     "name": "stderr",
     "output_type": "stream",
     "text": [
      "\r",
      " 53%|█████████████████████████████████████████                                    | 80/150 [1:14:44<1:05:23, 56.06s/it]"
     ]
    },
    {
     "name": "stdout",
     "output_type": "stream",
     "text": [
      "TRAIN: LOSS-->0.5819 (0.5819)\tACC-->81.250% (81.250%)\n",
      "TRAIN: 80 [0/4038 (0%)]\tLoss: 0.581903, Accuracy: 13/16 (81.250%)\n",
      "TRAIN: LOSS-->0.7079 (0.6466)\tACC-->75.000% (78.342%)\n",
      "TRAIN: 80 [1600/4038 (40%)]\tLoss: 0.707923, Accuracy: 12/16 (75.000%)\n",
      "TRAIN: LOSS-->0.3369 (0.6428)\tACC-->87.500% (77.736%)\n",
      "TRAIN: 80 [3200/4038 (79%)]\tLoss: 0.336881, Accuracy: 14/16 (87.500%)\n",
      "VAL:   LOSS--> 0.2706 (0.2706)\tACC-->87.500 (87.500)\n",
      " * Accuracy 92.2753\n",
      "EARLY STOP\n"
     ]
    },
    {
     "name": "stderr",
     "output_type": "stream",
     "text": [
      "\r",
      " 54%|█████████████████████████████████████████▌                                   | 81/150 [1:15:44<1:04:31, 56.11s/it]"
     ]
    },
    {
     "name": "stdout",
     "output_type": "stream",
     "text": [
      "TRAIN: LOSS-->0.8723 (0.8723)\tACC-->68.750% (68.750%)\n",
      "TRAIN: 81 [0/4038 (0%)]\tLoss: 0.872306, Accuracy: 11/16 (68.750%)\n",
      "TRAIN: LOSS-->0.8895 (0.7047)\tACC-->75.000% (76.733%)\n",
      "TRAIN: 81 [1600/4038 (40%)]\tLoss: 0.889543, Accuracy: 12/16 (75.000%)\n",
      "TRAIN: LOSS-->0.9601 (0.6905)\tACC-->62.500% (76.368%)\n",
      "TRAIN: 81 [3200/4038 (79%)]\tLoss: 0.960099, Accuracy: 10/16 (62.500%)\n",
      "VAL:   LOSS--> 0.0606 (0.0606)\tACC-->100.000 (100.000)\n",
      " * Accuracy 92.5562\n",
      "EARLY STOP\n"
     ]
    },
    {
     "name": "stderr",
     "output_type": "stream",
     "text": [
      "\r",
      " 55%|██████████████████████████████████████████                                   | 82/150 [1:16:44<1:03:38, 56.15s/it]"
     ]
    },
    {
     "name": "stdout",
     "output_type": "stream",
     "text": [
      "TRAIN: LOSS-->1.1301 (1.1301)\tACC-->68.750% (68.750%)\n",
      "TRAIN: 82 [0/4038 (0%)]\tLoss: 1.130058, Accuracy: 11/16 (68.750%)\n",
      "TRAIN: LOSS-->0.6986 (0.7088)\tACC-->75.000% (76.671%)\n",
      "TRAIN: 82 [1600/4038 (40%)]\tLoss: 0.698627, Accuracy: 12/16 (75.000%)\n",
      "TRAIN: LOSS-->0.6458 (0.6773)\tACC-->81.250% (77.052%)\n",
      "TRAIN: 82 [3200/4038 (79%)]\tLoss: 0.645841, Accuracy: 13/16 (81.250%)\n",
      "VAL:   LOSS--> 0.2910 (0.2910)\tACC-->87.500 (87.500)\n",
      " * Accuracy 94.1011\n",
      "EARLY STOP\n"
     ]
    },
    {
     "name": "stderr",
     "output_type": "stream",
     "text": [
      "\r",
      " 55%|██████████████████████████████████████████▌                                  | 83/150 [1:17:44<1:02:45, 56.20s/it]"
     ]
    },
    {
     "name": "stdout",
     "output_type": "stream",
     "text": [
      "TRAIN: LOSS-->0.4050 (0.4050)\tACC-->81.250% (81.250%)\n",
      "TRAIN: 83 [0/4038 (0%)]\tLoss: 0.404973, Accuracy: 13/16 (81.250%)\n",
      "TRAIN: LOSS-->0.9088 (0.6937)\tACC-->75.000% (76.423%)\n",
      "TRAIN: 83 [1600/4038 (40%)]\tLoss: 0.908817, Accuracy: 12/16 (75.000%)\n",
      "TRAIN: LOSS-->0.2651 (0.6876)\tACC-->87.500% (76.275%)\n",
      "TRAIN: 83 [3200/4038 (79%)]\tLoss: 0.265136, Accuracy: 14/16 (87.500%)\n",
      "VAL:   LOSS--> 0.1520 (0.1520)\tACC-->93.750 (93.750)\n",
      " * Accuracy 92.4157\n",
      "EARLY STOP\n"
     ]
    },
    {
     "name": "stderr",
     "output_type": "stream",
     "text": [
      "\r",
      " 56%|███████████████████████████████████████████                                  | 84/150 [1:18:44<1:01:51, 56.24s/it]"
     ]
    },
    {
     "name": "stdout",
     "output_type": "stream",
     "text": [
      "TRAIN: LOSS-->0.6637 (0.6637)\tACC-->75.000% (75.000%)\n",
      "TRAIN: 84 [0/4038 (0%)]\tLoss: 0.663724, Accuracy: 12/16 (75.000%)\n",
      "TRAIN: LOSS-->0.9108 (0.6572)\tACC-->62.500% (78.032%)\n",
      "TRAIN: 84 [1600/4038 (40%)]\tLoss: 0.910845, Accuracy: 10/16 (62.500%)\n",
      "TRAIN: LOSS-->0.5209 (0.6581)\tACC-->81.250% (77.270%)\n",
      "TRAIN: 84 [3200/4038 (79%)]\tLoss: 0.520891, Accuracy: 13/16 (81.250%)\n",
      "VAL:   LOSS--> 0.1497 (0.1497)\tACC-->93.750 (93.750)\n",
      " * Accuracy 93.2584\n",
      "EARLY STOP\n"
     ]
    },
    {
     "name": "stderr",
     "output_type": "stream",
     "text": [
      "\r",
      " 57%|███████████████████████████████████████████▋                                 | 85/150 [1:19:44<1:00:58, 56.28s/it]"
     ]
    },
    {
     "name": "stdout",
     "output_type": "stream",
     "text": [
      "TRAIN: LOSS-->0.7124 (0.7124)\tACC-->81.250% (81.250%)\n",
      "TRAIN: 85 [0/4038 (0%)]\tLoss: 0.712401, Accuracy: 13/16 (81.250%)\n",
      "TRAIN: LOSS-->0.3873 (0.6224)\tACC-->81.250% (77.908%)\n",
      "TRAIN: 85 [1600/4038 (40%)]\tLoss: 0.387255, Accuracy: 13/16 (81.250%)\n",
      "TRAIN: LOSS-->0.5902 (0.6398)\tACC-->81.250% (77.767%)\n",
      "TRAIN: 85 [3200/4038 (79%)]\tLoss: 0.590210, Accuracy: 13/16 (81.250%)\n",
      "VAL:   LOSS--> 0.0876 (0.0876)\tACC-->100.000 (100.000)\n",
      " * Accuracy 92.2753\n",
      "EARLY STOP\n"
     ]
    },
    {
     "name": "stderr",
     "output_type": "stream",
     "text": [
      "\r",
      " 57%|████████████████████████████████████████████▏                                | 86/150 [1:20:44<1:00:04, 56.33s/it]"
     ]
    },
    {
     "name": "stdout",
     "output_type": "stream",
     "text": [
      "TRAIN: LOSS-->0.7592 (0.7592)\tACC-->68.750% (68.750%)\n",
      "TRAIN: 86 [0/4038 (0%)]\tLoss: 0.759235, Accuracy: 11/16 (68.750%)\n",
      "TRAIN: LOSS-->0.5569 (0.6874)\tACC-->87.500% (77.351%)\n",
      "TRAIN: 86 [1600/4038 (40%)]\tLoss: 0.556888, Accuracy: 14/16 (87.500%)\n",
      "TRAIN: LOSS-->0.8564 (0.6647)\tACC-->81.250% (77.456%)\n",
      "TRAIN: 86 [3200/4038 (79%)]\tLoss: 0.856379, Accuracy: 13/16 (81.250%)\n",
      "VAL:   LOSS--> 0.3182 (0.3182)\tACC-->87.500 (87.500)\n",
      " * Accuracy 93.6798\n",
      "EARLY STOP\n"
     ]
    },
    {
     "name": "stderr",
     "output_type": "stream",
     "text": [
      "\r",
      " 58%|█████████████████████████████████████████████▊                                 | 87/150 [1:21:43<59:11, 56.37s/it]"
     ]
    },
    {
     "name": "stdout",
     "output_type": "stream",
     "text": [
      "TRAIN: LOSS-->0.6716 (0.6716)\tACC-->68.750% (68.750%)\n",
      "TRAIN: 87 [0/4038 (0%)]\tLoss: 0.671577, Accuracy: 11/16 (68.750%)\n",
      "TRAIN: LOSS-->0.7890 (0.6606)\tACC-->68.750% (77.290%)\n",
      "TRAIN: 87 [1600/4038 (40%)]\tLoss: 0.789027, Accuracy: 11/16 (68.750%)\n",
      "TRAIN: LOSS-->0.9652 (0.6717)\tACC-->81.250% (77.519%)\n",
      "TRAIN: 87 [3200/4038 (79%)]\tLoss: 0.965201, Accuracy: 13/16 (81.250%)\n",
      "VAL:   LOSS--> 0.1201 (0.1201)\tACC-->93.750 (93.750)\n",
      " * Accuracy 93.9607\n",
      "EARLY STOP\n"
     ]
    },
    {
     "name": "stderr",
     "output_type": "stream",
     "text": [
      "\r",
      " 59%|██████████████████████████████████████████████▎                                | 88/150 [1:22:43<58:17, 56.41s/it]"
     ]
    },
    {
     "name": "stdout",
     "output_type": "stream",
     "text": [
      "TRAIN: LOSS-->0.8747 (0.8747)\tACC-->81.250% (81.250%)\n",
      "TRAIN: 88 [0/4038 (0%)]\tLoss: 0.874694, Accuracy: 13/16 (81.250%)\n",
      "TRAIN: LOSS-->0.7064 (0.6740)\tACC-->75.000% (77.599%)\n",
      "TRAIN: 88 [1600/4038 (40%)]\tLoss: 0.706358, Accuracy: 12/16 (75.000%)\n",
      "TRAIN: LOSS-->0.1444 (0.6603)\tACC-->100.000% (77.799%)\n",
      "TRAIN: 88 [3200/4038 (79%)]\tLoss: 0.144417, Accuracy: 16/16 (100.000%)\n",
      "VAL:   LOSS--> 0.0925 (0.0925)\tACC-->100.000 (100.000)\n",
      " * Accuracy 92.8371\n",
      "EARLY STOP\n"
     ]
    },
    {
     "name": "stderr",
     "output_type": "stream",
     "text": [
      "\r",
      " 59%|██████████████████████████████████████████████▊                                | 89/150 [1:23:43<57:23, 56.45s/it]"
     ]
    },
    {
     "name": "stdout",
     "output_type": "stream",
     "text": [
      "TRAIN: LOSS-->0.3639 (0.3639)\tACC-->87.500% (87.500%)\n",
      "TRAIN: 89 [0/4038 (0%)]\tLoss: 0.363853, Accuracy: 14/16 (87.500%)\n",
      "TRAIN: LOSS-->0.3116 (0.6000)\tACC-->93.750% (79.517%)\n",
      "TRAIN: 89 [1600/4038 (40%)]\tLoss: 0.311590, Accuracy: 15/16 (93.750%)\n",
      "TRAIN: LOSS-->0.5920 (0.6538)\tACC-->93.750% (77.861%)\n",
      "TRAIN: 89 [3200/4038 (79%)]\tLoss: 0.592010, Accuracy: 15/16 (93.750%)\n",
      "VAL:   LOSS--> 0.3943 (0.3943)\tACC-->81.250 (81.250)\n",
      " * Accuracy 91.0112\n",
      "EARLY STOP\n"
     ]
    },
    {
     "name": "stderr",
     "output_type": "stream",
     "text": [
      "\r",
      " 60%|███████████████████████████████████████████████▍                               | 90/150 [1:24:43<56:29, 56.49s/it]"
     ]
    },
    {
     "name": "stdout",
     "output_type": "stream",
     "text": [
      "TRAIN: LOSS-->0.7315 (0.7315)\tACC-->75.000% (75.000%)\n",
      "TRAIN: 90 [0/4038 (0%)]\tLoss: 0.731509, Accuracy: 12/16 (75.000%)\n",
      "TRAIN: LOSS-->0.2893 (0.6363)\tACC-->87.500% (77.537%)\n",
      "TRAIN: 90 [1600/4038 (40%)]\tLoss: 0.289342, Accuracy: 14/16 (87.500%)\n",
      "TRAIN: LOSS-->0.3096 (0.6286)\tACC-->87.500% (78.265%)\n",
      "TRAIN: 90 [3200/4038 (79%)]\tLoss: 0.309623, Accuracy: 14/16 (87.500%)\n",
      "VAL:   LOSS--> 0.1170 (0.1170)\tACC-->93.750 (93.750)\n",
      " * Accuracy 89.0449\n"
     ]
    },
    {
     "name": "stderr",
     "output_type": "stream",
     "text": [
      "\r",
      " 61%|███████████████████████████████████████████████▉                               | 91/150 [1:25:38<55:31, 56.47s/it]"
     ]
    },
    {
     "name": "stdout",
     "output_type": "stream",
     "text": [
      "TRAIN: LOSS-->0.2360 (0.2360)\tACC-->93.750% (93.750%)\n",
      "TRAIN: 91 [0/4038 (0%)]\tLoss: 0.235950, Accuracy: 15/16 (93.750%)\n",
      "TRAIN: LOSS-->0.3686 (0.6704)\tACC-->81.250% (76.733%)\n",
      "TRAIN: 91 [1600/4038 (40%)]\tLoss: 0.368593, Accuracy: 13/16 (81.250%)\n",
      "TRAIN: LOSS-->0.8203 (0.6443)\tACC-->75.000% (77.736%)\n",
      "TRAIN: 91 [3200/4038 (79%)]\tLoss: 0.820302, Accuracy: 12/16 (75.000%)\n",
      "VAL:   LOSS--> 0.6645 (0.6645)\tACC-->75.000 (75.000)\n",
      " * Accuracy 91.2921\n",
      "EARLY STOP\n"
     ]
    },
    {
     "name": "stderr",
     "output_type": "stream",
     "text": [
      "\r",
      " 61%|████████████████████████████████████████████████▍                              | 92/150 [1:26:38<54:37, 56.50s/it]"
     ]
    },
    {
     "name": "stdout",
     "output_type": "stream",
     "text": [
      "TRAIN: LOSS-->0.7850 (0.7850)\tACC-->75.000% (75.000%)\n",
      "TRAIN: 92 [0/4038 (0%)]\tLoss: 0.785009, Accuracy: 12/16 (75.000%)\n",
      "TRAIN: LOSS-->0.3217 (0.6839)\tACC-->87.500% (76.052%)\n",
      "TRAIN: 92 [1600/4038 (40%)]\tLoss: 0.321747, Accuracy: 14/16 (87.500%)\n",
      "TRAIN: LOSS-->0.5130 (0.6490)\tACC-->81.250% (77.736%)\n",
      "TRAIN: 92 [3200/4038 (79%)]\tLoss: 0.513033, Accuracy: 13/16 (81.250%)\n",
      "VAL:   LOSS--> 0.0243 (0.0243)\tACC-->100.000 (100.000)\n",
      " * Accuracy 92.9775\n",
      "EARLY STOP\n"
     ]
    },
    {
     "name": "stderr",
     "output_type": "stream",
     "text": [
      "\r",
      " 62%|████████████████████████████████████████████████▉                              | 93/150 [1:27:38<53:42, 56.54s/it]"
     ]
    },
    {
     "name": "stdout",
     "output_type": "stream",
     "text": [
      "TRAIN: LOSS-->0.5335 (0.5335)\tACC-->68.750% (68.750%)\n",
      "TRAIN: 93 [0/4038 (0%)]\tLoss: 0.533489, Accuracy: 11/16 (68.750%)\n",
      "TRAIN: LOSS-->0.3911 (0.6251)\tACC-->93.750% (78.156%)\n",
      "TRAIN: 93 [1600/4038 (40%)]\tLoss: 0.391093, Accuracy: 15/16 (93.750%)\n",
      "TRAIN: LOSS-->0.3989 (0.6226)\tACC-->87.500% (78.296%)\n",
      "TRAIN: 93 [3200/4038 (79%)]\tLoss: 0.398935, Accuracy: 14/16 (87.500%)\n",
      "VAL:   LOSS--> 0.1945 (0.1945)\tACC-->87.500 (87.500)\n",
      " * Accuracy 93.2584\n",
      "EARLY STOP\n"
     ]
    },
    {
     "name": "stderr",
     "output_type": "stream",
     "text": [
      "\r",
      " 63%|█████████████████████████████████████████████████▌                             | 94/150 [1:28:38<52:48, 56.58s/it]"
     ]
    },
    {
     "name": "stdout",
     "output_type": "stream",
     "text": [
      "TRAIN: LOSS-->0.3734 (0.3734)\tACC-->81.250% (81.250%)\n",
      "TRAIN: 94 [0/4038 (0%)]\tLoss: 0.373405, Accuracy: 13/16 (81.250%)\n",
      "TRAIN: LOSS-->0.4454 (0.6376)\tACC-->93.750% (77.970%)\n",
      "TRAIN: 94 [1600/4038 (40%)]\tLoss: 0.445398, Accuracy: 15/16 (93.750%)\n",
      "TRAIN: LOSS-->0.9484 (0.6395)\tACC-->62.500% (78.047%)\n",
      "TRAIN: 94 [3200/4038 (79%)]\tLoss: 0.948426, Accuracy: 10/16 (62.500%)\n",
      "VAL:   LOSS--> 0.1796 (0.1796)\tACC-->87.500 (87.500)\n",
      " * Accuracy 92.9775\n",
      "EARLY STOP\n"
     ]
    },
    {
     "name": "stderr",
     "output_type": "stream",
     "text": [
      "\r",
      " 63%|██████████████████████████████████████████████████                             | 95/150 [1:29:37<51:53, 56.61s/it]"
     ]
    },
    {
     "name": "stdout",
     "output_type": "stream",
     "text": [
      "TRAIN: LOSS-->0.7639 (0.7639)\tACC-->68.750% (68.750%)\n",
      "TRAIN: 95 [0/4038 (0%)]\tLoss: 0.763934, Accuracy: 11/16 (68.750%)\n",
      "TRAIN: LOSS-->0.5341 (0.6536)\tACC-->68.750% (78.465%)\n",
      "TRAIN: 95 [1600/4038 (40%)]\tLoss: 0.534108, Accuracy: 11/16 (68.750%)\n",
      "TRAIN: LOSS-->0.6873 (0.6565)\tACC-->68.750% (78.172%)\n",
      "TRAIN: 95 [3200/4038 (79%)]\tLoss: 0.687326, Accuracy: 11/16 (68.750%)\n",
      "VAL:   LOSS--> 0.3403 (0.3403)\tACC-->87.500 (87.500)\n",
      " * Accuracy 91.0112\n",
      "EARLY STOP\n"
     ]
    },
    {
     "name": "stderr",
     "output_type": "stream",
     "text": [
      "\r",
      " 64%|██████████████████████████████████████████████████▌                            | 96/150 [1:30:37<50:58, 56.64s/it]"
     ]
    },
    {
     "name": "stdout",
     "output_type": "stream",
     "text": [
      "TRAIN: LOSS-->0.4003 (0.4003)\tACC-->93.750% (93.750%)\n",
      "TRAIN: 96 [0/4038 (0%)]\tLoss: 0.400333, Accuracy: 15/16 (93.750%)\n",
      "TRAIN: LOSS-->0.5832 (0.6730)\tACC-->75.000% (76.795%)\n",
      "TRAIN: 96 [1600/4038 (40%)]\tLoss: 0.583153, Accuracy: 12/16 (75.000%)\n",
      "TRAIN: LOSS-->0.9949 (0.6779)\tACC-->62.500% (76.741%)\n",
      "TRAIN: 96 [3200/4038 (79%)]\tLoss: 0.994895, Accuracy: 10/16 (62.500%)\n",
      "VAL:   LOSS--> 0.0746 (0.0746)\tACC-->93.750 (93.750)\n",
      " * Accuracy 93.6798\n",
      "EARLY STOP\n"
     ]
    },
    {
     "name": "stderr",
     "output_type": "stream",
     "text": [
      "\r",
      " 65%|███████████████████████████████████████████████████                            | 97/150 [1:31:37<50:03, 56.68s/it]"
     ]
    },
    {
     "name": "stdout",
     "output_type": "stream",
     "text": [
      "TRAIN: LOSS-->0.7801 (0.7801)\tACC-->81.250% (81.250%)\n",
      "TRAIN: 97 [0/4038 (0%)]\tLoss: 0.780066, Accuracy: 13/16 (81.250%)\n",
      "TRAIN: LOSS-->0.3558 (0.6277)\tACC-->93.750% (78.218%)\n",
      "TRAIN: 97 [1600/4038 (40%)]\tLoss: 0.355798, Accuracy: 15/16 (93.750%)\n",
      "TRAIN: LOSS-->0.7115 (0.6668)\tACC-->81.250% (77.052%)\n",
      "TRAIN: 97 [3200/4038 (79%)]\tLoss: 0.711466, Accuracy: 13/16 (81.250%)\n",
      "VAL:   LOSS--> 0.2193 (0.2193)\tACC-->93.750 (93.750)\n",
      " * Accuracy 93.2584\n",
      "EARLY STOP\n"
     ]
    },
    {
     "name": "stderr",
     "output_type": "stream",
     "text": [
      "\r",
      " 65%|███████████████████████████████████████████████████▌                           | 98/150 [1:32:37<49:08, 56.71s/it]"
     ]
    },
    {
     "name": "stdout",
     "output_type": "stream",
     "text": [
      "TRAIN: LOSS-->0.7268 (0.7268)\tACC-->75.000% (75.000%)\n",
      "TRAIN: 98 [0/4038 (0%)]\tLoss: 0.726817, Accuracy: 12/16 (75.000%)\n",
      "TRAIN: LOSS-->0.5269 (0.6114)\tACC-->81.250% (79.765%)\n",
      "TRAIN: 98 [1600/4038 (40%)]\tLoss: 0.526877, Accuracy: 13/16 (81.250%)\n",
      "TRAIN: LOSS-->0.5418 (0.6479)\tACC-->68.750% (77.954%)\n",
      "TRAIN: 98 [3200/4038 (79%)]\tLoss: 0.541835, Accuracy: 11/16 (68.750%)\n",
      "VAL:   LOSS--> 0.1588 (0.1588)\tACC-->93.750 (93.750)\n",
      " * Accuracy 93.2584\n",
      "EARLY STOP\n"
     ]
    },
    {
     "name": "stderr",
     "output_type": "stream",
     "text": [
      "\r",
      " 66%|████████████████████████████████████████████████████▏                          | 99/150 [1:33:37<48:13, 56.74s/it]"
     ]
    },
    {
     "name": "stdout",
     "output_type": "stream",
     "text": [
      "TRAIN: LOSS-->0.3144 (0.3144)\tACC-->87.500% (87.500%)\n",
      "TRAIN: 99 [0/4038 (0%)]\tLoss: 0.314411, Accuracy: 14/16 (87.500%)\n",
      "TRAIN: LOSS-->0.5387 (0.6116)\tACC-->75.000% (77.723%)\n",
      "TRAIN: 99 [1600/4038 (40%)]\tLoss: 0.538694, Accuracy: 12/16 (75.000%)\n",
      "TRAIN: LOSS-->0.3803 (0.6269)\tACC-->93.750% (78.203%)\n",
      "TRAIN: 99 [3200/4038 (79%)]\tLoss: 0.380261, Accuracy: 15/16 (93.750%)\n",
      "VAL:   LOSS--> 0.0993 (0.0993)\tACC-->93.750 (93.750)\n",
      " * Accuracy 92.6966\n",
      "EARLY STOP\n"
     ]
    },
    {
     "name": "stderr",
     "output_type": "stream",
     "text": [
      "\r",
      " 67%|████████████████████████████████████████████████████                          | 100/150 [1:34:37<47:18, 56.77s/it]"
     ]
    },
    {
     "name": "stdout",
     "output_type": "stream",
     "text": [
      "TRAIN: LOSS-->0.4398 (0.4398)\tACC-->81.250% (81.250%)\n",
      "TRAIN: 100 [0/4038 (0%)]\tLoss: 0.439844, Accuracy: 13/16 (81.250%)\n",
      "TRAIN: LOSS-->1.0273 (0.6747)\tACC-->56.250% (76.671%)\n",
      "TRAIN: 100 [1600/4038 (40%)]\tLoss: 1.027334, Accuracy: 9/16 (56.250%)\n",
      "TRAIN: LOSS-->0.7226 (0.6335)\tACC-->81.250% (78.607%)\n",
      "TRAIN: 100 [3200/4038 (79%)]\tLoss: 0.722599, Accuracy: 13/16 (81.250%)\n",
      "VAL:   LOSS--> 0.0551 (0.0551)\tACC-->100.000 (100.000)\n",
      " * Accuracy 90.4494\n",
      "EARLY STOP\n"
     ]
    },
    {
     "name": "stderr",
     "output_type": "stream",
     "text": [
      "\r",
      " 67%|████████████████████████████████████████████████████▌                         | 101/150 [1:35:37<46:23, 56.81s/it]"
     ]
    },
    {
     "name": "stdout",
     "output_type": "stream",
     "text": [
      "TRAIN: LOSS-->0.5126 (0.5126)\tACC-->81.250% (81.250%)\n",
      "TRAIN: 101 [0/4038 (0%)]\tLoss: 0.512564, Accuracy: 13/16 (81.250%)\n",
      "TRAIN: LOSS-->0.7163 (0.5926)\tACC-->75.000% (79.579%)\n",
      "TRAIN: 101 [1600/4038 (40%)]\tLoss: 0.716310, Accuracy: 12/16 (75.000%)\n",
      "TRAIN: LOSS-->0.8021 (0.5940)\tACC-->68.750% (79.167%)\n",
      "TRAIN: 101 [3200/4038 (79%)]\tLoss: 0.802139, Accuracy: 11/16 (68.750%)\n",
      "VAL:   LOSS--> 0.3179 (0.3179)\tACC-->93.750 (93.750)\n",
      " * Accuracy 89.3258\n"
     ]
    },
    {
     "name": "stderr",
     "output_type": "stream",
     "text": [
      "\r",
      " 68%|█████████████████████████████████████████████████████                         | 102/150 [1:36:32<45:25, 56.78s/it]"
     ]
    },
    {
     "name": "stdout",
     "output_type": "stream",
     "text": [
      "TRAIN: LOSS-->0.5906 (0.5906)\tACC-->75.000% (75.000%)\n",
      "TRAIN: 102 [0/4038 (0%)]\tLoss: 0.590567, Accuracy: 12/16 (75.000%)\n",
      "TRAIN: LOSS-->0.6918 (0.6407)\tACC-->87.500% (77.785%)\n",
      "TRAIN: 102 [1600/4038 (40%)]\tLoss: 0.691802, Accuracy: 14/16 (87.500%)\n",
      "TRAIN: LOSS-->0.5176 (0.6278)\tACC-->81.250% (78.638%)\n",
      "TRAIN: 102 [3200/4038 (79%)]\tLoss: 0.517585, Accuracy: 13/16 (81.250%)\n",
      "VAL:   LOSS--> 0.1626 (0.1626)\tACC-->93.750 (93.750)\n",
      " * Accuracy 90.3090\n",
      "EARLY STOP\n"
     ]
    },
    {
     "name": "stderr",
     "output_type": "stream",
     "text": [
      "\r",
      " 69%|█████████████████████████████████████████████████████▌                        | 103/150 [1:37:31<44:30, 56.81s/it]"
     ]
    },
    {
     "name": "stdout",
     "output_type": "stream",
     "text": [
      "TRAIN: LOSS-->0.8726 (0.8726)\tACC-->56.250% (56.250%)\n",
      "TRAIN: 103 [0/4038 (0%)]\tLoss: 0.872573, Accuracy: 9/16 (56.250%)\n",
      "TRAIN: LOSS-->0.6066 (0.6364)\tACC-->81.250% (77.970%)\n",
      "TRAIN: 103 [1600/4038 (40%)]\tLoss: 0.606644, Accuracy: 13/16 (81.250%)\n",
      "TRAIN: LOSS-->0.4329 (0.6167)\tACC-->87.500% (78.825%)\n",
      "TRAIN: 103 [3200/4038 (79%)]\tLoss: 0.432865, Accuracy: 14/16 (87.500%)\n",
      "VAL:   LOSS--> 0.1788 (0.1788)\tACC-->100.000 (100.000)\n",
      " * Accuracy 92.9775\n",
      "EARLY STOP\n"
     ]
    },
    {
     "name": "stderr",
     "output_type": "stream",
     "text": [
      "\r",
      " 69%|██████████████████████████████████████████████████████                        | 104/150 [1:38:32<43:35, 56.85s/it]"
     ]
    },
    {
     "name": "stdout",
     "output_type": "stream",
     "text": [
      "TRAIN: LOSS-->0.1769 (0.1769)\tACC-->93.750% (93.750%)\n",
      "TRAIN: 104 [0/4038 (0%)]\tLoss: 0.176905, Accuracy: 15/16 (93.750%)\n",
      "TRAIN: LOSS-->1.2664 (0.6167)\tACC-->68.750% (78.403%)\n",
      "TRAIN: 104 [1600/4038 (40%)]\tLoss: 1.266360, Accuracy: 11/16 (68.750%)\n",
      "TRAIN: LOSS-->0.5067 (0.6123)\tACC-->81.250% (78.856%)\n",
      "TRAIN: 104 [3200/4038 (79%)]\tLoss: 0.506702, Accuracy: 13/16 (81.250%)\n",
      "VAL:   LOSS--> 0.1836 (0.1836)\tACC-->93.750 (93.750)\n",
      " * Accuracy 93.6798\n",
      "EARLY STOP\n"
     ]
    },
    {
     "name": "stderr",
     "output_type": "stream",
     "text": [
      "\r",
      " 70%|██████████████████████████████████████████████████████▌                       | 105/150 [1:39:32<42:39, 56.88s/it]"
     ]
    },
    {
     "name": "stdout",
     "output_type": "stream",
     "text": [
      "TRAIN: LOSS-->0.7208 (0.7208)\tACC-->62.500% (62.500%)\n",
      "TRAIN: 105 [0/4038 (0%)]\tLoss: 0.720809, Accuracy: 10/16 (62.500%)\n",
      "TRAIN: LOSS-->0.2832 (0.5937)\tACC-->87.500% (78.280%)\n",
      "TRAIN: 105 [1600/4038 (40%)]\tLoss: 0.283182, Accuracy: 14/16 (87.500%)\n",
      "TRAIN: LOSS-->0.2232 (0.5875)\tACC-->93.750% (79.757%)\n",
      "TRAIN: 105 [3200/4038 (79%)]\tLoss: 0.223175, Accuracy: 15/16 (93.750%)\n",
      "VAL:   LOSS--> 0.2325 (0.2325)\tACC-->93.750 (93.750)\n",
      " * Accuracy 92.5562\n",
      "EARLY STOP\n"
     ]
    },
    {
     "name": "stderr",
     "output_type": "stream",
     "text": [
      "\r",
      " 71%|███████████████████████████████████████████████████████                       | 106/150 [1:40:32<41:43, 56.91s/it]"
     ]
    },
    {
     "name": "stdout",
     "output_type": "stream",
     "text": [
      "TRAIN: LOSS-->0.6677 (0.6677)\tACC-->75.000% (75.000%)\n",
      "TRAIN: 106 [0/4038 (0%)]\tLoss: 0.667740, Accuracy: 12/16 (75.000%)\n",
      "TRAIN: LOSS-->1.0401 (0.6352)\tACC-->62.500% (78.032%)\n",
      "TRAIN: 106 [1600/4038 (40%)]\tLoss: 1.040112, Accuracy: 10/16 (62.500%)\n",
      "TRAIN: LOSS-->0.5912 (0.6038)\tACC-->75.000% (79.073%)\n",
      "TRAIN: 106 [3200/4038 (79%)]\tLoss: 0.591202, Accuracy: 12/16 (75.000%)\n",
      "VAL:   LOSS--> 0.1219 (0.1219)\tACC-->93.750 (93.750)\n",
      " * Accuracy 93.8202\n",
      "EARLY STOP\n"
     ]
    },
    {
     "name": "stderr",
     "output_type": "stream",
     "text": [
      "\r",
      " 71%|███████████████████████████████████████████████████████▋                      | 107/150 [1:41:31<40:48, 56.93s/it]"
     ]
    },
    {
     "name": "stdout",
     "output_type": "stream",
     "text": [
      "TRAIN: LOSS-->0.2986 (0.2986)\tACC-->93.750% (93.750%)\n",
      "TRAIN: 107 [0/4038 (0%)]\tLoss: 0.298614, Accuracy: 15/16 (93.750%)\n",
      "TRAIN: LOSS-->1.0982 (0.6074)\tACC-->75.000% (79.517%)\n",
      "TRAIN: 107 [1600/4038 (40%)]\tLoss: 1.098165, Accuracy: 12/16 (75.000%)\n",
      "TRAIN: LOSS-->0.5471 (0.6139)\tACC-->81.250% (79.042%)\n",
      "TRAIN: 107 [3200/4038 (79%)]\tLoss: 0.547101, Accuracy: 13/16 (81.250%)\n",
      "VAL:   LOSS--> 0.1726 (0.1726)\tACC-->93.750 (93.750)\n",
      " * Accuracy 91.4326\n",
      "EARLY STOP\n"
     ]
    },
    {
     "name": "stderr",
     "output_type": "stream",
     "text": [
      "\r",
      " 72%|████████████████████████████████████████████████████████▏                     | 108/150 [1:42:31<39:52, 56.96s/it]"
     ]
    },
    {
     "name": "stdout",
     "output_type": "stream",
     "text": [
      "TRAIN: LOSS-->0.5870 (0.5870)\tACC-->75.000% (75.000%)\n",
      "TRAIN: 108 [0/4038 (0%)]\tLoss: 0.587022, Accuracy: 12/16 (75.000%)\n",
      "TRAIN: LOSS-->0.9142 (0.6046)\tACC-->75.000% (79.270%)\n",
      "TRAIN: 108 [1600/4038 (40%)]\tLoss: 0.914245, Accuracy: 12/16 (75.000%)\n",
      "TRAIN: LOSS-->0.6184 (0.6131)\tACC-->75.000% (79.167%)\n",
      "TRAIN: 108 [3200/4038 (79%)]\tLoss: 0.618424, Accuracy: 12/16 (75.000%)\n",
      "VAL:   LOSS--> 0.0972 (0.0972)\tACC-->100.000 (100.000)\n",
      " * Accuracy 92.5562\n",
      "EARLY STOP\n"
     ]
    },
    {
     "name": "stderr",
     "output_type": "stream",
     "text": [
      "\r",
      " 73%|████████████████████████████████████████████████████████▋                     | 109/150 [1:43:31<38:56, 56.99s/it]"
     ]
    },
    {
     "name": "stdout",
     "output_type": "stream",
     "text": [
      "TRAIN: LOSS-->0.5230 (0.5230)\tACC-->75.000% (75.000%)\n",
      "TRAIN: 109 [0/4038 (0%)]\tLoss: 0.523015, Accuracy: 12/16 (75.000%)\n",
      "TRAIN: LOSS-->0.6509 (0.6273)\tACC-->81.250% (79.889%)\n",
      "TRAIN: 109 [1600/4038 (40%)]\tLoss: 0.650940, Accuracy: 13/16 (81.250%)\n",
      "TRAIN: LOSS-->0.4359 (0.6280)\tACC-->81.250% (78.825%)\n",
      "TRAIN: 109 [3200/4038 (79%)]\tLoss: 0.435911, Accuracy: 13/16 (81.250%)\n",
      "VAL:   LOSS--> 0.3383 (0.3383)\tACC-->87.500 (87.500)\n",
      " * Accuracy 87.5000\n"
     ]
    },
    {
     "name": "stderr",
     "output_type": "stream",
     "text": [
      "\r",
      " 73%|█████████████████████████████████████████████████████████▏                    | 110/150 [1:44:26<37:58, 56.97s/it]"
     ]
    },
    {
     "name": "stdout",
     "output_type": "stream",
     "text": [
      "TRAIN: LOSS-->0.2937 (0.2937)\tACC-->93.750% (93.750%)\n",
      "TRAIN: 110 [0/4038 (0%)]\tLoss: 0.293737, Accuracy: 15/16 (93.750%)\n",
      "TRAIN: LOSS-->1.4614 (0.5710)\tACC-->43.750% (80.446%)\n",
      "TRAIN: 110 [1600/4038 (40%)]\tLoss: 1.461370, Accuracy: 7/16 (43.750%)\n",
      "TRAIN: LOSS-->1.0815 (0.5917)\tACC-->56.250% (79.882%)\n",
      "TRAIN: 110 [3200/4038 (79%)]\tLoss: 1.081500, Accuracy: 9/16 (56.250%)\n",
      "VAL:   LOSS--> 0.6176 (0.6176)\tACC-->81.250 (81.250)\n",
      " * Accuracy 91.1517\n",
      "EARLY STOP\n"
     ]
    },
    {
     "name": "stderr",
     "output_type": "stream",
     "text": [
      "\r",
      " 74%|█████████████████████████████████████████████████████████▋                    | 111/150 [1:45:26<37:02, 57.00s/it]"
     ]
    },
    {
     "name": "stdout",
     "output_type": "stream",
     "text": [
      "TRAIN: LOSS-->0.9843 (0.9843)\tACC-->75.000% (75.000%)\n",
      "TRAIN: 111 [0/4038 (0%)]\tLoss: 0.984291, Accuracy: 12/16 (75.000%)\n",
      "TRAIN: LOSS-->0.2524 (0.5694)\tACC-->93.750% (80.074%)\n",
      "TRAIN: 111 [1600/4038 (40%)]\tLoss: 0.252355, Accuracy: 15/16 (93.750%)\n",
      "TRAIN: LOSS-->0.9167 (0.5906)\tACC-->62.500% (80.068%)\n",
      "TRAIN: 111 [3200/4038 (79%)]\tLoss: 0.916714, Accuracy: 10/16 (62.500%)\n",
      "VAL:   LOSS--> 0.2922 (0.2922)\tACC-->87.500 (87.500)\n",
      " * Accuracy 90.5899\n",
      "EARLY STOP\n"
     ]
    },
    {
     "name": "stderr",
     "output_type": "stream",
     "text": [
      "\r",
      " 75%|██████████████████████████████████████████████████████████▏                   | 112/150 [1:46:26<36:06, 57.02s/it]"
     ]
    },
    {
     "name": "stdout",
     "output_type": "stream",
     "text": [
      "TRAIN: LOSS-->0.5389 (0.5389)\tACC-->75.000% (75.000%)\n",
      "TRAIN: 112 [0/4038 (0%)]\tLoss: 0.538950, Accuracy: 12/16 (75.000%)\n",
      "TRAIN: LOSS-->0.5592 (0.6046)\tACC-->87.500% (79.641%)\n",
      "TRAIN: 112 [1600/4038 (40%)]\tLoss: 0.559212, Accuracy: 14/16 (87.500%)\n",
      "TRAIN: LOSS-->0.6125 (0.5996)\tACC-->75.000% (79.944%)\n",
      "TRAIN: 112 [3200/4038 (79%)]\tLoss: 0.612488, Accuracy: 12/16 (75.000%)\n",
      "VAL:   LOSS--> 0.1203 (0.1203)\tACC-->93.750 (93.750)\n",
      " * Accuracy 93.6798\n",
      "EARLY STOP\n"
     ]
    },
    {
     "name": "stderr",
     "output_type": "stream",
     "text": [
      "\r",
      " 75%|██████████████████████████████████████████████████████████▊                   | 113/150 [1:47:26<35:10, 57.05s/it]"
     ]
    },
    {
     "name": "stdout",
     "output_type": "stream",
     "text": [
      "TRAIN: LOSS-->0.4327 (0.4327)\tACC-->81.250% (81.250%)\n",
      "TRAIN: 113 [0/4038 (0%)]\tLoss: 0.432661, Accuracy: 13/16 (81.250%)\n",
      "TRAIN: LOSS-->1.3957 (0.6387)\tACC-->62.500% (78.218%)\n",
      "TRAIN: 113 [1600/4038 (40%)]\tLoss: 1.395717, Accuracy: 10/16 (62.500%)\n",
      "TRAIN: LOSS-->0.3624 (0.6149)\tACC-->87.500% (78.949%)\n",
      "TRAIN: 113 [3200/4038 (79%)]\tLoss: 0.362359, Accuracy: 14/16 (87.500%)\n",
      "VAL:   LOSS--> 0.1965 (0.1965)\tACC-->87.500 (87.500)\n",
      " * Accuracy 93.6798\n",
      "EARLY STOP\n"
     ]
    },
    {
     "name": "stderr",
     "output_type": "stream",
     "text": [
      "\r",
      " 76%|███████████████████████████████████████████████████████████▎                  | 114/150 [1:48:26<34:14, 57.07s/it]"
     ]
    },
    {
     "name": "stdout",
     "output_type": "stream",
     "text": [
      "TRAIN: LOSS-->0.2056 (0.2056)\tACC-->100.000% (100.000%)\n",
      "TRAIN: 114 [0/4038 (0%)]\tLoss: 0.205605, Accuracy: 16/16 (100.000%)\n",
      "TRAIN: LOSS-->0.4953 (0.6169)\tACC-->87.500% (79.146%)\n",
      "TRAIN: 114 [1600/4038 (40%)]\tLoss: 0.495328, Accuracy: 14/16 (87.500%)\n",
      "TRAIN: LOSS-->0.2341 (0.5968)\tACC-->93.750% (79.571%)\n",
      "TRAIN: 114 [3200/4038 (79%)]\tLoss: 0.234055, Accuracy: 15/16 (93.750%)\n",
      "VAL:   LOSS--> 0.1158 (0.1158)\tACC-->93.750 (93.750)\n",
      " * Accuracy 89.0449\n"
     ]
    },
    {
     "name": "stderr",
     "output_type": "stream",
     "text": [
      "\r",
      " 77%|███████████████████████████████████████████████████████████▊                  | 115/150 [1:49:21<33:16, 57.05s/it]"
     ]
    },
    {
     "name": "stdout",
     "output_type": "stream",
     "text": [
      "TRAIN: LOSS-->0.5561 (0.5561)\tACC-->81.250% (81.250%)\n",
      "TRAIN: 115 [0/4038 (0%)]\tLoss: 0.556071, Accuracy: 13/16 (81.250%)\n",
      "TRAIN: LOSS-->0.3148 (0.5997)\tACC-->93.750% (79.641%)\n",
      "TRAIN: 115 [1600/4038 (40%)]\tLoss: 0.314844, Accuracy: 15/16 (93.750%)\n",
      "TRAIN: LOSS-->0.3653 (0.5798)\tACC-->75.000% (79.789%)\n",
      "TRAIN: 115 [3200/4038 (79%)]\tLoss: 0.365260, Accuracy: 12/16 (75.000%)\n",
      "VAL:   LOSS--> 0.0465 (0.0465)\tACC-->100.000 (100.000)\n",
      " * Accuracy 93.2584\n",
      "EARLY STOP\n"
     ]
    },
    {
     "name": "stderr",
     "output_type": "stream",
     "text": [
      "\r",
      " 77%|████████████████████████████████████████████████████████████▎                 | 116/150 [1:50:20<32:20, 57.08s/it]"
     ]
    },
    {
     "name": "stdout",
     "output_type": "stream",
     "text": [
      "TRAIN: LOSS-->0.3463 (0.3463)\tACC-->87.500% (87.500%)\n",
      "TRAIN: 116 [0/4038 (0%)]\tLoss: 0.346264, Accuracy: 14/16 (87.500%)\n",
      "TRAIN: LOSS-->0.4200 (0.5507)\tACC-->81.250% (80.507%)\n",
      "TRAIN: 116 [1600/4038 (40%)]\tLoss: 0.419956, Accuracy: 13/16 (81.250%)\n",
      "TRAIN: LOSS-->0.4951 (0.5565)\tACC-->81.250% (80.473%)\n",
      "TRAIN: 116 [3200/4038 (79%)]\tLoss: 0.495079, Accuracy: 13/16 (81.250%)\n",
      "VAL:   LOSS--> 0.1874 (0.1874)\tACC-->87.500 (87.500)\n",
      " * Accuracy 93.6798\n",
      "EARLY STOP\n"
     ]
    },
    {
     "name": "stderr",
     "output_type": "stream",
     "text": [
      "\r",
      " 78%|████████████████████████████████████████████████████████████▊                 | 117/150 [1:51:20<31:24, 57.10s/it]"
     ]
    },
    {
     "name": "stdout",
     "output_type": "stream",
     "text": [
      "TRAIN: LOSS-->0.7106 (0.7106)\tACC-->75.000% (75.000%)\n",
      "TRAIN: 117 [0/4038 (0%)]\tLoss: 0.710607, Accuracy: 12/16 (75.000%)\n",
      "TRAIN: LOSS-->0.6437 (0.5843)\tACC-->81.250% (79.827%)\n",
      "TRAIN: 117 [1600/4038 (40%)]\tLoss: 0.643701, Accuracy: 13/16 (81.250%)\n",
      "TRAIN: LOSS-->1.0432 (0.5983)\tACC-->50.000% (79.757%)\n",
      "TRAIN: 117 [3200/4038 (79%)]\tLoss: 1.043241, Accuracy: 8/16 (50.000%)\n",
      "VAL:   LOSS--> 0.1983 (0.1983)\tACC-->93.750 (93.750)\n",
      " * Accuracy 89.7472\n"
     ]
    },
    {
     "name": "stderr",
     "output_type": "stream",
     "text": [
      "\r",
      " 79%|█████████████████████████████████████████████████████████████▎                | 118/150 [1:52:15<30:26, 57.08s/it]"
     ]
    },
    {
     "name": "stdout",
     "output_type": "stream",
     "text": [
      "TRAIN: LOSS-->0.8928 (0.8928)\tACC-->68.750% (68.750%)\n",
      "TRAIN: 118 [0/4038 (0%)]\tLoss: 0.892777, Accuracy: 11/16 (68.750%)\n",
      "TRAIN: LOSS-->0.5226 (0.6009)\tACC-->87.500% (78.342%)\n",
      "TRAIN: 118 [1600/4038 (40%)]\tLoss: 0.522601, Accuracy: 14/16 (87.500%)\n",
      "TRAIN: LOSS-->0.4531 (0.5669)\tACC-->87.500% (79.571%)\n",
      "TRAIN: 118 [3200/4038 (79%)]\tLoss: 0.453081, Accuracy: 14/16 (87.500%)\n",
      "VAL:   LOSS--> 0.1055 (0.1055)\tACC-->93.750 (93.750)\n",
      " * Accuracy 91.9944\n",
      "EARLY STOP\n"
     ]
    },
    {
     "name": "stderr",
     "output_type": "stream",
     "text": [
      "\r",
      " 79%|█████████████████████████████████████████████████████████████▉                | 119/150 [1:53:15<29:30, 57.11s/it]"
     ]
    },
    {
     "name": "stdout",
     "output_type": "stream",
     "text": [
      "TRAIN: LOSS-->0.7085 (0.7085)\tACC-->81.250% (81.250%)\n",
      "TRAIN: 119 [0/4038 (0%)]\tLoss: 0.708464, Accuracy: 13/16 (81.250%)\n",
      "TRAIN: LOSS-->0.4828 (0.5963)\tACC-->87.500% (79.827%)\n",
      "TRAIN: 119 [1600/4038 (40%)]\tLoss: 0.482825, Accuracy: 14/16 (87.500%)\n",
      "TRAIN: LOSS-->0.5413 (0.5756)\tACC-->75.000% (80.255%)\n",
      "TRAIN: 119 [3200/4038 (79%)]\tLoss: 0.541298, Accuracy: 12/16 (75.000%)\n",
      "VAL:   LOSS--> 0.3601 (0.3601)\tACC-->87.500 (87.500)\n",
      " * Accuracy 93.6798\n",
      "EARLY STOP\n"
     ]
    },
    {
     "name": "stderr",
     "output_type": "stream",
     "text": [
      "\r",
      " 80%|██████████████████████████████████████████████████████████████▍               | 120/150 [1:54:15<28:33, 57.13s/it]"
     ]
    },
    {
     "name": "stdout",
     "output_type": "stream",
     "text": [
      "TRAIN: LOSS-->0.5978 (0.5978)\tACC-->75.000% (75.000%)\n",
      "TRAIN: 120 [0/4038 (0%)]\tLoss: 0.597837, Accuracy: 12/16 (75.000%)\n",
      "TRAIN: LOSS-->0.6446 (0.6049)\tACC-->81.250% (78.342%)\n",
      "TRAIN: 120 [1600/4038 (40%)]\tLoss: 0.644552, Accuracy: 13/16 (81.250%)\n",
      "TRAIN: LOSS-->0.5027 (0.5650)\tACC-->75.000% (79.633%)\n",
      "TRAIN: 120 [3200/4038 (79%)]\tLoss: 0.502698, Accuracy: 12/16 (75.000%)\n",
      "VAL:   LOSS--> 0.1385 (0.1385)\tACC-->87.500 (87.500)\n",
      " * Accuracy 93.1180\n",
      "EARLY STOP\n"
     ]
    },
    {
     "name": "stderr",
     "output_type": "stream",
     "text": [
      "\r",
      " 81%|██████████████████████████████████████████████████████████████▉               | 121/150 [1:55:15<27:37, 57.15s/it]"
     ]
    },
    {
     "name": "stdout",
     "output_type": "stream",
     "text": [
      "TRAIN: LOSS-->0.8680 (0.8680)\tACC-->62.500% (62.500%)\n",
      "TRAIN: 121 [0/4038 (0%)]\tLoss: 0.867996, Accuracy: 10/16 (62.500%)\n",
      "TRAIN: LOSS-->0.6093 (0.5527)\tACC-->87.500% (81.869%)\n",
      "TRAIN: 121 [1600/4038 (40%)]\tLoss: 0.609332, Accuracy: 14/16 (87.500%)\n",
      "TRAIN: LOSS-->0.6988 (0.5763)\tACC-->81.250% (80.566%)\n",
      "TRAIN: 121 [3200/4038 (79%)]\tLoss: 0.698764, Accuracy: 13/16 (81.250%)\n",
      "VAL:   LOSS--> 0.0816 (0.0816)\tACC-->100.000 (100.000)\n",
      " * Accuracy 94.6629\n",
      "EARLY STOP\n"
     ]
    },
    {
     "name": "stderr",
     "output_type": "stream",
     "text": [
      "\r",
      " 81%|███████████████████████████████████████████████████████████████▍              | 122/150 [1:56:15<26:40, 57.17s/it]"
     ]
    },
    {
     "name": "stdout",
     "output_type": "stream",
     "text": [
      "TRAIN: LOSS-->0.2619 (0.2619)\tACC-->87.500% (87.500%)\n",
      "TRAIN: 122 [0/4038 (0%)]\tLoss: 0.261892, Accuracy: 14/16 (87.500%)\n",
      "TRAIN: LOSS-->0.3010 (0.5815)\tACC-->87.500% (78.218%)\n",
      "TRAIN: 122 [1600/4038 (40%)]\tLoss: 0.301028, Accuracy: 14/16 (87.500%)\n",
      "TRAIN: LOSS-->0.6982 (0.5738)\tACC-->81.250% (79.198%)\n",
      "TRAIN: 122 [3200/4038 (79%)]\tLoss: 0.698151, Accuracy: 13/16 (81.250%)\n",
      "VAL:   LOSS--> 0.3094 (0.3094)\tACC-->93.750 (93.750)\n",
      " * Accuracy 91.2921\n",
      "EARLY STOP\n"
     ]
    },
    {
     "name": "stderr",
     "output_type": "stream",
     "text": [
      "\r",
      " 82%|███████████████████████████████████████████████████████████████▉              | 123/150 [1:57:15<25:44, 57.20s/it]"
     ]
    },
    {
     "name": "stdout",
     "output_type": "stream",
     "text": [
      "TRAIN: LOSS-->0.2439 (0.2439)\tACC-->100.000% (100.000%)\n",
      "TRAIN: 123 [0/4038 (0%)]\tLoss: 0.243920, Accuracy: 16/16 (100.000%)\n",
      "TRAIN: LOSS-->0.2319 (0.5833)\tACC-->87.500% (79.889%)\n",
      "TRAIN: 123 [1600/4038 (40%)]\tLoss: 0.231883, Accuracy: 14/16 (87.500%)\n",
      "TRAIN: LOSS-->0.4246 (0.5912)\tACC-->87.500% (79.944%)\n",
      "TRAIN: 123 [3200/4038 (79%)]\tLoss: 0.424628, Accuracy: 14/16 (87.500%)\n",
      "VAL:   LOSS--> 0.2827 (0.2827)\tACC-->93.750 (93.750)\n",
      " * Accuracy 93.8202\n",
      "EARLY STOP\n"
     ]
    },
    {
     "name": "stderr",
     "output_type": "stream",
     "text": [
      "\r",
      " 83%|████████████████████████████████████████████████████████████████▍             | 124/150 [1:58:15<24:47, 57.22s/it]"
     ]
    },
    {
     "name": "stdout",
     "output_type": "stream",
     "text": [
      "TRAIN: LOSS-->0.5095 (0.5095)\tACC-->81.250% (81.250%)\n",
      "TRAIN: 124 [0/4038 (0%)]\tLoss: 0.509530, Accuracy: 13/16 (81.250%)\n",
      "TRAIN: LOSS-->0.7730 (0.5699)\tACC-->68.750% (80.074%)\n",
      "TRAIN: 124 [1600/4038 (40%)]\tLoss: 0.773024, Accuracy: 11/16 (68.750%)\n",
      "TRAIN: LOSS-->0.4468 (0.5630)\tACC-->81.250% (80.846%)\n",
      "TRAIN: 124 [3200/4038 (79%)]\tLoss: 0.446804, Accuracy: 13/16 (81.250%)\n",
      "VAL:   LOSS--> 0.0587 (0.0587)\tACC-->100.000 (100.000)\n",
      " * Accuracy 92.9775\n",
      "EARLY STOP\n"
     ]
    },
    {
     "name": "stderr",
     "output_type": "stream",
     "text": [
      "\r",
      " 83%|█████████████████████████████████████████████████████████████████             | 125/150 [1:59:15<23:51, 57.24s/it]"
     ]
    },
    {
     "name": "stdout",
     "output_type": "stream",
     "text": [
      "TRAIN: LOSS-->0.9361 (0.9361)\tACC-->68.750% (68.750%)\n",
      "TRAIN: 125 [0/4038 (0%)]\tLoss: 0.936140, Accuracy: 11/16 (68.750%)\n",
      "TRAIN: LOSS-->0.6000 (0.5941)\tACC-->75.000% (79.332%)\n",
      "TRAIN: 125 [1600/4038 (40%)]\tLoss: 0.600031, Accuracy: 12/16 (75.000%)\n",
      "TRAIN: LOSS-->0.5617 (0.5854)\tACC-->87.500% (79.664%)\n",
      "TRAIN: 125 [3200/4038 (79%)]\tLoss: 0.561696, Accuracy: 14/16 (87.500%)\n",
      "VAL:   LOSS--> 0.1735 (0.1735)\tACC-->93.750 (93.750)\n",
      " * Accuracy 94.1011\n",
      "EARLY STOP\n"
     ]
    },
    {
     "name": "stderr",
     "output_type": "stream",
     "text": [
      "\r",
      " 84%|█████████████████████████████████████████████████████████████████▌            | 126/150 [2:00:14<22:54, 57.26s/it]"
     ]
    },
    {
     "name": "stdout",
     "output_type": "stream",
     "text": [
      "TRAIN: LOSS-->0.3027 (0.3027)\tACC-->87.500% (87.500%)\n",
      "TRAIN: 126 [0/4038 (0%)]\tLoss: 0.302675, Accuracy: 14/16 (87.500%)\n",
      "TRAIN: LOSS-->0.2090 (0.5680)\tACC-->93.750% (79.889%)\n",
      "TRAIN: 126 [1600/4038 (40%)]\tLoss: 0.208998, Accuracy: 15/16 (93.750%)\n",
      "TRAIN: LOSS-->0.3429 (0.5758)\tACC-->81.250% (80.379%)\n",
      "TRAIN: 126 [3200/4038 (79%)]\tLoss: 0.342876, Accuracy: 13/16 (81.250%)\n",
      "VAL:   LOSS--> 0.0726 (0.0726)\tACC-->93.750 (93.750)\n",
      " * Accuracy 91.9944\n",
      "EARLY STOP\n"
     ]
    },
    {
     "name": "stderr",
     "output_type": "stream",
     "text": [
      "\r",
      " 85%|██████████████████████████████████████████████████████████████████            | 127/150 [2:01:14<21:57, 57.28s/it]"
     ]
    },
    {
     "name": "stdout",
     "output_type": "stream",
     "text": [
      "TRAIN: LOSS-->0.7381 (0.7381)\tACC-->81.250% (81.250%)\n",
      "TRAIN: 127 [0/4038 (0%)]\tLoss: 0.738137, Accuracy: 13/16 (81.250%)\n",
      "TRAIN: LOSS-->0.6491 (0.5764)\tACC-->75.000% (81.374%)\n",
      "TRAIN: 127 [1600/4038 (40%)]\tLoss: 0.649074, Accuracy: 12/16 (75.000%)\n",
      "TRAIN: LOSS-->0.3584 (0.5599)\tACC-->87.500% (81.592%)\n",
      "TRAIN: 127 [3200/4038 (79%)]\tLoss: 0.358442, Accuracy: 14/16 (87.500%)\n",
      "VAL:   LOSS--> 0.1020 (0.1020)\tACC-->100.000 (100.000)\n",
      " * Accuracy 87.9213\n"
     ]
    },
    {
     "name": "stderr",
     "output_type": "stream",
     "text": [
      "\r",
      " 85%|██████████████████████████████████████████████████████████████████▌           | 128/150 [2:02:09<20:59, 57.26s/it]"
     ]
    },
    {
     "name": "stdout",
     "output_type": "stream",
     "text": [
      "TRAIN: LOSS-->0.3448 (0.3448)\tACC-->81.250% (81.250%)\n",
      "TRAIN: 128 [0/4038 (0%)]\tLoss: 0.344817, Accuracy: 13/16 (81.250%)\n",
      "TRAIN: LOSS-->0.2314 (0.5553)\tACC-->93.750% (80.136%)\n",
      "TRAIN: 128 [1600/4038 (40%)]\tLoss: 0.231429, Accuracy: 15/16 (93.750%)\n",
      "TRAIN: LOSS-->0.5183 (0.5506)\tACC-->81.250% (81.219%)\n",
      "TRAIN: 128 [3200/4038 (79%)]\tLoss: 0.518318, Accuracy: 13/16 (81.250%)\n",
      "VAL:   LOSS--> 0.1163 (0.1163)\tACC-->93.750 (93.750)\n",
      " * Accuracy 94.6629\n",
      "EARLY STOP\n"
     ]
    },
    {
     "name": "stderr",
     "output_type": "stream",
     "text": [
      "\r",
      " 86%|███████████████████████████████████████████████████████████████████           | 129/150 [2:03:09<20:02, 57.28s/it]"
     ]
    },
    {
     "name": "stdout",
     "output_type": "stream",
     "text": [
      "TRAIN: LOSS-->0.6759 (0.6759)\tACC-->81.250% (81.250%)\n",
      "TRAIN: 129 [0/4038 (0%)]\tLoss: 0.675895, Accuracy: 13/16 (81.250%)\n",
      "TRAIN: LOSS-->0.4035 (0.5606)\tACC-->81.250% (80.693%)\n",
      "TRAIN: 129 [1600/4038 (40%)]\tLoss: 0.403534, Accuracy: 13/16 (81.250%)\n",
      "TRAIN: LOSS-->0.7744 (0.5829)\tACC-->81.250% (79.820%)\n",
      "TRAIN: 129 [3200/4038 (79%)]\tLoss: 0.774417, Accuracy: 13/16 (81.250%)\n",
      "VAL:   LOSS--> 0.0870 (0.0870)\tACC-->93.750 (93.750)\n",
      " * Accuracy 93.2584\n",
      "EARLY STOP\n"
     ]
    },
    {
     "name": "stderr",
     "output_type": "stream",
     "text": [
      "\r",
      " 87%|███████████████████████████████████████████████████████████████████▌          | 130/150 [2:04:09<19:06, 57.30s/it]"
     ]
    },
    {
     "name": "stdout",
     "output_type": "stream",
     "text": [
      "TRAIN: LOSS-->0.6050 (0.6050)\tACC-->87.500% (87.500%)\n",
      "TRAIN: 130 [0/4038 (0%)]\tLoss: 0.605036, Accuracy: 14/16 (87.500%)\n",
      "TRAIN: LOSS-->0.2538 (0.5602)\tACC-->93.750% (81.002%)\n",
      "TRAIN: 130 [1600/4038 (40%)]\tLoss: 0.253827, Accuracy: 15/16 (93.750%)\n",
      "TRAIN: LOSS-->1.2707 (0.5647)\tACC-->62.500% (80.473%)\n",
      "TRAIN: 130 [3200/4038 (79%)]\tLoss: 1.270746, Accuracy: 10/16 (62.500%)\n",
      "VAL:   LOSS--> 0.1786 (0.1786)\tACC-->81.250 (81.250)\n",
      " * Accuracy 93.3989\n",
      "EARLY STOP\n"
     ]
    },
    {
     "name": "stderr",
     "output_type": "stream",
     "text": [
      "\r",
      " 87%|████████████████████████████████████████████████████████████████████          | 131/150 [2:05:09<18:09, 57.32s/it]"
     ]
    },
    {
     "name": "stdout",
     "output_type": "stream",
     "text": [
      "TRAIN: LOSS-->0.3699 (0.3699)\tACC-->87.500% (87.500%)\n",
      "TRAIN: 131 [0/4038 (0%)]\tLoss: 0.369933, Accuracy: 14/16 (87.500%)\n",
      "TRAIN: LOSS-->0.8145 (0.5465)\tACC-->68.750% (81.931%)\n",
      "TRAIN: 131 [1600/4038 (40%)]\tLoss: 0.814510, Accuracy: 11/16 (68.750%)\n",
      "TRAIN: LOSS-->0.5220 (0.5535)\tACC-->81.250% (81.312%)\n",
      "TRAIN: 131 [3200/4038 (79%)]\tLoss: 0.521984, Accuracy: 13/16 (81.250%)\n",
      "VAL:   LOSS--> 0.0807 (0.0807)\tACC-->93.750 (93.750)\n",
      " * Accuracy 93.8202\n",
      "EARLY STOP\n"
     ]
    },
    {
     "name": "stderr",
     "output_type": "stream",
     "text": [
      "\r",
      " 88%|████████████████████████████████████████████████████████████████████▋         | 132/150 [2:06:09<17:12, 57.34s/it]"
     ]
    },
    {
     "name": "stdout",
     "output_type": "stream",
     "text": [
      "TRAIN: LOSS-->0.1567 (0.1567)\tACC-->93.750% (93.750%)\n",
      "TRAIN: 132 [0/4038 (0%)]\tLoss: 0.156699, Accuracy: 15/16 (93.750%)\n",
      "TRAIN: LOSS-->0.6593 (0.5800)\tACC-->93.750% (80.817%)\n",
      "TRAIN: 132 [1600/4038 (40%)]\tLoss: 0.659262, Accuracy: 15/16 (93.750%)\n",
      "TRAIN: LOSS-->0.5144 (0.5716)\tACC-->75.000% (80.721%)\n",
      "TRAIN: 132 [3200/4038 (79%)]\tLoss: 0.514440, Accuracy: 12/16 (75.000%)\n",
      "VAL:   LOSS--> 0.1762 (0.1762)\tACC-->93.750 (93.750)\n",
      " * Accuracy 91.8539\n",
      "EARLY STOP\n"
     ]
    },
    {
     "name": "stderr",
     "output_type": "stream",
     "text": [
      "\r",
      " 89%|█████████████████████████████████████████████████████████████████████▏        | 133/150 [2:07:09<16:15, 57.36s/it]"
     ]
    },
    {
     "name": "stdout",
     "output_type": "stream",
     "text": [
      "TRAIN: LOSS-->0.6501 (0.6501)\tACC-->75.000% (75.000%)\n",
      "TRAIN: 133 [0/4038 (0%)]\tLoss: 0.650079, Accuracy: 12/16 (75.000%)\n",
      "TRAIN: LOSS-->0.6299 (0.5861)\tACC-->81.250% (79.579%)\n",
      "TRAIN: 133 [1600/4038 (40%)]\tLoss: 0.629950, Accuracy: 13/16 (81.250%)\n",
      "TRAIN: LOSS-->0.2483 (0.5731)\tACC-->93.750% (80.162%)\n",
      "TRAIN: 133 [3200/4038 (79%)]\tLoss: 0.248289, Accuracy: 15/16 (93.750%)\n",
      "VAL:   LOSS--> 0.1733 (0.1733)\tACC-->93.750 (93.750)\n",
      " * Accuracy 94.9438\n",
      "EARLY STOP\n"
     ]
    },
    {
     "name": "stderr",
     "output_type": "stream",
     "text": [
      "\r",
      " 89%|█████████████████████████████████████████████████████████████████████▋        | 134/150 [2:08:09<15:18, 57.38s/it]"
     ]
    },
    {
     "name": "stdout",
     "output_type": "stream",
     "text": [
      "TRAIN: LOSS-->0.5819 (0.5819)\tACC-->81.250% (81.250%)\n",
      "TRAIN: 134 [0/4038 (0%)]\tLoss: 0.581870, Accuracy: 13/16 (81.250%)\n",
      "TRAIN: LOSS-->0.7359 (0.5624)\tACC-->68.750% (80.446%)\n",
      "TRAIN: 134 [1600/4038 (40%)]\tLoss: 0.735901, Accuracy: 11/16 (68.750%)\n",
      "TRAIN: LOSS-->0.8341 (0.5480)\tACC-->68.750% (80.784%)\n",
      "TRAIN: 134 [3200/4038 (79%)]\tLoss: 0.834054, Accuracy: 11/16 (68.750%)\n",
      "VAL:   LOSS--> 0.1994 (0.1994)\tACC-->93.750 (93.750)\n",
      " * Accuracy 92.4157\n",
      "EARLY STOP\n"
     ]
    },
    {
     "name": "stderr",
     "output_type": "stream",
     "text": [
      "\r",
      " 90%|██████████████████████████████████████████████████████████████████████▏       | 135/150 [2:09:09<14:21, 57.40s/it]"
     ]
    },
    {
     "name": "stdout",
     "output_type": "stream",
     "text": [
      "TRAIN: LOSS-->0.3961 (0.3961)\tACC-->87.500% (87.500%)\n",
      "TRAIN: 135 [0/4038 (0%)]\tLoss: 0.396089, Accuracy: 14/16 (87.500%)\n",
      "TRAIN: LOSS-->0.6882 (0.5510)\tACC-->81.250% (81.436%)\n",
      "TRAIN: 135 [1600/4038 (40%)]\tLoss: 0.688155, Accuracy: 13/16 (81.250%)\n",
      "TRAIN: LOSS-->0.2881 (0.5526)\tACC-->87.500% (81.654%)\n",
      "TRAIN: 135 [3200/4038 (79%)]\tLoss: 0.288054, Accuracy: 14/16 (87.500%)\n",
      "VAL:   LOSS--> 0.2737 (0.2737)\tACC-->81.250 (81.250)\n",
      " * Accuracy 92.5562\n",
      "EARLY STOP\n"
     ]
    },
    {
     "name": "stderr",
     "output_type": "stream",
     "text": [
      "\r",
      " 91%|██████████████████████████████████████████████████████████████████████▋       | 136/150 [2:10:08<13:23, 57.42s/it]"
     ]
    },
    {
     "name": "stdout",
     "output_type": "stream",
     "text": [
      "TRAIN: LOSS-->0.3843 (0.3843)\tACC-->87.500% (87.500%)\n",
      "TRAIN: 136 [0/4038 (0%)]\tLoss: 0.384341, Accuracy: 14/16 (87.500%)\n",
      "TRAIN: LOSS-->0.3249 (0.5549)\tACC-->87.500% (81.064%)\n",
      "TRAIN: 136 [1600/4038 (40%)]\tLoss: 0.324902, Accuracy: 14/16 (87.500%)\n",
      "TRAIN: LOSS-->0.5337 (0.5557)\tACC-->81.250% (80.659%)\n",
      "TRAIN: 136 [3200/4038 (79%)]\tLoss: 0.533718, Accuracy: 13/16 (81.250%)\n",
      "VAL:   LOSS--> 0.1069 (0.1069)\tACC-->93.750 (93.750)\n",
      " * Accuracy 93.1180\n",
      "EARLY STOP\n"
     ]
    },
    {
     "name": "stderr",
     "output_type": "stream",
     "text": [
      "\r",
      " 91%|███████████████████████████████████████████████████████████████████████▏      | 137/150 [2:11:08<12:26, 57.44s/it]"
     ]
    },
    {
     "name": "stdout",
     "output_type": "stream",
     "text": [
      "TRAIN: LOSS-->0.4751 (0.4751)\tACC-->93.750% (93.750%)\n",
      "TRAIN: 137 [0/4038 (0%)]\tLoss: 0.475134, Accuracy: 15/16 (93.750%)\n",
      "TRAIN: LOSS-->0.6393 (0.5135)\tACC-->81.250% (82.302%)\n",
      "TRAIN: 137 [1600/4038 (40%)]\tLoss: 0.639293, Accuracy: 13/16 (81.250%)\n",
      "TRAIN: LOSS-->0.3983 (0.5551)\tACC-->87.500% (80.752%)\n",
      "TRAIN: 137 [3200/4038 (79%)]\tLoss: 0.398301, Accuracy: 14/16 (87.500%)\n",
      "VAL:   LOSS--> 0.2127 (0.2127)\tACC-->93.750 (93.750)\n",
      " * Accuracy 93.5393\n",
      "EARLY STOP\n"
     ]
    },
    {
     "name": "stderr",
     "output_type": "stream",
     "text": [
      "\r",
      " 92%|███████████████████████████████████████████████████████████████████████▊      | 138/150 [2:12:08<11:29, 57.45s/it]"
     ]
    },
    {
     "name": "stdout",
     "output_type": "stream",
     "text": [
      "TRAIN: LOSS-->0.6287 (0.6287)\tACC-->87.500% (87.500%)\n",
      "TRAIN: 138 [0/4038 (0%)]\tLoss: 0.628653, Accuracy: 14/16 (87.500%)\n",
      "TRAIN: LOSS-->0.1647 (0.5362)\tACC-->100.000% (81.807%)\n",
      "TRAIN: 138 [1600/4038 (40%)]\tLoss: 0.164657, Accuracy: 16/16 (100.000%)\n",
      "TRAIN: LOSS-->0.3728 (0.5602)\tACC-->93.750% (81.157%)\n",
      "TRAIN: 138 [3200/4038 (79%)]\tLoss: 0.372763, Accuracy: 15/16 (93.750%)\n",
      "VAL:   LOSS--> 0.2333 (0.2333)\tACC-->81.250 (81.250)\n",
      " * Accuracy 92.4157\n",
      "EARLY STOP\n"
     ]
    },
    {
     "name": "stderr",
     "output_type": "stream",
     "text": [
      "\r",
      " 93%|████████████████████████████████████████████████████████████████████████▎     | 139/150 [2:13:08<10:32, 57.47s/it]"
     ]
    },
    {
     "name": "stdout",
     "output_type": "stream",
     "text": [
      "TRAIN: LOSS-->0.5774 (0.5774)\tACC-->81.250% (81.250%)\n",
      "TRAIN: 139 [0/4038 (0%)]\tLoss: 0.577411, Accuracy: 13/16 (81.250%)\n",
      "TRAIN: LOSS-->0.7465 (0.4965)\tACC-->68.750% (81.993%)\n",
      "TRAIN: 139 [1600/4038 (40%)]\tLoss: 0.746500, Accuracy: 11/16 (68.750%)\n",
      "TRAIN: LOSS-->1.0387 (0.5355)\tACC-->62.500% (81.779%)\n",
      "TRAIN: 139 [3200/4038 (79%)]\tLoss: 1.038700, Accuracy: 10/16 (62.500%)\n",
      "VAL:   LOSS--> 0.0573 (0.0573)\tACC-->100.000 (100.000)\n",
      " * Accuracy 93.6798\n",
      "EARLY STOP\n"
     ]
    },
    {
     "name": "stderr",
     "output_type": "stream",
     "text": [
      "\r",
      " 93%|████████████████████████████████████████████████████████████████████████▊     | 140/150 [2:14:08<09:34, 57.49s/it]"
     ]
    },
    {
     "name": "stdout",
     "output_type": "stream",
     "text": [
      "TRAIN: LOSS-->0.3263 (0.3263)\tACC-->87.500% (87.500%)\n",
      "TRAIN: 140 [0/4038 (0%)]\tLoss: 0.326341, Accuracy: 14/16 (87.500%)\n",
      "TRAIN: LOSS-->0.4444 (0.5624)\tACC-->81.250% (81.498%)\n",
      "TRAIN: 140 [1600/4038 (40%)]\tLoss: 0.444436, Accuracy: 13/16 (81.250%)\n",
      "TRAIN: LOSS-->0.7785 (0.5657)\tACC-->81.250% (80.908%)\n",
      "TRAIN: 140 [3200/4038 (79%)]\tLoss: 0.778503, Accuracy: 13/16 (81.250%)\n",
      "VAL:   LOSS--> 0.1443 (0.1443)\tACC-->93.750 (93.750)\n",
      " * Accuracy 95.2247\n",
      "EARLY STOP\n"
     ]
    },
    {
     "name": "stderr",
     "output_type": "stream",
     "text": [
      "\r",
      " 94%|█████████████████████████████████████████████████████████████████████████▎    | 141/150 [2:15:08<08:37, 57.51s/it]"
     ]
    },
    {
     "name": "stdout",
     "output_type": "stream",
     "text": [
      "TRAIN: LOSS-->0.2962 (0.2962)\tACC-->93.750% (93.750%)\n",
      "TRAIN: 141 [0/4038 (0%)]\tLoss: 0.296239, Accuracy: 15/16 (93.750%)\n",
      "TRAIN: LOSS-->0.5766 (0.5410)\tACC-->87.500% (82.240%)\n",
      "TRAIN: 141 [1600/4038 (40%)]\tLoss: 0.576610, Accuracy: 14/16 (87.500%)\n",
      "TRAIN: LOSS-->0.7365 (0.5410)\tACC-->81.250% (82.058%)\n",
      "TRAIN: 141 [3200/4038 (79%)]\tLoss: 0.736465, Accuracy: 13/16 (81.250%)\n",
      "VAL:   LOSS--> 0.2420 (0.2420)\tACC-->87.500 (87.500)\n",
      " * Accuracy 93.8202\n",
      "EARLY STOP\n"
     ]
    },
    {
     "name": "stderr",
     "output_type": "stream",
     "text": [
      "\r",
      " 95%|█████████████████████████████████████████████████████████████████████████▊    | 142/150 [2:16:08<07:40, 57.52s/it]"
     ]
    },
    {
     "name": "stdout",
     "output_type": "stream",
     "text": [
      "TRAIN: LOSS-->0.5569 (0.5569)\tACC-->87.500% (87.500%)\n",
      "TRAIN: 142 [0/4038 (0%)]\tLoss: 0.556862, Accuracy: 14/16 (87.500%)\n",
      "TRAIN: LOSS-->0.5617 (0.5483)\tACC-->87.500% (81.312%)\n",
      "TRAIN: 142 [1600/4038 (40%)]\tLoss: 0.561706, Accuracy: 14/16 (87.500%)\n",
      "TRAIN: LOSS-->0.5047 (0.5454)\tACC-->75.000% (80.908%)\n",
      "TRAIN: 142 [3200/4038 (79%)]\tLoss: 0.504722, Accuracy: 12/16 (75.000%)\n",
      "VAL:   LOSS--> 0.0617 (0.0617)\tACC-->100.000 (100.000)\n",
      " * Accuracy 94.1011\n",
      "EARLY STOP\n"
     ]
    },
    {
     "name": "stderr",
     "output_type": "stream",
     "text": [
      "\r",
      " 95%|██████████████████████████████████████████████████████████████████████████▎   | 143/150 [2:17:08<06:42, 57.54s/it]"
     ]
    },
    {
     "name": "stdout",
     "output_type": "stream",
     "text": [
      "TRAIN: LOSS-->0.3287 (0.3287)\tACC-->93.750% (93.750%)\n",
      "TRAIN: 143 [0/4038 (0%)]\tLoss: 0.328719, Accuracy: 15/16 (93.750%)\n",
      "TRAIN: LOSS-->0.2856 (0.5059)\tACC-->87.500% (82.364%)\n",
      "TRAIN: 143 [1600/4038 (40%)]\tLoss: 0.285556, Accuracy: 14/16 (87.500%)\n",
      "TRAIN: LOSS-->0.4714 (0.5515)\tACC-->75.000% (81.063%)\n",
      "TRAIN: 143 [3200/4038 (79%)]\tLoss: 0.471389, Accuracy: 12/16 (75.000%)\n",
      "VAL:   LOSS--> 0.2875 (0.2875)\tACC-->87.500 (87.500)\n",
      " * Accuracy 94.9438\n",
      "EARLY STOP\n"
     ]
    },
    {
     "name": "stderr",
     "output_type": "stream",
     "text": [
      "\r",
      " 96%|██████████████████████████████████████████████████████████████████████████▉   | 144/150 [2:18:08<05:45, 57.56s/it]"
     ]
    },
    {
     "name": "stdout",
     "output_type": "stream",
     "text": [
      "TRAIN: LOSS-->0.5031 (0.5031)\tACC-->87.500% (87.500%)\n",
      "TRAIN: 144 [0/4038 (0%)]\tLoss: 0.503059, Accuracy: 14/16 (87.500%)\n",
      "TRAIN: LOSS-->0.3630 (0.6070)\tACC-->87.500% (78.960%)\n",
      "TRAIN: 144 [1600/4038 (40%)]\tLoss: 0.363022, Accuracy: 14/16 (87.500%)\n",
      "TRAIN: LOSS-->0.5809 (0.5956)\tACC-->87.500% (79.913%)\n",
      "TRAIN: 144 [3200/4038 (79%)]\tLoss: 0.580933, Accuracy: 14/16 (87.500%)\n",
      "VAL:   LOSS--> 0.1362 (0.1362)\tACC-->100.000 (100.000)\n",
      " * Accuracy 94.8034\n",
      "EARLY STOP\n"
     ]
    },
    {
     "name": "stderr",
     "output_type": "stream",
     "text": [
      "\r",
      " 97%|███████████████████████████████████████████████████████████████████████████▍  | 145/150 [2:19:08<04:47, 57.57s/it]"
     ]
    },
    {
     "name": "stdout",
     "output_type": "stream",
     "text": [
      "TRAIN: LOSS-->0.1357 (0.1357)\tACC-->100.000% (100.000%)\n",
      "TRAIN: 145 [0/4038 (0%)]\tLoss: 0.135711, Accuracy: 16/16 (100.000%)\n",
      "TRAIN: LOSS-->0.2257 (0.5464)\tACC-->93.750% (81.621%)\n",
      "TRAIN: 145 [1600/4038 (40%)]\tLoss: 0.225666, Accuracy: 15/16 (93.750%)\n",
      "TRAIN: LOSS-->0.9747 (0.5657)\tACC-->68.750% (81.063%)\n",
      "TRAIN: 145 [3200/4038 (79%)]\tLoss: 0.974663, Accuracy: 11/16 (68.750%)\n",
      "VAL:   LOSS--> 0.2203 (0.2203)\tACC-->93.750 (93.750)\n",
      " * Accuracy 89.4663\n"
     ]
    },
    {
     "name": "stderr",
     "output_type": "stream",
     "text": [
      "\r",
      " 97%|███████████████████████████████████████████████████████████████████████████▉  | 146/150 [2:20:03<03:50, 57.56s/it]"
     ]
    },
    {
     "name": "stdout",
     "output_type": "stream",
     "text": [
      "TRAIN: LOSS-->0.9792 (0.9792)\tACC-->75.000% (75.000%)\n",
      "TRAIN: 146 [0/4038 (0%)]\tLoss: 0.979208, Accuracy: 12/16 (75.000%)\n",
      "TRAIN: LOSS-->0.2914 (0.5265)\tACC-->87.500% (81.869%)\n",
      "TRAIN: 146 [1600/4038 (40%)]\tLoss: 0.291414, Accuracy: 14/16 (87.500%)\n",
      "TRAIN: LOSS-->0.3848 (0.5291)\tACC-->75.000% (81.903%)\n",
      "TRAIN: 146 [3200/4038 (79%)]\tLoss: 0.384760, Accuracy: 12/16 (75.000%)\n",
      "VAL:   LOSS--> 0.0432 (0.0432)\tACC-->100.000 (100.000)\n",
      " * Accuracy 93.9607\n",
      "EARLY STOP\n"
     ]
    },
    {
     "name": "stderr",
     "output_type": "stream",
     "text": [
      "\r",
      " 98%|████████████████████████████████████████████████████████████████████████████▍ | 147/150 [2:21:03<02:52, 57.57s/it]"
     ]
    },
    {
     "name": "stdout",
     "output_type": "stream",
     "text": [
      "TRAIN: LOSS-->0.3964 (0.3964)\tACC-->87.500% (87.500%)\n",
      "TRAIN: 147 [0/4038 (0%)]\tLoss: 0.396429, Accuracy: 14/16 (87.500%)\n",
      "TRAIN: LOSS-->0.6850 (0.5621)\tACC-->62.500% (80.941%)\n",
      "TRAIN: 147 [1600/4038 (40%)]\tLoss: 0.684989, Accuracy: 10/16 (62.500%)\n",
      "TRAIN: LOSS-->0.3268 (0.5549)\tACC-->93.750% (81.095%)\n",
      "TRAIN: 147 [3200/4038 (79%)]\tLoss: 0.326836, Accuracy: 15/16 (93.750%)\n",
      "VAL:   LOSS--> 0.1341 (0.1341)\tACC-->93.750 (93.750)\n",
      " * Accuracy 94.2416\n",
      "EARLY STOP\n"
     ]
    },
    {
     "name": "stderr",
     "output_type": "stream",
     "text": [
      "\r",
      " 99%|████████████████████████████████████████████████████████████████████████████▉ | 148/150 [2:22:02<01:55, 57.59s/it]"
     ]
    },
    {
     "name": "stdout",
     "output_type": "stream",
     "text": [
      "TRAIN: LOSS-->0.3754 (0.3754)\tACC-->87.500% (87.500%)\n",
      "TRAIN: 148 [0/4038 (0%)]\tLoss: 0.375381, Accuracy: 14/16 (87.500%)\n",
      "TRAIN: LOSS-->0.4408 (0.5251)\tACC-->87.500% (81.683%)\n",
      "TRAIN: 148 [1600/4038 (40%)]\tLoss: 0.440821, Accuracy: 14/16 (87.500%)\n",
      "TRAIN: LOSS-->0.2636 (0.5287)\tACC-->93.750% (81.872%)\n",
      "TRAIN: 148 [3200/4038 (79%)]\tLoss: 0.263564, Accuracy: 15/16 (93.750%)\n",
      "VAL:   LOSS--> 0.2704 (0.2704)\tACC-->87.500 (87.500)\n",
      " * Accuracy 93.2584\n",
      "EARLY STOP\n"
     ]
    },
    {
     "name": "stderr",
     "output_type": "stream",
     "text": [
      "\r",
      " 99%|█████████████████████████████████████████████████████████████████████████████▍| 149/150 [2:23:02<00:57, 57.60s/it]"
     ]
    },
    {
     "name": "stdout",
     "output_type": "stream",
     "text": [
      "TRAIN: LOSS-->0.3773 (0.3773)\tACC-->87.500% (87.500%)\n",
      "TRAIN: 149 [0/4038 (0%)]\tLoss: 0.377338, Accuracy: 14/16 (87.500%)\n",
      "TRAIN: LOSS-->0.6775 (0.5676)\tACC-->81.250% (81.064%)\n",
      "TRAIN: 149 [1600/4038 (40%)]\tLoss: 0.677543, Accuracy: 13/16 (81.250%)\n",
      "TRAIN: LOSS-->0.4630 (0.5421)\tACC-->75.000% (81.468%)\n",
      "TRAIN: 149 [3200/4038 (79%)]\tLoss: 0.462954, Accuracy: 12/16 (75.000%)\n",
      "VAL:   LOSS--> 0.5240 (0.5240)\tACC-->81.250 (81.250)\n",
      " * Accuracy 94.6629\n",
      "EARLY STOP\n"
     ]
    },
    {
     "name": "stderr",
     "output_type": "stream",
     "text": [
      "100%|██████████████████████████████████████████████████████████████████████████████| 150/150 [2:24:02<00:00, 57.62s/it]\n"
     ]
    }
   ],
   "source": [
    "sample_submission = pd.read_csv(data_dir + 'sample_submission.csv')\n",
    "sample_submission.columns = ['file', 'species']\n",
    "# sample_submission['category_id'] = 0\n",
    "sample_submission.head(3)\n",
    "\n",
    "if __name__ == '__main__':    \n",
    "    print (\"MODEL: {}\".format( str(type(model).__name__)))\n",
    "    for epoch in tqdm(range(0, 150)):        \n",
    "        train(t_loader, model, epoch, optimizer)\n",
    "        val_loss, val_accuracy= validate(v_loader, model, epoch)\n",
    "        if float(val_accuracy) > float(90.0):            \n",
    "            print (\"EARLY STOP\")\n",
    "            df_pred=testModel(test_data_dir,model)\n",
    "            df_pred.to_csv(str(type(model).__name__) + '_' + str(val_accuracy) + '_' + \n",
    "                           str(epoch) + \"_sub.csv\", columns=('file', 'species'), index=None)         \n",
    "    "
   ]
  },
  {
   "cell_type": "markdown",
   "metadata": {},
   "source": [
    "# Example submission on the Kaggle seedlings DB"
   ]
  },
  {
   "cell_type": "code",
   "execution_count": 11,
   "metadata": {
    "collapsed": true
   },
   "outputs": [],
   "source": [
    "torch.save(model.state_dict(), str(type(model).__name__) + '_' + str(val_accuracy) + '_.pth')"
   ]
  },
  {
   "cell_type": "markdown",
   "metadata": {},
   "source": [
    "In this step, participants will be asked to provide the following classification rates:\n",
    "\n",
    "-- TP (True Positive, which is the number of OP people correctly identified),\n",
    "\n",
    "-- FP (False Positive, which is the number of CT people incorrectly identified),\n",
    "\n",
    "-- TN (True Negative, which is the number of CT people correctly identified),\n",
    "\n",
    "-- FN (False Negative, which is the number of OP people incorrectly identified),\n",
    "\n",
    "-- Sn (True positive rate or sensitivity) as Sn = TP/(TP + FN),\n",
    "\n",
    "-- Sp (Specificity or True Negative Rate) as Sp = TN/(FP + TN)."
   ]
  },
  {
   "cell_type": "code",
   "execution_count": null,
   "metadata": {
    "collapsed": true
   },
   "outputs": [],
   "source": []
  }
 ],
 "metadata": {
  "kernelspec": {
   "display_name": "Python 3",
   "language": "python",
   "name": "python3"
  },
  "language_info": {
   "codemirror_mode": {
    "name": "ipython",
    "version": 3
   },
   "file_extension": ".py",
   "mimetype": "text/x-python",
   "name": "python",
   "nbconvert_exporter": "python",
   "pygments_lexer": "ipython3",
   "version": "3.6.2"
  }
 },
 "nbformat": 4,
 "nbformat_minor": 1
}
