{
 "cells": [
  {
   "cell_type": "markdown",
   "metadata": {},
   "source": [
    "# Tel-Aviv Deep Learning Boot-camp: 12 Applied Deep Learning Labs\n",
    "\n",
    "## Lab 0: Plant Seedlings Classification (PyTorch): The most basic lab :)  \n",
    "\n",
    "<img src=\"../assets/seedlings.png\" align=\"center\">\n",
    "\n",
    "### Instructors:\n",
    "\n",
    "- Shlomo Kashani: shlomo@bayesian.io ,\n",
    "- Nathaniel Shimoni nathaniel.shimoni@grid4c.com \n",
    "\n",
    "<img src=\"../assets/pt.jpg\" width=\"35%\" align=\"center\">\n",
    "\n",
    "## Progress\n",
    "\n",
    "- [x] PyTorch DataSet\n",
    "- [x] PyTorch DataLoader\n",
    "- [x] Augmentations\n",
    "- [x] Simple CNN\n",
    "- [x] Training + train test split\n",
    "- [x] TensorBoard Support from PyTorch\n",
    "- [x] Accuray and Log Loss\n",
    "- [x] Tqdm progress\n",
    "- [x] Persisting the model\n",
    "- [x] Testing on a test set\n",
    "\n",
    "\n",
    "\n",
    "### Links:\n",
    "\n",
    "- https://www.meetup.com/Tel-Aviv-Deep-Learning-Bootcamp/ \n",
    "- Git: https://github.com/bayesianio/applied-dl-2018\n",
    "- Full info: https://www.evernote.com/shard/s341/sh/3855640e-2b0b-42e5-b5b9-00216d02ac9a/b47968226e49a81ee813901cd41d3924\n",
    "\n",
    "### Date and Location: \n",
    "- July 2018\n",
    "\n",
    "\n",
    "### Requirements:\n",
    "- Python 3.5, CUDA 9, cuDNN 7, PyTorch 2.0 or above, Keras 2 or above\n",
    "\n",
    "#### For Windows 10 and Windows Server 2016, CUDA 9\n",
    "`conda install -c peterjc123 pytorch cuda90`\n",
    "\n",
    "\n",
    "### Data\n",
    "- Download: https://www.kaggle.com/c/plant-seedlings-classification\n",
    "\n",
    "- Please make sure you have already set up a Pytorch tree structure of your dataset:\n",
    "- `data_dir= '/home/data/bone/train/' `\n",
    "\n",
    "```\n",
    "    data_dir= '/home/data/bone/train/\n",
    "    \n",
    "    ├── valid\n",
    "    │   └── Type_1\n",
    "        ├── Type_2\n",
    "        └── Type_3\n",
    "    └── train\n",
    "        ├── Type_1\n",
    "        ├── Type_2\n",
    "        └── Type_3\n",
    "```\n",
    "\n",
    "### PyTorch Datasets\n",
    "\n",
    "To create a dataset, we subclass Dataset and define a constructor, a `__len__` method, and a `__getitem__` method. \n",
    "Here is full example:\n",
    "\n",
    "```python\n",
    "class BoneDataset(Dataset):\n",
    "    def __init__(self, labels, root_dir, subset=False, transform=None):\n",
    "        self.labels = labels\n",
    "        self.root_dir = root_dir\n",
    "        self.transform = transform\n",
    "    \n",
    "    def __len__(self):\n",
    "        return len(self.labels)\n",
    "    \n",
    "    def __getitem__(self, idx):\n",
    "        img_name = self.labels.iloc[idx, 0] # file name\n",
    "        fullname = join(self.root_dir, img_name)\n",
    "        image = Image.open(fullname).convert('RGB')\n",
    "        labels = self.labels.iloc[idx, 2] # category_id\n",
    "        if self.transform:\n",
    "            image = self.transform(image)\n",
    "        return image, labels\n",
    "```\n",
    "\n",
    "### The PyTorch DataLoader Class¶\n",
    "- Will load our BoneDataset\n",
    "- Can be regarded as a list (or iterator, technically).\n",
    "- Each time it is invoked will provide a minibatch of (img, label) pairs.\n",
    "\n",
    "\n",
    "### Training with TensorBoard\n",
    "\n",
    "With the aid of [Crayon](https://github.com/torrvision/crayon),\n",
    "we can access the visualisation power of TensorBoard for any \n",
    "deep learning framework.\n",
    "\n",
    "To use the TensorBoard, install Crayon (https://github.com/torrvision/crayon)\n",
    "and set `use_tensorboard = True`"
   ]
  },
  {
   "cell_type": "code",
   "execution_count": 11,
   "metadata": {
    "_cell_guid": "42dcf0c0-28f0-4386-9ee3-367f3606aa30",
    "_uuid": "33595673f3f93faf28ed0ac10f0a7c0e59a9c0ad"
   },
   "outputs": [
    {
     "name": "stdout",
     "output_type": "stream",
     "text": [
      "__Python VERSION: 3.6.2 |Anaconda custom (64-bit)| (default, Sep 19 2017, 08:03:39) [MSC v.1900 64 bit (AMD64)]\n",
      "__pyTorch VERSION: 0.2.1+a4fc05a\n",
      "__CUDA VERSION\n",
      "nvcc: NVIDIA (R) Cuda compiler driver\n",
      "Copyright (c) 2005-2017 NVIDIA Corporation\n",
      "Built on Fri_Sep__1_21:08:32_Central_Daylight_Time_2017\n",
      "Cuda compilation tools, release 9.0, V9.0.176\n",
      "__CUDNN VERSION: None\n",
      "__Number CUDA Devices: 1\n",
      "__Devices\n",
      "Active CUDA Device: GPU 0\n",
      "Available devices  1\n",
      "Current cuda device  0\n",
      "USE CUDA=True\n"
     ]
    }
   ],
   "source": [
    "%reset -f \n",
    "%matplotlib inline\n",
    "import matplotlib.pyplot as plt\n",
    "import time\n",
    "from shutil import copyfile\n",
    "from os.path import isfile, join, abspath, exists, isdir, expanduser\n",
    "from os import listdir, makedirs, getcwd, remove\n",
    "from PIL import Image\n",
    "from mpl_toolkits.axes_grid1 import ImageGrid\n",
    "import pandas as pd\n",
    "import numpy as np\n",
    "import torch\n",
    "from torch.optim import lr_scheduler\n",
    "from torch.autograd import Variable\n",
    "from torch.utils.data import Dataset, DataLoader\n",
    "import torch.nn.functional as func\n",
    "import torchvision\n",
    "from torchvision import transforms, datasets, models\n",
    "import random \n",
    "\n",
    "\n",
    "import sys\n",
    "print('__Python VERSION:', sys.version)\n",
    "print('__pyTorch VERSION:', torch.__version__)\n",
    "print('__CUDA VERSION')\n",
    "from subprocess import call\n",
    "# call([\"nvcc\", \"--version\"]) does not work\n",
    "! nvcc --version\n",
    "print('__CUDNN VERSION:', torch.backends.cudnn.version())\n",
    "print('__Number CUDA Devices:', torch.cuda.device_count())\n",
    "print('__Devices')\n",
    "# call([\"nvidia-smi\", \"--format=csv\", \"--query-gpu=index,name,driver_version,memory.total,memory.used,memory.free\"])\n",
    "print('Active CUDA Device: GPU', torch.cuda.current_device())\n",
    "\n",
    "print ('Available devices ', torch.cuda.device_count())\n",
    "print ('Current cuda device ', torch.cuda.current_device())\n",
    "\n",
    "use_cuda = torch.cuda.is_available()\n",
    "# use_cuda = False\n",
    "\n",
    "print(\"USE CUDA=\" + str (use_cuda))\n",
    "FloatTensor = torch.cuda.FloatTensor if use_cuda else torch.FloatTensor\n",
    "LongTensor = torch.cuda.LongTensor if use_cuda else torch.LongTensor\n",
    "Tensor = FloatTensor\n",
    "\n",
    "manualSeed = None\n",
    "def fixSeed(seed):\n",
    "    random.seed(seed)\n",
    "    np.random.seed(seed)\n",
    "    torch.manual_seed(seed)\n",
    "    if use_cuda:\n",
    "        torch.cuda.manual_seed(seed)\n",
    "        torch.cuda.manual_seed_all(seed)\n",
    "\n",
    "\n",
    "if manualSeed is None:\n",
    "        manualSeed = 999\n",
    "fixSeed(manualSeed)\n",
    "\n"
   ]
  },
  {
   "cell_type": "markdown",
   "metadata": {
    "_cell_guid": "579bc4ea-49c2-4413-a4bf-57472a155db4",
    "_uuid": "ab87c9fc87053c27d96e4765be8a942e91bf79bd"
   },
   "source": [
    "### Define Custom Dataset"
   ]
  },
  {
   "cell_type": "code",
   "execution_count": 12,
   "metadata": {
    "_cell_guid": "796ac7f9-d66a-4856-acba-b1be8f4960b6",
    "_uuid": "e32251e2e44d9bf3b14af6153643b36110cb17ef"
   },
   "outputs": [
    {
     "data": {
      "text/html": [
       "<div>\n",
       "<style scoped>\n",
       "    .dataframe tbody tr th:only-of-type {\n",
       "        vertical-align: middle;\n",
       "    }\n",
       "\n",
       "    .dataframe tbody tr th {\n",
       "        vertical-align: top;\n",
       "    }\n",
       "\n",
       "    .dataframe thead th {\n",
       "        text-align: right;\n",
       "    }\n",
       "</style>\n",
       "<table border=\"1\" class=\"dataframe\">\n",
       "  <thead>\n",
       "    <tr style=\"text-align: right;\">\n",
       "      <th></th>\n",
       "      <th>file</th>\n",
       "      <th>category</th>\n",
       "      <th>category_id</th>\n",
       "    </tr>\n",
       "  </thead>\n",
       "  <tbody>\n",
       "    <tr>\n",
       "      <th>0</th>\n",
       "      <td>Black-grass/0050f38b3.png</td>\n",
       "      <td>Black-grass</td>\n",
       "      <td>0</td>\n",
       "    </tr>\n",
       "    <tr>\n",
       "      <th>1</th>\n",
       "      <td>Black-grass/0183fdf68.png</td>\n",
       "      <td>Black-grass</td>\n",
       "      <td>0</td>\n",
       "    </tr>\n",
       "    <tr>\n",
       "      <th>2</th>\n",
       "      <td>Black-grass/0260cffa8.png</td>\n",
       "      <td>Black-grass</td>\n",
       "      <td>0</td>\n",
       "    </tr>\n",
       "    <tr>\n",
       "      <th>3</th>\n",
       "      <td>Black-grass/05eedce4d.png</td>\n",
       "      <td>Black-grass</td>\n",
       "      <td>0</td>\n",
       "    </tr>\n",
       "    <tr>\n",
       "      <th>4</th>\n",
       "      <td>Black-grass/075d004bc.png</td>\n",
       "      <td>Black-grass</td>\n",
       "      <td>0</td>\n",
       "    </tr>\n",
       "  </tbody>\n",
       "</table>\n",
       "</div>"
      ],
      "text/plain": [
       "                        file     category  category_id\n",
       "0  Black-grass/0050f38b3.png  Black-grass            0\n",
       "1  Black-grass/0183fdf68.png  Black-grass            0\n",
       "2  Black-grass/0260cffa8.png  Black-grass            0\n",
       "3  Black-grass/05eedce4d.png  Black-grass            0\n",
       "4  Black-grass/075d004bc.png  Black-grass            0"
      ]
     },
     "execution_count": 12,
     "metadata": {},
     "output_type": "execute_result"
    }
   ],
   "source": [
    "class BoneDataset(Dataset):\n",
    "    def __init__(self, labels, root_dir, subset=False, transform=None):\n",
    "        self.labels = labels\n",
    "        self.root_dir = root_dir\n",
    "        self.transform = transform\n",
    "    \n",
    "    def __len__(self):\n",
    "        return len(self.labels)\n",
    "    \n",
    "    def __getitem__(self, idx):\n",
    "        img_name = self.labels.iloc[idx, 0] # file name\n",
    "        fullname = join(self.root_dir, img_name)\n",
    "        image = Image.open(fullname).convert('RGB')\n",
    "        labels = self.labels.iloc[idx, 2] # category_id\n",
    "#         print (labels)\n",
    "        if self.transform:\n",
    "            image = self.transform(image)\n",
    "        return image, labels\n",
    "    \n",
    "\n",
    "import os\n",
    "\n",
    "\n",
    "data_dir= 'd:/db/data/bone/train/'\n",
    "data_dir= 'd:/db/data/cat-dog/train/'\n",
    "data_dir= 'd:/db/data/seedings/train/'\n",
    "\n",
    "def find_classes(fullDir):\n",
    "    classes = [d for d in os.listdir(fullDir) if os.path.isdir(os.path.join(fullDir, d))]\n",
    "    classes.sort()\n",
    "    class_to_idx = {classes[i]: i for i in range(len(classes))}\n",
    "    num_to_class = dict(zip(range(len(classes)), classes))\n",
    "    \n",
    "    train = []\n",
    "    for index, label in enumerate(classes):\n",
    "        path = fullDir + label + '/'\n",
    "        for file in listdir(path):\n",
    "            train.append(['{}/{}'.format(label, file), label, index])\n",
    "    \n",
    "    df = pd.DataFrame(train, columns=['file', 'category', 'category_id',]) \n",
    "\n",
    "    return classes, class_to_idx, num_to_class, df\n",
    "\n",
    "classes, class_to_idx, num_to_class, df =find_classes (data_dir )\n",
    "\n",
    "\n",
    "# class_to_idx\n",
    "# num_to_class\n",
    "df.head(5)    "
   ]
  },
  {
   "cell_type": "code",
   "execution_count": 13,
   "metadata": {},
   "outputs": [
    {
     "data": {
      "text/plain": [
       "12"
      ]
     },
     "execution_count": 13,
     "metadata": {},
     "output_type": "execute_result"
    }
   ],
   "source": [
    "len(classes)"
   ]
  },
  {
   "cell_type": "markdown",
   "metadata": {},
   "source": [
    "# Augmentation \n",
    "- Many of the code snippts here were adapted from various github repos.\n",
    "- If you dont need augementation, just skip this part."
   ]
  },
  {
   "cell_type": "code",
   "execution_count": 14,
   "metadata": {
    "collapsed": true
   },
   "outputs": [],
   "source": [
    "from __future__ import absolute_import\n",
    "\n",
    "from torchvision.transforms import *\n",
    "\n",
    "from PIL import Image, ImageDraw\n",
    "import numpy as np\n",
    "import torch\n",
    "\n",
    "import torchvision\n",
    "import random\n",
    "from PIL import Image, ImageOps\n",
    "import numpy as np\n",
    "import numbers\n",
    "import math\n",
    "import torch\n",
    "import torch\n",
    "import random\n",
    "import PIL.ImageEnhance as ie\n",
    "import PIL.Image as im\n",
    "\n",
    "# adapted from https://github.com/kuangliu/pytorch-retinanet/blob/master/transform.py\n",
    "# https://github.com/mratsim/Amazon-Forest-Computer-Vision/blob/master/src/p_data_augmentation.py\n",
    "\n",
    "normalize_img = torchvision.transforms.Normalize(mean=[0.485, 0.456, 0.406],\n",
    "                                     std=[0.229, 0.224, 0.225])\n",
    "\n",
    "def draw(img, boxes):\n",
    "    draw = ImageDraw.Draw(img)\n",
    "    for box in boxes:\n",
    "        draw.rectangle(list(box), outline='red')\n",
    "    img.show()\n",
    "\n",
    "\n",
    "class Stack(object):\n",
    "\n",
    "    def __init__(self, roll=False):\n",
    "        self.roll = roll\n",
    "\n",
    "    def __call__(self, img_group):\n",
    "        if img_group[0].mode == 'L':\n",
    "            return np.concatenate([np.expand_dims(x, 2) for x in img_group], axis=2)\n",
    "        elif img_group[0].mode == 'RGB':\n",
    "            if self.roll:\n",
    "                return np.concatenate([np.array(x)[:, :, ::-1] for x in img_group], axis=2)\n",
    "            else:\n",
    "                return np.concatenate(img_group, axis=2)\n",
    "\n",
    "\n",
    "class ToTorchFormatTensor(object):\n",
    "    \"\"\" Converts a PIL.Image (RGB) or numpy.ndarray (H x W x C) in the range [0, 255]\n",
    "    to a torch.FloatTensor of shape (C x H x W) in the range [0.0, 1.0] \"\"\"\n",
    "    def __init__(self, div=True):\n",
    "        self.div = div\n",
    "\n",
    "    def __call__(self, pic):\n",
    "        if isinstance(pic, np.ndarray):\n",
    "            # handle numpy array\n",
    "            img = torch.from_numpy(pic).permute(2, 0, 1).contiguous()\n",
    "        else:\n",
    "            # handle PIL Image\n",
    "            img = torch.ByteTensor(torch.ByteStorage.from_buffer(pic.tobytes()))\n",
    "            img = img.view(pic.size[1], pic.size[0], len(pic.mode))\n",
    "            # put it from HWC to CHW format\n",
    "            # yikes, this transpose takes 80% of the loading time/CPU\n",
    "            img = img.transpose(0, 1).transpose(0, 2).contiguous()\n",
    "        return img.float().div(255) if self.div else img.float()\n",
    "\n",
    "\n",
    "class IdentityTransform(object):\n",
    "\n",
    "    def __call__(self, data):\n",
    "        return data\n",
    "\n",
    "class RandomErasing(object):\n",
    "    def __init__(self, EPSILON = 0.5, sl = 0.02, sh = 0.4, r1 = 0.3, mean=[0.4914, 0.4822, 0.4465]):\n",
    "        self.EPSILON = EPSILON\n",
    "        self.mean = mean\n",
    "        self.sl = sl\n",
    "        self.sh = sh\n",
    "        self.r1 = r1\n",
    "       \n",
    "    def __call__(self, img):\n",
    "\n",
    "        if random.uniform(0, 1) > self.EPSILON:\n",
    "            return img\n",
    "\n",
    "        for attempt in range(100):\n",
    "            area = img.size()[1] * img.size()[2]\n",
    "       \n",
    "            target_area = random.uniform(self.sl, self.sh) * area\n",
    "            aspect_ratio = random.uniform(self.r1, 1/self.r1)\n",
    "\n",
    "            h = int(round(math.sqrt(target_area * aspect_ratio)))\n",
    "            w = int(round(math.sqrt(target_area / aspect_ratio)))\n",
    "\n",
    "            if w <= img.size()[2] and h <= img.size()[1]:\n",
    "                x1 = random.randint(0, img.size()[1] - h)\n",
    "                y1 = random.randint(0, img.size()[2] - w)\n",
    "                if img.size()[0] == 3:\n",
    "                    #img[0, x1:x1+h, y1:y1+w] = random.uniform(0, 1)\n",
    "                    #img[1, x1:x1+h, y1:y1+w] = random.uniform(0, 1)\n",
    "                    #img[2, x1:x1+h, y1:y1+w] = random.uniform(0, 1)\n",
    "                    img[0, x1:x1+h, y1:y1+w] = self.mean[0]\n",
    "                    img[1, x1:x1+h, y1:y1+w] = self.mean[1]\n",
    "                    img[2, x1:x1+h, y1:y1+w] = self.mean[2]\n",
    "                    #img[:, x1:x1+h, y1:y1+w] = torch.from_numpy(np.random.rand(3, h, w))\n",
    "                else:\n",
    "                    img[0, x1:x1+h, y1:y1+w] = self.mean[1]\n",
    "                    # img[0, x1:x1+h, y1:y1+w] = torch.from_numpy(np.random.rand(1, h, w))\n",
    "                return img\n",
    "\n",
    "        return img\n",
    "\n",
    "def random_crop(img, boxes):\n",
    "    '''Crop the given PIL image to a random size and aspect ratio.\n",
    "    A crop of random size of (0.08 to 1.0) of the original size and a random\n",
    "    aspect ratio of 3/4 to 4/3 of the original aspect ratio is made.\n",
    "    Args:\n",
    "      img: (PIL.Image) image to be cropped.\n",
    "      boxes: (tensor) object boxes, sized [#ojb,4].\n",
    "    Returns:\n",
    "      img: (PIL.Image) randomly cropped image.\n",
    "      boxes: (tensor) randomly cropped boxes.\n",
    "    '''\n",
    "    success = False\n",
    "    for attempt in range(10):\n",
    "        area = img.size[0] * img.size[1]\n",
    "        target_area = random.uniform(0.56, 1.0) * area\n",
    "        aspect_ratio = random.uniform(3. / 4, 4. / 3)\n",
    "\n",
    "        w = int(round(math.sqrt(target_area * aspect_ratio)))\n",
    "        h = int(round(math.sqrt(target_area / aspect_ratio)))\n",
    "\n",
    "        if random.random() < 0.5:\n",
    "            w, h = h, w\n",
    "\n",
    "        if w <= img.size[0] and h <= img.size[1]:\n",
    "            x = random.randint(0, img.size[0] - w)\n",
    "            y = random.randint(0, img.size[1] - h)\n",
    "            success = True\n",
    "            break\n",
    "\n",
    "    # Fallback\n",
    "    if not success:\n",
    "        w = h = min(img.size[0], img.size[1])\n",
    "        x = (img.size[0] - w) // 2\n",
    "        y = (img.size[1] - h) // 2\n",
    "\n",
    "    img = img.crop((x, y, x+w, y+h))\n",
    "    boxes -= torch.Tensor([x,y,x,y])\n",
    "    boxes[:,0::2].clamp_(min=0, max=w-1)\n",
    "    boxes[:,1::2].clamp_(min=0, max=h-1)\n",
    "    return img, boxes\n",
    "\n",
    "\n",
    "class Lighting(object):\n",
    "    \"\"\"Lighting noise(AlexNet - style PCA - based noise)\"\"\"\n",
    "\n",
    "    def __init__(self, alphastd, eigval, eigvec):\n",
    "        self.alphastd = alphastd\n",
    "        self.eigval = eigval\n",
    "        self.eigvec = eigvec\n",
    "\n",
    "    def __call__(self, img):\n",
    "        if self.alphastd == 0:\n",
    "            return img\n",
    "\n",
    "        alpha = img.new().resize_(3).normal_(0, self.alphastd)\n",
    "        rgb = self.eigvec.type_as(img).clone() \\\n",
    "            .mul(alpha.view(1, 3).expand(3, 3)) \\\n",
    "            .mul(self.eigval.view(1, 3).expand(3, 3)) \\\n",
    "            .sum(1).squeeze()\n",
    "\n",
    "        return img.add(rgb.view(3, 1, 1).expand_as(img))\n",
    "\n",
    "\n",
    "class Grayscale(object):\n",
    "    def __call__(self, img):\n",
    "        gs = img.clone()\n",
    "        gs[0].mul_(0.299).add_(0.587, gs[1]).add_(0.114, gs[2])\n",
    "        gs[1].copy_(gs[0])\n",
    "        gs[2].copy_(gs[0])\n",
    "        return gs\n",
    "\n",
    "\n",
    "class Saturation(object):\n",
    "    def __init__(self, var):\n",
    "        self.var = var\n",
    "\n",
    "    def __call__(self, img):\n",
    "        gs = Grayscale()(img)\n",
    "        alpha = random.uniform(0, self.var)\n",
    "        return img.lerp(gs, alpha)\n",
    "\n",
    "\n",
    "class Brightness(object):\n",
    "    def __init__(self, var):\n",
    "        self.var = var\n",
    "\n",
    "    def __call__(self, img):\n",
    "        gs = img.new().resize_as_(img).zero_()\n",
    "        alpha = random.uniform(0, self.var)\n",
    "        return img.lerp(gs, alpha)\n",
    "\n",
    "\n",
    "class Contrast(object):\n",
    "    def __init__(self, var):\n",
    "        self.var = var\n",
    "\n",
    "    def __call__(self, img):\n",
    "        gs = Grayscale()(img)\n",
    "        gs.fill_(gs.mean())\n",
    "        alpha = random.uniform(0, self.var)\n",
    "        return img.lerp(gs, alpha)\n",
    "\n",
    "\n",
    "class RandomOrder(object):\n",
    "    \"\"\" Composes several transforms together in random order.\n",
    "    \"\"\"\n",
    "\n",
    "    def __init__(self, transforms):\n",
    "        self.transforms = transforms\n",
    "\n",
    "    def __call__(self, img):\n",
    "        if self.transforms is None:\n",
    "            return img\n",
    "        order = torch.randperm(len(self.transforms))\n",
    "        for i in order:\n",
    "            img = self.transforms[i](img)\n",
    "        return img\n",
    "\n",
    "\n",
    "class ColorJitter(RandomOrder):\n",
    "    def __init__(self, brightness=0.4, contrast=0.4, saturation=0.4):\n",
    "        self.transforms = []\n",
    "        if brightness != 0:\n",
    "            self.transforms.append(Brightness(brightness))\n",
    "        if contrast != 0:\n",
    "            self.transforms.append(Contrast(contrast))\n",
    "        if saturation != 0:\n",
    "            self.transforms.append(Saturation(saturation))\n",
    "\n",
    "\n",
    "class RandomFlip(object):\n",
    "    \"\"\"Randomly flips the given PIL.Image with a probability of 0.25 horizontal,\n",
    "                                                                0.25 vertical,\n",
    "                                                                0.5 as is\n",
    "    \"\"\"\n",
    "\n",
    "    def __call__(self, img):\n",
    "        dispatcher = {\n",
    "            0: img,\n",
    "            1: img,\n",
    "            2: img.transpose(im.FLIP_LEFT_RIGHT),\n",
    "            3: img.transpose(im.FLIP_TOP_BOTTOM)\n",
    "        }\n",
    "\n",
    "        return dispatcher[random.randint(0, 3)]  # randint is inclusive\n",
    "\n",
    "\n",
    "class RandomRotate(object):\n",
    "    \"\"\"Randomly rotate the given PIL.Image with a probability of 1/6 90°,\n",
    "                                                                 1/6 180°,\n",
    "                                                                 1/6 270°,\n",
    "                                                                 1/2 as is\n",
    "    \"\"\"\n",
    "\n",
    "    def __call__(self, img):\n",
    "        dispatcher = {\n",
    "            0: img,\n",
    "            1: img,\n",
    "            2: img,\n",
    "            3: img.transpose(im.ROTATE_90),\n",
    "            4: img.transpose(im.ROTATE_180),\n",
    "            5: img.transpose(im.ROTATE_270)\n",
    "        }\n",
    "\n",
    "        return dispatcher[random.randint(0, 5)]  # randint is inclusive\n",
    "\n",
    "\n",
    "class PILColorBalance(object):\n",
    "    def __init__(self, var):\n",
    "        self.var = var\n",
    "\n",
    "    def __call__(self, img):\n",
    "        alpha = random.uniform(1 - self.var, 1 + self.var)\n",
    "        return ie.Color(img).enhance(alpha)\n",
    "\n",
    "\n",
    "class PILContrast(object):\n",
    "    def __init__(self, var):\n",
    "        self.var = var\n",
    "\n",
    "    def __call__(self, img):\n",
    "        alpha = random.uniform(1 - self.var, 1 + self.var)\n",
    "        return ie.Contrast(img).enhance(alpha)\n",
    "\n",
    "\n",
    "class PILBrightness(object):\n",
    "    def __init__(self, var):\n",
    "        self.var = var\n",
    "\n",
    "    def __call__(self, img):\n",
    "        alpha = random.uniform(1 - self.var, 1 + self.var)\n",
    "        return ie.Brightness(img).enhance(alpha)\n",
    "\n",
    "\n",
    "class PILSharpness(object):\n",
    "    def __init__(self, var):\n",
    "        self.var = var\n",
    "\n",
    "    def __call__(self, img):\n",
    "        alpha = random.uniform(1 - self.var, 1 + self.var)\n",
    "        return ie.Sharpness(img).enhance(alpha)\n",
    "\n",
    "\n",
    "# Check ImageEnhancer effect: https://www.youtube.com/watch?v=_7iDTpTop04\n",
    "# Not documented but all enhancements can go beyond 1.0 to 2\n",
    "# Image must be RGB\n",
    "# Use Pillow-SIMD because Pillow is too slow\n",
    "class PowerPIL(RandomOrder):\n",
    "    def __init__(self, rotate=True,\n",
    "                 flip=True,\n",
    "                 colorbalance=0.4,\n",
    "                 contrast=0.4,\n",
    "                 brightness=0.4,\n",
    "                 sharpness=0.4):\n",
    "        self.transforms = []\n",
    "        if rotate:\n",
    "            self.transforms.append(RandomRotate())\n",
    "        if flip:\n",
    "            self.transforms.append(RandomFlip())\n",
    "        if brightness != 0:\n",
    "            self.transforms.append(PILBrightness(brightness))\n",
    "        if contrast != 0:\n",
    "            self.transforms.append(PILContrast(contrast))\n",
    "        if colorbalance != 0:\n",
    "            self.transforms.append(PILColorBalance(colorbalance))\n",
    "        if sharpness != 0:\n",
    "            self.transforms.append(PILSharpness(sharpness))\n",
    "\n",
    "def default_loader(input_path):\n",
    "    input_image = (Image.open(input_path)).convert('RGB')\n",
    "    return input_image\n"
   ]
  },
  {
   "cell_type": "markdown",
   "metadata": {
    "_cell_guid": "bc8a9969-280a-4ec8-850b-25aed1ee38d6",
    "_uuid": "0163fcd2a2ea5a4e93bc87f47a96f404bcad6a83"
   },
   "source": [
    "## Setup transforms, datasets, and dataloaders\n",
    "\n",
    "- Data loaders spit out data from a dataset in batches. This is what you actually feed the neural network during training."
   ]
  },
  {
   "cell_type": "code",
   "execution_count": 28,
   "metadata": {
    "_cell_guid": "f94cb9fa-e76a-46d5-a363-8856b45c59e1",
    "_uuid": "fe82da4f8b1501203d12027200d1f8d2209f0057"
   },
   "outputs": [
    {
     "name": "stdout",
     "output_type": "stream",
     "text": [
      "{'train': 4038, 'valid': 712}\n"
     ]
    }
   ],
   "source": [
    "image_size = 224\n",
    "\n",
    "normalize_img = torchvision.transforms.Normalize(mean=[0.485, 0.456, 0.406],\n",
    "                                     std=[0.229, 0.224, 0.225])\n",
    "\n",
    "\n",
    "train_trans = transforms.Compose([\n",
    "    transforms.RandomSizedCrop(image_size),\n",
    "    PowerPIL(),\n",
    "    transforms.ToTensor(),\n",
    "#     normalize_img,\n",
    "    RandomErasing()\n",
    "])\n",
    "\n",
    "## Normalization only for validation and test\n",
    "valid_trans = transforms.Compose([\n",
    "    transforms.Scale(256),\n",
    "    transforms.CenterCrop(image_size),\n",
    "    transforms.ToTensor(),\n",
    "#     normalize_img\n",
    "])\n",
    "\n",
    "batch_size = 16\n",
    "train_data = df.sample(frac=0.85)\n",
    "valid_data = df[~df['file'].isin(train_data['file'])]\n",
    "\n",
    "train_set = BoneDataset(train_data, data_dir, transform = train_trans)\n",
    "valid_set = BoneDataset(valid_data, data_dir, transform = valid_trans)\n",
    "        \n",
    "\n",
    "t_loader = DataLoader(train_set, batch_size=batch_size, shuffle=True, num_workers=0)\n",
    "v_loader = DataLoader(valid_set, batch_size=batch_size, shuffle=True, num_workers=0)\n",
    "# test_loader  = DataLoader(test_set, batch_size=batch_size, shuffle=False, num_workers=4)\n",
    "\n",
    "dataset_sizes = {\n",
    "    'train': len(t_loader.dataset), \n",
    "    'valid': len(v_loader.dataset)\n",
    "}\n",
    "\n",
    "print (dataset_sizes)"
   ]
  },
  {
   "cell_type": "markdown",
   "metadata": {},
   "source": [
    "### Test the DataLoader Class"
   ]
  },
  {
   "cell_type": "code",
   "execution_count": 29,
   "metadata": {},
   "outputs": [
    {
     "name": "stdout",
     "output_type": "stream",
     "text": [
      "i=0: \n",
      "i=1: \n",
      "i=2: \n",
      "i=3: \n"
     ]
    },
    {
     "data": {
      "image/png": "[encoded data removed]",
      "text/plain": [
       "<matplotlib.figure.Figure at 0x1994717b748>"
      ]
     },
     "metadata": {},
     "output_type": "display_data"
    }
   ],
   "source": [
    "imagesToShow=4\n",
    "\n",
    "def flaotTensorToImage(img, mean=0, std=1):\n",
    "        \"\"\"convert a tensor to an image\"\"\"\n",
    "        img = np.transpose(img.numpy(), (1, 2, 0))\n",
    "        img = (img*std+ mean)*255\n",
    "        img = img.astype(np.uint8)    \n",
    "        return img    \n",
    "\n",
    "for i, data in enumerate(t_loader, 0):\n",
    "    print('i=%d: '%(i))            \n",
    "    images, labels = data            \n",
    "    num = len(images)\n",
    "    \n",
    "    ax = plt.subplot(1, imagesToShow, i + 1)\n",
    "    plt.tight_layout()\n",
    "    ax.set_title('Sample #{}'.format(i))\n",
    "    ax.axis('off')\n",
    "    \n",
    "    for n in range(num):\n",
    "        image=images[n]\n",
    "        label=labels[n]\n",
    "        plt.imshow (flaotTensorToImage(image))\n",
    "        \n",
    "    if i==imagesToShow-1:\n",
    "        break"
   ]
  },
  {
   "cell_type": "markdown",
   "metadata": {
    "_cell_guid": "d966c8a9-d189-4b76-8def-6180f9498154",
    "_uuid": "fde155bdd9ce81e2598146c263cedfa65eaba806"
   },
   "source": [
    "## Define the model\n",
    "- A simple CNN with great performance (95% accuracy) \n",
    "- In PyTorch, a model is defined by a subclass of nn.Module. It has two methods:\n",
    "\n",
    "`__init__:` constructor. Create layers here. Note that we don't define the connections between layers in this function.\n",
    "\n",
    "`forward(x):` forward function. Receives an input variable x. Returns a output variable. Note that we actually connect the layers here dynamically."
   ]
  },
  {
   "cell_type": "code",
   "execution_count": 30,
   "metadata": {
    "_cell_guid": "f2eb7b14-c63b-4fdf-8370-baabd48a9943",
    "_uuid": "29184efaeb75c7105b9f144550b68814c577534a"
   },
   "outputs": [
    {
     "name": "stdout",
     "output_type": "stream",
     "text": [
      "SimpleNet (\n",
      "  (avgpool): AdaptiveAvgPool2d (output_size=1)\n",
      "  (cnn1): ConvCNN (\n",
      "    (math): Sequential (\n",
      "      (0): Conv2d(3, 64, kernel_size=(7, 7), stride=(1, 1), padding=(2, 2))\n",
      "      (1): BatchNorm2d(64, eps=1e-05, momentum=0.1, affine=True)\n",
      "      (2): LeakyReLU (0.01)\n",
      "      (3): MaxPool2d (size=(4, 4), stride=(4, 4), dilation=(1, 1))\n",
      "    )\n",
      "    (avgpool): AvgPool2d (size=4, stride=4, padding=0, ceil_mode=False, count_include_pad=True)\n",
      "  )\n",
      "  (cnn2): ConvCNN (\n",
      "    (math): Sequential (\n",
      "      (0): Conv2d(64, 64, kernel_size=(5, 5), stride=(1, 1), padding=(2, 2))\n",
      "      (1): BatchNorm2d(64, eps=1e-05, momentum=0.1, affine=True)\n",
      "      (2): LeakyReLU (0.01)\n",
      "      (3): MaxPool2d (size=(2, 2), stride=(2, 2), dilation=(1, 1))\n",
      "    )\n",
      "    (avgpool): AvgPool2d (size=2, stride=2, padding=0, ceil_mode=False, count_include_pad=True)\n",
      "  )\n",
      "  (cnn3): ConvCNN (\n",
      "    (math): Sequential (\n",
      "      (0): Conv2d(64, 512, kernel_size=(5, 5), stride=(1, 1), padding=(2, 2))\n",
      "      (1): BatchNorm2d(512, eps=1e-05, momentum=0.1, affine=True)\n",
      "      (2): LeakyReLU (0.01)\n",
      "      (3): MaxPool2d (size=(2, 2), stride=(2, 2), dilation=(1, 1))\n",
      "    )\n",
      "    (avgpool): AvgPool2d (size=2, stride=2, padding=0, ceil_mode=False, count_include_pad=True)\n",
      "  )\n",
      "  (res1): ConvRes (\n",
      "    (math): Sequential (\n",
      "      (0): BatchNorm2d(512, eps=1e-05, momentum=0.1, affine=True)\n",
      "      (1): Dropout (p = 0.3)\n",
      "      (2): Conv2d(512, 64, kernel_size=(2, 2), stride=(1, 1), padding=(2, 2))\n",
      "      (3): PReLU (1)\n",
      "    )\n",
      "  )\n",
      "  (features): Sequential (\n",
      "    (0): ConvCNN (\n",
      "      (math): Sequential (\n",
      "        (0): Conv2d(3, 64, kernel_size=(7, 7), stride=(1, 1), padding=(2, 2))\n",
      "        (1): BatchNorm2d(64, eps=1e-05, momentum=0.1, affine=True)\n",
      "        (2): LeakyReLU (0.01)\n",
      "        (3): MaxPool2d (size=(4, 4), stride=(4, 4), dilation=(1, 1))\n",
      "      )\n",
      "      (avgpool): AvgPool2d (size=4, stride=4, padding=0, ceil_mode=False, count_include_pad=True)\n",
      "    )\n",
      "    (1): Dropout (p = 0.3)\n",
      "    (2): ConvCNN (\n",
      "      (math): Sequential (\n",
      "        (0): Conv2d(64, 64, kernel_size=(5, 5), stride=(1, 1), padding=(2, 2))\n",
      "        (1): BatchNorm2d(64, eps=1e-05, momentum=0.1, affine=True)\n",
      "        (2): LeakyReLU (0.01)\n",
      "        (3): MaxPool2d (size=(2, 2), stride=(2, 2), dilation=(1, 1))\n",
      "      )\n",
      "      (avgpool): AvgPool2d (size=2, stride=2, padding=0, ceil_mode=False, count_include_pad=True)\n",
      "    )\n",
      "    (3): ConvCNN (\n",
      "      (math): Sequential (\n",
      "        (0): Conv2d(64, 512, kernel_size=(5, 5), stride=(1, 1), padding=(2, 2))\n",
      "        (1): BatchNorm2d(512, eps=1e-05, momentum=0.1, affine=True)\n",
      "        (2): LeakyReLU (0.01)\n",
      "        (3): MaxPool2d (size=(2, 2), stride=(2, 2), dilation=(1, 1))\n",
      "      )\n",
      "      (avgpool): AvgPool2d (size=2, stride=2, padding=0, ceil_mode=False, count_include_pad=True)\n",
      "    )\n",
      "    (4): ConvRes (\n",
      "      (math): Sequential (\n",
      "        (0): BatchNorm2d(512, eps=1e-05, momentum=0.1, affine=True)\n",
      "        (1): Dropout (p = 0.3)\n",
      "        (2): Conv2d(512, 64, kernel_size=(2, 2), stride=(1, 1), padding=(2, 2))\n",
      "        (3): PReLU (1)\n",
      "      )\n",
      "    )\n",
      "  )\n",
      "  (classifier): Sequential (\n",
      "    (0): Linear (2304 -> 12)\n",
      "  )\n",
      ")\n"
     ]
    }
   ],
   "source": [
    "import torch\n",
    "import torch.nn as nn\n",
    "import torch.nn.functional as F\n",
    "import torch.optim as optim\n",
    "from torchvision import datasets, transforms\n",
    "from torch.autograd import Variable\n",
    "import math \n",
    "import torch\n",
    "import torch.nn as nn\n",
    "import torch.nn.functional as F\n",
    "from torch.autograd import Variable\n",
    "from collections import OrderedDict\n",
    "from torch.nn import init\n",
    "import numpy as np\n",
    "\n",
    "\n",
    "\n",
    "dropout = torch.nn.Dropout(p=0.30)\n",
    "relu=torch.nn.LeakyReLU()\n",
    "pool = nn.MaxPool2d(2, 2)\n",
    "\n",
    "class ConvRes(nn.Module):\n",
    "    def __init__(self,insize, outsize):\n",
    "        super(ConvRes, self).__init__()\n",
    "        drate = .3\n",
    "        self.math = nn.Sequential(\n",
    "                 nn.BatchNorm2d(insize),\n",
    "                 nn.Dropout(drate),\n",
    "                 torch.nn.Conv2d(insize, outsize, kernel_size=2,padding=2),\n",
    "                 nn.PReLU(),\n",
    "                )\n",
    "        \n",
    "    def forward(self, x):\n",
    "        return self.math(x) \n",
    "\n",
    "class ConvCNN(nn.Module):\n",
    "    def __init__(self,insize, outsize, kernel_size=7, padding=2, pool=2, avg=True):\n",
    "        super(ConvCNN, self).__init__()\n",
    "        self.avg=avg\n",
    "        self.math = torch.nn.Sequential(\n",
    "            torch.nn.Conv2d(insize, outsize, kernel_size=kernel_size,padding=padding),\n",
    "            torch.nn.BatchNorm2d(outsize),\n",
    "            torch.nn.LeakyReLU(),\n",
    "            torch.nn.MaxPool2d(pool,pool),\n",
    "        )\n",
    "        self.avgpool=torch.nn.AvgPool2d(pool,pool)\n",
    "        \n",
    "    def forward(self, x):\n",
    "        x=self.math(x)\n",
    "        if self.avg is True:\n",
    "            x=self.avgpool(x)\n",
    "        return x   \n",
    "        \n",
    "class SimpleNet(nn.Module):\n",
    "    def __init__(self):\n",
    "        super(SimpleNet, self).__init__()        \n",
    "        \n",
    "        self.avgpool = nn.AdaptiveAvgPool2d(1)\n",
    "        \n",
    "        self.cnn1 = ConvCNN (3,64,  kernel_size=7, pool=4, avg=False)\n",
    "        self.cnn2 = ConvCNN (64,64, kernel_size=5, pool=2, avg=True)\n",
    "        self.cnn3 = ConvCNN (64,512, kernel_size=5, pool=2, avg=True)\n",
    "        \n",
    "        self.res1 = ConvRes (512,64)\n",
    "        \n",
    "        self.features = nn.Sequential( \n",
    "            self.cnn1,dropout,          \n",
    "            self.cnn2,\n",
    "            self.cnn3,\n",
    "            self.res1,\n",
    "        )        \n",
    "        \n",
    "        self.classifier = torch.nn.Sequential(\n",
    "            nn.Linear(2304, len(classes)),             \n",
    "        )\n",
    "#         self.sig=nn.Sigmoid()        \n",
    "            \n",
    "    def forward(self, x):\n",
    "        x = self.features(x) \n",
    "        x = x.view(x.size(0), -1)        \n",
    "#         print (x.data.shape)\n",
    "        x = self.classifier(x)                \n",
    "#         x = self.sig(x)\n",
    "        return x        \n",
    "\n",
    "model = SimpleNet()\n",
    "# model = senetXX_generic(1, 3, 16)\n",
    "if use_cuda:\n",
    "    model = model.cuda()\n",
    "criterion = torch.nn.CrossEntropyLoss()\n",
    "optimizer = torch.optim.Adam(model.parameters(), lr= 0.00005 * 2 * 2)\n",
    "\n",
    "if use_cuda:\n",
    "    model = model.cuda()\n",
    "print (model)"
   ]
  },
  {
   "cell_type": "markdown",
   "metadata": {},
   "source": [
    "# Metrics and Tensorboard"
   ]
  },
  {
   "cell_type": "code",
   "execution_count": 31,
   "metadata": {
    "collapsed": true
   },
   "outputs": [],
   "source": [
    "import datetime \n",
    "try:\n",
    "    from pycrayon import CrayonClient\n",
    "except ImportError:\n",
    "    CrayonClient = None\n",
    "\n",
    "# tensorboad\n",
    "use_tensorboard = True\n",
    "# use_tensorboard = True and CrayonClient is not None\n",
    "\n",
    "if use_tensorboard == True:\n",
    "    cc = CrayonClient(hostname='http://192.168.1.2') # point to where you installed Crayon\n",
    "#     cc.remove_all_experiments()\n",
    "    \n",
    "model_name = (type(model).__name__)\n",
    "exp_name = datetime.datetime.now().strftime(model_name + '_' + 'bone' + '_%Y-%m-%d_%H-%M-%S')\n",
    "if use_tensorboard == True:\n",
    "    exp = cc.create_experiment(exp_name)    \n",
    "    \n",
    "\n",
    "class AverageMeter(object):\n",
    "    \"\"\"Computes and stores the average and current value\"\"\"\n",
    "\n",
    "    def __init__(self):\n",
    "        self.reset()\n",
    "\n",
    "    def reset(self):\n",
    "        self.val = 0\n",
    "        self.avg = 0\n",
    "        self.sum = 0\n",
    "        self.count = 0\n",
    "\n",
    "    def update(self, val, n=1):\n",
    "        self.val = val\n",
    "        self.sum += val * n\n",
    "        self.count += n\n",
    "        self.avg = self.sum / self.count\n",
    "\n",
    "def accuracy2(y_pred, y_actual, topk=(1, )):\n",
    "    \"\"\"Computes the precision@k for the specified values of k\"\"\"\n",
    "    maxk = max(topk)\n",
    "    batch_size = y_actual.size(0)\n",
    "\n",
    "    _, pred = y_pred.topk(maxk, 1, True, True)\n",
    "    pred = pred.t()\n",
    "    correct = pred.eq(y_actual.view(1, -1).expand_as(pred))\n",
    "\n",
    "    res = []\n",
    "    for k in topk:\n",
    "        correct_k = correct[:k].view(-1).float().sum(0)\n",
    "        res.append(correct_k.mul_(100.0 / batch_size))\n",
    "\n",
    "    return res\n",
    "        "
   ]
  },
  {
   "cell_type": "markdown",
   "metadata": {
    "_cell_guid": "0cd8c571-5d93-42b6-9ef0-9c16b6d43ef7",
    "_uuid": "1257d2cc10e64019a8ca94c814d4e179a45e04cd"
   },
   "source": [
    "### Training"
   ]
  },
  {
   "cell_type": "code",
   "execution_count": null,
   "metadata": {
    "_cell_guid": "f2cd5d63-c765-476a-9258-0152d8a06360",
    "_uuid": "d5ecfa57978ed8afd52e1551f6f5688ce9e16a5c"
   },
   "outputs": [
    {
     "name": "stderr",
     "output_type": "stream",
     "text": [
      "c:\\Anaconda3\\lib\\site-packages\\sklearn\\cross_validation.py:41: DeprecationWarning: This module was deprecated in version 0.18 in favor of the model_selection module into which all the refactored classes and functions are moved. Also note that the interface of the new CV iterators are different from that of this module. This module will be removed in 0.20.\n",
      "  \"This module will be removed in 0.20.\", DeprecationWarning)\n"
     ]
    }
   ],
   "source": [
    "from tqdm import tqdm \n",
    "from sklearn import metrics\n",
    "import torch\n",
    "import numpy as np\n",
    "from sklearn import cross_validation\n",
    "from sklearn import metrics\n",
    "from sklearn.metrics import roc_auc_score, log_loss, roc_auc_score, roc_curve, auc\n",
    "\n",
    "def train(train_loader, model, epoch, optimizer):\n",
    "    if use_cuda:\n",
    "        model.cuda()\n",
    "        criterion.cuda()\n",
    "\n",
    "    batch_time = AverageMeter()\n",
    "    data_time = AverageMeter()\n",
    "    losses = AverageMeter()\n",
    "    acc = AverageMeter()\n",
    "   \n",
    "    # switch to train mode\n",
    "    model.train()\n",
    "\n",
    "    end = time.time()\n",
    "    for batch_idx, (images, target) in enumerate(train_loader): \n",
    "        correct = 0\n",
    "        # measure data loading time\n",
    "        data_time.update(time.time() - end)\n",
    "\n",
    "        if use_cuda:\n",
    "            images, target = images.cuda(), target.cuda()\n",
    "            images, target = Variable(images), Variable(target)\n",
    "        # compute y_pred\n",
    "        y_pred = model(images)\n",
    "        loss = criterion(y_pred, target)\n",
    "\n",
    "        # measure accuracy and record loss\n",
    "        prec1, prec1 = accuracy2(y_pred.data, target.data, topk=(1, 1))\n",
    "        losses.update(loss.data[0], images.size(0))\n",
    "        acc.update(prec1[0], images.size(0))\n",
    "        \n",
    "        pred = y_pred.data.max(1)[1] # get the index of the max log-probability\n",
    "        correct += pred.eq(target.data).cpu().sum()\n",
    "        accuracy = 100. * correct / len(images)\n",
    "        \n",
    "        # compute gradient and do SGD step\n",
    "        optimizer.zero_grad()\n",
    "        loss.backward()\n",
    "        optimizer.step()\n",
    "\n",
    "        # measure elapsed time\n",
    "        batch_time.update(time.time() - end)\n",
    "        end = time.time()\n",
    "\n",
    "        if batch_idx % 100  == 0:\n",
    "            print('TRAIN: LOSS-->{loss.val:.4f} ({loss.avg:.4f})\\t' 'ACC-->{acc.val:.3f}% ({acc.avg:.3f}%)'.format(loss=losses, acc=acc))\n",
    "            if use_tensorboard:\n",
    "                exp.add_scalar_value('tr_epoch_loss', losses.avg, step=epoch)\n",
    "                exp.add_scalar_value('tr_epoch_acc', acc.avg, step=epoch)\n",
    "                \n",
    "            print('TRAIN: {} [{}/{} ({:.0f}%)]\\tLoss: {:.6f}, Accuracy: {}/{} ({:.3f}%)'.format(\n",
    "                epoch, batch_idx * len(images), len(train_loader.dataset),\n",
    "                100. * batch_idx / len(train_loader), loss.data[0],\n",
    "                correct, len(images),\n",
    "                accuracy))            \n",
    "    \n",
    "\n",
    "    return float('{loss.avg:.4f}'.format(loss=losses)), float('{acc.avg:.4f}'.format(acc=acc))\n",
    "\n",
    "def validate(val_loader, model, epoch):\n",
    "    if use_cuda:\n",
    "        model.cuda()\n",
    "        criterion.cuda()\n",
    "\n",
    "    batch_time = AverageMeter()\n",
    "    losses = AverageMeter()\n",
    "    acc = AverageMeter()\n",
    "\n",
    "    # switch to evaluate mode\n",
    "    model.eval()\n",
    "\n",
    "    end = time.time()\n",
    "    for i, (images, labels) in enumerate(val_loader):\n",
    "\n",
    "        if use_cuda:\n",
    "            images, labels = images.cuda(), labels.cuda()\n",
    "            images, labels = Variable(images, volatile=True), Variable(labels)\n",
    "\n",
    "        # compute y_pred\n",
    "        y_pred = model(images)\n",
    "        loss = criterion(y_pred, labels)\n",
    "\n",
    "        # measure accuracy and record loss\n",
    "        prec1, temp_var = accuracy2(y_pred.data, labels.data, topk=(1, 1))\n",
    "        losses.update(loss.data[0], images.size(0))\n",
    "        acc.update(prec1[0], images.size(0))\n",
    "\n",
    "        # measure elapsed time\n",
    "        batch_time.update(time.time() - end)\n",
    "        end = time.time()\n",
    "\n",
    "        if i % 100== 0:\n",
    "            print('VAL:   LOSS--> {loss.val:.4f} ({loss.avg:.4f})\\t''ACC-->{acc.val:.3f} ({acc.avg:.3f})'.format(loss=losses, acc=acc))\n",
    "\n",
    "        if i % 50 == 0:\n",
    "            if use_tensorboard:\n",
    "                exp.add_scalar_value('val_epoch_loss', losses.avg, step=epoch)\n",
    "                exp.add_scalar_value('val_epoch_acc', acc.avg, step=epoch)\n",
    "\n",
    "    print(' * Accuracy {acc.avg:.4f}'.format(acc=acc))\n",
    "    return float('{loss.avg:.6f}'.format(loss=losses)), float('{acc.avg:.6f}'.format(acc=acc))\n",
    "\n",
    "test_trans = valid_trans\n",
    "test_data_dir = 'd:/db/data/seedings/test/'\n",
    "\n",
    "def testImageLoader(image_name):\n",
    "    \"\"\"load image, returns cuda tensor\"\"\"\n",
    "#     image = Image.open(image_name)\n",
    "    image = Image.open(image_name).convert('RGB')\n",
    "    image = test_trans(image)\n",
    "#     image = Variable(image, requires_grad=True)\n",
    "    image = image.unsqueeze(0)  \n",
    "    if use_cuda:\n",
    "#         print (\"cuda\")\n",
    "        image.cuda()         \n",
    "    return image  \n",
    "\n",
    "def testModel(test_dir, local_model):    \n",
    "    if use_cuda:\n",
    "        local_model.cuda()\n",
    "    \n",
    "    local_model.eval()\n",
    "    \n",
    "    columns = ['file', 'species']\n",
    "    df_pred = pd.DataFrame(data=np.zeros((0, len(columns))), columns=columns)\n",
    "#     df_pred.species.astype(int)\n",
    "    for index, row in (sample_submission.iterrows()):\n",
    "#         for file in os.listdir(test_dir):            \n",
    "        currImage=os.path.join(test_dir, row['file'])\n",
    "        if os.path.isfile(currImage):\n",
    "            X_tensor_test=testImageLoader (currImage)            \n",
    "#             print (type(X_tensor_test))\n",
    "            if use_cuda:\n",
    "                X_tensor_test = Variable(X_tensor_test.cuda()) \n",
    "            else:\n",
    "                X_tensor_test = Variable(X_tensor_test)        \n",
    "            \n",
    "            # get the index of the max log-probability\n",
    "            predicted_val = (local_model(X_tensor_test)).data.max(1)[1] # get the index of the max log-probability\n",
    "#             predicted_val = predicted_val.data.max(1, keepdim=True)[1]\n",
    "            p_test = (predicted_val.cpu().numpy().item())\n",
    "            df_pred = df_pred.append({'file': row['file'], 'species': num_to_class[int(p_test)]}, ignore_index=True)             \n",
    "    \n",
    "    return df_pred"
   ]
  },
  {
   "cell_type": "markdown",
   "metadata": {
    "_cell_guid": "7b939262-bef9-4384-9e65-1c6f19b0e7af",
    "_uuid": "c89aec6e431baa5ad878aa07c30faef161dea697"
   },
   "source": [
    "### Train the model"
   ]
  },
  {
   "cell_type": "code",
   "execution_count": null,
   "metadata": {
    "_cell_guid": "c75d0756-757e-4cdb-b3e3-43d0ae2110eb",
    "_uuid": "56b469e006382a0c93c7ce30b7976783257762b9"
   },
   "outputs": [
    {
     "name": "stdout",
     "output_type": "stream",
     "text": [
      "MODEL: SimpleNet\n"
     ]
    },
    {
     "name": "stderr",
     "output_type": "stream",
     "text": [
      "\r",
      "  0%|                                                                                          | 0/100 [00:00<?, ?it/s]"
     ]
    },
    {
     "name": "stdout",
     "output_type": "stream",
     "text": [
      "TRAIN: LOSS-->2.4837 (2.4837)\tACC-->18.750% (18.750%)\n",
      "TRAIN: 0 [0/4038 (0%)]\tLoss: 2.483661, Accuracy: 3/16 (18.750%)\n",
      "TRAIN: LOSS-->1.9329 (2.2485)\tACC-->43.750% (23.577%)\n",
      "TRAIN: 0 [1600/4038 (40%)]\tLoss: 1.932917, Accuracy: 7/16 (43.750%)\n",
      "TRAIN: LOSS-->1.7438 (2.1423)\tACC-->37.500% (25.902%)\n",
      "TRAIN: 0 [3200/4038 (79%)]\tLoss: 1.743805, Accuracy: 6/16 (37.500%)\n",
      "VAL:   LOSS--> 1.7574 (1.7574)\tACC-->31.250 (31.250)\n",
      " * Accuracy 36.5169\n"
     ]
    },
    {
     "name": "stderr",
     "output_type": "stream",
     "text": [
      "\r",
      "  1%|▊                                                                               | 1/100 [01:02<1:43:25, 62.68s/it]"
     ]
    },
    {
     "name": "stdout",
     "output_type": "stream",
     "text": [
      "TRAIN: LOSS-->1.8231 (1.8231)\tACC-->31.250% (31.250%)\n",
      "TRAIN: 1 [0/4038 (0%)]\tLoss: 1.823076, Accuracy: 5/16 (31.250%)\n",
      "TRAIN: LOSS-->2.0315 (1.9430)\tACC-->37.500% (35.953%)\n",
      "TRAIN: 1 [1600/4038 (40%)]\tLoss: 2.031461, Accuracy: 6/16 (37.500%)\n",
      "TRAIN: LOSS-->1.8055 (1.8935)\tACC-->43.750% (36.785%)\n",
      "TRAIN: 1 [3200/4038 (79%)]\tLoss: 1.805523, Accuracy: 7/16 (43.750%)\n",
      "VAL:   LOSS--> 1.6274 (1.6274)\tACC-->50.000 (50.000)\n",
      " * Accuracy 50.5618\n"
     ]
    },
    {
     "name": "stderr",
     "output_type": "stream",
     "text": [
      "\r",
      "  2%|█▌                                                                              | 2/100 [01:57<1:36:04, 58.82s/it]"
     ]
    },
    {
     "name": "stdout",
     "output_type": "stream",
     "text": [
      "TRAIN: LOSS-->1.3617 (1.3617)\tACC-->50.000% (50.000%)\n",
      "TRAIN: 2 [0/4038 (0%)]\tLoss: 1.361687, Accuracy: 8/16 (50.000%)\n",
      "TRAIN: LOSS-->1.6788 (1.7454)\tACC-->37.500% (41.584%)\n",
      "TRAIN: 2 [1600/4038 (40%)]\tLoss: 1.678803, Accuracy: 6/16 (37.500%)\n",
      "TRAIN: LOSS-->1.3372 (1.7247)\tACC-->56.250% (41.480%)\n",
      "TRAIN: 2 [3200/4038 (79%)]\tLoss: 1.337159, Accuracy: 9/16 (56.250%)\n",
      "VAL:   LOSS--> 1.5621 (1.5621)\tACC-->50.000 (50.000)\n",
      " * Accuracy 51.8258\n"
     ]
    },
    {
     "name": "stderr",
     "output_type": "stream",
     "text": [
      "\r",
      "  3%|██▍                                                                             | 3/100 [02:52<1:32:54, 57.47s/it]"
     ]
    },
    {
     "name": "stdout",
     "output_type": "stream",
     "text": [
      "TRAIN: LOSS-->1.9854 (1.9854)\tACC-->31.250% (31.250%)\n",
      "TRAIN: 3 [0/4038 (0%)]\tLoss: 1.985434, Accuracy: 5/16 (31.250%)\n",
      "TRAIN: LOSS-->1.5470 (1.6990)\tACC-->31.250% (42.512%)\n",
      "TRAIN: 3 [1600/4038 (40%)]\tLoss: 1.547006, Accuracy: 5/16 (31.250%)\n",
      "TRAIN: LOSS-->1.7760 (1.6625)\tACC-->37.500% (44.558%)\n",
      "TRAIN: 3 [3200/4038 (79%)]\tLoss: 1.775984, Accuracy: 6/16 (37.500%)\n",
      "VAL:   LOSS--> 1.0828 (1.0828)\tACC-->62.500 (62.500)\n",
      " * Accuracy 60.6742\n"
     ]
    },
    {
     "name": "stderr",
     "output_type": "stream",
     "text": [
      "\r",
      "  4%|███▏                                                                            | 4/100 [03:47<1:30:48, 56.76s/it]"
     ]
    },
    {
     "name": "stdout",
     "output_type": "stream",
     "text": [
      "TRAIN: LOSS-->1.5896 (1.5896)\tACC-->31.250% (31.250%)\n",
      "TRAIN: 4 [0/4038 (0%)]\tLoss: 1.589611, Accuracy: 5/16 (31.250%)\n",
      "TRAIN: LOSS-->1.6358 (1.5844)\tACC-->50.000% (45.916%)\n",
      "TRAIN: 4 [1600/4038 (40%)]\tLoss: 1.635818, Accuracy: 8/16 (50.000%)\n",
      "TRAIN: LOSS-->1.5291 (1.5687)\tACC-->43.750% (46.113%)\n",
      "TRAIN: 4 [3200/4038 (79%)]\tLoss: 1.529099, Accuracy: 7/16 (43.750%)\n",
      "VAL:   LOSS--> 1.3693 (1.3693)\tACC-->31.250 (31.250)\n",
      " * Accuracy 65.5899\n"
     ]
    },
    {
     "name": "stderr",
     "output_type": "stream",
     "text": [
      "\r",
      "  5%|████                                                                            | 5/100 [04:41<1:29:14, 56.36s/it]"
     ]
    },
    {
     "name": "stdout",
     "output_type": "stream",
     "text": [
      "TRAIN: LOSS-->1.5099 (1.5099)\tACC-->50.000% (50.000%)\n",
      "TRAIN: 5 [0/4038 (0%)]\tLoss: 1.509910, Accuracy: 8/16 (50.000%)\n",
      "TRAIN: LOSS-->1.8435 (1.4640)\tACC-->56.250% (50.248%)\n",
      "TRAIN: 5 [1600/4038 (40%)]\tLoss: 1.843495, Accuracy: 9/16 (56.250%)\n",
      "TRAIN: LOSS-->1.5505 (1.4880)\tACC-->50.000% (49.845%)\n",
      "TRAIN: 5 [3200/4038 (79%)]\tLoss: 1.550495, Accuracy: 8/16 (50.000%)\n",
      "VAL:   LOSS--> 0.7400 (0.7400)\tACC-->75.000 (75.000)\n",
      " * Accuracy 66.0112\n"
     ]
    },
    {
     "name": "stderr",
     "output_type": "stream",
     "text": [
      "\r",
      "  6%|████▊                                                                           | 6/100 [05:36<1:27:52, 56.09s/it]"
     ]
    },
    {
     "name": "stdout",
     "output_type": "stream",
     "text": [
      "TRAIN: LOSS-->1.9428 (1.9428)\tACC-->37.500% (37.500%)\n",
      "TRAIN: 6 [0/4038 (0%)]\tLoss: 1.942766, Accuracy: 6/16 (37.500%)\n",
      "TRAIN: LOSS-->1.2555 (1.4861)\tACC-->50.000% (50.495%)\n",
      "TRAIN: 6 [1600/4038 (40%)]\tLoss: 1.255460, Accuracy: 8/16 (50.000%)\n",
      "TRAIN: LOSS-->1.6343 (1.4596)\tACC-->56.250% (51.835%)\n",
      "TRAIN: 6 [3200/4038 (79%)]\tLoss: 1.634311, Accuracy: 9/16 (56.250%)\n",
      "VAL:   LOSS--> 0.8689 (0.8689)\tACC-->81.250 (81.250)\n",
      " * Accuracy 64.4663\n"
     ]
    },
    {
     "name": "stderr",
     "output_type": "stream",
     "text": [
      "\r",
      "  7%|█████▌                                                                          | 7/100 [06:31<1:26:39, 55.91s/it]"
     ]
    },
    {
     "name": "stdout",
     "output_type": "stream",
     "text": [
      "TRAIN: LOSS-->1.4945 (1.4945)\tACC-->43.750% (43.750%)\n",
      "TRAIN: 7 [0/4038 (0%)]\tLoss: 1.494483, Accuracy: 7/16 (43.750%)\n",
      "TRAIN: LOSS-->0.9107 (1.3999)\tACC-->81.250% (54.208%)\n",
      "TRAIN: 7 [1600/4038 (40%)]\tLoss: 0.910716, Accuracy: 13/16 (81.250%)\n",
      "TRAIN: LOSS-->1.5816 (1.4002)\tACC-->37.500% (53.856%)\n",
      "TRAIN: 7 [3200/4038 (79%)]\tLoss: 1.581565, Accuracy: 6/16 (37.500%)\n",
      "VAL:   LOSS--> 1.0850 (1.0850)\tACC-->62.500 (62.500)\n",
      " * Accuracy 68.2584\n"
     ]
    },
    {
     "name": "stderr",
     "output_type": "stream",
     "text": [
      "\r",
      "  8%|██████▍                                                                         | 8/100 [07:26<1:25:31, 55.78s/it]"
     ]
    },
    {
     "name": "stdout",
     "output_type": "stream",
     "text": [
      "TRAIN: LOSS-->1.7082 (1.7082)\tACC-->43.750% (43.750%)\n",
      "TRAIN: 8 [0/4038 (0%)]\tLoss: 1.708192, Accuracy: 7/16 (43.750%)\n",
      "TRAIN: LOSS-->1.3320 (1.3619)\tACC-->56.250% (55.012%)\n",
      "TRAIN: 8 [1600/4038 (40%)]\tLoss: 1.331987, Accuracy: 9/16 (56.250%)\n",
      "TRAIN: LOSS-->1.3835 (1.3509)\tACC-->56.250% (54.198%)\n",
      "TRAIN: 8 [3200/4038 (79%)]\tLoss: 1.383517, Accuracy: 9/16 (56.250%)\n",
      "VAL:   LOSS--> 0.6203 (0.6203)\tACC-->81.250 (81.250)\n",
      " * Accuracy 66.4326\n"
     ]
    },
    {
     "name": "stderr",
     "output_type": "stream",
     "text": [
      "\r",
      "  9%|███████▏                                                                        | 9/100 [08:20<1:24:25, 55.66s/it]"
     ]
    },
    {
     "name": "stdout",
     "output_type": "stream",
     "text": [
      "TRAIN: LOSS-->0.9882 (0.9882)\tACC-->75.000% (75.000%)\n",
      "TRAIN: 9 [0/4038 (0%)]\tLoss: 0.988216, Accuracy: 12/16 (75.000%)\n",
      "TRAIN: LOSS-->1.6712 (1.3049)\tACC-->31.250% (54.827%)\n",
      "TRAIN: 9 [1600/4038 (40%)]\tLoss: 1.671164, Accuracy: 5/16 (31.250%)\n",
      "TRAIN: LOSS-->1.6080 (1.3195)\tACC-->50.000% (54.602%)\n",
      "TRAIN: 9 [3200/4038 (79%)]\tLoss: 1.607960, Accuracy: 8/16 (50.000%)\n",
      "VAL:   LOSS--> 1.0163 (1.0163)\tACC-->56.250 (56.250)\n",
      " * Accuracy 73.1742\n"
     ]
    },
    {
     "name": "stderr",
     "output_type": "stream",
     "text": [
      "\r",
      " 10%|███████▉                                                                       | 10/100 [09:15<1:23:22, 55.58s/it]"
     ]
    },
    {
     "name": "stdout",
     "output_type": "stream",
     "text": [
      "TRAIN: LOSS-->1.3352 (1.3352)\tACC-->56.250% (56.250%)\n",
      "TRAIN: 10 [0/4038 (0%)]\tLoss: 1.335181, Accuracy: 9/16 (56.250%)\n",
      "TRAIN: LOSS-->1.1133 (1.2971)\tACC-->56.250% (57.364%)\n",
      "TRAIN: 10 [1600/4038 (40%)]\tLoss: 1.113259, Accuracy: 9/16 (56.250%)\n",
      "TRAIN: LOSS-->1.5133 (1.2624)\tACC-->56.250% (57.276%)\n",
      "TRAIN: 10 [3200/4038 (79%)]\tLoss: 1.513253, Accuracy: 9/16 (56.250%)\n",
      "VAL:   LOSS--> 0.7304 (0.7304)\tACC-->81.250 (81.250)\n",
      " * Accuracy 74.5787\n"
     ]
    },
    {
     "name": "stderr",
     "output_type": "stream",
     "text": [
      "\r",
      " 11%|████████▋                                                                      | 11/100 [10:10<1:22:20, 55.51s/it]"
     ]
    },
    {
     "name": "stdout",
     "output_type": "stream",
     "text": [
      "TRAIN: LOSS-->1.5264 (1.5264)\tACC-->62.500% (62.500%)\n",
      "TRAIN: 11 [0/4038 (0%)]\tLoss: 1.526416, Accuracy: 10/16 (62.500%)\n",
      "TRAIN: LOSS-->1.3263 (1.2519)\tACC-->37.500% (57.364%)\n",
      "TRAIN: 11 [1600/4038 (40%)]\tLoss: 1.326327, Accuracy: 6/16 (37.500%)\n",
      "TRAIN: LOSS-->1.6395 (1.2476)\tACC-->37.500% (58.271%)\n",
      "TRAIN: 11 [3200/4038 (79%)]\tLoss: 1.639492, Accuracy: 6/16 (37.500%)\n",
      "VAL:   LOSS--> 0.4765 (0.4765)\tACC-->81.250 (81.250)\n",
      " * Accuracy 76.9663\n"
     ]
    },
    {
     "name": "stderr",
     "output_type": "stream",
     "text": [
      "\r",
      " 12%|█████████▍                                                                     | 12/100 [11:05<1:21:18, 55.44s/it]"
     ]
    },
    {
     "name": "stdout",
     "output_type": "stream",
     "text": [
      "TRAIN: LOSS-->1.5329 (1.5329)\tACC-->37.500% (37.500%)\n",
      "TRAIN: 12 [0/4038 (0%)]\tLoss: 1.532901, Accuracy: 6/16 (37.500%)\n",
      "TRAIN: LOSS-->1.2700 (1.2171)\tACC-->56.250% (59.035%)\n",
      "TRAIN: 12 [1600/4038 (40%)]\tLoss: 1.270005, Accuracy: 9/16 (56.250%)\n",
      "TRAIN: LOSS-->1.5345 (1.2252)\tACC-->37.500% (58.613%)\n",
      "TRAIN: 12 [3200/4038 (79%)]\tLoss: 1.534454, Accuracy: 6/16 (37.500%)\n",
      "VAL:   LOSS--> 0.6462 (0.6462)\tACC-->68.750 (68.750)\n",
      " * Accuracy 74.1573\n"
     ]
    },
    {
     "name": "stderr",
     "output_type": "stream",
     "text": [
      "\r",
      " 13%|██████████▎                                                                    | 13/100 [12:00<1:20:18, 55.38s/it]"
     ]
    },
    {
     "name": "stdout",
     "output_type": "stream",
     "text": [
      "TRAIN: LOSS-->1.2815 (1.2815)\tACC-->56.250% (56.250%)\n",
      "TRAIN: 13 [0/4038 (0%)]\tLoss: 1.281488, Accuracy: 9/16 (56.250%)\n",
      "TRAIN: LOSS-->1.6497 (1.1494)\tACC-->43.750% (61.200%)\n",
      "TRAIN: 13 [1600/4038 (40%)]\tLoss: 1.649678, Accuracy: 7/16 (43.750%)\n",
      "TRAIN: LOSS-->1.1400 (1.2022)\tACC-->62.500% (58.800%)\n",
      "TRAIN: 13 [3200/4038 (79%)]\tLoss: 1.139971, Accuracy: 10/16 (62.500%)\n",
      "VAL:   LOSS--> 0.4695 (0.4695)\tACC-->87.500 (87.500)\n",
      " * Accuracy 78.9326\n"
     ]
    },
    {
     "name": "stderr",
     "output_type": "stream",
     "text": [
      "\r",
      " 14%|███████████                                                                    | 14/100 [12:54<1:19:19, 55.34s/it]"
     ]
    },
    {
     "name": "stdout",
     "output_type": "stream",
     "text": [
      "TRAIN: LOSS-->1.6029 (1.6029)\tACC-->56.250% (56.250%)\n",
      "TRAIN: 14 [0/4038 (0%)]\tLoss: 1.602925, Accuracy: 9/16 (56.250%)\n",
      "TRAIN: LOSS-->0.7499 (1.1417)\tACC-->68.750% (60.458%)\n",
      "TRAIN: 14 [1600/4038 (40%)]\tLoss: 0.749876, Accuracy: 11/16 (68.750%)\n",
      "TRAIN: LOSS-->1.4517 (1.1597)\tACC-->37.500% (60.012%)\n",
      "TRAIN: 14 [3200/4038 (79%)]\tLoss: 1.451696, Accuracy: 6/16 (37.500%)\n",
      "VAL:   LOSS--> 0.7964 (0.7964)\tACC-->68.750 (68.750)\n",
      " * Accuracy 72.8933\n"
     ]
    },
    {
     "name": "stderr",
     "output_type": "stream",
     "text": [
      "\r",
      " 15%|███████████▊                                                                   | 15/100 [13:49<1:18:19, 55.29s/it]"
     ]
    },
    {
     "name": "stdout",
     "output_type": "stream",
     "text": [
      "TRAIN: LOSS-->1.1325 (1.1325)\tACC-->68.750% (68.750%)\n",
      "TRAIN: 15 [0/4038 (0%)]\tLoss: 1.132470, Accuracy: 11/16 (68.750%)\n",
      "TRAIN: LOSS-->1.3620 (1.1780)\tACC-->56.250% (60.520%)\n",
      "TRAIN: 15 [1600/4038 (40%)]\tLoss: 1.361978, Accuracy: 9/16 (56.250%)\n",
      "TRAIN: LOSS-->1.0235 (1.1438)\tACC-->62.500% (61.878%)\n",
      "TRAIN: 15 [3200/4038 (79%)]\tLoss: 1.023452, Accuracy: 10/16 (62.500%)\n",
      "VAL:   LOSS--> 0.5436 (0.5436)\tACC-->68.750 (68.750)\n",
      " * Accuracy 78.6517\n"
     ]
    },
    {
     "name": "stderr",
     "output_type": "stream",
     "text": [
      "\r",
      " 16%|████████████▋                                                                  | 16/100 [14:44<1:17:21, 55.26s/it]"
     ]
    },
    {
     "name": "stdout",
     "output_type": "stream",
     "text": [
      "TRAIN: LOSS-->1.1892 (1.1892)\tACC-->62.500% (62.500%)\n",
      "TRAIN: 16 [0/4038 (0%)]\tLoss: 1.189198, Accuracy: 10/16 (62.500%)\n",
      "TRAIN: LOSS-->0.6389 (1.0955)\tACC-->87.500% (63.985%)\n",
      "TRAIN: 16 [1600/4038 (40%)]\tLoss: 0.638870, Accuracy: 14/16 (87.500%)\n",
      "TRAIN: LOSS-->1.2229 (1.0916)\tACC-->62.500% (63.775%)\n",
      "TRAIN: 16 [3200/4038 (79%)]\tLoss: 1.222909, Accuracy: 10/16 (62.500%)\n",
      "VAL:   LOSS--> 0.6611 (0.6611)\tACC-->68.750 (68.750)\n",
      " * Accuracy 78.0899\n"
     ]
    },
    {
     "name": "stderr",
     "output_type": "stream",
     "text": [
      "\r",
      " 17%|█████████████▍                                                                 | 17/100 [15:38<1:16:23, 55.22s/it]"
     ]
    },
    {
     "name": "stdout",
     "output_type": "stream",
     "text": [
      "TRAIN: LOSS-->1.0434 (1.0434)\tACC-->68.750% (68.750%)\n",
      "TRAIN: 17 [0/4038 (0%)]\tLoss: 1.043371, Accuracy: 11/16 (68.750%)\n",
      "TRAIN: LOSS-->1.4953 (1.1415)\tACC-->50.000% (61.757%)\n",
      "TRAIN: 17 [1600/4038 (40%)]\tLoss: 1.495280, Accuracy: 8/16 (50.000%)\n",
      "TRAIN: LOSS-->0.6477 (1.1072)\tACC-->81.250% (62.749%)\n",
      "TRAIN: 17 [3200/4038 (79%)]\tLoss: 0.647738, Accuracy: 13/16 (81.250%)\n",
      "VAL:   LOSS--> 0.8071 (0.8071)\tACC-->56.250 (56.250)\n",
      " * Accuracy 79.6348\n"
     ]
    },
    {
     "name": "stderr",
     "output_type": "stream",
     "text": [
      "\r",
      " 18%|██████████████▏                                                                | 18/100 [16:33<1:15:25, 55.19s/it]"
     ]
    },
    {
     "name": "stdout",
     "output_type": "stream",
     "text": [
      "TRAIN: LOSS-->1.1882 (1.1882)\tACC-->68.750% (68.750%)\n",
      "TRAIN: 18 [0/4038 (0%)]\tLoss: 1.188209, Accuracy: 11/16 (68.750%)\n",
      "TRAIN: LOSS-->0.7973 (1.0378)\tACC-->68.750% (64.542%)\n",
      "TRAIN: 18 [1600/4038 (40%)]\tLoss: 0.797301, Accuracy: 11/16 (68.750%)\n",
      "TRAIN: LOSS-->0.8014 (1.0446)\tACC-->68.750% (64.335%)\n",
      "TRAIN: 18 [3200/4038 (79%)]\tLoss: 0.801417, Accuracy: 11/16 (68.750%)\n",
      "VAL:   LOSS--> 0.4019 (0.4019)\tACC-->81.250 (81.250)\n",
      " * Accuracy 77.3876\n"
     ]
    },
    {
     "name": "stderr",
     "output_type": "stream",
     "text": [
      "\r",
      " 19%|███████████████                                                                | 19/100 [17:28<1:14:28, 55.17s/it]"
     ]
    },
    {
     "name": "stdout",
     "output_type": "stream",
     "text": [
      "TRAIN: LOSS-->1.0353 (1.0353)\tACC-->62.500% (62.500%)\n",
      "TRAIN: 19 [0/4038 (0%)]\tLoss: 1.035253, Accuracy: 10/16 (62.500%)\n",
      "TRAIN: LOSS-->1.5897 (1.0658)\tACC-->68.750% (63.923%)\n",
      "TRAIN: 19 [1600/4038 (40%)]\tLoss: 1.589749, Accuracy: 11/16 (68.750%)\n",
      "TRAIN: LOSS-->1.0252 (1.0634)\tACC-->50.000% (63.619%)\n",
      "TRAIN: 19 [3200/4038 (79%)]\tLoss: 1.025164, Accuracy: 8/16 (50.000%)\n",
      "VAL:   LOSS--> 0.7404 (0.7404)\tACC-->87.500 (87.500)\n",
      " * Accuracy 77.1067\n"
     ]
    },
    {
     "name": "stderr",
     "output_type": "stream",
     "text": [
      "\r",
      " 20%|███████████████▊                                                               | 20/100 [18:22<1:13:31, 55.15s/it]"
     ]
    },
    {
     "name": "stdout",
     "output_type": "stream",
     "text": [
      "TRAIN: LOSS-->1.4090 (1.4090)\tACC-->43.750% (43.750%)\n",
      "TRAIN: 20 [0/4038 (0%)]\tLoss: 1.409002, Accuracy: 7/16 (43.750%)\n",
      "TRAIN: LOSS-->1.1172 (1.0623)\tACC-->75.000% (64.480%)\n",
      "TRAIN: 20 [1600/4038 (40%)]\tLoss: 1.117217, Accuracy: 12/16 (75.000%)\n",
      "TRAIN: LOSS-->1.0932 (1.0418)\tACC-->68.750% (64.894%)\n",
      "TRAIN: 20 [3200/4038 (79%)]\tLoss: 1.093195, Accuracy: 11/16 (68.750%)\n",
      "VAL:   LOSS--> 0.6476 (0.6476)\tACC-->81.250 (81.250)\n",
      " * Accuracy 82.1629\n"
     ]
    },
    {
     "name": "stderr",
     "output_type": "stream",
     "text": [
      "\r",
      " 21%|████████████████▌                                                              | 21/100 [19:17<1:12:35, 55.13s/it]"
     ]
    },
    {
     "name": "stdout",
     "output_type": "stream",
     "text": [
      "TRAIN: LOSS-->1.0406 (1.0406)\tACC-->56.250% (56.250%)\n",
      "TRAIN: 21 [0/4038 (0%)]\tLoss: 1.040584, Accuracy: 9/16 (56.250%)\n",
      "TRAIN: LOSS-->1.1296 (1.0362)\tACC-->37.500% (63.119%)\n",
      "TRAIN: 21 [1600/4038 (40%)]\tLoss: 1.129632, Accuracy: 6/16 (37.500%)\n",
      "TRAIN: LOSS-->0.9627 (1.0031)\tACC-->81.250% (65.361%)\n",
      "TRAIN: 21 [3200/4038 (79%)]\tLoss: 0.962684, Accuracy: 13/16 (81.250%)\n",
      "VAL:   LOSS--> 0.4526 (0.4526)\tACC-->87.500 (87.500)\n",
      " * Accuracy 80.7584\n"
     ]
    },
    {
     "name": "stderr",
     "output_type": "stream",
     "text": [
      "\r",
      " 22%|█████████████████▍                                                             | 22/100 [20:12<1:11:38, 55.11s/it]"
     ]
    },
    {
     "name": "stdout",
     "output_type": "stream",
     "text": [
      "TRAIN: LOSS-->1.2664 (1.2664)\tACC-->62.500% (62.500%)\n",
      "TRAIN: 22 [0/4038 (0%)]\tLoss: 1.266386, Accuracy: 10/16 (62.500%)\n",
      "TRAIN: LOSS-->1.1411 (0.9652)\tACC-->50.000% (66.399%)\n",
      "TRAIN: 22 [1600/4038 (40%)]\tLoss: 1.141072, Accuracy: 8/16 (50.000%)\n",
      "TRAIN: LOSS-->1.5634 (0.9633)\tACC-->62.500% (66.822%)\n",
      "TRAIN: 22 [3200/4038 (79%)]\tLoss: 1.563418, Accuracy: 10/16 (62.500%)\n",
      "VAL:   LOSS--> 0.5141 (0.5141)\tACC-->81.250 (81.250)\n",
      " * Accuracy 82.7247\n"
     ]
    },
    {
     "name": "stderr",
     "output_type": "stream",
     "text": [
      "\r",
      " 23%|██████████████████▏                                                            | 23/100 [21:07<1:10:42, 55.09s/it]"
     ]
    },
    {
     "name": "stdout",
     "output_type": "stream",
     "text": [
      "TRAIN: LOSS-->0.5912 (0.5912)\tACC-->75.000% (75.000%)\n",
      "TRAIN: 23 [0/4038 (0%)]\tLoss: 0.591242, Accuracy: 12/16 (75.000%)\n",
      "TRAIN: LOSS-->0.7277 (0.9746)\tACC-->81.250% (66.955%)\n",
      "TRAIN: 23 [1600/4038 (40%)]\tLoss: 0.727695, Accuracy: 13/16 (81.250%)\n",
      "TRAIN: LOSS-->1.1198 (1.0105)\tACC-->50.000% (65.516%)\n",
      "TRAIN: 23 [3200/4038 (79%)]\tLoss: 1.119835, Accuracy: 8/16 (50.000%)\n",
      "VAL:   LOSS--> 0.5036 (0.5036)\tACC-->81.250 (81.250)\n",
      " * Accuracy 83.9888\n"
     ]
    },
    {
     "name": "stderr",
     "output_type": "stream",
     "text": [
      "\r",
      " 24%|██████████████████▉                                                            | 24/100 [22:01<1:09:45, 55.07s/it]"
     ]
    },
    {
     "name": "stdout",
     "output_type": "stream",
     "text": [
      "TRAIN: LOSS-->0.7063 (0.7063)\tACC-->81.250% (81.250%)\n",
      "TRAIN: 24 [0/4038 (0%)]\tLoss: 0.706280, Accuracy: 13/16 (81.250%)\n",
      "TRAIN: LOSS-->0.7490 (0.9724)\tACC-->68.750% (66.522%)\n",
      "TRAIN: 24 [1600/4038 (40%)]\tLoss: 0.749031, Accuracy: 11/16 (68.750%)\n",
      "TRAIN: LOSS-->0.6018 (0.9755)\tACC-->81.250% (66.760%)\n",
      "TRAIN: 24 [3200/4038 (79%)]\tLoss: 0.601821, Accuracy: 13/16 (81.250%)\n",
      "VAL:   LOSS--> 0.2322 (0.2322)\tACC-->87.500 (87.500)\n",
      " * Accuracy 82.1629\n"
     ]
    },
    {
     "name": "stderr",
     "output_type": "stream",
     "text": [
      "\r",
      " 25%|███████████████████▊                                                           | 25/100 [22:56<1:08:49, 55.06s/it]"
     ]
    },
    {
     "name": "stdout",
     "output_type": "stream",
     "text": [
      "TRAIN: LOSS-->1.4414 (1.4414)\tACC-->50.000% (50.000%)\n",
      "TRAIN: 25 [0/4038 (0%)]\tLoss: 1.441384, Accuracy: 8/16 (50.000%)\n",
      "TRAIN: LOSS-->0.7289 (0.9874)\tACC-->81.250% (65.903%)\n",
      "TRAIN: 25 [1600/4038 (40%)]\tLoss: 0.728937, Accuracy: 13/16 (81.250%)\n",
      "TRAIN: LOSS-->1.4820 (0.9956)\tACC-->50.000% (65.485%)\n",
      "TRAIN: 25 [3200/4038 (79%)]\tLoss: 1.482006, Accuracy: 8/16 (50.000%)\n",
      "VAL:   LOSS--> 0.5724 (0.5724)\tACC-->81.250 (81.250)\n",
      " * Accuracy 80.8989\n"
     ]
    },
    {
     "name": "stderr",
     "output_type": "stream",
     "text": [
      "\r",
      " 26%|████████████████████▌                                                          | 26/100 [23:51<1:07:53, 55.04s/it]"
     ]
    },
    {
     "name": "stdout",
     "output_type": "stream",
     "text": [
      "TRAIN: LOSS-->0.6730 (0.6730)\tACC-->62.500% (62.500%)\n",
      "TRAIN: 26 [0/4038 (0%)]\tLoss: 0.672989, Accuracy: 10/16 (62.500%)\n",
      "TRAIN: LOSS-->0.6712 (0.9774)\tACC-->75.000% (67.203%)\n",
      "TRAIN: 26 [1600/4038 (40%)]\tLoss: 0.671151, Accuracy: 12/16 (75.000%)\n",
      "TRAIN: LOSS-->0.7491 (0.9542)\tACC-->68.750% (67.164%)\n",
      "TRAIN: 26 [3200/4038 (79%)]\tLoss: 0.749055, Accuracy: 11/16 (68.750%)\n",
      "VAL:   LOSS--> 0.6858 (0.6858)\tACC-->75.000 (75.000)\n",
      " * Accuracy 78.0899\n"
     ]
    },
    {
     "name": "stderr",
     "output_type": "stream",
     "text": [
      "\r",
      " 27%|█████████████████████▎                                                         | 27/100 [24:46<1:06:57, 55.04s/it]"
     ]
    },
    {
     "name": "stdout",
     "output_type": "stream",
     "text": [
      "TRAIN: LOSS-->0.6777 (0.6777)\tACC-->81.250% (81.250%)\n",
      "TRAIN: 27 [0/4038 (0%)]\tLoss: 0.677654, Accuracy: 13/16 (81.250%)\n",
      "TRAIN: LOSS-->0.8277 (0.9338)\tACC-->75.000% (68.564%)\n",
      "TRAIN: 27 [1600/4038 (40%)]\tLoss: 0.827676, Accuracy: 12/16 (75.000%)\n",
      "TRAIN: LOSS-->0.9006 (0.9069)\tACC-->68.750% (69.123%)\n",
      "TRAIN: 27 [3200/4038 (79%)]\tLoss: 0.900597, Accuracy: 11/16 (68.750%)\n",
      "VAL:   LOSS--> 0.6712 (0.6712)\tACC-->81.250 (81.250)\n",
      " * Accuracy 82.7247\n"
     ]
    },
    {
     "name": "stderr",
     "output_type": "stream",
     "text": [
      "\r",
      " 28%|██████████████████████                                                         | 28/100 [25:40<1:06:01, 55.03s/it]"
     ]
    },
    {
     "name": "stdout",
     "output_type": "stream",
     "text": [
      "TRAIN: LOSS-->0.9694 (0.9694)\tACC-->75.000% (75.000%)\n",
      "TRAIN: 28 [0/4038 (0%)]\tLoss: 0.969354, Accuracy: 12/16 (75.000%)\n",
      "TRAIN: LOSS-->1.1106 (0.9617)\tACC-->56.250% (67.450%)\n",
      "TRAIN: 28 [1600/4038 (40%)]\tLoss: 1.110637, Accuracy: 9/16 (56.250%)\n",
      "TRAIN: LOSS-->0.7632 (0.9372)\tACC-->75.000% (68.408%)\n",
      "TRAIN: 28 [3200/4038 (79%)]\tLoss: 0.763239, Accuracy: 12/16 (75.000%)\n",
      "VAL:   LOSS--> 0.7387 (0.7387)\tACC-->81.250 (81.250)\n",
      " * Accuracy 77.8090\n"
     ]
    },
    {
     "name": "stderr",
     "output_type": "stream",
     "text": [
      "\r",
      " 29%|██████████████████████▉                                                        | 29/100 [26:35<1:05:06, 55.02s/it]"
     ]
    },
    {
     "name": "stdout",
     "output_type": "stream",
     "text": [
      "TRAIN: LOSS-->0.4926 (0.4926)\tACC-->87.500% (87.500%)\n",
      "TRAIN: 29 [0/4038 (0%)]\tLoss: 0.492555, Accuracy: 14/16 (87.500%)\n",
      "TRAIN: LOSS-->1.1918 (0.9111)\tACC-->62.500% (70.173%)\n",
      "TRAIN: 29 [1600/4038 (40%)]\tLoss: 1.191823, Accuracy: 10/16 (62.500%)\n",
      "TRAIN: LOSS-->0.5649 (0.9165)\tACC-->87.500% (69.341%)\n",
      "TRAIN: 29 [3200/4038 (79%)]\tLoss: 0.564882, Accuracy: 14/16 (87.500%)\n",
      "VAL:   LOSS--> 0.3620 (0.3620)\tACC-->87.500 (87.500)\n",
      " * Accuracy 82.8652\n"
     ]
    },
    {
     "name": "stderr",
     "output_type": "stream",
     "text": [
      "\r",
      " 30%|███████████████████████▋                                                       | 30/100 [27:30<1:04:10, 55.00s/it]"
     ]
    },
    {
     "name": "stdout",
     "output_type": "stream",
     "text": [
      "TRAIN: LOSS-->0.9498 (0.9498)\tACC-->81.250% (81.250%)\n",
      "TRAIN: 30 [0/4038 (0%)]\tLoss: 0.949801, Accuracy: 13/16 (81.250%)\n",
      "TRAIN: LOSS-->1.2345 (0.9367)\tACC-->68.750% (68.750%)\n",
      "TRAIN: 30 [1600/4038 (40%)]\tLoss: 1.234529, Accuracy: 11/16 (68.750%)\n",
      "TRAIN: LOSS-->0.5618 (0.9353)\tACC-->81.250% (68.408%)\n",
      "TRAIN: 30 [3200/4038 (79%)]\tLoss: 0.561793, Accuracy: 13/16 (81.250%)\n",
      "VAL:   LOSS--> 0.2791 (0.2791)\tACC-->87.500 (87.500)\n",
      " * Accuracy 85.3933\n"
     ]
    },
    {
     "name": "stderr",
     "output_type": "stream",
     "text": [
      "\r",
      " 31%|████████████████████████▍                                                      | 31/100 [28:25<1:03:15, 55.00s/it]"
     ]
    },
    {
     "name": "stdout",
     "output_type": "stream",
     "text": [
      "TRAIN: LOSS-->0.7701 (0.7701)\tACC-->68.750% (68.750%)\n",
      "TRAIN: 31 [0/4038 (0%)]\tLoss: 0.770115, Accuracy: 11/16 (68.750%)\n",
      "TRAIN: LOSS-->1.3423 (0.8850)\tACC-->43.750% (70.050%)\n",
      "TRAIN: 31 [1600/4038 (40%)]\tLoss: 1.342266, Accuracy: 7/16 (43.750%)\n",
      "TRAIN: LOSS-->1.0229 (0.9274)\tACC-->75.000% (68.626%)\n",
      "TRAIN: 31 [3200/4038 (79%)]\tLoss: 1.022948, Accuracy: 12/16 (75.000%)\n",
      "VAL:   LOSS--> 0.2445 (0.2445)\tACC-->93.750 (93.750)\n",
      " * Accuracy 81.7416\n"
     ]
    },
    {
     "name": "stderr",
     "output_type": "stream",
     "text": [
      "\r",
      " 32%|█████████████████████████▎                                                     | 32/100 [29:19<1:02:19, 54.99s/it]"
     ]
    },
    {
     "name": "stdout",
     "output_type": "stream",
     "text": [
      "TRAIN: LOSS-->0.7707 (0.7707)\tACC-->75.000% (75.000%)\n",
      "TRAIN: 32 [0/4038 (0%)]\tLoss: 0.770723, Accuracy: 12/16 (75.000%)\n",
      "TRAIN: LOSS-->0.6058 (0.9226)\tACC-->81.250% (68.317%)\n",
      "TRAIN: 32 [1600/4038 (40%)]\tLoss: 0.605760, Accuracy: 13/16 (81.250%)\n",
      "TRAIN: LOSS-->0.7948 (0.8953)\tACC-->75.000% (69.403%)\n",
      "TRAIN: 32 [3200/4038 (79%)]\tLoss: 0.794781, Accuracy: 12/16 (75.000%)\n",
      "VAL:   LOSS--> 0.4138 (0.4138)\tACC-->81.250 (81.250)\n",
      " * Accuracy 82.7247\n"
     ]
    },
    {
     "name": "stderr",
     "output_type": "stream",
     "text": [
      "\r",
      " 33%|██████████████████████████                                                     | 33/100 [30:14<1:01:24, 54.99s/it]"
     ]
    },
    {
     "name": "stdout",
     "output_type": "stream",
     "text": [
      "TRAIN: LOSS-->0.9297 (0.9297)\tACC-->62.500% (62.500%)\n",
      "TRAIN: 33 [0/4038 (0%)]\tLoss: 0.929695, Accuracy: 10/16 (62.500%)\n",
      "TRAIN: LOSS-->1.0023 (0.8966)\tACC-->62.500% (69.059%)\n",
      "TRAIN: 33 [1600/4038 (40%)]\tLoss: 1.002339, Accuracy: 10/16 (62.500%)\n",
      "TRAIN: LOSS-->0.7756 (0.8810)\tACC-->68.750% (69.403%)\n",
      "TRAIN: 33 [3200/4038 (79%)]\tLoss: 0.775562, Accuracy: 11/16 (68.750%)\n",
      "VAL:   LOSS--> 0.3695 (0.3695)\tACC-->93.750 (93.750)\n",
      " * Accuracy 84.9719\n"
     ]
    },
    {
     "name": "stderr",
     "output_type": "stream",
     "text": [
      "\r",
      " 34%|██████████████████████████▊                                                    | 34/100 [31:10<1:00:30, 55.00s/it]"
     ]
    },
    {
     "name": "stdout",
     "output_type": "stream",
     "text": [
      "TRAIN: LOSS-->0.8222 (0.8222)\tACC-->68.750% (68.750%)\n",
      "TRAIN: 34 [0/4038 (0%)]\tLoss: 0.822200, Accuracy: 11/16 (68.750%)\n",
      "TRAIN: LOSS-->0.5874 (0.8827)\tACC-->81.250% (70.111%)\n",
      "TRAIN: 34 [1600/4038 (40%)]\tLoss: 0.587422, Accuracy: 13/16 (81.250%)\n",
      "TRAIN: LOSS-->1.1738 (0.8713)\tACC-->56.250% (70.771%)\n",
      "TRAIN: 34 [3200/4038 (79%)]\tLoss: 1.173847, Accuracy: 9/16 (56.250%)\n",
      "VAL:   LOSS--> 0.4085 (0.4085)\tACC-->81.250 (81.250)\n",
      " * Accuracy 87.6404\n"
     ]
    },
    {
     "name": "stderr",
     "output_type": "stream",
     "text": [
      "\r",
      " 35%|████████████████████████████▎                                                    | 35/100 [32:05<59:36, 55.02s/it]"
     ]
    },
    {
     "name": "stdout",
     "output_type": "stream",
     "text": [
      "TRAIN: LOSS-->0.9196 (0.9196)\tACC-->68.750% (68.750%)\n",
      "TRAIN: 35 [0/4038 (0%)]\tLoss: 0.919577, Accuracy: 11/16 (68.750%)\n"
     ]
    }
   ],
   "source": [
    "sample_submission = pd.read_csv(data_dir + 'sample_submission.csv')\n",
    "sample_submission.columns = ['file', 'species']\n",
    "# sample_submission['category_id'] = 0\n",
    "sample_submission.head(3)\n",
    "\n",
    "if __name__ == '__main__':    \n",
    "    print (\"MODEL: {}\".format( str(type(model).__name__)))\n",
    "    for epoch in tqdm(range(0, 100)):        \n",
    "        train(t_loader, model, epoch, optimizer)\n",
    "        val_loss, val_accuracy= validate(v_loader, model, epoch)\n",
    "        if float(val_accuracy) > float(90.0):            \n",
    "            print (\"EARLY STOP\")\n",
    "            df_pred=testModel(test_data_dir,model)\n",
    "            df_pred.to_csv(str(type(model).__name__) + '_' + str(val_accuracy) + '_' + \n",
    "                           str(epoch) + \"_sub.csv\", columns=('file', 'species'), index=None)         \n",
    "    "
   ]
  },
  {
   "cell_type": "markdown",
   "metadata": {},
   "source": [
    "# Example submission on the Kaggle seedlings DB"
   ]
  },
  {
   "cell_type": "code",
   "execution_count": 11,
   "metadata": {
    "collapsed": true
   },
   "outputs": [],
   "source": [
    "torch.save(model.state_dict(), str(type(model).__name__) + '_' + str(val_accuracy) + '_.pth')"
   ]
  },
  {
   "cell_type": "markdown",
   "metadata": {},
   "source": [
    "In this step, participants will be asked to provide the following classification rates:\n",
    "\n",
    "-- TP (True Positive, which is the number of OP people correctly identified),\n",
    "\n",
    "-- FP (False Positive, which is the number of CT people incorrectly identified),\n",
    "\n",
    "-- TN (True Negative, which is the number of CT people correctly identified),\n",
    "\n",
    "-- FN (False Negative, which is the number of OP people incorrectly identified),\n",
    "\n",
    "-- Sn (True positive rate or sensitivity) as Sn = TP/(TP + FN),\n",
    "\n",
    "-- Sp (Specificity or True Negative Rate) as Sp = TN/(FP + TN)."
   ]
  },
  {
   "cell_type": "code",
   "execution_count": null,
   "metadata": {
    "collapsed": true
   },
   "outputs": [],
   "source": []
  }
 ],
 "metadata": {
  "kernelspec": {
   "display_name": "Python 3",
   "language": "python",
   "name": "python3"
  },
  "language_info": {
   "codemirror_mode": {
    "name": "ipython",
    "version": 3
   },
   "file_extension": ".py",
   "mimetype": "text/x-python",
   "name": "python",
   "nbconvert_exporter": "python",
   "pygments_lexer": "ipython3",
   "version": "3.6.2"
  }
 },
 "nbformat": 4,
 "nbformat_minor": 1
}
