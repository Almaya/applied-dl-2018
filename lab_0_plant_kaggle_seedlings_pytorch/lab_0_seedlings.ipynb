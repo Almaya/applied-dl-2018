{
 "cells": [
  {
   "cell_type": "markdown",
   "metadata": {},
   "source": [
    "# Tel-Aviv Deep Learning Boot-camp: 12 Applied Deep Learning Labs\n",
    "\n",
    "## Lab 0: Plant Seedlings Classification (PyTorch): The most basic lab :)  \n",
    "\n",
    "<img src=\"../assets/seedlings.png\" align=\"center\">\n",
    "\n",
    "### Instructors:\n",
    "\n",
    "- Shlomo Kashani: shlomo@bayesian.io ,\n",
    "- Nathaniel Shimoni nathaniel.shimoni@grid4c.com \n",
    "\n",
    "<img src=\"../assets/pt.jpg\" width=\"35%\" align=\"center\">\n",
    "\n",
    "### Links:\n",
    "\n",
    "- https://www.meetup.com/Tel-Aviv-Deep-Learning-Bootcamp/ \n",
    "- Git: https://github.com/bayesianio/applied-dl-2018\n",
    "- Full info: https://www.evernote.com/shard/s341/sh/3855640e-2b0b-42e5-b5b9-00216d02ac9a/b47968226e49a81ee813901cd41d3924\n",
    "\n",
    "### Date and Location: \n",
    "- July 2018\n",
    "\n",
    "\n",
    "### Requirements:\n",
    "- Python 3.5, CUDA 9, cuDNN 7, PyTorch 2.0 or above, Keras 2 or above\n",
    "\n",
    "#### For Windows 10 and Windows Server 2016, CUDA 9\n",
    "`conda install -c peterjc123 pytorch cuda90`\n",
    "\n",
    "\n",
    "### Data\n",
    "- Download: https://www.kaggle.com/c/plant-seedlings-classification\n",
    "\n",
    "- Please make sure you have already set up a Pytorch tree structure of your dataset:\n",
    "- `data_dir= '/home/data/bone/train/' `\n",
    "\n",
    "```\n",
    "    data_dir= '/home/data/bone/train/\n",
    "    \n",
    "    ├── valid\n",
    "    │   └── Type_1\n",
    "        ├── Type_2\n",
    "        └── Type_3\n",
    "    └── train\n",
    "        ├── Type_1\n",
    "        ├── Type_2\n",
    "        └── Type_3\n",
    "```\n",
    "\n",
    "### PyTorch Datasets\n",
    "\n",
    "To create a dataset, we subclass Dataset and define a constructor, a `__len__` method, and a `__getitem__` method. \n",
    "Here is full example:\n",
    "\n",
    "```python\n",
    "class BoneDataset(Dataset):\n",
    "    def __init__(self, labels, root_dir, subset=False, transform=None):\n",
    "        self.labels = labels\n",
    "        self.root_dir = root_dir\n",
    "        self.transform = transform\n",
    "    \n",
    "    def __len__(self):\n",
    "        return len(self.labels)\n",
    "    \n",
    "    def __getitem__(self, idx):\n",
    "        img_name = self.labels.iloc[idx, 0] # file name\n",
    "        fullname = join(self.root_dir, img_name)\n",
    "        image = Image.open(fullname).convert('RGB')\n",
    "        labels = self.labels.iloc[idx, 2] # category_id\n",
    "        if self.transform:\n",
    "            image = self.transform(image)\n",
    "        return image, labels\n",
    "```\n",
    "\n",
    "### The PyTorch DataLoader Class¶\n",
    "- Will load our BoneDataset\n",
    "- Can be regarded as a list (or iterator, technically).\n",
    "- Each time it is invoked will provide a minibatch of (img, label) pairs.\n",
    "\n",
    "\n",
    "### Training with TensorBoard\n",
    "\n",
    "With the aid of [Crayon](https://github.com/torrvision/crayon),\n",
    "we can access the visualisation power of TensorBoard for any \n",
    "deep learning framework.\n",
    "\n",
    "To use the TensorBoard, install Crayon (https://github.com/torrvision/crayon)\n",
    "and set `use_tensorboard = True`"
   ]
  },
  {
   "cell_type": "code",
   "execution_count": 11,
   "metadata": {
    "_cell_guid": "42dcf0c0-28f0-4386-9ee3-367f3606aa30",
    "_uuid": "33595673f3f93faf28ed0ac10f0a7c0e59a9c0ad"
   },
   "outputs": [
    {
     "name": "stdout",
     "output_type": "stream",
     "text": [
      "__Python VERSION: 3.6.2 |Anaconda custom (64-bit)| (default, Sep 19 2017, 08:03:39) [MSC v.1900 64 bit (AMD64)]\n",
      "__pyTorch VERSION: 0.2.1+a4fc05a\n",
      "__CUDA VERSION\n",
      "nvcc: NVIDIA (R) Cuda compiler driver\n",
      "Copyright (c) 2005-2017 NVIDIA Corporation\n",
      "Built on Fri_Sep__1_21:08:32_Central_Daylight_Time_2017\n",
      "Cuda compilation tools, release 9.0, V9.0.176\n",
      "__CUDNN VERSION: None\n",
      "__Number CUDA Devices: 1\n",
      "__Devices\n",
      "Active CUDA Device: GPU 0\n",
      "Available devices  1\n",
      "Current cuda device  0\n",
      "USE CUDA=True\n"
     ]
    }
   ],
   "source": [
    "%reset -f \n",
    "%matplotlib inline\n",
    "import matplotlib.pyplot as plt\n",
    "import time\n",
    "from shutil import copyfile\n",
    "from os.path import isfile, join, abspath, exists, isdir, expanduser\n",
    "from os import listdir, makedirs, getcwd, remove\n",
    "from PIL import Image\n",
    "from mpl_toolkits.axes_grid1 import ImageGrid\n",
    "import pandas as pd\n",
    "import numpy as np\n",
    "import torch\n",
    "from torch.optim import lr_scheduler\n",
    "from torch.autograd import Variable\n",
    "from torch.utils.data import Dataset, DataLoader\n",
    "import torch.nn.functional as func\n",
    "import torchvision\n",
    "from torchvision import transforms, datasets, models\n",
    "import random \n",
    "\n",
    "\n",
    "import sys\n",
    "print('__Python VERSION:', sys.version)\n",
    "print('__pyTorch VERSION:', torch.__version__)\n",
    "print('__CUDA VERSION')\n",
    "from subprocess import call\n",
    "# call([\"nvcc\", \"--version\"]) does not work\n",
    "! nvcc --version\n",
    "print('__CUDNN VERSION:', torch.backends.cudnn.version())\n",
    "print('__Number CUDA Devices:', torch.cuda.device_count())\n",
    "print('__Devices')\n",
    "# call([\"nvidia-smi\", \"--format=csv\", \"--query-gpu=index,name,driver_version,memory.total,memory.used,memory.free\"])\n",
    "print('Active CUDA Device: GPU', torch.cuda.current_device())\n",
    "\n",
    "print ('Available devices ', torch.cuda.device_count())\n",
    "print ('Current cuda device ', torch.cuda.current_device())\n",
    "\n",
    "use_cuda = torch.cuda.is_available()\n",
    "# use_cuda = False\n",
    "\n",
    "print(\"USE CUDA=\" + str (use_cuda))\n",
    "FloatTensor = torch.cuda.FloatTensor if use_cuda else torch.FloatTensor\n",
    "LongTensor = torch.cuda.LongTensor if use_cuda else torch.LongTensor\n",
    "Tensor = FloatTensor\n",
    "\n",
    "manualSeed = None\n",
    "def fixSeed(seed):\n",
    "    random.seed(seed)\n",
    "    np.random.seed(seed)\n",
    "    torch.manual_seed(seed)\n",
    "    if use_cuda:\n",
    "        torch.cuda.manual_seed(seed)\n",
    "        torch.cuda.manual_seed_all(seed)\n",
    "\n",
    "\n",
    "if manualSeed is None:\n",
    "        manualSeed = 999\n",
    "fixSeed(manualSeed)\n",
    "\n"
   ]
  },
  {
   "cell_type": "markdown",
   "metadata": {
    "_cell_guid": "579bc4ea-49c2-4413-a4bf-57472a155db4",
    "_uuid": "ab87c9fc87053c27d96e4765be8a942e91bf79bd"
   },
   "source": [
    "### Define Custom Dataset"
   ]
  },
  {
   "cell_type": "code",
   "execution_count": 12,
   "metadata": {
    "_cell_guid": "796ac7f9-d66a-4856-acba-b1be8f4960b6",
    "_uuid": "e32251e2e44d9bf3b14af6153643b36110cb17ef"
   },
   "outputs": [
    {
     "data": {
      "text/html": [
       "<div>\n",
       "<style scoped>\n",
       "    .dataframe tbody tr th:only-of-type {\n",
       "        vertical-align: middle;\n",
       "    }\n",
       "\n",
       "    .dataframe tbody tr th {\n",
       "        vertical-align: top;\n",
       "    }\n",
       "\n",
       "    .dataframe thead th {\n",
       "        text-align: right;\n",
       "    }\n",
       "</style>\n",
       "<table border=\"1\" class=\"dataframe\">\n",
       "  <thead>\n",
       "    <tr style=\"text-align: right;\">\n",
       "      <th></th>\n",
       "      <th>file</th>\n",
       "      <th>category</th>\n",
       "      <th>category_id</th>\n",
       "    </tr>\n",
       "  </thead>\n",
       "  <tbody>\n",
       "    <tr>\n",
       "      <th>0</th>\n",
       "      <td>Black-grass/0050f38b3.png</td>\n",
       "      <td>Black-grass</td>\n",
       "      <td>0</td>\n",
       "    </tr>\n",
       "    <tr>\n",
       "      <th>1</th>\n",
       "      <td>Black-grass/0183fdf68.png</td>\n",
       "      <td>Black-grass</td>\n",
       "      <td>0</td>\n",
       "    </tr>\n",
       "    <tr>\n",
       "      <th>2</th>\n",
       "      <td>Black-grass/0260cffa8.png</td>\n",
       "      <td>Black-grass</td>\n",
       "      <td>0</td>\n",
       "    </tr>\n",
       "    <tr>\n",
       "      <th>3</th>\n",
       "      <td>Black-grass/05eedce4d.png</td>\n",
       "      <td>Black-grass</td>\n",
       "      <td>0</td>\n",
       "    </tr>\n",
       "    <tr>\n",
       "      <th>4</th>\n",
       "      <td>Black-grass/075d004bc.png</td>\n",
       "      <td>Black-grass</td>\n",
       "      <td>0</td>\n",
       "    </tr>\n",
       "  </tbody>\n",
       "</table>\n",
       "</div>"
      ],
      "text/plain": [
       "                        file     category  category_id\n",
       "0  Black-grass/0050f38b3.png  Black-grass            0\n",
       "1  Black-grass/0183fdf68.png  Black-grass            0\n",
       "2  Black-grass/0260cffa8.png  Black-grass            0\n",
       "3  Black-grass/05eedce4d.png  Black-grass            0\n",
       "4  Black-grass/075d004bc.png  Black-grass            0"
      ]
     },
     "execution_count": 12,
     "metadata": {},
     "output_type": "execute_result"
    }
   ],
   "source": [
    "class BoneDataset(Dataset):\n",
    "    def __init__(self, labels, root_dir, subset=False, transform=None):\n",
    "        self.labels = labels\n",
    "        self.root_dir = root_dir\n",
    "        self.transform = transform\n",
    "    \n",
    "    def __len__(self):\n",
    "        return len(self.labels)\n",
    "    \n",
    "    def __getitem__(self, idx):\n",
    "        img_name = self.labels.iloc[idx, 0] # file name\n",
    "        fullname = join(self.root_dir, img_name)\n",
    "        image = Image.open(fullname).convert('RGB')\n",
    "        labels = self.labels.iloc[idx, 2] # category_id\n",
    "#         print (labels)\n",
    "        if self.transform:\n",
    "            image = self.transform(image)\n",
    "        return image, labels\n",
    "    \n",
    "\n",
    "import os\n",
    "\n",
    "\n",
    "data_dir= 'd:/db/data/bone/train/'\n",
    "data_dir= 'd:/db/data/cat-dog/train/'\n",
    "data_dir= 'd:/db/data/seedings/train/'\n",
    "\n",
    "def find_classes(fullDir):\n",
    "    classes = [d for d in os.listdir(fullDir) if os.path.isdir(os.path.join(fullDir, d))]\n",
    "    classes.sort()\n",
    "    class_to_idx = {classes[i]: i for i in range(len(classes))}\n",
    "    num_to_class = dict(zip(range(len(classes)), classes))\n",
    "    \n",
    "    train = []\n",
    "    for index, label in enumerate(classes):\n",
    "        path = fullDir + label + '/'\n",
    "        for file in listdir(path):\n",
    "            train.append(['{}/{}'.format(label, file), label, index])\n",
    "    \n",
    "    df = pd.DataFrame(train, columns=['file', 'category', 'category_id',]) \n",
    "\n",
    "    return classes, class_to_idx, num_to_class, df\n",
    "\n",
    "classes, class_to_idx, num_to_class, df =find_classes (data_dir )\n",
    "\n",
    "\n",
    "# class_to_idx\n",
    "# num_to_class\n",
    "df.head(5)    "
   ]
  },
  {
   "cell_type": "code",
   "execution_count": 13,
   "metadata": {},
   "outputs": [
    {
     "data": {
      "text/plain": [
       "12"
      ]
     },
     "execution_count": 13,
     "metadata": {},
     "output_type": "execute_result"
    }
   ],
   "source": [
    "len(classes)"
   ]
  },
  {
   "cell_type": "markdown",
   "metadata": {},
   "source": [
    "# Augmentation \n",
    "- Many of the code snippts here were adapted from various github repos.\n",
    "- If you dont need augementation, just skip this part."
   ]
  },
  {
   "cell_type": "code",
   "execution_count": 14,
   "metadata": {
    "collapsed": true
   },
   "outputs": [],
   "source": [
    "from __future__ import absolute_import\n",
    "\n",
    "from torchvision.transforms import *\n",
    "\n",
    "from PIL import Image, ImageDraw\n",
    "import numpy as np\n",
    "import torch\n",
    "\n",
    "import torchvision\n",
    "import random\n",
    "from PIL import Image, ImageOps\n",
    "import numpy as np\n",
    "import numbers\n",
    "import math\n",
    "import torch\n",
    "import torch\n",
    "import random\n",
    "import PIL.ImageEnhance as ie\n",
    "import PIL.Image as im\n",
    "\n",
    "# adapted from https://github.com/kuangliu/pytorch-retinanet/blob/master/transform.py\n",
    "# https://github.com/mratsim/Amazon-Forest-Computer-Vision/blob/master/src/p_data_augmentation.py\n",
    "\n",
    "normalize_img = torchvision.transforms.Normalize(mean=[0.485, 0.456, 0.406],\n",
    "                                     std=[0.229, 0.224, 0.225])\n",
    "\n",
    "def draw(img, boxes):\n",
    "    draw = ImageDraw.Draw(img)\n",
    "    for box in boxes:\n",
    "        draw.rectangle(list(box), outline='red')\n",
    "    img.show()\n",
    "\n",
    "\n",
    "class Stack(object):\n",
    "\n",
    "    def __init__(self, roll=False):\n",
    "        self.roll = roll\n",
    "\n",
    "    def __call__(self, img_group):\n",
    "        if img_group[0].mode == 'L':\n",
    "            return np.concatenate([np.expand_dims(x, 2) for x in img_group], axis=2)\n",
    "        elif img_group[0].mode == 'RGB':\n",
    "            if self.roll:\n",
    "                return np.concatenate([np.array(x)[:, :, ::-1] for x in img_group], axis=2)\n",
    "            else:\n",
    "                return np.concatenate(img_group, axis=2)\n",
    "\n",
    "\n",
    "class ToTorchFormatTensor(object):\n",
    "    \"\"\" Converts a PIL.Image (RGB) or numpy.ndarray (H x W x C) in the range [0, 255]\n",
    "    to a torch.FloatTensor of shape (C x H x W) in the range [0.0, 1.0] \"\"\"\n",
    "    def __init__(self, div=True):\n",
    "        self.div = div\n",
    "\n",
    "    def __call__(self, pic):\n",
    "        if isinstance(pic, np.ndarray):\n",
    "            # handle numpy array\n",
    "            img = torch.from_numpy(pic).permute(2, 0, 1).contiguous()\n",
    "        else:\n",
    "            # handle PIL Image\n",
    "            img = torch.ByteTensor(torch.ByteStorage.from_buffer(pic.tobytes()))\n",
    "            img = img.view(pic.size[1], pic.size[0], len(pic.mode))\n",
    "            # put it from HWC to CHW format\n",
    "            # yikes, this transpose takes 80% of the loading time/CPU\n",
    "            img = img.transpose(0, 1).transpose(0, 2).contiguous()\n",
    "        return img.float().div(255) if self.div else img.float()\n",
    "\n",
    "\n",
    "class IdentityTransform(object):\n",
    "\n",
    "    def __call__(self, data):\n",
    "        return data\n",
    "\n",
    "class RandomErasing(object):\n",
    "    def __init__(self, EPSILON = 0.5, sl = 0.02, sh = 0.4, r1 = 0.3, mean=[0.4914, 0.4822, 0.4465]):\n",
    "        self.EPSILON = EPSILON\n",
    "        self.mean = mean\n",
    "        self.sl = sl\n",
    "        self.sh = sh\n",
    "        self.r1 = r1\n",
    "       \n",
    "    def __call__(self, img):\n",
    "\n",
    "        if random.uniform(0, 1) > self.EPSILON:\n",
    "            return img\n",
    "\n",
    "        for attempt in range(100):\n",
    "            area = img.size()[1] * img.size()[2]\n",
    "       \n",
    "            target_area = random.uniform(self.sl, self.sh) * area\n",
    "            aspect_ratio = random.uniform(self.r1, 1/self.r1)\n",
    "\n",
    "            h = int(round(math.sqrt(target_area * aspect_ratio)))\n",
    "            w = int(round(math.sqrt(target_area / aspect_ratio)))\n",
    "\n",
    "            if w <= img.size()[2] and h <= img.size()[1]:\n",
    "                x1 = random.randint(0, img.size()[1] - h)\n",
    "                y1 = random.randint(0, img.size()[2] - w)\n",
    "                if img.size()[0] == 3:\n",
    "                    #img[0, x1:x1+h, y1:y1+w] = random.uniform(0, 1)\n",
    "                    #img[1, x1:x1+h, y1:y1+w] = random.uniform(0, 1)\n",
    "                    #img[2, x1:x1+h, y1:y1+w] = random.uniform(0, 1)\n",
    "                    img[0, x1:x1+h, y1:y1+w] = self.mean[0]\n",
    "                    img[1, x1:x1+h, y1:y1+w] = self.mean[1]\n",
    "                    img[2, x1:x1+h, y1:y1+w] = self.mean[2]\n",
    "                    #img[:, x1:x1+h, y1:y1+w] = torch.from_numpy(np.random.rand(3, h, w))\n",
    "                else:\n",
    "                    img[0, x1:x1+h, y1:y1+w] = self.mean[1]\n",
    "                    # img[0, x1:x1+h, y1:y1+w] = torch.from_numpy(np.random.rand(1, h, w))\n",
    "                return img\n",
    "\n",
    "        return img\n",
    "\n",
    "def random_crop(img, boxes):\n",
    "    '''Crop the given PIL image to a random size and aspect ratio.\n",
    "    A crop of random size of (0.08 to 1.0) of the original size and a random\n",
    "    aspect ratio of 3/4 to 4/3 of the original aspect ratio is made.\n",
    "    Args:\n",
    "      img: (PIL.Image) image to be cropped.\n",
    "      boxes: (tensor) object boxes, sized [#ojb,4].\n",
    "    Returns:\n",
    "      img: (PIL.Image) randomly cropped image.\n",
    "      boxes: (tensor) randomly cropped boxes.\n",
    "    '''\n",
    "    success = False\n",
    "    for attempt in range(10):\n",
    "        area = img.size[0] * img.size[1]\n",
    "        target_area = random.uniform(0.56, 1.0) * area\n",
    "        aspect_ratio = random.uniform(3. / 4, 4. / 3)\n",
    "\n",
    "        w = int(round(math.sqrt(target_area * aspect_ratio)))\n",
    "        h = int(round(math.sqrt(target_area / aspect_ratio)))\n",
    "\n",
    "        if random.random() < 0.5:\n",
    "            w, h = h, w\n",
    "\n",
    "        if w <= img.size[0] and h <= img.size[1]:\n",
    "            x = random.randint(0, img.size[0] - w)\n",
    "            y = random.randint(0, img.size[1] - h)\n",
    "            success = True\n",
    "            break\n",
    "\n",
    "    # Fallback\n",
    "    if not success:\n",
    "        w = h = min(img.size[0], img.size[1])\n",
    "        x = (img.size[0] - w) // 2\n",
    "        y = (img.size[1] - h) // 2\n",
    "\n",
    "    img = img.crop((x, y, x+w, y+h))\n",
    "    boxes -= torch.Tensor([x,y,x,y])\n",
    "    boxes[:,0::2].clamp_(min=0, max=w-1)\n",
    "    boxes[:,1::2].clamp_(min=0, max=h-1)\n",
    "    return img, boxes\n",
    "\n",
    "\n",
    "class Lighting(object):\n",
    "    \"\"\"Lighting noise(AlexNet - style PCA - based noise)\"\"\"\n",
    "\n",
    "    def __init__(self, alphastd, eigval, eigvec):\n",
    "        self.alphastd = alphastd\n",
    "        self.eigval = eigval\n",
    "        self.eigvec = eigvec\n",
    "\n",
    "    def __call__(self, img):\n",
    "        if self.alphastd == 0:\n",
    "            return img\n",
    "\n",
    "        alpha = img.new().resize_(3).normal_(0, self.alphastd)\n",
    "        rgb = self.eigvec.type_as(img).clone() \\\n",
    "            .mul(alpha.view(1, 3).expand(3, 3)) \\\n",
    "            .mul(self.eigval.view(1, 3).expand(3, 3)) \\\n",
    "            .sum(1).squeeze()\n",
    "\n",
    "        return img.add(rgb.view(3, 1, 1).expand_as(img))\n",
    "\n",
    "\n",
    "class Grayscale(object):\n",
    "    def __call__(self, img):\n",
    "        gs = img.clone()\n",
    "        gs[0].mul_(0.299).add_(0.587, gs[1]).add_(0.114, gs[2])\n",
    "        gs[1].copy_(gs[0])\n",
    "        gs[2].copy_(gs[0])\n",
    "        return gs\n",
    "\n",
    "\n",
    "class Saturation(object):\n",
    "    def __init__(self, var):\n",
    "        self.var = var\n",
    "\n",
    "    def __call__(self, img):\n",
    "        gs = Grayscale()(img)\n",
    "        alpha = random.uniform(0, self.var)\n",
    "        return img.lerp(gs, alpha)\n",
    "\n",
    "\n",
    "class Brightness(object):\n",
    "    def __init__(self, var):\n",
    "        self.var = var\n",
    "\n",
    "    def __call__(self, img):\n",
    "        gs = img.new().resize_as_(img).zero_()\n",
    "        alpha = random.uniform(0, self.var)\n",
    "        return img.lerp(gs, alpha)\n",
    "\n",
    "\n",
    "class Contrast(object):\n",
    "    def __init__(self, var):\n",
    "        self.var = var\n",
    "\n",
    "    def __call__(self, img):\n",
    "        gs = Grayscale()(img)\n",
    "        gs.fill_(gs.mean())\n",
    "        alpha = random.uniform(0, self.var)\n",
    "        return img.lerp(gs, alpha)\n",
    "\n",
    "\n",
    "class RandomOrder(object):\n",
    "    \"\"\" Composes several transforms together in random order.\n",
    "    \"\"\"\n",
    "\n",
    "    def __init__(self, transforms):\n",
    "        self.transforms = transforms\n",
    "\n",
    "    def __call__(self, img):\n",
    "        if self.transforms is None:\n",
    "            return img\n",
    "        order = torch.randperm(len(self.transforms))\n",
    "        for i in order:\n",
    "            img = self.transforms[i](img)\n",
    "        return img\n",
    "\n",
    "\n",
    "class ColorJitter(RandomOrder):\n",
    "    def __init__(self, brightness=0.4, contrast=0.4, saturation=0.4):\n",
    "        self.transforms = []\n",
    "        if brightness != 0:\n",
    "            self.transforms.append(Brightness(brightness))\n",
    "        if contrast != 0:\n",
    "            self.transforms.append(Contrast(contrast))\n",
    "        if saturation != 0:\n",
    "            self.transforms.append(Saturation(saturation))\n",
    "\n",
    "\n",
    "class RandomFlip(object):\n",
    "    \"\"\"Randomly flips the given PIL.Image with a probability of 0.25 horizontal,\n",
    "                                                                0.25 vertical,\n",
    "                                                                0.5 as is\n",
    "    \"\"\"\n",
    "\n",
    "    def __call__(self, img):\n",
    "        dispatcher = {\n",
    "            0: img,\n",
    "            1: img,\n",
    "            2: img.transpose(im.FLIP_LEFT_RIGHT),\n",
    "            3: img.transpose(im.FLIP_TOP_BOTTOM)\n",
    "        }\n",
    "\n",
    "        return dispatcher[random.randint(0, 3)]  # randint is inclusive\n",
    "\n",
    "\n",
    "class RandomRotate(object):\n",
    "    \"\"\"Randomly rotate the given PIL.Image with a probability of 1/6 90°,\n",
    "                                                                 1/6 180°,\n",
    "                                                                 1/6 270°,\n",
    "                                                                 1/2 as is\n",
    "    \"\"\"\n",
    "\n",
    "    def __call__(self, img):\n",
    "        dispatcher = {\n",
    "            0: img,\n",
    "            1: img,\n",
    "            2: img,\n",
    "            3: img.transpose(im.ROTATE_90),\n",
    "            4: img.transpose(im.ROTATE_180),\n",
    "            5: img.transpose(im.ROTATE_270)\n",
    "        }\n",
    "\n",
    "        return dispatcher[random.randint(0, 5)]  # randint is inclusive\n",
    "\n",
    "\n",
    "class PILColorBalance(object):\n",
    "    def __init__(self, var):\n",
    "        self.var = var\n",
    "\n",
    "    def __call__(self, img):\n",
    "        alpha = random.uniform(1 - self.var, 1 + self.var)\n",
    "        return ie.Color(img).enhance(alpha)\n",
    "\n",
    "\n",
    "class PILContrast(object):\n",
    "    def __init__(self, var):\n",
    "        self.var = var\n",
    "\n",
    "    def __call__(self, img):\n",
    "        alpha = random.uniform(1 - self.var, 1 + self.var)\n",
    "        return ie.Contrast(img).enhance(alpha)\n",
    "\n",
    "\n",
    "class PILBrightness(object):\n",
    "    def __init__(self, var):\n",
    "        self.var = var\n",
    "\n",
    "    def __call__(self, img):\n",
    "        alpha = random.uniform(1 - self.var, 1 + self.var)\n",
    "        return ie.Brightness(img).enhance(alpha)\n",
    "\n",
    "\n",
    "class PILSharpness(object):\n",
    "    def __init__(self, var):\n",
    "        self.var = var\n",
    "\n",
    "    def __call__(self, img):\n",
    "        alpha = random.uniform(1 - self.var, 1 + self.var)\n",
    "        return ie.Sharpness(img).enhance(alpha)\n",
    "\n",
    "\n",
    "# Check ImageEnhancer effect: https://www.youtube.com/watch?v=_7iDTpTop04\n",
    "# Not documented but all enhancements can go beyond 1.0 to 2\n",
    "# Image must be RGB\n",
    "# Use Pillow-SIMD because Pillow is too slow\n",
    "class PowerPIL(RandomOrder):\n",
    "    def __init__(self, rotate=True,\n",
    "                 flip=True,\n",
    "                 colorbalance=0.4,\n",
    "                 contrast=0.4,\n",
    "                 brightness=0.4,\n",
    "                 sharpness=0.4):\n",
    "        self.transforms = []\n",
    "        if rotate:\n",
    "            self.transforms.append(RandomRotate())\n",
    "        if flip:\n",
    "            self.transforms.append(RandomFlip())\n",
    "        if brightness != 0:\n",
    "            self.transforms.append(PILBrightness(brightness))\n",
    "        if contrast != 0:\n",
    "            self.transforms.append(PILContrast(contrast))\n",
    "        if colorbalance != 0:\n",
    "            self.transforms.append(PILColorBalance(colorbalance))\n",
    "        if sharpness != 0:\n",
    "            self.transforms.append(PILSharpness(sharpness))\n",
    "\n",
    "def default_loader(input_path):\n",
    "    input_image = (Image.open(input_path)).convert('RGB')\n",
    "    return input_image\n"
   ]
  },
  {
   "cell_type": "markdown",
   "metadata": {
    "_cell_guid": "bc8a9969-280a-4ec8-850b-25aed1ee38d6",
    "_uuid": "0163fcd2a2ea5a4e93bc87f47a96f404bcad6a83"
   },
   "source": [
    "## Setup transforms, datasets, and dataloaders\n",
    "\n",
    "- Data loaders spit out data from a dataset in batches. This is what you actually feed the neural network during training."
   ]
  },
  {
   "cell_type": "code",
   "execution_count": 24,
   "metadata": {
    "_cell_guid": "f94cb9fa-e76a-46d5-a363-8856b45c59e1",
    "_uuid": "fe82da4f8b1501203d12027200d1f8d2209f0057"
   },
   "outputs": [
    {
     "name": "stdout",
     "output_type": "stream",
     "text": [
      "{'train': 4038, 'valid': 712}\n"
     ]
    }
   ],
   "source": [
    "image_size = 224\n",
    "\n",
    "normalize_img = torchvision.transforms.Normalize(mean=[0.485, 0.456, 0.406],\n",
    "                                     std=[0.229, 0.224, 0.225])\n",
    "\n",
    "\n",
    "train_trans = transforms.Compose([\n",
    "    transforms.RandomSizedCrop(image_size),\n",
    "    PowerPIL(),\n",
    "    transforms.ToTensor(),\n",
    "#     normalize_img,\n",
    "    RandomErasing()\n",
    "])\n",
    "\n",
    "## Normalization only for validation and test\n",
    "valid_trans = transforms.Compose([\n",
    "    transforms.Scale(256),\n",
    "    transforms.CenterCrop(image_size),\n",
    "    transforms.ToTensor(),\n",
    "    normalize_img\n",
    "])\n",
    "\n",
    "batch_size = 16\n",
    "train_data = df.sample(frac=0.85)\n",
    "valid_data = df[~df['file'].isin(train_data['file'])]\n",
    "\n",
    "train_set = BoneDataset(train_data, data_dir, transform = train_trans)\n",
    "valid_set = BoneDataset(valid_data, data_dir, transform = valid_trans)\n",
    "        \n",
    "\n",
    "t_loader = DataLoader(train_set, batch_size=batch_size, shuffle=True, num_workers=0)\n",
    "v_loader = DataLoader(valid_set, batch_size=batch_size, shuffle=True, num_workers=0)\n",
    "# test_loader  = DataLoader(test_set, batch_size=batch_size, shuffle=False, num_workers=4)\n",
    "\n",
    "dataset_sizes = {\n",
    "    'train': len(t_loader.dataset), \n",
    "    'valid': len(v_loader.dataset)\n",
    "}\n",
    "\n",
    "print (dataset_sizes)"
   ]
  },
  {
   "cell_type": "markdown",
   "metadata": {},
   "source": [
    "### Test the DataLoader Class"
   ]
  },
  {
   "cell_type": "code",
   "execution_count": 27,
   "metadata": {},
   "outputs": [
    {
     "name": "stdout",
     "output_type": "stream",
     "text": [
      "i=0: \n",
      "i=1: \n",
      "i=2: \n",
      "i=3: \n"
     ]
    },
    {
     "data": {
      "image/png": "[encoded data removed]",
      "text/plain": [
       "<matplotlib.figure.Figure at 0x19947191cc0>"
      ]
     },
     "metadata": {},
     "output_type": "display_data"
    }
   ],
   "source": [
    "imagesToShow=4\n",
    "\n",
    "def flaotTensorToImage(img, mean=0, std=1):\n",
    "        \"\"\"convert a tensor to an image\"\"\"\n",
    "        img = np.transpose(img.numpy(), (1, 2, 0))\n",
    "        img = (img*std+ mean)*255\n",
    "        img = img.astype(np.uint8)    \n",
    "        return img    \n",
    "\n",
    "for i, data in enumerate(t_loader, 0):\n",
    "    print('i=%d: '%(i))            \n",
    "    images, labels = data            \n",
    "    num = len(images)\n",
    "    \n",
    "    ax = plt.subplot(1, imagesToShow, i + 1)\n",
    "    plt.tight_layout()\n",
    "    ax.set_title('Sample #{}'.format(i))\n",
    "    ax.axis('off')\n",
    "    \n",
    "    for n in range(num):\n",
    "        image=images[n]\n",
    "        label=labels[n]\n",
    "        plt.imshow (flaotTensorToImage(image))\n",
    "        \n",
    "    if i==imagesToShow-1:\n",
    "        break"
   ]
  },
  {
   "cell_type": "markdown",
   "metadata": {
    "_cell_guid": "d966c8a9-d189-4b76-8def-6180f9498154",
    "_uuid": "fde155bdd9ce81e2598146c263cedfa65eaba806"
   },
   "source": [
    "## Define the model\n",
    "- A simple CNN with great performance (95% accuracy) \n",
    "- In PyTorch, a model is defined by a subclass of nn.Module. It has two methods:\n",
    "\n",
    "`__init__:` constructor. Create layers here. Note that we don't define the connections between layers in this function.\n",
    "\n",
    "`forward(x):` forward function. Receives an input variable x. Returns a output variable. Note that we actually connect the layers here dynamically."
   ]
  },
  {
   "cell_type": "code",
   "execution_count": 6,
   "metadata": {
    "_cell_guid": "f2eb7b14-c63b-4fdf-8370-baabd48a9943",
    "_uuid": "29184efaeb75c7105b9f144550b68814c577534a"
   },
   "outputs": [
    {
     "name": "stdout",
     "output_type": "stream",
     "text": [
      "SimpleNet (\n",
      "  (avgpool): AdaptiveAvgPool2d (output_size=1)\n",
      "  (cnn1): ConvCNN (\n",
      "    (math): Sequential (\n",
      "      (0): Conv2d(3, 64, kernel_size=(7, 7), stride=(1, 1), padding=(2, 2))\n",
      "      (1): BatchNorm2d(64, eps=1e-05, momentum=0.1, affine=True)\n",
      "      (2): LeakyReLU (0.01)\n",
      "      (3): MaxPool2d (size=(4, 4), stride=(4, 4), dilation=(1, 1))\n",
      "    )\n",
      "    (avgpool): AvgPool2d (size=4, stride=4, padding=0, ceil_mode=False, count_include_pad=True)\n",
      "  )\n",
      "  (cnn2): ConvCNN (\n",
      "    (math): Sequential (\n",
      "      (0): Conv2d(64, 64, kernel_size=(5, 5), stride=(1, 1), padding=(2, 2))\n",
      "      (1): BatchNorm2d(64, eps=1e-05, momentum=0.1, affine=True)\n",
      "      (2): LeakyReLU (0.01)\n",
      "      (3): MaxPool2d (size=(2, 2), stride=(2, 2), dilation=(1, 1))\n",
      "    )\n",
      "    (avgpool): AvgPool2d (size=2, stride=2, padding=0, ceil_mode=False, count_include_pad=True)\n",
      "  )\n",
      "  (cnn3): ConvCNN (\n",
      "    (math): Sequential (\n",
      "      (0): Conv2d(64, 256, kernel_size=(5, 5), stride=(1, 1), padding=(2, 2))\n",
      "      (1): BatchNorm2d(256, eps=1e-05, momentum=0.1, affine=True)\n",
      "      (2): LeakyReLU (0.01)\n",
      "      (3): MaxPool2d (size=(2, 2), stride=(2, 2), dilation=(1, 1))\n",
      "    )\n",
      "    (avgpool): AvgPool2d (size=2, stride=2, padding=0, ceil_mode=False, count_include_pad=True)\n",
      "  )\n",
      "  (res1): ConvRes (\n",
      "    (math): Sequential (\n",
      "      (0): BatchNorm2d(256, eps=1e-05, momentum=0.1, affine=True)\n",
      "      (1): Dropout (p = 0.3)\n",
      "      (2): Conv2d(256, 64, kernel_size=(2, 2), stride=(1, 1), padding=(2, 2))\n",
      "      (3): PReLU (1)\n",
      "    )\n",
      "  )\n",
      "  (features): Sequential (\n",
      "    (0): ConvCNN (\n",
      "      (math): Sequential (\n",
      "        (0): Conv2d(3, 64, kernel_size=(7, 7), stride=(1, 1), padding=(2, 2))\n",
      "        (1): BatchNorm2d(64, eps=1e-05, momentum=0.1, affine=True)\n",
      "        (2): LeakyReLU (0.01)\n",
      "        (3): MaxPool2d (size=(4, 4), stride=(4, 4), dilation=(1, 1))\n",
      "      )\n",
      "      (avgpool): AvgPool2d (size=4, stride=4, padding=0, ceil_mode=False, count_include_pad=True)\n",
      "    )\n",
      "    (1): Dropout (p = 0.3)\n",
      "    (2): ConvCNN (\n",
      "      (math): Sequential (\n",
      "        (0): Conv2d(64, 64, kernel_size=(5, 5), stride=(1, 1), padding=(2, 2))\n",
      "        (1): BatchNorm2d(64, eps=1e-05, momentum=0.1, affine=True)\n",
      "        (2): LeakyReLU (0.01)\n",
      "        (3): MaxPool2d (size=(2, 2), stride=(2, 2), dilation=(1, 1))\n",
      "      )\n",
      "      (avgpool): AvgPool2d (size=2, stride=2, padding=0, ceil_mode=False, count_include_pad=True)\n",
      "    )\n",
      "    (3): ConvCNN (\n",
      "      (math): Sequential (\n",
      "        (0): Conv2d(64, 256, kernel_size=(5, 5), stride=(1, 1), padding=(2, 2))\n",
      "        (1): BatchNorm2d(256, eps=1e-05, momentum=0.1, affine=True)\n",
      "        (2): LeakyReLU (0.01)\n",
      "        (3): MaxPool2d (size=(2, 2), stride=(2, 2), dilation=(1, 1))\n",
      "      )\n",
      "      (avgpool): AvgPool2d (size=2, stride=2, padding=0, ceil_mode=False, count_include_pad=True)\n",
      "    )\n",
      "    (4): ConvRes (\n",
      "      (math): Sequential (\n",
      "        (0): BatchNorm2d(256, eps=1e-05, momentum=0.1, affine=True)\n",
      "        (1): Dropout (p = 0.3)\n",
      "        (2): Conv2d(256, 64, kernel_size=(2, 2), stride=(1, 1), padding=(2, 2))\n",
      "        (3): PReLU (1)\n",
      "      )\n",
      "    )\n",
      "  )\n",
      "  (classifier): Sequential (\n",
      "    (0): Linear (2304 -> 12)\n",
      "  )\n",
      ")\n"
     ]
    }
   ],
   "source": [
    "import torch\n",
    "import torch.nn as nn\n",
    "import torch.nn.functional as F\n",
    "import torch.optim as optim\n",
    "from torchvision import datasets, transforms\n",
    "from torch.autograd import Variable\n",
    "import math \n",
    "import torch\n",
    "import torch.nn as nn\n",
    "import torch.nn.functional as F\n",
    "from torch.autograd import Variable\n",
    "from collections import OrderedDict\n",
    "from torch.nn import init\n",
    "import numpy as np\n",
    "\n",
    "\n",
    "\n",
    "dropout = torch.nn.Dropout(p=0.30)\n",
    "relu=torch.nn.LeakyReLU()\n",
    "pool = nn.MaxPool2d(2, 2)\n",
    "\n",
    "class ConvRes(nn.Module):\n",
    "    def __init__(self,insize, outsize):\n",
    "        super(ConvRes, self).__init__()\n",
    "        drate = .3\n",
    "        self.math = nn.Sequential(\n",
    "                 nn.BatchNorm2d(insize),\n",
    "                 nn.Dropout(drate),\n",
    "                 torch.nn.Conv2d(insize, outsize, kernel_size=2,padding=2),\n",
    "                 nn.PReLU(),\n",
    "                )\n",
    "        \n",
    "    def forward(self, x):\n",
    "        return self.math(x) \n",
    "\n",
    "class ConvCNN(nn.Module):\n",
    "    def __init__(self,insize, outsize, kernel_size=7, padding=2, pool=2, avg=True):\n",
    "        super(ConvCNN, self).__init__()\n",
    "        self.avg=avg\n",
    "        self.math = torch.nn.Sequential(\n",
    "            torch.nn.Conv2d(insize, outsize, kernel_size=kernel_size,padding=padding),\n",
    "            torch.nn.BatchNorm2d(outsize),\n",
    "            torch.nn.LeakyReLU(),\n",
    "            torch.nn.MaxPool2d(pool,pool),\n",
    "        )\n",
    "        self.avgpool=torch.nn.AvgPool2d(pool,pool)\n",
    "        \n",
    "    def forward(self, x):\n",
    "        x=self.math(x)\n",
    "        if self.avg is True:\n",
    "            x=self.avgpool(x)\n",
    "        return x   \n",
    "        \n",
    "class SimpleNet(nn.Module):\n",
    "    def __init__(self):\n",
    "        super(SimpleNet, self).__init__()        \n",
    "        \n",
    "        self.avgpool = nn.AdaptiveAvgPool2d(1)\n",
    "        \n",
    "        self.cnn1 = ConvCNN (3,64,  kernel_size=7, pool=4, avg=False)\n",
    "        self.cnn2 = ConvCNN (64,64, kernel_size=5, pool=2, avg=True)\n",
    "        self.cnn3 = ConvCNN (64,256, kernel_size=5, pool=2, avg=True)\n",
    "        \n",
    "        self.res1 = ConvRes (256,64)\n",
    "        \n",
    "        self.features = nn.Sequential( \n",
    "            self.cnn1,dropout,          \n",
    "            self.cnn2,\n",
    "            self.cnn3,\n",
    "            self.res1,\n",
    "        )        \n",
    "        \n",
    "        self.classifier = torch.nn.Sequential(\n",
    "            nn.Linear(2304, len(classes)),             \n",
    "        )\n",
    "#         self.sig=nn.Sigmoid()        \n",
    "            \n",
    "    def forward(self, x):\n",
    "        x = self.features(x) \n",
    "        x = x.view(x.size(0), -1)        \n",
    "#         print (x.data.shape)\n",
    "        x = self.classifier(x)                \n",
    "#         x = self.sig(x)\n",
    "        return x        \n",
    "\n",
    "model = SimpleNet()\n",
    "# model = senetXX_generic(1, 3, 16)\n",
    "if use_cuda:\n",
    "    model = model.cuda()\n",
    "criterion = torch.nn.CrossEntropyLoss()\n",
    "optimizer = torch.optim.Adam(model.parameters(), lr= 0.00005 * 2 * 2)\n",
    "\n",
    "if use_cuda:\n",
    "    model = model.cuda()\n",
    "print (model)"
   ]
  },
  {
   "cell_type": "markdown",
   "metadata": {},
   "source": [
    "# Metrics and Tensorboard"
   ]
  },
  {
   "cell_type": "code",
   "execution_count": 7,
   "metadata": {
    "collapsed": true
   },
   "outputs": [],
   "source": [
    "import datetime \n",
    "try:\n",
    "    from pycrayon import CrayonClient\n",
    "except ImportError:\n",
    "    CrayonClient = None\n",
    "\n",
    "# tensorboad\n",
    "use_tensorboard = True\n",
    "# use_tensorboard = True and CrayonClient is not None\n",
    "\n",
    "if use_tensorboard == True:\n",
    "    cc = CrayonClient(hostname='http://192.168.1.2') # point to where you installed Crayon\n",
    "#     cc.remove_all_experiments()\n",
    "    \n",
    "model_name = (type(model).__name__)\n",
    "exp_name = datetime.datetime.now().strftime(model_name + '_' + 'bone' + '_%Y-%m-%d_%H-%M-%S')\n",
    "if use_tensorboard == True:\n",
    "    exp = cc.create_experiment(exp_name)    \n",
    "    \n",
    "\n",
    "class AverageMeter(object):\n",
    "    \"\"\"Computes and stores the average and current value\"\"\"\n",
    "\n",
    "    def __init__(self):\n",
    "        self.reset()\n",
    "\n",
    "    def reset(self):\n",
    "        self.val = 0\n",
    "        self.avg = 0\n",
    "        self.sum = 0\n",
    "        self.count = 0\n",
    "\n",
    "    def update(self, val, n=1):\n",
    "        self.val = val\n",
    "        self.sum += val * n\n",
    "        self.count += n\n",
    "        self.avg = self.sum / self.count\n",
    "\n",
    "def accuracy2(y_pred, y_actual, topk=(1, )):\n",
    "    \"\"\"Computes the precision@k for the specified values of k\"\"\"\n",
    "    maxk = max(topk)\n",
    "    batch_size = y_actual.size(0)\n",
    "\n",
    "    _, pred = y_pred.topk(maxk, 1, True, True)\n",
    "    pred = pred.t()\n",
    "    correct = pred.eq(y_actual.view(1, -1).expand_as(pred))\n",
    "\n",
    "    res = []\n",
    "    for k in topk:\n",
    "        correct_k = correct[:k].view(-1).float().sum(0)\n",
    "        res.append(correct_k.mul_(100.0 / batch_size))\n",
    "\n",
    "    return res\n",
    "        "
   ]
  },
  {
   "cell_type": "markdown",
   "metadata": {
    "_cell_guid": "0cd8c571-5d93-42b6-9ef0-9c16b6d43ef7",
    "_uuid": "1257d2cc10e64019a8ca94c814d4e179a45e04cd"
   },
   "source": [
    "### Training"
   ]
  },
  {
   "cell_type": "code",
   "execution_count": 8,
   "metadata": {
    "_cell_guid": "f2cd5d63-c765-476a-9258-0152d8a06360",
    "_uuid": "d5ecfa57978ed8afd52e1551f6f5688ce9e16a5c"
   },
   "outputs": [
    {
     "name": "stderr",
     "output_type": "stream",
     "text": [
      "c:\\Anaconda3\\lib\\site-packages\\sklearn\\cross_validation.py:41: DeprecationWarning: This module was deprecated in version 0.18 in favor of the model_selection module into which all the refactored classes and functions are moved. Also note that the interface of the new CV iterators are different from that of this module. This module will be removed in 0.20.\n",
      "  \"This module will be removed in 0.20.\", DeprecationWarning)\n"
     ]
    }
   ],
   "source": [
    "from tqdm import tqdm \n",
    "from sklearn import metrics\n",
    "import torch\n",
    "import numpy as np\n",
    "from sklearn import cross_validation\n",
    "from sklearn import metrics\n",
    "from sklearn.metrics import roc_auc_score, log_loss, roc_auc_score, roc_curve, auc\n",
    "\n",
    "def train(train_loader, model, epoch, optimizer):\n",
    "    if use_cuda:\n",
    "        model.cuda()\n",
    "        criterion.cuda()\n",
    "\n",
    "    batch_time = AverageMeter()\n",
    "    data_time = AverageMeter()\n",
    "    losses = AverageMeter()\n",
    "    acc = AverageMeter()\n",
    "   \n",
    "    # switch to train mode\n",
    "    model.train()\n",
    "\n",
    "    end = time.time()\n",
    "    for batch_idx, (images, target) in enumerate(train_loader): \n",
    "        correct = 0\n",
    "        # measure data loading time\n",
    "        data_time.update(time.time() - end)\n",
    "\n",
    "        if use_cuda:\n",
    "            images, target = images.cuda(), target.cuda()\n",
    "            images, target = Variable(images), Variable(target)\n",
    "        # compute y_pred\n",
    "        y_pred = model(images)\n",
    "        loss = criterion(y_pred, target)\n",
    "\n",
    "        # measure accuracy and record loss\n",
    "        prec1, prec1 = accuracy2(y_pred.data, target.data, topk=(1, 1))\n",
    "        losses.update(loss.data[0], images.size(0))\n",
    "        acc.update(prec1[0], images.size(0))\n",
    "        \n",
    "        pred = y_pred.data.max(1)[1] # get the index of the max log-probability\n",
    "        correct += pred.eq(target.data).cpu().sum()\n",
    "        accuracy = 100. * correct / len(images)\n",
    "        \n",
    "        # compute gradient and do SGD step\n",
    "        optimizer.zero_grad()\n",
    "        loss.backward()\n",
    "        optimizer.step()\n",
    "\n",
    "        # measure elapsed time\n",
    "        batch_time.update(time.time() - end)\n",
    "        end = time.time()\n",
    "\n",
    "        if batch_idx % 100  == 0:\n",
    "            print('TRAIN: LOSS-->{loss.val:.4f} ({loss.avg:.4f})\\t' 'ACC-->{acc.val:.3f}% ({acc.avg:.3f}%)'.format(loss=losses, acc=acc))\n",
    "            if use_tensorboard:\n",
    "                exp.add_scalar_value('tr_epoch_loss', losses.avg, step=epoch)\n",
    "                exp.add_scalar_value('tr_epoch_acc', acc.avg, step=epoch)\n",
    "                \n",
    "            print('TRAIN: {} [{}/{} ({:.0f}%)]\\tLoss: {:.6f}, Accuracy: {}/{} ({:.3f}%)'.format(\n",
    "                epoch, batch_idx * len(images), len(train_loader.dataset),\n",
    "                100. * batch_idx / len(train_loader), loss.data[0],\n",
    "                correct, len(images),\n",
    "                accuracy))            \n",
    "    \n",
    "\n",
    "    return float('{loss.avg:.4f}'.format(loss=losses)), float('{acc.avg:.4f}'.format(acc=acc))\n",
    "\n",
    "def validate(val_loader, model, epoch):\n",
    "    if use_cuda:\n",
    "        model.cuda()\n",
    "        criterion.cuda()\n",
    "\n",
    "    batch_time = AverageMeter()\n",
    "    losses = AverageMeter()\n",
    "    acc = AverageMeter()\n",
    "\n",
    "    # switch to evaluate mode\n",
    "    model.eval()\n",
    "\n",
    "    end = time.time()\n",
    "    for i, (images, labels) in enumerate(val_loader):\n",
    "\n",
    "        if use_cuda:\n",
    "            images, labels = images.cuda(), labels.cuda()\n",
    "            images, labels = Variable(images, volatile=True), Variable(labels)\n",
    "\n",
    "        # compute y_pred\n",
    "        y_pred = model(images)\n",
    "        loss = criterion(y_pred, labels)\n",
    "\n",
    "        # measure accuracy and record loss\n",
    "        prec1, temp_var = accuracy2(y_pred.data, labels.data, topk=(1, 1))\n",
    "        losses.update(loss.data[0], images.size(0))\n",
    "        acc.update(prec1[0], images.size(0))\n",
    "\n",
    "        # measure elapsed time\n",
    "        batch_time.update(time.time() - end)\n",
    "        end = time.time()\n",
    "\n",
    "        if i % 100== 0:\n",
    "            print('VAL:   LOSS--> {loss.val:.4f} ({loss.avg:.4f})\\t''ACC-->{acc.val:.3f} ({acc.avg:.3f})'.format(loss=losses, acc=acc))\n",
    "\n",
    "        if i % 50 == 0:\n",
    "            if use_tensorboard:\n",
    "                exp.add_scalar_value('val_epoch_loss', losses.avg, step=epoch)\n",
    "                exp.add_scalar_value('val_epoch_acc', acc.avg, step=epoch)\n",
    "\n",
    "    print(' * Accuracy {acc.avg:.4f}'.format(acc=acc))\n",
    "    return float('{loss.avg:.6f}'.format(loss=losses)), float('{acc.avg:.6f}'.format(acc=acc))\n",
    "\n",
    "test_trans = valid_trans\n",
    "test_data_dir = 'd:/db/data/seedings/test/'\n",
    "\n",
    "def testImageLoader(image_name):\n",
    "    \"\"\"load image, returns cuda tensor\"\"\"\n",
    "#     image = Image.open(image_name)\n",
    "    image = Image.open(image_name).convert('RGB')\n",
    "    image = test_trans(image)\n",
    "#     image = Variable(image, requires_grad=True)\n",
    "    image = image.unsqueeze(0)  \n",
    "    if use_cuda:\n",
    "#         print (\"cuda\")\n",
    "        image.cuda()         \n",
    "    return image  \n",
    "\n",
    "def testModel(test_dir, local_model):    \n",
    "    if use_cuda:\n",
    "        local_model.cuda()\n",
    "    \n",
    "    local_model.eval()\n",
    "    \n",
    "    columns = ['file', 'species']\n",
    "    df_pred = pd.DataFrame(data=np.zeros((0, len(columns))), columns=columns)\n",
    "#     df_pred.species.astype(int)\n",
    "    for index, row in (sample_submission.iterrows()):\n",
    "#         for file in os.listdir(test_dir):            \n",
    "        currImage=os.path.join(test_dir, row['file'])\n",
    "        if os.path.isfile(currImage):\n",
    "            X_tensor_test=testImageLoader (currImage)            \n",
    "#             print (type(X_tensor_test))\n",
    "            if use_cuda:\n",
    "                X_tensor_test = Variable(X_tensor_test.cuda()) \n",
    "            else:\n",
    "                X_tensor_test = Variable(X_tensor_test)        \n",
    "            \n",
    "            # get the index of the max log-probability\n",
    "            predicted_val = (local_model(X_tensor_test)).data.max(1)[1] # get the index of the max log-probability\n",
    "#             predicted_val = predicted_val.data.max(1, keepdim=True)[1]\n",
    "            p_test = (predicted_val.cpu().numpy().item())\n",
    "            df_pred = df_pred.append({'file': row['file'], 'species': num_to_class[int(p_test)]}, ignore_index=True)             \n",
    "    \n",
    "    return df_pred"
   ]
  },
  {
   "cell_type": "markdown",
   "metadata": {
    "_cell_guid": "7b939262-bef9-4384-9e65-1c6f19b0e7af",
    "_uuid": "c89aec6e431baa5ad878aa07c30faef161dea697"
   },
   "source": [
    "### Train the model"
   ]
  },
  {
   "cell_type": "code",
   "execution_count": 9,
   "metadata": {
    "_cell_guid": "c75d0756-757e-4cdb-b3e3-43d0ae2110eb",
    "_uuid": "56b469e006382a0c93c7ce30b7976783257762b9"
   },
   "outputs": [
    {
     "name": "stdout",
     "output_type": "stream",
     "text": [
      "MODEL: SimpleNet\n"
     ]
    },
    {
     "name": "stderr",
     "output_type": "stream",
     "text": [
      "\r",
      "  0%|                                                                                                      | 0/100 [00:00<?, ?it/s]"
     ]
    },
    {
     "name": "stdout",
     "output_type": "stream",
     "text": [
      "TRAIN: LOSS-->2.4895 (2.4895)\tACC-->6.250% (6.250%)\n",
      "TRAIN: 0 [0/4038 (0%)]\tLoss: 2.489500, Accuracy: 1/16 (6.250%)\n",
      "TRAIN: LOSS-->2.4510 (2.2614)\tACC-->6.250% (23.267%)\n",
      "TRAIN: 0 [1600/4038 (40%)]\tLoss: 2.451027, Accuracy: 1/16 (6.250%)\n",
      "TRAIN: LOSS-->2.2205 (2.1660)\tACC-->25.000% (26.244%)\n",
      "TRAIN: 0 [3200/4038 (79%)]\tLoss: 2.220458, Accuracy: 4/16 (25.000%)\n",
      "VAL:   LOSS--> 1.6092 (1.6092)\tACC-->56.250 (56.250)\n",
      " * Accuracy 49.438\n"
     ]
    },
    {
     "name": "stderr",
     "output_type": "stream",
     "text": [
      "\r",
      "  1%|▉                                                                                           | 1/100 [00:56<1:33:41, 56.79s/it]"
     ]
    },
    {
     "name": "stdout",
     "output_type": "stream",
     "text": [
      "TRAIN: LOSS-->1.9055 (1.9055)\tACC-->31.250% (31.250%)\n",
      "TRAIN: 1 [0/4038 (0%)]\tLoss: 1.905538, Accuracy: 5/16 (31.250%)\n",
      "TRAIN: LOSS-->1.5526 (1.9118)\tACC-->62.500% (35.272%)\n",
      "TRAIN: 1 [1600/4038 (40%)]\tLoss: 1.552574, Accuracy: 10/16 (62.500%)\n",
      "TRAIN: LOSS-->1.6025 (1.8652)\tACC-->43.750% (37.096%)\n",
      "TRAIN: 1 [3200/4038 (79%)]\tLoss: 1.602499, Accuracy: 7/16 (43.750%)\n",
      "VAL:   LOSS--> 1.7430 (1.7430)\tACC-->31.250 (31.250)\n",
      " * Accuracy 42.275\n"
     ]
    },
    {
     "name": "stderr",
     "output_type": "stream",
     "text": [
      "\r",
      "  2%|█▊                                                                                          | 2/100 [01:53<1:32:18, 56.51s/it]"
     ]
    },
    {
     "name": "stdout",
     "output_type": "stream",
     "text": [
      "TRAIN: LOSS-->1.3774 (1.3774)\tACC-->50.000% (50.000%)\n",
      "TRAIN: 2 [0/4038 (0%)]\tLoss: 1.377430, Accuracy: 8/16 (50.000%)\n",
      "TRAIN: LOSS-->2.0686 (1.7724)\tACC-->31.250% (38.738%)\n",
      "TRAIN: 2 [1600/4038 (40%)]\tLoss: 2.068565, Accuracy: 5/16 (31.250%)\n",
      "TRAIN: LOSS-->1.3171 (1.7642)\tACC-->50.000% (39.272%)\n",
      "TRAIN: 2 [3200/4038 (79%)]\tLoss: 1.317117, Accuracy: 8/16 (50.000%)\n",
      "VAL:   LOSS--> 1.1959 (1.1959)\tACC-->75.000 (75.000)\n",
      " * Accuracy 51.124\n"
     ]
    },
    {
     "name": "stderr",
     "output_type": "stream",
     "text": [
      "\r",
      "  3%|██▊                                                                                         | 3/100 [02:48<1:30:50, 56.19s/it]"
     ]
    },
    {
     "name": "stdout",
     "output_type": "stream",
     "text": [
      "TRAIN: LOSS-->2.2369 (2.2369)\tACC-->37.500% (37.500%)\n",
      "TRAIN: 3 [0/4038 (0%)]\tLoss: 2.236871, Accuracy: 6/16 (37.500%)\n",
      "TRAIN: LOSS-->1.1125 (1.6900)\tACC-->56.250% (43.069%)\n",
      "TRAIN: 3 [1600/4038 (40%)]\tLoss: 1.112480, Accuracy: 9/16 (56.250%)\n",
      "TRAIN: LOSS-->1.8811 (1.6831)\tACC-->31.250% (42.786%)\n",
      "TRAIN: 3 [3200/4038 (79%)]\tLoss: 1.881090, Accuracy: 5/16 (31.250%)\n",
      "VAL:   LOSS--> 1.3255 (1.3255)\tACC-->56.250 (56.250)\n",
      " * Accuracy 53.090\n"
     ]
    },
    {
     "name": "stderr",
     "output_type": "stream",
     "text": [
      "\r",
      "  4%|███▋                                                                                        | 4/100 [03:43<1:29:33, 55.97s/it]"
     ]
    },
    {
     "name": "stdout",
     "output_type": "stream",
     "text": [
      "TRAIN: LOSS-->1.5031 (1.5031)\tACC-->43.750% (43.750%)\n",
      "TRAIN: 4 [0/4038 (0%)]\tLoss: 1.503101, Accuracy: 7/16 (43.750%)\n",
      "TRAIN: LOSS-->1.6074 (1.6599)\tACC-->43.750% (44.431%)\n",
      "TRAIN: 4 [1600/4038 (40%)]\tLoss: 1.607436, Accuracy: 7/16 (43.750%)\n",
      "TRAIN: LOSS-->1.3741 (1.6418)\tACC-->62.500% (44.869%)\n",
      "TRAIN: 4 [3200/4038 (79%)]\tLoss: 1.374050, Accuracy: 10/16 (62.500%)\n",
      "VAL:   LOSS--> 0.9969 (0.9969)\tACC-->68.750 (68.750)\n",
      " * Accuracy 65.871\n"
     ]
    },
    {
     "name": "stderr",
     "output_type": "stream",
     "text": [
      "\r",
      "  5%|████▌                                                                                       | 5/100 [04:39<1:28:26, 55.86s/it]"
     ]
    },
    {
     "name": "stdout",
     "output_type": "stream",
     "text": [
      "TRAIN: LOSS-->1.4814 (1.4814)\tACC-->43.750% (43.750%)\n",
      "TRAIN: 5 [0/4038 (0%)]\tLoss: 1.481438, Accuracy: 7/16 (43.750%)\n",
      "TRAIN: LOSS-->1.6412 (1.5832)\tACC-->50.000% (45.854%)\n",
      "TRAIN: 5 [1600/4038 (40%)]\tLoss: 1.641160, Accuracy: 8/16 (50.000%)\n",
      "TRAIN: LOSS-->1.4310 (1.5554)\tACC-->50.000% (47.046%)\n",
      "TRAIN: 5 [3200/4038 (79%)]\tLoss: 1.431048, Accuracy: 8/16 (50.000%)\n",
      "VAL:   LOSS--> 1.1268 (1.1268)\tACC-->75.000 (75.000)\n",
      " * Accuracy 63.062\n"
     ]
    },
    {
     "name": "stderr",
     "output_type": "stream",
     "text": [
      "\r",
      "  6%|█████▌                                                                                      | 6/100 [05:34<1:27:22, 55.78s/it]"
     ]
    },
    {
     "name": "stdout",
     "output_type": "stream",
     "text": [
      "TRAIN: LOSS-->2.0029 (2.0029)\tACC-->56.250% (56.250%)\n",
      "TRAIN: 6 [0/4038 (0%)]\tLoss: 2.002888, Accuracy: 9/16 (56.250%)\n",
      "TRAIN: LOSS-->1.9933 (1.5809)\tACC-->43.750% (46.658%)\n",
      "TRAIN: 6 [1600/4038 (40%)]\tLoss: 1.993254, Accuracy: 7/16 (43.750%)\n",
      "TRAIN: LOSS-->1.8942 (1.5553)\tACC-->37.500% (47.077%)\n",
      "TRAIN: 6 [3200/4038 (79%)]\tLoss: 1.894210, Accuracy: 6/16 (37.500%)\n",
      "VAL:   LOSS--> 1.0522 (1.0522)\tACC-->56.250 (56.250)\n",
      " * Accuracy 62.079\n"
     ]
    },
    {
     "name": "stderr",
     "output_type": "stream",
     "text": [
      "\r",
      "  7%|██████▍                                                                                     | 7/100 [06:30<1:26:22, 55.72s/it]"
     ]
    },
    {
     "name": "stdout",
     "output_type": "stream",
     "text": [
      "TRAIN: LOSS-->1.3272 (1.3272)\tACC-->50.000% (50.000%)\n",
      "TRAIN: 7 [0/4038 (0%)]\tLoss: 1.327225, Accuracy: 8/16 (50.000%)\n",
      "TRAIN: LOSS-->1.3794 (1.4818)\tACC-->62.500% (51.795%)\n",
      "TRAIN: 7 [1600/4038 (40%)]\tLoss: 1.379379, Accuracy: 10/16 (62.500%)\n",
      "TRAIN: LOSS-->1.5949 (1.5067)\tACC-->43.750% (50.062%)\n",
      "TRAIN: 7 [3200/4038 (79%)]\tLoss: 1.594914, Accuracy: 7/16 (43.750%)\n",
      "VAL:   LOSS--> 0.7263 (0.7263)\tACC-->81.250 (81.250)\n",
      " * Accuracy 70.787\n"
     ]
    },
    {
     "name": "stderr",
     "output_type": "stream",
     "text": [
      "\r",
      "  8%|███████▎                                                                                    | 8/100 [07:25<1:25:23, 55.69s/it]"
     ]
    },
    {
     "name": "stdout",
     "output_type": "stream",
     "text": [
      "TRAIN: LOSS-->0.9316 (0.9316)\tACC-->75.000% (75.000%)\n",
      "TRAIN: 8 [0/4038 (0%)]\tLoss: 0.931588, Accuracy: 12/16 (75.000%)\n",
      "TRAIN: LOSS-->0.9160 (1.4134)\tACC-->62.500% (52.537%)\n",
      "TRAIN: 8 [1600/4038 (40%)]\tLoss: 0.915977, Accuracy: 10/16 (62.500%)\n",
      "TRAIN: LOSS-->1.0910 (1.4146)\tACC-->75.000% (52.239%)\n",
      "TRAIN: 8 [3200/4038 (79%)]\tLoss: 1.090952, Accuracy: 12/16 (75.000%)\n",
      "VAL:   LOSS--> 0.9586 (0.9586)\tACC-->62.500 (62.500)\n",
      " * Accuracy 76.966\n"
     ]
    },
    {
     "name": "stderr",
     "output_type": "stream",
     "text": [
      "\r",
      "  9%|████████▎                                                                                   | 9/100 [08:20<1:24:21, 55.63s/it]"
     ]
    },
    {
     "name": "stdout",
     "output_type": "stream",
     "text": [
      "TRAIN: LOSS-->1.2365 (1.2365)\tACC-->50.000% (50.000%)\n",
      "TRAIN: 9 [0/4038 (0%)]\tLoss: 1.236490, Accuracy: 8/16 (50.000%)\n",
      "TRAIN: LOSS-->1.1797 (1.3934)\tACC-->43.750% (53.960%)\n",
      "TRAIN: 9 [1600/4038 (40%)]\tLoss: 1.179683, Accuracy: 7/16 (43.750%)\n",
      "TRAIN: LOSS-->1.2454 (1.3941)\tACC-->56.250% (53.700%)\n",
      "TRAIN: 9 [3200/4038 (79%)]\tLoss: 1.245373, Accuracy: 9/16 (56.250%)\n",
      "VAL:   LOSS--> 1.3553 (1.3553)\tACC-->62.500 (62.500)\n",
      " * Accuracy 58.287\n"
     ]
    },
    {
     "name": "stderr",
     "output_type": "stream",
     "text": [
      "\r",
      " 10%|█████████                                                                                  | 10/100 [09:15<1:23:23, 55.60s/it]"
     ]
    },
    {
     "name": "stdout",
     "output_type": "stream",
     "text": [
      "TRAIN: LOSS-->1.1847 (1.1847)\tACC-->56.250% (56.250%)\n",
      "TRAIN: 10 [0/4038 (0%)]\tLoss: 1.184734, Accuracy: 9/16 (56.250%)\n",
      "TRAIN: LOSS-->1.2686 (1.4341)\tACC-->68.750% (52.104%)\n",
      "TRAIN: 10 [1600/4038 (40%)]\tLoss: 1.268607, Accuracy: 11/16 (68.750%)\n",
      "TRAIN: LOSS-->1.2859 (1.3798)\tACC-->50.000% (53.607%)\n",
      "TRAIN: 10 [3200/4038 (79%)]\tLoss: 1.285935, Accuracy: 8/16 (50.000%)\n",
      "VAL:   LOSS--> 0.5212 (0.5212)\tACC-->75.000 (75.000)\n",
      " * Accuracy 76.966\n"
     ]
    },
    {
     "name": "stderr",
     "output_type": "stream",
     "text": [
      "\r",
      " 11%|██████████                                                                                 | 11/100 [10:11<1:22:25, 55.56s/it]"
     ]
    },
    {
     "name": "stdout",
     "output_type": "stream",
     "text": [
      "TRAIN: LOSS-->1.5314 (1.5314)\tACC-->37.500% (37.500%)\n",
      "TRAIN: 11 [0/4038 (0%)]\tLoss: 1.531422, Accuracy: 6/16 (37.500%)\n",
      "TRAIN: LOSS-->1.5580 (1.3351)\tACC-->43.750% (56.498%)\n",
      "TRAIN: 11 [1600/4038 (40%)]\tLoss: 1.557967, Accuracy: 7/16 (43.750%)\n",
      "TRAIN: LOSS-->1.2087 (1.3306)\tACC-->50.000% (54.789%)\n",
      "TRAIN: 11 [3200/4038 (79%)]\tLoss: 1.208679, Accuracy: 8/16 (50.000%)\n",
      "VAL:   LOSS--> 0.6129 (0.6129)\tACC-->75.000 (75.000)\n",
      " * Accuracy 78.090\n"
     ]
    },
    {
     "name": "stderr",
     "output_type": "stream",
     "text": [
      "\r",
      " 12%|██████████▉                                                                                | 12/100 [11:06<1:21:27, 55.54s/it]"
     ]
    },
    {
     "name": "stdout",
     "output_type": "stream",
     "text": [
      "TRAIN: LOSS-->1.3742 (1.3742)\tACC-->50.000% (50.000%)\n",
      "TRAIN: 12 [0/4038 (0%)]\tLoss: 1.374249, Accuracy: 8/16 (50.000%)\n",
      "TRAIN: LOSS-->1.2481 (1.3131)\tACC-->43.750% (56.250%)\n",
      "TRAIN: 12 [1600/4038 (40%)]\tLoss: 1.248054, Accuracy: 7/16 (43.750%)\n",
      "TRAIN: LOSS-->1.2215 (1.2768)\tACC-->62.500% (57.183%)\n",
      "TRAIN: 12 [3200/4038 (79%)]\tLoss: 1.221525, Accuracy: 10/16 (62.500%)\n",
      "VAL:   LOSS--> 0.9558 (0.9558)\tACC-->62.500 (62.500)\n",
      " * Accuracy 73.315\n"
     ]
    },
    {
     "name": "stderr",
     "output_type": "stream",
     "text": [
      "\r",
      " 13%|███████████▊                                                                               | 13/100 [12:01<1:20:29, 55.51s/it]"
     ]
    },
    {
     "name": "stdout",
     "output_type": "stream",
     "text": [
      "TRAIN: LOSS-->1.4144 (1.4144)\tACC-->62.500% (62.500%)\n",
      "TRAIN: 13 [0/4038 (0%)]\tLoss: 1.414353, Accuracy: 10/16 (62.500%)\n",
      "TRAIN: LOSS-->1.3636 (1.2615)\tACC-->50.000% (59.344%)\n",
      "TRAIN: 13 [1600/4038 (40%)]\tLoss: 1.363605, Accuracy: 8/16 (50.000%)\n",
      "TRAIN: LOSS-->1.5590 (1.2671)\tACC-->62.500% (58.831%)\n",
      "TRAIN: 13 [3200/4038 (79%)]\tLoss: 1.558952, Accuracy: 10/16 (62.500%)\n",
      "VAL:   LOSS--> 0.7247 (0.7247)\tACC-->81.250 (81.250)\n",
      " * Accuracy 75.140\n"
     ]
    },
    {
     "name": "stderr",
     "output_type": "stream",
     "text": [
      "\r",
      " 14%|████████████▋                                                                              | 14/100 [12:57<1:19:33, 55.51s/it]"
     ]
    },
    {
     "name": "stdout",
     "output_type": "stream",
     "text": [
      "TRAIN: LOSS-->1.5269 (1.5269)\tACC-->37.500% (37.500%)\n",
      "TRAIN: 14 [0/4038 (0%)]\tLoss: 1.526886, Accuracy: 6/16 (37.500%)\n",
      "TRAIN: LOSS-->0.8777 (1.2438)\tACC-->75.000% (58.725%)\n",
      "TRAIN: 14 [1600/4038 (40%)]\tLoss: 0.877673, Accuracy: 12/16 (75.000%)\n",
      "TRAIN: LOSS-->1.1703 (1.2273)\tACC-->56.250% (59.204%)\n",
      "TRAIN: 14 [3200/4038 (79%)]\tLoss: 1.170338, Accuracy: 9/16 (56.250%)\n",
      "VAL:   LOSS--> 0.3597 (0.3597)\tACC-->93.750 (93.750)\n",
      " * Accuracy 81.320\n"
     ]
    },
    {
     "name": "stderr",
     "output_type": "stream",
     "text": [
      "\r",
      " 15%|█████████████▋                                                                             | 15/100 [13:52<1:18:36, 55.49s/it]"
     ]
    },
    {
     "name": "stdout",
     "output_type": "stream",
     "text": [
      "TRAIN: LOSS-->1.4404 (1.4404)\tACC-->37.500% (37.500%)\n",
      "TRAIN: 15 [0/4038 (0%)]\tLoss: 1.440440, Accuracy: 6/16 (37.500%)\n",
      "TRAIN: LOSS-->1.7634 (1.3329)\tACC-->31.250% (55.260%)\n",
      "TRAIN: 15 [1600/4038 (40%)]\tLoss: 1.763407, Accuracy: 5/16 (31.250%)\n",
      "TRAIN: LOSS-->1.7307 (1.2687)\tACC-->43.750% (56.934%)\n",
      "TRAIN: 15 [3200/4038 (79%)]\tLoss: 1.730715, Accuracy: 7/16 (43.750%)\n",
      "VAL:   LOSS--> 0.3970 (0.3970)\tACC-->93.750 (93.750)\n",
      " * Accuracy 81.601\n"
     ]
    },
    {
     "name": "stderr",
     "output_type": "stream",
     "text": [
      "\r",
      " 16%|██████████████▌                                                                            | 16/100 [14:47<1:17:39, 55.47s/it]"
     ]
    },
    {
     "name": "stdout",
     "output_type": "stream",
     "text": [
      "TRAIN: LOSS-->1.6242 (1.6242)\tACC-->62.500% (62.500%)\n",
      "TRAIN: 16 [0/4038 (0%)]\tLoss: 1.624245, Accuracy: 10/16 (62.500%)\n",
      "TRAIN: LOSS-->1.4057 (1.1991)\tACC-->50.000% (58.787%)\n",
      "TRAIN: 16 [1600/4038 (40%)]\tLoss: 1.405683, Accuracy: 8/16 (50.000%)\n",
      "TRAIN: LOSS-->0.7478 (1.1899)\tACC-->81.250% (59.204%)\n",
      "TRAIN: 16 [3200/4038 (79%)]\tLoss: 0.747773, Accuracy: 13/16 (81.250%)\n",
      "VAL:   LOSS--> 0.4894 (0.4894)\tACC-->87.500 (87.500)\n",
      " * Accuracy 84.410\n"
     ]
    },
    {
     "name": "stderr",
     "output_type": "stream",
     "text": [
      "\r",
      " 17%|███████████████▍                                                                           | 17/100 [15:42<1:16:42, 55.45s/it]"
     ]
    },
    {
     "name": "stdout",
     "output_type": "stream",
     "text": [
      "TRAIN: LOSS-->1.2949 (1.2949)\tACC-->56.250% (56.250%)\n",
      "TRAIN: 17 [0/4038 (0%)]\tLoss: 1.294885, Accuracy: 9/16 (56.250%)\n",
      "TRAIN: LOSS-->1.0052 (1.1917)\tACC-->50.000% (60.582%)\n",
      "TRAIN: 17 [1600/4038 (40%)]\tLoss: 1.005242, Accuracy: 8/16 (50.000%)\n",
      "TRAIN: LOSS-->2.1678 (1.1900)\tACC-->37.500% (59.670%)\n",
      "TRAIN: 17 [3200/4038 (79%)]\tLoss: 2.167773, Accuracy: 6/16 (37.500%)\n",
      "VAL:   LOSS--> 0.3567 (0.3567)\tACC-->93.750 (93.750)\n",
      " * Accuracy 82.444\n"
     ]
    },
    {
     "name": "stderr",
     "output_type": "stream",
     "text": [
      "\r",
      " 18%|████████████████▍                                                                          | 18/100 [16:37<1:15:46, 55.44s/it]"
     ]
    },
    {
     "name": "stdout",
     "output_type": "stream",
     "text": [
      "TRAIN: LOSS-->1.1097 (1.1097)\tACC-->68.750% (68.750%)\n",
      "TRAIN: 18 [0/4038 (0%)]\tLoss: 1.109674, Accuracy: 11/16 (68.750%)\n",
      "TRAIN: LOSS-->1.1241 (1.1349)\tACC-->68.750% (61.696%)\n",
      "TRAIN: 18 [1600/4038 (40%)]\tLoss: 1.124138, Accuracy: 11/16 (68.750%)\n",
      "TRAIN: LOSS-->1.3298 (1.1756)\tACC-->62.500% (60.759%)\n",
      "TRAIN: 18 [3200/4038 (79%)]\tLoss: 1.329812, Accuracy: 10/16 (62.500%)\n",
      "VAL:   LOSS--> 0.6568 (0.6568)\tACC-->62.500 (62.500)\n",
      " * Accuracy 80.618\n"
     ]
    },
    {
     "name": "stderr",
     "output_type": "stream",
     "text": [
      "\r",
      " 19%|█████████████████▎                                                                         | 19/100 [17:33<1:14:49, 55.43s/it]"
     ]
    },
    {
     "name": "stdout",
     "output_type": "stream",
     "text": [
      "TRAIN: LOSS-->0.6755 (0.6755)\tACC-->81.250% (81.250%)\n",
      "TRAIN: 19 [0/4038 (0%)]\tLoss: 0.675526, Accuracy: 13/16 (81.250%)\n",
      "TRAIN: LOSS-->1.1331 (1.1504)\tACC-->56.250% (60.767%)\n",
      "TRAIN: 19 [1600/4038 (40%)]\tLoss: 1.133104, Accuracy: 9/16 (56.250%)\n",
      "TRAIN: LOSS-->0.9811 (1.1626)\tACC-->75.000% (61.381%)\n",
      "TRAIN: 19 [3200/4038 (79%)]\tLoss: 0.981052, Accuracy: 12/16 (75.000%)\n",
      "VAL:   LOSS--> 0.6736 (0.6736)\tACC-->75.000 (75.000)\n",
      " * Accuracy 79.073\n"
     ]
    },
    {
     "name": "stderr",
     "output_type": "stream",
     "text": [
      "\r",
      " 20%|██████████████████▏                                                                        | 20/100 [18:28<1:13:53, 55.42s/it]"
     ]
    },
    {
     "name": "stdout",
     "output_type": "stream",
     "text": [
      "TRAIN: LOSS-->1.1374 (1.1374)\tACC-->56.250% (56.250%)\n",
      "TRAIN: 20 [0/4038 (0%)]\tLoss: 1.137379, Accuracy: 9/16 (56.250%)\n",
      "TRAIN: LOSS-->0.9866 (1.1385)\tACC-->68.750% (61.696%)\n",
      "TRAIN: 20 [1600/4038 (40%)]\tLoss: 0.986641, Accuracy: 11/16 (68.750%)\n",
      "TRAIN: LOSS-->0.9465 (1.1114)\tACC-->68.750% (63.215%)\n",
      "TRAIN: 20 [3200/4038 (79%)]\tLoss: 0.946544, Accuracy: 11/16 (68.750%)\n",
      "VAL:   LOSS--> 0.4966 (0.4966)\tACC-->81.250 (81.250)\n",
      " * Accuracy 82.725\n"
     ]
    },
    {
     "name": "stderr",
     "output_type": "stream",
     "text": [
      "\r",
      " 21%|███████████████████                                                                        | 21/100 [19:23<1:12:56, 55.40s/it]"
     ]
    },
    {
     "name": "stdout",
     "output_type": "stream",
     "text": [
      "TRAIN: LOSS-->0.9218 (0.9218)\tACC-->68.750% (68.750%)\n",
      "TRAIN: 21 [0/4038 (0%)]\tLoss: 0.921780, Accuracy: 11/16 (68.750%)\n",
      "TRAIN: LOSS-->0.7287 (1.0588)\tACC-->75.000% (64.975%)\n",
      "TRAIN: 21 [1600/4038 (40%)]\tLoss: 0.728657, Accuracy: 12/16 (75.000%)\n",
      "TRAIN: LOSS-->0.8536 (1.0808)\tACC-->68.750% (63.961%)\n",
      "TRAIN: 21 [3200/4038 (79%)]\tLoss: 0.853606, Accuracy: 11/16 (68.750%)\n",
      "VAL:   LOSS--> 0.3982 (0.3982)\tACC-->81.250 (81.250)\n",
      " * Accuracy 73.876\n"
     ]
    },
    {
     "name": "stderr",
     "output_type": "stream",
     "text": [
      "\r",
      " 22%|████████████████████                                                                       | 22/100 [20:18<1:12:00, 55.39s/it]"
     ]
    },
    {
     "name": "stdout",
     "output_type": "stream",
     "text": [
      "TRAIN: LOSS-->1.0219 (1.0219)\tACC-->56.250% (56.250%)\n",
      "TRAIN: 22 [0/4038 (0%)]\tLoss: 1.021912, Accuracy: 9/16 (56.250%)\n",
      "TRAIN: LOSS-->0.9718 (1.0533)\tACC-->62.500% (64.542%)\n",
      "TRAIN: 22 [1600/4038 (40%)]\tLoss: 0.971820, Accuracy: 10/16 (62.500%)\n",
      "TRAIN: LOSS-->1.3702 (1.0955)\tACC-->56.250% (62.842%)\n",
      "TRAIN: 22 [3200/4038 (79%)]\tLoss: 1.370190, Accuracy: 9/16 (56.250%)\n",
      "VAL:   LOSS--> 0.2337 (0.2337)\tACC-->93.750 (93.750)\n",
      " * Accuracy 82.022\n"
     ]
    },
    {
     "name": "stderr",
     "output_type": "stream",
     "text": [
      "\r",
      " 23%|████████████████████▉                                                                      | 23/100 [21:13<1:11:03, 55.38s/it]"
     ]
    },
    {
     "name": "stdout",
     "output_type": "stream",
     "text": [
      "TRAIN: LOSS-->1.3370 (1.3370)\tACC-->50.000% (50.000%)\n",
      "TRAIN: 23 [0/4038 (0%)]\tLoss: 1.337022, Accuracy: 8/16 (50.000%)\n",
      "TRAIN: LOSS-->0.5670 (1.0547)\tACC-->75.000% (64.171%)\n",
      "TRAIN: 23 [1600/4038 (40%)]\tLoss: 0.566956, Accuracy: 12/16 (75.000%)\n",
      "TRAIN: LOSS-->1.0203 (1.0625)\tACC-->50.000% (64.583%)\n",
      "TRAIN: 23 [3200/4038 (79%)]\tLoss: 1.020285, Accuracy: 8/16 (50.000%)\n",
      "VAL:   LOSS--> 0.6312 (0.6312)\tACC-->87.500 (87.500)\n",
      " * Accuracy 84.972\n"
     ]
    },
    {
     "name": "stderr",
     "output_type": "stream",
     "text": [
      "\r",
      " 24%|█████████████████████▊                                                                     | 24/100 [22:08<1:10:07, 55.37s/it]"
     ]
    },
    {
     "name": "stdout",
     "output_type": "stream",
     "text": [
      "TRAIN: LOSS-->0.9672 (0.9672)\tACC-->75.000% (75.000%)\n",
      "TRAIN: 24 [0/4038 (0%)]\tLoss: 0.967186, Accuracy: 12/16 (75.000%)\n",
      "TRAIN: LOSS-->1.4598 (1.0783)\tACC-->56.250% (62.624%)\n",
      "TRAIN: 24 [1600/4038 (40%)]\tLoss: 1.459803, Accuracy: 9/16 (56.250%)\n",
      "TRAIN: LOSS-->0.9340 (1.0834)\tACC-->75.000% (63.371%)\n",
      "TRAIN: 24 [3200/4038 (79%)]\tLoss: 0.934038, Accuracy: 12/16 (75.000%)\n",
      "VAL:   LOSS--> 0.6301 (0.6301)\tACC-->81.250 (81.250)\n",
      " * Accuracy 84.691\n"
     ]
    },
    {
     "name": "stderr",
     "output_type": "stream",
     "text": [
      "\r",
      " 25%|██████████████████████▊                                                                    | 25/100 [23:03<1:09:11, 55.36s/it]"
     ]
    },
    {
     "name": "stdout",
     "output_type": "stream",
     "text": [
      "TRAIN: LOSS-->1.1829 (1.1829)\tACC-->62.500% (62.500%)\n",
      "TRAIN: 25 [0/4038 (0%)]\tLoss: 1.182856, Accuracy: 10/16 (62.500%)\n",
      "TRAIN: LOSS-->1.2928 (1.0638)\tACC-->50.000% (65.037%)\n",
      "TRAIN: 25 [1600/4038 (40%)]\tLoss: 1.292767, Accuracy: 8/16 (50.000%)\n",
      "TRAIN: LOSS-->0.5994 (1.0400)\tACC-->87.500% (64.832%)\n",
      "TRAIN: 25 [3200/4038 (79%)]\tLoss: 0.599448, Accuracy: 14/16 (87.500%)\n",
      "VAL:   LOSS--> 0.2340 (0.2340)\tACC-->100.000 (100.000)\n",
      " * Accuracy 85.955\n"
     ]
    },
    {
     "name": "stderr",
     "output_type": "stream",
     "text": [
      "\r",
      " 26%|███████████████████████▋                                                                   | 26/100 [23:59<1:08:15, 55.35s/it]"
     ]
    },
    {
     "name": "stdout",
     "output_type": "stream",
     "text": [
      "TRAIN: LOSS-->0.9446 (0.9446)\tACC-->68.750% (68.750%)\n",
      "TRAIN: 26 [0/4038 (0%)]\tLoss: 0.944636, Accuracy: 11/16 (68.750%)\n",
      "TRAIN: LOSS-->0.7321 (0.9742)\tACC-->68.750% (65.347%)\n",
      "TRAIN: 26 [1600/4038 (40%)]\tLoss: 0.732089, Accuracy: 11/16 (68.750%)\n",
      "TRAIN: LOSS-->1.1411 (1.0027)\tACC-->62.500% (65.392%)\n",
      "TRAIN: 26 [3200/4038 (79%)]\tLoss: 1.141116, Accuracy: 10/16 (62.500%)\n",
      "VAL:   LOSS--> 0.4128 (0.4128)\tACC-->81.250 (81.250)\n",
      " * Accuracy 84.551\n"
     ]
    },
    {
     "name": "stderr",
     "output_type": "stream",
     "text": [
      "\r",
      " 27%|████████████████████████▌                                                                  | 27/100 [24:54<1:07:19, 55.34s/it]"
     ]
    },
    {
     "name": "stdout",
     "output_type": "stream",
     "text": [
      "TRAIN: LOSS-->1.0159 (1.0159)\tACC-->62.500% (62.500%)\n",
      "TRAIN: 27 [0/4038 (0%)]\tLoss: 1.015893, Accuracy: 10/16 (62.500%)\n",
      "TRAIN: LOSS-->1.3727 (1.0523)\tACC-->56.250% (64.418%)\n",
      "TRAIN: 27 [1600/4038 (40%)]\tLoss: 1.372718, Accuracy: 9/16 (56.250%)\n",
      "TRAIN: LOSS-->0.7023 (1.0462)\tACC-->81.250% (64.801%)\n",
      "TRAIN: 27 [3200/4038 (79%)]\tLoss: 0.702273, Accuracy: 13/16 (81.250%)\n",
      "VAL:   LOSS--> 0.2902 (0.2902)\tACC-->75.000 (75.000)\n",
      " * Accuracy 85.815\n"
     ]
    },
    {
     "name": "stderr",
     "output_type": "stream",
     "text": [
      "\r",
      " 28%|█████████████████████████▍                                                                 | 28/100 [25:49<1:06:24, 55.33s/it]"
     ]
    },
    {
     "name": "stdout",
     "output_type": "stream",
     "text": [
      "TRAIN: LOSS-->0.9259 (0.9259)\tACC-->75.000% (75.000%)\n",
      "TRAIN: 28 [0/4038 (0%)]\tLoss: 0.925875, Accuracy: 12/16 (75.000%)\n",
      "TRAIN: LOSS-->1.0910 (1.0289)\tACC-->56.250% (65.780%)\n",
      "TRAIN: 28 [1600/4038 (40%)]\tLoss: 1.090990, Accuracy: 9/16 (56.250%)\n",
      "TRAIN: LOSS-->0.8440 (1.0165)\tACC-->75.000% (66.169%)\n",
      "TRAIN: 28 [3200/4038 (79%)]\tLoss: 0.843998, Accuracy: 12/16 (75.000%)\n",
      "VAL:   LOSS--> 0.3429 (0.3429)\tACC-->75.000 (75.000)\n",
      " * Accuracy 82.444\n"
     ]
    },
    {
     "name": "stderr",
     "output_type": "stream",
     "text": [
      "\r",
      " 29%|██████████████████████████▍                                                                | 29/100 [26:44<1:05:28, 55.33s/it]"
     ]
    },
    {
     "name": "stdout",
     "output_type": "stream",
     "text": [
      "TRAIN: LOSS-->1.3388 (1.3388)\tACC-->56.250% (56.250%)\n",
      "TRAIN: 29 [0/4038 (0%)]\tLoss: 1.338789, Accuracy: 9/16 (56.250%)\n",
      "TRAIN: LOSS-->1.1037 (0.9974)\tACC-->75.000% (67.017%)\n",
      "TRAIN: 29 [1600/4038 (40%)]\tLoss: 1.103721, Accuracy: 12/16 (75.000%)\n",
      "TRAIN: LOSS-->0.7421 (0.9890)\tACC-->81.250% (66.947%)\n",
      "TRAIN: 29 [3200/4038 (79%)]\tLoss: 0.742091, Accuracy: 13/16 (81.250%)\n",
      "VAL:   LOSS--> 0.3738 (0.3738)\tACC-->87.500 (87.500)\n",
      " * Accuracy 83.427\n"
     ]
    },
    {
     "name": "stderr",
     "output_type": "stream",
     "text": [
      "\r",
      " 30%|███████████████████████████▎                                                               | 30/100 [27:40<1:04:34, 55.35s/it]"
     ]
    },
    {
     "name": "stdout",
     "output_type": "stream",
     "text": [
      "TRAIN: LOSS-->1.2837 (1.2837)\tACC-->56.250% (56.250%)\n",
      "TRAIN: 30 [0/4038 (0%)]\tLoss: 1.283724, Accuracy: 9/16 (56.250%)\n",
      "TRAIN: LOSS-->1.8764 (0.9919)\tACC-->43.750% (66.832%)\n",
      "TRAIN: 30 [1600/4038 (40%)]\tLoss: 1.876415, Accuracy: 7/16 (43.750%)\n",
      "TRAIN: LOSS-->0.5675 (0.9985)\tACC-->75.000% (65.889%)\n",
      "TRAIN: 30 [3200/4038 (79%)]\tLoss: 0.567523, Accuracy: 12/16 (75.000%)\n",
      "VAL:   LOSS--> 0.3007 (0.3007)\tACC-->93.750 (93.750)\n",
      " * Accuracy 83.567\n"
     ]
    },
    {
     "name": "stderr",
     "output_type": "stream",
     "text": [
      "\r",
      " 31%|████████████████████████████▏                                                              | 31/100 [28:37<1:03:42, 55.40s/it]"
     ]
    },
    {
     "name": "stdout",
     "output_type": "stream",
     "text": [
      "TRAIN: LOSS-->0.8505 (0.8505)\tACC-->56.250% (56.250%)\n",
      "TRAIN: 31 [0/4038 (0%)]\tLoss: 0.850512, Accuracy: 9/16 (56.250%)\n",
      "TRAIN: LOSS-->0.7567 (0.9348)\tACC-->75.000% (69.493%)\n",
      "TRAIN: 31 [1600/4038 (40%)]\tLoss: 0.756653, Accuracy: 12/16 (75.000%)\n",
      "TRAIN: LOSS-->0.6916 (0.9701)\tACC-->87.500% (67.226%)\n",
      "TRAIN: 31 [3200/4038 (79%)]\tLoss: 0.691632, Accuracy: 14/16 (87.500%)\n",
      "VAL:   LOSS--> 0.7795 (0.7795)\tACC-->75.000 (75.000)\n",
      " * Accuracy 77.949\n"
     ]
    },
    {
     "name": "stderr",
     "output_type": "stream",
     "text": [
      "\r",
      " 32%|█████████████████████████████                                                              | 32/100 [29:33<1:02:48, 55.43s/it]"
     ]
    },
    {
     "name": "stdout",
     "output_type": "stream",
     "text": [
      "TRAIN: LOSS-->1.1316 (1.1316)\tACC-->56.250% (56.250%)\n",
      "TRAIN: 32 [0/4038 (0%)]\tLoss: 1.131637, Accuracy: 9/16 (56.250%)\n",
      "TRAIN: LOSS-->0.5981 (0.9571)\tACC-->68.750% (67.017%)\n",
      "TRAIN: 32 [1600/4038 (40%)]\tLoss: 0.598109, Accuracy: 11/16 (68.750%)\n",
      "TRAIN: LOSS-->0.9873 (0.9517)\tACC-->75.000% (67.693%)\n",
      "TRAIN: 32 [3200/4038 (79%)]\tLoss: 0.987340, Accuracy: 12/16 (75.000%)\n",
      "VAL:   LOSS--> 0.3412 (0.3412)\tACC-->87.500 (87.500)\n",
      " * Accuracy 88.624\n"
     ]
    },
    {
     "name": "stderr",
     "output_type": "stream",
     "text": [
      "\r",
      " 33%|██████████████████████████████                                                             | 33/100 [30:32<1:02:00, 55.53s/it]"
     ]
    },
    {
     "name": "stdout",
     "output_type": "stream",
     "text": [
      "TRAIN: LOSS-->1.3720 (1.3720)\tACC-->62.500% (62.500%)\n",
      "TRAIN: 33 [0/4038 (0%)]\tLoss: 1.372031, Accuracy: 10/16 (62.500%)\n",
      "TRAIN: LOSS-->0.7982 (1.0067)\tACC-->62.500% (65.161%)\n",
      "TRAIN: 33 [1600/4038 (40%)]\tLoss: 0.798177, Accuracy: 10/16 (62.500%)\n",
      "TRAIN: LOSS-->1.6863 (0.9528)\tACC-->31.250% (67.040%)\n",
      "TRAIN: 33 [3200/4038 (79%)]\tLoss: 1.686282, Accuracy: 5/16 (31.250%)\n",
      "VAL:   LOSS--> 0.2394 (0.2394)\tACC-->93.750 (93.750)\n",
      " * Accuracy 89.747\n"
     ]
    },
    {
     "name": "stderr",
     "output_type": "stream",
     "text": [
      "\r",
      " 34%|██████████████████████████████▉                                                            | 34/100 [31:32<1:01:13, 55.66s/it]"
     ]
    },
    {
     "name": "stdout",
     "output_type": "stream",
     "text": [
      "TRAIN: LOSS-->1.0416 (1.0416)\tACC-->81.250% (81.250%)\n",
      "TRAIN: 34 [0/4038 (0%)]\tLoss: 1.041565, Accuracy: 13/16 (81.250%)\n",
      "TRAIN: LOSS-->0.8175 (0.9343)\tACC-->75.000% (68.688%)\n",
      "TRAIN: 34 [1600/4038 (40%)]\tLoss: 0.817534, Accuracy: 12/16 (75.000%)\n",
      "TRAIN: LOSS-->0.5574 (0.9328)\tACC-->87.500% (68.501%)\n",
      "TRAIN: 34 [3200/4038 (79%)]\tLoss: 0.557442, Accuracy: 14/16 (87.500%)\n",
      "VAL:   LOSS--> 0.1979 (0.1979)\tACC-->93.750 (93.750)\n",
      " * Accuracy 84.551\n"
     ]
    },
    {
     "name": "stderr",
     "output_type": "stream",
     "text": [
      "\r",
      " 35%|███████████████████████████████▊                                                           | 35/100 [32:27<1:00:17, 55.65s/it]"
     ]
    },
    {
     "name": "stdout",
     "output_type": "stream",
     "text": [
      "TRAIN: LOSS-->1.2359 (1.2359)\tACC-->43.750% (43.750%)\n",
      "TRAIN: 35 [0/4038 (0%)]\tLoss: 1.235933, Accuracy: 7/16 (43.750%)\n",
      "TRAIN: LOSS-->0.9611 (0.9551)\tACC-->62.500% (68.317%)\n",
      "TRAIN: 35 [1600/4038 (40%)]\tLoss: 0.961108, Accuracy: 10/16 (62.500%)\n",
      "TRAIN: LOSS-->0.9624 (0.9593)\tACC-->62.500% (67.786%)\n",
      "TRAIN: 35 [3200/4038 (79%)]\tLoss: 0.962366, Accuracy: 10/16 (62.500%)\n",
      "VAL:   LOSS--> 0.5652 (0.5652)\tACC-->87.500 (87.500)\n",
      " * Accuracy 88.343\n"
     ]
    },
    {
     "name": "stderr",
     "output_type": "stream",
     "text": [
      "\r",
      " 36%|█████████████████████████████████▍                                                           | 36/100 [33:23<59:21, 55.65s/it]"
     ]
    },
    {
     "name": "stdout",
     "output_type": "stream",
     "text": [
      "TRAIN: LOSS-->1.0521 (1.0521)\tACC-->56.250% (56.250%)\n",
      "TRAIN: 36 [0/4038 (0%)]\tLoss: 1.052097, Accuracy: 9/16 (56.250%)\n",
      "TRAIN: LOSS-->1.4177 (0.8848)\tACC-->50.000% (70.421%)\n",
      "TRAIN: 36 [1600/4038 (40%)]\tLoss: 1.417675, Accuracy: 8/16 (50.000%)\n",
      "TRAIN: LOSS-->0.9977 (0.9019)\tACC-->75.000% (69.590%)\n",
      "TRAIN: 36 [3200/4038 (79%)]\tLoss: 0.997689, Accuracy: 12/16 (75.000%)\n",
      "VAL:   LOSS--> 0.1770 (0.1770)\tACC-->93.750 (93.750)\n",
      " * Accuracy 88.343\n"
     ]
    },
    {
     "name": "stderr",
     "output_type": "stream",
     "text": [
      "\r",
      " 37%|██████████████████████████████████▍                                                          | 37/100 [34:18<58:25, 55.64s/it]"
     ]
    },
    {
     "name": "stdout",
     "output_type": "stream",
     "text": [
      "TRAIN: LOSS-->0.6781 (0.6781)\tACC-->75.000% (75.000%)\n",
      "TRAIN: 37 [0/4038 (0%)]\tLoss: 0.678118, Accuracy: 12/16 (75.000%)\n",
      "TRAIN: LOSS-->1.0111 (0.8934)\tACC-->56.250% (69.616%)\n",
      "TRAIN: 37 [1600/4038 (40%)]\tLoss: 1.011118, Accuracy: 9/16 (56.250%)\n",
      "TRAIN: LOSS-->0.9717 (0.8970)\tACC-->75.000% (69.216%)\n",
      "TRAIN: 37 [3200/4038 (79%)]\tLoss: 0.971654, Accuracy: 12/16 (75.000%)\n",
      "VAL:   LOSS--> 0.4407 (0.4407)\tACC-->81.250 (81.250)\n",
      " * Accuracy 85.534\n"
     ]
    },
    {
     "name": "stderr",
     "output_type": "stream",
     "text": [
      "\r",
      " 38%|███████████████████████████████████▎                                                         | 38/100 [35:14<57:29, 55.63s/it]"
     ]
    },
    {
     "name": "stdout",
     "output_type": "stream",
     "text": [
      "TRAIN: LOSS-->0.7396 (0.7396)\tACC-->75.000% (75.000%)\n",
      "TRAIN: 38 [0/4038 (0%)]\tLoss: 0.739560, Accuracy: 12/16 (75.000%)\n",
      "TRAIN: LOSS-->1.2437 (0.9126)\tACC-->50.000% (68.626%)\n",
      "TRAIN: 38 [1600/4038 (40%)]\tLoss: 1.243719, Accuracy: 8/16 (50.000%)\n",
      "TRAIN: LOSS-->1.1901 (0.9176)\tACC-->50.000% (68.439%)\n",
      "TRAIN: 38 [3200/4038 (79%)]\tLoss: 1.190117, Accuracy: 8/16 (50.000%)\n",
      "VAL:   LOSS--> 0.4842 (0.4842)\tACC-->81.250 (81.250)\n",
      " * Accuracy 88.343\n"
     ]
    },
    {
     "name": "stderr",
     "output_type": "stream",
     "text": [
      "\r",
      " 39%|████████████████████████████████████▎                                                        | 39/100 [36:15<56:42, 55.78s/it]"
     ]
    },
    {
     "name": "stdout",
     "output_type": "stream",
     "text": [
      "TRAIN: LOSS-->0.6488 (0.6488)\tACC-->81.250% (81.250%)\n",
      "TRAIN: 39 [0/4038 (0%)]\tLoss: 0.648763, Accuracy: 13/16 (81.250%)\n",
      "TRAIN: LOSS-->0.9609 (0.8852)\tACC-->68.750% (68.998%)\n",
      "TRAIN: 39 [1600/4038 (40%)]\tLoss: 0.960933, Accuracy: 11/16 (68.750%)\n",
      "TRAIN: LOSS-->1.0307 (0.8978)\tACC-->81.250% (68.843%)\n",
      "TRAIN: 39 [3200/4038 (79%)]\tLoss: 1.030748, Accuracy: 13/16 (81.250%)\n",
      "VAL:   LOSS--> 0.6062 (0.6062)\tACC-->81.250 (81.250)\n",
      " * Accuracy 86.376\n"
     ]
    },
    {
     "name": "stderr",
     "output_type": "stream",
     "text": [
      "\r",
      " 40%|█████████████████████████████████████▏                                                       | 40/100 [37:17<55:56, 55.94s/it]"
     ]
    },
    {
     "name": "stdout",
     "output_type": "stream",
     "text": [
      "TRAIN: LOSS-->1.0767 (1.0767)\tACC-->62.500% (62.500%)\n",
      "TRAIN: 40 [0/4038 (0%)]\tLoss: 1.076732, Accuracy: 10/16 (62.500%)\n",
      "TRAIN: LOSS-->0.6478 (0.9099)\tACC-->81.250% (68.812%)\n",
      "TRAIN: 40 [1600/4038 (40%)]\tLoss: 0.647781, Accuracy: 13/16 (81.250%)\n",
      "TRAIN: LOSS-->0.8642 (0.8989)\tACC-->62.500% (68.657%)\n",
      "TRAIN: 40 [3200/4038 (79%)]\tLoss: 0.864171, Accuracy: 10/16 (62.500%)\n",
      "VAL:   LOSS--> 0.3389 (0.3389)\tACC-->87.500 (87.500)\n",
      " * Accuracy 86.517\n"
     ]
    },
    {
     "name": "stderr",
     "output_type": "stream",
     "text": [
      "\r",
      " 41%|██████████████████████████████████████▏                                                      | 41/100 [38:20<55:10, 56.11s/it]"
     ]
    },
    {
     "name": "stdout",
     "output_type": "stream",
     "text": [
      "TRAIN: LOSS-->1.4191 (1.4191)\tACC-->50.000% (50.000%)\n",
      "TRAIN: 41 [0/4038 (0%)]\tLoss: 1.419096, Accuracy: 8/16 (50.000%)\n",
      "TRAIN: LOSS-->0.5351 (0.9252)\tACC-->87.500% (68.812%)\n",
      "TRAIN: 41 [1600/4038 (40%)]\tLoss: 0.535053, Accuracy: 14/16 (87.500%)\n",
      "TRAIN: LOSS-->0.7420 (0.9155)\tACC-->81.250% (68.905%)\n",
      "TRAIN: 41 [3200/4038 (79%)]\tLoss: 0.742021, Accuracy: 13/16 (81.250%)\n",
      "VAL:   LOSS--> 0.2390 (0.2390)\tACC-->87.500 (87.500)\n",
      " * Accuracy 86.938\n"
     ]
    },
    {
     "name": "stderr",
     "output_type": "stream",
     "text": [
      "\r",
      " 42%|███████████████████████████████████████                                                      | 42/100 [39:24<54:24, 56.29s/it]"
     ]
    },
    {
     "name": "stdout",
     "output_type": "stream",
     "text": [
      "TRAIN: LOSS-->0.5095 (0.5095)\tACC-->87.500% (87.500%)\n",
      "TRAIN: 42 [0/4038 (0%)]\tLoss: 0.509506, Accuracy: 14/16 (87.500%)\n",
      "TRAIN: LOSS-->0.9434 (0.8896)\tACC-->68.750% (69.431%)\n",
      "TRAIN: 42 [1600/4038 (40%)]\tLoss: 0.943355, Accuracy: 11/16 (68.750%)\n",
      "TRAIN: LOSS-->0.9391 (0.8893)\tACC-->75.000% (68.937%)\n",
      "TRAIN: 42 [3200/4038 (79%)]\tLoss: 0.939074, Accuracy: 12/16 (75.000%)\n",
      "VAL:   LOSS--> 0.1979 (0.1979)\tACC-->100.000 (100.000)\n",
      " * Accuracy 88.202\n"
     ]
    },
    {
     "name": "stderr",
     "output_type": "stream",
     "text": [
      "\r",
      " 43%|███████████████████████████████████████▉                                                     | 43/100 [40:24<53:34, 56.39s/it]"
     ]
    },
    {
     "name": "stdout",
     "output_type": "stream",
     "text": [
      "TRAIN: LOSS-->0.6776 (0.6776)\tACC-->75.000% (75.000%)\n",
      "TRAIN: 43 [0/4038 (0%)]\tLoss: 0.677644, Accuracy: 12/16 (75.000%)\n",
      "TRAIN: LOSS-->0.7962 (0.8436)\tACC-->68.750% (71.287%)\n",
      "TRAIN: 43 [1600/4038 (40%)]\tLoss: 0.796200, Accuracy: 11/16 (68.750%)\n",
      "TRAIN: LOSS-->1.1529 (0.8653)\tACC-->68.750% (70.989%)\n",
      "TRAIN: 43 [3200/4038 (79%)]\tLoss: 1.152855, Accuracy: 11/16 (68.750%)\n",
      "VAL:   LOSS--> 0.3218 (0.3218)\tACC-->93.750 (93.750)\n",
      " * Accuracy 91.573\n",
      "EARLY STOP\n"
     ]
    },
    {
     "name": "stderr",
     "output_type": "stream",
     "text": [
      "\r",
      " 44%|████████████████████████████████████████▉                                                    | 44/100 [41:33<52:53, 56.68s/it]"
     ]
    },
    {
     "name": "stdout",
     "output_type": "stream",
     "text": [
      "TRAIN: LOSS-->0.8768 (0.8768)\tACC-->62.500% (62.500%)\n",
      "TRAIN: 44 [0/4038 (0%)]\tLoss: 0.876779, Accuracy: 10/16 (62.500%)\n",
      "TRAIN: LOSS-->0.6169 (0.8394)\tACC-->81.250% (70.606%)\n",
      "TRAIN: 44 [1600/4038 (40%)]\tLoss: 0.616894, Accuracy: 13/16 (81.250%)\n",
      "TRAIN: LOSS-->0.6399 (0.8587)\tACC-->75.000% (69.932%)\n",
      "TRAIN: 44 [3200/4038 (79%)]\tLoss: 0.639872, Accuracy: 12/16 (75.000%)\n",
      "VAL:   LOSS--> 0.5330 (0.5330)\tACC-->81.250 (81.250)\n",
      " * Accuracy 89.466\n"
     ]
    },
    {
     "name": "stderr",
     "output_type": "stream",
     "text": [
      "\r",
      " 45%|█████████████████████████████████████████▊                                                   | 45/100 [42:37<52:05, 56.83s/it]"
     ]
    },
    {
     "name": "stdout",
     "output_type": "stream",
     "text": [
      "TRAIN: LOSS-->1.0418 (1.0418)\tACC-->56.250% (56.250%)\n",
      "TRAIN: 45 [0/4038 (0%)]\tLoss: 1.041841, Accuracy: 9/16 (56.250%)\n",
      "TRAIN: LOSS-->0.3963 (0.8475)\tACC-->87.500% (71.782%)\n",
      "TRAIN: 45 [1600/4038 (40%)]\tLoss: 0.396277, Accuracy: 14/16 (87.500%)\n",
      "TRAIN: LOSS-->0.6405 (0.8403)\tACC-->75.000% (71.766%)\n",
      "TRAIN: 45 [3200/4038 (79%)]\tLoss: 0.640501, Accuracy: 12/16 (75.000%)\n",
      "VAL:   LOSS--> 0.1975 (0.1975)\tACC-->93.750 (93.750)\n",
      " * Accuracy 90.449\n",
      "EARLY STOP\n"
     ]
    },
    {
     "name": "stderr",
     "output_type": "stream",
     "text": [
      "\r",
      " 46%|██████████████████████████████████████████▊                                                  | 46/100 [43:45<51:21, 57.07s/it]"
     ]
    },
    {
     "name": "stdout",
     "output_type": "stream",
     "text": [
      "TRAIN: LOSS-->0.6008 (0.6008)\tACC-->75.000% (75.000%)\n",
      "TRAIN: 46 [0/4038 (0%)]\tLoss: 0.600772, Accuracy: 12/16 (75.000%)\n",
      "TRAIN: LOSS-->0.8173 (0.8604)\tACC-->68.750% (70.421%)\n",
      "TRAIN: 46 [1600/4038 (40%)]\tLoss: 0.817291, Accuracy: 11/16 (68.750%)\n",
      "TRAIN: LOSS-->1.2991 (0.8510)\tACC-->56.250% (71.051%)\n",
      "TRAIN: 46 [3200/4038 (79%)]\tLoss: 1.299067, Accuracy: 9/16 (56.250%)\n",
      "VAL:   LOSS--> 0.1068 (0.1068)\tACC-->100.000 (100.000)\n",
      " * Accuracy 86.938\n"
     ]
    },
    {
     "name": "stderr",
     "output_type": "stream",
     "text": [
      "\r",
      " 47%|███████████████████████████████████████████▋                                                 | 47/100 [44:50<50:33, 57.24s/it]"
     ]
    },
    {
     "name": "stdout",
     "output_type": "stream",
     "text": [
      "TRAIN: LOSS-->0.9151 (0.9151)\tACC-->56.250% (56.250%)\n",
      "TRAIN: 47 [0/4038 (0%)]\tLoss: 0.915098, Accuracy: 9/16 (56.250%)\n",
      "TRAIN: LOSS-->0.5878 (0.8360)\tACC-->75.000% (71.411%)\n",
      "TRAIN: 47 [1600/4038 (40%)]\tLoss: 0.587843, Accuracy: 12/16 (75.000%)\n",
      "TRAIN: LOSS-->0.8808 (0.8293)\tACC-->75.000% (71.984%)\n",
      "TRAIN: 47 [3200/4038 (79%)]\tLoss: 0.880766, Accuracy: 12/16 (75.000%)\n",
      "VAL:   LOSS--> 0.4289 (0.4289)\tACC-->81.250 (81.250)\n",
      " * Accuracy 89.607\n"
     ]
    },
    {
     "name": "stderr",
     "output_type": "stream",
     "text": [
      "\r",
      " 48%|████████████████████████████████████████████▋                                                | 48/100 [45:55<49:45, 57.41s/it]"
     ]
    },
    {
     "name": "stdout",
     "output_type": "stream",
     "text": [
      "TRAIN: LOSS-->1.2685 (1.2685)\tACC-->62.500% (62.500%)\n",
      "TRAIN: 48 [0/4038 (0%)]\tLoss: 1.268461, Accuracy: 10/16 (62.500%)\n",
      "TRAIN: LOSS-->0.6331 (0.8593)\tACC-->81.250% (71.040%)\n",
      "TRAIN: 48 [1600/4038 (40%)]\tLoss: 0.633121, Accuracy: 13/16 (81.250%)\n",
      "TRAIN: LOSS-->0.7662 (0.8387)\tACC-->81.250% (71.953%)\n",
      "TRAIN: 48 [3200/4038 (79%)]\tLoss: 0.766173, Accuracy: 13/16 (81.250%)\n",
      "VAL:   LOSS--> 0.2545 (0.2545)\tACC-->93.750 (93.750)\n",
      " * Accuracy 91.713\n",
      "EARLY STOP\n"
     ]
    },
    {
     "name": "stderr",
     "output_type": "stream",
     "text": [
      "\r",
      " 49%|█████████████████████████████████████████████▌                                               | 49/100 [47:04<49:00, 57.65s/it]"
     ]
    },
    {
     "name": "stdout",
     "output_type": "stream",
     "text": [
      "TRAIN: LOSS-->0.5406 (0.5406)\tACC-->75.000% (75.000%)\n",
      "TRAIN: 49 [0/4038 (0%)]\tLoss: 0.540597, Accuracy: 12/16 (75.000%)\n",
      "TRAIN: LOSS-->0.7300 (0.8089)\tACC-->75.000% (72.153%)\n",
      "TRAIN: 49 [1600/4038 (40%)]\tLoss: 0.730020, Accuracy: 12/16 (75.000%)\n",
      "TRAIN: LOSS-->0.6531 (0.8226)\tACC-->75.000% (71.549%)\n",
      "TRAIN: 49 [3200/4038 (79%)]\tLoss: 0.653054, Accuracy: 12/16 (75.000%)\n",
      "VAL:   LOSS--> 0.1441 (0.1441)\tACC-->100.000 (100.000)\n",
      " * Accuracy 88.483\n"
     ]
    },
    {
     "name": "stderr",
     "output_type": "stream",
     "text": [
      "\r",
      " 50%|██████████████████████████████████████████████▌                                              | 50/100 [48:12<48:12, 57.84s/it]"
     ]
    },
    {
     "name": "stdout",
     "output_type": "stream",
     "text": [
      "TRAIN: LOSS-->0.8899 (0.8899)\tACC-->68.750% (68.750%)\n",
      "TRAIN: 50 [0/4038 (0%)]\tLoss: 0.889885, Accuracy: 11/16 (68.750%)\n",
      "TRAIN: LOSS-->1.1831 (0.8254)\tACC-->62.500% (72.030%)\n",
      "TRAIN: 50 [1600/4038 (40%)]\tLoss: 1.183147, Accuracy: 10/16 (62.500%)\n",
      "TRAIN: LOSS-->1.2151 (0.8201)\tACC-->50.000% (71.797%)\n",
      "TRAIN: 50 [3200/4038 (79%)]\tLoss: 1.215069, Accuracy: 8/16 (50.000%)\n",
      "VAL:   LOSS--> 0.1980 (0.1980)\tACC-->100.000 (100.000)\n",
      " * Accuracy 91.152\n",
      "EARLY STOP\n"
     ]
    },
    {
     "name": "stderr",
     "output_type": "stream",
     "text": [
      "\r",
      " 51%|███████████████████████████████████████████████▍                                             | 51/100 [49:25<47:29, 58.16s/it]"
     ]
    },
    {
     "name": "stdout",
     "output_type": "stream",
     "text": [
      "TRAIN: LOSS-->0.4132 (0.4132)\tACC-->81.250% (81.250%)\n",
      "TRAIN: 51 [0/4038 (0%)]\tLoss: 0.413223, Accuracy: 13/16 (81.250%)\n",
      "TRAIN: LOSS-->0.5692 (0.8171)\tACC-->81.250% (72.339%)\n",
      "TRAIN: 51 [1600/4038 (40%)]\tLoss: 0.569238, Accuracy: 13/16 (81.250%)\n",
      "TRAIN: LOSS-->1.4294 (0.8034)\tACC-->62.500% (72.233%)\n",
      "TRAIN: 51 [3200/4038 (79%)]\tLoss: 1.429351, Accuracy: 10/16 (62.500%)\n",
      "VAL:   LOSS--> 0.0598 (0.0598)\tACC-->100.000 (100.000)\n",
      " * Accuracy 91.573\n",
      "EARLY STOP\n"
     ]
    },
    {
     "name": "stderr",
     "output_type": "stream",
     "text": [
      "\r",
      " 52%|████████████████████████████████████████████████▎                                            | 52/100 [50:37<46:43, 58.41s/it]"
     ]
    },
    {
     "name": "stdout",
     "output_type": "stream",
     "text": [
      "TRAIN: LOSS-->0.9734 (0.9734)\tACC-->62.500% (62.500%)\n",
      "TRAIN: 52 [0/4038 (0%)]\tLoss: 0.973414, Accuracy: 10/16 (62.500%)\n",
      "TRAIN: LOSS-->1.4696 (0.8019)\tACC-->50.000% (72.710%)\n",
      "TRAIN: 52 [1600/4038 (40%)]\tLoss: 1.469574, Accuracy: 8/16 (50.000%)\n",
      "TRAIN: LOSS-->0.7818 (0.7959)\tACC-->75.000% (72.108%)\n",
      "TRAIN: 52 [3200/4038 (79%)]\tLoss: 0.781834, Accuracy: 12/16 (75.000%)\n",
      "VAL:   LOSS--> 0.2477 (0.2477)\tACC-->93.750 (93.750)\n",
      " * Accuracy 91.011\n",
      "EARLY STOP\n"
     ]
    },
    {
     "name": "stderr",
     "output_type": "stream",
     "text": [
      "\r",
      " 53%|█████████████████████████████████████████████████▎                                           | 53/100 [51:45<45:53, 58.59s/it]"
     ]
    },
    {
     "name": "stdout",
     "output_type": "stream",
     "text": [
      "TRAIN: LOSS-->0.6763 (0.6763)\tACC-->87.500% (87.500%)\n",
      "TRAIN: 53 [0/4038 (0%)]\tLoss: 0.676270, Accuracy: 14/16 (87.500%)\n",
      "TRAIN: LOSS-->0.6680 (0.7957)\tACC-->87.500% (73.700%)\n",
      "TRAIN: 53 [1600/4038 (40%)]\tLoss: 0.667981, Accuracy: 14/16 (87.500%)\n",
      "TRAIN: LOSS-->0.4584 (0.7834)\tACC-->87.500% (72.699%)\n",
      "TRAIN: 53 [3200/4038 (79%)]\tLoss: 0.458350, Accuracy: 14/16 (87.500%)\n",
      "VAL:   LOSS--> 0.1413 (0.1413)\tACC-->93.750 (93.750)\n",
      " * Accuracy 90.449\n",
      "EARLY STOP\n"
     ]
    },
    {
     "name": "stderr",
     "output_type": "stream",
     "text": [
      "\r",
      " 54%|██████████████████████████████████████████████████▏                                          | 54/100 [52:54<45:04, 58.79s/it]"
     ]
    },
    {
     "name": "stdout",
     "output_type": "stream",
     "text": [
      "TRAIN: LOSS-->1.0238 (1.0238)\tACC-->56.250% (56.250%)\n",
      "TRAIN: 54 [0/4038 (0%)]\tLoss: 1.023795, Accuracy: 9/16 (56.250%)\n",
      "TRAIN: LOSS-->0.4716 (0.8058)\tACC-->87.500% (71.287%)\n",
      "TRAIN: 54 [1600/4038 (40%)]\tLoss: 0.471588, Accuracy: 14/16 (87.500%)\n",
      "TRAIN: LOSS-->1.3447 (0.8129)\tACC-->43.750% (72.326%)\n",
      "TRAIN: 54 [3200/4038 (79%)]\tLoss: 1.344683, Accuracy: 7/16 (43.750%)\n",
      "VAL:   LOSS--> 0.3242 (0.3242)\tACC-->93.750 (93.750)\n",
      " * Accuracy 91.713\n",
      "EARLY STOP\n"
     ]
    },
    {
     "name": "stderr",
     "output_type": "stream",
     "text": [
      "\r",
      " 55%|███████████████████████████████████████████████████▏                                         | 55/100 [54:04<44:14, 58.99s/it]"
     ]
    },
    {
     "name": "stdout",
     "output_type": "stream",
     "text": [
      "TRAIN: LOSS-->0.5075 (0.5075)\tACC-->93.750% (93.750%)\n",
      "TRAIN: 55 [0/4038 (0%)]\tLoss: 0.507530, Accuracy: 15/16 (93.750%)\n",
      "TRAIN: LOSS-->0.4909 (0.8242)\tACC-->87.500% (72.463%)\n",
      "TRAIN: 55 [1600/4038 (40%)]\tLoss: 0.490878, Accuracy: 14/16 (87.500%)\n",
      "TRAIN: LOSS-->0.2797 (0.7774)\tACC-->100.000% (73.476%)\n",
      "TRAIN: 55 [3200/4038 (79%)]\tLoss: 0.279661, Accuracy: 16/16 (100.000%)\n",
      "VAL:   LOSS--> 0.1126 (0.1126)\tACC-->100.000 (100.000)\n",
      " * Accuracy 92.135\n",
      "EARLY STOP\n"
     ]
    },
    {
     "name": "stderr",
     "output_type": "stream",
     "text": [
      "\r",
      " 56%|████████████████████████████████████████████████████                                         | 56/100 [55:13<43:23, 59.16s/it]"
     ]
    },
    {
     "name": "stdout",
     "output_type": "stream",
     "text": [
      "TRAIN: LOSS-->0.8553 (0.8553)\tACC-->75.000% (75.000%)\n",
      "TRAIN: 56 [0/4038 (0%)]\tLoss: 0.855313, Accuracy: 12/16 (75.000%)\n",
      "TRAIN: LOSS-->0.7085 (0.7687)\tACC-->81.250% (74.319%)\n",
      "TRAIN: 56 [1600/4038 (40%)]\tLoss: 0.708529, Accuracy: 13/16 (81.250%)\n",
      "TRAIN: LOSS-->0.4424 (0.7920)\tACC-->81.250% (73.259%)\n",
      "TRAIN: 56 [3200/4038 (79%)]\tLoss: 0.442365, Accuracy: 13/16 (81.250%)\n",
      "VAL:   LOSS--> 0.1225 (0.1225)\tACC-->100.000 (100.000)\n",
      " * Accuracy 91.011\n",
      "EARLY STOP\n"
     ]
    },
    {
     "name": "stderr",
     "output_type": "stream",
     "text": [
      "\r",
      " 57%|█████████████████████████████████████████████████████                                        | 57/100 [56:22<42:31, 59.34s/it]"
     ]
    },
    {
     "name": "stdout",
     "output_type": "stream",
     "text": [
      "TRAIN: LOSS-->0.6689 (0.6689)\tACC-->68.750% (68.750%)\n",
      "TRAIN: 57 [0/4038 (0%)]\tLoss: 0.668852, Accuracy: 11/16 (68.750%)\n",
      "TRAIN: LOSS-->0.9431 (0.8080)\tACC-->68.750% (71.658%)\n",
      "TRAIN: 57 [1600/4038 (40%)]\tLoss: 0.943116, Accuracy: 11/16 (68.750%)\n",
      "TRAIN: LOSS-->0.7935 (0.7840)\tACC-->68.750% (72.637%)\n",
      "TRAIN: 57 [3200/4038 (79%)]\tLoss: 0.793494, Accuracy: 11/16 (68.750%)\n",
      "VAL:   LOSS--> 0.4181 (0.4181)\tACC-->81.250 (81.250)\n",
      " * Accuracy 88.343\n"
     ]
    },
    {
     "name": "stderr",
     "output_type": "stream",
     "text": [
      "\r",
      " 58%|█████████████████████████████████████████████████████▉                                       | 58/100 [57:23<41:33, 59.37s/it]"
     ]
    },
    {
     "name": "stdout",
     "output_type": "stream",
     "text": [
      "TRAIN: LOSS-->0.7804 (0.7804)\tACC-->68.750% (68.750%)\n",
      "TRAIN: 58 [0/4038 (0%)]\tLoss: 0.780435, Accuracy: 11/16 (68.750%)\n",
      "TRAIN: LOSS-->0.4955 (0.7824)\tACC-->87.500% (74.319%)\n",
      "TRAIN: 58 [1600/4038 (40%)]\tLoss: 0.495517, Accuracy: 14/16 (87.500%)\n",
      "TRAIN: LOSS-->0.8673 (0.7559)\tACC-->68.750% (73.850%)\n",
      "TRAIN: 58 [3200/4038 (79%)]\tLoss: 0.867339, Accuracy: 11/16 (68.750%)\n",
      "VAL:   LOSS--> 0.6672 (0.6672)\tACC-->87.500 (87.500)\n",
      " * Accuracy 92.697\n",
      "EARLY STOP\n"
     ]
    },
    {
     "name": "stderr",
     "output_type": "stream",
     "text": [
      "\r",
      " 59%|██████████████████████████████████████████████████████▊                                      | 59/100 [58:27<40:37, 59.45s/it]"
     ]
    },
    {
     "name": "stdout",
     "output_type": "stream",
     "text": [
      "TRAIN: LOSS-->0.6570 (0.6570)\tACC-->75.000% (75.000%)\n",
      "TRAIN: 59 [0/4038 (0%)]\tLoss: 0.656991, Accuracy: 12/16 (75.000%)\n",
      "TRAIN: LOSS-->0.7278 (0.8086)\tACC-->75.000% (72.710%)\n",
      "TRAIN: 59 [1600/4038 (40%)]\tLoss: 0.727798, Accuracy: 12/16 (75.000%)\n",
      "TRAIN: LOSS-->0.5209 (0.7751)\tACC-->81.250% (73.725%)\n",
      "TRAIN: 59 [3200/4038 (79%)]\tLoss: 0.520929, Accuracy: 13/16 (81.250%)\n",
      "VAL:   LOSS--> 0.1249 (0.1249)\tACC-->93.750 (93.750)\n",
      " * Accuracy 90.169\n",
      "EARLY STOP\n"
     ]
    },
    {
     "name": "stderr",
     "output_type": "stream",
     "text": [
      "\r",
      " 60%|███████████████████████████████████████████████████████▊                                     | 60/100 [59:35<39:43, 59.58s/it]"
     ]
    },
    {
     "name": "stdout",
     "output_type": "stream",
     "text": [
      "TRAIN: LOSS-->0.7482 (0.7482)\tACC-->68.750% (68.750%)\n",
      "TRAIN: 60 [0/4038 (0%)]\tLoss: 0.748187, Accuracy: 11/16 (68.750%)\n",
      "TRAIN: LOSS-->0.7737 (0.7997)\tACC-->75.000% (72.896%)\n",
      "TRAIN: 60 [1600/4038 (40%)]\tLoss: 0.773706, Accuracy: 12/16 (75.000%)\n",
      "TRAIN: LOSS-->0.4556 (0.7669)\tACC-->81.250% (74.254%)\n",
      "TRAIN: 60 [3200/4038 (79%)]\tLoss: 0.455621, Accuracy: 13/16 (81.250%)\n",
      "VAL:   LOSS--> 0.1246 (0.1246)\tACC-->93.750 (93.750)\n",
      " * Accuracy 93.820\n",
      "EARLY STOP\n"
     ]
    },
    {
     "name": "stderr",
     "output_type": "stream",
     "text": [
      "\r",
      " 61%|███████████████████████████████████████████████████████▌                                   | 61/100 [1:00:45<38:50, 59.77s/it]"
     ]
    },
    {
     "name": "stdout",
     "output_type": "stream",
     "text": [
      "TRAIN: LOSS-->0.7814 (0.7814)\tACC-->81.250% (81.250%)\n",
      "TRAIN: 61 [0/4038 (0%)]\tLoss: 0.781408, Accuracy: 13/16 (81.250%)\n",
      "TRAIN: LOSS-->0.5382 (0.7732)\tACC-->81.250% (73.886%)\n",
      "TRAIN: 61 [1600/4038 (40%)]\tLoss: 0.538176, Accuracy: 13/16 (81.250%)\n",
      "TRAIN: LOSS-->1.2126 (0.7797)\tACC-->62.500% (72.886%)\n",
      "TRAIN: 61 [3200/4038 (79%)]\tLoss: 1.212572, Accuracy: 10/16 (62.500%)\n",
      "VAL:   LOSS--> 0.2113 (0.2113)\tACC-->93.750 (93.750)\n",
      " * Accuracy 90.730\n",
      "EARLY STOP\n"
     ]
    },
    {
     "name": "stderr",
     "output_type": "stream",
     "text": [
      "\r",
      " 62%|████████████████████████████████████████████████████████▍                                  | 62/100 [1:01:55<37:56, 59.92s/it]"
     ]
    },
    {
     "name": "stdout",
     "output_type": "stream",
     "text": [
      "TRAIN: LOSS-->1.2988 (1.2988)\tACC-->50.000% (50.000%)\n",
      "TRAIN: 62 [0/4038 (0%)]\tLoss: 1.298784, Accuracy: 8/16 (50.000%)\n",
      "TRAIN: LOSS-->0.7417 (0.7729)\tACC-->81.250% (74.010%)\n",
      "TRAIN: 62 [1600/4038 (40%)]\tLoss: 0.741743, Accuracy: 13/16 (81.250%)\n",
      "TRAIN: LOSS-->0.6259 (0.7466)\tACC-->81.250% (74.813%)\n",
      "TRAIN: 62 [3200/4038 (79%)]\tLoss: 0.625874, Accuracy: 13/16 (81.250%)\n",
      "VAL:   LOSS--> 0.2520 (0.2520)\tACC-->81.250 (81.250)\n",
      " * Accuracy 89.185\n"
     ]
    },
    {
     "name": "stderr",
     "output_type": "stream",
     "text": [
      "\r",
      " 63%|█████████████████████████████████████████████████████████▎                                 | 63/100 [1:02:56<36:57, 59.94s/it]"
     ]
    },
    {
     "name": "stdout",
     "output_type": "stream",
     "text": [
      "TRAIN: LOSS-->0.3757 (0.3757)\tACC-->93.750% (93.750%)\n",
      "TRAIN: 63 [0/4038 (0%)]\tLoss: 0.375733, Accuracy: 15/16 (93.750%)\n",
      "TRAIN: LOSS-->0.5736 (0.7471)\tACC-->75.000% (73.700%)\n",
      "TRAIN: 63 [1600/4038 (40%)]\tLoss: 0.573641, Accuracy: 12/16 (75.000%)\n",
      "TRAIN: LOSS-->0.8306 (0.7465)\tACC-->68.750% (74.502%)\n",
      "TRAIN: 63 [3200/4038 (79%)]\tLoss: 0.830578, Accuracy: 11/16 (68.750%)\n",
      "VAL:   LOSS--> 0.2259 (0.2259)\tACC-->87.500 (87.500)\n",
      " * Accuracy 91.433\n",
      "EARLY STOP\n"
     ]
    },
    {
     "name": "stderr",
     "output_type": "stream",
     "text": [
      "\r",
      " 64%|██████████████████████████████████████████████████████████▏                                | 64/100 [1:04:02<36:01, 60.03s/it]"
     ]
    },
    {
     "name": "stdout",
     "output_type": "stream",
     "text": [
      "TRAIN: LOSS-->0.4702 (0.4702)\tACC-->87.500% (87.500%)\n",
      "TRAIN: 64 [0/4038 (0%)]\tLoss: 0.470214, Accuracy: 14/16 (87.500%)\n",
      "TRAIN: LOSS-->0.7080 (0.7425)\tACC-->75.000% (75.062%)\n",
      "TRAIN: 64 [1600/4038 (40%)]\tLoss: 0.708001, Accuracy: 12/16 (75.000%)\n",
      "TRAIN: LOSS-->0.3276 (0.7563)\tACC-->93.750% (75.373%)\n",
      "TRAIN: 64 [3200/4038 (79%)]\tLoss: 0.327640, Accuracy: 15/16 (93.750%)\n",
      "VAL:   LOSS--> 0.1408 (0.1408)\tACC-->100.000 (100.000)\n",
      " * Accuracy 91.994\n",
      "EARLY STOP\n"
     ]
    },
    {
     "name": "stderr",
     "output_type": "stream",
     "text": [
      "\r",
      " 65%|███████████████████████████████████████████████████████████▏                               | 65/100 [1:05:07<35:04, 60.12s/it]"
     ]
    },
    {
     "name": "stdout",
     "output_type": "stream",
     "text": [
      "TRAIN: LOSS-->0.7173 (0.7173)\tACC-->75.000% (75.000%)\n",
      "TRAIN: 65 [0/4038 (0%)]\tLoss: 0.717347, Accuracy: 12/16 (75.000%)\n",
      "TRAIN: LOSS-->0.5531 (0.7209)\tACC-->87.500% (75.990%)\n",
      "TRAIN: 65 [1600/4038 (40%)]\tLoss: 0.553063, Accuracy: 14/16 (87.500%)\n",
      "TRAIN: LOSS-->0.8806 (0.7119)\tACC-->75.000% (76.182%)\n",
      "TRAIN: 65 [3200/4038 (79%)]\tLoss: 0.880599, Accuracy: 12/16 (75.000%)\n",
      "VAL:   LOSS--> 0.5163 (0.5163)\tACC-->81.250 (81.250)\n",
      " * Accuracy 89.185\n"
     ]
    },
    {
     "name": "stderr",
     "output_type": "stream",
     "text": [
      "\r",
      " 66%|████████████████████████████████████████████████████████████                               | 66/100 [1:06:11<34:05, 60.17s/it]"
     ]
    },
    {
     "name": "stdout",
     "output_type": "stream",
     "text": [
      "TRAIN: LOSS-->0.4919 (0.4919)\tACC-->87.500% (87.500%)\n",
      "TRAIN: 66 [0/4038 (0%)]\tLoss: 0.491921, Accuracy: 14/16 (87.500%)\n",
      "TRAIN: LOSS-->0.2486 (0.7536)\tACC-->100.000% (73.886%)\n",
      "TRAIN: 66 [1600/4038 (40%)]\tLoss: 0.248591, Accuracy: 16/16 (100.000%)\n",
      "TRAIN: LOSS-->0.9330 (0.7573)\tACC-->68.750% (73.881%)\n",
      "TRAIN: 66 [3200/4038 (79%)]\tLoss: 0.933006, Accuracy: 11/16 (68.750%)\n",
      "VAL:   LOSS--> 0.2123 (0.2123)\tACC-->93.750 (93.750)\n",
      " * Accuracy 91.011\n",
      "EARLY STOP\n"
     ]
    },
    {
     "name": "stderr",
     "output_type": "stream",
     "text": [
      "\r",
      " 67%|████████████████████████████████████████████████████████████▉                              | 67/100 [1:07:17<33:08, 60.26s/it]"
     ]
    },
    {
     "name": "stdout",
     "output_type": "stream",
     "text": [
      "TRAIN: LOSS-->0.4423 (0.4423)\tACC-->87.500% (87.500%)\n",
      "TRAIN: 67 [0/4038 (0%)]\tLoss: 0.442259, Accuracy: 14/16 (87.500%)\n",
      "TRAIN: LOSS-->0.5946 (0.7151)\tACC-->68.750% (76.052%)\n",
      "TRAIN: 67 [1600/4038 (40%)]\tLoss: 0.594611, Accuracy: 11/16 (68.750%)\n",
      "TRAIN: LOSS-->0.9132 (0.7709)\tACC-->62.500% (74.160%)\n",
      "TRAIN: 67 [3200/4038 (79%)]\tLoss: 0.913166, Accuracy: 10/16 (62.500%)\n",
      "VAL:   LOSS--> 0.5682 (0.5682)\tACC-->75.000 (75.000)\n",
      " * Accuracy 91.994\n",
      "EARLY STOP\n"
     ]
    },
    {
     "name": "stderr",
     "output_type": "stream",
     "text": [
      "\r",
      " 68%|█████████████████████████████████████████████████████████████▉                             | 68/100 [1:08:24<32:11, 60.37s/it]"
     ]
    },
    {
     "name": "stdout",
     "output_type": "stream",
     "text": [
      "TRAIN: LOSS-->0.7412 (0.7412)\tACC-->68.750% (68.750%)\n",
      "TRAIN: 68 [0/4038 (0%)]\tLoss: 0.741227, Accuracy: 11/16 (68.750%)\n",
      "TRAIN: LOSS-->0.3837 (0.7382)\tACC-->81.250% (73.391%)\n",
      "TRAIN: 68 [1600/4038 (40%)]\tLoss: 0.383696, Accuracy: 13/16 (81.250%)\n",
      "TRAIN: LOSS-->0.5409 (0.7310)\tACC-->75.000% (73.694%)\n",
      "TRAIN: 68 [3200/4038 (79%)]\tLoss: 0.540949, Accuracy: 12/16 (75.000%)\n",
      "VAL:   LOSS--> 0.2026 (0.2026)\tACC-->81.250 (81.250)\n",
      " * Accuracy 91.713\n",
      "EARLY STOP\n"
     ]
    },
    {
     "name": "stderr",
     "output_type": "stream",
     "text": [
      "\r",
      " 69%|██████████████████████████████████████████████████████████████▊                            | 69/100 [1:09:32<31:14, 60.47s/it]"
     ]
    },
    {
     "name": "stdout",
     "output_type": "stream",
     "text": [
      "TRAIN: LOSS-->0.5286 (0.5286)\tACC-->87.500% (87.500%)\n",
      "TRAIN: 69 [0/4038 (0%)]\tLoss: 0.528647, Accuracy: 14/16 (87.500%)\n",
      "TRAIN: LOSS-->1.0887 (0.6893)\tACC-->62.500% (76.176%)\n",
      "TRAIN: 69 [1600/4038 (40%)]\tLoss: 1.088702, Accuracy: 10/16 (62.500%)\n",
      "TRAIN: LOSS-->0.8823 (0.6887)\tACC-->62.500% (76.119%)\n",
      "TRAIN: 69 [3200/4038 (79%)]\tLoss: 0.882303, Accuracy: 10/16 (62.500%)\n",
      "VAL:   LOSS--> 0.1388 (0.1388)\tACC-->100.000 (100.000)\n",
      " * Accuracy 91.011\n",
      "EARLY STOP\n"
     ]
    },
    {
     "name": "stderr",
     "output_type": "stream",
     "text": [
      "\r",
      " 70%|███████████████████████████████████████████████████████████████▋                           | 70/100 [1:10:47<30:20, 60.68s/it]"
     ]
    },
    {
     "name": "stdout",
     "output_type": "stream",
     "text": [
      "TRAIN: LOSS-->0.6934 (0.6934)\tACC-->75.000% (75.000%)\n",
      "TRAIN: 70 [0/4038 (0%)]\tLoss: 0.693441, Accuracy: 12/16 (75.000%)\n",
      "TRAIN: LOSS-->0.8610 (0.7328)\tACC-->68.750% (74.381%)\n",
      "TRAIN: 70 [1600/4038 (40%)]\tLoss: 0.861004, Accuracy: 11/16 (68.750%)\n",
      "TRAIN: LOSS-->0.7061 (0.7277)\tACC-->75.000% (74.969%)\n",
      "TRAIN: 70 [3200/4038 (79%)]\tLoss: 0.706088, Accuracy: 12/16 (75.000%)\n",
      "VAL:   LOSS--> 0.1650 (0.1650)\tACC-->100.000 (100.000)\n",
      " * Accuracy 91.713\n",
      "EARLY STOP\n"
     ]
    },
    {
     "name": "stderr",
     "output_type": "stream",
     "text": [
      "\r",
      " 71%|████████████████████████████████████████████████████████████████▌                          | 71/100 [1:11:57<29:23, 60.81s/it]"
     ]
    },
    {
     "name": "stdout",
     "output_type": "stream",
     "text": [
      "TRAIN: LOSS-->0.9152 (0.9152)\tACC-->75.000% (75.000%)\n",
      "TRAIN: 71 [0/4038 (0%)]\tLoss: 0.915207, Accuracy: 12/16 (75.000%)\n",
      "TRAIN: LOSS-->0.3742 (0.7144)\tACC-->81.250% (75.928%)\n",
      "TRAIN: 71 [1600/4038 (40%)]\tLoss: 0.374213, Accuracy: 13/16 (81.250%)\n",
      "TRAIN: LOSS-->1.1410 (0.7149)\tACC-->62.500% (75.715%)\n",
      "TRAIN: 71 [3200/4038 (79%)]\tLoss: 1.141047, Accuracy: 10/16 (62.500%)\n",
      "VAL:   LOSS--> 0.2333 (0.2333)\tACC-->87.500 (87.500)\n",
      " * Accuracy 89.185\n"
     ]
    },
    {
     "name": "stderr",
     "output_type": "stream",
     "text": [
      "\r",
      " 72%|█████████████████████████████████████████████████████████████████▌                         | 72/100 [1:13:02<28:24, 60.87s/it]"
     ]
    },
    {
     "name": "stdout",
     "output_type": "stream",
     "text": [
      "TRAIN: LOSS-->0.5135 (0.5135)\tACC-->81.250% (81.250%)\n",
      "TRAIN: 72 [0/4038 (0%)]\tLoss: 0.513453, Accuracy: 13/16 (81.250%)\n",
      "TRAIN: LOSS-->0.7836 (0.6913)\tACC-->75.000% (76.238%)\n",
      "TRAIN: 72 [1600/4038 (40%)]\tLoss: 0.783631, Accuracy: 12/16 (75.000%)\n",
      "TRAIN: LOSS-->0.8246 (0.6777)\tACC-->68.750% (76.275%)\n",
      "TRAIN: 72 [3200/4038 (79%)]\tLoss: 0.824624, Accuracy: 11/16 (68.750%)\n",
      "VAL:   LOSS--> 0.0803 (0.0803)\tACC-->100.000 (100.000)\n",
      " * Accuracy 91.854\n",
      "EARLY STOP\n"
     ]
    },
    {
     "name": "stderr",
     "output_type": "stream",
     "text": [
      "\r",
      " 73%|██████████████████████████████████████████████████████████████████▍                        | 73/100 [1:14:12<27:26, 60.99s/it]"
     ]
    },
    {
     "name": "stdout",
     "output_type": "stream",
     "text": [
      "TRAIN: LOSS-->0.5106 (0.5106)\tACC-->87.500% (87.500%)\n",
      "TRAIN: 73 [0/4038 (0%)]\tLoss: 0.510633, Accuracy: 14/16 (87.500%)\n",
      "TRAIN: LOSS-->0.6133 (0.7032)\tACC-->75.000% (75.619%)\n",
      "TRAIN: 73 [1600/4038 (40%)]\tLoss: 0.613292, Accuracy: 12/16 (75.000%)\n",
      "TRAIN: LOSS-->0.6274 (0.7054)\tACC-->87.500% (75.466%)\n",
      "TRAIN: 73 [3200/4038 (79%)]\tLoss: 0.627367, Accuracy: 14/16 (87.500%)\n",
      "VAL:   LOSS--> 0.1381 (0.1381)\tACC-->100.000 (100.000)\n",
      " * Accuracy 92.275\n",
      "EARLY STOP\n"
     ]
    },
    {
     "name": "stderr",
     "output_type": "stream",
     "text": [
      "\r",
      " 74%|███████████████████████████████████████████████████████████████████▎                       | 74/100 [1:15:25<26:29, 61.15s/it]"
     ]
    },
    {
     "name": "stdout",
     "output_type": "stream",
     "text": [
      "TRAIN: LOSS-->1.3037 (1.3037)\tACC-->68.750% (68.750%)\n",
      "TRAIN: 74 [0/4038 (0%)]\tLoss: 1.303656, Accuracy: 11/16 (68.750%)\n",
      "TRAIN: LOSS-->0.5665 (0.7128)\tACC-->81.250% (76.733%)\n",
      "TRAIN: 74 [1600/4038 (40%)]\tLoss: 0.566462, Accuracy: 13/16 (81.250%)\n",
      "TRAIN: LOSS-->0.9108 (0.6902)\tACC-->62.500% (76.866%)\n",
      "TRAIN: 74 [3200/4038 (79%)]\tLoss: 0.910817, Accuracy: 10/16 (62.500%)\n",
      "VAL:   LOSS--> 0.2146 (0.2146)\tACC-->87.500 (87.500)\n",
      " * Accuracy 91.433\n",
      "EARLY STOP\n"
     ]
    },
    {
     "name": "stderr",
     "output_type": "stream",
     "text": [
      "\r",
      " 75%|████████████████████████████████████████████████████████████████████▎                      | 75/100 [1:16:39<25:33, 61.32s/it]"
     ]
    },
    {
     "name": "stdout",
     "output_type": "stream",
     "text": [
      "TRAIN: LOSS-->0.7171 (0.7171)\tACC-->81.250% (81.250%)\n",
      "TRAIN: 75 [0/4038 (0%)]\tLoss: 0.717138, Accuracy: 13/16 (81.250%)\n",
      "TRAIN: LOSS-->0.9238 (0.7159)\tACC-->56.250% (74.752%)\n",
      "TRAIN: 75 [1600/4038 (40%)]\tLoss: 0.923770, Accuracy: 9/16 (56.250%)\n",
      "TRAIN: LOSS-->0.7187 (0.7198)\tACC-->68.750% (74.689%)\n",
      "TRAIN: 75 [3200/4038 (79%)]\tLoss: 0.718714, Accuracy: 11/16 (68.750%)\n",
      "VAL:   LOSS--> 0.1547 (0.1547)\tACC-->100.000 (100.000)\n",
      " * Accuracy 93.820\n",
      "EARLY STOP\n"
     ]
    },
    {
     "name": "stderr",
     "output_type": "stream",
     "text": [
      "\r",
      " 76%|█████████████████████████████████████████████████████████████████████▏                     | 76/100 [1:17:53<24:35, 61.49s/it]"
     ]
    },
    {
     "name": "stdout",
     "output_type": "stream",
     "text": [
      "TRAIN: LOSS-->0.8327 (0.8327)\tACC-->81.250% (81.250%)\n",
      "TRAIN: 76 [0/4038 (0%)]\tLoss: 0.832713, Accuracy: 13/16 (81.250%)\n",
      "TRAIN: LOSS-->0.7543 (0.6964)\tACC-->75.000% (76.238%)\n",
      "TRAIN: 76 [1600/4038 (40%)]\tLoss: 0.754314, Accuracy: 12/16 (75.000%)\n",
      "TRAIN: LOSS-->0.3451 (0.6909)\tACC-->93.750% (75.964%)\n",
      "TRAIN: 76 [3200/4038 (79%)]\tLoss: 0.345065, Accuracy: 15/16 (93.750%)\n",
      "VAL:   LOSS--> 0.6503 (0.6503)\tACC-->87.500 (87.500)\n",
      " * Accuracy 90.730\n",
      "EARLY STOP\n"
     ]
    },
    {
     "name": "stderr",
     "output_type": "stream",
     "text": [
      "\r",
      " 77%|██████████████████████████████████████████████████████████████████████                     | 77/100 [1:19:06<23:37, 61.64s/it]"
     ]
    },
    {
     "name": "stdout",
     "output_type": "stream",
     "text": [
      "TRAIN: LOSS-->0.3747 (0.3747)\tACC-->87.500% (87.500%)\n",
      "TRAIN: 77 [0/4038 (0%)]\tLoss: 0.374687, Accuracy: 14/16 (87.500%)\n",
      "TRAIN: LOSS-->0.8851 (0.7199)\tACC-->56.250% (75.309%)\n",
      "TRAIN: 77 [1600/4038 (40%)]\tLoss: 0.885097, Accuracy: 9/16 (56.250%)\n",
      "TRAIN: LOSS-->1.2946 (0.6924)\tACC-->62.500% (76.182%)\n",
      "TRAIN: 77 [3200/4038 (79%)]\tLoss: 1.294573, Accuracy: 10/16 (62.500%)\n",
      "VAL:   LOSS--> 0.2194 (0.2194)\tACC-->87.500 (87.500)\n",
      " * Accuracy 92.275\n",
      "EARLY STOP\n"
     ]
    },
    {
     "name": "stderr",
     "output_type": "stream",
     "text": [
      "\r",
      " 78%|██████████████████████████████████████████████████████████████████████▉                    | 78/100 [1:20:18<22:39, 61.78s/it]"
     ]
    },
    {
     "name": "stdout",
     "output_type": "stream",
     "text": [
      "TRAIN: LOSS-->0.7257 (0.7257)\tACC-->68.750% (68.750%)\n",
      "TRAIN: 78 [0/4038 (0%)]\tLoss: 0.725652, Accuracy: 11/16 (68.750%)\n",
      "TRAIN: LOSS-->0.5000 (0.7036)\tACC-->75.000% (76.733%)\n",
      "TRAIN: 78 [1600/4038 (40%)]\tLoss: 0.499954, Accuracy: 12/16 (75.000%)\n",
      "TRAIN: LOSS-->0.3038 (0.6961)\tACC-->100.000% (76.430%)\n",
      "TRAIN: 78 [3200/4038 (79%)]\tLoss: 0.303821, Accuracy: 16/16 (100.000%)\n",
      "VAL:   LOSS--> 0.3622 (0.3622)\tACC-->87.500 (87.500)\n",
      " * Accuracy 92.978\n",
      "EARLY STOP\n"
     ]
    },
    {
     "name": "stderr",
     "output_type": "stream",
     "text": [
      "\r",
      " 79%|███████████████████████████████████████████████████████████████████████▉                   | 79/100 [1:21:32<21:40, 61.93s/it]"
     ]
    },
    {
     "name": "stdout",
     "output_type": "stream",
     "text": [
      "TRAIN: LOSS-->0.3274 (0.3274)\tACC-->93.750% (93.750%)\n",
      "TRAIN: 79 [0/4038 (0%)]\tLoss: 0.327423, Accuracy: 15/16 (93.750%)\n",
      "TRAIN: LOSS-->0.3499 (0.7075)\tACC-->81.250% (75.124%)\n",
      "TRAIN: 79 [1600/4038 (40%)]\tLoss: 0.349935, Accuracy: 13/16 (81.250%)\n",
      "TRAIN: LOSS-->0.6712 (0.6931)\tACC-->75.000% (76.182%)\n",
      "TRAIN: 79 [3200/4038 (79%)]\tLoss: 0.671182, Accuracy: 12/16 (75.000%)\n",
      "VAL:   LOSS--> 0.1468 (0.1468)\tACC-->93.750 (93.750)\n",
      " * Accuracy 93.118\n",
      "EARLY STOP\n"
     ]
    },
    {
     "name": "stderr",
     "output_type": "stream",
     "text": [
      "\r",
      " 80%|████████████████████████████████████████████████████████████████████████▊                  | 80/100 [1:22:44<20:41, 62.06s/it]"
     ]
    },
    {
     "name": "stdout",
     "output_type": "stream",
     "text": [
      "TRAIN: LOSS-->0.7481 (0.7481)\tACC-->87.500% (87.500%)\n",
      "TRAIN: 80 [0/4038 (0%)]\tLoss: 0.748129, Accuracy: 14/16 (87.500%)\n",
      "TRAIN: LOSS-->0.3855 (0.6622)\tACC-->87.500% (77.661%)\n",
      "TRAIN: 80 [1600/4038 (40%)]\tLoss: 0.385487, Accuracy: 14/16 (87.500%)\n",
      "TRAIN: LOSS-->0.7998 (0.6701)\tACC-->68.750% (77.674%)\n",
      "TRAIN: 80 [3200/4038 (79%)]\tLoss: 0.799824, Accuracy: 11/16 (68.750%)\n",
      "VAL:   LOSS--> 0.0619 (0.0619)\tACC-->100.000 (100.000)\n",
      " * Accuracy 92.697\n",
      "EARLY STOP\n"
     ]
    },
    {
     "name": "stderr",
     "output_type": "stream",
     "text": [
      "\r",
      " 81%|█████████████████████████████████████████████████████████████████████████▋                 | 81/100 [1:23:55<19:41, 62.16s/it]"
     ]
    },
    {
     "name": "stdout",
     "output_type": "stream",
     "text": [
      "TRAIN: LOSS-->1.0233 (1.0233)\tACC-->68.750% (68.750%)\n",
      "TRAIN: 81 [0/4038 (0%)]\tLoss: 1.023329, Accuracy: 11/16 (68.750%)\n",
      "TRAIN: LOSS-->0.6610 (0.6549)\tACC-->75.000% (77.475%)\n",
      "TRAIN: 81 [1600/4038 (40%)]\tLoss: 0.661044, Accuracy: 12/16 (75.000%)\n",
      "TRAIN: LOSS-->1.0812 (0.6444)\tACC-->81.250% (77.519%)\n",
      "TRAIN: 81 [3200/4038 (79%)]\tLoss: 1.081223, Accuracy: 13/16 (81.250%)\n",
      "VAL:   LOSS--> 0.2332 (0.2332)\tACC-->93.750 (93.750)\n",
      " * Accuracy 90.590\n",
      "EARLY STOP\n"
     ]
    },
    {
     "name": "stderr",
     "output_type": "stream",
     "text": [
      "\r",
      " 82%|██████████████████████████████████████████████████████████████████████████▌                | 82/100 [1:25:10<18:41, 62.33s/it]"
     ]
    },
    {
     "name": "stdout",
     "output_type": "stream",
     "text": [
      "TRAIN: LOSS-->0.8408 (0.8408)\tACC-->68.750% (68.750%)\n",
      "TRAIN: 82 [0/4038 (0%)]\tLoss: 0.840751, Accuracy: 11/16 (68.750%)\n",
      "TRAIN: LOSS-->0.6038 (0.6386)\tACC-->81.250% (78.342%)\n",
      "TRAIN: 82 [1600/4038 (40%)]\tLoss: 0.603843, Accuracy: 13/16 (81.250%)\n",
      "TRAIN: LOSS-->0.7820 (0.6663)\tACC-->68.750% (76.928%)\n",
      "TRAIN: 82 [3200/4038 (79%)]\tLoss: 0.782038, Accuracy: 11/16 (68.750%)\n",
      "VAL:   LOSS--> 0.1734 (0.1734)\tACC-->93.750 (93.750)\n",
      " * Accuracy 91.152\n",
      "EARLY STOP\n"
     ]
    },
    {
     "name": "stderr",
     "output_type": "stream",
     "text": [
      "\r",
      " 83%|███████████████████████████████████████████████████████████████████████████▌               | 83/100 [1:26:19<17:40, 62.40s/it]"
     ]
    },
    {
     "name": "stdout",
     "output_type": "stream",
     "text": [
      "TRAIN: LOSS-->0.8113 (0.8113)\tACC-->68.750% (68.750%)\n",
      "TRAIN: 83 [0/4038 (0%)]\tLoss: 0.811318, Accuracy: 11/16 (68.750%)\n",
      "TRAIN: LOSS-->1.0257 (0.6591)\tACC-->62.500% (76.671%)\n",
      "TRAIN: 83 [1600/4038 (40%)]\tLoss: 1.025682, Accuracy: 10/16 (62.500%)\n",
      "TRAIN: LOSS-->0.2940 (0.6848)\tACC-->87.500% (76.057%)\n",
      "TRAIN: 83 [3200/4038 (79%)]\tLoss: 0.293965, Accuracy: 14/16 (87.500%)\n",
      "VAL:   LOSS--> 0.1590 (0.1590)\tACC-->93.750 (93.750)\n",
      " * Accuracy 94.101\n",
      "EARLY STOP\n"
     ]
    },
    {
     "name": "stderr",
     "output_type": "stream",
     "text": [
      "\r",
      " 84%|████████████████████████████████████████████████████████████████████████████▍              | 84/100 [1:27:26<16:39, 62.46s/it]"
     ]
    },
    {
     "name": "stdout",
     "output_type": "stream",
     "text": [
      "TRAIN: LOSS-->0.7929 (0.7929)\tACC-->62.500% (62.500%)\n",
      "TRAIN: 84 [0/4038 (0%)]\tLoss: 0.792860, Accuracy: 10/16 (62.500%)\n",
      "TRAIN: LOSS-->0.5553 (0.6835)\tACC-->81.250% (76.609%)\n",
      "TRAIN: 84 [1600/4038 (40%)]\tLoss: 0.555331, Accuracy: 13/16 (81.250%)\n",
      "TRAIN: LOSS-->0.5964 (0.6461)\tACC-->87.500% (77.736%)\n",
      "TRAIN: 84 [3200/4038 (79%)]\tLoss: 0.596407, Accuracy: 14/16 (87.500%)\n",
      "VAL:   LOSS--> 0.3114 (0.3114)\tACC-->93.750 (93.750)\n",
      " * Accuracy 92.978\n",
      "EARLY STOP\n"
     ]
    },
    {
     "name": "stderr",
     "output_type": "stream",
     "text": [
      "\r",
      " 85%|█████████████████████████████████████████████████████████████████████████████▎             | 85/100 [1:28:36<15:38, 62.55s/it]"
     ]
    },
    {
     "name": "stdout",
     "output_type": "stream",
     "text": [
      "TRAIN: LOSS-->0.6675 (0.6675)\tACC-->75.000% (75.000%)\n",
      "TRAIN: 85 [0/4038 (0%)]\tLoss: 0.667501, Accuracy: 12/16 (75.000%)\n",
      "TRAIN: LOSS-->1.3017 (0.6203)\tACC-->50.000% (78.280%)\n",
      "TRAIN: 85 [1600/4038 (40%)]\tLoss: 1.301717, Accuracy: 8/16 (50.000%)\n",
      "TRAIN: LOSS-->0.5823 (0.6396)\tACC-->68.750% (77.114%)\n",
      "TRAIN: 85 [3200/4038 (79%)]\tLoss: 0.582263, Accuracy: 11/16 (68.750%)\n",
      "VAL:   LOSS--> 0.1340 (0.1340)\tACC-->93.750 (93.750)\n",
      " * Accuracy 83.146\n"
     ]
    },
    {
     "name": "stderr",
     "output_type": "stream",
     "text": [
      "\r",
      " 86%|██████████████████████████████████████████████████████████████████████████████▎            | 86/100 [1:29:48<14:37, 62.65s/it]"
     ]
    },
    {
     "name": "stdout",
     "output_type": "stream",
     "text": [
      "TRAIN: LOSS-->0.5651 (0.5651)\tACC-->93.750% (93.750%)\n",
      "TRAIN: 86 [0/4038 (0%)]\tLoss: 0.565089, Accuracy: 15/16 (93.750%)\n",
      "TRAIN: LOSS-->0.8059 (0.6706)\tACC-->62.500% (76.856%)\n",
      "TRAIN: 86 [1600/4038 (40%)]\tLoss: 0.805868, Accuracy: 10/16 (62.500%)\n",
      "TRAIN: LOSS-->0.5618 (0.6627)\tACC-->87.500% (77.208%)\n",
      "TRAIN: 86 [3200/4038 (79%)]\tLoss: 0.561824, Accuracy: 14/16 (87.500%)\n",
      "VAL:   LOSS--> 0.2125 (0.2125)\tACC-->93.750 (93.750)\n",
      " * Accuracy 93.539\n",
      "EARLY STOP\n"
     ]
    },
    {
     "name": "stderr",
     "output_type": "stream",
     "text": [
      "\r",
      " 87%|███████████████████████████████████████████████████████████████████████████████▏           | 87/100 [1:30:59<13:35, 62.76s/it]"
     ]
    },
    {
     "name": "stdout",
     "output_type": "stream",
     "text": [
      "TRAIN: LOSS-->0.5468 (0.5468)\tACC-->87.500% (87.500%)\n",
      "TRAIN: 87 [0/4038 (0%)]\tLoss: 0.546774, Accuracy: 14/16 (87.500%)\n",
      "TRAIN: LOSS-->0.7513 (0.6733)\tACC-->68.750% (76.733%)\n",
      "TRAIN: 87 [1600/4038 (40%)]\tLoss: 0.751299, Accuracy: 11/16 (68.750%)\n",
      "TRAIN: LOSS-->0.4008 (0.6844)\tACC-->93.750% (75.995%)\n",
      "TRAIN: 87 [3200/4038 (79%)]\tLoss: 0.400795, Accuracy: 15/16 (93.750%)\n",
      "VAL:   LOSS--> 0.3158 (0.3158)\tACC-->81.250 (81.250)\n",
      " * Accuracy 91.994\n",
      "EARLY STOP\n"
     ]
    },
    {
     "name": "stderr",
     "output_type": "stream",
     "text": [
      "\r",
      " 88%|████████████████████████████████████████████████████████████████████████████████           | 88/100 [1:32:09<12:34, 62.83s/it]"
     ]
    },
    {
     "name": "stdout",
     "output_type": "stream",
     "text": [
      "TRAIN: LOSS-->0.7167 (0.7167)\tACC-->68.750% (68.750%)\n",
      "TRAIN: 88 [0/4038 (0%)]\tLoss: 0.716657, Accuracy: 11/16 (68.750%)\n",
      "TRAIN: LOSS-->0.3774 (0.6310)\tACC-->81.250% (77.290%)\n",
      "TRAIN: 88 [1600/4038 (40%)]\tLoss: 0.377403, Accuracy: 13/16 (81.250%)\n",
      "TRAIN: LOSS-->0.7491 (0.6356)\tACC-->81.250% (77.892%)\n",
      "TRAIN: 88 [3200/4038 (79%)]\tLoss: 0.749133, Accuracy: 13/16 (81.250%)\n",
      "VAL:   LOSS--> 0.1020 (0.1020)\tACC-->93.750 (93.750)\n",
      " * Accuracy 91.573\n",
      "EARLY STOP\n"
     ]
    },
    {
     "name": "stderr",
     "output_type": "stream",
     "text": [
      "\r",
      " 89%|████████████████████████████████████████████████████████████████████████████████▉          | 89/100 [1:33:20<11:32, 62.93s/it]"
     ]
    },
    {
     "name": "stdout",
     "output_type": "stream",
     "text": [
      "TRAIN: LOSS-->0.4493 (0.4493)\tACC-->87.500% (87.500%)\n",
      "TRAIN: 89 [0/4038 (0%)]\tLoss: 0.449253, Accuracy: 14/16 (87.500%)\n",
      "TRAIN: LOSS-->0.6366 (0.6577)\tACC-->81.250% (76.671%)\n",
      "TRAIN: 89 [1600/4038 (40%)]\tLoss: 0.636633, Accuracy: 13/16 (81.250%)\n",
      "TRAIN: LOSS-->1.3711 (0.6720)\tACC-->62.500% (76.493%)\n",
      "TRAIN: 89 [3200/4038 (79%)]\tLoss: 1.371077, Accuracy: 10/16 (62.500%)\n",
      "VAL:   LOSS--> 0.2903 (0.2903)\tACC-->87.500 (87.500)\n",
      " * Accuracy 93.961\n",
      "EARLY STOP\n"
     ]
    },
    {
     "name": "stderr",
     "output_type": "stream",
     "text": [
      "\r",
      " 90%|█████████████████████████████████████████████████████████████████████████████████▉         | 90/100 [1:34:26<10:29, 62.96s/it]"
     ]
    },
    {
     "name": "stdout",
     "output_type": "stream",
     "text": [
      "TRAIN: LOSS-->0.5621 (0.5621)\tACC-->87.500% (87.500%)\n",
      "TRAIN: 90 [0/4038 (0%)]\tLoss: 0.562145, Accuracy: 14/16 (87.500%)\n",
      "TRAIN: LOSS-->0.8365 (0.6487)\tACC-->75.000% (76.547%)\n",
      "TRAIN: 90 [1600/4038 (40%)]\tLoss: 0.836497, Accuracy: 12/16 (75.000%)\n",
      "TRAIN: LOSS-->0.4116 (0.6749)\tACC-->75.000% (75.560%)\n",
      "TRAIN: 90 [3200/4038 (79%)]\tLoss: 0.411629, Accuracy: 12/16 (75.000%)\n",
      "VAL:   LOSS--> 0.3246 (0.3246)\tACC-->81.250 (81.250)\n",
      " * Accuracy 93.539\n",
      "EARLY STOP\n"
     ]
    },
    {
     "name": "stderr",
     "output_type": "stream",
     "text": [
      "\r",
      " 91%|██████████████████████████████████████████████████████████████████████████████████▊        | 91/100 [1:35:38<09:27, 63.06s/it]"
     ]
    },
    {
     "name": "stdout",
     "output_type": "stream",
     "text": [
      "TRAIN: LOSS-->0.7575 (0.7575)\tACC-->81.250% (81.250%)\n",
      "TRAIN: 91 [0/4038 (0%)]\tLoss: 0.757455, Accuracy: 13/16 (81.250%)\n",
      "TRAIN: LOSS-->0.5819 (0.7026)\tACC-->68.750% (76.238%)\n",
      "TRAIN: 91 [1600/4038 (40%)]\tLoss: 0.581884, Accuracy: 11/16 (68.750%)\n",
      "TRAIN: LOSS-->0.8096 (0.6779)\tACC-->68.750% (76.928%)\n",
      "TRAIN: 91 [3200/4038 (79%)]\tLoss: 0.809601, Accuracy: 11/16 (68.750%)\n",
      "VAL:   LOSS--> 0.2012 (0.2012)\tACC-->87.500 (87.500)\n",
      " * Accuracy 88.483\n"
     ]
    },
    {
     "name": "stderr",
     "output_type": "stream",
     "text": [
      "\r",
      " 92%|███████████████████████████████████████████████████████████████████████████████████▋       | 92/100 [1:36:42<08:24, 63.07s/it]"
     ]
    },
    {
     "name": "stdout",
     "output_type": "stream",
     "text": [
      "TRAIN: LOSS-->0.5633 (0.5633)\tACC-->75.000% (75.000%)\n",
      "TRAIN: 92 [0/4038 (0%)]\tLoss: 0.563285, Accuracy: 12/16 (75.000%)\n",
      "TRAIN: LOSS-->0.3339 (0.6568)\tACC-->87.500% (77.599%)\n",
      "TRAIN: 92 [1600/4038 (40%)]\tLoss: 0.333905, Accuracy: 14/16 (87.500%)\n",
      "TRAIN: LOSS-->0.7591 (0.6283)\tACC-->81.250% (78.265%)\n",
      "TRAIN: 92 [3200/4038 (79%)]\tLoss: 0.759120, Accuracy: 13/16 (81.250%)\n",
      "VAL:   LOSS--> 0.1429 (0.1429)\tACC-->93.750 (93.750)\n",
      " * Accuracy 91.854\n",
      "EARLY STOP\n"
     ]
    },
    {
     "name": "stderr",
     "output_type": "stream",
     "text": [
      "\r",
      " 93%|████████████████████████████████████████████████████████████████████████████████████▋      | 93/100 [1:37:45<07:21, 63.07s/it]"
     ]
    },
    {
     "name": "stdout",
     "output_type": "stream",
     "text": [
      "TRAIN: LOSS-->0.4180 (0.4180)\tACC-->87.500% (87.500%)\n",
      "TRAIN: 93 [0/4038 (0%)]\tLoss: 0.418042, Accuracy: 14/16 (87.500%)\n",
      "TRAIN: LOSS-->0.3987 (0.6740)\tACC-->81.250% (78.156%)\n",
      "TRAIN: 93 [1600/4038 (40%)]\tLoss: 0.398662, Accuracy: 13/16 (81.250%)\n",
      "TRAIN: LOSS-->0.5034 (0.6598)\tACC-->81.250% (77.830%)\n",
      "TRAIN: 93 [3200/4038 (79%)]\tLoss: 0.503398, Accuracy: 13/16 (81.250%)\n",
      "VAL:   LOSS--> 0.1415 (0.1415)\tACC-->93.750 (93.750)\n",
      " * Accuracy 92.275\n",
      "EARLY STOP\n"
     ]
    },
    {
     "name": "stderr",
     "output_type": "stream",
     "text": [
      "\r",
      " 94%|█████████████████████████████████████████████████████████████████████████████████████▌     | 94/100 [1:38:52<06:18, 63.12s/it]"
     ]
    },
    {
     "name": "stdout",
     "output_type": "stream",
     "text": [
      "TRAIN: LOSS-->0.6699 (0.6699)\tACC-->75.000% (75.000%)\n",
      "TRAIN: 94 [0/4038 (0%)]\tLoss: 0.669890, Accuracy: 12/16 (75.000%)\n",
      "TRAIN: LOSS-->0.2341 (0.6309)\tACC-->93.750% (78.094%)\n",
      "TRAIN: 94 [1600/4038 (40%)]\tLoss: 0.234079, Accuracy: 15/16 (93.750%)\n",
      "TRAIN: LOSS-->0.7528 (0.6409)\tACC-->68.750% (78.109%)\n",
      "TRAIN: 94 [3200/4038 (79%)]\tLoss: 0.752822, Accuracy: 11/16 (68.750%)\n",
      "VAL:   LOSS--> 0.2187 (0.2187)\tACC-->93.750 (93.750)\n",
      " * Accuracy 93.258\n",
      "EARLY STOP\n"
     ]
    },
    {
     "name": "stderr",
     "output_type": "stream",
     "text": [
      "\r",
      " 95%|██████████████████████████████████████████████████████████████████████████████████████▍    | 95/100 [1:40:02<05:15, 63.18s/it]"
     ]
    },
    {
     "name": "stdout",
     "output_type": "stream",
     "text": [
      "TRAIN: LOSS-->0.2217 (0.2217)\tACC-->93.750% (93.750%)\n",
      "TRAIN: 95 [0/4038 (0%)]\tLoss: 0.221700, Accuracy: 15/16 (93.750%)\n",
      "TRAIN: LOSS-->0.6934 (0.6262)\tACC-->68.750% (77.042%)\n",
      "TRAIN: 95 [1600/4038 (40%)]\tLoss: 0.693370, Accuracy: 11/16 (68.750%)\n",
      "TRAIN: LOSS-->0.9105 (0.6696)\tACC-->62.500% (76.182%)\n",
      "TRAIN: 95 [3200/4038 (79%)]\tLoss: 0.910518, Accuracy: 10/16 (62.500%)\n",
      "VAL:   LOSS--> 0.1587 (0.1587)\tACC-->93.750 (93.750)\n",
      " * Accuracy 91.994\n",
      "EARLY STOP\n"
     ]
    },
    {
     "name": "stderr",
     "output_type": "stream",
     "text": [
      "\r",
      " 96%|███████████████████████████████████████████████████████████████████████████████████████▎   | 96/100 [1:41:06<04:12, 63.19s/it]"
     ]
    },
    {
     "name": "stdout",
     "output_type": "stream",
     "text": [
      "TRAIN: LOSS-->0.6996 (0.6996)\tACC-->81.250% (81.250%)\n",
      "TRAIN: 96 [0/4038 (0%)]\tLoss: 0.699560, Accuracy: 13/16 (81.250%)\n",
      "TRAIN: LOSS-->0.4050 (0.6129)\tACC-->93.750% (79.455%)\n",
      "TRAIN: 96 [1600/4038 (40%)]\tLoss: 0.404974, Accuracy: 15/16 (93.750%)\n",
      "TRAIN: LOSS-->0.5373 (0.6297)\tACC-->81.250% (78.420%)\n",
      "TRAIN: 96 [3200/4038 (79%)]\tLoss: 0.537280, Accuracy: 13/16 (81.250%)\n",
      "VAL:   LOSS--> 0.3561 (0.3561)\tACC-->87.500 (87.500)\n",
      " * Accuracy 91.994\n",
      "EARLY STOP\n"
     ]
    },
    {
     "name": "stderr",
     "output_type": "stream",
     "text": [
      "\r",
      " 97%|████████████████████████████████████████████████████████████████████████████████████████▎  | 97/100 [1:42:08<03:09, 63.18s/it]"
     ]
    },
    {
     "name": "stdout",
     "output_type": "stream",
     "text": [
      "TRAIN: LOSS-->1.0752 (1.0752)\tACC-->75.000% (75.000%)\n",
      "TRAIN: 97 [0/4038 (0%)]\tLoss: 1.075181, Accuracy: 12/16 (75.000%)\n",
      "TRAIN: LOSS-->0.4874 (0.6450)\tACC-->81.250% (77.537%)\n",
      "TRAIN: 97 [1600/4038 (40%)]\tLoss: 0.487364, Accuracy: 13/16 (81.250%)\n",
      "TRAIN: LOSS-->0.5338 (0.6285)\tACC-->75.000% (77.923%)\n",
      "TRAIN: 97 [3200/4038 (79%)]\tLoss: 0.533838, Accuracy: 12/16 (75.000%)\n",
      "VAL:   LOSS--> 0.0666 (0.0666)\tACC-->100.000 (100.000)\n",
      " * Accuracy 93.680\n",
      "EARLY STOP\n"
     ]
    },
    {
     "name": "stderr",
     "output_type": "stream",
     "text": [
      "\r",
      " 98%|█████████████████████████████████████████████████████████████████████████████████████████▏ | 98/100 [1:43:10<02:06, 63.17s/it]"
     ]
    },
    {
     "name": "stdout",
     "output_type": "stream",
     "text": [
      "TRAIN: LOSS-->0.5213 (0.5213)\tACC-->81.250% (81.250%)\n",
      "TRAIN: 98 [0/4038 (0%)]\tLoss: 0.521296, Accuracy: 13/16 (81.250%)\n",
      "TRAIN: LOSS-->0.9502 (0.6697)\tACC-->56.250% (78.651%)\n",
      "TRAIN: 98 [1600/4038 (40%)]\tLoss: 0.950212, Accuracy: 9/16 (56.250%)\n",
      "TRAIN: LOSS-->0.4948 (0.6406)\tACC-->81.250% (78.700%)\n",
      "TRAIN: 98 [3200/4038 (79%)]\tLoss: 0.494757, Accuracy: 13/16 (81.250%)\n",
      "VAL:   LOSS--> 0.2865 (0.2865)\tACC-->87.500 (87.500)\n",
      " * Accuracy 92.837\n",
      "EARLY STOP\n"
     ]
    },
    {
     "name": "stderr",
     "output_type": "stream",
     "text": [
      "\r",
      " 99%|██████████████████████████████████████████████████████████████████████████████████████████ | 99/100 [1:44:14<01:03, 63.18s/it]"
     ]
    },
    {
     "name": "stdout",
     "output_type": "stream",
     "text": [
      "TRAIN: LOSS-->0.5363 (0.5363)\tACC-->81.250% (81.250%)\n",
      "TRAIN: 99 [0/4038 (0%)]\tLoss: 0.536270, Accuracy: 13/16 (81.250%)\n",
      "TRAIN: LOSS-->0.4761 (0.6571)\tACC-->75.000% (76.547%)\n",
      "TRAIN: 99 [1600/4038 (40%)]\tLoss: 0.476098, Accuracy: 12/16 (75.000%)\n",
      "TRAIN: LOSS-->0.5330 (0.6535)\tACC-->81.250% (76.897%)\n",
      "TRAIN: 99 [3200/4038 (79%)]\tLoss: 0.533005, Accuracy: 13/16 (81.250%)\n",
      "VAL:   LOSS--> 0.1156 (0.1156)\tACC-->100.000 (100.000)\n",
      " * Accuracy 94.101\n",
      "EARLY STOP\n"
     ]
    },
    {
     "name": "stderr",
     "output_type": "stream",
     "text": [
      "100%|██████████████████████████████████████████████████████████████████████████████████████████| 100/100 [1:45:24<00:00, 63.25s/it]\n"
     ]
    }
   ],
   "source": [
    "sample_submission = pd.read_csv(data_dir + 'sample_submission.csv')\n",
    "sample_submission.columns = ['file', 'species']\n",
    "# sample_submission['category_id'] = 0\n",
    "sample_submission.head(3)\n",
    "\n",
    "if __name__ == '__main__':    \n",
    "    print (\"MODEL: {}\".format( str(type(model).__name__)))\n",
    "    for epoch in tqdm(range(0, 100)):        \n",
    "        train(t_loader, model, epoch, optimizer)\n",
    "        val_loss, val_accuracy= validate(v_loader, model, epoch)\n",
    "        if float(val_accuracy) > float(90.0):            \n",
    "            print (\"EARLY STOP\")\n",
    "            df_pred=testModel(test_data_dir,model)\n",
    "            df_pred.to_csv(str(type(model).__name__) + '_' + str(val_accuracy) + '_' + \n",
    "                           str(epoch) + \"_sub.csv\", columns=('file', 'species'), index=None)         \n",
    "    "
   ]
  },
  {
   "cell_type": "markdown",
   "metadata": {},
   "source": [
    "# Example submission on the Kaggle seedlings DB"
   ]
  },
  {
   "cell_type": "code",
   "execution_count": 11,
   "metadata": {
    "collapsed": true
   },
   "outputs": [],
   "source": [
    "torch.save(model.state_dict(), str(type(model).__name__) + '_' + str(val_accuracy) + '_.pth')"
   ]
  },
  {
   "cell_type": "markdown",
   "metadata": {},
   "source": [
    "In this step, participants will be asked to provide the following classification rates:\n",
    "\n",
    "-- TP (True Positive, which is the number of OP people correctly identified),\n",
    "\n",
    "-- FP (False Positive, which is the number of CT people incorrectly identified),\n",
    "\n",
    "-- TN (True Negative, which is the number of CT people correctly identified),\n",
    "\n",
    "-- FN (False Negative, which is the number of OP people incorrectly identified),\n",
    "\n",
    "-- Sn (True positive rate or sensitivity) as Sn = TP/(TP + FN),\n",
    "\n",
    "-- Sp (Specificity or True Negative Rate) as Sp = TN/(FP + TN)."
   ]
  },
  {
   "cell_type": "code",
   "execution_count": null,
   "metadata": {
    "collapsed": true
   },
   "outputs": [],
   "source": []
  }
 ],
 "metadata": {
  "kernelspec": {
   "display_name": "Python 3",
   "language": "python",
   "name": "python3"
  },
  "language_info": {
   "codemirror_mode": {
    "name": "ipython",
    "version": 3
   },
   "file_extension": ".py",
   "mimetype": "text/x-python",
   "name": "python",
   "nbconvert_exporter": "python",
   "pygments_lexer": "ipython3",
   "version": "3.6.2"
  }
 },
 "nbformat": 4,
 "nbformat_minor": 1
}
