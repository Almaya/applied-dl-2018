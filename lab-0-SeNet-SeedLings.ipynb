{
 "cells": [
  {
   "cell_type": "markdown",
   "metadata": {
    "colab_type": "text",
    "id": "EDgSCpeOzpR8"
   },
   "source": [
    "# Tel-Aviv Deep Learning Boot-camp: 12 Applied Deep Learning Labs\n",
    "\n",
    "## Lab 0: Plant Seedlings Classification (PyTorch): The most basic lab :)  \n",
    "\n",
    "<img src=\"assets/seedlings.png\" align=\"center\">\n",
    "\n",
    "### Instructors:\n",
    "\n",
    "- Shlomo Kashani: shlomo@bayesian.io ,\n",
    "- Nathaniel Shimoni nathaniel.shimoni@grid4c.com \n",
    "\n",
    "<img src=\"assets/pt.jpg\" width=\"35%\" align=\"center\">\n",
    "\n",
    "## Progress\n",
    "\n",
    "- [x] PyTorch DataSet\n",
    "- [x] PyTorch DataLoader\n",
    "- [x] Augmentations\n",
    "- [x] Simple CNN\n",
    "- [x] Training + train test split\n",
    "- [x] TensorBoard Support from PyTorch\n",
    "- [x] Accuray and Log Loss\n",
    "- [x] Tqdm progress\n",
    "- [x] Persisting the model\n",
    "- [x] Testing on a test set\n",
    "\n",
    "\n",
    "\n",
    "### Links:\n",
    "\n",
    "- https://www.meetup.com/Tel-Aviv-Deep-Learning-Bootcamp/ \n",
    "- Git: https://github.com/bayesianio/applied-dl-2018\n",
    "- Full info: https://www.evernote.com/shard/s341/sh/3855640e-2b0b-42e5-b5b9-00216d02ac9a/b47968226e49a81ee813901cd41d3924\n",
    "\n",
    "### Date and Location: \n",
    "- July 2018\n",
    "\n",
    "\n",
    "### Requirements:\n",
    "- Python 3.5, CUDA 9, cuDNN 7, PyTorch 2.0 or above, Keras 2 or above\n",
    "\n",
    "#### For Windows 10 and Windows Server 2016, CUDA 9\n",
    "`conda install -c peterjc123 pytorch cuda90`\n",
    "\n",
    "\n",
    "### Data\n",
    "- Download: https://www.kaggle.com/c/plant-seedlings-classification\n",
    "\n",
    "- Please make sure you have already set up a Pytorch tree structure of your dataset:\n",
    "- `data_dir= '/home/data/bone/train/' `\n",
    "\n",
    "```\n",
    "    data_dir= '/home/data/bone/train/\n",
    "    \n",
    "    ├── valid\n",
    "    │   └── Type_1\n",
    "        ├── Type_2\n",
    "        └── Type_3\n",
    "    └── train\n",
    "        ├── Type_1\n",
    "        ├── Type_2\n",
    "        └── Type_3\n",
    "```\n",
    "\n",
    "### PyTorch Datasets\n",
    "\n",
    "To create a dataset, we subclass Dataset and define a constructor, a `__len__` method, and a `__getitem__` method. \n",
    "Here is full example:\n",
    "\n",
    "```python\n",
    "class BoneDataset(Dataset):\n",
    "    def __init__(self, labels, root_dir, subset=False, transform=None):\n",
    "        self.labels = labels\n",
    "        self.root_dir = root_dir\n",
    "        self.transform = transform\n",
    "    \n",
    "    def __len__(self):\n",
    "        return len(self.labels)\n",
    "    \n",
    "    def __getitem__(self, idx):\n",
    "        img_name = self.labels.iloc[idx, 0] # file name\n",
    "        fullname = join(self.root_dir, img_name)\n",
    "        image = Image.open(fullname).convert('RGB')\n",
    "        labels = self.labels.iloc[idx, 2] # category_id\n",
    "        if self.transform:\n",
    "            image = self.transform(image)\n",
    "        return image, labels\n",
    "```\n",
    "\n",
    "### The PyTorch DataLoader Class¶\n",
    "- Will load our BoneDataset\n",
    "- Can be regarded as a list (or iterator, technically).\n",
    "- Each time it is invoked will provide a minibatch of (img, label) pairs.\n",
    "\n",
    "\n",
    "### Training with TensorBoard\n",
    "\n",
    "With the aid of [Crayon](https://github.com/torrvision/crayon),\n",
    "we can access the visualisation power of TensorBoard for any \n",
    "deep learning framework.\n",
    "\n",
    "To use the TensorBoard, install Crayon (https://github.com/torrvision/crayon)\n",
    "and set `use_tensorboard = True`\n",
    "\n",
    "\n",
    "## Google Colab links:\n",
    "- https://medium.com/deep-learning-turkey/google-colab-free-gpu-tutorial-e113627b9f5d\n",
    "- https://jovianlin.io/pytorch-with-gpu-in-google-colab/"
   ]
  },
  {
   "cell_type": "code",
   "execution_count": 2,
   "metadata": {
    "colab": {
     "autoexec": {
      "startup": false,
      "wait_interval": 0.0
     },
     "base_uri": "https://localhost:8080/",
     "height": 105.0,
     "output_extras": [
      {
       "item_id": 4.0
      }
     ]
    },
    "colab_type": "code",
    "collapsed": true,
    "executionInfo": {
     "elapsed": 14961.0,
     "status": "ok",
     "timestamp": 1.521474027916E12,
     "user": {
      "displayName": "Shlomo Kashani",
      "photoUrl": "https://lh3.googleusercontent.com/a/default-user=s128",
      "userId": "110613709458758208639"
     },
     "user_tz": -120.0
    },
    "id": "t2YZ6BK06iNd",
    "outputId": "027cd22f-df7e-42cf-8190-870ce9d5e734"
   },
   "outputs": [],
   "source": [
    "# Google specific code\n",
    "\n",
    "# !pip3 install http://download.pytorch.org/whl/cu80/torch-0.3.0.post4-cp36-cp36m-linux_x86_64.whl \n",
    "# !pip3 install torchvision\n",
    "# !pip3 install tqdm\n",
    "\n",
    "# !apt-get install -y -qq software-properties-common python-software-properties module-init-tools\n",
    "# !add-apt-repository -y ppa:alessandro-strada/ppa 2>&1 > /dev/null\n",
    "# !apt-get update -qq 2>&1 > /dev/null\n",
    "# !apt-get -y install -qq google-drive-ocamlfuse fuse\n",
    "# from google.colab import auth\n",
    "# auth.authenticate_user()\n",
    "# from oauth2client.client import GoogleCredentials\n",
    "# creds = GoogleCredentials.get_application_default()\n",
    "# import getpass\n",
    "# !google-drive-ocamlfuse -headless -id={creds.client_id} -secret={creds.client_secret} < /dev/null 2>&1 | grep URL\n",
    "# vcode = getpass.getpass()\n",
    "# !echo {vcode} | google-drive-ocamlfuse -headless -id={creds.client_id} -secret={creds.client_secret}\n",
    "\n",
    "# !mkdir -p med-drive\n",
    "# !google-drive-ocamlfuse med-drive"
   ]
  },
  {
   "cell_type": "code",
   "execution_count": 1,
   "metadata": {
    "colab": {
     "autoexec": {
      "startup": false,
      "wait_interval": 0.0
     },
     "base_uri": "https://localhost:8080/",
     "height": 221.0,
     "output_extras": [
      {
       "item_id": 1.0
      }
     ]
    },
    "colab_type": "code",
    "executionInfo": {
     "elapsed": 883.0,
     "status": "ok",
     "timestamp": 1.521474180497E12,
     "user": {
      "displayName": "Shlomo Kashani",
      "photoUrl": "https://lh3.googleusercontent.com/a/default-user=s128",
      "userId": "110613709458758208639"
     },
     "user_tz": -120.0
    },
    "id": "rmr9jTsazpR-",
    "outputId": "041c3cdd-b901-49c6-fc44-9c4a147cf089"
   },
   "outputs": [
    {
     "name": "stdout",
     "output_type": "stream",
     "text": [
      "__Python VERSION: 3.6.2 |Anaconda custom (64-bit)| (default, Sep 19 2017, 08:03:39) [MSC v.1900 64 bit (AMD64)]\n",
      "__pyTorch VERSION: 0.3.1.post2\n",
      "__CUDA VERSION\n",
      "nvcc: NVIDIA (R) Cuda compiler driver\n",
      "Copyright (c) 2005-2017 NVIDIA Corporation\n",
      "Built on Fri_Sep__1_21:08:32_Central_Daylight_Time_2017\n",
      "Cuda compilation tools, release 9.0, V9.0.176\n",
      "__CUDNN VERSION: 7003\n",
      "__Number CUDA Devices: 1\n",
      "__Devices\n",
      "Active CUDA Device: GPU 0\n",
      "Available devices  1\n",
      "Current cuda device  0\n",
      "USE CUDA=True\n"
     ]
    }
   ],
   "source": [
    "%reset -f \n",
    "%matplotlib inline\n",
    "\n",
    "\n",
    "import matplotlib.pyplot as plt\n",
    "import time\n",
    "from shutil import copyfile\n",
    "from os.path import isfile, join, abspath, exists, isdir, expanduser\n",
    "from os import listdir, makedirs, getcwd, remove\n",
    "from PIL import Image\n",
    "from mpl_toolkits.axes_grid1 import ImageGrid\n",
    "import pandas as pd\n",
    "import numpy as np\n",
    "import torch\n",
    "from torch.optim import lr_scheduler\n",
    "from torch.autograd import Variable\n",
    "from torch.utils.data import Dataset, DataLoader\n",
    "import torch.nn.functional as func\n",
    "import torchvision\n",
    "from torchvision import transforms, datasets, models\n",
    "import random \n",
    "\n",
    "\n",
    "import sys\n",
    "print('__Python VERSION:', sys.version)\n",
    "print('__pyTorch VERSION:', torch.__version__)\n",
    "print('__CUDA VERSION')\n",
    "from subprocess import call\n",
    "# call([\"nvcc\", \"--version\"]) does not work\n",
    "! nvcc --version\n",
    "print('__CUDNN VERSION:', torch.backends.cudnn.version())\n",
    "print('__Number CUDA Devices:', torch.cuda.device_count())\n",
    "print('__Devices')\n",
    "# call([\"nvidia-smi\", \"--format=csv\", \"--query-gpu=index,name,driver_version,memory.total,memory.used,memory.free\"])\n",
    "print('Active CUDA Device: GPU', torch.cuda.current_device())\n",
    "\n",
    "print ('Available devices ', torch.cuda.device_count())\n",
    "print ('Current cuda device ', torch.cuda.current_device())\n",
    "\n",
    "use_cuda = torch.cuda.is_available()\n",
    "# use_cuda = False\n",
    "\n",
    "print(\"USE CUDA=\" + str (use_cuda))\n",
    "FloatTensor = torch.cuda.FloatTensor if use_cuda else torch.FloatTensor\n",
    "LongTensor = torch.cuda.LongTensor if use_cuda else torch.LongTensor\n",
    "Tensor = FloatTensor\n",
    "\n",
    "manualSeed = None\n",
    "def fixSeed(seed):\n",
    "    random.seed(seed)\n",
    "    np.random.seed(seed)\n",
    "    torch.manual_seed(seed)\n",
    "    if use_cuda:\n",
    "        torch.cuda.manual_seed(seed)\n",
    "        torch.cuda.manual_seed_all(seed)\n",
    "\n",
    "\n",
    "if manualSeed is None:\n",
    "        manualSeed = 999\n",
    "fixSeed(manualSeed)\n",
    "\n"
   ]
  },
  {
   "cell_type": "code",
   "execution_count": 2,
   "metadata": {
    "colab": {
     "autoexec": {
      "startup": false,
      "wait_interval": 0.0
     },
     "base_uri": "https://localhost:8080/",
     "height": 520.0,
     "output_extras": [
      {
       "item_id": 1.0
      },
      {
       "item_id": 2.0
      }
     ]
    },
    "colab_type": "code",
    "collapsed": true,
    "executionInfo": {
     "elapsed": 870.0,
     "status": "error",
     "timestamp": 1.521473824394E12,
     "user": {
      "displayName": "Shlomo Kashani",
      "photoUrl": "https://lh3.googleusercontent.com/a/default-user=s128",
      "userId": "110613709458758208639"
     },
     "user_tz": -120.0
    },
    "id": "0FfUc7TNzpSI",
    "outputId": "fc73b302-6037-4adc-e7af-cf9a49ac1007"
   },
   "outputs": [],
   "source": [
    "import os,sys,inspect\n",
    "currentdir = os.path.dirname(os.path.abspath(inspect.getfile(inspect.currentframe())))\n",
    "parentdir = os.path.dirname(currentdir)\n",
    "sys.path.insert(0,parentdir) \n",
    "\n",
    "from kmodels import *\n",
    "from kdataset import *"
   ]
  },
  {
   "cell_type": "markdown",
   "metadata": {
    "colab_type": "text",
    "id": "yHvMFEY0zpSJ"
   },
   "source": [
    "### Define Custom Dataset"
   ]
  },
  {
   "cell_type": "code",
   "execution_count": 3,
   "metadata": {
    "colab": {
     "autoexec": {
      "startup": false,
      "wait_interval": 0.0
     },
     "output_extras": [
      {},
      {}
     ]
    },
    "colab_type": "code",
    "id": "T2jcuWuYzpSL",
    "outputId": "2d841d05-260e-449f-e26d-5fdf69f18208"
   },
   "outputs": [
    {
     "name": "stdout",
     "output_type": "stream",
     "text": [
      "['Black-grass', 'Charlock', 'Cleavers', 'Common Chickweed', 'Common wheat', 'Fat Hen', 'Loose Silky-bent', 'Maize', 'Scentless Mayweed', 'Shepherds Purse', 'Small-flowered Cranesbill', 'Sugar beet']\n",
      "{'Black-grass': 0, 'Charlock': 1, 'Cleavers': 2, 'Common Chickweed': 3, 'Common wheat': 4, 'Fat Hen': 5, 'Loose Silky-bent': 6, 'Maize': 7, 'Scentless Mayweed': 8, 'Shepherds Purse': 9, 'Small-flowered Cranesbill': 10, 'Sugar beet': 11}\n",
      "{0: 'Black-grass', 1: 'Charlock', 2: 'Cleavers', 3: 'Common Chickweed', 4: 'Common wheat', 5: 'Fat Hen', 6: 'Loose Silky-bent', 7: 'Maize', 8: 'Scentless Mayweed', 9: 'Shepherds Purse', 10: 'Small-flowered Cranesbill', 11: 'Sugar beet'}\n"
     ]
    },
    {
     "data": {
      "text/html": [
       "<div>\n",
       "<style scoped>\n",
       "    .dataframe tbody tr th:only-of-type {\n",
       "        vertical-align: middle;\n",
       "    }\n",
       "\n",
       "    .dataframe tbody tr th {\n",
       "        vertical-align: top;\n",
       "    }\n",
       "\n",
       "    .dataframe thead th {\n",
       "        text-align: right;\n",
       "    }\n",
       "</style>\n",
       "<table border=\"1\" class=\"dataframe\">\n",
       "  <thead>\n",
       "    <tr style=\"text-align: right;\">\n",
       "      <th></th>\n",
       "      <th>file</th>\n",
       "      <th>category</th>\n",
       "      <th>category_id</th>\n",
       "    </tr>\n",
       "  </thead>\n",
       "  <tbody>\n",
       "    <tr>\n",
       "      <th>0</th>\n",
       "      <td>Black-grass/0050f38b3.png</td>\n",
       "      <td>Black-grass</td>\n",
       "      <td>0</td>\n",
       "    </tr>\n",
       "    <tr>\n",
       "      <th>1</th>\n",
       "      <td>Black-grass/0183fdf68.png</td>\n",
       "      <td>Black-grass</td>\n",
       "      <td>0</td>\n",
       "    </tr>\n",
       "    <tr>\n",
       "      <th>2</th>\n",
       "      <td>Black-grass/0260cffa8.png</td>\n",
       "      <td>Black-grass</td>\n",
       "      <td>0</td>\n",
       "    </tr>\n",
       "    <tr>\n",
       "      <th>3</th>\n",
       "      <td>Black-grass/05eedce4d.png</td>\n",
       "      <td>Black-grass</td>\n",
       "      <td>0</td>\n",
       "    </tr>\n",
       "    <tr>\n",
       "      <th>4</th>\n",
       "      <td>Black-grass/075d004bc.png</td>\n",
       "      <td>Black-grass</td>\n",
       "      <td>0</td>\n",
       "    </tr>\n",
       "  </tbody>\n",
       "</table>\n",
       "</div>"
      ],
      "text/plain": [
       "                        file     category  category_id\n",
       "0  Black-grass/0050f38b3.png  Black-grass            0\n",
       "1  Black-grass/0183fdf68.png  Black-grass            0\n",
       "2  Black-grass/0260cffa8.png  Black-grass            0\n",
       "3  Black-grass/05eedce4d.png  Black-grass            0\n",
       "4  Black-grass/075d004bc.png  Black-grass            0"
      ]
     },
     "execution_count": 3,
     "metadata": {},
     "output_type": "execute_result"
    }
   ],
   "source": [
    "import os\n",
    "dataset='seedlings' # bone , cat-dog   d:/db/data/cat-dog/train/ ISIC2017\n",
    "data_dir= 'd:/db/data/' +  dataset + '/train/'\n",
    "# data_dir_valid= 'd:/db/data/' +  dataset + '/valid/'\n",
    "\n",
    "classes, class_to_idx, num_to_class, df =GenericDataset.find_classes (data_dir )\n",
    "\n",
    "print (classes)\n",
    "print (class_to_idx)\n",
    "print (num_to_class)\n",
    "df.head(5)    "
   ]
  },
  {
   "cell_type": "code",
   "execution_count": 4,
   "metadata": {
    "colab": {
     "autoexec": {
      "startup": false,
      "wait_interval": 0.0
     },
     "output_extras": [
      {}
     ]
    },
    "colab_type": "code",
    "id": "kocQq6yLzpSN",
    "outputId": "8d66b443-5e8b-4c12-b38b-a0e4c3a5242c"
   },
   "outputs": [
    {
     "data": {
      "text/plain": [
       "12"
      ]
     },
     "execution_count": 4,
     "metadata": {},
     "output_type": "execute_result"
    }
   ],
   "source": [
    "len(classes)"
   ]
  },
  {
   "cell_type": "markdown",
   "metadata": {
    "colab_type": "text",
    "id": "aY-XSyxWzpSR"
   },
   "source": [
    "# Target distribution : Train set"
   ]
  },
  {
   "cell_type": "code",
   "execution_count": 5,
   "metadata": {
    "colab": {
     "autoexec": {
      "startup": false,
      "wait_interval": 0.0
     },
     "output_extras": [
      {},
      {}
     ]
    },
    "colab_type": "code",
    "id": "vNJsLwcEzpSR",
    "outputId": "beb4caeb-f462-46a9-94bd-55f47d2c89a1"
   },
   "outputs": [
    {
     "name": "stderr",
     "output_type": "stream",
     "text": [
      "c:\\Anaconda3\\lib\\site-packages\\seaborn\\categorical.py:1460: FutureWarning: remove_na is deprecated and is a private function. Do not use.\n",
      "  stat_data = remove_na(group_data)\n"
     ]
    },
    {
     "data": {
      "image/png": "[encoded data removed]",
      "text/plain": [
       "<matplotlib.figure.Figure at 0x1428c522080>"
      ]
     },
     "metadata": {},
     "output_type": "display_data"
    }
   ],
   "source": [
    "import seaborn as sns\n",
    "sns.set(color_codes=True)\n",
    "pal = sns.color_palette()\n",
    "sns.set_style(\"whitegrid\")\n",
    "\n",
    "labels = df['category'].apply(lambda x: x.split(' '))\n",
    "from collections import Counter, defaultdict\n",
    "counts = defaultdict(int)\n",
    "for l in labels:\n",
    "    for l2 in l:\n",
    "        counts[l2] += 1\n",
    "\n",
    "counts_df = pd.DataFrame.from_dict(counts, orient='index')\n",
    "counts_df.columns = ['count']\n",
    "counts_df.sort_values('count', ascending=False, inplace=True)\n",
    "\n",
    "fig, ax = plt.subplots()\n",
    "ax = sns.barplot(x=counts_df.index, y=counts_df['count'], ax=ax)\n",
    "fig.set_size_inches(20,8)\n",
    "ax.set_xticklabels(ax.xaxis.get_majorticklabels(), rotation=-45);"
   ]
  },
  {
   "cell_type": "markdown",
   "metadata": {
    "colab_type": "text",
    "id": "8pPClZv8zpSW"
   },
   "source": [
    "# Augmentation "
   ]
  },
  {
   "cell_type": "code",
   "execution_count": 6,
   "metadata": {
    "colab": {
     "autoexec": {
      "startup": false,
      "wait_interval": 0.0
     }
    },
    "colab_type": "code",
    "collapsed": true,
    "id": "ij6OFiLBzpSW"
   },
   "outputs": [],
   "source": [
    "from __future__ import absolute_import\n",
    "\n",
    "from torchvision.transforms import *\n",
    "\n",
    "from PIL import Image, ImageDraw\n",
    "import numpy as np\n",
    "import torch\n",
    "\n",
    "import torchvision\n",
    "import random\n",
    "from PIL import Image, ImageOps\n",
    "import numpy as np\n",
    "import numbers\n",
    "import math\n",
    "import torch\n",
    "import torch\n",
    "import random\n",
    "import PIL.ImageEnhance as ie\n",
    "import PIL.Image as im\n",
    "\n",
    "# adapted from https://github.com/kuangliu/pytorch-retinanet/blob/master/transform.py\n",
    "# https://github.com/mratsim/Amazon-Forest-Computer-Vision/blob/master/src/p_data_augmentation.py\n",
    "\n",
    "normalize_img = torchvision.transforms.Normalize(mean=[0.485, 0.456, 0.406],\n",
    "                                     std=[0.229, 0.224, 0.225])\n",
    "\n",
    "from ktransforms import *"
   ]
  },
  {
   "cell_type": "markdown",
   "metadata": {
    "colab_type": "text",
    "id": "RmEroGFfzpSY"
   },
   "source": [
    "## Setup transforms, datasets, and dataloaders\n",
    "\n",
    "- Data loaders spit out data from a dataset in batches. This is what you actually feed the neural network during training."
   ]
  },
  {
   "cell_type": "code",
   "execution_count": 7,
   "metadata": {
    "colab": {
     "autoexec": {
      "startup": false,
      "wait_interval": 0.0
     },
     "output_extras": [
      {},
      {},
      {}
     ]
    },
    "colab_type": "code",
    "id": "38MhTpO4zpSY",
    "outputId": "d94a5935-288a-4bdd-d305-aacb4048b53e"
   },
   "outputs": [
    {
     "name": "stdout",
     "output_type": "stream",
     "text": [
      "{'train': 4038, 'valid': 712}\n",
      "6     544\n",
      "3     512\n",
      "8     441\n",
      "10    427\n",
      "5     406\n",
      "11    336\n",
      "1     333\n",
      "2     249\n",
      "0     220\n",
      "9     195\n",
      "4     195\n",
      "7     180\n",
      "Name: category_id, dtype: int64\n"
     ]
    },
    {
     "data": {
      "text/plain": [
       "<matplotlib.axes._subplots.AxesSubplot at 0x1428db5eba8>"
      ]
     },
     "execution_count": 7,
     "metadata": {},
     "output_type": "execute_result"
    },
    {
     "data": {
      "image/png": "[encoded data removed]",
      "text/plain": [
       "<matplotlib.figure.Figure at 0x1428db5e940>"
      ]
     },
     "metadata": {},
     "output_type": "display_data"
    }
   ],
   "source": [
    "image_size = 224\n",
    "\n",
    "normalize_img = torchvision.transforms.Normalize(mean=[0.485, 0.456, 0.406],\n",
    "                                     std=[0.229, 0.224, 0.225])\n",
    "\n",
    "\n",
    "train_trans = transforms.Compose([\n",
    "    transforms.RandomSizedCrop(image_size),\n",
    "    PowerPIL(),\n",
    "    transforms.ToTensor(),\n",
    "#     normalize_img,\n",
    "    RandomErasing()\n",
    "])\n",
    "\n",
    "## Normalization only for validation and test\n",
    "valid_trans = transforms.Compose([\n",
    "    transforms.Scale(256),\n",
    "    transforms.CenterCrop(image_size),\n",
    "    transforms.ToTensor(),\n",
    "#     normalize_img\n",
    "])\n",
    "\n",
    "batch_size = 8\n",
    "train_data = df.sample(frac=0.85)\n",
    "valid_data = df[~df['file'].isin(train_data['file'])]\n",
    "\n",
    "train_set = GenericDataset(train_data, data_dir, transform = train_trans)\n",
    "valid_set = GenericDataset(valid_data, data_dir, transform = valid_trans)\n",
    "        \n",
    "\n",
    "t_loader = DataLoader(train_set, batch_size=batch_size, shuffle=True, num_workers=0)\n",
    "v_loader = DataLoader(valid_set, batch_size=batch_size, shuffle=True, num_workers=0)\n",
    "# test_loader  = DataLoader(test_set, batch_size=batch_size, shuffle=False, num_workers=4)\n",
    "\n",
    "dataset_sizes = {\n",
    "    'train': len(t_loader.dataset), \n",
    "    'valid': len(v_loader.dataset)\n",
    "}\n",
    "\n",
    "\n",
    "print (dataset_sizes)\n",
    "print (train_data[\"category_id\"].value_counts())\n",
    "\n",
    "train_data['category_id'].value_counts().plot(kind='bar')"
   ]
  },
  {
   "cell_type": "code",
   "execution_count": 8,
   "metadata": {
    "colab": {
     "autoexec": {
      "startup": false,
      "wait_interval": 0.0
     },
     "output_extras": [
      {},
      {}
     ]
    },
    "colab_type": "code",
    "id": "noA4FHS7zpSb",
    "outputId": "a514a7ec-d0ad-4be8-b43b-8baca8882e3b"
   },
   "outputs": [
    {
     "data": {
      "text/plain": [
       "<matplotlib.axes._subplots.AxesSubplot at 0x1428db56e80>"
      ]
     },
     "execution_count": 8,
     "metadata": {},
     "output_type": "execute_result"
    },
    {
     "data": {
      "image/png": "[encoded data removed]",
      "text/plain": [
       "<matplotlib.figure.Figure at 0x1428db56908>"
      ]
     },
     "metadata": {},
     "output_type": "display_data"
    }
   ],
   "source": [
    "valid_data['category_id'].value_counts().plot(kind='bar')"
   ]
  },
  {
   "cell_type": "markdown",
   "metadata": {
    "colab_type": "text",
    "id": "f53b3rbpzpSg"
   },
   "source": [
    "### Test the DataLoader Class"
   ]
  },
  {
   "cell_type": "code",
   "execution_count": 9,
   "metadata": {
    "colab": {
     "autoexec": {
      "startup": false,
      "wait_interval": 0.0
     },
     "output_extras": [
      {},
      {}
     ]
    },
    "colab_type": "code",
    "id": "o6o2BlVMzpSh",
    "outputId": "4e1095e8-b70b-407f-ffd3-3425f6bfa919"
   },
   "outputs": [
    {
     "name": "stdout",
     "output_type": "stream",
     "text": [
      "i=0: \n",
      "i=1: \n",
      "i=2: \n",
      "i=3: \n"
     ]
    },
    {
     "data": {
      "image/png": "[encoded data removed]",
      "text/plain": [
       "<matplotlib.figure.Figure at 0x1428c532f28>"
      ]
     },
     "metadata": {},
     "output_type": "display_data"
    }
   ],
   "source": [
    "imagesToShow=4\n",
    "\n",
    "def flaotTensorToImage(img, mean=0, std=1):\n",
    "        \"\"\"convert a tensor to an image\"\"\"\n",
    "        img = np.transpose(img.numpy(), (1, 2, 0))\n",
    "        img = (img*std+ mean)*255\n",
    "        img = img.astype(np.uint8)    \n",
    "        return img    \n",
    "\n",
    "if __name__ == '__main__':  \n",
    "    for i, data in enumerate(t_loader, 0):\n",
    "        print('i=%d: '%(i))            \n",
    "        images, labels = data            \n",
    "        num = len(images)\n",
    "\n",
    "        ax = plt.subplot(1, imagesToShow, i + 1)\n",
    "        plt.tight_layout()\n",
    "        ax.set_title('Sample #{}'.format(i))\n",
    "        ax.axis('off')\n",
    "\n",
    "        for n in range(num):\n",
    "            image=images[n]\n",
    "            label=labels[n]\n",
    "            plt.imshow (flaotTensorToImage(image))\n",
    "\n",
    "        if i==imagesToShow-1:\n",
    "            break"
   ]
  },
  {
   "cell_type": "markdown",
   "metadata": {
    "colab_type": "text",
    "id": "OqiMkF2nzpSk"
   },
   "source": [
    "## Define the model\n",
    "- A simple CNN with great performance (95% accuracy) \n",
    "- In PyTorch, a model is defined by a subclass of nn.Module. It has two methods:\n",
    "\n",
    "`__init__:` constructor. Create layers here. Note that we don't define the connections between layers in this function.\n",
    "\n",
    "`forward(x):` forward function. Receives an input variable x. Returns a output variable. Note that we actually connect the layers here dynamically."
   ]
  },
  {
   "cell_type": "code",
   "execution_count": 11,
   "metadata": {
    "colab": {
     "autoexec": {
      "startup": false,
      "wait_interval": 0.0
     },
     "output_extras": [
      {}
     ]
    },
    "colab_type": "code",
    "id": "wrb3DsUazpSl",
    "outputId": "aa46ae96-dea2-4531-a919-223526ae5a2c"
   },
   "outputs": [
    {
     "name": "stdout",
     "output_type": "stream",
     "text": [
      "WideResNet(\n",
      "  (conv1): Conv2d(3, 16, kernel_size=(3, 3), stride=(1, 1), padding=(1, 1), bias=False)\n",
      "  (block1): NetworkBlock(\n",
      "    (layer): Sequential(\n",
      "      (0): BasicBlock(\n",
      "        (bn1): BatchNorm2d(16, eps=1e-05, momentum=0.1, affine=True)\n",
      "        (relu1): PReLU(num_parameters=1)\n",
      "        (conv1): Conv2d(16, 64, kernel_size=(3, 3), stride=(1, 1), padding=(1, 1), bias=False)\n",
      "        (bn2): BatchNorm2d(64, eps=1e-05, momentum=0.1, affine=True)\n",
      "        (relu2): PReLU(num_parameters=1)\n",
      "        (conv2): Conv2d(64, 64, kernel_size=(3, 3), stride=(1, 1), padding=(1, 1), bias=False)\n",
      "        (convShortcut): Conv2d(16, 64, kernel_size=(1, 1), stride=(1, 1), bias=False)\n",
      "      )\n",
      "    )\n",
      "  )\n",
      "  (block2): NetworkBlock(\n",
      "    (layer): Sequential(\n",
      "      (0): BasicBlock(\n",
      "        (bn1): BatchNorm2d(64, eps=1e-05, momentum=0.1, affine=True)\n",
      "        (relu1): PReLU(num_parameters=1)\n",
      "        (conv1): Conv2d(64, 128, kernel_size=(3, 3), stride=(2, 2), padding=(1, 1), bias=False)\n",
      "        (bn2): BatchNorm2d(128, eps=1e-05, momentum=0.1, affine=True)\n",
      "        (relu2): PReLU(num_parameters=1)\n",
      "        (conv2): Conv2d(128, 128, kernel_size=(3, 3), stride=(1, 1), padding=(1, 1), bias=False)\n",
      "        (convShortcut): Conv2d(64, 128, kernel_size=(1, 1), stride=(2, 2), bias=False)\n",
      "      )\n",
      "    )\n",
      "  )\n",
      "  (block3): NetworkBlock(\n",
      "    (layer): Sequential(\n",
      "      (0): BasicBlock(\n",
      "        (bn1): BatchNorm2d(128, eps=1e-05, momentum=0.1, affine=True)\n",
      "        (relu1): PReLU(num_parameters=1)\n",
      "        (conv1): Conv2d(128, 256, kernel_size=(3, 3), stride=(2, 2), padding=(1, 1), bias=False)\n",
      "        (bn2): BatchNorm2d(256, eps=1e-05, momentum=0.1, affine=True)\n",
      "        (relu2): PReLU(num_parameters=1)\n",
      "        (conv2): Conv2d(256, 256, kernel_size=(3, 3), stride=(1, 1), padding=(1, 1), bias=False)\n",
      "        (convShortcut): Conv2d(128, 256, kernel_size=(1, 1), stride=(2, 2), bias=False)\n",
      "      )\n",
      "    )\n",
      "  )\n",
      "  (bn1): BatchNorm2d(256, eps=1e-05, momentum=0.1, affine=True)\n",
      "  (relu): ReLU(inplace)\n",
      "  (fc): Linear(in_features=50176, out_features=12, bias=True)\n",
      "  (sig): Sigmoid()\n",
      ")\n"
     ]
    }
   ],
   "source": [
    "import torch\n",
    "import torch.nn as nn\n",
    "import torch.nn.functional as F\n",
    "import torch.optim as optim\n",
    "from torchvision import datasets, transforms\n",
    "from torch.autograd import Variable\n",
    "import math \n",
    "import torch\n",
    "import torch.nn as nn\n",
    "import torch.nn.functional as F\n",
    "from torch.autograd import Variable\n",
    "from collections import OrderedDict\n",
    "from torch.nn import init\n",
    "import numpy as np\n",
    "\n",
    "# model = SimpleNet(len(classes), 3)\n",
    "# model =vggnetXX_generic(len(classes), 3)\n",
    "# model =lenetXX_generic(len(classes), 3)\n",
    "# model =resnetxtXX_generic(len(classes), 3)\n",
    "model =wrnXX_generic(len(classes), 3)\n",
    "# model = senetXX_generic(len(classes), 3, 32)\n",
    "\n",
    "\n",
    "criterion = torch.nn.CrossEntropyLoss()\n",
    "lr= 0.00005 * 2 * 2\n",
    "optimizer = torch.optim.Adam(model.parameters(),lr=lr)\n",
    "\n",
    "if use_cuda:\n",
    "    model = model.cuda()\n",
    "# model = senetXX_generic(len(classes), 3, 32)\n",
    "model_name = (type(model).__name__) # remember the real name\n",
    "# model = torch.nn.DataParallel(model, device_ids=list(range(4)))\n",
    "print(model)"
   ]
  },
  {
   "cell_type": "markdown",
   "metadata": {
    "colab_type": "text",
    "id": "v4YEou5EzpSq"
   },
   "source": [
    "# Metrics and Tensorboard"
   ]
  },
  {
   "cell_type": "code",
   "execution_count": 12,
   "metadata": {
    "colab": {
     "autoexec": {
      "startup": false,
      "wait_interval": 0.0
     },
     "output_extras": [
      {}
     ]
    },
    "colab_type": "code",
    "id": "KZiIF6zYzpSs",
    "outputId": "25793eed-e107-433b-e174-39e8ce5308c3"
   },
   "outputs": [
    {
     "data": {
      "text/plain": [
       "'0:16:40.00'"
      ]
     },
     "execution_count": 12,
     "metadata": {},
     "output_type": "execute_result"
    }
   ],
   "source": [
    "import datetime \n",
    "\n",
    "from utils import *\n",
    "\n",
    "NOW_TIME = datetime.datetime.now()\n",
    "NOW_TIME =NOW_TIME.strftime(\"%Y-%m-%d %H:%M\")\n",
    "\n",
    "use_tensorboard=False\n",
    "\n",
    "hms_string(1000)"
   ]
  },
  {
   "cell_type": "markdown",
   "metadata": {
    "colab_type": "text",
    "id": "tZ3OlGCxzpSw"
   },
   "source": [
    "### Training"
   ]
  },
  {
   "cell_type": "code",
   "execution_count": 13,
   "metadata": {
    "colab": {
     "autoexec": {
      "startup": false,
      "wait_interval": 0.0
     },
     "output_extras": [
      {}
     ]
    },
    "colab_type": "code",
    "id": "HDwDNmfUzpSz",
    "outputId": "2921aeb9-53a5-4fbe-ff89-9ac0d19923e3"
   },
   "outputs": [
    {
     "name": "stderr",
     "output_type": "stream",
     "text": [
      "c:\\Anaconda3\\lib\\site-packages\\sklearn\\cross_validation.py:41: DeprecationWarning: This module was deprecated in version 0.18 in favor of the model_selection module into which all the refactored classes and functions are moved. Also note that the interface of the new CV iterators are different from that of this module. This module will be removed in 0.20.\n",
      "  \"This module will be removed in 0.20.\", DeprecationWarning)\n"
     ]
    }
   ],
   "source": [
    "from tqdm import tqdm \n",
    "from sklearn import metrics\n",
    "import torch\n",
    "import numpy as np\n",
    "from sklearn import cross_validation\n",
    "from sklearn import metrics\n",
    "from sklearn.metrics import roc_auc_score, log_loss, roc_auc_score, roc_curve, auc\n",
    "\n",
    "def train(train_loader, model, epoch, optimizer):\n",
    "    if use_cuda:\n",
    "        model.cuda()\n",
    "        criterion.cuda()\n",
    "\n",
    "    batch_time = AverageMeter()\n",
    "    data_time = AverageMeter()\n",
    "    losses = AverageMeter()\n",
    "    acc = AverageMeter()\n",
    "   \n",
    "    # switch to train mode\n",
    "    model.train()\n",
    "\n",
    "    end = time.time()\n",
    "    for batch_idx, (images, target) in enumerate(train_loader): \n",
    "        correct = 0\n",
    "        # measure data loading time\n",
    "        data_time.update(time.time() - end)\n",
    "\n",
    "        if use_cuda:\n",
    "            images, target = images.cuda(), target.cuda()\n",
    "            images, target = Variable(images), Variable(target)\n",
    "        # compute y_pred\n",
    "        y_pred = model(images)\n",
    "        loss = criterion(y_pred, target)\n",
    "\n",
    "        # measure accuracy and record loss\n",
    "        prec1, prec1 = accuracy2(y_pred.data, target.data, topk=(1, 1))\n",
    "        losses.update(loss.data[0], images.size(0))\n",
    "        acc.update(prec1[0], images.size(0))\n",
    "        \n",
    "        pred = y_pred.data.max(1)[1] # get the index of the max log-probability\n",
    "        correct += pred.eq(target.data).cpu().sum()\n",
    "        accuracy = 100. * correct / len(images)\n",
    "        \n",
    "        # compute gradient and do SGD step\n",
    "        optimizer.zero_grad()\n",
    "        loss.backward()\n",
    "        optimizer.step()\n",
    "\n",
    "        # measure elapsed time\n",
    "        batch_time.update(time.time() - end)\n",
    "        end = time.time()\n",
    "\n",
    "        if batch_idx % 200  == 0:\n",
    "            print('TRAIN: LOSS-->{loss.val:.4f} ({loss.avg:.4f})\\t' 'ACC-->{acc.val:.3f}% ({acc.avg:.3f}%)'.format(loss=losses, acc=acc))\n",
    "            if use_tensorboard:\n",
    "                exp.add_scalar_value('tr_epoch_loss', losses.avg, step=epoch)\n",
    "                exp.add_scalar_value('tr_epoch_acc', acc.avg, step=epoch)\n",
    "                \n",
    "            print('TRAIN: {} [{}/{} ({:.0f}%)]\\tLoss: {:.6f}, Accuracy: {}/{} ({:.3f}%)'.format(\n",
    "                epoch, batch_idx * len(images), len(train_loader.dataset),\n",
    "                100. * batch_idx / len(train_loader), loss.data[0],\n",
    "                correct, len(images),\n",
    "                accuracy))            \n",
    "    \n",
    "\n",
    "    return float('{loss.avg:.4f}'.format(loss=losses)), float('{acc.avg:.4f}'.format(acc=acc))\n",
    "\n",
    "def validate(val_loader, model, epoch):\n",
    "    if use_cuda:\n",
    "        model.cuda()\n",
    "        criterion.cuda()\n",
    "\n",
    "    batch_time = AverageMeter()\n",
    "    losses = AverageMeter()\n",
    "    acc = AverageMeter()\n",
    "\n",
    "    # switch to evaluate mode\n",
    "    model.eval()\n",
    "\n",
    "    end = time.time()\n",
    "    for i, (images, labels) in enumerate(val_loader):\n",
    "\n",
    "        if use_cuda:\n",
    "            images, labels = images.cuda(), labels.cuda()\n",
    "            images, labels = Variable(images, volatile=True), Variable(labels)\n",
    "\n",
    "        # compute y_pred\n",
    "        y_pred = model(images)\n",
    "        loss = criterion(y_pred, labels)\n",
    "\n",
    "        # measure accuracy and record loss\n",
    "        prec1, temp_var = accuracy2(y_pred.data, labels.data, topk=(1, 1))\n",
    "        losses.update(loss.data[0], images.size(0))\n",
    "        acc.update(prec1[0], images.size(0))\n",
    "\n",
    "        # measure elapsed time\n",
    "        batch_time.update(time.time() - end)\n",
    "        end = time.time()\n",
    "\n",
    "        if i % 200== 0:\n",
    "            print('VAL:   LOSS--> {loss.val:.4f} ({loss.avg:.4f})\\t''ACC-->{acc.val:.3f} ({acc.avg:.3f})'.format(loss=losses, acc=acc))\n",
    "\n",
    "        if i % 50 == 0:\n",
    "            if use_tensorboard:\n",
    "                exp.add_scalar_value('val_epoch_loss', losses.avg, step=epoch)\n",
    "                exp.add_scalar_value('val_epoch_acc', acc.avg, step=epoch)\n",
    "\n",
    "    print(' * Accuracy {acc.avg:.4f}'.format(acc=acc))\n",
    "    return float('{loss.avg:.6f}'.format(loss=losses)), float('{acc.avg:.6f}'.format(acc=acc))\n",
    "\n",
    "\n",
    "def testImageLoader(image_name):\n",
    "    \"\"\"load image, returns cuda tensor\"\"\"\n",
    "#     image = Image.open(image_name)\n",
    "    image = Image.open(image_name).convert('RGB')\n",
    "    image = test_trans(image)\n",
    "#     image = Variable(image, requires_grad=True)\n",
    "    image = image.unsqueeze(0)  \n",
    "    if use_cuda:\n",
    "#         print (\"cuda\")\n",
    "        image.cuda()         \n",
    "    return image  \n",
    "\n",
    "def testModel(test_dir, local_model):    \n",
    "    if use_cuda:\n",
    "        local_model.cuda()\n",
    "    \n",
    "    local_model.eval()\n",
    "    \n",
    "    columns = ['file', 'species']\n",
    "    df_pred = pd.DataFrame(data=np.zeros((0, len(columns))), columns=columns)\n",
    "#     df_pred.species.astype(int)\n",
    "    for index, row in (sample_submission.iterrows()):\n",
    "#         for file in os.listdir(test_dir):            \n",
    "        currImage=os.path.join(test_dir, row['file'])\n",
    "        if os.path.isfile(currImage):\n",
    "            X_tensor_test=testImageLoader (currImage)            \n",
    "#             print (type(X_tensor_test))\n",
    "            if use_cuda:\n",
    "                X_tensor_test = Variable(X_tensor_test.cuda()) \n",
    "            else:\n",
    "                X_tensor_test = Variable(X_tensor_test)        \n",
    "            \n",
    "            # get the index of the max log-probability\n",
    "            predicted_val = (local_model(X_tensor_test)).data.max(1)[1] # get the index of the max log-probability\n",
    "#             predicted_val = predicted_val.data.max(1, keepdim=True)[1]\n",
    "            p_test = (predicted_val.cpu().numpy().item())\n",
    "            df_pred = df_pred.append({'file': row['file'], 'species': num_to_class[int(p_test)]}, ignore_index=True)             \n",
    "    \n",
    "    return df_pred"
   ]
  },
  {
   "cell_type": "code",
   "execution_count": 14,
   "metadata": {
    "colab": {
     "autoexec": {
      "startup": false,
      "wait_interval": 0.0
     }
    },
    "colab_type": "code",
    "collapsed": true,
    "id": "cXVmtM8WzpS3"
   },
   "outputs": [],
   "source": [
    "test_trans = valid_trans\n",
    "test_data_dir = 'd:/db/data/seedlings/test/'"
   ]
  },
  {
   "cell_type": "markdown",
   "metadata": {
    "colab_type": "text",
    "id": "rTtKoAUczpS6"
   },
   "source": [
    "### Train the model"
   ]
  },
  {
   "cell_type": "code",
   "execution_count": 15,
   "metadata": {
    "colab": {
     "autoexec": {
      "startup": false,
      "wait_interval": 0.0
     },
     "output_extras": [
      {},
      {},
      {},
      {},
      {},
      {},
      {},
      {},
      {},
      {},
      {},
      {},
      {},
      {},
      {},
      {},
      {},
      {},
      {},
      {},
      {},
      {},
      {},
      {},
      {},
      {},
      {},
      {},
      {},
      {},
      {},
      {},
      {},
      {},
      {},
      {},
      {},
      {},
      {},
      {},
      {},
      {},
      {},
      {},
      {},
      {},
      {},
      {},
      {},
      {},
      {},
      {},
      {},
      {},
      {},
      {},
      {},
      {},
      {},
      {},
      {},
      {},
      {},
      {},
      {},
      {},
      {},
      {},
      {},
      {},
      {},
      {},
      {},
      {},
      {},
      {},
      {},
      {},
      {},
      {},
      {},
      {},
      {},
      {},
      {},
      {},
      {},
      {},
      {},
      {},
      {},
      {},
      {},
      {},
      {},
      {},
      {},
      {},
      {},
      {},
      {},
      {},
      {},
      {},
      {},
      {},
      {},
      {},
      {},
      {},
      {},
      {},
      {},
      {},
      {},
      {},
      {},
      {},
      {},
      {},
      {},
      {},
      {},
      {},
      {},
      {},
      {},
      {},
      {},
      {},
      {},
      {},
      {},
      {},
      {},
      {},
      {},
      {},
      {},
      {},
      {},
      {},
      {},
      {},
      {},
      {},
      {},
      {},
      {},
      {},
      {},
      {},
      {},
      {},
      {},
      {},
      {},
      {},
      {},
      {},
      {},
      {},
      {},
      {},
      {},
      {},
      {},
      {},
      {},
      {},
      {},
      {},
      {},
      {},
      {},
      {},
      {},
      {},
      {},
      {},
      {},
      {},
      {},
      {},
      {},
      {},
      {},
      {},
      {},
      {},
      {},
      {},
      {},
      {},
      {},
      {},
      {},
      {},
      {},
      {},
      {},
      {},
      {},
      {},
      {},
      {},
      {},
      {},
      {},
      {},
      {},
      {},
      {},
      {},
      {},
      {},
      {},
      {},
      {},
      {},
      {},
      {},
      {},
      {},
      {},
      {},
      {},
      {},
      {},
      {},
      {},
      {},
      {},
      {},
      {},
      {},
      {},
      {},
      {},
      {},
      {},
      {},
      {},
      {},
      {},
      {},
      {},
      {},
      {},
      {},
      {},
      {},
      {},
      {},
      {},
      {},
      {},
      {},
      {},
      {},
      {},
      {},
      {},
      {},
      {},
      {},
      {},
      {},
      {},
      {},
      {},
      {},
      {},
      {},
      {},
      {},
      {},
      {},
      {},
      {},
      {},
      {},
      {},
      {},
      {},
      {},
      {},
      {},
      {},
      {},
      {},
      {},
      {},
      {},
      {},
      {},
      {},
      {},
      {},
      {},
      {},
      {}
     ]
    },
    "colab_type": "code",
    "id": "tYY0L_BkzpS7",
    "outputId": "be6367a0-8bb0-485f-94c8-4ac8136bebe2"
   },
   "outputs": [
    {
     "name": "stdout",
     "output_type": "stream",
     "text": [
      "Random Seed: 999\n",
      "python version : 3.6.2 |Anaconda custom (64-bit)| (default, Sep 19 2017, 08:03:39) [MSC v.1900 64 bit (AMD64)]\n",
      "torch  version : 0.3.1.post2\n",
      "cudnn  version : 7003\n",
      "=> Final model name 'WideResNet'\n",
      "MODEL: WideResNet\n",
      "dataset: seedlings\n",
      "    Total params: 1.80M\n",
      "MODEL: WideResNet\n"
     ]
    },
    {
     "name": "stderr",
     "output_type": "stream",
     "text": [
      "\r",
      "  0%|                                                                                                                                                           | 0/150 [00:00<?, ?it/s]"
     ]
    },
    {
     "name": "stdout",
     "output_type": "stream",
     "text": [
      "TRAIN: LOSS-->2.6756 (2.6756)\tACC-->12.500% (12.500%)\n",
      "TRAIN: 0 [0/4038 (0%)]\tLoss: 2.675602, Accuracy: 1/8 (12.500%)\n",
      "TRAIN: LOSS-->4.3554 (5.2598)\tACC-->0.000% (10.572%)\n",
      "TRAIN: 0 [1600/4038 (40%)]\tLoss: 4.355433, Accuracy: 0/8 (0.000%)\n",
      "TRAIN: LOSS-->3.4634 (4.8617)\tACC-->12.500% (12.032%)\n",
      "TRAIN: 0 [3200/4038 (79%)]\tLoss: 3.463402, Accuracy: 1/8 (12.500%)\n",
      "VAL:   LOSS--> 1.9424 (1.9424)\tACC-->37.500 (37.500)\n",
      " * Accuracy 27.5281\n"
     ]
    },
    {
     "name": "stderr",
     "output_type": "stream",
     "text": [
      "\r",
      "  1%|▉                                                                                                                                               | 1/150 [02:01<5:02:47, 121.93s/it]"
     ]
    },
    {
     "name": "stdout",
     "output_type": "stream",
     "text": [
      "TRAIN: LOSS-->2.9554 (2.9554)\tACC-->12.500% (12.500%)\n",
      "TRAIN: 1 [0/4038 (0%)]\tLoss: 2.955421, Accuracy: 1/8 (12.500%)\n",
      "TRAIN: LOSS-->1.7255 (2.7127)\tACC-->50.000% (18.035%)\n",
      "TRAIN: 1 [1600/4038 (40%)]\tLoss: 1.725547, Accuracy: 4/8 (50.000%)\n",
      "TRAIN: LOSS-->3.6606 (2.5562)\tACC-->25.000% (21.540%)\n",
      "TRAIN: 1 [3200/4038 (79%)]\tLoss: 3.660645, Accuracy: 2/8 (25.000%)\n",
      "VAL:   LOSS--> 2.6335 (2.6335)\tACC-->25.000 (25.000)\n",
      " * Accuracy 46.3483\n"
     ]
    },
    {
     "name": "stderr",
     "output_type": "stream",
     "text": [
      "\r",
      "  1%|█▉                                                                                                                                              | 2/150 [03:55<4:50:41, 117.85s/it]"
     ]
    },
    {
     "name": "stdout",
     "output_type": "stream",
     "text": [
      "TRAIN: LOSS-->1.9370 (1.9370)\tACC-->25.000% (25.000%)\n",
      "TRAIN: 2 [0/4038 (0%)]\tLoss: 1.936955, Accuracy: 2/8 (25.000%)\n",
      "TRAIN: LOSS-->2.2783 (2.2445)\tACC-->25.000% (28.980%)\n",
      "TRAIN: 2 [1600/4038 (40%)]\tLoss: 2.278316, Accuracy: 2/8 (25.000%)\n",
      "TRAIN: LOSS-->2.1152 (2.1964)\tACC-->37.500% (29.520%)\n",
      "TRAIN: 2 [3200/4038 (79%)]\tLoss: 2.115176, Accuracy: 3/8 (37.500%)\n",
      "VAL:   LOSS--> 2.1183 (2.1183)\tACC-->37.500 (37.500)\n",
      " * Accuracy 50.9831\n"
     ]
    },
    {
     "name": "stderr",
     "output_type": "stream",
     "text": [
      "\r",
      "  2%|██▉                                                                                                                                             | 3/150 [05:46<4:42:47, 115.43s/it]"
     ]
    },
    {
     "name": "stdout",
     "output_type": "stream",
     "text": [
      "TRAIN: LOSS-->2.6468 (2.6468)\tACC-->12.500% (12.500%)\n",
      "TRAIN: 3 [0/4038 (0%)]\tLoss: 2.646763, Accuracy: 1/8 (12.500%)\n",
      "TRAIN: LOSS-->1.3548 (2.0420)\tACC-->75.000% (31.468%)\n",
      "TRAIN: 3 [1600/4038 (40%)]\tLoss: 1.354792, Accuracy: 6/8 (75.000%)\n",
      "TRAIN: LOSS-->2.5655 (2.0578)\tACC-->12.500% (31.671%)\n",
      "TRAIN: 3 [3200/4038 (79%)]\tLoss: 2.565538, Accuracy: 1/8 (12.500%)\n",
      "VAL:   LOSS--> 1.4037 (1.4037)\tACC-->62.500 (62.500)\n",
      " * Accuracy 55.4775\n"
     ]
    },
    {
     "name": "stderr",
     "output_type": "stream",
     "text": [
      "\r",
      "  3%|███▊                                                                                                                                            | 4/150 [07:36<4:37:33, 114.06s/it]"
     ]
    },
    {
     "name": "stdout",
     "output_type": "stream",
     "text": [
      "TRAIN: LOSS-->2.1632 (2.1632)\tACC-->12.500% (12.500%)\n",
      "TRAIN: 4 [0/4038 (0%)]\tLoss: 2.163244, Accuracy: 1/8 (12.500%)\n",
      "TRAIN: LOSS-->1.7857 (2.0214)\tACC-->37.500% (33.644%)\n",
      "TRAIN: 4 [1600/4038 (40%)]\tLoss: 1.785748, Accuracy: 3/8 (37.500%)\n",
      "TRAIN: LOSS-->1.9385 (1.9919)\tACC-->25.000% (34.320%)\n",
      "TRAIN: 4 [3200/4038 (79%)]\tLoss: 1.938523, Accuracy: 2/8 (25.000%)\n",
      "VAL:   LOSS--> 1.8208 (1.8208)\tACC-->37.500 (37.500)\n",
      " * Accuracy 51.2640\n"
     ]
    },
    {
     "name": "stderr",
     "output_type": "stream",
     "text": [
      "\r",
      "  3%|████▊                                                                                                                                           | 5/150 [09:28<4:34:46, 113.70s/it]"
     ]
    },
    {
     "name": "stdout",
     "output_type": "stream",
     "text": [
      "TRAIN: LOSS-->1.4332 (1.4332)\tACC-->37.500% (37.500%)\n",
      "TRAIN: 5 [0/4038 (0%)]\tLoss: 1.433194, Accuracy: 3/8 (37.500%)\n",
      "TRAIN: LOSS-->1.7884 (2.0433)\tACC-->25.000% (32.027%)\n",
      "TRAIN: 5 [1600/4038 (40%)]\tLoss: 1.788418, Accuracy: 2/8 (25.000%)\n",
      "TRAIN: LOSS-->1.8397 (1.9426)\tACC-->25.000% (34.695%)\n",
      "TRAIN: 5 [3200/4038 (79%)]\tLoss: 1.839739, Accuracy: 2/8 (25.000%)\n",
      "VAL:   LOSS--> 1.0323 (1.0323)\tACC-->87.500 (87.500)\n",
      " * Accuracy 50.5618\n"
     ]
    },
    {
     "name": "stderr",
     "output_type": "stream",
     "text": [
      "\r",
      "  4%|█████▊                                                                                                                                          | 6/150 [11:19<4:31:58, 113.32s/it]"
     ]
    },
    {
     "name": "stdout",
     "output_type": "stream",
     "text": [
      "TRAIN: LOSS-->2.0673 (2.0673)\tACC-->50.000% (50.000%)\n",
      "TRAIN: 6 [0/4038 (0%)]\tLoss: 2.067281, Accuracy: 4/8 (50.000%)\n",
      "TRAIN: LOSS-->1.4584 (1.8552)\tACC-->25.000% (37.189%)\n",
      "TRAIN: 6 [1600/4038 (40%)]\tLoss: 1.458430, Accuracy: 2/8 (25.000%)\n",
      "TRAIN: LOSS-->1.5161 (1.8599)\tACC-->50.000% (37.999%)\n",
      "TRAIN: 6 [3200/4038 (79%)]\tLoss: 1.516123, Accuracy: 4/8 (50.000%)\n",
      "VAL:   LOSS--> 1.0788 (1.0788)\tACC-->75.000 (75.000)\n",
      " * Accuracy 55.6180\n"
     ]
    },
    {
     "name": "stderr",
     "output_type": "stream",
     "text": [
      "\r",
      "  5%|██████▋                                                                                                                                         | 7/150 [13:11<4:29:20, 113.01s/it]"
     ]
    },
    {
     "name": "stdout",
     "output_type": "stream",
     "text": [
      "TRAIN: LOSS-->2.8150 (2.8150)\tACC-->25.000% (25.000%)\n",
      "TRAIN: 7 [0/4038 (0%)]\tLoss: 2.814975, Accuracy: 2/8 (25.000%)\n",
      "TRAIN: LOSS-->1.8564 (1.8769)\tACC-->25.000% (37.313%)\n",
      "TRAIN: 7 [1600/4038 (40%)]\tLoss: 1.856390, Accuracy: 2/8 (25.000%)\n",
      "TRAIN: LOSS-->1.5237 (1.8431)\tACC-->62.500% (38.248%)\n",
      "TRAIN: 7 [3200/4038 (79%)]\tLoss: 1.523685, Accuracy: 5/8 (62.500%)\n",
      "VAL:   LOSS--> 1.4758 (1.4758)\tACC-->50.000 (50.000)\n",
      " * Accuracy 58.9888\n"
     ]
    },
    {
     "name": "stderr",
     "output_type": "stream",
     "text": [
      "\r",
      "  5%|███████▋                                                                                                                                        | 8/150 [15:01<4:26:34, 112.64s/it]"
     ]
    },
    {
     "name": "stdout",
     "output_type": "stream",
     "text": [
      "TRAIN: LOSS-->1.8913 (1.8913)\tACC-->37.500% (37.500%)\n",
      "TRAIN: 8 [0/4038 (0%)]\tLoss: 1.891336, Accuracy: 3/8 (37.500%)\n",
      "TRAIN: LOSS-->1.7974 (1.8322)\tACC-->37.500% (38.308%)\n",
      "TRAIN: 8 [1600/4038 (40%)]\tLoss: 1.797388, Accuracy: 3/8 (37.500%)\n",
      "TRAIN: LOSS-->1.6783 (1.8438)\tACC-->37.500% (38.934%)\n",
      "TRAIN: 8 [3200/4038 (79%)]\tLoss: 1.678296, Accuracy: 3/8 (37.500%)\n",
      "VAL:   LOSS--> 0.9511 (0.9511)\tACC-->87.500 (87.500)\n",
      " * Accuracy 61.2360\n"
     ]
    },
    {
     "name": "stderr",
     "output_type": "stream",
     "text": [
      "\r",
      "  6%|████████▋                                                                                                                                       | 9/150 [16:52<4:24:14, 112.44s/it]"
     ]
    },
    {
     "name": "stdout",
     "output_type": "stream",
     "text": [
      "TRAIN: LOSS-->2.9911 (2.9911)\tACC-->25.000% (25.000%)\n",
      "TRAIN: 9 [0/4038 (0%)]\tLoss: 2.991076, Accuracy: 2/8 (25.000%)\n",
      "TRAIN: LOSS-->1.6665 (1.8742)\tACC-->37.500% (38.246%)\n",
      "TRAIN: 9 [1600/4038 (40%)]\tLoss: 1.666546, Accuracy: 3/8 (37.500%)\n",
      "TRAIN: LOSS-->2.2458 (1.8358)\tACC-->37.500% (39.464%)\n",
      "TRAIN: 9 [3200/4038 (79%)]\tLoss: 2.245814, Accuracy: 3/8 (37.500%)\n",
      "VAL:   LOSS--> 0.8628 (0.8628)\tACC-->75.000 (75.000)\n",
      " * Accuracy 52.9494\n"
     ]
    },
    {
     "name": "stderr",
     "output_type": "stream",
     "text": [
      "\r",
      "  7%|█████████▌                                                                                                                                     | 10/150 [18:43<4:22:08, 112.35s/it]"
     ]
    },
    {
     "name": "stdout",
     "output_type": "stream",
     "text": [
      "TRAIN: LOSS-->2.5949 (2.5949)\tACC-->25.000% (25.000%)\n",
      "TRAIN: 10 [0/4038 (0%)]\tLoss: 2.594947, Accuracy: 2/8 (25.000%)\n",
      "TRAIN: LOSS-->1.6428 (1.8367)\tACC-->25.000% (36.381%)\n",
      "TRAIN: 10 [1600/4038 (40%)]\tLoss: 1.642753, Accuracy: 2/8 (25.000%)\n",
      "TRAIN: LOSS-->1.7417 (1.8209)\tACC-->50.000% (38.279%)\n",
      "TRAIN: 10 [3200/4038 (79%)]\tLoss: 1.741724, Accuracy: 4/8 (50.000%)\n",
      "VAL:   LOSS--> 1.2750 (1.2750)\tACC-->87.500 (87.500)\n",
      " * Accuracy 59.9719\n"
     ]
    },
    {
     "name": "stderr",
     "output_type": "stream",
     "text": [
      "\r",
      "  7%|██████████▍                                                                                                                                    | 11/150 [20:35<4:20:10, 112.30s/it]"
     ]
    },
    {
     "name": "stdout",
     "output_type": "stream",
     "text": [
      "TRAIN: LOSS-->1.6995 (1.6995)\tACC-->37.500% (37.500%)\n",
      "TRAIN: 11 [0/4038 (0%)]\tLoss: 1.699544, Accuracy: 3/8 (37.500%)\n",
      "TRAIN: LOSS-->1.8014 (1.7568)\tACC-->25.000% (41.604%)\n",
      "TRAIN: 11 [1600/4038 (40%)]\tLoss: 1.801449, Accuracy: 2/8 (25.000%)\n",
      "TRAIN: LOSS-->1.9593 (1.7553)\tACC-->25.000% (41.490%)\n",
      "TRAIN: 11 [3200/4038 (79%)]\tLoss: 1.959250, Accuracy: 2/8 (25.000%)\n",
      "VAL:   LOSS--> 1.2949 (1.2949)\tACC-->62.500 (62.500)\n",
      " * Accuracy 61.2360\n"
     ]
    },
    {
     "name": "stderr",
     "output_type": "stream",
     "text": [
      "\r",
      "  8%|███████████▍                                                                                                                                   | 12/150 [22:25<4:17:57, 112.16s/it]"
     ]
    },
    {
     "name": "stdout",
     "output_type": "stream",
     "text": [
      "TRAIN: LOSS-->1.8802 (1.8802)\tACC-->37.500% (37.500%)\n",
      "TRAIN: 12 [0/4038 (0%)]\tLoss: 1.880241, Accuracy: 3/8 (37.500%)\n",
      "TRAIN: LOSS-->1.6193 (1.8087)\tACC-->37.500% (41.231%)\n",
      "TRAIN: 12 [1600/4038 (40%)]\tLoss: 1.619322, Accuracy: 3/8 (37.500%)\n",
      "TRAIN: LOSS-->1.7049 (1.7718)\tACC-->62.500% (42.051%)\n",
      "TRAIN: 12 [3200/4038 (79%)]\tLoss: 1.704916, Accuracy: 5/8 (62.500%)\n",
      "VAL:   LOSS--> 0.5338 (0.5338)\tACC-->87.500 (87.500)\n",
      " * Accuracy 58.0056\n"
     ]
    },
    {
     "name": "stderr",
     "output_type": "stream",
     "text": [
      "\r",
      "  9%|████████████▍                                                                                                                                  | 13/150 [24:16<4:15:45, 112.01s/it]"
     ]
    },
    {
     "name": "stdout",
     "output_type": "stream",
     "text": [
      "TRAIN: LOSS-->1.7026 (1.7026)\tACC-->37.500% (37.500%)\n",
      "TRAIN: 13 [0/4038 (0%)]\tLoss: 1.702638, Accuracy: 3/8 (37.500%)\n",
      "TRAIN: LOSS-->1.3857 (1.7844)\tACC-->62.500% (40.547%)\n",
      "TRAIN: 13 [1600/4038 (40%)]\tLoss: 1.385705, Accuracy: 5/8 (62.500%)\n",
      "TRAIN: LOSS-->2.5410 (1.7531)\tACC-->25.000% (41.708%)\n",
      "TRAIN: 13 [3200/4038 (79%)]\tLoss: 2.540990, Accuracy: 2/8 (25.000%)\n",
      "VAL:   LOSS--> 1.2672 (1.2672)\tACC-->50.000 (50.000)\n",
      " * Accuracy 60.3933\n"
     ]
    },
    {
     "name": "stderr",
     "output_type": "stream",
     "text": [
      "\r",
      "  9%|█████████████▎                                                                                                                                 | 14/150 [26:07<4:13:44, 111.94s/it]"
     ]
    },
    {
     "name": "stdout",
     "output_type": "stream",
     "text": [
      "TRAIN: LOSS-->1.9580 (1.9580)\tACC-->25.000% (25.000%)\n",
      "TRAIN: 14 [0/4038 (0%)]\tLoss: 1.957969, Accuracy: 2/8 (25.000%)\n",
      "TRAIN: LOSS-->1.2505 (1.7041)\tACC-->62.500% (45.274%)\n",
      "TRAIN: 14 [1600/4038 (40%)]\tLoss: 1.250481, Accuracy: 5/8 (62.500%)\n",
      "TRAIN: LOSS-->1.5447 (1.6946)\tACC-->37.500% (44.327%)\n",
      "TRAIN: 14 [3200/4038 (79%)]\tLoss: 1.544736, Accuracy: 3/8 (37.500%)\n",
      "VAL:   LOSS--> 0.7933 (0.7933)\tACC-->100.000 (100.000)\n",
      " * Accuracy 62.7809\n"
     ]
    },
    {
     "name": "stderr",
     "output_type": "stream",
     "text": [
      "\r",
      " 10%|██████████████▎                                                                                                                                | 15/150 [27:57<4:11:33, 111.80s/it]"
     ]
    },
    {
     "name": "stdout",
     "output_type": "stream",
     "text": [
      "TRAIN: LOSS-->1.9111 (1.9111)\tACC-->37.500% (37.500%)\n",
      "TRAIN: 15 [0/4038 (0%)]\tLoss: 1.911055, Accuracy: 3/8 (37.500%)\n",
      "TRAIN: LOSS-->1.2014 (1.7131)\tACC-->50.000% (45.585%)\n",
      "TRAIN: 15 [1600/4038 (40%)]\tLoss: 1.201414, Accuracy: 4/8 (50.000%)\n",
      "TRAIN: LOSS-->1.3895 (1.7106)\tACC-->62.500% (44.825%)\n",
      "TRAIN: 15 [3200/4038 (79%)]\tLoss: 1.389532, Accuracy: 5/8 (62.500%)\n",
      "VAL:   LOSS--> 1.0153 (1.0153)\tACC-->62.500 (62.500)\n",
      " * Accuracy 61.0955\n"
     ]
    },
    {
     "name": "stderr",
     "output_type": "stream",
     "text": [
      "\r",
      " 11%|███████████████▎                                                                                                                               | 16/150 [29:47<4:09:26, 111.69s/it]"
     ]
    },
    {
     "name": "stdout",
     "output_type": "stream",
     "text": [
      "TRAIN: LOSS-->1.5227 (1.5227)\tACC-->62.500% (62.500%)\n",
      "TRAIN: 16 [0/4038 (0%)]\tLoss: 1.522723, Accuracy: 5/8 (62.500%)\n",
      "TRAIN: LOSS-->1.2866 (1.7127)\tACC-->37.500% (45.460%)\n",
      "TRAIN: 16 [1600/4038 (40%)]\tLoss: 1.286615, Accuracy: 3/8 (37.500%)\n",
      "TRAIN: LOSS-->1.7588 (1.7046)\tACC-->50.000% (44.857%)\n",
      "TRAIN: 16 [3200/4038 (79%)]\tLoss: 1.758812, Accuracy: 4/8 (50.000%)\n",
      "VAL:   LOSS--> 0.9569 (0.9569)\tACC-->75.000 (75.000)\n",
      " * Accuracy 62.6404\n"
     ]
    },
    {
     "name": "stderr",
     "output_type": "stream",
     "text": [
      "\r",
      " 11%|████████████████▏                                                                                                                              | 17/150 [31:36<4:07:18, 111.57s/it]"
     ]
    },
    {
     "name": "stdout",
     "output_type": "stream",
     "text": [
      "TRAIN: LOSS-->1.6629 (1.6629)\tACC-->37.500% (37.500%)\n",
      "TRAIN: 17 [0/4038 (0%)]\tLoss: 1.662883, Accuracy: 3/8 (37.500%)\n",
      "TRAIN: LOSS-->2.7537 (1.6243)\tACC-->37.500% (47.139%)\n",
      "TRAIN: 17 [1600/4038 (40%)]\tLoss: 2.753724, Accuracy: 3/8 (37.500%)\n",
      "TRAIN: LOSS-->2.0995 (1.6413)\tACC-->37.500% (46.384%)\n",
      "TRAIN: 17 [3200/4038 (79%)]\tLoss: 2.099478, Accuracy: 3/8 (37.500%)\n",
      "VAL:   LOSS--> 1.3517 (1.3517)\tACC-->62.500 (62.500)\n",
      " * Accuracy 63.9045\n"
     ]
    },
    {
     "name": "stderr",
     "output_type": "stream",
     "text": [
      "\r",
      " 12%|█████████████████▏                                                                                                                             | 18/150 [33:26<4:05:13, 111.46s/it]"
     ]
    },
    {
     "name": "stdout",
     "output_type": "stream",
     "text": [
      "TRAIN: LOSS-->1.4432 (1.4432)\tACC-->62.500% (62.500%)\n",
      "TRAIN: 18 [0/4038 (0%)]\tLoss: 1.443236, Accuracy: 5/8 (62.500%)\n",
      "TRAIN: LOSS-->1.3506 (1.6456)\tACC-->50.000% (45.709%)\n",
      "TRAIN: 18 [1600/4038 (40%)]\tLoss: 1.350620, Accuracy: 4/8 (50.000%)\n",
      "TRAIN: LOSS-->1.3008 (1.6237)\tACC-->62.500% (46.384%)\n",
      "TRAIN: 18 [3200/4038 (79%)]\tLoss: 1.300752, Accuracy: 5/8 (62.500%)\n",
      "VAL:   LOSS--> 1.2025 (1.2025)\tACC-->62.500 (62.500)\n",
      " * Accuracy 70.3652\n"
     ]
    },
    {
     "name": "stderr",
     "output_type": "stream",
     "text": [
      "\r",
      " 13%|██████████████████                                                                                                                             | 19/150 [35:16<4:03:09, 111.37s/it]"
     ]
    },
    {
     "name": "stdout",
     "output_type": "stream",
     "text": [
      "TRAIN: LOSS-->1.8095 (1.8095)\tACC-->50.000% (50.000%)\n",
      "TRAIN: 19 [0/4038 (0%)]\tLoss: 1.809454, Accuracy: 4/8 (50.000%)\n",
      "TRAIN: LOSS-->1.8586 (1.6105)\tACC-->50.000% (46.393%)\n",
      "TRAIN: 19 [1600/4038 (40%)]\tLoss: 1.858575, Accuracy: 4/8 (50.000%)\n",
      "TRAIN: LOSS-->1.8410 (1.6252)\tACC-->25.000% (46.415%)\n",
      "TRAIN: 19 [3200/4038 (79%)]\tLoss: 1.841037, Accuracy: 2/8 (25.000%)\n",
      "VAL:   LOSS--> 0.9251 (0.9251)\tACC-->75.000 (75.000)\n",
      " * Accuracy 64.8876\n"
     ]
    },
    {
     "name": "stderr",
     "output_type": "stream",
     "text": [
      "\r",
      " 13%|███████████████████                                                                                                                            | 20/150 [37:05<4:01:08, 111.29s/it]"
     ]
    },
    {
     "name": "stdout",
     "output_type": "stream",
     "text": [
      "TRAIN: LOSS-->1.9514 (1.9514)\tACC-->25.000% (25.000%)\n",
      "TRAIN: 20 [0/4038 (0%)]\tLoss: 1.951396, Accuracy: 2/8 (25.000%)\n",
      "TRAIN: LOSS-->2.3767 (1.6353)\tACC-->12.500% (46.455%)\n",
      "TRAIN: 20 [1600/4038 (40%)]\tLoss: 2.376678, Accuracy: 1/8 (12.500%)\n",
      "TRAIN: LOSS-->1.6366 (1.6167)\tACC-->50.000% (46.945%)\n",
      "TRAIN: 20 [3200/4038 (79%)]\tLoss: 1.636617, Accuracy: 4/8 (50.000%)\n",
      "VAL:   LOSS--> 0.9313 (0.9313)\tACC-->75.000 (75.000)\n",
      " * Accuracy 69.1011\n"
     ]
    },
    {
     "name": "stderr",
     "output_type": "stream",
     "text": [
      "\r",
      " 14%|████████████████████                                                                                                                           | 21/150 [38:55<3:59:07, 111.22s/it]"
     ]
    },
    {
     "name": "stdout",
     "output_type": "stream",
     "text": [
      "TRAIN: LOSS-->1.1144 (1.1144)\tACC-->62.500% (62.500%)\n",
      "TRAIN: 21 [0/4038 (0%)]\tLoss: 1.114378, Accuracy: 5/8 (62.500%)\n",
      "TRAIN: LOSS-->0.7618 (1.5658)\tACC-->75.000% (47.823%)\n",
      "TRAIN: 21 [1600/4038 (40%)]\tLoss: 0.761827, Accuracy: 6/8 (75.000%)\n",
      "TRAIN: LOSS-->1.5956 (1.5424)\tACC-->50.000% (49.532%)\n",
      "TRAIN: 21 [3200/4038 (79%)]\tLoss: 1.595585, Accuracy: 4/8 (50.000%)\n",
      "VAL:   LOSS--> 0.8392 (0.8392)\tACC-->62.500 (62.500)\n",
      " * Accuracy 63.0618\n"
     ]
    },
    {
     "name": "stderr",
     "output_type": "stream",
     "text": [
      "\r",
      " 15%|████████████████████▉                                                                                                                          | 22/150 [40:45<3:57:08, 111.16s/it]"
     ]
    },
    {
     "name": "stdout",
     "output_type": "stream",
     "text": [
      "TRAIN: LOSS-->1.3388 (1.3388)\tACC-->50.000% (50.000%)\n",
      "TRAIN: 22 [0/4038 (0%)]\tLoss: 1.338774, Accuracy: 4/8 (50.000%)\n",
      "TRAIN: LOSS-->1.0086 (1.5691)\tACC-->62.500% (48.818%)\n",
      "TRAIN: 22 [1600/4038 (40%)]\tLoss: 1.008642, Accuracy: 5/8 (62.500%)\n",
      "TRAIN: LOSS-->1.6899 (1.5661)\tACC-->25.000% (48.722%)\n",
      "TRAIN: 22 [3200/4038 (79%)]\tLoss: 1.689944, Accuracy: 2/8 (25.000%)\n",
      "VAL:   LOSS--> 0.9289 (0.9289)\tACC-->75.000 (75.000)\n",
      " * Accuracy 71.0674\n"
     ]
    },
    {
     "name": "stderr",
     "output_type": "stream",
     "text": [
      "\r",
      " 15%|█████████████████████▉                                                                                                                         | 23/150 [42:35<3:55:09, 111.10s/it]"
     ]
    },
    {
     "name": "stdout",
     "output_type": "stream",
     "text": [
      "TRAIN: LOSS-->1.7017 (1.7017)\tACC-->50.000% (50.000%)\n",
      "TRAIN: 23 [0/4038 (0%)]\tLoss: 1.701701, Accuracy: 4/8 (50.000%)\n",
      "TRAIN: LOSS-->1.9730 (1.5490)\tACC-->12.500% (51.555%)\n",
      "TRAIN: 23 [1600/4038 (40%)]\tLoss: 1.972972, Accuracy: 1/8 (12.500%)\n",
      "TRAIN: LOSS-->1.2689 (1.5193)\tACC-->75.000% (51.870%)\n",
      "TRAIN: 23 [3200/4038 (79%)]\tLoss: 1.268925, Accuracy: 6/8 (75.000%)\n",
      "VAL:   LOSS--> 0.9416 (0.9416)\tACC-->75.000 (75.000)\n",
      " * Accuracy 74.0169\n"
     ]
    },
    {
     "name": "stderr",
     "output_type": "stream",
     "text": [
      "\r",
      " 16%|██████████████████████▉                                                                                                                        | 24/150 [44:25<3:53:11, 111.05s/it]"
     ]
    },
    {
     "name": "stdout",
     "output_type": "stream",
     "text": [
      "TRAIN: LOSS-->1.2011 (1.2011)\tACC-->37.500% (37.500%)\n",
      "TRAIN: 24 [0/4038 (0%)]\tLoss: 1.201117, Accuracy: 3/8 (37.500%)\n",
      "TRAIN: LOSS-->2.1972 (1.4817)\tACC-->37.500% (51.928%)\n",
      "TRAIN: 24 [1600/4038 (40%)]\tLoss: 2.197181, Accuracy: 3/8 (37.500%)\n",
      "TRAIN: LOSS-->1.5783 (1.4912)\tACC-->37.500% (52.307%)\n",
      "TRAIN: 24 [3200/4038 (79%)]\tLoss: 1.578329, Accuracy: 3/8 (37.500%)\n",
      "VAL:   LOSS--> 0.7944 (0.7944)\tACC-->62.500 (62.500)\n",
      " * Accuracy 70.6461\n"
     ]
    },
    {
     "name": "stderr",
     "output_type": "stream",
     "text": [
      "\r",
      " 17%|███████████████████████▊                                                                                                                       | 25/150 [46:14<3:51:13, 110.99s/it]"
     ]
    },
    {
     "name": "stdout",
     "output_type": "stream",
     "text": [
      "TRAIN: LOSS-->1.1322 (1.1322)\tACC-->75.000% (75.000%)\n",
      "TRAIN: 25 [0/4038 (0%)]\tLoss: 1.132218, Accuracy: 6/8 (75.000%)\n",
      "TRAIN: LOSS-->0.9994 (1.5122)\tACC-->62.500% (50.311%)\n",
      "TRAIN: 25 [1600/4038 (40%)]\tLoss: 0.999404, Accuracy: 5/8 (62.500%)\n",
      "TRAIN: LOSS-->1.3551 (1.4761)\tACC-->50.000% (51.403%)\n",
      "TRAIN: 25 [3200/4038 (79%)]\tLoss: 1.355065, Accuracy: 4/8 (50.000%)\n",
      "VAL:   LOSS--> 0.5381 (0.5381)\tACC-->100.000 (100.000)\n",
      " * Accuracy 68.9607\n"
     ]
    },
    {
     "name": "stderr",
     "output_type": "stream",
     "text": [
      "\r",
      " 17%|████████████████████████▊                                                                                                                      | 26/150 [48:04<3:49:16, 110.94s/it]"
     ]
    },
    {
     "name": "stdout",
     "output_type": "stream",
     "text": [
      "TRAIN: LOSS-->1.0498 (1.0498)\tACC-->62.500% (62.500%)\n",
      "TRAIN: 26 [0/4038 (0%)]\tLoss: 1.049838, Accuracy: 5/8 (62.500%)\n",
      "TRAIN: LOSS-->1.3191 (1.4165)\tACC-->37.500% (53.731%)\n",
      "TRAIN: 26 [1600/4038 (40%)]\tLoss: 1.319078, Accuracy: 3/8 (37.500%)\n",
      "TRAIN: LOSS-->0.8717 (1.4471)\tACC-->62.500% (52.899%)\n",
      "TRAIN: 26 [3200/4038 (79%)]\tLoss: 0.871729, Accuracy: 5/8 (62.500%)\n",
      "VAL:   LOSS--> 0.9502 (0.9502)\tACC-->75.000 (75.000)\n",
      " * Accuracy 72.6124\n"
     ]
    },
    {
     "name": "stderr",
     "output_type": "stream",
     "text": [
      "\r",
      " 18%|█████████████████████████▋                                                                                                                     | 27/150 [49:54<3:47:20, 110.90s/it]"
     ]
    },
    {
     "name": "stdout",
     "output_type": "stream",
     "text": [
      "TRAIN: LOSS-->1.3144 (1.3144)\tACC-->50.000% (50.000%)\n",
      "TRAIN: 27 [0/4038 (0%)]\tLoss: 1.314397, Accuracy: 4/8 (50.000%)\n",
      "TRAIN: LOSS-->1.1487 (1.4406)\tACC-->50.000% (53.856%)\n",
      "TRAIN: 27 [1600/4038 (40%)]\tLoss: 1.148680, Accuracy: 4/8 (50.000%)\n",
      "TRAIN: LOSS-->1.7284 (1.4250)\tACC-->37.500% (54.364%)\n",
      "TRAIN: 27 [3200/4038 (79%)]\tLoss: 1.728392, Accuracy: 3/8 (37.500%)\n",
      "VAL:   LOSS--> 0.6888 (0.6888)\tACC-->100.000 (100.000)\n",
      " * Accuracy 78.6517\n"
     ]
    },
    {
     "name": "stderr",
     "output_type": "stream",
     "text": [
      "\r",
      " 19%|██████████████████████████▋                                                                                                                    | 28/150 [51:44<3:45:25, 110.86s/it]"
     ]
    },
    {
     "name": "stdout",
     "output_type": "stream",
     "text": [
      "TRAIN: LOSS-->1.7640 (1.7640)\tACC-->37.500% (37.500%)\n",
      "TRAIN: 28 [0/4038 (0%)]\tLoss: 1.763999, Accuracy: 3/8 (37.500%)\n",
      "TRAIN: LOSS-->0.8611 (1.4300)\tACC-->75.000% (53.358%)\n",
      "TRAIN: 28 [1600/4038 (40%)]\tLoss: 0.861116, Accuracy: 6/8 (75.000%)\n",
      "TRAIN: LOSS-->1.3938 (1.4010)\tACC-->50.000% (55.362%)\n",
      "TRAIN: 28 [3200/4038 (79%)]\tLoss: 1.393808, Accuracy: 4/8 (50.000%)\n",
      "VAL:   LOSS--> 0.4897 (0.4897)\tACC-->87.500 (87.500)\n",
      " * Accuracy 73.5955\n"
     ]
    },
    {
     "name": "stderr",
     "output_type": "stream",
     "text": [
      "\r",
      " 19%|███████████████████████████▋                                                                                                                   | 29/150 [53:33<3:43:30, 110.83s/it]"
     ]
    },
    {
     "name": "stdout",
     "output_type": "stream",
     "text": [
      "TRAIN: LOSS-->1.4003 (1.4003)\tACC-->62.500% (62.500%)\n",
      "TRAIN: 29 [0/4038 (0%)]\tLoss: 1.400255, Accuracy: 5/8 (62.500%)\n",
      "TRAIN: LOSS-->1.5693 (1.4418)\tACC-->50.000% (53.234%)\n",
      "TRAIN: 29 [1600/4038 (40%)]\tLoss: 1.569252, Accuracy: 4/8 (50.000%)\n",
      "TRAIN: LOSS-->1.1133 (1.3983)\tACC-->62.500% (54.177%)\n",
      "TRAIN: 29 [3200/4038 (79%)]\tLoss: 1.113348, Accuracy: 5/8 (62.500%)\n",
      "VAL:   LOSS--> 0.6779 (0.6779)\tACC-->75.000 (75.000)\n",
      " * Accuracy 80.8989\n"
     ]
    },
    {
     "name": "stderr",
     "output_type": "stream",
     "text": [
      "\r",
      " 20%|████████████████████████████▌                                                                                                                  | 30/150 [55:23<3:41:35, 110.79s/it]"
     ]
    },
    {
     "name": "stdout",
     "output_type": "stream",
     "text": [
      "TRAIN: LOSS-->1.2453 (1.2453)\tACC-->62.500% (62.500%)\n",
      "TRAIN: 30 [0/4038 (0%)]\tLoss: 1.245311, Accuracy: 5/8 (62.500%)\n",
      "TRAIN: LOSS-->0.9441 (1.4122)\tACC-->62.500% (53.980%)\n",
      "TRAIN: 30 [1600/4038 (40%)]\tLoss: 0.944121, Accuracy: 5/8 (62.500%)\n",
      "TRAIN: LOSS-->1.1402 (1.3763)\tACC-->62.500% (55.299%)\n",
      "TRAIN: 30 [3200/4038 (79%)]\tLoss: 1.140218, Accuracy: 5/8 (62.500%)\n",
      "VAL:   LOSS--> 1.1223 (1.1223)\tACC-->50.000 (50.000)\n",
      " * Accuracy 78.0899\n"
     ]
    },
    {
     "name": "stderr",
     "output_type": "stream",
     "text": [
      "\r",
      " 21%|█████████████████████████████▌                                                                                                                 | 31/150 [57:13<3:39:40, 110.76s/it]"
     ]
    },
    {
     "name": "stdout",
     "output_type": "stream",
     "text": [
      "TRAIN: LOSS-->0.9340 (0.9340)\tACC-->75.000% (75.000%)\n",
      "TRAIN: 31 [0/4038 (0%)]\tLoss: 0.933951, Accuracy: 6/8 (75.000%)\n",
      "TRAIN: LOSS-->1.5799 (1.3284)\tACC-->50.000% (56.903%)\n",
      "TRAIN: 31 [1600/4038 (40%)]\tLoss: 1.579950, Accuracy: 4/8 (50.000%)\n",
      "TRAIN: LOSS-->1.4561 (1.3458)\tACC-->62.500% (56.266%)\n",
      "TRAIN: 31 [3200/4038 (79%)]\tLoss: 1.456142, Accuracy: 5/8 (62.500%)\n",
      "VAL:   LOSS--> 0.4945 (0.4945)\tACC-->87.500 (87.500)\n",
      " * Accuracy 73.5955\n"
     ]
    },
    {
     "name": "stderr",
     "output_type": "stream",
     "text": [
      "\r",
      " 21%|██████████████████████████████▌                                                                                                                | 32/150 [59:03<3:37:45, 110.72s/it]"
     ]
    },
    {
     "name": "stdout",
     "output_type": "stream",
     "text": [
      "TRAIN: LOSS-->1.9964 (1.9964)\tACC-->50.000% (50.000%)\n",
      "TRAIN: 32 [0/4038 (0%)]\tLoss: 1.996351, Accuracy: 4/8 (50.000%)\n",
      "TRAIN: LOSS-->1.0470 (1.3600)\tACC-->62.500% (55.410%)\n",
      "TRAIN: 32 [1600/4038 (40%)]\tLoss: 1.046981, Accuracy: 5/8 (62.500%)\n",
      "TRAIN: LOSS-->0.9821 (1.3291)\tACC-->75.000% (57.544%)\n",
      "TRAIN: 32 [3200/4038 (79%)]\tLoss: 0.982083, Accuracy: 6/8 (75.000%)\n",
      "VAL:   LOSS--> 0.6970 (0.6970)\tACC-->87.500 (87.500)\n",
      " * Accuracy 76.2640\n"
     ]
    },
    {
     "name": "stderr",
     "output_type": "stream",
     "text": [
      "\r",
      " 22%|███████████████████████████████                                                                                                              | 33/150 [1:00:52<3:35:51, 110.70s/it]"
     ]
    },
    {
     "name": "stdout",
     "output_type": "stream",
     "text": [
      "TRAIN: LOSS-->1.3085 (1.3085)\tACC-->75.000% (75.000%)\n",
      "TRAIN: 33 [0/4038 (0%)]\tLoss: 1.308500, Accuracy: 6/8 (75.000%)\n",
      "TRAIN: LOSS-->0.9207 (1.3049)\tACC-->62.500% (57.525%)\n",
      "TRAIN: 33 [1600/4038 (40%)]\tLoss: 0.920727, Accuracy: 5/8 (62.500%)\n",
      "TRAIN: LOSS-->0.8180 (1.3006)\tACC-->75.000% (58.416%)\n",
      "TRAIN: 33 [3200/4038 (79%)]\tLoss: 0.817997, Accuracy: 6/8 (75.000%)\n",
      "VAL:   LOSS--> 0.6009 (0.6009)\tACC-->87.500 (87.500)\n",
      " * Accuracy 80.3371\n"
     ]
    },
    {
     "name": "stderr",
     "output_type": "stream",
     "text": [
      "\r",
      " 23%|███████████████████████████████▉                                                                                                             | 34/150 [1:02:42<3:33:57, 110.67s/it]"
     ]
    },
    {
     "name": "stdout",
     "output_type": "stream",
     "text": [
      "TRAIN: LOSS-->1.6357 (1.6357)\tACC-->62.500% (62.500%)\n",
      "TRAIN: 34 [0/4038 (0%)]\tLoss: 1.635653, Accuracy: 5/8 (62.500%)\n",
      "TRAIN: LOSS-->1.2548 (1.3036)\tACC-->50.000% (59.391%)\n",
      "TRAIN: 34 [1600/4038 (40%)]\tLoss: 1.254778, Accuracy: 4/8 (50.000%)\n",
      "TRAIN: LOSS-->0.7285 (1.2858)\tACC-->75.000% (59.570%)\n",
      "TRAIN: 34 [3200/4038 (79%)]\tLoss: 0.728478, Accuracy: 6/8 (75.000%)\n",
      "VAL:   LOSS--> 0.5563 (0.5563)\tACC-->87.500 (87.500)\n",
      " * Accuracy 72.4719\n"
     ]
    },
    {
     "name": "stderr",
     "output_type": "stream",
     "text": [
      "\r",
      " 23%|████████████████████████████████▉                                                                                                            | 35/150 [1:04:32<3:32:03, 110.64s/it]"
     ]
    },
    {
     "name": "stdout",
     "output_type": "stream",
     "text": [
      "TRAIN: LOSS-->1.0714 (1.0714)\tACC-->75.000% (75.000%)\n",
      "TRAIN: 35 [0/4038 (0%)]\tLoss: 1.071352, Accuracy: 6/8 (75.000%)\n",
      "TRAIN: LOSS-->0.7410 (1.2747)\tACC-->87.500% (59.328%)\n",
      "TRAIN: 35 [1600/4038 (40%)]\tLoss: 0.740983, Accuracy: 7/8 (87.500%)\n",
      "TRAIN: LOSS-->1.0004 (1.2906)\tACC-->87.500% (58.011%)\n",
      "TRAIN: 35 [3200/4038 (79%)]\tLoss: 1.000370, Accuracy: 7/8 (87.500%)\n",
      "VAL:   LOSS--> 0.7328 (0.7328)\tACC-->87.500 (87.500)\n",
      " * Accuracy 77.8090\n"
     ]
    },
    {
     "name": "stderr",
     "output_type": "stream",
     "text": [
      "\r",
      " 24%|█████████████████████████████████▊                                                                                                           | 36/150 [1:06:22<3:30:11, 110.62s/it]"
     ]
    },
    {
     "name": "stdout",
     "output_type": "stream",
     "text": [
      "TRAIN: LOSS-->1.5893 (1.5893)\tACC-->62.500% (62.500%)\n",
      "TRAIN: 36 [0/4038 (0%)]\tLoss: 1.589292, Accuracy: 5/8 (62.500%)\n",
      "TRAIN: LOSS-->1.4818 (1.2452)\tACC-->37.500% (59.515%)\n",
      "TRAIN: 36 [1600/4038 (40%)]\tLoss: 1.481809, Accuracy: 3/8 (37.500%)\n",
      "TRAIN: LOSS-->1.1315 (1.2558)\tACC-->62.500% (58.354%)\n",
      "TRAIN: 36 [3200/4038 (79%)]\tLoss: 1.131538, Accuracy: 5/8 (62.500%)\n",
      "VAL:   LOSS--> 0.6495 (0.6495)\tACC-->87.500 (87.500)\n",
      " * Accuracy 82.3034\n"
     ]
    },
    {
     "name": "stderr",
     "output_type": "stream",
     "text": [
      "\r",
      " 25%|██████████████████████████████████▊                                                                                                          | 37/150 [1:08:12<3:28:17, 110.60s/it]"
     ]
    },
    {
     "name": "stdout",
     "output_type": "stream",
     "text": [
      "TRAIN: LOSS-->1.9439 (1.9439)\tACC-->25.000% (25.000%)\n",
      "TRAIN: 37 [0/4038 (0%)]\tLoss: 1.943949, Accuracy: 2/8 (25.000%)\n",
      "TRAIN: LOSS-->1.0594 (1.2347)\tACC-->62.500% (61.692%)\n",
      "TRAIN: 37 [1600/4038 (40%)]\tLoss: 1.059422, Accuracy: 5/8 (62.500%)\n",
      "TRAIN: LOSS-->0.6788 (1.2436)\tACC-->75.000% (60.817%)\n",
      "TRAIN: 37 [3200/4038 (79%)]\tLoss: 0.678790, Accuracy: 6/8 (75.000%)\n",
      "VAL:   LOSS--> 0.4548 (0.4548)\tACC-->87.500 (87.500)\n",
      " * Accuracy 82.7247\n"
     ]
    },
    {
     "name": "stderr",
     "output_type": "stream",
     "text": [
      "\r",
      " 25%|███████████████████████████████████▋                                                                                                         | 38/150 [1:10:01<3:26:24, 110.58s/it]"
     ]
    },
    {
     "name": "stdout",
     "output_type": "stream",
     "text": [
      "TRAIN: LOSS-->1.0424 (1.0424)\tACC-->50.000% (50.000%)\n",
      "TRAIN: 38 [0/4038 (0%)]\tLoss: 1.042374, Accuracy: 4/8 (50.000%)\n",
      "TRAIN: LOSS-->1.3779 (1.2277)\tACC-->37.500% (59.142%)\n",
      "TRAIN: 38 [1600/4038 (40%)]\tLoss: 1.377865, Accuracy: 3/8 (37.500%)\n",
      "TRAIN: LOSS-->1.4228 (1.2013)\tACC-->50.000% (61.128%)\n",
      "TRAIN: 38 [3200/4038 (79%)]\tLoss: 1.422752, Accuracy: 4/8 (50.000%)\n",
      "VAL:   LOSS--> 0.4313 (0.4313)\tACC-->100.000 (100.000)\n",
      " * Accuracy 74.0169\n"
     ]
    },
    {
     "name": "stderr",
     "output_type": "stream",
     "text": [
      "\r",
      " 26%|████████████████████████████████████▋                                                                                                        | 39/150 [1:11:51<3:24:31, 110.55s/it]"
     ]
    },
    {
     "name": "stdout",
     "output_type": "stream",
     "text": [
      "TRAIN: LOSS-->2.1914 (2.1914)\tACC-->37.500% (37.500%)\n",
      "TRAIN: 39 [0/4038 (0%)]\tLoss: 2.191367, Accuracy: 3/8 (37.500%)\n",
      "TRAIN: LOSS-->1.2864 (1.1958)\tACC-->62.500% (62.749%)\n",
      "TRAIN: 39 [1600/4038 (40%)]\tLoss: 1.286400, Accuracy: 5/8 (62.500%)\n",
      "TRAIN: LOSS-->0.7641 (1.1971)\tACC-->75.000% (61.534%)\n",
      "TRAIN: 39 [3200/4038 (79%)]\tLoss: 0.764078, Accuracy: 6/8 (75.000%)\n",
      "VAL:   LOSS--> 0.8800 (0.8800)\tACC-->62.500 (62.500)\n",
      " * Accuracy 81.8820\n"
     ]
    },
    {
     "name": "stderr",
     "output_type": "stream",
     "text": [
      "\r",
      " 27%|█████████████████████████████████████▌                                                                                                       | 40/150 [1:13:41<3:22:38, 110.53s/it]"
     ]
    },
    {
     "name": "stdout",
     "output_type": "stream",
     "text": [
      "TRAIN: LOSS-->0.5993 (0.5993)\tACC-->87.500% (87.500%)\n",
      "TRAIN: 40 [0/4038 (0%)]\tLoss: 0.599250, Accuracy: 7/8 (87.500%)\n",
      "TRAIN: LOSS-->1.6115 (1.1461)\tACC-->50.000% (62.376%)\n",
      "TRAIN: 40 [1600/4038 (40%)]\tLoss: 1.611525, Accuracy: 4/8 (50.000%)\n",
      "TRAIN: LOSS-->0.4045 (1.1573)\tACC-->87.500% (62.406%)\n",
      "TRAIN: 40 [3200/4038 (79%)]\tLoss: 0.404499, Accuracy: 7/8 (87.500%)\n",
      "VAL:   LOSS--> 0.6315 (0.6315)\tACC-->87.500 (87.500)\n",
      " * Accuracy 79.9157\n"
     ]
    },
    {
     "name": "stderr",
     "output_type": "stream",
     "text": [
      "\r",
      " 27%|██████████████████████████████████████▌                                                                                                      | 41/150 [1:15:31<3:20:45, 110.51s/it]"
     ]
    },
    {
     "name": "stdout",
     "output_type": "stream",
     "text": [
      "TRAIN: LOSS-->1.2667 (1.2667)\tACC-->87.500% (87.500%)\n",
      "TRAIN: 41 [0/4038 (0%)]\tLoss: 1.266714, Accuracy: 7/8 (87.500%)\n",
      "TRAIN: LOSS-->1.2006 (1.2000)\tACC-->62.500% (62.002%)\n",
      "TRAIN: 41 [1600/4038 (40%)]\tLoss: 1.200649, Accuracy: 5/8 (62.500%)\n",
      "TRAIN: LOSS-->0.5868 (1.2013)\tACC-->87.500% (61.658%)\n",
      "TRAIN: 41 [3200/4038 (79%)]\tLoss: 0.586826, Accuracy: 7/8 (87.500%)\n",
      "VAL:   LOSS--> 0.4989 (0.4989)\tACC-->75.000 (75.000)\n",
      " * Accuracy 79.6348\n"
     ]
    },
    {
     "name": "stderr",
     "output_type": "stream",
     "text": [
      "\r",
      " 28%|███████████████████████████████████████▍                                                                                                     | 42/150 [1:17:20<3:18:53, 110.49s/it]"
     ]
    },
    {
     "name": "stdout",
     "output_type": "stream",
     "text": [
      "TRAIN: LOSS-->1.9704 (1.9704)\tACC-->37.500% (37.500%)\n",
      "TRAIN: 42 [0/4038 (0%)]\tLoss: 1.970370, Accuracy: 3/8 (37.500%)\n",
      "TRAIN: LOSS-->1.6626 (1.1545)\tACC-->37.500% (64.552%)\n",
      "TRAIN: 42 [1600/4038 (40%)]\tLoss: 1.662573, Accuracy: 3/8 (37.500%)\n",
      "TRAIN: LOSS-->0.9951 (1.1189)\tACC-->75.000% (64.776%)\n",
      "TRAIN: 42 [3200/4038 (79%)]\tLoss: 0.995149, Accuracy: 6/8 (75.000%)\n",
      "VAL:   LOSS--> 0.4681 (0.4681)\tACC-->100.000 (100.000)\n",
      " * Accuracy 80.7584\n"
     ]
    },
    {
     "name": "stderr",
     "output_type": "stream",
     "text": [
      "\r",
      " 29%|████████████████████████████████████████▍                                                                                                    | 43/150 [1:19:10<3:17:00, 110.47s/it]"
     ]
    },
    {
     "name": "stdout",
     "output_type": "stream",
     "text": [
      "TRAIN: LOSS-->1.6250 (1.6250)\tACC-->62.500% (62.500%)\n",
      "TRAIN: 43 [0/4038 (0%)]\tLoss: 1.625012, Accuracy: 5/8 (62.500%)\n",
      "TRAIN: LOSS-->0.7362 (1.1229)\tACC-->87.500% (63.184%)\n",
      "TRAIN: 43 [1600/4038 (40%)]\tLoss: 0.736152, Accuracy: 7/8 (87.500%)\n",
      "TRAIN: LOSS-->1.3658 (1.1378)\tACC-->37.500% (62.936%)\n",
      "TRAIN: 43 [3200/4038 (79%)]\tLoss: 1.365843, Accuracy: 3/8 (37.500%)\n",
      "VAL:   LOSS--> 0.3754 (0.3754)\tACC-->75.000 (75.000)\n",
      " * Accuracy 83.1461\n"
     ]
    },
    {
     "name": "stderr",
     "output_type": "stream",
     "text": [
      "\r",
      " 29%|█████████████████████████████████████████▎                                                                                                   | 44/150 [1:21:00<3:15:08, 110.46s/it]"
     ]
    },
    {
     "name": "stdout",
     "output_type": "stream",
     "text": [
      "TRAIN: LOSS-->1.6091 (1.6091)\tACC-->62.500% (62.500%)\n",
      "TRAIN: 44 [0/4038 (0%)]\tLoss: 1.609122, Accuracy: 5/8 (62.500%)\n",
      "TRAIN: LOSS-->1.4302 (1.1377)\tACC-->37.500% (63.246%)\n",
      "TRAIN: 44 [1600/4038 (40%)]\tLoss: 1.430162, Accuracy: 3/8 (37.500%)\n",
      "TRAIN: LOSS-->0.6644 (1.1048)\tACC-->87.500% (64.931%)\n",
      "TRAIN: 44 [3200/4038 (79%)]\tLoss: 0.664371, Accuracy: 7/8 (87.500%)\n",
      "VAL:   LOSS--> 0.3741 (0.3741)\tACC-->87.500 (87.500)\n",
      " * Accuracy 86.0955\n"
     ]
    },
    {
     "name": "stderr",
     "output_type": "stream",
     "text": [
      "\r",
      " 30%|██████████████████████████████████████████▎                                                                                                  | 45/150 [1:22:50<3:13:16, 110.45s/it]"
     ]
    },
    {
     "name": "stdout",
     "output_type": "stream",
     "text": [
      "TRAIN: LOSS-->0.8730 (0.8730)\tACC-->50.000% (50.000%)\n",
      "TRAIN: 45 [0/4038 (0%)]\tLoss: 0.872981, Accuracy: 4/8 (50.000%)\n",
      "TRAIN: LOSS-->0.4751 (1.0725)\tACC-->75.000% (66.045%)\n",
      "TRAIN: 45 [1600/4038 (40%)]\tLoss: 0.475145, Accuracy: 6/8 (75.000%)\n",
      "TRAIN: LOSS-->0.8582 (1.0693)\tACC-->50.000% (65.274%)\n",
      "TRAIN: 45 [3200/4038 (79%)]\tLoss: 0.858178, Accuracy: 4/8 (50.000%)\n",
      "VAL:   LOSS--> 0.3832 (0.3832)\tACC-->75.000 (75.000)\n",
      " * Accuracy 85.6742\n"
     ]
    },
    {
     "name": "stderr",
     "output_type": "stream",
     "text": [
      "\r",
      " 31%|███████████████████████████████████████████▏                                                                                                 | 46/150 [1:24:39<3:11:24, 110.43s/it]"
     ]
    },
    {
     "name": "stdout",
     "output_type": "stream",
     "text": [
      "TRAIN: LOSS-->1.1868 (1.1868)\tACC-->50.000% (50.000%)\n",
      "TRAIN: 46 [0/4038 (0%)]\tLoss: 1.186811, Accuracy: 4/8 (50.000%)\n",
      "TRAIN: LOSS-->0.7329 (1.1087)\tACC-->75.000% (65.672%)\n",
      "TRAIN: 46 [1600/4038 (40%)]\tLoss: 0.732911, Accuracy: 6/8 (75.000%)\n",
      "TRAIN: LOSS-->0.8564 (1.0902)\tACC-->87.500% (65.835%)\n",
      "TRAIN: 46 [3200/4038 (79%)]\tLoss: 0.856376, Accuracy: 7/8 (87.500%)\n",
      "VAL:   LOSS--> 0.5757 (0.5757)\tACC-->62.500 (62.500)\n",
      " * Accuracy 82.1629\n"
     ]
    },
    {
     "name": "stderr",
     "output_type": "stream",
     "text": [
      "\r",
      " 31%|████████████████████████████████████████████▏                                                                                                | 47/150 [1:26:29<3:09:32, 110.41s/it]"
     ]
    },
    {
     "name": "stdout",
     "output_type": "stream",
     "text": [
      "TRAIN: LOSS-->1.6135 (1.6135)\tACC-->37.500% (37.500%)\n",
      "TRAIN: 47 [0/4038 (0%)]\tLoss: 1.613522, Accuracy: 3/8 (37.500%)\n",
      "TRAIN: LOSS-->1.8499 (1.0330)\tACC-->37.500% (66.729%)\n",
      "TRAIN: 47 [1600/4038 (40%)]\tLoss: 1.849906, Accuracy: 3/8 (37.500%)\n",
      "TRAIN: LOSS-->0.6929 (1.0531)\tACC-->75.000% (65.305%)\n",
      "TRAIN: 47 [3200/4038 (79%)]\tLoss: 0.692888, Accuracy: 6/8 (75.000%)\n",
      "VAL:   LOSS--> 0.3824 (0.3824)\tACC-->100.000 (100.000)\n",
      " * Accuracy 85.2528\n"
     ]
    },
    {
     "name": "stderr",
     "output_type": "stream",
     "text": [
      "\r",
      " 32%|█████████████████████████████████████████████                                                                                                | 48/150 [1:28:19<3:07:41, 110.41s/it]"
     ]
    },
    {
     "name": "stdout",
     "output_type": "stream",
     "text": [
      "TRAIN: LOSS-->1.0103 (1.0103)\tACC-->50.000% (50.000%)\n",
      "TRAIN: 48 [0/4038 (0%)]\tLoss: 1.010308, Accuracy: 4/8 (50.000%)\n",
      "TRAIN: LOSS-->0.9333 (1.0761)\tACC-->62.500% (66.294%)\n",
      "TRAIN: 48 [1600/4038 (40%)]\tLoss: 0.933313, Accuracy: 5/8 (62.500%)\n",
      "TRAIN: LOSS-->0.5448 (1.0687)\tACC-->75.000% (66.272%)\n",
      "TRAIN: 48 [3200/4038 (79%)]\tLoss: 0.544765, Accuracy: 6/8 (75.000%)\n",
      "VAL:   LOSS--> 0.4913 (0.4913)\tACC-->75.000 (75.000)\n",
      " * Accuracy 87.0787\n"
     ]
    },
    {
     "name": "stderr",
     "output_type": "stream",
     "text": [
      "\r",
      " 33%|██████████████████████████████████████████████                                                                                               | 49/150 [1:30:09<3:05:50, 110.40s/it]"
     ]
    },
    {
     "name": "stdout",
     "output_type": "stream",
     "text": [
      "TRAIN: LOSS-->2.6112 (2.6112)\tACC-->37.500% (37.500%)\n",
      "TRAIN: 49 [0/4038 (0%)]\tLoss: 2.611186, Accuracy: 3/8 (37.500%)\n",
      "TRAIN: LOSS-->1.1040 (1.0744)\tACC-->50.000% (64.614%)\n",
      "TRAIN: 49 [1600/4038 (40%)]\tLoss: 1.104018, Accuracy: 4/8 (50.000%)\n",
      "TRAIN: LOSS-->1.1629 (1.0470)\tACC-->37.500% (66.397%)\n",
      "TRAIN: 49 [3200/4038 (79%)]\tLoss: 1.162908, Accuracy: 3/8 (37.500%)\n",
      "VAL:   LOSS--> 0.6692 (0.6692)\tACC-->62.500 (62.500)\n",
      " * Accuracy 83.5674\n"
     ]
    },
    {
     "name": "stderr",
     "output_type": "stream",
     "text": [
      "\r",
      " 33%|███████████████████████████████████████████████                                                                                              | 50/150 [1:31:59<3:03:58, 110.39s/it]"
     ]
    },
    {
     "name": "stdout",
     "output_type": "stream",
     "text": [
      "TRAIN: LOSS-->0.8708 (0.8708)\tACC-->75.000% (75.000%)\n",
      "TRAIN: 50 [0/4038 (0%)]\tLoss: 0.870754, Accuracy: 6/8 (75.000%)\n",
      "TRAIN: LOSS-->0.7208 (1.0450)\tACC-->62.500% (67.164%)\n",
      "TRAIN: 50 [1600/4038 (40%)]\tLoss: 0.720774, Accuracy: 5/8 (62.500%)\n",
      "TRAIN: LOSS-->1.2471 (1.0439)\tACC-->62.500% (67.113%)\n",
      "TRAIN: 50 [3200/4038 (79%)]\tLoss: 1.247139, Accuracy: 5/8 (62.500%)\n",
      "VAL:   LOSS--> 0.2790 (0.2790)\tACC-->87.500 (87.500)\n",
      " * Accuracy 88.6236\n"
     ]
    },
    {
     "name": "stderr",
     "output_type": "stream",
     "text": [
      "\r",
      " 34%|███████████████████████████████████████████████▉                                                                                             | 51/150 [1:33:49<3:02:07, 110.38s/it]"
     ]
    },
    {
     "name": "stdout",
     "output_type": "stream",
     "text": [
      "TRAIN: LOSS-->1.1084 (1.1084)\tACC-->87.500% (87.500%)\n",
      "TRAIN: 51 [0/4038 (0%)]\tLoss: 1.108401, Accuracy: 7/8 (87.500%)\n",
      "TRAIN: LOSS-->0.9059 (1.0244)\tACC-->62.500% (67.040%)\n",
      "TRAIN: 51 [1600/4038 (40%)]\tLoss: 0.905898, Accuracy: 5/8 (62.500%)\n",
      "TRAIN: LOSS-->0.8384 (1.0303)\tACC-->62.500% (67.082%)\n",
      "TRAIN: 51 [3200/4038 (79%)]\tLoss: 0.838398, Accuracy: 5/8 (62.500%)\n",
      "VAL:   LOSS--> 0.5891 (0.5891)\tACC-->62.500 (62.500)\n",
      " * Accuracy 84.8315\n"
     ]
    },
    {
     "name": "stderr",
     "output_type": "stream",
     "text": [
      "\r",
      " 35%|████████████████████████████████████████████████▉                                                                                            | 52/150 [1:35:38<3:00:15, 110.36s/it]"
     ]
    },
    {
     "name": "stdout",
     "output_type": "stream",
     "text": [
      "TRAIN: LOSS-->0.7180 (0.7180)\tACC-->75.000% (75.000%)\n",
      "TRAIN: 52 [0/4038 (0%)]\tLoss: 0.717982, Accuracy: 6/8 (75.000%)\n",
      "TRAIN: LOSS-->1.6958 (1.0024)\tACC-->37.500% (67.724%)\n",
      "TRAIN: 52 [1600/4038 (40%)]\tLoss: 1.695833, Accuracy: 3/8 (37.500%)\n",
      "TRAIN: LOSS-->0.5883 (1.0069)\tACC-->75.000% (67.924%)\n",
      "TRAIN: 52 [3200/4038 (79%)]\tLoss: 0.588257, Accuracy: 6/8 (75.000%)\n",
      "VAL:   LOSS--> 1.1364 (1.1364)\tACC-->50.000 (50.000)\n",
      " * Accuracy 90.0281\n"
     ]
    },
    {
     "name": "stderr",
     "output_type": "stream",
     "text": [
      "\r",
      " 35%|█████████████████████████████████████████████████▊                                                                                           | 53/150 [1:37:28<2:58:24, 110.35s/it]"
     ]
    },
    {
     "name": "stdout",
     "output_type": "stream",
     "text": [
      "TRAIN: LOSS-->1.1047 (1.1047)\tACC-->62.500% (62.500%)\n",
      "TRAIN: 53 [0/4038 (0%)]\tLoss: 1.104696, Accuracy: 5/8 (62.500%)\n",
      "TRAIN: LOSS-->0.8409 (0.9839)\tACC-->75.000% (66.729%)\n",
      "TRAIN: 53 [1600/4038 (40%)]\tLoss: 0.840912, Accuracy: 6/8 (75.000%)\n",
      "TRAIN: LOSS-->0.7863 (0.9976)\tACC-->75.000% (66.584%)\n",
      "TRAIN: 53 [3200/4038 (79%)]\tLoss: 0.786347, Accuracy: 6/8 (75.000%)\n",
      "VAL:   LOSS--> 0.4504 (0.4504)\tACC-->87.500 (87.500)\n",
      " * Accuracy 87.2191\n"
     ]
    },
    {
     "name": "stderr",
     "output_type": "stream",
     "text": [
      "\r",
      " 36%|██████████████████████████████████████████████████▊                                                                                          | 54/150 [1:39:18<2:56:32, 110.34s/it]"
     ]
    },
    {
     "name": "stdout",
     "output_type": "stream",
     "text": [
      "TRAIN: LOSS-->1.6830 (1.6830)\tACC-->37.500% (37.500%)\n",
      "TRAIN: 54 [0/4038 (0%)]\tLoss: 1.682985, Accuracy: 3/8 (37.500%)\n",
      "TRAIN: LOSS-->1.4549 (1.0399)\tACC-->37.500% (66.978%)\n",
      "TRAIN: 54 [1600/4038 (40%)]\tLoss: 1.454858, Accuracy: 3/8 (37.500%)\n",
      "TRAIN: LOSS-->0.5781 (1.0064)\tACC-->87.500% (68.329%)\n",
      "TRAIN: 54 [3200/4038 (79%)]\tLoss: 0.578057, Accuracy: 7/8 (87.500%)\n",
      "VAL:   LOSS--> 0.4855 (0.4855)\tACC-->87.500 (87.500)\n",
      " * Accuracy 86.0955\n"
     ]
    },
    {
     "name": "stderr",
     "output_type": "stream",
     "text": [
      "\r",
      " 37%|███████████████████████████████████████████████████▋                                                                                         | 55/150 [1:41:08<2:54:41, 110.33s/it]"
     ]
    },
    {
     "name": "stdout",
     "output_type": "stream",
     "text": [
      "TRAIN: LOSS-->1.3912 (1.3912)\tACC-->62.500% (62.500%)\n",
      "TRAIN: 55 [0/4038 (0%)]\tLoss: 1.391194, Accuracy: 5/8 (62.500%)\n",
      "TRAIN: LOSS-->1.1198 (0.9412)\tACC-->75.000% (69.092%)\n",
      "TRAIN: 55 [1600/4038 (40%)]\tLoss: 1.119792, Accuracy: 6/8 (75.000%)\n",
      "TRAIN: LOSS-->1.2788 (0.9624)\tACC-->62.500% (68.859%)\n",
      "TRAIN: 55 [3200/4038 (79%)]\tLoss: 1.278844, Accuracy: 5/8 (62.500%)\n",
      "VAL:   LOSS--> 0.1342 (0.1342)\tACC-->100.000 (100.000)\n",
      " * Accuracy 89.7472\n"
     ]
    },
    {
     "name": "stderr",
     "output_type": "stream",
     "text": [
      "\r",
      " 37%|████████████████████████████████████████████████████▋                                                                                        | 56/150 [1:42:58<2:52:50, 110.32s/it]"
     ]
    },
    {
     "name": "stdout",
     "output_type": "stream",
     "text": [
      "TRAIN: LOSS-->0.8041 (0.8041)\tACC-->62.500% (62.500%)\n",
      "TRAIN: 56 [0/4038 (0%)]\tLoss: 0.804064, Accuracy: 5/8 (62.500%)\n",
      "TRAIN: LOSS-->1.1340 (0.9300)\tACC-->62.500% (70.025%)\n",
      "TRAIN: 56 [1600/4038 (40%)]\tLoss: 1.134040, Accuracy: 5/8 (62.500%)\n",
      "TRAIN: LOSS-->1.4327 (0.9310)\tACC-->75.000% (70.231%)\n",
      "TRAIN: 56 [3200/4038 (79%)]\tLoss: 1.432747, Accuracy: 6/8 (75.000%)\n",
      "VAL:   LOSS--> 0.7552 (0.7552)\tACC-->87.500 (87.500)\n",
      " * Accuracy 90.3090\n"
     ]
    },
    {
     "name": "stderr",
     "output_type": "stream",
     "text": [
      "\r",
      " 38%|█████████████████████████████████████████████████████▌                                                                                       | 57/150 [1:44:47<2:50:59, 110.31s/it]"
     ]
    },
    {
     "name": "stdout",
     "output_type": "stream",
     "text": [
      "TRAIN: LOSS-->0.9526 (0.9526)\tACC-->62.500% (62.500%)\n",
      "TRAIN: 57 [0/4038 (0%)]\tLoss: 0.952578, Accuracy: 5/8 (62.500%)\n",
      "TRAIN: LOSS-->1.1357 (0.9289)\tACC-->75.000% (71.206%)\n",
      "TRAIN: 57 [1600/4038 (40%)]\tLoss: 1.135734, Accuracy: 6/8 (75.000%)\n",
      "TRAIN: LOSS-->0.5151 (0.9354)\tACC-->87.500% (70.574%)\n",
      "TRAIN: 57 [3200/4038 (79%)]\tLoss: 0.515130, Accuracy: 7/8 (87.500%)\n",
      "VAL:   LOSS--> 0.8031 (0.8031)\tACC-->75.000 (75.000)\n",
      " * Accuracy 87.2191\n"
     ]
    },
    {
     "name": "stderr",
     "output_type": "stream",
     "text": [
      "\r",
      " 39%|██████████████████████████████████████████████████████▌                                                                                      | 58/150 [1:46:37<2:49:08, 110.31s/it]"
     ]
    },
    {
     "name": "stdout",
     "output_type": "stream",
     "text": [
      "TRAIN: LOSS-->0.8754 (0.8754)\tACC-->50.000% (50.000%)\n",
      "TRAIN: 58 [0/4038 (0%)]\tLoss: 0.875365, Accuracy: 4/8 (50.000%)\n",
      "TRAIN: LOSS-->0.9856 (0.9098)\tACC-->75.000% (71.144%)\n",
      "TRAIN: 58 [1600/4038 (40%)]\tLoss: 0.985598, Accuracy: 6/8 (75.000%)\n",
      "TRAIN: LOSS-->0.8131 (0.9306)\tACC-->87.500% (70.480%)\n",
      "TRAIN: 58 [3200/4038 (79%)]\tLoss: 0.813056, Accuracy: 7/8 (87.500%)\n",
      "VAL:   LOSS--> 0.5501 (0.5501)\tACC-->75.000 (75.000)\n",
      " * Accuracy 89.6067\n"
     ]
    },
    {
     "name": "stderr",
     "output_type": "stream",
     "text": [
      "\r",
      " 39%|███████████████████████████████████████████████████████▍                                                                                     | 59/150 [1:48:27<2:47:17, 110.30s/it]"
     ]
    },
    {
     "name": "stdout",
     "output_type": "stream",
     "text": [
      "TRAIN: LOSS-->0.1670 (0.1670)\tACC-->100.000% (100.000%)\n",
      "TRAIN: 59 [0/4038 (0%)]\tLoss: 0.167023, Accuracy: 8/8 (100.000%)\n",
      "TRAIN: LOSS-->0.6362 (0.9221)\tACC-->75.000% (69.900%)\n",
      "TRAIN: 59 [1600/4038 (40%)]\tLoss: 0.636191, Accuracy: 6/8 (75.000%)\n",
      "TRAIN: LOSS-->1.0392 (0.9358)\tACC-->75.000% (69.015%)\n",
      "TRAIN: 59 [3200/4038 (79%)]\tLoss: 1.039233, Accuracy: 6/8 (75.000%)\n",
      "VAL:   LOSS--> 0.4506 (0.4506)\tACC-->87.500 (87.500)\n",
      " * Accuracy 90.8708\n"
     ]
    },
    {
     "name": "stderr",
     "output_type": "stream",
     "text": [
      "\r",
      " 40%|████████████████████████████████████████████████████████▍                                                                                    | 60/150 [1:50:18<2:45:28, 110.32s/it]"
     ]
    },
    {
     "name": "stdout",
     "output_type": "stream",
     "text": [
      "TRAIN: LOSS-->0.8035 (0.8035)\tACC-->62.500% (62.500%)\n",
      "TRAIN: 60 [0/4038 (0%)]\tLoss: 0.803513, Accuracy: 5/8 (62.500%)\n",
      "TRAIN: LOSS-->0.5125 (0.8814)\tACC-->87.500% (72.015%)\n",
      "TRAIN: 60 [1600/4038 (40%)]\tLoss: 0.512522, Accuracy: 7/8 (87.500%)\n",
      "TRAIN: LOSS-->0.7611 (0.8902)\tACC-->75.000% (71.852%)\n",
      "TRAIN: 60 [3200/4038 (79%)]\tLoss: 0.761082, Accuracy: 6/8 (75.000%)\n",
      "VAL:   LOSS--> 0.0656 (0.0656)\tACC-->100.000 (100.000)\n",
      " * Accuracy 87.3596\n"
     ]
    },
    {
     "name": "stderr",
     "output_type": "stream",
     "text": [
      "\r",
      " 41%|█████████████████████████████████████████████████████████▎                                                                                   | 61/150 [1:52:12<2:43:42, 110.37s/it]"
     ]
    },
    {
     "name": "stdout",
     "output_type": "stream",
     "text": [
      "TRAIN: LOSS-->0.7164 (0.7164)\tACC-->62.500% (62.500%)\n",
      "TRAIN: 61 [0/4038 (0%)]\tLoss: 0.716394, Accuracy: 5/8 (62.500%)\n",
      "TRAIN: LOSS-->1.0255 (0.9452)\tACC-->62.500% (70.398%)\n",
      "TRAIN: 61 [1600/4038 (40%)]\tLoss: 1.025539, Accuracy: 5/8 (62.500%)\n",
      "TRAIN: LOSS-->0.6737 (0.9195)\tACC-->75.000% (71.665%)\n",
      "TRAIN: 61 [3200/4038 (79%)]\tLoss: 0.673719, Accuracy: 6/8 (75.000%)\n",
      "VAL:   LOSS--> 0.2550 (0.2550)\tACC-->87.500 (87.500)\n",
      " * Accuracy 90.4494\n"
     ]
    },
    {
     "name": "stderr",
     "output_type": "stream",
     "text": [
      "\r",
      " 41%|██████████████████████████████████████████████████████████▎                                                                                  | 62/150 [1:54:06<2:41:57, 110.42s/it]"
     ]
    },
    {
     "name": "stdout",
     "output_type": "stream",
     "text": [
      "TRAIN: LOSS-->0.8848 (0.8848)\tACC-->75.000% (75.000%)\n",
      "TRAIN: 62 [0/4038 (0%)]\tLoss: 0.884805, Accuracy: 6/8 (75.000%)\n",
      "TRAIN: LOSS-->0.6588 (0.8918)\tACC-->75.000% (72.201%)\n",
      "TRAIN: 62 [1600/4038 (40%)]\tLoss: 0.658789, Accuracy: 6/8 (75.000%)\n",
      "TRAIN: LOSS-->1.2567 (0.8686)\tACC-->62.500% (72.413%)\n",
      "TRAIN: 62 [3200/4038 (79%)]\tLoss: 1.256708, Accuracy: 5/8 (62.500%)\n",
      "VAL:   LOSS--> 0.4676 (0.4676)\tACC-->87.500 (87.500)\n",
      " * Accuracy 89.3258\n"
     ]
    },
    {
     "name": "stderr",
     "output_type": "stream",
     "text": [
      "\r",
      " 42%|███████████████████████████████████████████████████████████▏                                                                                 | 63/150 [1:55:59<2:40:11, 110.48s/it]"
     ]
    },
    {
     "name": "stdout",
     "output_type": "stream",
     "text": [
      "TRAIN: LOSS-->0.8117 (0.8117)\tACC-->75.000% (75.000%)\n",
      "TRAIN: 63 [0/4038 (0%)]\tLoss: 0.811696, Accuracy: 6/8 (75.000%)\n",
      "TRAIN: LOSS-->1.2990 (0.8337)\tACC-->62.500% (73.445%)\n",
      "TRAIN: 63 [1600/4038 (40%)]\tLoss: 1.299031, Accuracy: 5/8 (62.500%)\n",
      "TRAIN: LOSS-->0.1122 (0.8198)\tACC-->100.000% (74.034%)\n",
      "TRAIN: 63 [3200/4038 (79%)]\tLoss: 0.112200, Accuracy: 8/8 (100.000%)\n",
      "VAL:   LOSS--> 0.4953 (0.4953)\tACC-->87.500 (87.500)\n",
      " * Accuracy 89.1854\n"
     ]
    },
    {
     "name": "stderr",
     "output_type": "stream",
     "text": [
      "\r",
      " 43%|████████████████████████████████████████████████████████████▏                                                                                | 64/150 [1:57:53<2:38:25, 110.53s/it]"
     ]
    },
    {
     "name": "stdout",
     "output_type": "stream",
     "text": [
      "TRAIN: LOSS-->1.0760 (1.0760)\tACC-->50.000% (50.000%)\n",
      "TRAIN: 64 [0/4038 (0%)]\tLoss: 1.076010, Accuracy: 4/8 (50.000%)\n",
      "TRAIN: LOSS-->0.8435 (0.8794)\tACC-->62.500% (72.637%)\n",
      "TRAIN: 64 [1600/4038 (40%)]\tLoss: 0.843473, Accuracy: 5/8 (62.500%)\n",
      "TRAIN: LOSS-->0.6174 (0.8548)\tACC-->87.500% (72.537%)\n",
      "TRAIN: 64 [3200/4038 (79%)]\tLoss: 0.617378, Accuracy: 7/8 (87.500%)\n",
      "VAL:   LOSS--> 0.4468 (0.4468)\tACC-->87.500 (87.500)\n",
      " * Accuracy 92.1348\n"
     ]
    },
    {
     "name": "stderr",
     "output_type": "stream",
     "text": [
      "\r",
      " 43%|█████████████████████████████████████████████████████████████                                                                                | 65/150 [1:59:47<2:36:38, 110.58s/it]"
     ]
    },
    {
     "name": "stdout",
     "output_type": "stream",
     "text": [
      "TRAIN: LOSS-->1.1600 (1.1600)\tACC-->75.000% (75.000%)\n",
      "TRAIN: 65 [0/4038 (0%)]\tLoss: 1.159984, Accuracy: 6/8 (75.000%)\n",
      "TRAIN: LOSS-->0.7692 (0.8430)\tACC-->62.500% (71.393%)\n",
      "TRAIN: 65 [1600/4038 (40%)]\tLoss: 0.769189, Accuracy: 5/8 (62.500%)\n",
      "TRAIN: LOSS-->0.5972 (0.8539)\tACC-->75.000% (71.696%)\n",
      "TRAIN: 65 [3200/4038 (79%)]\tLoss: 0.597185, Accuracy: 6/8 (75.000%)\n",
      "VAL:   LOSS--> 0.4467 (0.4467)\tACC-->87.500 (87.500)\n",
      " * Accuracy 91.1517\n"
     ]
    },
    {
     "name": "stderr",
     "output_type": "stream",
     "text": [
      "\r",
      " 44%|██████████████████████████████████████████████████████████████                                                                               | 66/150 [2:01:41<2:34:52, 110.62s/it]"
     ]
    },
    {
     "name": "stdout",
     "output_type": "stream",
     "text": [
      "TRAIN: LOSS-->0.4006 (0.4006)\tACC-->100.000% (100.000%)\n",
      "TRAIN: 66 [0/4038 (0%)]\tLoss: 0.400551, Accuracy: 8/8 (100.000%)\n",
      "TRAIN: LOSS-->0.5555 (0.8202)\tACC-->87.500% (73.072%)\n",
      "TRAIN: 66 [1600/4038 (40%)]\tLoss: 0.555526, Accuracy: 7/8 (87.500%)\n",
      "TRAIN: LOSS-->0.7354 (0.8111)\tACC-->62.500% (73.473%)\n",
      "TRAIN: 66 [3200/4038 (79%)]\tLoss: 0.735438, Accuracy: 5/8 (62.500%)\n",
      "VAL:   LOSS--> 0.4346 (0.4346)\tACC-->87.500 (87.500)\n",
      " * Accuracy 91.2921\n"
     ]
    },
    {
     "name": "stderr",
     "output_type": "stream",
     "text": [
      "\r",
      " 45%|██████████████████████████████████████████████████████████████▉                                                                              | 67/150 [2:03:34<2:33:05, 110.67s/it]"
     ]
    },
    {
     "name": "stdout",
     "output_type": "stream",
     "text": [
      "TRAIN: LOSS-->0.7688 (0.7688)\tACC-->75.000% (75.000%)\n",
      "TRAIN: 67 [0/4038 (0%)]\tLoss: 0.768777, Accuracy: 6/8 (75.000%)\n",
      "TRAIN: LOSS-->0.9430 (0.8168)\tACC-->75.000% (73.756%)\n",
      "TRAIN: 67 [1600/4038 (40%)]\tLoss: 0.943038, Accuracy: 6/8 (75.000%)\n",
      "TRAIN: LOSS-->1.0138 (0.8032)\tACC-->50.000% (74.158%)\n",
      "TRAIN: 67 [3200/4038 (79%)]\tLoss: 1.013822, Accuracy: 4/8 (50.000%)\n",
      "VAL:   LOSS--> 0.3744 (0.3744)\tACC-->87.500 (87.500)\n",
      " * Accuracy 90.5899\n"
     ]
    },
    {
     "name": "stderr",
     "output_type": "stream",
     "text": [
      "\r",
      " 45%|███████████████████████████████████████████████████████████████▉                                                                             | 68/150 [2:05:28<2:31:18, 110.71s/it]"
     ]
    },
    {
     "name": "stdout",
     "output_type": "stream",
     "text": [
      "TRAIN: LOSS-->1.2486 (1.2486)\tACC-->50.000% (50.000%)\n",
      "TRAIN: 68 [0/4038 (0%)]\tLoss: 1.248613, Accuracy: 4/8 (50.000%)\n",
      "TRAIN: LOSS-->1.3177 (0.7946)\tACC-->87.500% (73.943%)\n",
      "TRAIN: 68 [1600/4038 (40%)]\tLoss: 1.317699, Accuracy: 7/8 (87.500%)\n",
      "TRAIN: LOSS-->0.3239 (0.7897)\tACC-->87.500% (74.252%)\n",
      "TRAIN: 68 [3200/4038 (79%)]\tLoss: 0.323930, Accuracy: 7/8 (87.500%)\n",
      "VAL:   LOSS--> 0.3208 (0.3208)\tACC-->87.500 (87.500)\n",
      " * Accuracy 86.3764\n"
     ]
    },
    {
     "name": "stderr",
     "output_type": "stream",
     "text": [
      "\r",
      " 46%|████████████████████████████████████████████████████████████████▊                                                                            | 69/150 [2:07:22<2:29:31, 110.76s/it]"
     ]
    },
    {
     "name": "stdout",
     "output_type": "stream",
     "text": [
      "TRAIN: LOSS-->1.1688 (1.1688)\tACC-->75.000% (75.000%)\n",
      "TRAIN: 69 [0/4038 (0%)]\tLoss: 1.168795, Accuracy: 6/8 (75.000%)\n",
      "TRAIN: LOSS-->0.5416 (0.8696)\tACC-->75.000% (71.517%)\n",
      "TRAIN: 69 [1600/4038 (40%)]\tLoss: 0.541600, Accuracy: 6/8 (75.000%)\n",
      "TRAIN: LOSS-->1.0784 (0.8317)\tACC-->50.000% (73.130%)\n",
      "TRAIN: 69 [3200/4038 (79%)]\tLoss: 1.078385, Accuracy: 4/8 (50.000%)\n",
      "VAL:   LOSS--> 0.2024 (0.2024)\tACC-->100.000 (100.000)\n",
      " * Accuracy 90.0281\n"
     ]
    },
    {
     "name": "stderr",
     "output_type": "stream",
     "text": [
      "\r",
      " 47%|█████████████████████████████████████████████████████████████████▊                                                                           | 70/150 [2:09:16<2:27:44, 110.81s/it]"
     ]
    },
    {
     "name": "stdout",
     "output_type": "stream",
     "text": [
      "TRAIN: LOSS-->0.7633 (0.7633)\tACC-->87.500% (87.500%)\n",
      "TRAIN: 70 [0/4038 (0%)]\tLoss: 0.763349, Accuracy: 7/8 (87.500%)\n",
      "TRAIN: LOSS-->0.7818 (0.8092)\tACC-->62.500% (74.502%)\n",
      "TRAIN: 70 [1600/4038 (40%)]\tLoss: 0.781817, Accuracy: 5/8 (62.500%)\n",
      "TRAIN: LOSS-->0.5811 (0.8026)\tACC-->87.500% (74.002%)\n",
      "TRAIN: 70 [3200/4038 (79%)]\tLoss: 0.581148, Accuracy: 7/8 (87.500%)\n",
      "VAL:   LOSS--> 0.5046 (0.5046)\tACC-->87.500 (87.500)\n",
      " * Accuracy 90.0281\n"
     ]
    },
    {
     "name": "stderr",
     "output_type": "stream",
     "text": [
      "\r",
      " 47%|██████████████████████████████████████████████████████████████████▋                                                                          | 71/150 [2:11:10<2:25:56, 110.85s/it]"
     ]
    },
    {
     "name": "stdout",
     "output_type": "stream",
     "text": [
      "TRAIN: LOSS-->0.4656 (0.4656)\tACC-->87.500% (87.500%)\n",
      "TRAIN: 71 [0/4038 (0%)]\tLoss: 0.465577, Accuracy: 7/8 (87.500%)\n",
      "TRAIN: LOSS-->0.5492 (0.7683)\tACC-->87.500% (75.124%)\n",
      "TRAIN: 71 [1600/4038 (40%)]\tLoss: 0.549247, Accuracy: 7/8 (87.500%)\n",
      "TRAIN: LOSS-->0.5676 (0.7651)\tACC-->87.500% (75.187%)\n",
      "TRAIN: 71 [3200/4038 (79%)]\tLoss: 0.567637, Accuracy: 7/8 (87.500%)\n",
      "VAL:   LOSS--> 0.2754 (0.2754)\tACC-->75.000 (75.000)\n",
      " * Accuracy 91.0112\n"
     ]
    },
    {
     "name": "stderr",
     "output_type": "stream",
     "text": [
      "\r",
      " 48%|███████████████████████████████████████████████████████████████████▋                                                                         | 72/150 [2:13:03<2:24:08, 110.88s/it]"
     ]
    },
    {
     "name": "stdout",
     "output_type": "stream",
     "text": [
      "TRAIN: LOSS-->1.1336 (1.1336)\tACC-->87.500% (87.500%)\n",
      "TRAIN: 72 [0/4038 (0%)]\tLoss: 1.133583, Accuracy: 7/8 (87.500%)\n",
      "TRAIN: LOSS-->0.8485 (0.7576)\tACC-->62.500% (75.933%)\n",
      "TRAIN: 72 [1600/4038 (40%)]\tLoss: 0.848513, Accuracy: 5/8 (62.500%)\n",
      "TRAIN: LOSS-->1.0354 (0.7593)\tACC-->62.500% (75.499%)\n",
      "TRAIN: 72 [3200/4038 (79%)]\tLoss: 1.035370, Accuracy: 5/8 (62.500%)\n",
      "VAL:   LOSS--> 0.1587 (0.1587)\tACC-->100.000 (100.000)\n",
      " * Accuracy 90.8708\n"
     ]
    },
    {
     "name": "stderr",
     "output_type": "stream",
     "text": [
      "\r",
      " 49%|████████████████████████████████████████████████████████████████████▌                                                                        | 73/150 [2:14:55<2:22:18, 110.89s/it]"
     ]
    },
    {
     "name": "stdout",
     "output_type": "stream",
     "text": [
      "TRAIN: LOSS-->0.9214 (0.9214)\tACC-->75.000% (75.000%)\n",
      "TRAIN: 73 [0/4038 (0%)]\tLoss: 0.921399, Accuracy: 6/8 (75.000%)\n",
      "TRAIN: LOSS-->0.8001 (0.7104)\tACC-->87.500% (77.674%)\n",
      "TRAIN: 73 [1600/4038 (40%)]\tLoss: 0.800053, Accuracy: 7/8 (87.500%)\n",
      "TRAIN: LOSS-->0.5943 (0.7528)\tACC-->87.500% (75.810%)\n",
      "TRAIN: 73 [3200/4038 (79%)]\tLoss: 0.594347, Accuracy: 7/8 (87.500%)\n",
      "VAL:   LOSS--> 0.3297 (0.3297)\tACC-->87.500 (87.500)\n",
      " * Accuracy 91.7135\n"
     ]
    },
    {
     "name": "stderr",
     "output_type": "stream",
     "text": [
      "\r",
      " 49%|█████████████████████████████████████████████████████████████████████▌                                                                       | 74/150 [2:16:44<2:20:26, 110.88s/it]"
     ]
    },
    {
     "name": "stdout",
     "output_type": "stream",
     "text": [
      "TRAIN: LOSS-->0.6823 (0.6823)\tACC-->75.000% (75.000%)\n",
      "TRAIN: 74 [0/4038 (0%)]\tLoss: 0.682342, Accuracy: 6/8 (75.000%)\n",
      "TRAIN: LOSS-->0.2508 (0.7639)\tACC-->87.500% (76.741%)\n",
      "TRAIN: 74 [1600/4038 (40%)]\tLoss: 0.250832, Accuracy: 7/8 (87.500%)\n",
      "TRAIN: LOSS-->0.5854 (0.7703)\tACC-->75.000% (75.218%)\n",
      "TRAIN: 74 [3200/4038 (79%)]\tLoss: 0.585387, Accuracy: 6/8 (75.000%)\n",
      "VAL:   LOSS--> 0.1097 (0.1097)\tACC-->100.000 (100.000)\n",
      " * Accuracy 90.5899\n"
     ]
    },
    {
     "name": "stderr",
     "output_type": "stream",
     "text": [
      "\r",
      " 50%|██████████████████████████████████████████████████████████████████████▌                                                                      | 75/150 [2:18:34<2:18:34, 110.86s/it]"
     ]
    },
    {
     "name": "stdout",
     "output_type": "stream",
     "text": [
      "TRAIN: LOSS-->1.0034 (1.0034)\tACC-->62.500% (62.500%)\n",
      "TRAIN: 75 [0/4038 (0%)]\tLoss: 1.003408, Accuracy: 5/8 (62.500%)\n",
      "TRAIN: LOSS-->0.5188 (0.7645)\tACC-->100.000% (75.000%)\n",
      "TRAIN: 75 [1600/4038 (40%)]\tLoss: 0.518845, Accuracy: 8/8 (100.000%)\n",
      "TRAIN: LOSS-->0.8486 (0.7415)\tACC-->62.500% (75.592%)\n",
      "TRAIN: 75 [3200/4038 (79%)]\tLoss: 0.848575, Accuracy: 5/8 (62.500%)\n",
      "VAL:   LOSS--> 0.1703 (0.1703)\tACC-->100.000 (100.000)\n",
      " * Accuracy 89.7472\n"
     ]
    },
    {
     "name": "stderr",
     "output_type": "stream",
     "text": [
      "\r",
      " 51%|███████████████████████████████████████████████████████████████████████▍                                                                     | 76/150 [2:20:24<2:16:42, 110.85s/it]"
     ]
    },
    {
     "name": "stdout",
     "output_type": "stream",
     "text": [
      "TRAIN: LOSS-->0.5003 (0.5003)\tACC-->87.500% (87.500%)\n",
      "TRAIN: 76 [0/4038 (0%)]\tLoss: 0.500346, Accuracy: 7/8 (87.500%)\n",
      "TRAIN: LOSS-->0.7283 (0.7648)\tACC-->75.000% (75.000%)\n",
      "TRAIN: 76 [1600/4038 (40%)]\tLoss: 0.728253, Accuracy: 6/8 (75.000%)\n",
      "TRAIN: LOSS-->1.1570 (0.7721)\tACC-->62.500% (74.626%)\n",
      "TRAIN: 76 [3200/4038 (79%)]\tLoss: 1.156961, Accuracy: 5/8 (62.500%)\n",
      "VAL:   LOSS--> 0.3302 (0.3302)\tACC-->87.500 (87.500)\n",
      " * Accuracy 92.5562\n"
     ]
    },
    {
     "name": "stderr",
     "output_type": "stream",
     "text": [
      "\r",
      " 51%|████████████████████████████████████████████████████████████████████████▍                                                                    | 77/150 [2:22:14<2:14:50, 110.83s/it]"
     ]
    },
    {
     "name": "stdout",
     "output_type": "stream",
     "text": [
      "TRAIN: LOSS-->0.6603 (0.6603)\tACC-->75.000% (75.000%)\n",
      "TRAIN: 77 [0/4038 (0%)]\tLoss: 0.660332, Accuracy: 6/8 (75.000%)\n",
      "TRAIN: LOSS-->0.7607 (0.7210)\tACC-->87.500% (76.928%)\n",
      "TRAIN: 77 [1600/4038 (40%)]\tLoss: 0.760664, Accuracy: 7/8 (87.500%)\n",
      "TRAIN: LOSS-->0.8416 (0.7179)\tACC-->75.000% (76.527%)\n",
      "TRAIN: 77 [3200/4038 (79%)]\tLoss: 0.841645, Accuracy: 6/8 (75.000%)\n",
      "VAL:   LOSS--> 0.3357 (0.3357)\tACC-->87.500 (87.500)\n",
      " * Accuracy 90.3090\n"
     ]
    },
    {
     "name": "stderr",
     "output_type": "stream",
     "text": [
      "\r",
      " 52%|█████████████████████████████████████████████████████████████████████████▎                                                                   | 78/150 [2:24:03<2:12:58, 110.82s/it]"
     ]
    },
    {
     "name": "stdout",
     "output_type": "stream",
     "text": [
      "TRAIN: LOSS-->1.5760 (1.5760)\tACC-->50.000% (50.000%)\n",
      "TRAIN: 78 [0/4038 (0%)]\tLoss: 1.575960, Accuracy: 4/8 (50.000%)\n",
      "TRAIN: LOSS-->0.3643 (0.7003)\tACC-->87.500% (76.493%)\n",
      "TRAIN: 78 [1600/4038 (40%)]\tLoss: 0.364349, Accuracy: 7/8 (87.500%)\n",
      "TRAIN: LOSS-->0.7510 (0.7380)\tACC-->62.500% (75.623%)\n",
      "TRAIN: 78 [3200/4038 (79%)]\tLoss: 0.751008, Accuracy: 5/8 (62.500%)\n",
      "VAL:   LOSS--> 0.2408 (0.2408)\tACC-->100.000 (100.000)\n",
      " * Accuracy 93.3989\n"
     ]
    },
    {
     "name": "stderr",
     "output_type": "stream",
     "text": [
      "\r",
      " 53%|██████████████████████████████████████████████████████████████████████████▎                                                                  | 79/150 [2:25:53<2:11:07, 110.81s/it]"
     ]
    },
    {
     "name": "stdout",
     "output_type": "stream",
     "text": [
      "TRAIN: LOSS-->0.2646 (0.2646)\tACC-->87.500% (87.500%)\n",
      "TRAIN: 79 [0/4038 (0%)]\tLoss: 0.264614, Accuracy: 7/8 (87.500%)\n",
      "TRAIN: LOSS-->1.4885 (0.7516)\tACC-->62.500% (75.187%)\n",
      "TRAIN: 79 [1600/4038 (40%)]\tLoss: 1.488508, Accuracy: 5/8 (62.500%)\n",
      "TRAIN: LOSS-->0.5593 (0.7077)\tACC-->75.000% (76.839%)\n",
      "TRAIN: 79 [3200/4038 (79%)]\tLoss: 0.559271, Accuracy: 6/8 (75.000%)\n",
      "VAL:   LOSS--> 0.4343 (0.4343)\tACC-->75.000 (75.000)\n",
      " * Accuracy 89.0449\n"
     ]
    },
    {
     "name": "stderr",
     "output_type": "stream",
     "text": [
      "\r",
      " 53%|███████████████████████████████████████████████████████████████████████████▏                                                                 | 80/150 [2:27:43<2:09:15, 110.80s/it]"
     ]
    },
    {
     "name": "stdout",
     "output_type": "stream",
     "text": [
      "TRAIN: LOSS-->0.5358 (0.5358)\tACC-->75.000% (75.000%)\n",
      "TRAIN: 80 [0/4038 (0%)]\tLoss: 0.535782, Accuracy: 6/8 (75.000%)\n",
      "TRAIN: LOSS-->0.2132 (0.6597)\tACC-->100.000% (79.913%)\n",
      "TRAIN: 80 [1600/4038 (40%)]\tLoss: 0.213197, Accuracy: 8/8 (100.000%)\n",
      "TRAIN: LOSS-->0.4191 (0.6920)\tACC-->75.000% (77.494%)\n",
      "TRAIN: 80 [3200/4038 (79%)]\tLoss: 0.419135, Accuracy: 6/8 (75.000%)\n",
      "VAL:   LOSS--> 0.2124 (0.2124)\tACC-->100.000 (100.000)\n",
      " * Accuracy 90.4494\n"
     ]
    },
    {
     "name": "stderr",
     "output_type": "stream",
     "text": [
      "\r",
      " 54%|████████████████████████████████████████████████████████████████████████████▏                                                                | 81/150 [2:29:33<2:07:24, 110.78s/it]"
     ]
    },
    {
     "name": "stdout",
     "output_type": "stream",
     "text": [
      "TRAIN: LOSS-->0.6530 (0.6530)\tACC-->87.500% (87.500%)\n",
      "TRAIN: 81 [0/4038 (0%)]\tLoss: 0.652959, Accuracy: 7/8 (87.500%)\n",
      "TRAIN: LOSS-->0.4419 (0.7260)\tACC-->87.500% (76.928%)\n",
      "TRAIN: 81 [1600/4038 (40%)]\tLoss: 0.441935, Accuracy: 7/8 (87.500%)\n",
      "TRAIN: LOSS-->0.9389 (0.6935)\tACC-->62.500% (77.276%)\n",
      "TRAIN: 81 [3200/4038 (79%)]\tLoss: 0.938852, Accuracy: 5/8 (62.500%)\n",
      "VAL:   LOSS--> 0.0658 (0.0658)\tACC-->100.000 (100.000)\n",
      " * Accuracy 92.5562\n"
     ]
    },
    {
     "name": "stderr",
     "output_type": "stream",
     "text": [
      "\r",
      " 55%|█████████████████████████████████████████████████████████████████████████████                                                                | 82/150 [2:31:23<2:05:32, 110.77s/it]"
     ]
    },
    {
     "name": "stdout",
     "output_type": "stream",
     "text": [
      "TRAIN: LOSS-->0.6723 (0.6723)\tACC-->87.500% (87.500%)\n",
      "TRAIN: 82 [0/4038 (0%)]\tLoss: 0.672318, Accuracy: 7/8 (87.500%)\n",
      "TRAIN: LOSS-->0.3947 (0.7026)\tACC-->100.000% (77.114%)\n",
      "TRAIN: 82 [1600/4038 (40%)]\tLoss: 0.394689, Accuracy: 8/8 (100.000%)\n",
      "TRAIN: LOSS-->0.2324 (0.7085)\tACC-->100.000% (77.369%)\n",
      "TRAIN: 82 [3200/4038 (79%)]\tLoss: 0.232427, Accuracy: 8/8 (100.000%)\n",
      "VAL:   LOSS--> 0.5591 (0.5591)\tACC-->75.000 (75.000)\n",
      " * Accuracy 92.4157\n"
     ]
    },
    {
     "name": "stderr",
     "output_type": "stream",
     "text": [
      "\r",
      " 55%|██████████████████████████████████████████████████████████████████████████████                                                               | 83/150 [2:33:12<2:03:40, 110.76s/it]"
     ]
    },
    {
     "name": "stdout",
     "output_type": "stream",
     "text": [
      "TRAIN: LOSS-->1.5680 (1.5680)\tACC-->62.500% (62.500%)\n",
      "TRAIN: 83 [0/4038 (0%)]\tLoss: 1.568013, Accuracy: 5/8 (62.500%)\n",
      "TRAIN: LOSS-->0.2399 (0.7052)\tACC-->87.500% (76.866%)\n",
      "TRAIN: 83 [1600/4038 (40%)]\tLoss: 0.239915, Accuracy: 7/8 (87.500%)\n",
      "TRAIN: LOSS-->0.4553 (0.7034)\tACC-->75.000% (76.839%)\n",
      "TRAIN: 83 [3200/4038 (79%)]\tLoss: 0.455296, Accuracy: 6/8 (75.000%)\n",
      "VAL:   LOSS--> 0.1956 (0.1956)\tACC-->100.000 (100.000)\n",
      " * Accuracy 92.8371\n"
     ]
    },
    {
     "name": "stderr",
     "output_type": "stream",
     "text": [
      "\r",
      " 56%|██████████████████████████████████████████████████████████████████████████████▉                                                              | 84/150 [2:35:02<2:01:49, 110.75s/it]"
     ]
    },
    {
     "name": "stdout",
     "output_type": "stream",
     "text": [
      "TRAIN: LOSS-->1.0377 (1.0377)\tACC-->75.000% (75.000%)\n",
      "TRAIN: 84 [0/4038 (0%)]\tLoss: 1.037672, Accuracy: 6/8 (75.000%)\n",
      "TRAIN: LOSS-->0.6826 (0.6847)\tACC-->75.000% (77.114%)\n",
      "TRAIN: 84 [1600/4038 (40%)]\tLoss: 0.682631, Accuracy: 6/8 (75.000%)\n",
      "TRAIN: LOSS-->1.0324 (0.6775)\tACC-->62.500% (77.307%)\n",
      "TRAIN: 84 [3200/4038 (79%)]\tLoss: 1.032373, Accuracy: 5/8 (62.500%)\n",
      "VAL:   LOSS--> 0.1552 (0.1552)\tACC-->100.000 (100.000)\n",
      " * Accuracy 92.1348\n"
     ]
    },
    {
     "name": "stderr",
     "output_type": "stream",
     "text": [
      "\r",
      " 57%|███████████████████████████████████████████████████████████████████████████████▉                                                             | 85/150 [2:36:52<1:59:57, 110.74s/it]"
     ]
    },
    {
     "name": "stdout",
     "output_type": "stream",
     "text": [
      "TRAIN: LOSS-->0.3158 (0.3158)\tACC-->87.500% (87.500%)\n",
      "TRAIN: 85 [0/4038 (0%)]\tLoss: 0.315783, Accuracy: 7/8 (87.500%)\n",
      "TRAIN: LOSS-->0.2220 (0.7285)\tACC-->100.000% (76.182%)\n",
      "TRAIN: 85 [1600/4038 (40%)]\tLoss: 0.222014, Accuracy: 8/8 (100.000%)\n",
      "TRAIN: LOSS-->0.2034 (0.6988)\tACC-->100.000% (77.120%)\n",
      "TRAIN: 85 [3200/4038 (79%)]\tLoss: 0.203385, Accuracy: 8/8 (100.000%)\n",
      "VAL:   LOSS--> 0.1510 (0.1510)\tACC-->87.500 (87.500)\n",
      " * Accuracy 93.1180\n"
     ]
    },
    {
     "name": "stderr",
     "output_type": "stream",
     "text": [
      "\r",
      " 57%|████████████████████████████████████████████████████████████████████████████████▊                                                            | 86/150 [2:38:42<1:58:06, 110.72s/it]"
     ]
    },
    {
     "name": "stdout",
     "output_type": "stream",
     "text": [
      "TRAIN: LOSS-->0.2113 (0.2113)\tACC-->100.000% (100.000%)\n",
      "TRAIN: 86 [0/4038 (0%)]\tLoss: 0.211264, Accuracy: 8/8 (100.000%)\n",
      "TRAIN: LOSS-->0.6491 (0.6745)\tACC-->75.000% (79.229%)\n",
      "TRAIN: 86 [1600/4038 (40%)]\tLoss: 0.649099, Accuracy: 6/8 (75.000%)\n",
      "TRAIN: LOSS-->0.9612 (0.7052)\tACC-->75.000% (77.618%)\n",
      "TRAIN: 86 [3200/4038 (79%)]\tLoss: 0.961220, Accuracy: 6/8 (75.000%)\n",
      "VAL:   LOSS--> 0.4126 (0.4126)\tACC-->75.000 (75.000)\n",
      " * Accuracy 92.4157\n"
     ]
    },
    {
     "name": "stderr",
     "output_type": "stream",
     "text": [
      "\r",
      " 58%|█████████████████████████████████████████████████████████████████████████████████▊                                                           | 87/150 [2:40:31<1:56:14, 110.71s/it]"
     ]
    },
    {
     "name": "stdout",
     "output_type": "stream",
     "text": [
      "TRAIN: LOSS-->0.5057 (0.5057)\tACC-->87.500% (87.500%)\n",
      "TRAIN: 87 [0/4038 (0%)]\tLoss: 0.505730, Accuracy: 7/8 (87.500%)\n",
      "TRAIN: LOSS-->0.3462 (0.6813)\tACC-->100.000% (79.291%)\n",
      "TRAIN: 87 [1600/4038 (40%)]\tLoss: 0.346196, Accuracy: 8/8 (100.000%)\n",
      "TRAIN: LOSS-->1.0907 (0.6949)\tACC-->75.000% (78.335%)\n",
      "TRAIN: 87 [3200/4038 (79%)]\tLoss: 1.090749, Accuracy: 6/8 (75.000%)\n",
      "VAL:   LOSS--> 1.0468 (1.0468)\tACC-->75.000 (75.000)\n",
      " * Accuracy 92.2753\n"
     ]
    },
    {
     "name": "stderr",
     "output_type": "stream",
     "text": [
      "\r",
      " 59%|██████████████████████████████████████████████████████████████████████████████████▋                                                          | 88/150 [2:42:21<1:54:23, 110.70s/it]"
     ]
    },
    {
     "name": "stdout",
     "output_type": "stream",
     "text": [
      "TRAIN: LOSS-->0.3611 (0.3611)\tACC-->100.000% (100.000%)\n",
      "TRAIN: 88 [0/4038 (0%)]\tLoss: 0.361117, Accuracy: 8/8 (100.000%)\n",
      "TRAIN: LOSS-->0.4217 (0.6049)\tACC-->75.000% (80.162%)\n",
      "TRAIN: 88 [1600/4038 (40%)]\tLoss: 0.421691, Accuracy: 6/8 (75.000%)\n",
      "TRAIN: LOSS-->0.8028 (0.6716)\tACC-->75.000% (78.460%)\n",
      "TRAIN: 88 [3200/4038 (79%)]\tLoss: 0.802785, Accuracy: 6/8 (75.000%)\n",
      "VAL:   LOSS--> 0.1123 (0.1123)\tACC-->100.000 (100.000)\n",
      " * Accuracy 92.8371\n"
     ]
    },
    {
     "name": "stderr",
     "output_type": "stream",
     "text": [
      "\r",
      " 59%|███████████████████████████████████████████████████████████████████████████████████▋                                                         | 89/150 [2:44:11<1:52:32, 110.69s/it]"
     ]
    },
    {
     "name": "stdout",
     "output_type": "stream",
     "text": [
      "TRAIN: LOSS-->0.6612 (0.6612)\tACC-->75.000% (75.000%)\n",
      "TRAIN: 89 [0/4038 (0%)]\tLoss: 0.661233, Accuracy: 6/8 (75.000%)\n",
      "TRAIN: LOSS-->1.0678 (0.6168)\tACC-->75.000% (79.664%)\n",
      "TRAIN: 89 [1600/4038 (40%)]\tLoss: 1.067756, Accuracy: 6/8 (75.000%)\n",
      "TRAIN: LOSS-->0.7589 (0.6205)\tACC-->62.500% (79.832%)\n",
      "TRAIN: 89 [3200/4038 (79%)]\tLoss: 0.758852, Accuracy: 5/8 (62.500%)\n",
      "VAL:   LOSS--> 0.3301 (0.3301)\tACC-->75.000 (75.000)\n",
      " * Accuracy 93.2584\n"
     ]
    },
    {
     "name": "stderr",
     "output_type": "stream",
     "text": [
      "\r",
      " 60%|████████████████████████████████████████████████████████████████████████████████████▌                                                        | 90/150 [2:46:01<1:50:40, 110.68s/it]"
     ]
    },
    {
     "name": "stdout",
     "output_type": "stream",
     "text": [
      "TRAIN: LOSS-->0.6210 (0.6210)\tACC-->87.500% (87.500%)\n",
      "TRAIN: 90 [0/4038 (0%)]\tLoss: 0.620981, Accuracy: 7/8 (87.500%)\n",
      "TRAIN: LOSS-->0.9465 (0.6684)\tACC-->75.000% (78.234%)\n",
      "TRAIN: 90 [1600/4038 (40%)]\tLoss: 0.946471, Accuracy: 6/8 (75.000%)\n",
      "TRAIN: LOSS-->0.9307 (0.6684)\tACC-->62.500% (78.429%)\n",
      "TRAIN: 90 [3200/4038 (79%)]\tLoss: 0.930698, Accuracy: 5/8 (62.500%)\n",
      "VAL:   LOSS--> 0.0511 (0.0511)\tACC-->100.000 (100.000)\n",
      " * Accuracy 94.9438\n"
     ]
    },
    {
     "name": "stderr",
     "output_type": "stream",
     "text": [
      "\r",
      " 61%|█████████████████████████████████████████████████████████████████████████████████████▌                                                       | 91/150 [2:47:51<1:48:49, 110.67s/it]"
     ]
    },
    {
     "name": "stdout",
     "output_type": "stream",
     "text": [
      "TRAIN: LOSS-->0.7788 (0.7788)\tACC-->75.000% (75.000%)\n",
      "TRAIN: 91 [0/4038 (0%)]\tLoss: 0.778843, Accuracy: 6/8 (75.000%)\n",
      "TRAIN: LOSS-->0.6599 (0.6259)\tACC-->75.000% (79.789%)\n",
      "TRAIN: 91 [1600/4038 (40%)]\tLoss: 0.659932, Accuracy: 6/8 (75.000%)\n",
      "TRAIN: LOSS-->0.2691 (0.6392)\tACC-->87.500% (79.271%)\n",
      "TRAIN: 91 [3200/4038 (79%)]\tLoss: 0.269092, Accuracy: 7/8 (87.500%)\n",
      "VAL:   LOSS--> 0.2457 (0.2457)\tACC-->87.500 (87.500)\n",
      " * Accuracy 92.2753\n"
     ]
    },
    {
     "name": "stderr",
     "output_type": "stream",
     "text": [
      "\r",
      " 61%|██████████████████████████████████████████████████████████████████████████████████████▍                                                      | 92/150 [2:49:40<1:46:58, 110.66s/it]"
     ]
    },
    {
     "name": "stdout",
     "output_type": "stream",
     "text": [
      "TRAIN: LOSS-->0.3670 (0.3670)\tACC-->75.000% (75.000%)\n",
      "TRAIN: 92 [0/4038 (0%)]\tLoss: 0.366995, Accuracy: 6/8 (75.000%)\n",
      "TRAIN: LOSS-->0.3107 (0.6760)\tACC-->87.500% (78.794%)\n",
      "TRAIN: 92 [1600/4038 (40%)]\tLoss: 0.310686, Accuracy: 7/8 (87.500%)\n",
      "TRAIN: LOSS-->0.5071 (0.6611)\tACC-->75.000% (78.990%)\n",
      "TRAIN: 92 [3200/4038 (79%)]\tLoss: 0.507056, Accuracy: 6/8 (75.000%)\n",
      "VAL:   LOSS--> 0.3002 (0.3002)\tACC-->87.500 (87.500)\n",
      " * Accuracy 92.5562\n"
     ]
    },
    {
     "name": "stderr",
     "output_type": "stream",
     "text": [
      "\r",
      " 62%|███████████████████████████████████████████████████████████████████████████████████████▍                                                     | 93/150 [2:51:30<1:45:07, 110.65s/it]"
     ]
    },
    {
     "name": "stdout",
     "output_type": "stream",
     "text": [
      "TRAIN: LOSS-->0.8297 (0.8297)\tACC-->75.000% (75.000%)\n",
      "TRAIN: 93 [0/4038 (0%)]\tLoss: 0.829665, Accuracy: 6/8 (75.000%)\n",
      "TRAIN: LOSS-->0.4932 (0.6728)\tACC-->75.000% (77.363%)\n",
      "TRAIN: 93 [1600/4038 (40%)]\tLoss: 0.493217, Accuracy: 6/8 (75.000%)\n",
      "TRAIN: LOSS-->0.6752 (0.6872)\tACC-->75.000% (77.089%)\n",
      "TRAIN: 93 [3200/4038 (79%)]\tLoss: 0.675228, Accuracy: 6/8 (75.000%)\n",
      "VAL:   LOSS--> 0.1582 (0.1582)\tACC-->100.000 (100.000)\n",
      " * Accuracy 87.7809\n"
     ]
    },
    {
     "name": "stderr",
     "output_type": "stream",
     "text": [
      "\r",
      " 63%|████████████████████████████████████████████████████████████████████████████████████████▎                                                    | 94/150 [2:53:20<1:43:15, 110.64s/it]"
     ]
    },
    {
     "name": "stdout",
     "output_type": "stream",
     "text": [
      "TRAIN: LOSS-->0.5681 (0.5681)\tACC-->87.500% (87.500%)\n",
      "TRAIN: 94 [0/4038 (0%)]\tLoss: 0.568145, Accuracy: 7/8 (87.500%)\n",
      "TRAIN: LOSS-->0.5981 (0.6317)\tACC-->75.000% (79.042%)\n",
      "TRAIN: 94 [1600/4038 (40%)]\tLoss: 0.598099, Accuracy: 6/8 (75.000%)\n",
      "TRAIN: LOSS-->0.5866 (0.6418)\tACC-->87.500% (79.084%)\n",
      "TRAIN: 94 [3200/4038 (79%)]\tLoss: 0.586570, Accuracy: 7/8 (87.500%)\n",
      "VAL:   LOSS--> 0.3282 (0.3282)\tACC-->75.000 (75.000)\n",
      " * Accuracy 90.4494\n"
     ]
    },
    {
     "name": "stderr",
     "output_type": "stream",
     "text": [
      "\r",
      " 63%|█████████████████████████████████████████████████████████████████████████████████████████▎                                                   | 95/150 [2:55:10<1:41:24, 110.63s/it]"
     ]
    },
    {
     "name": "stdout",
     "output_type": "stream",
     "text": [
      "TRAIN: LOSS-->1.1069 (1.1069)\tACC-->62.500% (62.500%)\n",
      "TRAIN: 95 [0/4038 (0%)]\tLoss: 1.106936, Accuracy: 5/8 (62.500%)\n",
      "TRAIN: LOSS-->0.5506 (0.6515)\tACC-->75.000% (78.669%)\n",
      "TRAIN: 95 [1600/4038 (40%)]\tLoss: 0.550642, Accuracy: 6/8 (75.000%)\n",
      "TRAIN: LOSS-->0.9976 (0.6565)\tACC-->50.000% (78.024%)\n",
      "TRAIN: 95 [3200/4038 (79%)]\tLoss: 0.997560, Accuracy: 4/8 (50.000%)\n",
      "VAL:   LOSS--> 0.2252 (0.2252)\tACC-->87.500 (87.500)\n",
      " * Accuracy 92.2753\n"
     ]
    },
    {
     "name": "stderr",
     "output_type": "stream",
     "text": [
      "\r",
      " 64%|██████████████████████████████████████████████████████████████████████████████████████████▏                                                  | 96/150 [2:56:59<1:39:33, 110.62s/it]"
     ]
    },
    {
     "name": "stdout",
     "output_type": "stream",
     "text": [
      "TRAIN: LOSS-->0.2348 (0.2348)\tACC-->100.000% (100.000%)\n",
      "TRAIN: 96 [0/4038 (0%)]\tLoss: 0.234784, Accuracy: 8/8 (100.000%)\n",
      "TRAIN: LOSS-->0.3662 (0.5778)\tACC-->75.000% (81.343%)\n",
      "TRAIN: 96 [1600/4038 (40%)]\tLoss: 0.366197, Accuracy: 6/8 (75.000%)\n",
      "TRAIN: LOSS-->0.8074 (0.5753)\tACC-->62.500% (81.328%)\n",
      "TRAIN: 96 [3200/4038 (79%)]\tLoss: 0.807441, Accuracy: 5/8 (62.500%)\n",
      "VAL:   LOSS--> 0.4705 (0.4705)\tACC-->87.500 (87.500)\n",
      " * Accuracy 91.9944\n"
     ]
    },
    {
     "name": "stderr",
     "output_type": "stream",
     "text": [
      "\r",
      " 65%|███████████████████████████████████████████████████████████████████████████████████████████▏                                                 | 97/150 [2:58:49<1:37:42, 110.62s/it]"
     ]
    },
    {
     "name": "stdout",
     "output_type": "stream",
     "text": [
      "TRAIN: LOSS-->0.2554 (0.2554)\tACC-->87.500% (87.500%)\n",
      "TRAIN: 97 [0/4038 (0%)]\tLoss: 0.255414, Accuracy: 7/8 (87.500%)\n",
      "TRAIN: LOSS-->0.0983 (0.6142)\tACC-->100.000% (79.851%)\n",
      "TRAIN: 97 [1600/4038 (40%)]\tLoss: 0.098318, Accuracy: 8/8 (100.000%)\n",
      "TRAIN: LOSS-->0.2873 (0.6260)\tACC-->87.500% (79.832%)\n",
      "TRAIN: 97 [3200/4038 (79%)]\tLoss: 0.287320, Accuracy: 7/8 (87.500%)\n",
      "VAL:   LOSS--> 0.4557 (0.4557)\tACC-->75.000 (75.000)\n",
      " * Accuracy 92.5562\n"
     ]
    },
    {
     "name": "stderr",
     "output_type": "stream",
     "text": [
      "\r",
      " 65%|████████████████████████████████████████████████████████████████████████████████████████████                                                 | 98/150 [3:00:39<1:35:51, 110.61s/it]"
     ]
    },
    {
     "name": "stdout",
     "output_type": "stream",
     "text": [
      "TRAIN: LOSS-->1.0601 (1.0601)\tACC-->75.000% (75.000%)\n",
      "TRAIN: 98 [0/4038 (0%)]\tLoss: 1.060112, Accuracy: 6/8 (75.000%)\n",
      "TRAIN: LOSS-->0.0843 (0.6209)\tACC-->100.000% (80.037%)\n",
      "TRAIN: 98 [1600/4038 (40%)]\tLoss: 0.084330, Accuracy: 8/8 (100.000%)\n",
      "TRAIN: LOSS-->0.3640 (0.6007)\tACC-->87.500% (81.640%)\n",
      "TRAIN: 98 [3200/4038 (79%)]\tLoss: 0.364005, Accuracy: 7/8 (87.500%)\n",
      "VAL:   LOSS--> 0.2938 (0.2938)\tACC-->75.000 (75.000)\n",
      " * Accuracy 92.6966\n"
     ]
    },
    {
     "name": "stderr",
     "output_type": "stream",
     "text": [
      "\r",
      " 66%|█████████████████████████████████████████████████████████████████████████████████████████████                                                | 99/150 [3:02:29<1:34:00, 110.60s/it]"
     ]
    },
    {
     "name": "stdout",
     "output_type": "stream",
     "text": [
      "TRAIN: LOSS-->0.2970 (0.2970)\tACC-->100.000% (100.000%)\n",
      "TRAIN: 99 [0/4038 (0%)]\tLoss: 0.297021, Accuracy: 8/8 (100.000%)\n",
      "TRAIN: LOSS-->1.5584 (0.6845)\tACC-->50.000% (77.861%)\n",
      "TRAIN: 99 [1600/4038 (40%)]\tLoss: 1.558449, Accuracy: 4/8 (50.000%)\n",
      "TRAIN: LOSS-->0.5066 (0.6480)\tACC-->87.500% (79.395%)\n",
      "TRAIN: 99 [3200/4038 (79%)]\tLoss: 0.506633, Accuracy: 7/8 (87.500%)\n",
      "VAL:   LOSS--> 0.1682 (0.1682)\tACC-->87.500 (87.500)\n",
      " * Accuracy 91.9944\n"
     ]
    },
    {
     "name": "stderr",
     "output_type": "stream",
     "text": [
      "\r",
      " 67%|█████████████████████████████████████████████████████████████████████████████████████████████▎                                              | 100/150 [3:04:19<1:32:09, 110.59s/it]"
     ]
    },
    {
     "name": "stdout",
     "output_type": "stream",
     "text": [
      "TRAIN: LOSS-->0.6323 (0.6323)\tACC-->75.000% (75.000%)\n",
      "TRAIN: 100 [0/4038 (0%)]\tLoss: 0.632252, Accuracy: 6/8 (75.000%)\n",
      "TRAIN: LOSS-->0.8934 (0.6012)\tACC-->62.500% (80.410%)\n",
      "TRAIN: 100 [1600/4038 (40%)]\tLoss: 0.893401, Accuracy: 5/8 (62.500%)\n",
      "TRAIN: LOSS-->0.4748 (0.5828)\tACC-->87.500% (80.517%)\n",
      "TRAIN: 100 [3200/4038 (79%)]\tLoss: 0.474833, Accuracy: 7/8 (87.500%)\n",
      "VAL:   LOSS--> 0.8305 (0.8305)\tACC-->75.000 (75.000)\n",
      " * Accuracy 92.2753\n"
     ]
    },
    {
     "name": "stderr",
     "output_type": "stream",
     "text": [
      "\r",
      " 67%|██████████████████████████████████████████████████████████████████████████████████████████████▎                                             | 101/150 [3:06:09<1:30:18, 110.58s/it]"
     ]
    },
    {
     "name": "stdout",
     "output_type": "stream",
     "text": [
      "TRAIN: LOSS-->0.8436 (0.8436)\tACC-->50.000% (50.000%)\n",
      "TRAIN: 101 [0/4038 (0%)]\tLoss: 0.843638, Accuracy: 4/8 (50.000%)\n",
      "TRAIN: LOSS-->0.1927 (0.6196)\tACC-->100.000% (79.540%)\n",
      "TRAIN: 101 [1600/4038 (40%)]\tLoss: 0.192683, Accuracy: 8/8 (100.000%)\n",
      "TRAIN: LOSS-->0.4180 (0.6116)\tACC-->75.000% (79.707%)\n",
      "TRAIN: 101 [3200/4038 (79%)]\tLoss: 0.418011, Accuracy: 6/8 (75.000%)\n",
      "VAL:   LOSS--> 0.2796 (0.2796)\tACC-->87.500 (87.500)\n",
      " * Accuracy 93.1180\n"
     ]
    },
    {
     "name": "stderr",
     "output_type": "stream",
     "text": [
      "\r",
      " 68%|███████████████████████████████████████████████████████████████████████████████████████████████▏                                            | 102/150 [3:07:58<1:28:27, 110.58s/it]"
     ]
    },
    {
     "name": "stdout",
     "output_type": "stream",
     "text": [
      "TRAIN: LOSS-->0.4854 (0.4854)\tACC-->75.000% (75.000%)\n",
      "TRAIN: 102 [0/4038 (0%)]\tLoss: 0.485386, Accuracy: 6/8 (75.000%)\n",
      "TRAIN: LOSS-->0.8182 (0.5843)\tACC-->75.000% (81.095%)\n",
      "TRAIN: 102 [1600/4038 (40%)]\tLoss: 0.818194, Accuracy: 6/8 (75.000%)\n",
      "TRAIN: LOSS-->0.7495 (0.5891)\tACC-->75.000% (80.954%)\n",
      "TRAIN: 102 [3200/4038 (79%)]\tLoss: 0.749488, Accuracy: 6/8 (75.000%)\n",
      "VAL:   LOSS--> 0.5734 (0.5734)\tACC-->75.000 (75.000)\n",
      " * Accuracy 93.2584\n"
     ]
    },
    {
     "name": "stderr",
     "output_type": "stream",
     "text": [
      "\r",
      " 69%|████████████████████████████████████████████████████████████████████████████████████████████████▏                                           | 103/150 [3:09:48<1:26:36, 110.57s/it]"
     ]
    },
    {
     "name": "stdout",
     "output_type": "stream",
     "text": [
      "TRAIN: LOSS-->0.6755 (0.6755)\tACC-->87.500% (87.500%)\n",
      "TRAIN: 103 [0/4038 (0%)]\tLoss: 0.675534, Accuracy: 7/8 (87.500%)\n",
      "TRAIN: LOSS-->0.4638 (0.5916)\tACC-->87.500% (80.224%)\n",
      "TRAIN: 103 [1600/4038 (40%)]\tLoss: 0.463764, Accuracy: 7/8 (87.500%)\n",
      "TRAIN: LOSS-->0.4748 (0.5861)\tACC-->75.000% (80.954%)\n",
      "TRAIN: 103 [3200/4038 (79%)]\tLoss: 0.474823, Accuracy: 6/8 (75.000%)\n",
      "VAL:   LOSS--> 0.1950 (0.1950)\tACC-->87.500 (87.500)\n",
      " * Accuracy 93.5393\n"
     ]
    },
    {
     "name": "stderr",
     "output_type": "stream",
     "text": [
      "\r",
      " 69%|█████████████████████████████████████████████████████████████████████████████████████████████████                                           | 104/150 [3:11:38<1:24:45, 110.56s/it]"
     ]
    },
    {
     "name": "stdout",
     "output_type": "stream",
     "text": [
      "TRAIN: LOSS-->0.5803 (0.5803)\tACC-->75.000% (75.000%)\n",
      "TRAIN: 104 [0/4038 (0%)]\tLoss: 0.580311, Accuracy: 6/8 (75.000%)\n",
      "TRAIN: LOSS-->0.7340 (0.6002)\tACC-->75.000% (80.162%)\n",
      "TRAIN: 104 [1600/4038 (40%)]\tLoss: 0.733977, Accuracy: 6/8 (75.000%)\n",
      "TRAIN: LOSS-->0.2758 (0.5839)\tACC-->87.500% (80.954%)\n",
      "TRAIN: 104 [3200/4038 (79%)]\tLoss: 0.275824, Accuracy: 7/8 (87.500%)\n",
      "VAL:   LOSS--> 0.5306 (0.5306)\tACC-->87.500 (87.500)\n",
      " * Accuracy 94.1011\n"
     ]
    },
    {
     "name": "stderr",
     "output_type": "stream",
     "text": [
      "\r",
      " 70%|██████████████████████████████████████████████████████████████████████████████████████████████████                                          | 105/150 [3:13:28<1:22:54, 110.56s/it]"
     ]
    },
    {
     "name": "stdout",
     "output_type": "stream",
     "text": [
      "TRAIN: LOSS-->0.7414 (0.7414)\tACC-->75.000% (75.000%)\n",
      "TRAIN: 105 [0/4038 (0%)]\tLoss: 0.741434, Accuracy: 6/8 (75.000%)\n",
      "TRAIN: LOSS-->0.7344 (0.5800)\tACC-->87.500% (80.286%)\n",
      "TRAIN: 105 [1600/4038 (40%)]\tLoss: 0.734353, Accuracy: 7/8 (87.500%)\n",
      "TRAIN: LOSS-->0.3131 (0.5930)\tACC-->87.500% (80.237%)\n",
      "TRAIN: 105 [3200/4038 (79%)]\tLoss: 0.313137, Accuracy: 7/8 (87.500%)\n",
      "VAL:   LOSS--> 0.2255 (0.2255)\tACC-->87.500 (87.500)\n",
      " * Accuracy 94.1011\n"
     ]
    },
    {
     "name": "stderr",
     "output_type": "stream",
     "text": [
      "\r",
      " 71%|██████████████████████████████████████████████████████████████████████████████████████████████████▉                                         | 106/150 [3:15:18<1:21:04, 110.55s/it]"
     ]
    },
    {
     "name": "stdout",
     "output_type": "stream",
     "text": [
      "TRAIN: LOSS-->0.6497 (0.6497)\tACC-->62.500% (62.500%)\n",
      "TRAIN: 106 [0/4038 (0%)]\tLoss: 0.649731, Accuracy: 5/8 (62.500%)\n",
      "TRAIN: LOSS-->0.3223 (0.6100)\tACC-->87.500% (80.473%)\n",
      "TRAIN: 106 [1600/4038 (40%)]\tLoss: 0.322310, Accuracy: 7/8 (87.500%)\n",
      "TRAIN: LOSS-->0.5941 (0.5980)\tACC-->87.500% (80.611%)\n",
      "TRAIN: 106 [3200/4038 (79%)]\tLoss: 0.594133, Accuracy: 7/8 (87.500%)\n",
      "VAL:   LOSS--> 0.2205 (0.2205)\tACC-->87.500 (87.500)\n",
      " * Accuracy 93.8202\n"
     ]
    },
    {
     "name": "stderr",
     "output_type": "stream",
     "text": [
      "\r",
      " 71%|███████████████████████████████████████████████████████████████████████████████████████████████████▊                                        | 107/150 [3:17:07<1:19:13, 110.54s/it]"
     ]
    },
    {
     "name": "stdout",
     "output_type": "stream",
     "text": [
      "TRAIN: LOSS-->0.5513 (0.5513)\tACC-->75.000% (75.000%)\n",
      "TRAIN: 107 [0/4038 (0%)]\tLoss: 0.551293, Accuracy: 6/8 (75.000%)\n",
      "TRAIN: LOSS-->0.6770 (0.6020)\tACC-->87.500% (80.970%)\n",
      "TRAIN: 107 [1600/4038 (40%)]\tLoss: 0.677034, Accuracy: 7/8 (87.500%)\n",
      "TRAIN: LOSS-->0.6402 (0.5939)\tACC-->62.500% (81.016%)\n",
      "TRAIN: 107 [3200/4038 (79%)]\tLoss: 0.640150, Accuracy: 5/8 (62.500%)\n",
      "VAL:   LOSS--> 0.0713 (0.0713)\tACC-->100.000 (100.000)\n",
      " * Accuracy 93.6798\n"
     ]
    },
    {
     "name": "stderr",
     "output_type": "stream",
     "text": [
      "\r",
      " 72%|████████████████████████████████████████████████████████████████████████████████████████████████████▊                                       | 108/150 [3:18:57<1:17:22, 110.53s/it]"
     ]
    },
    {
     "name": "stdout",
     "output_type": "stream",
     "text": [
      "TRAIN: LOSS-->0.3129 (0.3129)\tACC-->87.500% (87.500%)\n",
      "TRAIN: 108 [0/4038 (0%)]\tLoss: 0.312937, Accuracy: 7/8 (87.500%)\n",
      "TRAIN: LOSS-->0.2659 (0.5673)\tACC-->100.000% (81.779%)\n",
      "TRAIN: 108 [1600/4038 (40%)]\tLoss: 0.265869, Accuracy: 8/8 (100.000%)\n",
      "TRAIN: LOSS-->0.3793 (0.5774)\tACC-->87.500% (81.047%)\n",
      "TRAIN: 108 [3200/4038 (79%)]\tLoss: 0.379266, Accuracy: 7/8 (87.500%)\n",
      "VAL:   LOSS--> 0.2461 (0.2461)\tACC-->87.500 (87.500)\n",
      " * Accuracy 95.0843\n",
      "EARLY STOP\n"
     ]
    },
    {
     "name": "stderr",
     "output_type": "stream",
     "text": [
      "\r",
      " 73%|█████████████████████████████████████████████████████████████████████████████████████████████████████▋                                      | 109/150 [3:20:56<1:15:34, 110.61s/it]"
     ]
    },
    {
     "name": "stdout",
     "output_type": "stream",
     "text": [
      "TRAIN: LOSS-->0.4205 (0.4205)\tACC-->87.500% (87.500%)\n",
      "TRAIN: 109 [0/4038 (0%)]\tLoss: 0.420545, Accuracy: 7/8 (87.500%)\n",
      "TRAIN: LOSS-->0.3930 (0.5664)\tACC-->87.500% (81.032%)\n",
      "TRAIN: 109 [1600/4038 (40%)]\tLoss: 0.393036, Accuracy: 7/8 (87.500%)\n",
      "TRAIN: LOSS-->0.5113 (0.5513)\tACC-->75.000% (81.733%)\n",
      "TRAIN: 109 [3200/4038 (79%)]\tLoss: 0.511345, Accuracy: 6/8 (75.000%)\n",
      "VAL:   LOSS--> 0.1043 (0.1043)\tACC-->100.000 (100.000)\n",
      " * Accuracy 93.5393\n"
     ]
    },
    {
     "name": "stderr",
     "output_type": "stream",
     "text": [
      "\r",
      " 73%|██████████████████████████████████████████████████████████████████████████████████████████████████████▋                                     | 110/150 [3:22:45<1:13:43, 110.60s/it]"
     ]
    },
    {
     "name": "stdout",
     "output_type": "stream",
     "text": [
      "TRAIN: LOSS-->0.5367 (0.5367)\tACC-->75.000% (75.000%)\n",
      "TRAIN: 110 [0/4038 (0%)]\tLoss: 0.536677, Accuracy: 6/8 (75.000%)\n",
      "TRAIN: LOSS-->0.1123 (0.5083)\tACC-->100.000% (83.520%)\n",
      "TRAIN: 110 [1600/4038 (40%)]\tLoss: 0.112308, Accuracy: 8/8 (100.000%)\n",
      "TRAIN: LOSS-->1.1574 (0.5513)\tACC-->62.500% (81.827%)\n",
      "TRAIN: 110 [3200/4038 (79%)]\tLoss: 1.157356, Accuracy: 5/8 (62.500%)\n",
      "VAL:   LOSS--> 0.1792 (0.1792)\tACC-->87.500 (87.500)\n",
      " * Accuracy 90.5899\n"
     ]
    },
    {
     "name": "stderr",
     "output_type": "stream",
     "text": [
      "\r",
      " 74%|███████████████████████████████████████████████████████████████████████████████████████████████████████▌                                    | 111/150 [3:24:35<1:11:53, 110.59s/it]"
     ]
    },
    {
     "name": "stdout",
     "output_type": "stream",
     "text": [
      "TRAIN: LOSS-->0.6430 (0.6430)\tACC-->87.500% (87.500%)\n",
      "TRAIN: 111 [0/4038 (0%)]\tLoss: 0.642980, Accuracy: 7/8 (87.500%)\n",
      "TRAIN: LOSS-->0.7727 (0.5305)\tACC-->75.000% (83.271%)\n",
      "TRAIN: 111 [1600/4038 (40%)]\tLoss: 0.772694, Accuracy: 6/8 (75.000%)\n",
      "TRAIN: LOSS-->0.5507 (0.5611)\tACC-->75.000% (81.110%)\n",
      "TRAIN: 111 [3200/4038 (79%)]\tLoss: 0.550699, Accuracy: 6/8 (75.000%)\n",
      "VAL:   LOSS--> 0.1941 (0.1941)\tACC-->87.500 (87.500)\n",
      " * Accuracy 93.5393\n"
     ]
    },
    {
     "name": "stderr",
     "output_type": "stream",
     "text": [
      "\r",
      " 75%|████████████████████████████████████████████████████████████████████████████████████████████████████████▌                                   | 112/150 [3:26:25<1:10:02, 110.59s/it]"
     ]
    },
    {
     "name": "stdout",
     "output_type": "stream",
     "text": [
      "TRAIN: LOSS-->0.8957 (0.8957)\tACC-->50.000% (50.000%)\n",
      "TRAIN: 112 [0/4038 (0%)]\tLoss: 0.895715, Accuracy: 4/8 (50.000%)\n",
      "TRAIN: LOSS-->0.1908 (0.5462)\tACC-->100.000% (81.281%)\n",
      "TRAIN: 112 [1600/4038 (40%)]\tLoss: 0.190795, Accuracy: 8/8 (100.000%)\n",
      "TRAIN: LOSS-->0.7525 (0.5513)\tACC-->75.000% (81.577%)\n",
      "TRAIN: 112 [3200/4038 (79%)]\tLoss: 0.752533, Accuracy: 6/8 (75.000%)\n",
      "VAL:   LOSS--> 0.2636 (0.2636)\tACC-->100.000 (100.000)\n",
      " * Accuracy 93.9607\n"
     ]
    },
    {
     "name": "stderr",
     "output_type": "stream",
     "text": [
      "\r",
      " 75%|█████████████████████████████████████████████████████████████████████████████████████████████████████████▍                                  | 113/150 [3:28:15<1:08:11, 110.58s/it]"
     ]
    },
    {
     "name": "stdout",
     "output_type": "stream",
     "text": [
      "TRAIN: LOSS-->0.5562 (0.5562)\tACC-->75.000% (75.000%)\n",
      "TRAIN: 113 [0/4038 (0%)]\tLoss: 0.556246, Accuracy: 6/8 (75.000%)\n",
      "TRAIN: LOSS-->1.2993 (0.5409)\tACC-->50.000% (82.027%)\n",
      "TRAIN: 113 [1600/4038 (40%)]\tLoss: 1.299291, Accuracy: 4/8 (50.000%)\n",
      "TRAIN: LOSS-->0.6965 (0.5371)\tACC-->87.500% (82.949%)\n",
      "TRAIN: 113 [3200/4038 (79%)]\tLoss: 0.696536, Accuracy: 7/8 (87.500%)\n",
      "VAL:   LOSS--> 0.2557 (0.2557)\tACC-->75.000 (75.000)\n",
      " * Accuracy 95.0843\n",
      "EARLY STOP\n"
     ]
    },
    {
     "name": "stderr",
     "output_type": "stream",
     "text": [
      "\r",
      " 76%|██████████████████████████████████████████████████████████████████████████████████████████████████████████▍                                 | 114/150 [3:30:12<1:06:22, 110.64s/it]"
     ]
    },
    {
     "name": "stdout",
     "output_type": "stream",
     "text": [
      "TRAIN: LOSS-->0.3427 (0.3427)\tACC-->87.500% (87.500%)\n",
      "TRAIN: 114 [0/4038 (0%)]\tLoss: 0.342681, Accuracy: 7/8 (87.500%)\n",
      "TRAIN: LOSS-->0.7156 (0.6003)\tACC-->62.500% (79.913%)\n",
      "TRAIN: 114 [1600/4038 (40%)]\tLoss: 0.715649, Accuracy: 5/8 (62.500%)\n",
      "TRAIN: LOSS-->0.2222 (0.5689)\tACC-->100.000% (81.484%)\n",
      "TRAIN: 114 [3200/4038 (79%)]\tLoss: 0.222171, Accuracy: 8/8 (100.000%)\n",
      "VAL:   LOSS--> 0.0257 (0.0257)\tACC-->100.000 (100.000)\n",
      " * Accuracy 94.3820\n"
     ]
    },
    {
     "name": "stderr",
     "output_type": "stream",
     "text": [
      "\r",
      " 77%|███████████████████████████████████████████████████████████████████████████████████████████████████████████▎                                | 115/150 [3:32:02<1:04:32, 110.63s/it]"
     ]
    },
    {
     "name": "stdout",
     "output_type": "stream",
     "text": [
      "TRAIN: LOSS-->1.8546 (1.8546)\tACC-->75.000% (75.000%)\n",
      "TRAIN: 115 [0/4038 (0%)]\tLoss: 1.854597, Accuracy: 6/8 (75.000%)\n",
      "TRAIN: LOSS-->0.2289 (0.5805)\tACC-->100.000% (81.343%)\n",
      "TRAIN: 115 [1600/4038 (40%)]\tLoss: 0.228892, Accuracy: 8/8 (100.000%)\n",
      "TRAIN: LOSS-->0.1709 (0.5780)\tACC-->100.000% (82.138%)\n",
      "TRAIN: 115 [3200/4038 (79%)]\tLoss: 0.170892, Accuracy: 8/8 (100.000%)\n",
      "VAL:   LOSS--> 0.0755 (0.0755)\tACC-->100.000 (100.000)\n",
      " * Accuracy 93.5393\n"
     ]
    },
    {
     "name": "stderr",
     "output_type": "stream",
     "text": [
      "\r",
      " 77%|████████████████████████████████████████████████████████████████████████████████████████████████████████████▎                               | 116/150 [3:33:52<1:02:41, 110.62s/it]"
     ]
    },
    {
     "name": "stdout",
     "output_type": "stream",
     "text": [
      "TRAIN: LOSS-->0.9919 (0.9919)\tACC-->75.000% (75.000%)\n",
      "TRAIN: 116 [0/4038 (0%)]\tLoss: 0.991943, Accuracy: 6/8 (75.000%)\n",
      "TRAIN: LOSS-->0.7048 (0.5118)\tACC-->75.000% (82.525%)\n",
      "TRAIN: 116 [1600/4038 (40%)]\tLoss: 0.704786, Accuracy: 6/8 (75.000%)\n",
      "TRAIN: LOSS-->0.4789 (0.5362)\tACC-->87.500% (82.232%)\n",
      "TRAIN: 116 [3200/4038 (79%)]\tLoss: 0.478882, Accuracy: 7/8 (87.500%)\n",
      "VAL:   LOSS--> 0.6092 (0.6092)\tACC-->62.500 (62.500)\n",
      " * Accuracy 90.7303\n"
     ]
    },
    {
     "name": "stderr",
     "output_type": "stream",
     "text": [
      "\r",
      " 78%|█████████████████████████████████████████████████████████████████████████████████████████████████████████████▏                              | 117/150 [3:35:42<1:00:50, 110.62s/it]"
     ]
    },
    {
     "name": "stdout",
     "output_type": "stream",
     "text": [
      "TRAIN: LOSS-->0.8387 (0.8387)\tACC-->62.500% (62.500%)\n",
      "TRAIN: 117 [0/4038 (0%)]\tLoss: 0.838717, Accuracy: 5/8 (62.500%)\n",
      "TRAIN: LOSS-->0.3636 (0.5518)\tACC-->87.500% (81.841%)\n",
      "TRAIN: 117 [1600/4038 (40%)]\tLoss: 0.363571, Accuracy: 7/8 (87.500%)\n",
      "TRAIN: LOSS-->1.0781 (0.5444)\tACC-->75.000% (81.546%)\n",
      "TRAIN: 117 [3200/4038 (79%)]\tLoss: 1.078135, Accuracy: 6/8 (75.000%)\n",
      "VAL:   LOSS--> 0.2927 (0.2927)\tACC-->87.500 (87.500)\n",
      " * Accuracy 93.6798\n"
     ]
    },
    {
     "name": "stderr",
     "output_type": "stream",
     "text": [
      "\r",
      " 79%|███████████████████████████████████████████████████████████████████████████████████████████████████████████████▋                              | 118/150 [3:37:31<58:59, 110.61s/it]"
     ]
    },
    {
     "name": "stdout",
     "output_type": "stream",
     "text": [
      "TRAIN: LOSS-->0.4022 (0.4022)\tACC-->87.500% (87.500%)\n",
      "TRAIN: 118 [0/4038 (0%)]\tLoss: 0.402219, Accuracy: 7/8 (87.500%)\n",
      "TRAIN: LOSS-->0.2002 (0.5711)\tACC-->100.000% (82.027%)\n",
      "TRAIN: 118 [1600/4038 (40%)]\tLoss: 0.200207, Accuracy: 8/8 (100.000%)\n",
      "TRAIN: LOSS-->0.5835 (0.5629)\tACC-->75.000% (82.201%)\n",
      "TRAIN: 118 [3200/4038 (79%)]\tLoss: 0.583506, Accuracy: 6/8 (75.000%)\n",
      "VAL:   LOSS--> 0.3370 (0.3370)\tACC-->87.500 (87.500)\n",
      " * Accuracy 94.5225\n"
     ]
    },
    {
     "name": "stderr",
     "output_type": "stream",
     "text": [
      "\r",
      " 79%|████████████████████████████████████████████████████████████████████████████████████████████████████████████████▋                             | 119/150 [3:39:21<57:08, 110.60s/it]"
     ]
    },
    {
     "name": "stdout",
     "output_type": "stream",
     "text": [
      "TRAIN: LOSS-->0.7348 (0.7348)\tACC-->87.500% (87.500%)\n",
      "TRAIN: 119 [0/4038 (0%)]\tLoss: 0.734836, Accuracy: 7/8 (87.500%)\n",
      "TRAIN: LOSS-->0.7192 (0.5158)\tACC-->75.000% (83.706%)\n",
      "TRAIN: 119 [1600/4038 (40%)]\tLoss: 0.719225, Accuracy: 6/8 (75.000%)\n",
      "TRAIN: LOSS-->0.6746 (0.5450)\tACC-->75.000% (82.388%)\n",
      "TRAIN: 119 [3200/4038 (79%)]\tLoss: 0.674575, Accuracy: 6/8 (75.000%)\n",
      "VAL:   LOSS--> 0.2338 (0.2338)\tACC-->87.500 (87.500)\n",
      " * Accuracy 94.6629\n"
     ]
    },
    {
     "name": "stderr",
     "output_type": "stream",
     "text": [
      "\r",
      " 80%|█████████████████████████████████████████████████████████████████████████████████████████████████████████████████▌                            | 120/150 [3:41:11<55:17, 110.60s/it]"
     ]
    },
    {
     "name": "stdout",
     "output_type": "stream",
     "text": [
      "TRAIN: LOSS-->0.2923 (0.2923)\tACC-->87.500% (87.500%)\n",
      "TRAIN: 120 [0/4038 (0%)]\tLoss: 0.292337, Accuracy: 7/8 (87.500%)\n",
      "TRAIN: LOSS-->0.0621 (0.5402)\tACC-->100.000% (82.587%)\n",
      "TRAIN: 120 [1600/4038 (40%)]\tLoss: 0.062096, Accuracy: 8/8 (100.000%)\n",
      "TRAIN: LOSS-->0.5625 (0.5535)\tACC-->75.000% (82.388%)\n",
      "TRAIN: 120 [3200/4038 (79%)]\tLoss: 0.562471, Accuracy: 6/8 (75.000%)\n",
      "VAL:   LOSS--> 0.2164 (0.2164)\tACC-->87.500 (87.500)\n",
      " * Accuracy 94.1011\n"
     ]
    },
    {
     "name": "stderr",
     "output_type": "stream",
     "text": [
      "\r",
      " 81%|██████████████████████████████████████████████████████████████████████████████████████████████████████████████████▌                           | 121/150 [3:43:01<53:27, 110.59s/it]"
     ]
    },
    {
     "name": "stdout",
     "output_type": "stream",
     "text": [
      "TRAIN: LOSS-->1.2267 (1.2267)\tACC-->75.000% (75.000%)\n",
      "TRAIN: 121 [0/4038 (0%)]\tLoss: 1.226717, Accuracy: 6/8 (75.000%)\n",
      "TRAIN: LOSS-->0.6790 (0.5443)\tACC-->62.500% (83.209%)\n",
      "TRAIN: 121 [1600/4038 (40%)]\tLoss: 0.678961, Accuracy: 5/8 (62.500%)\n",
      "TRAIN: LOSS-->0.2347 (0.5533)\tACC-->87.500% (82.544%)\n",
      "TRAIN: 121 [3200/4038 (79%)]\tLoss: 0.234718, Accuracy: 7/8 (87.500%)\n",
      "VAL:   LOSS--> 0.4388 (0.4388)\tACC-->87.500 (87.500)\n",
      " * Accuracy 94.9438\n"
     ]
    },
    {
     "name": "stderr",
     "output_type": "stream",
     "text": [
      "\r",
      " 81%|███████████████████████████████████████████████████████████████████████████████████████████████████████████████████▍                          | 122/150 [3:44:51<51:36, 110.59s/it]"
     ]
    },
    {
     "name": "stdout",
     "output_type": "stream",
     "text": [
      "TRAIN: LOSS-->1.2889 (1.2889)\tACC-->37.500% (37.500%)\n",
      "TRAIN: 122 [0/4038 (0%)]\tLoss: 1.288886, Accuracy: 3/8 (37.500%)\n",
      "TRAIN: LOSS-->0.2930 (0.5300)\tACC-->87.500% (81.903%)\n",
      "TRAIN: 122 [1600/4038 (40%)]\tLoss: 0.293039, Accuracy: 7/8 (87.500%)\n",
      "TRAIN: LOSS-->1.0746 (0.5264)\tACC-->75.000% (82.481%)\n",
      "TRAIN: 122 [3200/4038 (79%)]\tLoss: 1.074552, Accuracy: 6/8 (75.000%)\n",
      "VAL:   LOSS--> 0.0696 (0.0696)\tACC-->100.000 (100.000)\n",
      " * Accuracy 93.8202\n"
     ]
    },
    {
     "name": "stderr",
     "output_type": "stream",
     "text": [
      "\r",
      " 82%|████████████████████████████████████████████████████████████████████████████████████████████████████████████████████▍                         | 123/150 [3:46:41<49:45, 110.58s/it]"
     ]
    },
    {
     "name": "stdout",
     "output_type": "stream",
     "text": [
      "TRAIN: LOSS-->1.1790 (1.1790)\tACC-->50.000% (50.000%)\n",
      "TRAIN: 123 [0/4038 (0%)]\tLoss: 1.179026, Accuracy: 4/8 (50.000%)\n",
      "TRAIN: LOSS-->0.3278 (0.5162)\tACC-->87.500% (82.400%)\n",
      "TRAIN: 123 [1600/4038 (40%)]\tLoss: 0.327841, Accuracy: 7/8 (87.500%)\n",
      "TRAIN: LOSS-->0.4277 (0.5125)\tACC-->75.000% (82.544%)\n",
      "TRAIN: 123 [3200/4038 (79%)]\tLoss: 0.427678, Accuracy: 6/8 (75.000%)\n",
      "VAL:   LOSS--> 0.0584 (0.0584)\tACC-->100.000 (100.000)\n",
      " * Accuracy 93.8202\n"
     ]
    },
    {
     "name": "stderr",
     "output_type": "stream",
     "text": [
      "\r",
      " 83%|█████████████████████████████████████████████████████████████████████████████████████████████████████████████████████▍                        | 124/150 [3:48:31<47:55, 110.58s/it]"
     ]
    },
    {
     "name": "stdout",
     "output_type": "stream",
     "text": [
      "TRAIN: LOSS-->1.6093 (1.6093)\tACC-->62.500% (62.500%)\n",
      "TRAIN: 124 [0/4038 (0%)]\tLoss: 1.609297, Accuracy: 5/8 (62.500%)\n",
      "TRAIN: LOSS-->1.0460 (0.4973)\tACC-->75.000% (84.328%)\n",
      "TRAIN: 124 [1600/4038 (40%)]\tLoss: 1.045979, Accuracy: 6/8 (75.000%)\n",
      "TRAIN: LOSS-->0.1325 (0.5098)\tACC-->100.000% (83.510%)\n",
      "TRAIN: 124 [3200/4038 (79%)]\tLoss: 0.132459, Accuracy: 8/8 (100.000%)\n",
      "VAL:   LOSS--> 0.0247 (0.0247)\tACC-->100.000 (100.000)\n",
      " * Accuracy 95.3652\n",
      "EARLY STOP\n"
     ]
    },
    {
     "name": "stderr",
     "output_type": "stream",
     "text": [
      "\r",
      " 83%|██████████████████████████████████████████████████████████████████████████████████████████████████████████████████████▎                       | 125/150 [3:50:28<46:05, 110.63s/it]"
     ]
    },
    {
     "name": "stdout",
     "output_type": "stream",
     "text": [
      "TRAIN: LOSS-->0.3965 (0.3965)\tACC-->87.500% (87.500%)\n",
      "TRAIN: 125 [0/4038 (0%)]\tLoss: 0.396470, Accuracy: 7/8 (87.500%)\n",
      "TRAIN: LOSS-->0.1957 (0.5192)\tACC-->87.500% (83.085%)\n",
      "TRAIN: 125 [1600/4038 (40%)]\tLoss: 0.195746, Accuracy: 7/8 (87.500%)\n",
      "TRAIN: LOSS-->0.5354 (0.5343)\tACC-->75.000% (82.606%)\n",
      "TRAIN: 125 [3200/4038 (79%)]\tLoss: 0.535430, Accuracy: 6/8 (75.000%)\n",
      "VAL:   LOSS--> 0.2199 (0.2199)\tACC-->100.000 (100.000)\n",
      " * Accuracy 95.3652\n",
      "EARLY STOP\n"
     ]
    },
    {
     "name": "stderr",
     "output_type": "stream",
     "text": [
      "\r",
      " 84%|███████████████████████████████████████████████████████████████████████████████████████████████████████████████████████▎                      | 126/150 [3:52:26<44:16, 110.68s/it]"
     ]
    },
    {
     "name": "stdout",
     "output_type": "stream",
     "text": [
      "TRAIN: LOSS-->0.7398 (0.7398)\tACC-->87.500% (87.500%)\n",
      "TRAIN: 126 [0/4038 (0%)]\tLoss: 0.739753, Accuracy: 7/8 (87.500%)\n",
      "TRAIN: LOSS-->0.5297 (0.5293)\tACC-->87.500% (81.841%)\n",
      "TRAIN: 126 [1600/4038 (40%)]\tLoss: 0.529669, Accuracy: 7/8 (87.500%)\n",
      "TRAIN: LOSS-->0.6331 (0.5325)\tACC-->75.000% (81.858%)\n",
      "TRAIN: 126 [3200/4038 (79%)]\tLoss: 0.633130, Accuracy: 6/8 (75.000%)\n",
      "VAL:   LOSS--> 0.0679 (0.0679)\tACC-->100.000 (100.000)\n",
      " * Accuracy 91.9944\n"
     ]
    },
    {
     "name": "stderr",
     "output_type": "stream",
     "text": [
      "\r",
      " 85%|████████████████████████████████████████████████████████████████████████████████████████████████████████████████████████▏                     | 127/150 [3:54:15<42:25, 110.68s/it]"
     ]
    },
    {
     "name": "stdout",
     "output_type": "stream",
     "text": [
      "TRAIN: LOSS-->0.4661 (0.4661)\tACC-->87.500% (87.500%)\n",
      "TRAIN: 127 [0/4038 (0%)]\tLoss: 0.466080, Accuracy: 7/8 (87.500%)\n",
      "TRAIN: LOSS-->0.4391 (0.4982)\tACC-->75.000% (82.960%)\n",
      "TRAIN: 127 [1600/4038 (40%)]\tLoss: 0.439075, Accuracy: 6/8 (75.000%)\n",
      "TRAIN: LOSS-->1.2917 (0.5006)\tACC-->87.500% (83.323%)\n",
      "TRAIN: 127 [3200/4038 (79%)]\tLoss: 1.291716, Accuracy: 7/8 (87.500%)\n",
      "VAL:   LOSS--> 0.3005 (0.3005)\tACC-->87.500 (87.500)\n",
      " * Accuracy 94.9438\n"
     ]
    },
    {
     "name": "stderr",
     "output_type": "stream",
     "text": [
      "\r",
      " 85%|█████████████████████████████████████████████████████████████████████████████████████████████████████████████████████████▏                    | 128/150 [3:56:05<40:34, 110.67s/it]"
     ]
    },
    {
     "name": "stdout",
     "output_type": "stream",
     "text": [
      "TRAIN: LOSS-->0.0801 (0.0801)\tACC-->100.000% (100.000%)\n",
      "TRAIN: 128 [0/4038 (0%)]\tLoss: 0.080113, Accuracy: 8/8 (100.000%)\n",
      "TRAIN: LOSS-->0.6010 (0.5435)\tACC-->75.000% (82.027%)\n",
      "TRAIN: 128 [1600/4038 (40%)]\tLoss: 0.601047, Accuracy: 6/8 (75.000%)\n",
      "TRAIN: LOSS-->0.9613 (0.5100)\tACC-->62.500% (83.354%)\n",
      "TRAIN: 128 [3200/4038 (79%)]\tLoss: 0.961265, Accuracy: 5/8 (62.500%)\n",
      "VAL:   LOSS--> 0.2835 (0.2835)\tACC-->100.000 (100.000)\n",
      " * Accuracy 94.9438\n"
     ]
    },
    {
     "name": "stderr",
     "output_type": "stream",
     "text": [
      "\r",
      " 86%|██████████████████████████████████████████████████████████████████████████████████████████████████████████████████████████                    | 129/150 [3:57:55<38:43, 110.66s/it]"
     ]
    },
    {
     "name": "stdout",
     "output_type": "stream",
     "text": [
      "TRAIN: LOSS-->0.6577 (0.6577)\tACC-->75.000% (75.000%)\n",
      "TRAIN: 129 [0/4038 (0%)]\tLoss: 0.657662, Accuracy: 6/8 (75.000%)\n",
      "TRAIN: LOSS-->1.2897 (0.5341)\tACC-->62.500% (81.903%)\n",
      "TRAIN: 129 [1600/4038 (40%)]\tLoss: 1.289717, Accuracy: 5/8 (62.500%)\n",
      "TRAIN: LOSS-->0.0638 (0.5316)\tACC-->100.000% (82.637%)\n",
      "TRAIN: 129 [3200/4038 (79%)]\tLoss: 0.063754, Accuracy: 8/8 (100.000%)\n",
      "VAL:   LOSS--> 0.2101 (0.2101)\tACC-->87.500 (87.500)\n",
      " * Accuracy 95.2247\n",
      "EARLY STOP\n"
     ]
    },
    {
     "name": "stderr",
     "output_type": "stream",
     "text": [
      "\r",
      " 87%|███████████████████████████████████████████████████████████████████████████████████████████████████████████████████████████                   | 130/150 [3:59:52<36:54, 110.71s/it]"
     ]
    },
    {
     "name": "stdout",
     "output_type": "stream",
     "text": [
      "TRAIN: LOSS-->0.1183 (0.1183)\tACC-->100.000% (100.000%)\n",
      "TRAIN: 130 [0/4038 (0%)]\tLoss: 0.118273, Accuracy: 8/8 (100.000%)\n",
      "TRAIN: LOSS-->0.4179 (0.4939)\tACC-->75.000% (84.453%)\n",
      "TRAIN: 130 [1600/4038 (40%)]\tLoss: 0.417942, Accuracy: 6/8 (75.000%)\n",
      "TRAIN: LOSS-->0.8047 (0.4887)\tACC-->75.000% (83.946%)\n",
      "TRAIN: 130 [3200/4038 (79%)]\tLoss: 0.804684, Accuracy: 6/8 (75.000%)\n",
      "VAL:   LOSS--> 0.2540 (0.2540)\tACC-->87.500 (87.500)\n",
      " * Accuracy 94.5225\n"
     ]
    },
    {
     "name": "stderr",
     "output_type": "stream",
     "text": [
      "\r",
      " 87%|████████████████████████████████████████████████████████████████████████████████████████████████████████████████████████████                  | 131/150 [4:01:42<35:03, 110.71s/it]"
     ]
    },
    {
     "name": "stdout",
     "output_type": "stream",
     "text": [
      "TRAIN: LOSS-->0.5585 (0.5585)\tACC-->50.000% (50.000%)\n",
      "TRAIN: 131 [0/4038 (0%)]\tLoss: 0.558548, Accuracy: 4/8 (50.000%)\n",
      "TRAIN: LOSS-->0.2452 (0.4770)\tACC-->100.000% (84.701%)\n",
      "TRAIN: 131 [1600/4038 (40%)]\tLoss: 0.245211, Accuracy: 8/8 (100.000%)\n",
      "TRAIN: LOSS-->0.5986 (0.4954)\tACC-->87.500% (84.102%)\n",
      "TRAIN: 131 [3200/4038 (79%)]\tLoss: 0.598575, Accuracy: 7/8 (87.500%)\n",
      "VAL:   LOSS--> 0.0362 (0.0362)\tACC-->100.000 (100.000)\n",
      " * Accuracy 95.0843\n",
      "EARLY STOP\n"
     ]
    },
    {
     "name": "stderr",
     "output_type": "stream",
     "text": [
      "\r",
      " 88%|████████████████████████████████████████████████████████████████████████████████████████████████████████████████████████████▉                 | 132/150 [4:03:39<33:13, 110.76s/it]"
     ]
    },
    {
     "name": "stdout",
     "output_type": "stream",
     "text": [
      "TRAIN: LOSS-->0.1702 (0.1702)\tACC-->100.000% (100.000%)\n",
      "TRAIN: 132 [0/4038 (0%)]\tLoss: 0.170194, Accuracy: 8/8 (100.000%)\n",
      "TRAIN: LOSS-->0.2791 (0.5395)\tACC-->87.500% (82.836%)\n",
      "TRAIN: 132 [1600/4038 (40%)]\tLoss: 0.279085, Accuracy: 7/8 (87.500%)\n",
      "TRAIN: LOSS-->0.5593 (0.5219)\tACC-->87.500% (83.167%)\n",
      "TRAIN: 132 [3200/4038 (79%)]\tLoss: 0.559289, Accuracy: 7/8 (87.500%)\n",
      "VAL:   LOSS--> 0.0214 (0.0214)\tACC-->100.000 (100.000)\n",
      " * Accuracy 94.8034\n"
     ]
    },
    {
     "name": "stderr",
     "output_type": "stream",
     "text": [
      "\r",
      " 89%|█████████████████████████████████████████████████████████████████████████████████████████████████████████████████████████████▉                | 133/150 [4:05:29<31:22, 110.75s/it]"
     ]
    },
    {
     "name": "stdout",
     "output_type": "stream",
     "text": [
      "TRAIN: LOSS-->1.1794 (1.1794)\tACC-->62.500% (62.500%)\n",
      "TRAIN: 133 [0/4038 (0%)]\tLoss: 1.179420, Accuracy: 5/8 (62.500%)\n",
      "TRAIN: LOSS-->1.0677 (0.4932)\tACC-->75.000% (84.328%)\n",
      "TRAIN: 133 [1600/4038 (40%)]\tLoss: 1.067748, Accuracy: 6/8 (75.000%)\n",
      "TRAIN: LOSS-->0.2245 (0.5015)\tACC-->87.500% (83.728%)\n",
      "TRAIN: 133 [3200/4038 (79%)]\tLoss: 0.224492, Accuracy: 7/8 (87.500%)\n",
      "VAL:   LOSS--> 0.0400 (0.0400)\tACC-->100.000 (100.000)\n",
      " * Accuracy 92.6966\n"
     ]
    },
    {
     "name": "stderr",
     "output_type": "stream",
     "text": [
      "\r",
      " 89%|██████████████████████████████████████████████████████████████████████████████████████████████████████████████████████████████▊               | 134/150 [4:07:19<29:31, 110.74s/it]"
     ]
    },
    {
     "name": "stdout",
     "output_type": "stream",
     "text": [
      "TRAIN: LOSS-->0.6887 (0.6887)\tACC-->75.000% (75.000%)\n",
      "TRAIN: 134 [0/4038 (0%)]\tLoss: 0.688739, Accuracy: 6/8 (75.000%)\n",
      "TRAIN: LOSS-->0.5607 (0.5170)\tACC-->87.500% (83.582%)\n",
      "TRAIN: 134 [1600/4038 (40%)]\tLoss: 0.560651, Accuracy: 7/8 (87.500%)\n",
      "TRAIN: LOSS-->0.4363 (0.4900)\tACC-->75.000% (84.507%)\n",
      "TRAIN: 134 [3200/4038 (79%)]\tLoss: 0.436287, Accuracy: 6/8 (75.000%)\n",
      "VAL:   LOSS--> 0.0304 (0.0304)\tACC-->100.000 (100.000)\n",
      " * Accuracy 95.2247\n",
      "EARLY STOP\n"
     ]
    },
    {
     "name": "stderr",
     "output_type": "stream",
     "text": [
      "\r",
      " 90%|███████████████████████████████████████████████████████████████████████████████████████████████████████████████████████████████▊              | 135/150 [4:09:16<27:41, 110.79s/it]"
     ]
    },
    {
     "name": "stdout",
     "output_type": "stream",
     "text": [
      "TRAIN: LOSS-->0.1760 (0.1760)\tACC-->100.000% (100.000%)\n",
      "TRAIN: 135 [0/4038 (0%)]\tLoss: 0.175962, Accuracy: 8/8 (100.000%)\n",
      "TRAIN: LOSS-->0.8129 (0.4943)\tACC-->75.000% (84.453%)\n",
      "TRAIN: 135 [1600/4038 (40%)]\tLoss: 0.812852, Accuracy: 6/8 (75.000%)\n",
      "TRAIN: LOSS-->0.7956 (0.5070)\tACC-->75.000% (84.227%)\n",
      "TRAIN: 135 [3200/4038 (79%)]\tLoss: 0.795587, Accuracy: 6/8 (75.000%)\n",
      "VAL:   LOSS--> 0.1353 (0.1353)\tACC-->87.500 (87.500)\n",
      " * Accuracy 94.5225\n"
     ]
    },
    {
     "name": "stderr",
     "output_type": "stream",
     "text": [
      "\r",
      " 91%|████████████████████████████████████████████████████████████████████████████████████████████████████████████████████████████████▋             | 136/150 [4:11:06<25:50, 110.78s/it]"
     ]
    },
    {
     "name": "stdout",
     "output_type": "stream",
     "text": [
      "TRAIN: LOSS-->0.1636 (0.1636)\tACC-->100.000% (100.000%)\n",
      "TRAIN: 136 [0/4038 (0%)]\tLoss: 0.163628, Accuracy: 8/8 (100.000%)\n",
      "TRAIN: LOSS-->0.4996 (0.4781)\tACC-->75.000% (83.955%)\n",
      "TRAIN: 136 [1600/4038 (40%)]\tLoss: 0.499563, Accuracy: 6/8 (75.000%)\n",
      "TRAIN: LOSS-->0.3293 (0.4711)\tACC-->87.500% (84.352%)\n",
      "TRAIN: 136 [3200/4038 (79%)]\tLoss: 0.329264, Accuracy: 7/8 (87.500%)\n",
      "VAL:   LOSS--> 0.0988 (0.0988)\tACC-->100.000 (100.000)\n",
      " * Accuracy 95.3652\n",
      "EARLY STOP\n"
     ]
    },
    {
     "name": "stderr",
     "output_type": "stream",
     "text": [
      "\r",
      " 91%|█████████████████████████████████████████████████████████████████████████████████████████████████████████████████████████████████▋            | 137/150 [4:13:03<24:00, 110.83s/it]"
     ]
    },
    {
     "name": "stdout",
     "output_type": "stream",
     "text": [
      "TRAIN: LOSS-->0.3511 (0.3511)\tACC-->75.000% (75.000%)\n",
      "TRAIN: 137 [0/4038 (0%)]\tLoss: 0.351129, Accuracy: 6/8 (75.000%)\n",
      "TRAIN: LOSS-->1.7307 (0.5343)\tACC-->50.000% (82.214%)\n",
      "TRAIN: 137 [1600/4038 (40%)]\tLoss: 1.730689, Accuracy: 4/8 (50.000%)\n",
      "TRAIN: LOSS-->0.8877 (0.4974)\tACC-->75.000% (82.949%)\n",
      "TRAIN: 137 [3200/4038 (79%)]\tLoss: 0.887729, Accuracy: 6/8 (75.000%)\n",
      "VAL:   LOSS--> 0.0945 (0.0945)\tACC-->100.000 (100.000)\n",
      " * Accuracy 93.5393\n"
     ]
    },
    {
     "name": "stderr",
     "output_type": "stream",
     "text": [
      "\r",
      " 92%|██████████████████████████████████████████████████████████████████████████████████████████████████████████████████████████████████▋           | 138/150 [4:14:53<22:09, 110.82s/it]"
     ]
    },
    {
     "name": "stdout",
     "output_type": "stream",
     "text": [
      "TRAIN: LOSS-->0.3791 (0.3791)\tACC-->87.500% (87.500%)\n",
      "TRAIN: 138 [0/4038 (0%)]\tLoss: 0.379120, Accuracy: 7/8 (87.500%)\n",
      "TRAIN: LOSS-->0.2619 (0.4893)\tACC-->87.500% (83.458%)\n",
      "TRAIN: 138 [1600/4038 (40%)]\tLoss: 0.261907, Accuracy: 7/8 (87.500%)\n",
      "TRAIN: LOSS-->0.5911 (0.4904)\tACC-->75.000% (83.261%)\n",
      "TRAIN: 138 [3200/4038 (79%)]\tLoss: 0.591142, Accuracy: 6/8 (75.000%)\n",
      "VAL:   LOSS--> 0.0271 (0.0271)\tACC-->100.000 (100.000)\n",
      " * Accuracy 95.7865\n",
      "EARLY STOP\n"
     ]
    },
    {
     "name": "stderr",
     "output_type": "stream",
     "text": [
      "\r",
      " 93%|███████████████████████████████████████████████████████████████████████████████████████████████████████████████████████████████████▌          | 139/150 [4:16:50<20:19, 110.87s/it]"
     ]
    },
    {
     "name": "stdout",
     "output_type": "stream",
     "text": [
      "TRAIN: LOSS-->0.2369 (0.2369)\tACC-->87.500% (87.500%)\n",
      "TRAIN: 139 [0/4038 (0%)]\tLoss: 0.236905, Accuracy: 7/8 (87.500%)\n",
      "TRAIN: LOSS-->0.1921 (0.4968)\tACC-->100.000% (84.142%)\n",
      "TRAIN: 139 [1600/4038 (40%)]\tLoss: 0.192094, Accuracy: 8/8 (100.000%)\n",
      "TRAIN: LOSS-->0.1937 (0.4899)\tACC-->100.000% (83.323%)\n",
      "TRAIN: 139 [3200/4038 (79%)]\tLoss: 0.193691, Accuracy: 8/8 (100.000%)\n",
      "VAL:   LOSS--> 0.1970 (0.1970)\tACC-->87.500 (87.500)\n",
      " * Accuracy 95.5056\n",
      "EARLY STOP\n"
     ]
    },
    {
     "name": "stderr",
     "output_type": "stream",
     "text": [
      "\r",
      " 93%|████████████████████████████████████████████████████████████████████████████████████████████████████████████████████████████████████▌         | 140/150 [4:18:47<18:29, 110.91s/it]"
     ]
    },
    {
     "name": "stdout",
     "output_type": "stream",
     "text": [
      "TRAIN: LOSS-->0.5153 (0.5153)\tACC-->87.500% (87.500%)\n",
      "TRAIN: 140 [0/4038 (0%)]\tLoss: 0.515343, Accuracy: 7/8 (87.500%)\n",
      "TRAIN: LOSS-->0.2712 (0.4972)\tACC-->87.500% (82.898%)\n",
      "TRAIN: 140 [1600/4038 (40%)]\tLoss: 0.271199, Accuracy: 7/8 (87.500%)\n",
      "TRAIN: LOSS-->0.4172 (0.4993)\tACC-->87.500% (83.167%)\n",
      "TRAIN: 140 [3200/4038 (79%)]\tLoss: 0.417240, Accuracy: 7/8 (87.500%)\n",
      "VAL:   LOSS--> 0.1191 (0.1191)\tACC-->100.000 (100.000)\n",
      " * Accuracy 93.9607\n"
     ]
    },
    {
     "name": "stderr",
     "output_type": "stream",
     "text": [
      "\r",
      " 94%|█████████████████████████████████████████████████████████████████████████████████████████████████████████████████████████████████████▍        | 141/150 [4:20:37<16:38, 110.91s/it]"
     ]
    },
    {
     "name": "stdout",
     "output_type": "stream",
     "text": [
      "TRAIN: LOSS-->0.0533 (0.0533)\tACC-->100.000% (100.000%)\n",
      "TRAIN: 141 [0/4038 (0%)]\tLoss: 0.053292, Accuracy: 8/8 (100.000%)\n",
      "TRAIN: LOSS-->0.7578 (0.5108)\tACC-->75.000% (83.769%)\n",
      "TRAIN: 141 [1600/4038 (40%)]\tLoss: 0.757795, Accuracy: 6/8 (75.000%)\n",
      "TRAIN: LOSS-->0.1024 (0.5066)\tACC-->100.000% (83.572%)\n",
      "TRAIN: 141 [3200/4038 (79%)]\tLoss: 0.102359, Accuracy: 8/8 (100.000%)\n",
      "VAL:   LOSS--> 0.2166 (0.2166)\tACC-->87.500 (87.500)\n",
      " * Accuracy 95.6461\n",
      "EARLY STOP\n"
     ]
    },
    {
     "name": "stderr",
     "output_type": "stream",
     "text": [
      "\r",
      " 95%|██████████████████████████████████████████████████████████████████████████████████████████████████████████████████████████████████████▍       | 142/150 [4:22:34<14:47, 110.95s/it]"
     ]
    },
    {
     "name": "stdout",
     "output_type": "stream",
     "text": [
      "TRAIN: LOSS-->0.5752 (0.5752)\tACC-->87.500% (87.500%)\n",
      "TRAIN: 142 [0/4038 (0%)]\tLoss: 0.575198, Accuracy: 7/8 (87.500%)\n",
      "TRAIN: LOSS-->1.0377 (0.5224)\tACC-->75.000% (83.271%)\n",
      "TRAIN: 142 [1600/4038 (40%)]\tLoss: 1.037691, Accuracy: 6/8 (75.000%)\n",
      "TRAIN: LOSS-->0.8609 (0.5274)\tACC-->62.500% (82.855%)\n",
      "TRAIN: 142 [3200/4038 (79%)]\tLoss: 0.860946, Accuracy: 5/8 (62.500%)\n",
      "VAL:   LOSS--> 0.0799 (0.0799)\tACC-->100.000 (100.000)\n",
      " * Accuracy 95.0843\n",
      "EARLY STOP\n"
     ]
    },
    {
     "name": "stderr",
     "output_type": "stream",
     "text": [
      "\r",
      " 95%|███████████████████████████████████████████████████████████████████████████████████████████████████████████████████████████████████████▎      | 143/150 [4:24:31<12:56, 110.99s/it]"
     ]
    },
    {
     "name": "stdout",
     "output_type": "stream",
     "text": [
      "TRAIN: LOSS-->0.7082 (0.7082)\tACC-->62.500% (62.500%)\n",
      "TRAIN: 143 [0/4038 (0%)]\tLoss: 0.708225, Accuracy: 5/8 (62.500%)\n",
      "TRAIN: LOSS-->0.7572 (0.5118)\tACC-->75.000% (82.960%)\n",
      "TRAIN: 143 [1600/4038 (40%)]\tLoss: 0.757197, Accuracy: 6/8 (75.000%)\n",
      "TRAIN: LOSS-->0.0243 (0.4805)\tACC-->100.000% (83.978%)\n",
      "TRAIN: 143 [3200/4038 (79%)]\tLoss: 0.024276, Accuracy: 8/8 (100.000%)\n",
      "VAL:   LOSS--> 0.0379 (0.0379)\tACC-->100.000 (100.000)\n",
      " * Accuracy 96.0674\n",
      "EARLY STOP\n"
     ]
    },
    {
     "name": "stderr",
     "output_type": "stream",
     "text": [
      "\r",
      " 96%|████████████████████████████████████████████████████████████████████████████████████████████████████████████████████████████████████████▎     | 144/150 [4:26:29<11:06, 111.04s/it]"
     ]
    },
    {
     "name": "stdout",
     "output_type": "stream",
     "text": [
      "TRAIN: LOSS-->0.6130 (0.6130)\tACC-->75.000% (75.000%)\n",
      "TRAIN: 144 [0/4038 (0%)]\tLoss: 0.612987, Accuracy: 6/8 (75.000%)\n",
      "TRAIN: LOSS-->1.0448 (0.4620)\tACC-->75.000% (84.017%)\n",
      "TRAIN: 144 [1600/4038 (40%)]\tLoss: 1.044835, Accuracy: 6/8 (75.000%)\n",
      "TRAIN: LOSS-->0.4791 (0.4858)\tACC-->87.500% (83.853%)\n",
      "TRAIN: 144 [3200/4038 (79%)]\tLoss: 0.479109, Accuracy: 7/8 (87.500%)\n",
      "VAL:   LOSS--> 0.1444 (0.1444)\tACC-->87.500 (87.500)\n",
      " * Accuracy 94.9438\n"
     ]
    },
    {
     "name": "stderr",
     "output_type": "stream",
     "text": [
      "\r",
      " 97%|█████████████████████████████████████████████████████████████████████████████████████████████████████████████████████████████████████████▎    | 145/150 [4:28:19<09:15, 111.03s/it]"
     ]
    },
    {
     "name": "stdout",
     "output_type": "stream",
     "text": [
      "TRAIN: LOSS-->0.1501 (0.1501)\tACC-->100.000% (100.000%)\n",
      "TRAIN: 145 [0/4038 (0%)]\tLoss: 0.150146, Accuracy: 8/8 (100.000%)\n",
      "TRAIN: LOSS-->0.2465 (0.5025)\tACC-->100.000% (83.396%)\n",
      "TRAIN: 145 [1600/4038 (40%)]\tLoss: 0.246517, Accuracy: 8/8 (100.000%)\n",
      "TRAIN: LOSS-->1.1190 (0.4908)\tACC-->75.000% (83.229%)\n",
      "TRAIN: 145 [3200/4038 (79%)]\tLoss: 1.119038, Accuracy: 6/8 (75.000%)\n",
      "VAL:   LOSS--> 0.3375 (0.3375)\tACC-->87.500 (87.500)\n",
      " * Accuracy 95.6461\n",
      "EARLY STOP\n"
     ]
    },
    {
     "name": "stderr",
     "output_type": "stream",
     "text": [
      "\r",
      " 97%|██████████████████████████████████████████████████████████████████████████████████████████████████████████████████████████████████████████▏   | 146/150 [4:30:16<07:24, 111.07s/it]"
     ]
    },
    {
     "name": "stdout",
     "output_type": "stream",
     "text": [
      "TRAIN: LOSS-->0.5739 (0.5739)\tACC-->75.000% (75.000%)\n",
      "TRAIN: 146 [0/4038 (0%)]\tLoss: 0.573872, Accuracy: 6/8 (75.000%)\n",
      "TRAIN: LOSS-->0.4139 (0.5077)\tACC-->87.500% (82.214%)\n",
      "TRAIN: 146 [1600/4038 (40%)]\tLoss: 0.413902, Accuracy: 7/8 (87.500%)\n",
      "TRAIN: LOSS-->0.3572 (0.4775)\tACC-->87.500% (84.196%)\n",
      "TRAIN: 146 [3200/4038 (79%)]\tLoss: 0.357166, Accuracy: 7/8 (87.500%)\n",
      "VAL:   LOSS--> 0.0319 (0.0319)\tACC-->100.000 (100.000)\n",
      " * Accuracy 93.6798\n"
     ]
    },
    {
     "name": "stderr",
     "output_type": "stream",
     "text": [
      "\r",
      " 98%|███████████████████████████████████████████████████████████████████████████████████████████████████████████████████████████████████████████▏  | 147/150 [4:32:06<05:33, 111.06s/it]"
     ]
    },
    {
     "name": "stdout",
     "output_type": "stream",
     "text": [
      "TRAIN: LOSS-->0.3508 (0.3508)\tACC-->87.500% (87.500%)\n",
      "TRAIN: 147 [0/4038 (0%)]\tLoss: 0.350757, Accuracy: 7/8 (87.500%)\n",
      "TRAIN: LOSS-->0.2981 (0.4713)\tACC-->100.000% (84.515%)\n",
      "TRAIN: 147 [1600/4038 (40%)]\tLoss: 0.298060, Accuracy: 8/8 (100.000%)\n",
      "TRAIN: LOSS-->0.4729 (0.5024)\tACC-->87.500% (83.915%)\n",
      "TRAIN: 147 [3200/4038 (79%)]\tLoss: 0.472856, Accuracy: 7/8 (87.500%)\n",
      "VAL:   LOSS--> 1.0990 (1.0990)\tACC-->75.000 (75.000)\n",
      " * Accuracy 94.2416\n"
     ]
    },
    {
     "name": "stderr",
     "output_type": "stream",
     "text": [
      "\r",
      " 99%|████████████████████████████████████████████████████████████████████████████████████████████████████████████████████████████████████████████  | 148/150 [4:33:55<03:42, 111.05s/it]"
     ]
    },
    {
     "name": "stdout",
     "output_type": "stream",
     "text": [
      "TRAIN: LOSS-->0.0655 (0.0655)\tACC-->100.000% (100.000%)\n",
      "TRAIN: 148 [0/4038 (0%)]\tLoss: 0.065470, Accuracy: 8/8 (100.000%)\n",
      "TRAIN: LOSS-->0.0711 (0.5086)\tACC-->100.000% (83.831%)\n",
      "TRAIN: 148 [1600/4038 (40%)]\tLoss: 0.071082, Accuracy: 8/8 (100.000%)\n",
      "TRAIN: LOSS-->0.2627 (0.4760)\tACC-->87.500% (84.383%)\n",
      "TRAIN: 148 [3200/4038 (79%)]\tLoss: 0.262734, Accuracy: 7/8 (87.500%)\n",
      "VAL:   LOSS--> 0.0072 (0.0072)\tACC-->100.000 (100.000)\n",
      " * Accuracy 95.2247\n",
      "EARLY STOP\n"
     ]
    },
    {
     "name": "stderr",
     "output_type": "stream",
     "text": [
      "\r",
      " 99%|█████████████████████████████████████████████████████████████████████████████████████████████████████████████████████████████████████████████ | 149/150 [4:35:52<01:51, 111.09s/it]"
     ]
    },
    {
     "name": "stdout",
     "output_type": "stream",
     "text": [
      "TRAIN: LOSS-->0.4058 (0.4058)\tACC-->75.000% (75.000%)\n",
      "TRAIN: 149 [0/4038 (0%)]\tLoss: 0.405817, Accuracy: 6/8 (75.000%)\n",
      "TRAIN: LOSS-->0.3481 (0.4709)\tACC-->75.000% (83.893%)\n",
      "TRAIN: 149 [1600/4038 (40%)]\tLoss: 0.348098, Accuracy: 6/8 (75.000%)\n",
      "TRAIN: LOSS-->0.1818 (0.4740)\tACC-->100.000% (83.884%)\n",
      "TRAIN: 149 [3200/4038 (79%)]\tLoss: 0.181839, Accuracy: 8/8 (100.000%)\n",
      "VAL:   LOSS--> 0.0242 (0.0242)\tACC-->100.000 (100.000)\n",
      " * Accuracy 96.2079\n",
      "EARLY STOP\n"
     ]
    },
    {
     "name": "stderr",
     "output_type": "stream",
     "text": [
      "100%|██████████████████████████████████████████████████████████████████████████████████████████████████████████████████████████████████████████████| 150/150 [4:37:50<00:00, 111.14s/it]\n"
     ]
    }
   ],
   "source": [
    "sample_submission = pd.read_csv('sample_submission.csv')\n",
    "sample_submission.columns = ['file', 'species']\n",
    "# sample_submission['category_id'] = 0\n",
    "sample_submission.head(3)\n",
    "\n",
    "if __name__ == '__main__':  \n",
    "    epochs=150\n",
    "    runId = datetime.datetime.now().strftime('%Y-%m-%d_%H-%M-%S')    \n",
    "    recorder = RecorderMeter(epochs)  # epoc is updated\n",
    "#     model_name = (type(model).__name__)\n",
    "\n",
    "    exp_name = datetime.datetime.now().strftime(model_name + '_' + dataset + '_%Y-%m-%d_%H-%M-%S')    \n",
    "    mPath = './logs' + '/' + dataset + '/' + model_name + '/'    \n",
    "    if not os.path.isdir(mPath):\n",
    "        os.makedirs(mPath)    \n",
    "    print(\"Random Seed: {}\".format(manualSeed))\n",
    "    print(\"python version : {}\".format(sys.version.replace('\\n', ' ')))\n",
    "    print(\"torch  version : {}\".format(torch.__version__))\n",
    "    print(\"cudnn  version : {}\".format(torch.backends.cudnn.version()))    \n",
    "    print(\"=> Final model name '{}'\".format(model_name))            \n",
    "    print (\"MODEL: {}\".format( str(model_name)))\n",
    "    print (\"dataset: {}\".format(dataset))\n",
    "    print('    Total params: %.2fM' % (sum(p.numel() for p in model.parameters()) / 1000000.0))    \n",
    "    \n",
    "    print (\"MODEL: {}\".format( str(type(model).__name__)))\n",
    "    \n",
    "    start_training_time = time.time()\n",
    "    training_time=time.time()\n",
    "    for epoch in tqdm(range(0, epochs)):        \n",
    "        train_result, accuracy_tr=train(t_loader, model, epoch, optimizer)\n",
    "        val_loss, val_accuracy= validate(v_loader, model, epoch)  \n",
    "        \n",
    "        recorder.update(epoch, train_result, accuracy_tr, val_loss, val_accuracy) \n",
    "        training_time=time.time() - start_training_time\n",
    "        recorder.plot_curve(os.path.join(mPath, model_name + '_' + exp_name + '.png'),training_time, model, model_name,\n",
    "                            str(dataset_sizes),\n",
    "                        batch_size, lr,dataset,manualSeed,len(classes))\n",
    "        \n",
    "        if float(val_accuracy) > float(95.0):            \n",
    "            print (\"EARLY STOP\")            \n",
    "            df_pred=testModel(test_data_dir,model)\n",
    "            df_pred.to_csv(str(type(model).__name__) + '_' + str(val_accuracy) + '_' + \n",
    "                           str(epoch) + \"_sub.csv\", columns=('file', 'species'), index=None)\n",
    "            torch.save(model.state_dict(), os.path.join(mPath, model_name + '_' + runId + '_' + str(val_accuracy) + '_.pth'))                        "
   ]
  },
  {
   "cell_type": "code",
   "execution_count": 16,
   "metadata": {
    "colab": {
     "autoexec": {
      "startup": false,
      "wait_interval": 0.0
     }
    },
    "colab_type": "code",
    "collapsed": true,
    "id": "9mH8koj_zpTc"
   },
   "outputs": [],
   "source": [
    "torch.save(model.state_dict(), os.path.join(mPath, model_name + '_' + runId + '_' + str(val_accuracy) + 'FINAL_.pth'))"
   ]
  },
  {
   "cell_type": "markdown",
   "metadata": {
    "colab_type": "text",
    "id": "CZbOD_cEzpTg"
   },
   "source": [
    "In this step, participants will be asked to provide the following classification rates:\n",
    "\n",
    "-- TP (True Positive, which is the number of OP people correctly identified),\n",
    "\n",
    "-- FP (False Positive, which is the number of CT people incorrectly identified),\n",
    "\n",
    "-- TN (True Negative, which is the number of CT people correctly identified),\n",
    "\n",
    "-- FN (False Negative, which is the number of OP people incorrectly identified),\n",
    "\n",
    "-- Sn (True positive rate or sensitivity) as Sn = TP/(TP + FN),\n",
    "\n",
    "-- Sp (Specificity or True Negative Rate) as Sp = TN/(FP + TN)."
   ]
  },
  {
   "cell_type": "markdown",
   "metadata": {
    "colab_type": "text",
    "id": "xJl5xk-izpTh"
   },
   "source": [
    "## Confusion matrix code, from the scikit documentation"
   ]
  },
  {
   "cell_type": "code",
   "execution_count": 20,
   "metadata": {
    "colab": {
     "autoexec": {
      "startup": false,
      "wait_interval": 0.0
     }
    },
    "colab_type": "code",
    "collapsed": true,
    "id": "zSJhsAEAzpTi"
   },
   "outputs": [],
   "source": [
    "import itertools\n",
    "\n",
    "# Performance monitoring\n",
    "from time import process_time\n",
    "import matplotlib.pyplot as plt\n",
    "import numpy as np\n",
    "%matplotlib nbagg\n",
    "from sklearn.metrics import confusion_matrix\n",
    "\n",
    "def plot_confusion_matrix(cm, classes,\n",
    "                          normalize=False,\n",
    "                          title='Confusion matrix',\n",
    "                          cmap=plt.cm.Blues):\n",
    "    \"\"\"\n",
    "    This function prints and plots the confusion matrix.\n",
    "    Normalization can be applied by setting `normalize=True`.\n",
    "    \"\"\"\n",
    "    if normalize:\n",
    "        cm = cm.astype('float') / cm.sum(axis=1)[:, np.newaxis]\n",
    "        print(\"Normalized confusion matrix\")\n",
    "    else:\n",
    "        print('Confusion matrix, without normalization')\n",
    "\n",
    "    #print(cm)\n",
    "\n",
    "    plt.imshow(cm, interpolation='nearest', cmap=cmap)\n",
    "    plt.title(title)\n",
    "    plt.colorbar()\n",
    "    tick_marks = np.arange(len(classes))\n",
    "    plt.xticks(tick_marks, classes, rotation=45)\n",
    "    plt.yticks(tick_marks, classes)\n",
    "\n",
    "    fmt = '.2f' if normalize else 'd'\n",
    "    thresh = cm.max() / 2.\n",
    "    for i, j in itertools.product(range(cm.shape[0]), range(cm.shape[1])):\n",
    "        plt.text(j, i, format(cm[i, j], fmt),\n",
    "                 horizontalalignment=\"center\",\n",
    "                 color=\"white\" if cm[i, j] > thresh else \"black\")\n",
    "\n",
    "    plt.tight_layout()\n",
    "    plt.ylabel('True label')\n",
    "    plt.xlabel('Predicted label')\n",
    "\n",
    "def confusion_diagnostic(model) :\n",
    "    \"Displays a synthetic matrix, which represents our classifier performances.\"\n",
    "    y_test    = [] ; y_pred    = [] ; \n",
    "    for data, target in v_loader: # We won't load the testing dataset all at once:\n",
    "        # Load the data on the GPU if needed, and wrap it into an autodiff object ----\n",
    "        if use_cuda: data, target = data.cuda(), target.cuda()\n",
    "        data, target = Variable(data, volatile=True), Variable(target)\n",
    "        # Evaluation of our model on the test mini-batch -----------------------------\n",
    "        output     = model(data) # Forward pass through the model\n",
    "        pred       = output.data.max(1, keepdim=True)[1] # get the index of the max log-probability\n",
    "        y_test.append(target.data.cpu().numpy()) ; y_pred.append(pred.view(-1).cpu().numpy())\n",
    "    y_test = np.hstack(y_test) ; y_pred = np.hstack(y_pred)\n",
    "    \n",
    "    # Display --------------------------------------------------------------------   \n",
    "    cnf_matrix = confusion_matrix(y_test, y_pred)\n",
    "    fig = plt.figure(dpi=150)\n",
    "    plot_confusion_matrix(cnf_matrix, classes=classes,\n",
    "                      title='Confusion matrix')\n",
    "    fig.canvas.draw()"
   ]
  },
  {
   "cell_type": "code",
   "execution_count": 21,
   "metadata": {
    "colab": {
     "autoexec": {
      "startup": false,
      "wait_interval": 0.0
     },
     "output_extras": [
      {},
      {},
      {}
     ]
    },
    "colab_type": "code",
    "id": "Ak8tzO3TzpTk",
    "outputId": "866a43d0-e58a-44d6-8ae3-5ee742928d64"
   },
   "outputs": [
    {
     "data": {
      "text/plain": [
       "<IPython.core.display.Javascript object>"
      ]
     },
     "metadata": {},
     "output_type": "display_data"
    },
    {
     "data": {
      "text/html": [
       "<img src=\"data:image/png;base64,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\" width=\"900\">"
      ],
      "text/plain": [
       "<IPython.core.display.HTML object>"
      ]
     },
     "metadata": {},
     "output_type": "execute_result"
    },
    {
     "name": "stdout",
     "output_type": "stream",
     "text": [
      "Confusion matrix, without normalization\n"
     ]
    }
   ],
   "source": [
    "confusion_diagnostic(model)"
   ]
  },
  {
   "cell_type": "code",
   "execution_count": 0,
   "metadata": {
    "colab": {
     "autoexec": {
      "startup": false,
      "wait_interval": 0.0
     }
    },
    "colab_type": "code",
    "collapsed": true,
    "id": "uKXfEI9KzpTp"
   },
   "outputs": [],
   "source": []
  }
 ],
 "metadata": {
  "accelerator": "GPU",
  "colab": {
   "default_view": {},
   "name": "generic-SeNet-SeedLings.ipynb",
   "provenance": [],
   "toc_visible": true,
   "version": "0.3.2",
   "views": {}
  },
  "kernelspec": {
   "display_name": "Python 3",
   "language": "python",
   "name": "python3"
  },
  "language_info": {
   "codemirror_mode": {
    "name": "ipython",
    "version": 3
   },
   "file_extension": ".py",
   "mimetype": "text/x-python",
   "name": "python",
   "nbconvert_exporter": "python",
   "pygments_lexer": "ipython3",
   "version": "3.6.2"
  }
 },
 "nbformat": 4,
 "nbformat_minor": 1
}
