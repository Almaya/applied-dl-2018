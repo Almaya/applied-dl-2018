{
 "cells": [
  {
   "cell_type": "markdown",
   "metadata": {
    "colab_type": "text",
    "id": "EDgSCpeOzpR8"
   },
   "source": [
    "# Tel-Aviv Deep Learning Boot-camp: 12 Applied Deep Learning Labs\n",
    "\n",
    "## Lab 0: Plant Seedlings Classification (PyTorch): The most basic lab :)  \n",
    "\n",
    "<img src=\"assets/seedlings.png\" align=\"center\">\n",
    "\n",
    "### Instructors:\n",
    "\n",
    "- Shlomo Kashani: shlomo@bayesian.io ,\n",
    "- Nathaniel Shimoni nathaniel.shimoni@grid4c.com \n",
    "\n",
    "<img src=\"assets/pt.jpg\" width=\"35%\" align=\"center\">\n",
    "\n",
    "## Progress\n",
    "\n",
    "- [x] PyTorch DataSet\n",
    "- [x] PyTorch DataLoader\n",
    "- [x] Augmentations\n",
    "- [x] Simple CNN\n",
    "- [x] Training + train test split\n",
    "- [x] TensorBoard Support from PyTorch\n",
    "- [x] Accuray and Log Loss\n",
    "- [x] Tqdm progress\n",
    "- [x] Persisting the model\n",
    "- [x] Testing on a test set\n",
    "\n",
    "\n",
    "\n",
    "### Links:\n",
    "\n",
    "- https://www.meetup.com/Tel-Aviv-Deep-Learning-Bootcamp/ \n",
    "- Git: https://github.com/bayesianio/applied-dl-2018\n",
    "- Full info: https://www.evernote.com/shard/s341/sh/3855640e-2b0b-42e5-b5b9-00216d02ac9a/b47968226e49a81ee813901cd41d3924\n",
    "\n",
    "### Date and Location: \n",
    "- July 2018\n",
    "\n",
    "\n",
    "### Requirements:\n",
    "- Python 3.5, CUDA 9, cuDNN 7, PyTorch 2.0 or above, Keras 2 or above\n",
    "\n",
    "#### For Windows 10 and Windows Server 2016, CUDA 9\n",
    "`conda install -c peterjc123 pytorch cuda90`\n",
    "\n",
    "\n",
    "### Data\n",
    "- Download: https://www.kaggle.com/c/plant-seedlings-classification\n",
    "\n",
    "- Please make sure you have already set up a Pytorch tree structure of your dataset:\n",
    "- `data_dir= '/home/data/bone/train/' `\n",
    "\n",
    "```\n",
    "    data_dir= '/home/data/bone/train/\n",
    "    \n",
    "    ├── valid\n",
    "    │   └── Type_1\n",
    "        ├── Type_2\n",
    "        └── Type_3\n",
    "    └── train\n",
    "        ├── Type_1\n",
    "        ├── Type_2\n",
    "        └── Type_3\n",
    "```\n",
    "\n",
    "### PyTorch Datasets\n",
    "\n",
    "To create a dataset, we subclass Dataset and define a constructor, a `__len__` method, and a `__getitem__` method. \n",
    "Here is full example:\n",
    "\n",
    "```python\n",
    "class BoneDataset(Dataset):\n",
    "    def __init__(self, labels, root_dir, subset=False, transform=None):\n",
    "        self.labels = labels\n",
    "        self.root_dir = root_dir\n",
    "        self.transform = transform\n",
    "    \n",
    "    def __len__(self):\n",
    "        return len(self.labels)\n",
    "    \n",
    "    def __getitem__(self, idx):\n",
    "        img_name = self.labels.iloc[idx, 0] # file name\n",
    "        fullname = join(self.root_dir, img_name)\n",
    "        image = Image.open(fullname).convert('RGB')\n",
    "        labels = self.labels.iloc[idx, 2] # category_id\n",
    "        if self.transform:\n",
    "            image = self.transform(image)\n",
    "        return image, labels\n",
    "```\n",
    "\n",
    "### The PyTorch DataLoader Class¶\n",
    "- Will load our BoneDataset\n",
    "- Can be regarded as a list (or iterator, technically).\n",
    "- Each time it is invoked will provide a minibatch of (img, label) pairs.\n",
    "\n",
    "\n",
    "### Training with TensorBoard\n",
    "\n",
    "With the aid of [Crayon](https://github.com/torrvision/crayon),\n",
    "we can access the visualisation power of TensorBoard for any \n",
    "deep learning framework.\n",
    "\n",
    "To use the TensorBoard, install Crayon (https://github.com/torrvision/crayon)\n",
    "and set `use_tensorboard = True`\n",
    "\n",
    "\n",
    "## Google Colab links:\n",
    "- https://medium.com/deep-learning-turkey/google-colab-free-gpu-tutorial-e113627b9f5d\n",
    "- https://jovianlin.io/pytorch-with-gpu-in-google-colab/"
   ]
  },
  {
   "cell_type": "code",
   "execution_count": 2,
   "metadata": {
    "colab": {
     "autoexec": {
      "startup": false,
      "wait_interval": 0
     },
     "base_uri": "https://localhost:8080/",
     "height": 105,
     "output_extras": [
      {
       "item_id": 4
      }
     ]
    },
    "colab_type": "code",
    "executionInfo": {
     "elapsed": 14961,
     "status": "ok",
     "timestamp": 1521474027916,
     "user": {
      "displayName": "Shlomo Kashani",
      "photoUrl": "https://lh3.googleusercontent.com/a/default-user=s128",
      "userId": "110613709458758208639"
     },
     "user_tz": -120
    },
    "id": "t2YZ6BK06iNd",
    "outputId": "027cd22f-df7e-42cf-8190-870ce9d5e734"
   },
   "outputs": [],
   "source": [
    "# Google specific code\n",
    "\n",
    "# !pip3 install http://download.pytorch.org/whl/cu80/torch-0.3.0.post4-cp36-cp36m-linux_x86_64.whl \n",
    "# !pip3 install torchvision\n",
    "# !pip3 install tqdm\n",
    "\n",
    "# !apt-get install -y -qq software-properties-common python-software-properties module-init-tools\n",
    "# !add-apt-repository -y ppa:alessandro-strada/ppa 2>&1 > /dev/null\n",
    "# !apt-get update -qq 2>&1 > /dev/null\n",
    "# !apt-get -y install -qq google-drive-ocamlfuse fuse\n",
    "# from google.colab import auth\n",
    "# auth.authenticate_user()\n",
    "# from oauth2client.client import GoogleCredentials\n",
    "# creds = GoogleCredentials.get_application_default()\n",
    "# import getpass\n",
    "# !google-drive-ocamlfuse -headless -id={creds.client_id} -secret={creds.client_secret} < /dev/null 2>&1 | grep URL\n",
    "# vcode = getpass.getpass()\n",
    "# !echo {vcode} | google-drive-ocamlfuse -headless -id={creds.client_id} -secret={creds.client_secret}\n",
    "\n",
    "# !mkdir -p med-drive\n",
    "# !google-drive-ocamlfuse med-drive"
   ]
  },
  {
   "cell_type": "code",
   "execution_count": 3,
   "metadata": {
    "colab": {
     "autoexec": {
      "startup": false,
      "wait_interval": 0
     },
     "base_uri": "https://localhost:8080/",
     "height": 221,
     "output_extras": [
      {
       "item_id": 1
      }
     ]
    },
    "colab_type": "code",
    "executionInfo": {
     "elapsed": 883,
     "status": "ok",
     "timestamp": 1521474180497,
     "user": {
      "displayName": "Shlomo Kashani",
      "photoUrl": "https://lh3.googleusercontent.com/a/default-user=s128",
      "userId": "110613709458758208639"
     },
     "user_tz": -120
    },
    "id": "rmr9jTsazpR-",
    "outputId": "041c3cdd-b901-49c6-fc44-9c4a147cf089"
   },
   "outputs": [
    {
     "name": "stdout",
     "output_type": "stream",
     "text": [
      "__Python VERSION: 3.6.2 |Anaconda custom (64-bit)| (default, Sep 19 2017, 08:03:39) [MSC v.1900 64 bit (AMD64)]\n",
      "__pyTorch VERSION: 0.3.1.post2\n",
      "__CUDA VERSION\n",
      "nvcc: NVIDIA (R) Cuda compiler driver\n",
      "Copyright (c) 2005-2017 NVIDIA Corporation\n",
      "Built on Fri_Sep__1_21:08:32_Central_Daylight_Time_2017\n",
      "Cuda compilation tools, release 9.0, V9.0.176\n",
      "__CUDNN VERSION: 7003\n",
      "__Number CUDA Devices: 1\n",
      "__Devices\n",
      "Active CUDA Device: GPU 0\n",
      "Available devices  1\n",
      "Current cuda device  0\n",
      "USE CUDA=True\n"
     ]
    }
   ],
   "source": [
    "%reset -f \n",
    "%matplotlib inline\n",
    "\n",
    "\n",
    "import matplotlib.pyplot as plt\n",
    "import time\n",
    "from shutil import copyfile\n",
    "from os.path import isfile, join, abspath, exists, isdir, expanduser\n",
    "from os import listdir, makedirs, getcwd, remove\n",
    "from PIL import Image\n",
    "from mpl_toolkits.axes_grid1 import ImageGrid\n",
    "import pandas as pd\n",
    "import numpy as np\n",
    "import torch\n",
    "from torch.optim import lr_scheduler\n",
    "from torch.autograd import Variable\n",
    "from torch.utils.data import Dataset, DataLoader\n",
    "import torch.nn.functional as func\n",
    "import torchvision\n",
    "from torchvision import transforms, datasets, models\n",
    "import random \n",
    "\n",
    "\n",
    "import sys\n",
    "print('__Python VERSION:', sys.version)\n",
    "print('__pyTorch VERSION:', torch.__version__)\n",
    "print('__CUDA VERSION')\n",
    "from subprocess import call\n",
    "# call([\"nvcc\", \"--version\"]) does not work\n",
    "! nvcc --version\n",
    "print('__CUDNN VERSION:', torch.backends.cudnn.version())\n",
    "print('__Number CUDA Devices:', torch.cuda.device_count())\n",
    "print('__Devices')\n",
    "# call([\"nvidia-smi\", \"--format=csv\", \"--query-gpu=index,name,driver_version,memory.total,memory.used,memory.free\"])\n",
    "print('Active CUDA Device: GPU', torch.cuda.current_device())\n",
    "\n",
    "print ('Available devices ', torch.cuda.device_count())\n",
    "print ('Current cuda device ', torch.cuda.current_device())\n",
    "\n",
    "use_cuda = torch.cuda.is_available()\n",
    "# use_cuda = False\n",
    "\n",
    "print(\"USE CUDA=\" + str (use_cuda))\n",
    "FloatTensor = torch.cuda.FloatTensor if use_cuda else torch.FloatTensor\n",
    "LongTensor = torch.cuda.LongTensor if use_cuda else torch.LongTensor\n",
    "Tensor = FloatTensor\n",
    "\n",
    "manualSeed = None\n",
    "def fixSeed(seed):\n",
    "    random.seed(seed)\n",
    "    np.random.seed(seed)\n",
    "    torch.manual_seed(seed)\n",
    "    if use_cuda:\n",
    "        torch.cuda.manual_seed(seed)\n",
    "        torch.cuda.manual_seed_all(seed)\n",
    "\n",
    "\n",
    "if manualSeed is None:\n",
    "        manualSeed = 999\n",
    "fixSeed(manualSeed)\n",
    "\n"
   ]
  },
  {
   "cell_type": "code",
   "execution_count": 4,
   "metadata": {
    "colab": {
     "autoexec": {
      "startup": false,
      "wait_interval": 0
     },
     "base_uri": "https://localhost:8080/",
     "height": 520,
     "output_extras": [
      {
       "item_id": 1
      },
      {
       "item_id": 2
      }
     ]
    },
    "colab_type": "code",
    "executionInfo": {
     "elapsed": 870,
     "status": "error",
     "timestamp": 1521473824394,
     "user": {
      "displayName": "Shlomo Kashani",
      "photoUrl": "https://lh3.googleusercontent.com/a/default-user=s128",
      "userId": "110613709458758208639"
     },
     "user_tz": -120
    },
    "id": "0FfUc7TNzpSI",
    "outputId": "fc73b302-6037-4adc-e7af-cf9a49ac1007"
   },
   "outputs": [],
   "source": [
    "import os,sys,inspect\n",
    "currentdir = os.path.dirname(os.path.abspath(inspect.getfile(inspect.currentframe())))\n",
    "parentdir = os.path.dirname(currentdir)\n",
    "sys.path.insert(0,parentdir) \n",
    "\n",
    "from kmodels import *\n",
    "from kdataset import *"
   ]
  },
  {
   "cell_type": "markdown",
   "metadata": {
    "colab_type": "text",
    "id": "yHvMFEY0zpSJ"
   },
   "source": [
    "### Define Custom Dataset"
   ]
  },
  {
   "cell_type": "code",
   "execution_count": 5,
   "metadata": {
    "colab": {
     "autoexec": {
      "startup": false,
      "wait_interval": 0
     },
     "output_extras": [
      {},
      {}
     ]
    },
    "colab_type": "code",
    "id": "T2jcuWuYzpSL",
    "outputId": "2d841d05-260e-449f-e26d-5fdf69f18208"
   },
   "outputs": [
    {
     "name": "stdout",
     "output_type": "stream",
     "text": [
      "['Black-grass', 'Charlock', 'Cleavers', 'Common Chickweed', 'Common wheat', 'Fat Hen', 'Loose Silky-bent', 'Maize', 'Scentless Mayweed', 'Shepherds Purse', 'Small-flowered Cranesbill', 'Sugar beet']\n",
      "{'Black-grass': 0, 'Charlock': 1, 'Cleavers': 2, 'Common Chickweed': 3, 'Common wheat': 4, 'Fat Hen': 5, 'Loose Silky-bent': 6, 'Maize': 7, 'Scentless Mayweed': 8, 'Shepherds Purse': 9, 'Small-flowered Cranesbill': 10, 'Sugar beet': 11}\n",
      "{0: 'Black-grass', 1: 'Charlock', 2: 'Cleavers', 3: 'Common Chickweed', 4: 'Common wheat', 5: 'Fat Hen', 6: 'Loose Silky-bent', 7: 'Maize', 8: 'Scentless Mayweed', 9: 'Shepherds Purse', 10: 'Small-flowered Cranesbill', 11: 'Sugar beet'}\n"
     ]
    },
    {
     "data": {
      "text/html": [
       "<div>\n",
       "<style scoped>\n",
       "    .dataframe tbody tr th:only-of-type {\n",
       "        vertical-align: middle;\n",
       "    }\n",
       "\n",
       "    .dataframe tbody tr th {\n",
       "        vertical-align: top;\n",
       "    }\n",
       "\n",
       "    .dataframe thead th {\n",
       "        text-align: right;\n",
       "    }\n",
       "</style>\n",
       "<table border=\"1\" class=\"dataframe\">\n",
       "  <thead>\n",
       "    <tr style=\"text-align: right;\">\n",
       "      <th></th>\n",
       "      <th>file</th>\n",
       "      <th>category</th>\n",
       "      <th>category_id</th>\n",
       "    </tr>\n",
       "  </thead>\n",
       "  <tbody>\n",
       "    <tr>\n",
       "      <th>0</th>\n",
       "      <td>Black-grass/0050f38b3.png</td>\n",
       "      <td>Black-grass</td>\n",
       "      <td>0</td>\n",
       "    </tr>\n",
       "    <tr>\n",
       "      <th>1</th>\n",
       "      <td>Black-grass/0183fdf68.png</td>\n",
       "      <td>Black-grass</td>\n",
       "      <td>0</td>\n",
       "    </tr>\n",
       "    <tr>\n",
       "      <th>2</th>\n",
       "      <td>Black-grass/0260cffa8.png</td>\n",
       "      <td>Black-grass</td>\n",
       "      <td>0</td>\n",
       "    </tr>\n",
       "    <tr>\n",
       "      <th>3</th>\n",
       "      <td>Black-grass/05eedce4d.png</td>\n",
       "      <td>Black-grass</td>\n",
       "      <td>0</td>\n",
       "    </tr>\n",
       "    <tr>\n",
       "      <th>4</th>\n",
       "      <td>Black-grass/075d004bc.png</td>\n",
       "      <td>Black-grass</td>\n",
       "      <td>0</td>\n",
       "    </tr>\n",
       "  </tbody>\n",
       "</table>\n",
       "</div>"
      ],
      "text/plain": [
       "                        file     category  category_id\n",
       "0  Black-grass/0050f38b3.png  Black-grass            0\n",
       "1  Black-grass/0183fdf68.png  Black-grass            0\n",
       "2  Black-grass/0260cffa8.png  Black-grass            0\n",
       "3  Black-grass/05eedce4d.png  Black-grass            0\n",
       "4  Black-grass/075d004bc.png  Black-grass            0"
      ]
     },
     "execution_count": 5,
     "metadata": {},
     "output_type": "execute_result"
    }
   ],
   "source": [
    "import os\n",
    "dataset='seedlings' # bone , cat-dog   d:/db/data/cat-dog/train/ ISIC2017\n",
    "data_dir= 'd:/db/data/' +  dataset + '/train/'\n",
    "# data_dir_valid= 'd:/db/data/' +  dataset + '/valid/'\n",
    "\n",
    "classes, class_to_idx, num_to_class, df =GenericDataset.find_classes (data_dir )\n",
    "\n",
    "print (classes)\n",
    "print (class_to_idx)\n",
    "print (num_to_class)\n",
    "df.head(5)    "
   ]
  },
  {
   "cell_type": "code",
   "execution_count": 6,
   "metadata": {
    "colab": {
     "autoexec": {
      "startup": false,
      "wait_interval": 0
     },
     "output_extras": [
      {}
     ]
    },
    "colab_type": "code",
    "id": "kocQq6yLzpSN",
    "outputId": "8d66b443-5e8b-4c12-b38b-a0e4c3a5242c"
   },
   "outputs": [
    {
     "data": {
      "text/plain": [
       "12"
      ]
     },
     "execution_count": 6,
     "metadata": {},
     "output_type": "execute_result"
    }
   ],
   "source": [
    "len(classes)"
   ]
  },
  {
   "cell_type": "markdown",
   "metadata": {
    "colab_type": "text",
    "id": "aY-XSyxWzpSR"
   },
   "source": [
    "# Target distribution : Train set"
   ]
  },
  {
   "cell_type": "code",
   "execution_count": 7,
   "metadata": {
    "colab": {
     "autoexec": {
      "startup": false,
      "wait_interval": 0
     },
     "output_extras": [
      {},
      {}
     ]
    },
    "colab_type": "code",
    "id": "vNJsLwcEzpSR",
    "outputId": "beb4caeb-f462-46a9-94bd-55f47d2c89a1"
   },
   "outputs": [
    {
     "name": "stderr",
     "output_type": "stream",
     "text": [
      "c:\\Anaconda3\\lib\\site-packages\\seaborn\\categorical.py:1460: FutureWarning: remove_na is deprecated and is a private function. Do not use.\n",
      "  stat_data = remove_na(group_data)\n"
     ]
    },
    {
     "data": {
      "image/png": "[encoded data removed]",
      "text/plain": [
       "<matplotlib.figure.Figure at 0x24ec48cdd68>"
      ]
     },
     "metadata": {},
     "output_type": "display_data"
    }
   ],
   "source": [
    "import seaborn as sns\n",
    "sns.set(color_codes=True)\n",
    "pal = sns.color_palette()\n",
    "sns.set_style(\"whitegrid\")\n",
    "\n",
    "labels = df['category'].apply(lambda x: x.split(' '))\n",
    "from collections import Counter, defaultdict\n",
    "counts = defaultdict(int)\n",
    "for l in labels:\n",
    "    for l2 in l:\n",
    "        counts[l2] += 1\n",
    "\n",
    "counts_df = pd.DataFrame.from_dict(counts, orient='index')\n",
    "counts_df.columns = ['count']\n",
    "counts_df.sort_values('count', ascending=False, inplace=True)\n",
    "\n",
    "fig, ax = plt.subplots()\n",
    "ax = sns.barplot(x=counts_df.index, y=counts_df['count'], ax=ax)\n",
    "fig.set_size_inches(20,8)\n",
    "ax.set_xticklabels(ax.xaxis.get_majorticklabels(), rotation=-45);"
   ]
  },
  {
   "cell_type": "markdown",
   "metadata": {
    "colab_type": "text",
    "id": "8pPClZv8zpSW"
   },
   "source": [
    "# Augmentation "
   ]
  },
  {
   "cell_type": "code",
   "execution_count": 8,
   "metadata": {
    "colab": {
     "autoexec": {
      "startup": false,
      "wait_interval": 0
     }
    },
    "colab_type": "code",
    "collapsed": true,
    "id": "ij6OFiLBzpSW"
   },
   "outputs": [],
   "source": [
    "from __future__ import absolute_import\n",
    "\n",
    "from torchvision.transforms import *\n",
    "\n",
    "from PIL import Image, ImageDraw\n",
    "import numpy as np\n",
    "import torch\n",
    "\n",
    "import torchvision\n",
    "import random\n",
    "from PIL import Image, ImageOps\n",
    "import numpy as np\n",
    "import numbers\n",
    "import math\n",
    "import torch\n",
    "import torch\n",
    "import random\n",
    "import PIL.ImageEnhance as ie\n",
    "import PIL.Image as im\n",
    "\n",
    "# adapted from https://github.com/kuangliu/pytorch-retinanet/blob/master/transform.py\n",
    "# https://github.com/mratsim/Amazon-Forest-Computer-Vision/blob/master/src/p_data_augmentation.py\n",
    "\n",
    "normalize_img = torchvision.transforms.Normalize(mean=[0.485, 0.456, 0.406],\n",
    "                                     std=[0.229, 0.224, 0.225])\n",
    "\n",
    "from ktransforms import *"
   ]
  },
  {
   "cell_type": "markdown",
   "metadata": {
    "colab_type": "text",
    "id": "RmEroGFfzpSY"
   },
   "source": [
    "## Setup transforms, datasets, and dataloaders\n",
    "\n",
    "- Data loaders spit out data from a dataset in batches. This is what you actually feed the neural network during training."
   ]
  },
  {
   "cell_type": "code",
   "execution_count": 9,
   "metadata": {
    "colab": {
     "autoexec": {
      "startup": false,
      "wait_interval": 0
     },
     "output_extras": [
      {},
      {},
      {}
     ]
    },
    "colab_type": "code",
    "id": "38MhTpO4zpSY",
    "outputId": "d94a5935-288a-4bdd-d305-aacb4048b53e"
   },
   "outputs": [
    {
     "name": "stdout",
     "output_type": "stream",
     "text": [
      "{'train': 4038, 'valid': 712}\n",
      "6     544\n",
      "3     512\n",
      "8     441\n",
      "10    427\n",
      "5     406\n",
      "11    336\n",
      "1     333\n",
      "2     249\n",
      "0     220\n",
      "9     195\n",
      "4     195\n",
      "7     180\n",
      "Name: category_id, dtype: int64\n"
     ]
    },
    {
     "data": {
      "text/plain": [
       "<matplotlib.axes._subplots.AxesSubplot at 0x24ec565b898>"
      ]
     },
     "execution_count": 9,
     "metadata": {},
     "output_type": "execute_result"
    },
    {
     "data": {
      "image/png": "[encoded data removed]",
      "text/plain": [
       "<matplotlib.figure.Figure at 0x24ec565b358>"
      ]
     },
     "metadata": {},
     "output_type": "display_data"
    }
   ],
   "source": [
    "image_size = 224\n",
    "\n",
    "normalize_img = torchvision.transforms.Normalize(mean=[0.485, 0.456, 0.406],\n",
    "                                     std=[0.229, 0.224, 0.225])\n",
    "\n",
    "\n",
    "train_trans = transforms.Compose([\n",
    "    transforms.RandomSizedCrop(image_size),\n",
    "    PowerPIL(),\n",
    "    transforms.ToTensor(),\n",
    "#     normalize_img,\n",
    "    RandomErasing()\n",
    "])\n",
    "\n",
    "## Normalization only for validation and test\n",
    "valid_trans = transforms.Compose([\n",
    "    transforms.Scale(256),\n",
    "    transforms.CenterCrop(image_size),\n",
    "    transforms.ToTensor(),\n",
    "#     normalize_img\n",
    "])\n",
    "\n",
    "batch_size = 8\n",
    "train_data = df.sample(frac=0.85)\n",
    "valid_data = df[~df['file'].isin(train_data['file'])]\n",
    "\n",
    "train_set = GenericDataset(train_data, data_dir, transform = train_trans)\n",
    "valid_set = GenericDataset(valid_data, data_dir, transform = valid_trans)\n",
    "        \n",
    "\n",
    "t_loader = DataLoader(train_set, batch_size=batch_size, shuffle=True, num_workers=0)\n",
    "v_loader = DataLoader(valid_set, batch_size=batch_size, shuffle=True, num_workers=0)\n",
    "# test_loader  = DataLoader(test_set, batch_size=batch_size, shuffle=False, num_workers=4)\n",
    "\n",
    "dataset_sizes = {\n",
    "    'train': len(t_loader.dataset), \n",
    "    'valid': len(v_loader.dataset)\n",
    "}\n",
    "\n",
    "\n",
    "print (dataset_sizes)\n",
    "print (train_data[\"category_id\"].value_counts())\n",
    "\n",
    "train_data['category_id'].value_counts().plot(kind='bar')"
   ]
  },
  {
   "cell_type": "code",
   "execution_count": 10,
   "metadata": {
    "colab": {
     "autoexec": {
      "startup": false,
      "wait_interval": 0
     },
     "output_extras": [
      {},
      {}
     ]
    },
    "colab_type": "code",
    "id": "noA4FHS7zpSb",
    "outputId": "a514a7ec-d0ad-4be8-b43b-8baca8882e3b"
   },
   "outputs": [
    {
     "data": {
      "text/plain": [
       "<matplotlib.axes._subplots.AxesSubplot at 0x24ec5650898>"
      ]
     },
     "execution_count": 10,
     "metadata": {},
     "output_type": "execute_result"
    },
    {
     "data": {
      "image/png": "[encoded data removed]",
      "text/plain": [
       "<matplotlib.figure.Figure at 0x24eb6d69b70>"
      ]
     },
     "metadata": {},
     "output_type": "display_data"
    }
   ],
   "source": [
    "valid_data['category_id'].value_counts().plot(kind='bar')"
   ]
  },
  {
   "cell_type": "markdown",
   "metadata": {
    "colab_type": "text",
    "id": "f53b3rbpzpSg"
   },
   "source": [
    "### Test the DataLoader Class"
   ]
  },
  {
   "cell_type": "code",
   "execution_count": 11,
   "metadata": {
    "colab": {
     "autoexec": {
      "startup": false,
      "wait_interval": 0
     },
     "output_extras": [
      {},
      {}
     ]
    },
    "colab_type": "code",
    "id": "o6o2BlVMzpSh",
    "outputId": "4e1095e8-b70b-407f-ffd3-3425f6bfa919"
   },
   "outputs": [
    {
     "name": "stdout",
     "output_type": "stream",
     "text": [
      "i=0: \n",
      "i=1: \n",
      "i=2: \n",
      "i=3: \n"
     ]
    },
    {
     "data": {
      "image/png": "[encoded data removed]",
      "text/plain": [
       "<matplotlib.figure.Figure at 0x24ec51b11d0>"
      ]
     },
     "metadata": {},
     "output_type": "display_data"
    }
   ],
   "source": [
    "imagesToShow=4\n",
    "\n",
    "def flaotTensorToImage(img, mean=0, std=1):\n",
    "        \"\"\"convert a tensor to an image\"\"\"\n",
    "        img = np.transpose(img.numpy(), (1, 2, 0))\n",
    "        img = (img*std+ mean)*255\n",
    "        img = img.astype(np.uint8)    \n",
    "        return img    \n",
    "\n",
    "if __name__ == '__main__':  \n",
    "    for i, data in enumerate(t_loader, 0):\n",
    "        print('i=%d: '%(i))            \n",
    "        images, labels = data            \n",
    "        num = len(images)\n",
    "\n",
    "        ax = plt.subplot(1, imagesToShow, i + 1)\n",
    "        plt.tight_layout()\n",
    "        ax.set_title('Sample #{}'.format(i))\n",
    "        ax.axis('off')\n",
    "\n",
    "        for n in range(num):\n",
    "            image=images[n]\n",
    "            label=labels[n]\n",
    "            plt.imshow (flaotTensorToImage(image))\n",
    "\n",
    "        if i==imagesToShow-1:\n",
    "            break"
   ]
  },
  {
   "cell_type": "markdown",
   "metadata": {
    "colab_type": "text",
    "id": "OqiMkF2nzpSk"
   },
   "source": [
    "## Define the model\n",
    "- A simple CNN with great performance (95% accuracy) \n",
    "- In PyTorch, a model is defined by a subclass of nn.Module. It has two methods:\n",
    "\n",
    "`__init__:` constructor. Create layers here. Note that we don't define the connections between layers in this function.\n",
    "\n",
    "`forward(x):` forward function. Receives an input variable x. Returns a output variable. Note that we actually connect the layers here dynamically."
   ]
  },
  {
   "cell_type": "code",
   "execution_count": 12,
   "metadata": {
    "colab": {
     "autoexec": {
      "startup": false,
      "wait_interval": 0
     },
     "output_extras": [
      {}
     ]
    },
    "colab_type": "code",
    "id": "wrb3DsUazpSl",
    "outputId": "aa46ae96-dea2-4531-a919-223526ae5a2c"
   },
   "outputs": [
    {
     "name": "stdout",
     "output_type": "stream",
     "text": [
      "SimpleNet(\n",
      "  (avgpool): AdaptiveAvgPool2d(output_size=1)\n",
      "  (cnn1): ConvCNN(\n",
      "    (math): Sequential(\n",
      "      (0): Conv2d(3, 64, kernel_size=(7, 7), stride=(1, 1), padding=(2, 2))\n",
      "      (1): BatchNorm2d(64, eps=1e-05, momentum=0.1, affine=True)\n",
      "      (2): LeakyReLU(0.01)\n",
      "      (3): MaxPool2d(kernel_size=(4, 4), stride=(4, 4), dilation=(1, 1), ceil_mode=False)\n",
      "    )\n",
      "    (avgpool): AvgPool2d(kernel_size=4, stride=4, padding=0, ceil_mode=False, count_include_pad=True)\n",
      "  )\n",
      "  (cnn2): ConvCNN(\n",
      "    (math): Sequential(\n",
      "      (0): Conv2d(64, 64, kernel_size=(5, 5), stride=(1, 1), padding=(2, 2))\n",
      "      (1): BatchNorm2d(64, eps=1e-05, momentum=0.1, affine=True)\n",
      "      (2): LeakyReLU(0.01)\n",
      "      (3): MaxPool2d(kernel_size=(2, 2), stride=(2, 2), dilation=(1, 1), ceil_mode=False)\n",
      "    )\n",
      "    (avgpool): AvgPool2d(kernel_size=2, stride=2, padding=0, ceil_mode=False, count_include_pad=True)\n",
      "  )\n",
      "  (cnn3): ConvCNN(\n",
      "    (math): Sequential(\n",
      "      (0): Conv2d(64, 512, kernel_size=(5, 5), stride=(1, 1), padding=(2, 2))\n",
      "      (1): BatchNorm2d(512, eps=1e-05, momentum=0.1, affine=True)\n",
      "      (2): LeakyReLU(0.01)\n",
      "      (3): MaxPool2d(kernel_size=(2, 2), stride=(2, 2), dilation=(1, 1), ceil_mode=False)\n",
      "    )\n",
      "    (avgpool): AvgPool2d(kernel_size=2, stride=2, padding=0, ceil_mode=False, count_include_pad=True)\n",
      "  )\n",
      "  (res1): ConvRes(\n",
      "    (math): Sequential(\n",
      "      (0): BatchNorm2d(512, eps=1e-05, momentum=0.1, affine=True)\n",
      "      (1): Dropout(p=0.3)\n",
      "      (2): Conv2d(512, 64, kernel_size=(2, 2), stride=(1, 1), padding=(2, 2))\n",
      "      (3): PReLU(num_parameters=1)\n",
      "    )\n",
      "  )\n",
      "  (features): Sequential(\n",
      "    (0): ConvCNN(\n",
      "      (math): Sequential(\n",
      "        (0): Conv2d(3, 64, kernel_size=(7, 7), stride=(1, 1), padding=(2, 2))\n",
      "        (1): BatchNorm2d(64, eps=1e-05, momentum=0.1, affine=True)\n",
      "        (2): LeakyReLU(0.01)\n",
      "        (3): MaxPool2d(kernel_size=(4, 4), stride=(4, 4), dilation=(1, 1), ceil_mode=False)\n",
      "      )\n",
      "      (avgpool): AvgPool2d(kernel_size=4, stride=4, padding=0, ceil_mode=False, count_include_pad=True)\n",
      "    )\n",
      "    (1): Dropout(p=0.6)\n",
      "    (2): ConvCNN(\n",
      "      (math): Sequential(\n",
      "        (0): Conv2d(64, 64, kernel_size=(5, 5), stride=(1, 1), padding=(2, 2))\n",
      "        (1): BatchNorm2d(64, eps=1e-05, momentum=0.1, affine=True)\n",
      "        (2): LeakyReLU(0.01)\n",
      "        (3): MaxPool2d(kernel_size=(2, 2), stride=(2, 2), dilation=(1, 1), ceil_mode=False)\n",
      "      )\n",
      "      (avgpool): AvgPool2d(kernel_size=2, stride=2, padding=0, ceil_mode=False, count_include_pad=True)\n",
      "    )\n",
      "    (3): ConvCNN(\n",
      "      (math): Sequential(\n",
      "        (0): Conv2d(64, 512, kernel_size=(5, 5), stride=(1, 1), padding=(2, 2))\n",
      "        (1): BatchNorm2d(512, eps=1e-05, momentum=0.1, affine=True)\n",
      "        (2): LeakyReLU(0.01)\n",
      "        (3): MaxPool2d(kernel_size=(2, 2), stride=(2, 2), dilation=(1, 1), ceil_mode=False)\n",
      "      )\n",
      "      (avgpool): AvgPool2d(kernel_size=2, stride=2, padding=0, ceil_mode=False, count_include_pad=True)\n",
      "    )\n",
      "    (4): ConvRes(\n",
      "      (math): Sequential(\n",
      "        (0): BatchNorm2d(512, eps=1e-05, momentum=0.1, affine=True)\n",
      "        (1): Dropout(p=0.3)\n",
      "        (2): Conv2d(512, 64, kernel_size=(2, 2), stride=(1, 1), padding=(2, 2))\n",
      "        (3): PReLU(num_parameters=1)\n",
      "      )\n",
      "    )\n",
      "  )\n",
      "  (classifier): Sequential(\n",
      "    (0): Linear(in_features=2304, out_features=12, bias=True)\n",
      "  )\n",
      ")\n"
     ]
    }
   ],
   "source": [
    "import torch\n",
    "import torch.nn as nn\n",
    "import torch.nn.functional as F\n",
    "import torch.optim as optim\n",
    "from torchvision import datasets, transforms\n",
    "from torch.autograd import Variable\n",
    "import math \n",
    "import torch\n",
    "import torch.nn as nn\n",
    "import torch.nn.functional as F\n",
    "from torch.autograd import Variable\n",
    "from collections import OrderedDict\n",
    "from torch.nn import init\n",
    "import numpy as np\n",
    "\n",
    "model = SimpleNet(len(classes), 3)\n",
    "# model =vggnetXX_generic(len(classes), 3)\n",
    "# model =lenetXX_generic(len(classes), 3)\n",
    "# model =resnetxtXX_generic(len(classes), 3)\n",
    "# model =wrnXX_generic(len(classes), 3)\n",
    "# model = senetXX_generic(len(classes), 3, 32)\n",
    "\n",
    "\n",
    "criterion = torch.nn.CrossEntropyLoss()\n",
    "lr= 0.00005 * 2 * 2\n",
    "optimizer = torch.optim.Adam(model.parameters(),lr=lr)\n",
    "\n",
    "if use_cuda:\n",
    "    model = model.cuda()\n",
    "# model = senetXX_generic(len(classes), 3, 32)\n",
    "model_name = (type(model).__name__) # remember the real name\n",
    "# model = torch.nn.DataParallel(model, device_ids=list(range(4)))\n",
    "print(model)"
   ]
  },
  {
   "cell_type": "markdown",
   "metadata": {
    "colab_type": "text",
    "id": "v4YEou5EzpSq"
   },
   "source": [
    "# Metrics and Tensorboard"
   ]
  },
  {
   "cell_type": "code",
   "execution_count": 13,
   "metadata": {
    "colab": {
     "autoexec": {
      "startup": false,
      "wait_interval": 0
     },
     "output_extras": [
      {}
     ]
    },
    "colab_type": "code",
    "id": "KZiIF6zYzpSs",
    "outputId": "25793eed-e107-433b-e174-39e8ce5308c3"
   },
   "outputs": [
    {
     "data": {
      "text/plain": [
       "'0:16:40.00'"
      ]
     },
     "execution_count": 13,
     "metadata": {},
     "output_type": "execute_result"
    }
   ],
   "source": [
    "import datetime \n",
    "\n",
    "from utils import *\n",
    "\n",
    "NOW_TIME = datetime.datetime.now()\n",
    "NOW_TIME =NOW_TIME.strftime(\"%Y-%m-%d %H:%M\")\n",
    "\n",
    "use_tensorboard=False\n",
    "\n",
    "hms_string(1000)"
   ]
  },
  {
   "cell_type": "markdown",
   "metadata": {
    "colab_type": "text",
    "id": "tZ3OlGCxzpSw"
   },
   "source": [
    "### Training"
   ]
  },
  {
   "cell_type": "code",
   "execution_count": 14,
   "metadata": {
    "colab": {
     "autoexec": {
      "startup": false,
      "wait_interval": 0
     },
     "output_extras": [
      {}
     ]
    },
    "colab_type": "code",
    "id": "HDwDNmfUzpSz",
    "outputId": "2921aeb9-53a5-4fbe-ff89-9ac0d19923e3"
   },
   "outputs": [
    {
     "name": "stderr",
     "output_type": "stream",
     "text": [
      "c:\\Anaconda3\\lib\\site-packages\\sklearn\\cross_validation.py:41: DeprecationWarning: This module was deprecated in version 0.18 in favor of the model_selection module into which all the refactored classes and functions are moved. Also note that the interface of the new CV iterators are different from that of this module. This module will be removed in 0.20.\n",
      "  \"This module will be removed in 0.20.\", DeprecationWarning)\n"
     ]
    }
   ],
   "source": [
    "from tqdm import tqdm \n",
    "from sklearn import metrics\n",
    "import torch\n",
    "import numpy as np\n",
    "from sklearn import cross_validation\n",
    "from sklearn import metrics\n",
    "from sklearn.metrics import roc_auc_score, log_loss, roc_auc_score, roc_curve, auc\n",
    "\n",
    "def train(train_loader, model, epoch, optimizer):\n",
    "    if use_cuda:\n",
    "        model.cuda()\n",
    "        criterion.cuda()\n",
    "\n",
    "    batch_time = AverageMeter()\n",
    "    data_time = AverageMeter()\n",
    "    losses = AverageMeter()\n",
    "    acc = AverageMeter()\n",
    "   \n",
    "    # switch to train mode\n",
    "    model.train()\n",
    "\n",
    "    end = time.time()\n",
    "    for batch_idx, (images, target) in enumerate(train_loader): \n",
    "        correct = 0\n",
    "        # measure data loading time\n",
    "        data_time.update(time.time() - end)\n",
    "\n",
    "        if use_cuda:\n",
    "            images, target = images.cuda(), target.cuda()\n",
    "            images, target = Variable(images), Variable(target)\n",
    "        # compute y_pred\n",
    "        y_pred = model(images)\n",
    "        loss = criterion(y_pred, target)\n",
    "\n",
    "        # measure accuracy and record loss\n",
    "        prec1, prec1 = accuracy2(y_pred.data, target.data, topk=(1, 1))\n",
    "        losses.update(loss.data[0], images.size(0))\n",
    "        acc.update(prec1[0], images.size(0))\n",
    "        \n",
    "        pred = y_pred.data.max(1)[1] # get the index of the max log-probability\n",
    "        correct += pred.eq(target.data).cpu().sum()\n",
    "        accuracy = 100. * correct / len(images)\n",
    "        \n",
    "        # compute gradient and do SGD step\n",
    "        optimizer.zero_grad()\n",
    "        loss.backward()\n",
    "        optimizer.step()\n",
    "\n",
    "        # measure elapsed time\n",
    "        batch_time.update(time.time() - end)\n",
    "        end = time.time()\n",
    "\n",
    "        if batch_idx % 200  == 0:\n",
    "            print('TRAIN: LOSS-->{loss.val:.4f} ({loss.avg:.4f})\\t' 'ACC-->{acc.val:.3f}% ({acc.avg:.3f}%)'.format(loss=losses, acc=acc))\n",
    "            if use_tensorboard:\n",
    "                exp.add_scalar_value('tr_epoch_loss', losses.avg, step=epoch)\n",
    "                exp.add_scalar_value('tr_epoch_acc', acc.avg, step=epoch)\n",
    "                \n",
    "            print('TRAIN: {} [{}/{} ({:.0f}%)]\\tLoss: {:.6f}, Accuracy: {}/{} ({:.3f}%)'.format(\n",
    "                epoch, batch_idx * len(images), len(train_loader.dataset),\n",
    "                100. * batch_idx / len(train_loader), loss.data[0],\n",
    "                correct, len(images),\n",
    "                accuracy))            \n",
    "    \n",
    "\n",
    "    return float('{loss.avg:.4f}'.format(loss=losses)), float('{acc.avg:.4f}'.format(acc=acc))\n",
    "\n",
    "def validate(val_loader, model, epoch):\n",
    "    if use_cuda:\n",
    "        model.cuda()\n",
    "        criterion.cuda()\n",
    "\n",
    "    batch_time = AverageMeter()\n",
    "    losses = AverageMeter()\n",
    "    acc = AverageMeter()\n",
    "\n",
    "    # switch to evaluate mode\n",
    "    model.eval()\n",
    "\n",
    "    end = time.time()\n",
    "    for i, (images, labels) in enumerate(val_loader):\n",
    "\n",
    "        if use_cuda:\n",
    "            images, labels = images.cuda(), labels.cuda()\n",
    "            images, labels = Variable(images, volatile=True), Variable(labels)\n",
    "\n",
    "        # compute y_pred\n",
    "        y_pred = model(images)\n",
    "        loss = criterion(y_pred, labels)\n",
    "\n",
    "        # measure accuracy and record loss\n",
    "        prec1, temp_var = accuracy2(y_pred.data, labels.data, topk=(1, 1))\n",
    "        losses.update(loss.data[0], images.size(0))\n",
    "        acc.update(prec1[0], images.size(0))\n",
    "\n",
    "        # measure elapsed time\n",
    "        batch_time.update(time.time() - end)\n",
    "        end = time.time()\n",
    "\n",
    "        if i % 200== 0:\n",
    "            print('VAL:   LOSS--> {loss.val:.4f} ({loss.avg:.4f})\\t''ACC-->{acc.val:.3f} ({acc.avg:.3f})'.format(loss=losses, acc=acc))\n",
    "\n",
    "        if i % 50 == 0:\n",
    "            if use_tensorboard:\n",
    "                exp.add_scalar_value('val_epoch_loss', losses.avg, step=epoch)\n",
    "                exp.add_scalar_value('val_epoch_acc', acc.avg, step=epoch)\n",
    "\n",
    "    print(' * Accuracy {acc.avg:.4f}'.format(acc=acc))\n",
    "    return float('{loss.avg:.6f}'.format(loss=losses)), float('{acc.avg:.6f}'.format(acc=acc))\n",
    "\n",
    "\n",
    "def testImageLoader(image_name):\n",
    "    \"\"\"load image, returns cuda tensor\"\"\"\n",
    "#     image = Image.open(image_name)\n",
    "    image = Image.open(image_name).convert('RGB')\n",
    "    image = test_trans(image)\n",
    "#     image = Variable(image, requires_grad=True)\n",
    "    image = image.unsqueeze(0)  \n",
    "    if use_cuda:\n",
    "#         print (\"cuda\")\n",
    "        image.cuda()         \n",
    "    return image  \n",
    "\n",
    "def testModel(test_dir, local_model):    \n",
    "    if use_cuda:\n",
    "        local_model.cuda()\n",
    "    \n",
    "    local_model.eval()\n",
    "    \n",
    "    columns = ['file', 'species']\n",
    "    df_pred = pd.DataFrame(data=np.zeros((0, len(columns))), columns=columns)\n",
    "#     df_pred.species.astype(int)\n",
    "    for index, row in (sample_submission.iterrows()):\n",
    "#         for file in os.listdir(test_dir):            \n",
    "        currImage=os.path.join(test_dir, row['file'])\n",
    "        if os.path.isfile(currImage):\n",
    "            X_tensor_test=testImageLoader (currImage)            \n",
    "#             print (type(X_tensor_test))\n",
    "            if use_cuda:\n",
    "                X_tensor_test = Variable(X_tensor_test.cuda()) \n",
    "            else:\n",
    "                X_tensor_test = Variable(X_tensor_test)        \n",
    "            \n",
    "            # get the index of the max log-probability\n",
    "            predicted_val = (local_model(X_tensor_test)).data.max(1)[1] # get the index of the max log-probability\n",
    "#             predicted_val = predicted_val.data.max(1, keepdim=True)[1]\n",
    "            p_test = (predicted_val.cpu().numpy().item())\n",
    "            df_pred = df_pred.append({'file': row['file'], 'species': num_to_class[int(p_test)]}, ignore_index=True)             \n",
    "    \n",
    "    return df_pred"
   ]
  },
  {
   "cell_type": "code",
   "execution_count": 15,
   "metadata": {
    "colab": {
     "autoexec": {
      "startup": false,
      "wait_interval": 0
     }
    },
    "colab_type": "code",
    "collapsed": true,
    "id": "cXVmtM8WzpS3"
   },
   "outputs": [],
   "source": [
    "test_trans = valid_trans\n",
    "test_data_dir = 'd:/db/data/seedlings/test/'"
   ]
  },
  {
   "cell_type": "markdown",
   "metadata": {
    "colab_type": "text",
    "id": "rTtKoAUczpS6"
   },
   "source": [
    "### Train the model"
   ]
  },
  {
   "cell_type": "code",
   "execution_count": 0,
   "metadata": {
    "colab": {
     "autoexec": {
      "startup": false,
      "wait_interval": 0
     },
     "output_extras": [
      {},
      {},
      {},
      {},
      {},
      {},
      {},
      {},
      {},
      {},
      {},
      {},
      {},
      {},
      {},
      {},
      {},
      {},
      {},
      {},
      {},
      {},
      {},
      {},
      {},
      {},
      {},
      {},
      {},
      {},
      {},
      {},
      {},
      {},
      {},
      {},
      {},
      {},
      {},
      {},
      {},
      {},
      {},
      {},
      {},
      {},
      {},
      {},
      {},
      {},
      {},
      {},
      {},
      {},
      {},
      {},
      {},
      {},
      {},
      {},
      {},
      {},
      {},
      {},
      {},
      {},
      {},
      {},
      {},
      {},
      {},
      {},
      {},
      {},
      {},
      {},
      {},
      {},
      {},
      {},
      {},
      {},
      {},
      {},
      {},
      {},
      {},
      {},
      {},
      {},
      {},
      {},
      {},
      {},
      {},
      {},
      {},
      {},
      {},
      {},
      {},
      {},
      {},
      {},
      {},
      {},
      {},
      {},
      {},
      {},
      {},
      {},
      {},
      {},
      {},
      {},
      {},
      {},
      {},
      {},
      {},
      {},
      {},
      {},
      {},
      {},
      {},
      {},
      {},
      {},
      {},
      {},
      {},
      {},
      {},
      {},
      {},
      {},
      {},
      {},
      {},
      {},
      {},
      {},
      {},
      {},
      {},
      {},
      {},
      {},
      {},
      {},
      {},
      {},
      {},
      {},
      {},
      {},
      {},
      {},
      {},
      {},
      {},
      {},
      {},
      {},
      {},
      {},
      {},
      {},
      {},
      {},
      {},
      {},
      {},
      {},
      {},
      {},
      {},
      {},
      {},
      {},
      {},
      {},
      {},
      {},
      {},
      {},
      {},
      {},
      {},
      {},
      {},
      {},
      {},
      {},
      {},
      {},
      {},
      {},
      {},
      {},
      {},
      {},
      {},
      {},
      {},
      {},
      {},
      {},
      {},
      {},
      {},
      {},
      {},
      {},
      {},
      {},
      {},
      {},
      {},
      {},
      {},
      {},
      {},
      {},
      {},
      {},
      {},
      {},
      {},
      {},
      {},
      {},
      {},
      {},
      {},
      {},
      {},
      {},
      {},
      {},
      {},
      {},
      {},
      {},
      {},
      {},
      {},
      {},
      {},
      {},
      {},
      {},
      {},
      {},
      {},
      {},
      {},
      {},
      {},
      {},
      {},
      {},
      {},
      {},
      {},
      {},
      {},
      {},
      {},
      {},
      {},
      {},
      {},
      {},
      {},
      {},
      {},
      {},
      {},
      {},
      {},
      {},
      {},
      {},
      {},
      {},
      {},
      {},
      {},
      {},
      {},
      {},
      {},
      {},
      {},
      {},
      {},
      {},
      {},
      {}
     ]
    },
    "colab_type": "code",
    "id": "tYY0L_BkzpS7",
    "outputId": "be6367a0-8bb0-485f-94c8-4ac8136bebe2"
   },
   "outputs": [
    {
     "name": "stdout",
     "output_type": "stream",
     "text": [
      "Random Seed: 999\n",
      "python version : 3.6.2 |Anaconda custom (64-bit)| (default, Sep 19 2017, 08:03:39) [MSC v.1900 64 bit (AMD64)]\n",
      "torch  version : 0.3.1.post2\n",
      "cudnn  version : 7003\n",
      "=> Final model name 'SimpleNet'\n",
      "MODEL: SimpleNet\n",
      "dataset: seedlings\n",
      "    Total params: 1.09M\n",
      "MODEL: SimpleNet\n"
     ]
    },
    {
     "name": "stderr",
     "output_type": "stream",
     "text": [
      "\r",
      "  0%|                                                                                                                                                           | 0/150 [00:00<?, ?it/s]"
     ]
    },
    {
     "name": "stdout",
     "output_type": "stream",
     "text": [
      "TRAIN: LOSS-->2.4626 (2.4626)\tACC-->12.500% (12.500%)\n",
      "TRAIN: 0 [0/4038 (0%)]\tLoss: 2.462649, Accuracy: 1/8 (12.500%)\n",
      "TRAIN: LOSS-->2.2186 (2.2714)\tACC-->0.000% (20.585%)\n",
      "TRAIN: 0 [1600/4038 (40%)]\tLoss: 2.218592, Accuracy: 0/8 (0.000%)\n",
      "TRAIN: LOSS-->1.8370 (2.1620)\tACC-->37.500% (25.031%)\n",
      "TRAIN: 0 [3200/4038 (79%)]\tLoss: 1.836956, Accuracy: 3/8 (37.500%)\n",
      "VAL:   LOSS--> 1.7921 (1.7921)\tACC-->37.500 (37.500)\n",
      " * Accuracy 36.0955\n"
     ]
    },
    {
     "name": "stderr",
     "output_type": "stream",
     "text": [
      "\r",
      "  1%|▉                                                                                                                                                | 1/150 [00:57<2:23:55, 57.95s/it]"
     ]
    },
    {
     "name": "stdout",
     "output_type": "stream",
     "text": [
      "TRAIN: LOSS-->1.5502 (1.5502)\tACC-->50.000% (50.000%)\n",
      "TRAIN: 1 [0/4038 (0%)]\tLoss: 1.550174, Accuracy: 4/8 (50.000%)\n",
      "TRAIN: LOSS-->1.6645 (1.9592)\tACC-->50.000% (32.214%)\n",
      "TRAIN: 1 [1600/4038 (40%)]\tLoss: 1.664478, Accuracy: 4/8 (50.000%)\n",
      "TRAIN: LOSS-->1.8693 (1.9161)\tACC-->25.000% (34.352%)\n",
      "TRAIN: 1 [3200/4038 (79%)]\tLoss: 1.869259, Accuracy: 2/8 (25.000%)\n",
      "VAL:   LOSS--> 1.8869 (1.8869)\tACC-->25.000 (25.000)\n",
      " * Accuracy 45.9270\n"
     ]
    },
    {
     "name": "stderr",
     "output_type": "stream",
     "text": [
      "\r",
      "  1%|█▉                                                                                                                                               | 2/150 [01:54<2:21:22, 57.31s/it]"
     ]
    },
    {
     "name": "stdout",
     "output_type": "stream",
     "text": [
      "TRAIN: LOSS-->2.4967 (2.4967)\tACC-->0.000% (0.000%)\n",
      "TRAIN: 2 [0/4038 (0%)]\tLoss: 2.496723, Accuracy: 0/8 (0.000%)\n",
      "TRAIN: LOSS-->1.1944 (1.8436)\tACC-->62.500% (36.256%)\n",
      "TRAIN: 2 [1600/4038 (40%)]\tLoss: 1.194419, Accuracy: 5/8 (62.500%)\n",
      "TRAIN: LOSS-->1.9125 (1.8175)\tACC-->50.000% (37.313%)\n",
      "TRAIN: 2 [3200/4038 (79%)]\tLoss: 1.912515, Accuracy: 4/8 (50.000%)\n",
      "VAL:   LOSS--> 1.6052 (1.6052)\tACC-->37.500 (37.500)\n",
      " * Accuracy 54.4944\n"
     ]
    },
    {
     "name": "stderr",
     "output_type": "stream",
     "text": [
      "\r",
      "  2%|██▉                                                                                                                                              | 3/150 [02:50<2:19:18, 56.86s/it]"
     ]
    },
    {
     "name": "stdout",
     "output_type": "stream",
     "text": [
      "TRAIN: LOSS-->1.9679 (1.9679)\tACC-->25.000% (25.000%)\n",
      "TRAIN: 3 [0/4038 (0%)]\tLoss: 1.967861, Accuracy: 2/8 (25.000%)\n",
      "TRAIN: LOSS-->1.4986 (1.7065)\tACC-->25.000% (41.231%)\n",
      "TRAIN: 3 [1600/4038 (40%)]\tLoss: 1.498605, Accuracy: 2/8 (25.000%)\n",
      "TRAIN: LOSS-->1.5248 (1.7141)\tACC-->37.500% (41.022%)\n",
      "TRAIN: 3 [3200/4038 (79%)]\tLoss: 1.524840, Accuracy: 3/8 (37.500%)\n",
      "VAL:   LOSS--> 0.7172 (0.7172)\tACC-->75.000 (75.000)\n",
      " * Accuracy 65.3090\n"
     ]
    },
    {
     "name": "stderr",
     "output_type": "stream",
     "text": [
      "\r",
      "  3%|███▊                                                                                                                                             | 4/150 [03:47<2:18:07, 56.76s/it]"
     ]
    },
    {
     "name": "stdout",
     "output_type": "stream",
     "text": [
      "TRAIN: LOSS-->1.5049 (1.5049)\tACC-->50.000% (50.000%)\n",
      "TRAIN: 4 [0/4038 (0%)]\tLoss: 1.504925, Accuracy: 4/8 (50.000%)\n",
      "TRAIN: LOSS-->1.5156 (1.7165)\tACC-->37.500% (41.480%)\n",
      "TRAIN: 4 [1600/4038 (40%)]\tLoss: 1.515593, Accuracy: 3/8 (37.500%)\n",
      "TRAIN: LOSS-->1.3403 (1.6636)\tACC-->62.500% (42.893%)\n",
      "TRAIN: 4 [3200/4038 (79%)]\tLoss: 1.340322, Accuracy: 5/8 (62.500%)\n",
      "VAL:   LOSS--> 1.5526 (1.5526)\tACC-->50.000 (50.000)\n",
      " * Accuracy 59.4101\n"
     ]
    },
    {
     "name": "stderr",
     "output_type": "stream",
     "text": [
      "\r",
      "  3%|████▊                                                                                                                                            | 5/150 [04:43<2:17:12, 56.78s/it]"
     ]
    },
    {
     "name": "stdout",
     "output_type": "stream",
     "text": [
      "TRAIN: LOSS-->1.4268 (1.4268)\tACC-->62.500% (62.500%)\n",
      "TRAIN: 5 [0/4038 (0%)]\tLoss: 1.426771, Accuracy: 5/8 (62.500%)\n",
      "TRAIN: LOSS-->1.1804 (1.5625)\tACC-->62.500% (47.699%)\n",
      "TRAIN: 5 [1600/4038 (40%)]\tLoss: 1.180378, Accuracy: 5/8 (62.500%)\n",
      "TRAIN: LOSS-->1.2801 (1.6041)\tACC-->62.500% (45.511%)\n",
      "TRAIN: 5 [3200/4038 (79%)]\tLoss: 1.280127, Accuracy: 5/8 (62.500%)\n",
      "VAL:   LOSS--> 0.9937 (0.9937)\tACC-->75.000 (75.000)\n",
      " * Accuracy 63.7640\n"
     ]
    },
    {
     "name": "stderr",
     "output_type": "stream",
     "text": [
      "\r",
      "  4%|█████▊                                                                                                                                           | 6/150 [05:40<2:16:03, 56.69s/it]"
     ]
    },
    {
     "name": "stdout",
     "output_type": "stream",
     "text": [
      "TRAIN: LOSS-->1.1409 (1.1409)\tACC-->75.000% (75.000%)\n",
      "TRAIN: 6 [0/4038 (0%)]\tLoss: 1.140936, Accuracy: 6/8 (75.000%)\n",
      "TRAIN: LOSS-->1.2346 (1.5754)\tACC-->75.000% (47.948%)\n",
      "TRAIN: 6 [1600/4038 (40%)]\tLoss: 1.234563, Accuracy: 6/8 (75.000%)\n",
      "TRAIN: LOSS-->1.7549 (1.5717)\tACC-->25.000% (47.506%)\n",
      "TRAIN: 6 [3200/4038 (79%)]\tLoss: 1.754940, Accuracy: 2/8 (25.000%)\n",
      "VAL:   LOSS--> 1.0586 (1.0586)\tACC-->87.500 (87.500)\n",
      " * Accuracy 62.6404\n"
     ]
    },
    {
     "name": "stderr",
     "output_type": "stream",
     "text": [
      "\r",
      "  5%|██████▊                                                                                                                                          | 7/150 [06:36<2:14:52, 56.59s/it]"
     ]
    },
    {
     "name": "stdout",
     "output_type": "stream",
     "text": [
      "TRAIN: LOSS-->1.3382 (1.3382)\tACC-->37.500% (37.500%)\n",
      "TRAIN: 7 [0/4038 (0%)]\tLoss: 1.338248, Accuracy: 3/8 (37.500%)\n",
      "TRAIN: LOSS-->1.9508 (1.5514)\tACC-->25.000% (48.197%)\n",
      "TRAIN: 7 [1600/4038 (40%)]\tLoss: 1.950802, Accuracy: 2/8 (25.000%)\n",
      "TRAIN: LOSS-->1.0730 (1.5181)\tACC-->62.500% (48.784%)\n",
      "TRAIN: 7 [3200/4038 (79%)]\tLoss: 1.072952, Accuracy: 5/8 (62.500%)\n",
      "VAL:   LOSS--> 0.9543 (0.9543)\tACC-->75.000 (75.000)\n",
      " * Accuracy 70.2247\n"
     ]
    },
    {
     "name": "stderr",
     "output_type": "stream",
     "text": [
      "\r",
      "  5%|███████▋                                                                                                                                         | 8/150 [07:32<2:13:49, 56.54s/it]"
     ]
    },
    {
     "name": "stdout",
     "output_type": "stream",
     "text": [
      "TRAIN: LOSS-->1.6810 (1.6810)\tACC-->25.000% (25.000%)\n",
      "TRAIN: 8 [0/4038 (0%)]\tLoss: 1.680982, Accuracy: 2/8 (25.000%)\n",
      "TRAIN: LOSS-->1.4514 (1.4519)\tACC-->62.500% (51.244%)\n",
      "TRAIN: 8 [1600/4038 (40%)]\tLoss: 1.451371, Accuracy: 5/8 (62.500%)\n",
      "TRAIN: LOSS-->1.4536 (1.4579)\tACC-->50.000% (51.621%)\n",
      "TRAIN: 8 [3200/4038 (79%)]\tLoss: 1.453572, Accuracy: 4/8 (50.000%)\n",
      "VAL:   LOSS--> 0.5126 (0.5126)\tACC-->100.000 (100.000)\n",
      " * Accuracy 71.2079\n"
     ]
    },
    {
     "name": "stderr",
     "output_type": "stream",
     "text": [
      "\r",
      "  6%|████████▋                                                                                                                                        | 9/150 [08:28<2:12:43, 56.48s/it]"
     ]
    },
    {
     "name": "stdout",
     "output_type": "stream",
     "text": [
      "TRAIN: LOSS-->1.9498 (1.9498)\tACC-->25.000% (25.000%)\n",
      "TRAIN: 9 [0/4038 (0%)]\tLoss: 1.949806, Accuracy: 2/8 (25.000%)\n",
      "TRAIN: LOSS-->1.8781 (1.4095)\tACC-->37.500% (52.488%)\n",
      "TRAIN: 9 [1600/4038 (40%)]\tLoss: 1.878124, Accuracy: 3/8 (37.500%)\n",
      "TRAIN: LOSS-->1.7133 (1.4213)\tACC-->50.000% (52.338%)\n",
      "TRAIN: 9 [3200/4038 (79%)]\tLoss: 1.713297, Accuracy: 4/8 (50.000%)\n",
      "VAL:   LOSS--> 0.5476 (0.5476)\tACC-->75.000 (75.000)\n",
      " * Accuracy 73.1742\n"
     ]
    },
    {
     "name": "stderr",
     "output_type": "stream",
     "text": [
      "\r",
      "  7%|█████████▌                                                                                                                                      | 10/150 [09:24<2:11:40, 56.43s/it]"
     ]
    },
    {
     "name": "stdout",
     "output_type": "stream",
     "text": [
      "TRAIN: LOSS-->1.8690 (1.8690)\tACC-->50.000% (50.000%)\n",
      "TRAIN: 10 [0/4038 (0%)]\tLoss: 1.868964, Accuracy: 4/8 (50.000%)\n",
      "TRAIN: LOSS-->1.4736 (1.4174)\tACC-->50.000% (52.363%)\n",
      "TRAIN: 10 [1600/4038 (40%)]\tLoss: 1.473614, Accuracy: 4/8 (50.000%)\n",
      "TRAIN: LOSS-->0.9720 (1.3692)\tACC-->62.500% (54.208%)\n",
      "TRAIN: 10 [3200/4038 (79%)]\tLoss: 0.972039, Accuracy: 5/8 (62.500%)\n",
      "VAL:   LOSS--> 1.3083 (1.3083)\tACC-->62.500 (62.500)\n",
      " * Accuracy 69.3820\n"
     ]
    },
    {
     "name": "stderr",
     "output_type": "stream",
     "text": [
      "\r",
      "  7%|██████████▌                                                                                                                                     | 11/150 [10:20<2:10:39, 56.40s/it]"
     ]
    },
    {
     "name": "stdout",
     "output_type": "stream",
     "text": [
      "TRAIN: LOSS-->1.0247 (1.0247)\tACC-->62.500% (62.500%)\n",
      "TRAIN: 11 [0/4038 (0%)]\tLoss: 1.024666, Accuracy: 5/8 (62.500%)\n",
      "TRAIN: LOSS-->1.0291 (1.3263)\tACC-->75.000% (56.219%)\n",
      "TRAIN: 11 [1600/4038 (40%)]\tLoss: 1.029093, Accuracy: 6/8 (75.000%)\n",
      "TRAIN: LOSS-->1.9672 (1.3474)\tACC-->25.000% (55.549%)\n",
      "TRAIN: 11 [3200/4038 (79%)]\tLoss: 1.967248, Accuracy: 2/8 (25.000%)\n",
      "VAL:   LOSS--> 0.7494 (0.7494)\tACC-->50.000 (50.000)\n",
      " * Accuracy 72.7528\n"
     ]
    },
    {
     "name": "stderr",
     "output_type": "stream",
     "text": [
      "\r",
      "  8%|███████████▌                                                                                                                                    | 12/150 [11:17<2:09:47, 56.43s/it]"
     ]
    },
    {
     "name": "stdout",
     "output_type": "stream",
     "text": [
      "TRAIN: LOSS-->1.2640 (1.2640)\tACC-->50.000% (50.000%)\n",
      "TRAIN: 12 [0/4038 (0%)]\tLoss: 1.263955, Accuracy: 4/8 (50.000%)\n",
      "TRAIN: LOSS-->2.2035 (1.3099)\tACC-->25.000% (55.784%)\n",
      "TRAIN: 12 [1600/4038 (40%)]\tLoss: 2.203535, Accuracy: 2/8 (25.000%)\n",
      "TRAIN: LOSS-->1.7212 (1.2943)\tACC-->62.500% (56.608%)\n",
      "TRAIN: 12 [3200/4038 (79%)]\tLoss: 1.721243, Accuracy: 5/8 (62.500%)\n",
      "VAL:   LOSS--> 0.8413 (0.8413)\tACC-->62.500 (62.500)\n",
      " * Accuracy 78.5112\n"
     ]
    },
    {
     "name": "stderr",
     "output_type": "stream",
     "text": [
      "\r",
      "  9%|████████████▍                                                                                                                                   | 13/150 [12:13<2:08:55, 56.46s/it]"
     ]
    },
    {
     "name": "stdout",
     "output_type": "stream",
     "text": [
      "TRAIN: LOSS-->1.3922 (1.3922)\tACC-->62.500% (62.500%)\n",
      "TRAIN: 13 [0/4038 (0%)]\tLoss: 1.392226, Accuracy: 5/8 (62.500%)\n",
      "TRAIN: LOSS-->1.1158 (1.2620)\tACC-->50.000% (56.841%)\n",
      "TRAIN: 13 [1600/4038 (40%)]\tLoss: 1.115804, Accuracy: 4/8 (50.000%)\n",
      "TRAIN: LOSS-->1.4239 (1.2733)\tACC-->62.500% (57.263%)\n",
      "TRAIN: 13 [3200/4038 (79%)]\tLoss: 1.423916, Accuracy: 5/8 (62.500%)\n",
      "VAL:   LOSS--> 0.4325 (0.4325)\tACC-->100.000 (100.000)\n",
      " * Accuracy 77.6685\n"
     ]
    },
    {
     "name": "stderr",
     "output_type": "stream",
     "text": [
      "\r",
      "  9%|█████████████▍                                                                                                                                  | 14/150 [13:10<2:07:56, 56.44s/it]"
     ]
    },
    {
     "name": "stdout",
     "output_type": "stream",
     "text": [
      "TRAIN: LOSS-->1.5073 (1.5073)\tACC-->62.500% (62.500%)\n",
      "TRAIN: 14 [0/4038 (0%)]\tLoss: 1.507285, Accuracy: 5/8 (62.500%)\n",
      "TRAIN: LOSS-->0.7191 (1.2656)\tACC-->62.500% (56.841%)\n",
      "TRAIN: 14 [1600/4038 (40%)]\tLoss: 0.719141, Accuracy: 5/8 (62.500%)\n",
      "TRAIN: LOSS-->0.7843 (1.2608)\tACC-->87.500% (57.076%)\n",
      "TRAIN: 14 [3200/4038 (79%)]\tLoss: 0.784253, Accuracy: 7/8 (87.500%)\n",
      "VAL:   LOSS--> 0.7840 (0.7840)\tACC-->50.000 (50.000)\n",
      " * Accuracy 79.0730\n"
     ]
    },
    {
     "name": "stderr",
     "output_type": "stream",
     "text": [
      "\r",
      " 10%|██████████████▍                                                                                                                                 | 15/150 [14:06<2:06:57, 56.42s/it]"
     ]
    },
    {
     "name": "stdout",
     "output_type": "stream",
     "text": [
      "TRAIN: LOSS-->1.3828 (1.3828)\tACC-->75.000% (75.000%)\n",
      "TRAIN: 15 [0/4038 (0%)]\tLoss: 1.382835, Accuracy: 6/8 (75.000%)\n",
      "TRAIN: LOSS-->0.6722 (1.2158)\tACC-->87.500% (59.017%)\n",
      "TRAIN: 15 [1600/4038 (40%)]\tLoss: 0.672237, Accuracy: 7/8 (87.500%)\n",
      "TRAIN: LOSS-->1.6170 (1.2403)\tACC-->62.500% (58.229%)\n",
      "TRAIN: 15 [3200/4038 (79%)]\tLoss: 1.617047, Accuracy: 5/8 (62.500%)\n",
      "VAL:   LOSS--> 0.7179 (0.7179)\tACC-->62.500 (62.500)\n",
      " * Accuracy 81.4607\n"
     ]
    },
    {
     "name": "stderr",
     "output_type": "stream",
     "text": [
      "\r",
      " 11%|███████████████▎                                                                                                                                | 16/150 [15:03<2:06:07, 56.48s/it]"
     ]
    },
    {
     "name": "stdout",
     "output_type": "stream",
     "text": [
      "TRAIN: LOSS-->0.4490 (0.4490)\tACC-->87.500% (87.500%)\n",
      "TRAIN: 16 [0/4038 (0%)]\tLoss: 0.448957, Accuracy: 7/8 (87.500%)\n",
      "TRAIN: LOSS-->1.3418 (1.1944)\tACC-->25.000% (59.515%)\n",
      "TRAIN: 16 [1600/4038 (40%)]\tLoss: 1.341791, Accuracy: 2/8 (25.000%)\n",
      "TRAIN: LOSS-->1.3005 (1.2112)\tACC-->50.000% (59.414%)\n",
      "TRAIN: 16 [3200/4038 (79%)]\tLoss: 1.300455, Accuracy: 4/8 (50.000%)\n",
      "VAL:   LOSS--> 1.5624 (1.5624)\tACC-->37.500 (37.500)\n",
      " * Accuracy 77.3876\n"
     ]
    },
    {
     "name": "stderr",
     "output_type": "stream",
     "text": [
      "\r",
      " 11%|████████████████▎                                                                                                                               | 17/150 [16:02<2:05:27, 56.60s/it]"
     ]
    },
    {
     "name": "stdout",
     "output_type": "stream",
     "text": [
      "TRAIN: LOSS-->1.8151 (1.8151)\tACC-->50.000% (50.000%)\n",
      "TRAIN: 17 [0/4038 (0%)]\tLoss: 1.815126, Accuracy: 4/8 (50.000%)\n",
      "TRAIN: LOSS-->1.8111 (1.1739)\tACC-->50.000% (59.017%)\n",
      "TRAIN: 17 [1600/4038 (40%)]\tLoss: 1.811092, Accuracy: 4/8 (50.000%)\n",
      "TRAIN: LOSS-->1.1343 (1.1694)\tACC-->62.500% (59.507%)\n",
      "TRAIN: 17 [3200/4038 (79%)]\tLoss: 1.134268, Accuracy: 5/8 (62.500%)\n",
      "VAL:   LOSS--> 0.3986 (0.3986)\tACC-->87.500 (87.500)\n",
      " * Accuracy 81.1798\n"
     ]
    },
    {
     "name": "stderr",
     "output_type": "stream",
     "text": [
      "\r",
      " 12%|█████████████████▎                                                                                                                              | 18/150 [16:59<2:04:36, 56.64s/it]"
     ]
    },
    {
     "name": "stdout",
     "output_type": "stream",
     "text": [
      "TRAIN: LOSS-->1.0492 (1.0492)\tACC-->75.000% (75.000%)\n",
      "TRAIN: 18 [0/4038 (0%)]\tLoss: 1.049178, Accuracy: 6/8 (75.000%)\n",
      "TRAIN: LOSS-->1.0494 (1.1599)\tACC-->62.500% (59.764%)\n",
      "TRAIN: 18 [1600/4038 (40%)]\tLoss: 1.049438, Accuracy: 5/8 (62.500%)\n",
      "TRAIN: LOSS-->1.2365 (1.1391)\tACC-->50.000% (60.754%)\n",
      "TRAIN: 18 [3200/4038 (79%)]\tLoss: 1.236532, Accuracy: 4/8 (50.000%)\n",
      "VAL:   LOSS--> 0.5513 (0.5513)\tACC-->62.500 (62.500)\n",
      " * Accuracy 83.4270\n"
     ]
    },
    {
     "name": "stderr",
     "output_type": "stream",
     "text": [
      "\r",
      " 13%|██████████████████▏                                                                                                                             | 19/150 [17:57<2:03:47, 56.70s/it]"
     ]
    },
    {
     "name": "stdout",
     "output_type": "stream",
     "text": [
      "TRAIN: LOSS-->0.6904 (0.6904)\tACC-->75.000% (75.000%)\n",
      "TRAIN: 19 [0/4038 (0%)]\tLoss: 0.690448, Accuracy: 6/8 (75.000%)\n",
      "TRAIN: LOSS-->1.2390 (1.2117)\tACC-->75.000% (58.769%)\n",
      "TRAIN: 19 [1600/4038 (40%)]\tLoss: 1.238999, Accuracy: 6/8 (75.000%)\n",
      "TRAIN: LOSS-->1.2322 (1.1717)\tACC-->50.000% (60.193%)\n",
      "TRAIN: 19 [3200/4038 (79%)]\tLoss: 1.232235, Accuracy: 4/8 (50.000%)\n",
      "VAL:   LOSS--> 0.4695 (0.4695)\tACC-->87.500 (87.500)\n",
      " * Accuracy 81.3202\n"
     ]
    },
    {
     "name": "stderr",
     "output_type": "stream",
     "text": [
      "\r",
      " 13%|███████████████████▏                                                                                                                            | 20/150 [18:55<2:03:00, 56.77s/it]"
     ]
    },
    {
     "name": "stdout",
     "output_type": "stream",
     "text": [
      "TRAIN: LOSS-->1.8783 (1.8783)\tACC-->25.000% (25.000%)\n",
      "TRAIN: 20 [0/4038 (0%)]\tLoss: 1.878284, Accuracy: 2/8 (25.000%)\n",
      "TRAIN: LOSS-->0.4423 (1.1132)\tACC-->100.000% (62.376%)\n",
      "TRAIN: 20 [1600/4038 (40%)]\tLoss: 0.442305, Accuracy: 8/8 (100.000%)\n",
      "TRAIN: LOSS-->1.2060 (1.1323)\tACC-->62.500% (61.690%)\n",
      "TRAIN: 20 [3200/4038 (79%)]\tLoss: 1.206022, Accuracy: 5/8 (62.500%)\n",
      "VAL:   LOSS--> 0.7453 (0.7453)\tACC-->75.000 (75.000)\n",
      " * Accuracy 82.5843\n"
     ]
    },
    {
     "name": "stderr",
     "output_type": "stream",
     "text": [
      "\r",
      " 14%|████████████████████▏                                                                                                                           | 21/150 [19:52<2:02:03, 56.77s/it]"
     ]
    },
    {
     "name": "stdout",
     "output_type": "stream",
     "text": [
      "TRAIN: LOSS-->0.8769 (0.8769)\tACC-->62.500% (62.500%)\n",
      "TRAIN: 21 [0/4038 (0%)]\tLoss: 0.876936, Accuracy: 5/8 (62.500%)\n",
      "TRAIN: LOSS-->1.0051 (1.1068)\tACC-->75.000% (62.562%)\n",
      "TRAIN: 21 [1600/4038 (40%)]\tLoss: 1.005075, Accuracy: 6/8 (75.000%)\n",
      "TRAIN: LOSS-->0.7427 (1.1141)\tACC-->75.000% (62.188%)\n",
      "TRAIN: 21 [3200/4038 (79%)]\tLoss: 0.742672, Accuracy: 6/8 (75.000%)\n",
      "VAL:   LOSS--> 0.2853 (0.2853)\tACC-->87.500 (87.500)\n",
      " * Accuracy 76.6854\n"
     ]
    },
    {
     "name": "stderr",
     "output_type": "stream",
     "text": [
      "\r",
      " 15%|█████████████████████                                                                                                                           | 22/150 [20:48<2:01:02, 56.74s/it]"
     ]
    },
    {
     "name": "stdout",
     "output_type": "stream",
     "text": [
      "TRAIN: LOSS-->1.0220 (1.0220)\tACC-->62.500% (62.500%)\n",
      "TRAIN: 22 [0/4038 (0%)]\tLoss: 1.021990, Accuracy: 5/8 (62.500%)\n",
      "TRAIN: LOSS-->1.2394 (1.0808)\tACC-->50.000% (65.050%)\n",
      "TRAIN: 22 [1600/4038 (40%)]\tLoss: 1.239409, Accuracy: 4/8 (50.000%)\n",
      "TRAIN: LOSS-->0.7591 (1.0915)\tACC-->75.000% (64.214%)\n",
      "TRAIN: 22 [3200/4038 (79%)]\tLoss: 0.759086, Accuracy: 6/8 (75.000%)\n",
      "VAL:   LOSS--> 0.4011 (0.4011)\tACC-->87.500 (87.500)\n",
      " * Accuracy 83.1461\n"
     ]
    },
    {
     "name": "stderr",
     "output_type": "stream",
     "text": [
      "\r",
      " 15%|██████████████████████                                                                                                                          | 23/150 [21:44<2:00:02, 56.71s/it]"
     ]
    },
    {
     "name": "stdout",
     "output_type": "stream",
     "text": [
      "TRAIN: LOSS-->0.5982 (0.5982)\tACC-->62.500% (62.500%)\n",
      "TRAIN: 23 [0/4038 (0%)]\tLoss: 0.598175, Accuracy: 5/8 (62.500%)\n",
      "TRAIN: LOSS-->0.9207 (1.0690)\tACC-->62.500% (62.873%)\n",
      "TRAIN: 23 [1600/4038 (40%)]\tLoss: 0.920657, Accuracy: 5/8 (62.500%)\n",
      "TRAIN: LOSS-->0.5068 (1.0687)\tACC-->87.500% (63.435%)\n",
      "TRAIN: 23 [3200/4038 (79%)]\tLoss: 0.506825, Accuracy: 7/8 (87.500%)\n",
      "VAL:   LOSS--> 0.2622 (0.2622)\tACC-->87.500 (87.500)\n",
      " * Accuracy 83.4270\n"
     ]
    },
    {
     "name": "stderr",
     "output_type": "stream",
     "text": [
      "\r",
      " 16%|███████████████████████                                                                                                                         | 24/150 [22:40<1:59:01, 56.68s/it]"
     ]
    },
    {
     "name": "stdout",
     "output_type": "stream",
     "text": [
      "TRAIN: LOSS-->0.8798 (0.8798)\tACC-->75.000% (75.000%)\n",
      "TRAIN: 24 [0/4038 (0%)]\tLoss: 0.879757, Accuracy: 6/8 (75.000%)\n",
      "TRAIN: LOSS-->1.4529 (1.0486)\tACC-->37.500% (64.925%)\n",
      "TRAIN: 24 [1600/4038 (40%)]\tLoss: 1.452895, Accuracy: 3/8 (37.500%)\n",
      "TRAIN: LOSS-->0.6522 (1.0530)\tACC-->75.000% (64.464%)\n",
      "TRAIN: 24 [3200/4038 (79%)]\tLoss: 0.652240, Accuracy: 6/8 (75.000%)\n",
      "VAL:   LOSS--> 0.5063 (0.5063)\tACC-->75.000 (75.000)\n",
      " * Accuracy 84.4101\n"
     ]
    },
    {
     "name": "stderr",
     "output_type": "stream",
     "text": [
      "\r",
      " 17%|████████████████████████                                                                                                                        | 25/150 [23:36<1:58:02, 56.66s/it]"
     ]
    },
    {
     "name": "stdout",
     "output_type": "stream",
     "text": [
      "TRAIN: LOSS-->2.0045 (2.0045)\tACC-->37.500% (37.500%)\n",
      "TRAIN: 25 [0/4038 (0%)]\tLoss: 2.004522, Accuracy: 3/8 (37.500%)\n",
      "TRAIN: LOSS-->0.8776 (1.0507)\tACC-->50.000% (64.988%)\n",
      "TRAIN: 25 [1600/4038 (40%)]\tLoss: 0.877601, Accuracy: 4/8 (50.000%)\n",
      "TRAIN: LOSS-->1.2111 (1.0441)\tACC-->62.500% (64.651%)\n",
      "TRAIN: 25 [3200/4038 (79%)]\tLoss: 1.211060, Accuracy: 5/8 (62.500%)\n",
      "VAL:   LOSS--> 0.2004 (0.2004)\tACC-->100.000 (100.000)\n",
      " * Accuracy 86.3764\n"
     ]
    },
    {
     "name": "stderr",
     "output_type": "stream",
     "text": [
      "\r",
      " 17%|████████████████████████▉                                                                                                                       | 26/150 [24:32<1:57:02, 56.63s/it]"
     ]
    },
    {
     "name": "stdout",
     "output_type": "stream",
     "text": [
      "TRAIN: LOSS-->1.1893 (1.1893)\tACC-->50.000% (50.000%)\n",
      "TRAIN: 26 [0/4038 (0%)]\tLoss: 1.189336, Accuracy: 4/8 (50.000%)\n",
      "TRAIN: LOSS-->1.5799 (1.0427)\tACC-->37.500% (65.361%)\n",
      "TRAIN: 26 [1600/4038 (40%)]\tLoss: 1.579943, Accuracy: 3/8 (37.500%)\n",
      "TRAIN: LOSS-->0.5995 (1.0438)\tACC-->75.000% (64.900%)\n",
      "TRAIN: 26 [3200/4038 (79%)]\tLoss: 0.599532, Accuracy: 6/8 (75.000%)\n",
      "VAL:   LOSS--> 0.2066 (0.2066)\tACC-->87.500 (87.500)\n",
      " * Accuracy 87.2191\n"
     ]
    },
    {
     "name": "stderr",
     "output_type": "stream",
     "text": [
      "\r",
      " 18%|█████████████████████████▉                                                                                                                      | 27/150 [25:28<1:56:04, 56.62s/it]"
     ]
    },
    {
     "name": "stdout",
     "output_type": "stream",
     "text": [
      "TRAIN: LOSS-->0.7645 (0.7645)\tACC-->75.000% (75.000%)\n",
      "TRAIN: 27 [0/4038 (0%)]\tLoss: 0.764484, Accuracy: 6/8 (75.000%)\n",
      "TRAIN: LOSS-->0.6977 (1.0534)\tACC-->75.000% (64.179%)\n",
      "TRAIN: 27 [1600/4038 (40%)]\tLoss: 0.697658, Accuracy: 6/8 (75.000%)\n",
      "TRAIN: LOSS-->1.4274 (1.0228)\tACC-->37.500% (64.526%)\n",
      "TRAIN: 27 [3200/4038 (79%)]\tLoss: 1.427388, Accuracy: 3/8 (37.500%)\n",
      "VAL:   LOSS--> 0.4127 (0.4127)\tACC-->75.000 (75.000)\n",
      " * Accuracy 85.8146\n"
     ]
    },
    {
     "name": "stderr",
     "output_type": "stream",
     "text": [
      "\r",
      " 19%|██████████████████████████▉                                                                                                                     | 28/150 [26:24<1:55:04, 56.60s/it]"
     ]
    },
    {
     "name": "stdout",
     "output_type": "stream",
     "text": [
      "TRAIN: LOSS-->0.5865 (0.5865)\tACC-->75.000% (75.000%)\n",
      "TRAIN: 28 [0/4038 (0%)]\tLoss: 0.586535, Accuracy: 6/8 (75.000%)\n",
      "TRAIN: LOSS-->0.9554 (0.9910)\tACC-->62.500% (66.045%)\n",
      "TRAIN: 28 [1600/4038 (40%)]\tLoss: 0.955401, Accuracy: 5/8 (62.500%)\n",
      "TRAIN: LOSS-->1.0403 (1.0161)\tACC-->62.500% (65.461%)\n",
      "TRAIN: 28 [3200/4038 (79%)]\tLoss: 1.040284, Accuracy: 5/8 (62.500%)\n",
      "VAL:   LOSS--> 0.1693 (0.1693)\tACC-->100.000 (100.000)\n",
      " * Accuracy 86.9382\n"
     ]
    },
    {
     "name": "stderr",
     "output_type": "stream",
     "text": [
      "\r",
      " 19%|███████████████████████████▊                                                                                                                    | 29/150 [27:20<1:54:06, 56.58s/it]"
     ]
    },
    {
     "name": "stdout",
     "output_type": "stream",
     "text": [
      "TRAIN: LOSS-->0.9801 (0.9801)\tACC-->62.500% (62.500%)\n",
      "TRAIN: 29 [0/4038 (0%)]\tLoss: 0.980141, Accuracy: 5/8 (62.500%)\n",
      "TRAIN: LOSS-->0.5954 (1.0521)\tACC-->75.000% (64.179%)\n",
      "TRAIN: 29 [1600/4038 (40%)]\tLoss: 0.595394, Accuracy: 6/8 (75.000%)\n",
      "TRAIN: LOSS-->1.0585 (1.0350)\tACC-->75.000% (65.056%)\n",
      "TRAIN: 29 [3200/4038 (79%)]\tLoss: 1.058526, Accuracy: 6/8 (75.000%)\n",
      "VAL:   LOSS--> 0.1441 (0.1441)\tACC-->100.000 (100.000)\n",
      " * Accuracy 88.3427\n"
     ]
    },
    {
     "name": "stderr",
     "output_type": "stream",
     "text": [
      "\r",
      " 20%|████████████████████████████▊                                                                                                                   | 30/150 [28:16<1:53:07, 56.56s/it]"
     ]
    },
    {
     "name": "stdout",
     "output_type": "stream",
     "text": [
      "TRAIN: LOSS-->1.2097 (1.2097)\tACC-->62.500% (62.500%)\n",
      "TRAIN: 30 [0/4038 (0%)]\tLoss: 1.209712, Accuracy: 5/8 (62.500%)\n",
      "TRAIN: LOSS-->0.7933 (0.9963)\tACC-->62.500% (66.729%)\n",
      "TRAIN: 30 [1600/4038 (40%)]\tLoss: 0.793333, Accuracy: 5/8 (62.500%)\n",
      "TRAIN: LOSS-->1.6063 (0.9972)\tACC-->62.500% (66.022%)\n",
      "TRAIN: 30 [3200/4038 (79%)]\tLoss: 1.606332, Accuracy: 5/8 (62.500%)\n",
      "VAL:   LOSS--> 0.3290 (0.3290)\tACC-->87.500 (87.500)\n",
      " * Accuracy 86.2360\n"
     ]
    },
    {
     "name": "stderr",
     "output_type": "stream",
     "text": [
      "\r",
      " 21%|█████████████████████████████▊                                                                                                                  | 31/150 [29:12<1:52:08, 56.54s/it]"
     ]
    },
    {
     "name": "stdout",
     "output_type": "stream",
     "text": [
      "TRAIN: LOSS-->0.6695 (0.6695)\tACC-->75.000% (75.000%)\n",
      "TRAIN: 31 [0/4038 (0%)]\tLoss: 0.669510, Accuracy: 6/8 (75.000%)\n",
      "TRAIN: LOSS-->0.8150 (0.9687)\tACC-->50.000% (66.542%)\n",
      "TRAIN: 31 [1600/4038 (40%)]\tLoss: 0.815003, Accuracy: 4/8 (50.000%)\n",
      "TRAIN: LOSS-->0.7655 (0.9705)\tACC-->87.500% (66.739%)\n",
      "TRAIN: 31 [3200/4038 (79%)]\tLoss: 0.765515, Accuracy: 7/8 (87.500%)\n",
      "VAL:   LOSS--> 0.1965 (0.1965)\tACC-->100.000 (100.000)\n",
      " * Accuracy 85.9551\n"
     ]
    },
    {
     "name": "stderr",
     "output_type": "stream",
     "text": [
      "\r",
      " 21%|██████████████████████████████▋                                                                                                                 | 32/150 [30:08<1:51:10, 56.53s/it]"
     ]
    },
    {
     "name": "stdout",
     "output_type": "stream",
     "text": [
      "TRAIN: LOSS-->0.3191 (0.3191)\tACC-->87.500% (87.500%)\n",
      "TRAIN: 32 [0/4038 (0%)]\tLoss: 0.319052, Accuracy: 7/8 (87.500%)\n",
      "TRAIN: LOSS-->1.2224 (0.9770)\tACC-->50.000% (67.040%)\n",
      "TRAIN: 32 [1600/4038 (40%)]\tLoss: 1.222438, Accuracy: 4/8 (50.000%)\n",
      "TRAIN: LOSS-->0.4750 (1.0020)\tACC-->75.000% (66.397%)\n",
      "TRAIN: 32 [3200/4038 (79%)]\tLoss: 0.475014, Accuracy: 6/8 (75.000%)\n",
      "VAL:   LOSS--> 0.2012 (0.2012)\tACC-->100.000 (100.000)\n",
      " * Accuracy 89.4663\n"
     ]
    },
    {
     "name": "stderr",
     "output_type": "stream",
     "text": [
      "\r",
      " 22%|███████████████████████████████▋                                                                                                                | 33/150 [31:04<1:50:12, 56.51s/it]"
     ]
    },
    {
     "name": "stdout",
     "output_type": "stream",
     "text": [
      "TRAIN: LOSS-->0.9217 (0.9217)\tACC-->50.000% (50.000%)\n",
      "TRAIN: 33 [0/4038 (0%)]\tLoss: 0.921659, Accuracy: 4/8 (50.000%)\n",
      "TRAIN: LOSS-->0.7186 (1.0108)\tACC-->62.500% (65.423%)\n",
      "TRAIN: 33 [1600/4038 (40%)]\tLoss: 0.718593, Accuracy: 5/8 (62.500%)\n",
      "TRAIN: LOSS-->1.4985 (0.9820)\tACC-->50.000% (66.147%)\n",
      "TRAIN: 33 [3200/4038 (79%)]\tLoss: 1.498456, Accuracy: 4/8 (50.000%)\n",
      "VAL:   LOSS--> 0.3537 (0.3537)\tACC-->87.500 (87.500)\n",
      " * Accuracy 88.0618\n"
     ]
    },
    {
     "name": "stderr",
     "output_type": "stream",
     "text": [
      "\r",
      " 23%|████████████████████████████████▋                                                                                                               | 34/150 [32:01<1:49:14, 56.50s/it]"
     ]
    },
    {
     "name": "stdout",
     "output_type": "stream",
     "text": [
      "TRAIN: LOSS-->1.2846 (1.2846)\tACC-->62.500% (62.500%)\n",
      "TRAIN: 34 [0/4038 (0%)]\tLoss: 1.284562, Accuracy: 5/8 (62.500%)\n",
      "TRAIN: LOSS-->0.2917 (0.9844)\tACC-->87.500% (67.164%)\n",
      "TRAIN: 34 [1600/4038 (40%)]\tLoss: 0.291662, Accuracy: 7/8 (87.500%)\n",
      "TRAIN: LOSS-->0.9792 (0.9570)\tACC-->75.000% (67.269%)\n",
      "TRAIN: 34 [3200/4038 (79%)]\tLoss: 0.979217, Accuracy: 6/8 (75.000%)\n",
      "VAL:   LOSS--> 0.1280 (0.1280)\tACC-->100.000 (100.000)\n",
      " * Accuracy 89.3258\n"
     ]
    },
    {
     "name": "stderr",
     "output_type": "stream",
     "text": [
      "\r",
      " 23%|█████████████████████████████████▌                                                                                                              | 35/150 [32:57<1:48:16, 56.49s/it]"
     ]
    },
    {
     "name": "stdout",
     "output_type": "stream",
     "text": [
      "TRAIN: LOSS-->0.6859 (0.6859)\tACC-->87.500% (87.500%)\n",
      "TRAIN: 35 [0/4038 (0%)]\tLoss: 0.685903, Accuracy: 7/8 (87.500%)\n",
      "TRAIN: LOSS-->1.5026 (0.8982)\tACC-->50.000% (69.838%)\n",
      "TRAIN: 35 [1600/4038 (40%)]\tLoss: 1.502640, Accuracy: 4/8 (50.000%)\n",
      "TRAIN: LOSS-->0.4207 (0.9397)\tACC-->87.500% (67.706%)\n",
      "TRAIN: 35 [3200/4038 (79%)]\tLoss: 0.420662, Accuracy: 7/8 (87.500%)\n",
      "VAL:   LOSS--> 0.7948 (0.7948)\tACC-->62.500 (62.500)\n",
      " * Accuracy 86.0955\n"
     ]
    },
    {
     "name": "stderr",
     "output_type": "stream",
     "text": [
      "\r",
      " 24%|██████████████████████████████████▌                                                                                                             | 36/150 [33:53<1:47:18, 56.48s/it]"
     ]
    },
    {
     "name": "stdout",
     "output_type": "stream",
     "text": [
      "TRAIN: LOSS-->1.4735 (1.4735)\tACC-->50.000% (50.000%)\n",
      "TRAIN: 36 [0/4038 (0%)]\tLoss: 1.473538, Accuracy: 4/8 (50.000%)\n",
      "TRAIN: LOSS-->1.1284 (0.9556)\tACC-->62.500% (67.786%)\n",
      "TRAIN: 36 [1600/4038 (40%)]\tLoss: 1.128352, Accuracy: 5/8 (62.500%)\n",
      "TRAIN: LOSS-->0.6072 (0.9336)\tACC-->87.500% (67.955%)\n",
      "TRAIN: 36 [3200/4038 (79%)]\tLoss: 0.607241, Accuracy: 7/8 (87.500%)\n",
      "VAL:   LOSS--> 0.6292 (0.6292)\tACC-->62.500 (62.500)\n",
      " * Accuracy 87.2191\n"
     ]
    },
    {
     "name": "stderr",
     "output_type": "stream",
     "text": [
      "\r",
      " 25%|███████████████████████████████████▌                                                                                                            | 37/150 [34:49<1:46:20, 56.47s/it]"
     ]
    },
    {
     "name": "stdout",
     "output_type": "stream",
     "text": [
      "TRAIN: LOSS-->0.8115 (0.8115)\tACC-->62.500% (62.500%)\n",
      "TRAIN: 37 [0/4038 (0%)]\tLoss: 0.811527, Accuracy: 5/8 (62.500%)\n",
      "TRAIN: LOSS-->1.0558 (0.9373)\tACC-->62.500% (67.600%)\n",
      "TRAIN: 37 [1600/4038 (40%)]\tLoss: 1.055760, Accuracy: 5/8 (62.500%)\n",
      "TRAIN: LOSS-->0.3556 (0.9391)\tACC-->100.000% (67.488%)\n",
      "TRAIN: 37 [3200/4038 (79%)]\tLoss: 0.355620, Accuracy: 8/8 (100.000%)\n",
      "VAL:   LOSS--> 0.0848 (0.0848)\tACC-->100.000 (100.000)\n",
      " * Accuracy 87.3596\n"
     ]
    },
    {
     "name": "stderr",
     "output_type": "stream",
     "text": [
      "\r",
      " 25%|████████████████████████████████████▍                                                                                                           | 38/150 [35:45<1:45:22, 56.45s/it]"
     ]
    },
    {
     "name": "stdout",
     "output_type": "stream",
     "text": [
      "TRAIN: LOSS-->0.4478 (0.4478)\tACC-->87.500% (87.500%)\n",
      "TRAIN: 38 [0/4038 (0%)]\tLoss: 0.447768, Accuracy: 7/8 (87.500%)\n",
      "TRAIN: LOSS-->0.9428 (0.9431)\tACC-->50.000% (67.600%)\n",
      "TRAIN: 38 [1600/4038 (40%)]\tLoss: 0.942822, Accuracy: 4/8 (50.000%)\n",
      "TRAIN: LOSS-->1.4454 (0.9182)\tACC-->50.000% (68.797%)\n",
      "TRAIN: 38 [3200/4038 (79%)]\tLoss: 1.445403, Accuracy: 4/8 (50.000%)\n",
      "VAL:   LOSS--> 0.1383 (0.1383)\tACC-->100.000 (100.000)\n",
      " * Accuracy 88.3427\n"
     ]
    },
    {
     "name": "stderr",
     "output_type": "stream",
     "text": [
      "\r",
      " 26%|█████████████████████████████████████▍                                                                                                          | 39/150 [36:41<1:44:25, 56.44s/it]"
     ]
    },
    {
     "name": "stdout",
     "output_type": "stream",
     "text": [
      "TRAIN: LOSS-->0.7647 (0.7647)\tACC-->87.500% (87.500%)\n",
      "TRAIN: 39 [0/4038 (0%)]\tLoss: 0.764679, Accuracy: 7/8 (87.500%)\n",
      "TRAIN: LOSS-->0.4695 (0.9067)\tACC-->87.500% (69.030%)\n",
      "TRAIN: 39 [1600/4038 (40%)]\tLoss: 0.469496, Accuracy: 7/8 (87.500%)\n",
      "TRAIN: LOSS-->0.9498 (0.9071)\tACC-->62.500% (69.171%)\n",
      "TRAIN: 39 [3200/4038 (79%)]\tLoss: 0.949819, Accuracy: 5/8 (62.500%)\n",
      "VAL:   LOSS--> 0.2050 (0.2050)\tACC-->87.500 (87.500)\n",
      " * Accuracy 89.1854\n"
     ]
    },
    {
     "name": "stderr",
     "output_type": "stream",
     "text": [
      "\r",
      " 27%|██████████████████████████████████████▍                                                                                                         | 40/150 [37:37<1:43:27, 56.43s/it]"
     ]
    },
    {
     "name": "stdout",
     "output_type": "stream",
     "text": [
      "TRAIN: LOSS-->0.7753 (0.7753)\tACC-->62.500% (62.500%)\n",
      "TRAIN: 40 [0/4038 (0%)]\tLoss: 0.775346, Accuracy: 5/8 (62.500%)\n",
      "TRAIN: LOSS-->0.3055 (0.8895)\tACC-->100.000% (68.719%)\n",
      "TRAIN: 40 [1600/4038 (40%)]\tLoss: 0.305545, Accuracy: 8/8 (100.000%)\n",
      "TRAIN: LOSS-->1.5490 (0.9183)\tACC-->62.500% (67.830%)\n",
      "TRAIN: 40 [3200/4038 (79%)]\tLoss: 1.548961, Accuracy: 5/8 (62.500%)\n",
      "VAL:   LOSS--> 0.1919 (0.1919)\tACC-->100.000 (100.000)\n",
      " * Accuracy 86.9382\n"
     ]
    },
    {
     "name": "stderr",
     "output_type": "stream",
     "text": [
      "\r",
      " 27%|███████████████████████████████████████▎                                                                                                        | 41/150 [38:33<1:42:30, 56.43s/it]"
     ]
    },
    {
     "name": "stdout",
     "output_type": "stream",
     "text": [
      "TRAIN: LOSS-->1.5229 (1.5229)\tACC-->50.000% (50.000%)\n",
      "TRAIN: 41 [0/4038 (0%)]\tLoss: 1.522866, Accuracy: 4/8 (50.000%)\n",
      "TRAIN: LOSS-->0.5423 (0.8561)\tACC-->75.000% (70.833%)\n",
      "TRAIN: 41 [1600/4038 (40%)]\tLoss: 0.542294, Accuracy: 6/8 (75.000%)\n",
      "TRAIN: LOSS-->0.6840 (0.8981)\tACC-->75.000% (69.545%)\n",
      "TRAIN: 41 [3200/4038 (79%)]\tLoss: 0.684019, Accuracy: 6/8 (75.000%)\n",
      "VAL:   LOSS--> 0.2026 (0.2026)\tACC-->100.000 (100.000)\n",
      " * Accuracy 88.6236\n"
     ]
    },
    {
     "name": "stderr",
     "output_type": "stream",
     "text": [
      "\r",
      " 28%|████████████████████████████████████████▎                                                                                                       | 42/150 [39:29<1:41:33, 56.42s/it]"
     ]
    },
    {
     "name": "stdout",
     "output_type": "stream",
     "text": [
      "TRAIN: LOSS-->2.8402 (2.8402)\tACC-->50.000% (50.000%)\n",
      "TRAIN: 42 [0/4038 (0%)]\tLoss: 2.840188, Accuracy: 4/8 (50.000%)\n",
      "TRAIN: LOSS-->0.6816 (0.8914)\tACC-->75.000% (70.149%)\n",
      "TRAIN: 42 [1600/4038 (40%)]\tLoss: 0.681572, Accuracy: 6/8 (75.000%)\n",
      "TRAIN: LOSS-->1.1477 (0.9003)\tACC-->62.500% (69.545%)\n",
      "TRAIN: 42 [3200/4038 (79%)]\tLoss: 1.147692, Accuracy: 5/8 (62.500%)\n",
      "VAL:   LOSS--> 0.0682 (0.0682)\tACC-->100.000 (100.000)\n",
      " * Accuracy 90.5899\n"
     ]
    },
    {
     "name": "stderr",
     "output_type": "stream",
     "text": [
      "\r",
      " 29%|█████████████████████████████████████████▎                                                                                                      | 43/150 [40:25<1:40:35, 56.41s/it]"
     ]
    },
    {
     "name": "stdout",
     "output_type": "stream",
     "text": [
      "TRAIN: LOSS-->0.7680 (0.7680)\tACC-->75.000% (75.000%)\n",
      "TRAIN: 43 [0/4038 (0%)]\tLoss: 0.767963, Accuracy: 6/8 (75.000%)\n",
      "TRAIN: LOSS-->0.9385 (0.9077)\tACC-->75.000% (68.159%)\n",
      "TRAIN: 43 [1600/4038 (40%)]\tLoss: 0.938529, Accuracy: 6/8 (75.000%)\n",
      "TRAIN: LOSS-->0.7694 (0.9120)\tACC-->62.500% (68.734%)\n",
      "TRAIN: 43 [3200/4038 (79%)]\tLoss: 0.769430, Accuracy: 5/8 (62.500%)\n",
      "VAL:   LOSS--> 0.7376 (0.7376)\tACC-->62.500 (62.500)\n",
      " * Accuracy 87.9213\n"
     ]
    },
    {
     "name": "stderr",
     "output_type": "stream",
     "text": [
      "\r",
      " 29%|██████████████████████████████████████████▏                                                                                                     | 44/150 [41:21<1:39:38, 56.40s/it]"
     ]
    },
    {
     "name": "stdout",
     "output_type": "stream",
     "text": [
      "TRAIN: LOSS-->1.1837 (1.1837)\tACC-->62.500% (62.500%)\n",
      "TRAIN: 44 [0/4038 (0%)]\tLoss: 1.183664, Accuracy: 5/8 (62.500%)\n",
      "TRAIN: LOSS-->1.7431 (0.8743)\tACC-->37.500% (69.154%)\n",
      "TRAIN: 44 [1600/4038 (40%)]\tLoss: 1.743141, Accuracy: 3/8 (37.500%)\n",
      "TRAIN: LOSS-->1.0747 (0.8936)\tACC-->75.000% (69.358%)\n",
      "TRAIN: 44 [3200/4038 (79%)]\tLoss: 1.074668, Accuracy: 6/8 (75.000%)\n",
      "VAL:   LOSS--> 0.2195 (0.2195)\tACC-->87.500 (87.500)\n",
      " * Accuracy 90.5899\n"
     ]
    },
    {
     "name": "stderr",
     "output_type": "stream",
     "text": [
      "\r",
      " 30%|███████████████████████████████████████████▏                                                                                                    | 45/150 [42:17<1:38:41, 56.39s/it]"
     ]
    },
    {
     "name": "stdout",
     "output_type": "stream",
     "text": [
      "TRAIN: LOSS-->0.9590 (0.9590)\tACC-->75.000% (75.000%)\n",
      "TRAIN: 45 [0/4038 (0%)]\tLoss: 0.959012, Accuracy: 6/8 (75.000%)\n",
      "TRAIN: LOSS-->0.3928 (0.8299)\tACC-->100.000% (73.570%)\n",
      "TRAIN: 45 [1600/4038 (40%)]\tLoss: 0.392820, Accuracy: 8/8 (100.000%)\n",
      "TRAIN: LOSS-->0.8720 (0.8303)\tACC-->50.000% (72.880%)\n",
      "TRAIN: 45 [3200/4038 (79%)]\tLoss: 0.871981, Accuracy: 4/8 (50.000%)\n",
      "VAL:   LOSS--> 0.3800 (0.3800)\tACC-->75.000 (75.000)\n",
      " * Accuracy 91.0112\n"
     ]
    },
    {
     "name": "stderr",
     "output_type": "stream",
     "text": [
      "\r",
      " 31%|████████████████████████████████████████████▏                                                                                                   | 46/150 [43:13<1:37:44, 56.39s/it]"
     ]
    },
    {
     "name": "stdout",
     "output_type": "stream",
     "text": [
      "TRAIN: LOSS-->0.3633 (0.3633)\tACC-->87.500% (87.500%)\n",
      "TRAIN: 46 [0/4038 (0%)]\tLoss: 0.363307, Accuracy: 7/8 (87.500%)\n",
      "TRAIN: LOSS-->0.9705 (0.8747)\tACC-->62.500% (70.896%)\n",
      "TRAIN: 46 [1600/4038 (40%)]\tLoss: 0.970499, Accuracy: 5/8 (62.500%)\n",
      "TRAIN: LOSS-->1.3779 (0.8733)\tACC-->50.000% (70.324%)\n",
      "TRAIN: 46 [3200/4038 (79%)]\tLoss: 1.377913, Accuracy: 4/8 (50.000%)\n",
      "VAL:   LOSS--> 0.2570 (0.2570)\tACC-->100.000 (100.000)\n",
      " * Accuracy 89.3258\n"
     ]
    },
    {
     "name": "stderr",
     "output_type": "stream",
     "text": [
      "\r",
      " 31%|█████████████████████████████████████████████                                                                                                   | 47/150 [44:09<1:36:47, 56.38s/it]"
     ]
    },
    {
     "name": "stdout",
     "output_type": "stream",
     "text": [
      "TRAIN: LOSS-->0.8147 (0.8147)\tACC-->62.500% (62.500%)\n",
      "TRAIN: 47 [0/4038 (0%)]\tLoss: 0.814742, Accuracy: 5/8 (62.500%)\n",
      "TRAIN: LOSS-->0.5447 (0.8572)\tACC-->87.500% (70.274%)\n",
      "TRAIN: 47 [1600/4038 (40%)]\tLoss: 0.544743, Accuracy: 7/8 (87.500%)\n",
      "TRAIN: LOSS-->0.7078 (0.8573)\tACC-->75.000% (70.792%)\n",
      "TRAIN: 47 [3200/4038 (79%)]\tLoss: 0.707777, Accuracy: 6/8 (75.000%)\n",
      "VAL:   LOSS--> 0.3565 (0.3565)\tACC-->75.000 (75.000)\n",
      " * Accuracy 86.3764\n"
     ]
    },
    {
     "name": "stderr",
     "output_type": "stream",
     "text": [
      "\r",
      " 32%|██████████████████████████████████████████████                                                                                                  | 48/150 [45:06<1:35:50, 56.38s/it]"
     ]
    },
    {
     "name": "stdout",
     "output_type": "stream",
     "text": [
      "TRAIN: LOSS-->0.8261 (0.8261)\tACC-->75.000% (75.000%)\n",
      "TRAIN: 48 [0/4038 (0%)]\tLoss: 0.826089, Accuracy: 6/8 (75.000%)\n",
      "TRAIN: LOSS-->0.8325 (0.8915)\tACC-->75.000% (69.527%)\n",
      "TRAIN: 48 [1600/4038 (40%)]\tLoss: 0.832455, Accuracy: 6/8 (75.000%)\n",
      "TRAIN: LOSS-->1.0865 (0.8608)\tACC-->62.500% (70.075%)\n",
      "TRAIN: 48 [3200/4038 (79%)]\tLoss: 1.086466, Accuracy: 5/8 (62.500%)\n",
      "VAL:   LOSS--> 0.3460 (0.3460)\tACC-->87.500 (87.500)\n",
      " * Accuracy 91.2921\n"
     ]
    },
    {
     "name": "stderr",
     "output_type": "stream",
     "text": [
      "\r",
      " 33%|███████████████████████████████████████████████                                                                                                 | 49/150 [46:02<1:34:53, 56.37s/it]"
     ]
    },
    {
     "name": "stdout",
     "output_type": "stream",
     "text": [
      "TRAIN: LOSS-->0.3046 (0.3046)\tACC-->100.000% (100.000%)\n",
      "TRAIN: 49 [0/4038 (0%)]\tLoss: 0.304644, Accuracy: 8/8 (100.000%)\n",
      "TRAIN: LOSS-->0.4704 (0.8029)\tACC-->87.500% (72.886%)\n",
      "TRAIN: 49 [1600/4038 (40%)]\tLoss: 0.470435, Accuracy: 7/8 (87.500%)\n",
      "TRAIN: LOSS-->0.6183 (0.8245)\tACC-->62.500% (72.382%)\n",
      "TRAIN: 49 [3200/4038 (79%)]\tLoss: 0.618302, Accuracy: 5/8 (62.500%)\n",
      "VAL:   LOSS--> 0.2204 (0.2204)\tACC-->87.500 (87.500)\n",
      " * Accuracy 90.4494\n"
     ]
    },
    {
     "name": "stderr",
     "output_type": "stream",
     "text": [
      "\r",
      " 33%|████████████████████████████████████████████████                                                                                                | 50/150 [46:58<1:33:56, 56.37s/it]"
     ]
    },
    {
     "name": "stdout",
     "output_type": "stream",
     "text": [
      "TRAIN: LOSS-->0.2199 (0.2199)\tACC-->100.000% (100.000%)\n",
      "TRAIN: 50 [0/4038 (0%)]\tLoss: 0.219898, Accuracy: 8/8 (100.000%)\n",
      "TRAIN: LOSS-->0.1705 (0.8190)\tACC-->100.000% (71.517%)\n",
      "TRAIN: 50 [1600/4038 (40%)]\tLoss: 0.170474, Accuracy: 8/8 (100.000%)\n",
      "TRAIN: LOSS-->0.5262 (0.8246)\tACC-->75.000% (70.979%)\n",
      "TRAIN: 50 [3200/4038 (79%)]\tLoss: 0.526172, Accuracy: 6/8 (75.000%)\n",
      "VAL:   LOSS--> 0.1806 (0.1806)\tACC-->100.000 (100.000)\n",
      " * Accuracy 91.5730\n"
     ]
    },
    {
     "name": "stderr",
     "output_type": "stream",
     "text": [
      "\r",
      " 34%|████████████████████████████████████████████████▉                                                                                               | 51/150 [47:54<1:32:59, 56.36s/it]"
     ]
    },
    {
     "name": "stdout",
     "output_type": "stream",
     "text": [
      "TRAIN: LOSS-->0.5670 (0.5670)\tACC-->87.500% (87.500%)\n",
      "TRAIN: 51 [0/4038 (0%)]\tLoss: 0.566951, Accuracy: 7/8 (87.500%)\n",
      "TRAIN: LOSS-->0.5534 (0.7995)\tACC-->75.000% (71.766%)\n",
      "TRAIN: 51 [1600/4038 (40%)]\tLoss: 0.553421, Accuracy: 6/8 (75.000%)\n",
      "TRAIN: LOSS-->0.5687 (0.8408)\tACC-->62.500% (71.322%)\n",
      "TRAIN: 51 [3200/4038 (79%)]\tLoss: 0.568706, Accuracy: 5/8 (62.500%)\n",
      "VAL:   LOSS--> 0.0131 (0.0131)\tACC-->100.000 (100.000)\n",
      " * Accuracy 92.4157\n"
     ]
    },
    {
     "name": "stderr",
     "output_type": "stream",
     "text": [
      "\r",
      " 35%|█████████████████████████████████████████████████▉                                                                                              | 52/150 [48:50<1:32:02, 56.36s/it]"
     ]
    },
    {
     "name": "stdout",
     "output_type": "stream",
     "text": [
      "TRAIN: LOSS-->1.0824 (1.0824)\tACC-->62.500% (62.500%)\n",
      "TRAIN: 52 [0/4038 (0%)]\tLoss: 1.082435, Accuracy: 5/8 (62.500%)\n",
      "TRAIN: LOSS-->0.3211 (0.8331)\tACC-->87.500% (72.326%)\n",
      "TRAIN: 52 [1600/4038 (40%)]\tLoss: 0.321071, Accuracy: 7/8 (87.500%)\n",
      "TRAIN: LOSS-->0.7234 (0.8279)\tACC-->75.000% (72.444%)\n",
      "TRAIN: 52 [3200/4038 (79%)]\tLoss: 0.723374, Accuracy: 6/8 (75.000%)\n",
      "VAL:   LOSS--> 0.1460 (0.1460)\tACC-->100.000 (100.000)\n",
      " * Accuracy 90.0281\n"
     ]
    },
    {
     "name": "stderr",
     "output_type": "stream",
     "text": [
      "\r",
      " 35%|██████████████████████████████████████████████████▉                                                                                             | 53/150 [49:46<1:31:05, 56.35s/it]"
     ]
    },
    {
     "name": "stdout",
     "output_type": "stream",
     "text": [
      "TRAIN: LOSS-->0.8146 (0.8146)\tACC-->87.500% (87.500%)\n",
      "TRAIN: 53 [0/4038 (0%)]\tLoss: 0.814612, Accuracy: 7/8 (87.500%)\n",
      "TRAIN: LOSS-->0.3412 (0.8148)\tACC-->87.500% (72.015%)\n",
      "TRAIN: 53 [1600/4038 (40%)]\tLoss: 0.341212, Accuracy: 7/8 (87.500%)\n",
      "TRAIN: LOSS-->0.9748 (0.8274)\tACC-->75.000% (72.132%)\n",
      "TRAIN: 53 [3200/4038 (79%)]\tLoss: 0.974833, Accuracy: 6/8 (75.000%)\n",
      "VAL:   LOSS--> 0.5482 (0.5482)\tACC-->75.000 (75.000)\n",
      " * Accuracy 87.9213\n"
     ]
    },
    {
     "name": "stderr",
     "output_type": "stream",
     "text": [
      "\r",
      " 36%|███████████████████████████████████████████████████▊                                                                                            | 54/150 [50:42<1:30:09, 56.34s/it]"
     ]
    },
    {
     "name": "stdout",
     "output_type": "stream",
     "text": [
      "TRAIN: LOSS-->1.3690 (1.3690)\tACC-->75.000% (75.000%)\n",
      "TRAIN: 54 [0/4038 (0%)]\tLoss: 1.368964, Accuracy: 6/8 (75.000%)\n",
      "TRAIN: LOSS-->0.9519 (0.8232)\tACC-->62.500% (71.455%)\n",
      "TRAIN: 54 [1600/4038 (40%)]\tLoss: 0.951921, Accuracy: 5/8 (62.500%)\n",
      "TRAIN: LOSS-->0.5366 (0.8129)\tACC-->87.500% (71.696%)\n",
      "TRAIN: 54 [3200/4038 (79%)]\tLoss: 0.536557, Accuracy: 7/8 (87.500%)\n",
      "VAL:   LOSS--> 0.9524 (0.9524)\tACC-->75.000 (75.000)\n",
      " * Accuracy 89.4663\n"
     ]
    },
    {
     "name": "stderr",
     "output_type": "stream",
     "text": [
      "\r",
      " 37%|████████████████████████████████████████████████████▊                                                                                           | 55/150 [51:38<1:29:12, 56.34s/it]"
     ]
    },
    {
     "name": "stdout",
     "output_type": "stream",
     "text": [
      "TRAIN: LOSS-->0.8911 (0.8911)\tACC-->62.500% (62.500%)\n",
      "TRAIN: 55 [0/4038 (0%)]\tLoss: 0.891127, Accuracy: 5/8 (62.500%)\n",
      "TRAIN: LOSS-->0.1903 (0.7991)\tACC-->100.000% (71.828%)\n",
      "TRAIN: 55 [1600/4038 (40%)]\tLoss: 0.190291, Accuracy: 8/8 (100.000%)\n",
      "TRAIN: LOSS-->0.6829 (0.8154)\tACC-->75.000% (72.070%)\n",
      "TRAIN: 55 [3200/4038 (79%)]\tLoss: 0.682880, Accuracy: 6/8 (75.000%)\n",
      "VAL:   LOSS--> 0.6150 (0.6150)\tACC-->75.000 (75.000)\n",
      " * Accuracy 91.5730\n"
     ]
    },
    {
     "name": "stderr",
     "output_type": "stream",
     "text": [
      "\r",
      " 37%|█████████████████████████████████████████████████████▊                                                                                          | 56/150 [52:34<1:28:15, 56.34s/it]"
     ]
    },
    {
     "name": "stdout",
     "output_type": "stream",
     "text": [
      "TRAIN: LOSS-->0.4007 (0.4007)\tACC-->87.500% (87.500%)\n",
      "TRAIN: 56 [0/4038 (0%)]\tLoss: 0.400745, Accuracy: 7/8 (87.500%)\n",
      "TRAIN: LOSS-->1.8020 (0.7939)\tACC-->75.000% (72.326%)\n",
      "TRAIN: 56 [1600/4038 (40%)]\tLoss: 1.802005, Accuracy: 6/8 (75.000%)\n",
      "TRAIN: LOSS-->0.6456 (0.8018)\tACC-->87.500% (72.849%)\n",
      "TRAIN: 56 [3200/4038 (79%)]\tLoss: 0.645626, Accuracy: 7/8 (87.500%)\n",
      "VAL:   LOSS--> 0.0420 (0.0420)\tACC-->100.000 (100.000)\n",
      " * Accuracy 89.1854\n"
     ]
    },
    {
     "name": "stderr",
     "output_type": "stream",
     "text": [
      "\r",
      " 38%|██████████████████████████████████████████████████████▋                                                                                         | 57/150 [53:30<1:27:18, 56.33s/it]"
     ]
    },
    {
     "name": "stdout",
     "output_type": "stream",
     "text": [
      "TRAIN: LOSS-->1.7161 (1.7161)\tACC-->75.000% (75.000%)\n",
      "TRAIN: 57 [0/4038 (0%)]\tLoss: 1.716137, Accuracy: 6/8 (75.000%)\n",
      "TRAIN: LOSS-->0.9171 (0.7871)\tACC-->75.000% (73.072%)\n",
      "TRAIN: 57 [1600/4038 (40%)]\tLoss: 0.917066, Accuracy: 6/8 (75.000%)\n",
      "TRAIN: LOSS-->1.3633 (0.8072)\tACC-->62.500% (73.036%)\n",
      "TRAIN: 57 [3200/4038 (79%)]\tLoss: 1.363256, Accuracy: 5/8 (62.500%)\n",
      "VAL:   LOSS--> 0.0806 (0.0806)\tACC-->100.000 (100.000)\n",
      " * Accuracy 90.0281\n"
     ]
    },
    {
     "name": "stderr",
     "output_type": "stream",
     "text": [
      "\r",
      " 39%|███████████████████████████████████████████████████████▋                                                                                        | 58/150 [54:26<1:26:21, 56.33s/it]"
     ]
    },
    {
     "name": "stdout",
     "output_type": "stream",
     "text": [
      "TRAIN: LOSS-->1.7938 (1.7938)\tACC-->25.000% (25.000%)\n",
      "TRAIN: 58 [0/4038 (0%)]\tLoss: 1.793836, Accuracy: 2/8 (25.000%)\n",
      "TRAIN: LOSS-->0.4825 (0.8238)\tACC-->75.000% (70.585%)\n",
      "TRAIN: 58 [1600/4038 (40%)]\tLoss: 0.482478, Accuracy: 6/8 (75.000%)\n",
      "TRAIN: LOSS-->0.6300 (0.7993)\tACC-->75.000% (71.914%)\n",
      "TRAIN: 58 [3200/4038 (79%)]\tLoss: 0.630043, Accuracy: 6/8 (75.000%)\n",
      "VAL:   LOSS--> 0.2949 (0.2949)\tACC-->87.500 (87.500)\n",
      " * Accuracy 88.2022\n"
     ]
    },
    {
     "name": "stderr",
     "output_type": "stream",
     "text": [
      "\r",
      " 39%|████████████████████████████████████████████████████████▋                                                                                       | 59/150 [55:22<1:25:25, 56.32s/it]"
     ]
    },
    {
     "name": "stdout",
     "output_type": "stream",
     "text": [
      "TRAIN: LOSS-->0.6144 (0.6144)\tACC-->87.500% (87.500%)\n",
      "TRAIN: 59 [0/4038 (0%)]\tLoss: 0.614378, Accuracy: 7/8 (87.500%)\n",
      "TRAIN: LOSS-->0.5205 (0.8071)\tACC-->87.500% (72.948%)\n",
      "TRAIN: 59 [1600/4038 (40%)]\tLoss: 0.520465, Accuracy: 7/8 (87.500%)\n",
      "TRAIN: LOSS-->0.7533 (0.8024)\tACC-->62.500% (73.223%)\n",
      "TRAIN: 59 [3200/4038 (79%)]\tLoss: 0.753274, Accuracy: 5/8 (62.500%)\n",
      "VAL:   LOSS--> 0.1756 (0.1756)\tACC-->100.000 (100.000)\n",
      " * Accuracy 87.6404\n"
     ]
    },
    {
     "name": "stderr",
     "output_type": "stream",
     "text": [
      "\r",
      " 40%|█████████████████████████████████████████████████████████▌                                                                                      | 60/150 [56:18<1:24:28, 56.32s/it]"
     ]
    },
    {
     "name": "stdout",
     "output_type": "stream",
     "text": [
      "TRAIN: LOSS-->0.6731 (0.6731)\tACC-->62.500% (62.500%)\n",
      "TRAIN: 60 [0/4038 (0%)]\tLoss: 0.673123, Accuracy: 5/8 (62.500%)\n",
      "TRAIN: LOSS-->1.2488 (0.7880)\tACC-->62.500% (73.694%)\n",
      "TRAIN: 60 [1600/4038 (40%)]\tLoss: 1.248761, Accuracy: 5/8 (62.500%)\n",
      "TRAIN: LOSS-->0.9106 (0.7721)\tACC-->75.000% (73.878%)\n",
      "TRAIN: 60 [3200/4038 (79%)]\tLoss: 0.910623, Accuracy: 6/8 (75.000%)\n",
      "VAL:   LOSS--> 0.0942 (0.0942)\tACC-->100.000 (100.000)\n",
      " * Accuracy 92.4157\n"
     ]
    },
    {
     "name": "stderr",
     "output_type": "stream",
     "text": [
      "\r",
      " 41%|██████████████████████████████████████████████████████████▌                                                                                     | 61/150 [57:15<1:23:31, 56.31s/it]"
     ]
    },
    {
     "name": "stdout",
     "output_type": "stream",
     "text": [
      "TRAIN: LOSS-->0.5319 (0.5319)\tACC-->62.500% (62.500%)\n",
      "TRAIN: 61 [0/4038 (0%)]\tLoss: 0.531947, Accuracy: 5/8 (62.500%)\n",
      "TRAIN: LOSS-->0.8920 (0.7877)\tACC-->62.500% (73.072%)\n",
      "TRAIN: 61 [1600/4038 (40%)]\tLoss: 0.892049, Accuracy: 5/8 (62.500%)\n",
      "TRAIN: LOSS-->0.7218 (0.7788)\tACC-->75.000% (73.410%)\n",
      "TRAIN: 61 [3200/4038 (79%)]\tLoss: 0.721760, Accuracy: 6/8 (75.000%)\n",
      "VAL:   LOSS--> 0.1325 (0.1325)\tACC-->100.000 (100.000)\n",
      " * Accuracy 89.7472\n"
     ]
    },
    {
     "name": "stderr",
     "output_type": "stream",
     "text": [
      "\r",
      " 41%|███████████████████████████████████████████████████████████▌                                                                                    | 62/150 [58:11<1:22:35, 56.31s/it]"
     ]
    },
    {
     "name": "stdout",
     "output_type": "stream",
     "text": [
      "TRAIN: LOSS-->0.2544 (0.2544)\tACC-->87.500% (87.500%)\n",
      "TRAIN: 62 [0/4038 (0%)]\tLoss: 0.254393, Accuracy: 7/8 (87.500%)\n",
      "TRAIN: LOSS-->0.5877 (0.7777)\tACC-->87.500% (74.005%)\n",
      "TRAIN: 62 [1600/4038 (40%)]\tLoss: 0.587678, Accuracy: 7/8 (87.500%)\n",
      "TRAIN: LOSS-->0.3922 (0.7945)\tACC-->87.500% (73.317%)\n",
      "TRAIN: 62 [3200/4038 (79%)]\tLoss: 0.392156, Accuracy: 7/8 (87.500%)\n",
      "VAL:   LOSS--> 0.1417 (0.1417)\tACC-->100.000 (100.000)\n",
      " * Accuracy 89.4663\n"
     ]
    },
    {
     "name": "stderr",
     "output_type": "stream",
     "text": [
      "\r",
      " 42%|████████████████████████████████████████████████████████████▍                                                                                   | 63/150 [59:07<1:21:38, 56.31s/it]"
     ]
    },
    {
     "name": "stdout",
     "output_type": "stream",
     "text": [
      "TRAIN: LOSS-->0.9730 (0.9730)\tACC-->62.500% (62.500%)\n",
      "TRAIN: 63 [0/4038 (0%)]\tLoss: 0.973021, Accuracy: 5/8 (62.500%)\n",
      "TRAIN: LOSS-->0.5962 (0.7874)\tACC-->75.000% (72.575%)\n",
      "TRAIN: 63 [1600/4038 (40%)]\tLoss: 0.596162, Accuracy: 6/8 (75.000%)\n",
      "TRAIN: LOSS-->1.3692 (0.7841)\tACC-->62.500% (73.161%)\n",
      "TRAIN: 63 [3200/4038 (79%)]\tLoss: 1.369185, Accuracy: 5/8 (62.500%)\n",
      "VAL:   LOSS--> 0.0447 (0.0447)\tACC-->100.000 (100.000)\n",
      " * Accuracy 91.1517\n"
     ]
    },
    {
     "name": "stderr",
     "output_type": "stream",
     "text": [
      "\r",
      " 43%|████████████████████████████████████████████████████████████▌                                                                                 | 64/150 [1:00:03<1:20:42, 56.30s/it]"
     ]
    },
    {
     "name": "stdout",
     "output_type": "stream",
     "text": [
      "TRAIN: LOSS-->0.6366 (0.6366)\tACC-->75.000% (75.000%)\n",
      "TRAIN: 64 [0/4038 (0%)]\tLoss: 0.636553, Accuracy: 6/8 (75.000%)\n",
      "TRAIN: LOSS-->1.5019 (0.7344)\tACC-->50.000% (75.311%)\n",
      "TRAIN: 64 [1600/4038 (40%)]\tLoss: 1.501929, Accuracy: 4/8 (50.000%)\n",
      "TRAIN: LOSS-->0.7191 (0.7444)\tACC-->87.500% (74.813%)\n",
      "TRAIN: 64 [3200/4038 (79%)]\tLoss: 0.719058, Accuracy: 7/8 (87.500%)\n",
      "VAL:   LOSS--> 0.0964 (0.0964)\tACC-->100.000 (100.000)\n",
      " * Accuracy 91.4326\n"
     ]
    },
    {
     "name": "stderr",
     "output_type": "stream",
     "text": [
      "\r",
      " 43%|█████████████████████████████████████████████████████████████▌                                                                                | 65/150 [1:00:59<1:19:45, 56.30s/it]"
     ]
    },
    {
     "name": "stdout",
     "output_type": "stream",
     "text": [
      "TRAIN: LOSS-->1.7516 (1.7516)\tACC-->75.000% (75.000%)\n",
      "TRAIN: 65 [0/4038 (0%)]\tLoss: 1.751610, Accuracy: 6/8 (75.000%)\n",
      "TRAIN: LOSS-->0.5688 (0.7872)\tACC-->75.000% (73.010%)\n",
      "TRAIN: 65 [1600/4038 (40%)]\tLoss: 0.568828, Accuracy: 6/8 (75.000%)\n",
      "TRAIN: LOSS-->1.3477 (0.7497)\tACC-->62.500% (73.784%)\n",
      "TRAIN: 65 [3200/4038 (79%)]\tLoss: 1.347692, Accuracy: 5/8 (62.500%)\n",
      "VAL:   LOSS--> 0.1309 (0.1309)\tACC-->100.000 (100.000)\n",
      " * Accuracy 92.6966\n"
     ]
    },
    {
     "name": "stderr",
     "output_type": "stream",
     "text": [
      "\r",
      " 44%|██████████████████████████████████████████████████████████████▍                                                                               | 66/150 [1:01:55<1:18:48, 56.29s/it]"
     ]
    },
    {
     "name": "stdout",
     "output_type": "stream",
     "text": [
      "TRAIN: LOSS-->0.9334 (0.9334)\tACC-->62.500% (62.500%)\n",
      "TRAIN: 66 [0/4038 (0%)]\tLoss: 0.933403, Accuracy: 5/8 (62.500%)\n",
      "TRAIN: LOSS-->1.1326 (0.7467)\tACC-->62.500% (74.751%)\n",
      "TRAIN: 66 [1600/4038 (40%)]\tLoss: 1.132551, Accuracy: 5/8 (62.500%)\n",
      "TRAIN: LOSS-->0.6455 (0.7544)\tACC-->75.000% (74.345%)\n",
      "TRAIN: 66 [3200/4038 (79%)]\tLoss: 0.645460, Accuracy: 6/8 (75.000%)\n",
      "VAL:   LOSS--> 0.1841 (0.1841)\tACC-->100.000 (100.000)\n",
      " * Accuracy 91.2921\n"
     ]
    },
    {
     "name": "stderr",
     "output_type": "stream",
     "text": [
      "\r",
      " 45%|███████████████████████████████████████████████████████████████▍                                                                              | 67/150 [1:02:51<1:17:52, 56.29s/it]"
     ]
    },
    {
     "name": "stdout",
     "output_type": "stream",
     "text": [
      "TRAIN: LOSS-->0.3920 (0.3920)\tACC-->87.500% (87.500%)\n",
      "TRAIN: 67 [0/4038 (0%)]\tLoss: 0.391993, Accuracy: 7/8 (87.500%)\n",
      "TRAIN: LOSS-->0.9291 (0.7644)\tACC-->50.000% (73.632%)\n",
      "TRAIN: 67 [1600/4038 (40%)]\tLoss: 0.929085, Accuracy: 4/8 (50.000%)\n",
      "TRAIN: LOSS-->0.9286 (0.7307)\tACC-->75.000% (75.249%)\n",
      "TRAIN: 67 [3200/4038 (79%)]\tLoss: 0.928634, Accuracy: 6/8 (75.000%)\n",
      "VAL:   LOSS--> 0.2971 (0.2971)\tACC-->87.500 (87.500)\n",
      " * Accuracy 88.9045\n"
     ]
    },
    {
     "name": "stderr",
     "output_type": "stream",
     "text": [
      "\r",
      " 45%|████████████████████████████████████████████████████████████████▎                                                                             | 68/150 [1:03:47<1:16:55, 56.29s/it]"
     ]
    },
    {
     "name": "stdout",
     "output_type": "stream",
     "text": [
      "TRAIN: LOSS-->0.7604 (0.7604)\tACC-->75.000% (75.000%)\n",
      "TRAIN: 68 [0/4038 (0%)]\tLoss: 0.760424, Accuracy: 6/8 (75.000%)\n",
      "TRAIN: LOSS-->0.5556 (0.7879)\tACC-->87.500% (72.388%)\n",
      "TRAIN: 68 [1600/4038 (40%)]\tLoss: 0.555590, Accuracy: 7/8 (87.500%)\n",
      "TRAIN: LOSS-->0.8845 (0.7688)\tACC-->62.500% (72.880%)\n",
      "TRAIN: 68 [3200/4038 (79%)]\tLoss: 0.884534, Accuracy: 5/8 (62.500%)\n",
      "VAL:   LOSS--> 0.2014 (0.2014)\tACC-->87.500 (87.500)\n",
      " * Accuracy 88.2022\n"
     ]
    },
    {
     "name": "stderr",
     "output_type": "stream",
     "text": [
      "\r",
      " 46%|█████████████████████████████████████████████████████████████████▎                                                                            | 69/150 [1:04:43<1:15:59, 56.29s/it]"
     ]
    },
    {
     "name": "stdout",
     "output_type": "stream",
     "text": [
      "TRAIN: LOSS-->0.8028 (0.8028)\tACC-->75.000% (75.000%)\n",
      "TRAIN: 69 [0/4038 (0%)]\tLoss: 0.802759, Accuracy: 6/8 (75.000%)\n",
      "TRAIN: LOSS-->1.4301 (0.7842)\tACC-->62.500% (73.072%)\n",
      "TRAIN: 69 [1600/4038 (40%)]\tLoss: 1.430095, Accuracy: 5/8 (62.500%)\n",
      "TRAIN: LOSS-->0.2504 (0.7717)\tACC-->100.000% (73.909%)\n",
      "TRAIN: 69 [3200/4038 (79%)]\tLoss: 0.250361, Accuracy: 8/8 (100.000%)\n",
      "VAL:   LOSS--> 0.6432 (0.6432)\tACC-->75.000 (75.000)\n",
      " * Accuracy 91.2921\n"
     ]
    },
    {
     "name": "stderr",
     "output_type": "stream",
     "text": [
      "\r",
      " 47%|██████████████████████████████████████████████████████████████████▎                                                                           | 70/150 [1:05:39<1:15:02, 56.28s/it]"
     ]
    },
    {
     "name": "stdout",
     "output_type": "stream",
     "text": [
      "TRAIN: LOSS-->0.8776 (0.8776)\tACC-->62.500% (62.500%)\n",
      "TRAIN: 70 [0/4038 (0%)]\tLoss: 0.877639, Accuracy: 5/8 (62.500%)\n",
      "TRAIN: LOSS-->0.6364 (0.7164)\tACC-->75.000% (74.876%)\n",
      "TRAIN: 70 [1600/4038 (40%)]\tLoss: 0.636430, Accuracy: 6/8 (75.000%)\n",
      "TRAIN: LOSS-->1.1775 (0.7216)\tACC-->50.000% (74.875%)\n",
      "TRAIN: 70 [3200/4038 (79%)]\tLoss: 1.177534, Accuracy: 4/8 (50.000%)\n",
      "VAL:   LOSS--> 0.2242 (0.2242)\tACC-->87.500 (87.500)\n",
      " * Accuracy 89.6067\n"
     ]
    },
    {
     "name": "stderr",
     "output_type": "stream",
     "text": [
      "\r",
      " 47%|███████████████████████████████████████████████████████████████████▏                                                                          | 71/150 [1:06:35<1:14:06, 56.28s/it]"
     ]
    },
    {
     "name": "stdout",
     "output_type": "stream",
     "text": [
      "TRAIN: LOSS-->0.6708 (0.6708)\tACC-->75.000% (75.000%)\n",
      "TRAIN: 71 [0/4038 (0%)]\tLoss: 0.670837, Accuracy: 6/8 (75.000%)\n",
      "TRAIN: LOSS-->0.5226 (0.7457)\tACC-->87.500% (74.067%)\n",
      "TRAIN: 71 [1600/4038 (40%)]\tLoss: 0.522581, Accuracy: 7/8 (87.500%)\n",
      "TRAIN: LOSS-->1.4518 (0.7540)\tACC-->50.000% (73.722%)\n",
      "TRAIN: 71 [3200/4038 (79%)]\tLoss: 1.451832, Accuracy: 4/8 (50.000%)\n",
      "VAL:   LOSS--> 0.2384 (0.2384)\tACC-->87.500 (87.500)\n",
      " * Accuracy 90.4494\n"
     ]
    },
    {
     "name": "stderr",
     "output_type": "stream",
     "text": [
      "\r",
      " 48%|████████████████████████████████████████████████████████████████████▏                                                                         | 72/150 [1:07:31<1:13:09, 56.28s/it]"
     ]
    },
    {
     "name": "stdout",
     "output_type": "stream",
     "text": [
      "TRAIN: LOSS-->0.5879 (0.5879)\tACC-->87.500% (87.500%)\n",
      "TRAIN: 72 [0/4038 (0%)]\tLoss: 0.587885, Accuracy: 7/8 (87.500%)\n",
      "TRAIN: LOSS-->0.8063 (0.7033)\tACC-->62.500% (76.430%)\n",
      "TRAIN: 72 [1600/4038 (40%)]\tLoss: 0.806313, Accuracy: 5/8 (62.500%)\n",
      "TRAIN: LOSS-->0.2187 (0.7085)\tACC-->100.000% (76.153%)\n",
      "TRAIN: 72 [3200/4038 (79%)]\tLoss: 0.218692, Accuracy: 8/8 (100.000%)\n",
      "VAL:   LOSS--> 0.0827 (0.0827)\tACC-->100.000 (100.000)\n",
      " * Accuracy 89.3258\n"
     ]
    },
    {
     "name": "stderr",
     "output_type": "stream",
     "text": [
      "\r",
      " 49%|█████████████████████████████████████████████████████████████████████                                                                         | 73/150 [1:08:27<1:12:12, 56.27s/it]"
     ]
    },
    {
     "name": "stdout",
     "output_type": "stream",
     "text": [
      "TRAIN: LOSS-->0.4145 (0.4145)\tACC-->75.000% (75.000%)\n",
      "TRAIN: 73 [0/4038 (0%)]\tLoss: 0.414475, Accuracy: 6/8 (75.000%)\n",
      "TRAIN: LOSS-->0.5960 (0.7472)\tACC-->75.000% (73.445%)\n",
      "TRAIN: 73 [1600/4038 (40%)]\tLoss: 0.595966, Accuracy: 6/8 (75.000%)\n",
      "TRAIN: LOSS-->0.3771 (0.7382)\tACC-->87.500% (73.878%)\n",
      "TRAIN: 73 [3200/4038 (79%)]\tLoss: 0.377080, Accuracy: 7/8 (87.500%)\n",
      "VAL:   LOSS--> 0.1286 (0.1286)\tACC-->87.500 (87.500)\n",
      " * Accuracy 88.4831\n"
     ]
    },
    {
     "name": "stderr",
     "output_type": "stream",
     "text": [
      "\r",
      " 49%|██████████████████████████████████████████████████████████████████████                                                                        | 74/150 [1:09:24<1:11:16, 56.27s/it]"
     ]
    },
    {
     "name": "stdout",
     "output_type": "stream",
     "text": [
      "TRAIN: LOSS-->0.3037 (0.3037)\tACC-->87.500% (87.500%)\n",
      "TRAIN: 74 [0/4038 (0%)]\tLoss: 0.303693, Accuracy: 7/8 (87.500%)\n",
      "TRAIN: LOSS-->1.2206 (0.7246)\tACC-->62.500% (75.746%)\n",
      "TRAIN: 74 [1600/4038 (40%)]\tLoss: 1.220645, Accuracy: 5/8 (62.500%)\n",
      "TRAIN: LOSS-->0.2895 (0.7506)\tACC-->87.500% (74.314%)\n",
      "TRAIN: 74 [3200/4038 (79%)]\tLoss: 0.289470, Accuracy: 7/8 (87.500%)\n",
      "VAL:   LOSS--> 0.2461 (0.2461)\tACC-->100.000 (100.000)\n",
      " * Accuracy 91.2921\n"
     ]
    },
    {
     "name": "stderr",
     "output_type": "stream",
     "text": [
      "\r",
      " 50%|███████████████████████████████████████████████████████████████████████                                                                       | 75/150 [1:10:20<1:10:20, 56.27s/it]"
     ]
    },
    {
     "name": "stdout",
     "output_type": "stream",
     "text": [
      "TRAIN: LOSS-->0.4704 (0.4704)\tACC-->87.500% (87.500%)\n",
      "TRAIN: 75 [0/4038 (0%)]\tLoss: 0.470445, Accuracy: 7/8 (87.500%)\n",
      "TRAIN: LOSS-->1.5483 (0.7654)\tACC-->62.500% (74.316%)\n",
      "TRAIN: 75 [1600/4038 (40%)]\tLoss: 1.548285, Accuracy: 5/8 (62.500%)\n",
      "TRAIN: LOSS-->0.7103 (0.7306)\tACC-->62.500% (75.343%)\n",
      "TRAIN: 75 [3200/4038 (79%)]\tLoss: 0.710307, Accuracy: 5/8 (62.500%)\n",
      "VAL:   LOSS--> 0.0730 (0.0730)\tACC-->100.000 (100.000)\n",
      " * Accuracy 91.4326\n"
     ]
    },
    {
     "name": "stderr",
     "output_type": "stream",
     "text": [
      "\r",
      " 51%|███████████████████████████████████████████████████████████████████████▉                                                                      | 76/150 [1:11:16<1:09:23, 56.27s/it]"
     ]
    },
    {
     "name": "stdout",
     "output_type": "stream",
     "text": [
      "TRAIN: LOSS-->0.9867 (0.9867)\tACC-->50.000% (50.000%)\n",
      "TRAIN: 76 [0/4038 (0%)]\tLoss: 0.986748, Accuracy: 4/8 (50.000%)\n",
      "TRAIN: LOSS-->1.5025 (0.6993)\tACC-->75.000% (76.182%)\n",
      "TRAIN: 76 [1600/4038 (40%)]\tLoss: 1.502534, Accuracy: 6/8 (75.000%)\n",
      "TRAIN: LOSS-->0.5804 (0.7139)\tACC-->62.500% (75.125%)\n",
      "TRAIN: 76 [3200/4038 (79%)]\tLoss: 0.580392, Accuracy: 5/8 (62.500%)\n",
      "VAL:   LOSS--> 0.0271 (0.0271)\tACC-->100.000 (100.000)\n",
      " * Accuracy 92.2753\n"
     ]
    },
    {
     "name": "stderr",
     "output_type": "stream",
     "text": [
      "\r",
      " 51%|████████████████████████████████████████████████████████████████████████▉                                                                     | 77/150 [1:12:12<1:08:27, 56.26s/it]"
     ]
    },
    {
     "name": "stdout",
     "output_type": "stream",
     "text": [
      "TRAIN: LOSS-->0.9516 (0.9516)\tACC-->62.500% (62.500%)\n",
      "TRAIN: 77 [0/4038 (0%)]\tLoss: 0.951625, Accuracy: 5/8 (62.500%)\n",
      "TRAIN: LOSS-->0.8819 (0.7555)\tACC-->62.500% (74.378%)\n",
      "TRAIN: 77 [1600/4038 (40%)]\tLoss: 0.881904, Accuracy: 5/8 (62.500%)\n",
      "TRAIN: LOSS-->1.2664 (0.7302)\tACC-->50.000% (76.122%)\n",
      "TRAIN: 77 [3200/4038 (79%)]\tLoss: 1.266386, Accuracy: 4/8 (50.000%)\n",
      "VAL:   LOSS--> 0.5494 (0.5494)\tACC-->87.500 (87.500)\n",
      " * Accuracy 91.9944\n"
     ]
    },
    {
     "name": "stderr",
     "output_type": "stream",
     "text": [
      "\r",
      " 52%|█████████████████████████████████████████████████████████████████████████▊                                                                    | 78/150 [1:13:08<1:07:30, 56.26s/it]"
     ]
    },
    {
     "name": "stdout",
     "output_type": "stream",
     "text": [
      "TRAIN: LOSS-->0.8677 (0.8677)\tACC-->75.000% (75.000%)\n",
      "TRAIN: 78 [0/4038 (0%)]\tLoss: 0.867654, Accuracy: 6/8 (75.000%)\n",
      "TRAIN: LOSS-->0.5916 (0.6898)\tACC-->87.500% (76.306%)\n",
      "TRAIN: 78 [1600/4038 (40%)]\tLoss: 0.591609, Accuracy: 7/8 (87.500%)\n",
      "TRAIN: LOSS-->0.9417 (0.6987)\tACC-->50.000% (76.278%)\n",
      "TRAIN: 78 [3200/4038 (79%)]\tLoss: 0.941669, Accuracy: 4/8 (50.000%)\n",
      "VAL:   LOSS--> 0.0337 (0.0337)\tACC-->100.000 (100.000)\n",
      " * Accuracy 93.9607\n"
     ]
    },
    {
     "name": "stderr",
     "output_type": "stream",
     "text": [
      "\r",
      " 53%|██████████████████████████████████████████████████████████████████████████▊                                                                   | 79/150 [1:14:05<1:06:34, 56.27s/it]"
     ]
    },
    {
     "name": "stdout",
     "output_type": "stream",
     "text": [
      "TRAIN: LOSS-->0.8508 (0.8508)\tACC-->75.000% (75.000%)\n",
      "TRAIN: 79 [0/4038 (0%)]\tLoss: 0.850849, Accuracy: 6/8 (75.000%)\n",
      "TRAIN: LOSS-->0.5262 (0.7592)\tACC-->87.500% (73.445%)\n",
      "TRAIN: 79 [1600/4038 (40%)]\tLoss: 0.526222, Accuracy: 7/8 (87.500%)\n",
      "TRAIN: LOSS-->0.9397 (0.7304)\tACC-->62.500% (74.657%)\n",
      "TRAIN: 79 [3200/4038 (79%)]\tLoss: 0.939693, Accuracy: 5/8 (62.500%)\n",
      "VAL:   LOSS--> 0.6606 (0.6606)\tACC-->75.000 (75.000)\n",
      " * Accuracy 91.2921\n"
     ]
    },
    {
     "name": "stderr",
     "output_type": "stream",
     "text": [
      "\r",
      " 53%|███████████████████████████████████████████████████████████████████████████▋                                                                  | 80/150 [1:15:01<1:05:38, 56.27s/it]"
     ]
    },
    {
     "name": "stdout",
     "output_type": "stream",
     "text": [
      "TRAIN: LOSS-->1.3558 (1.3558)\tACC-->62.500% (62.500%)\n",
      "TRAIN: 80 [0/4038 (0%)]\tLoss: 1.355764, Accuracy: 5/8 (62.500%)\n",
      "TRAIN: LOSS-->0.5996 (0.7022)\tACC-->87.500% (75.000%)\n",
      "TRAIN: 80 [1600/4038 (40%)]\tLoss: 0.599613, Accuracy: 7/8 (87.500%)\n",
      "TRAIN: LOSS-->0.5897 (0.7155)\tACC-->87.500% (74.688%)\n",
      "TRAIN: 80 [3200/4038 (79%)]\tLoss: 0.589654, Accuracy: 7/8 (87.500%)\n",
      "VAL:   LOSS--> 0.0550 (0.0550)\tACC-->100.000 (100.000)\n",
      " * Accuracy 93.3989\n"
     ]
    },
    {
     "name": "stderr",
     "output_type": "stream",
     "text": [
      "\r",
      " 54%|████████████████████████████████████████████████████████████████████████████▋                                                                 | 81/150 [1:15:57<1:04:42, 56.27s/it]"
     ]
    },
    {
     "name": "stdout",
     "output_type": "stream",
     "text": [
      "TRAIN: LOSS-->0.3816 (0.3816)\tACC-->87.500% (87.500%)\n",
      "TRAIN: 81 [0/4038 (0%)]\tLoss: 0.381559, Accuracy: 7/8 (87.500%)\n",
      "TRAIN: LOSS-->1.0425 (0.6980)\tACC-->75.000% (75.498%)\n",
      "TRAIN: 81 [1600/4038 (40%)]\tLoss: 1.042532, Accuracy: 6/8 (75.000%)\n",
      "TRAIN: LOSS-->0.8732 (0.6856)\tACC-->75.000% (76.216%)\n",
      "TRAIN: 81 [3200/4038 (79%)]\tLoss: 0.873194, Accuracy: 6/8 (75.000%)\n",
      "VAL:   LOSS--> 0.4744 (0.4744)\tACC-->87.500 (87.500)\n",
      " * Accuracy 94.1011\n"
     ]
    },
    {
     "name": "stderr",
     "output_type": "stream",
     "text": [
      "\r",
      " 55%|█████████████████████████████████████████████████████████████████████████████▋                                                                | 82/150 [1:16:53<1:03:45, 56.26s/it]"
     ]
    },
    {
     "name": "stdout",
     "output_type": "stream",
     "text": [
      "TRAIN: LOSS-->0.3435 (0.3435)\tACC-->75.000% (75.000%)\n",
      "TRAIN: 82 [0/4038 (0%)]\tLoss: 0.343526, Accuracy: 6/8 (75.000%)\n",
      "TRAIN: LOSS-->1.1028 (0.6903)\tACC-->50.000% (76.119%)\n",
      "TRAIN: 82 [1600/4038 (40%)]\tLoss: 1.102816, Accuracy: 4/8 (50.000%)\n",
      "TRAIN: LOSS-->0.7188 (0.6969)\tACC-->62.500% (76.247%)\n",
      "TRAIN: 82 [3200/4038 (79%)]\tLoss: 0.718781, Accuracy: 5/8 (62.500%)\n",
      "VAL:   LOSS--> 0.1349 (0.1349)\tACC-->100.000 (100.000)\n",
      " * Accuracy 93.2584\n"
     ]
    },
    {
     "name": "stderr",
     "output_type": "stream",
     "text": [
      "\r",
      " 55%|██████████████████████████████████████████████████████████████████████████████▌                                                               | 83/150 [1:17:49<1:02:49, 56.26s/it]"
     ]
    },
    {
     "name": "stdout",
     "output_type": "stream",
     "text": [
      "TRAIN: LOSS-->0.1757 (0.1757)\tACC-->87.500% (87.500%)\n",
      "TRAIN: 83 [0/4038 (0%)]\tLoss: 0.175741, Accuracy: 7/8 (87.500%)\n",
      "TRAIN: LOSS-->0.9059 (0.7393)\tACC-->75.000% (74.254%)\n",
      "TRAIN: 83 [1600/4038 (40%)]\tLoss: 0.905891, Accuracy: 6/8 (75.000%)\n",
      "TRAIN: LOSS-->0.3676 (0.7014)\tACC-->87.500% (75.935%)\n",
      "TRAIN: 83 [3200/4038 (79%)]\tLoss: 0.367620, Accuracy: 7/8 (87.500%)\n",
      "VAL:   LOSS--> 0.0527 (0.0527)\tACC-->100.000 (100.000)\n",
      " * Accuracy 92.9775\n"
     ]
    },
    {
     "name": "stderr",
     "output_type": "stream",
     "text": [
      "\r",
      " 56%|███████████████████████████████████████████████████████████████████████████████▌                                                              | 84/150 [1:18:45<1:01:53, 56.26s/it]"
     ]
    },
    {
     "name": "stdout",
     "output_type": "stream",
     "text": [
      "TRAIN: LOSS-->0.6389 (0.6389)\tACC-->87.500% (87.500%)\n",
      "TRAIN: 84 [0/4038 (0%)]\tLoss: 0.638856, Accuracy: 7/8 (87.500%)\n",
      "TRAIN: LOSS-->0.6193 (0.7307)\tACC-->87.500% (75.684%)\n",
      "TRAIN: 84 [1600/4038 (40%)]\tLoss: 0.619281, Accuracy: 7/8 (87.500%)\n",
      "TRAIN: LOSS-->0.4408 (0.7201)\tACC-->87.500% (76.185%)\n",
      "TRAIN: 84 [3200/4038 (79%)]\tLoss: 0.440783, Accuracy: 7/8 (87.500%)\n",
      "VAL:   LOSS--> 0.3121 (0.3121)\tACC-->100.000 (100.000)\n",
      " * Accuracy 90.8708\n"
     ]
    },
    {
     "name": "stderr",
     "output_type": "stream",
     "text": [
      "\r",
      " 57%|████████████████████████████████████████████████████████████████████████████████▍                                                             | 85/150 [1:19:41<1:00:56, 56.26s/it]"
     ]
    },
    {
     "name": "stdout",
     "output_type": "stream",
     "text": [
      "TRAIN: LOSS-->0.6335 (0.6335)\tACC-->75.000% (75.000%)\n",
      "TRAIN: 85 [0/4038 (0%)]\tLoss: 0.633494, Accuracy: 6/8 (75.000%)\n",
      "TRAIN: LOSS-->1.0162 (0.7436)\tACC-->62.500% (74.316%)\n",
      "TRAIN: 85 [1600/4038 (40%)]\tLoss: 1.016165, Accuracy: 5/8 (62.500%)\n",
      "TRAIN: LOSS-->0.8799 (0.7410)\tACC-->62.500% (74.875%)\n",
      "TRAIN: 85 [3200/4038 (79%)]\tLoss: 0.879883, Accuracy: 5/8 (62.500%)\n",
      "VAL:   LOSS--> 0.1901 (0.1901)\tACC-->87.500 (87.500)\n",
      " * Accuracy 89.3258\n"
     ]
    },
    {
     "name": "stderr",
     "output_type": "stream",
     "text": [
      "\r",
      " 57%|█████████████████████████████████████████████████████████████████████████████████▍                                                            | 86/150 [1:20:37<1:00:00, 56.25s/it]"
     ]
    },
    {
     "name": "stdout",
     "output_type": "stream",
     "text": [
      "TRAIN: LOSS-->0.1821 (0.1821)\tACC-->87.500% (87.500%)\n",
      "TRAIN: 86 [0/4038 (0%)]\tLoss: 0.182073, Accuracy: 7/8 (87.500%)\n",
      "TRAIN: LOSS-->0.9612 (0.7057)\tACC-->50.000% (76.244%)\n",
      "TRAIN: 86 [1600/4038 (40%)]\tLoss: 0.961214, Accuracy: 4/8 (50.000%)\n",
      "TRAIN: LOSS-->0.6050 (0.7093)\tACC-->62.500% (76.029%)\n",
      "TRAIN: 86 [3200/4038 (79%)]\tLoss: 0.604983, Accuracy: 5/8 (62.500%)\n",
      "VAL:   LOSS--> 0.1623 (0.1623)\tACC-->100.000 (100.000)\n",
      " * Accuracy 92.4157\n"
     ]
    },
    {
     "name": "stderr",
     "output_type": "stream",
     "text": [
      "\r",
      " 58%|███████████████████████████████████████████████████████████████████████████████████▌                                                            | 87/150 [1:21:34<59:03, 56.25s/it]"
     ]
    },
    {
     "name": "stdout",
     "output_type": "stream",
     "text": [
      "TRAIN: LOSS-->0.4736 (0.4736)\tACC-->87.500% (87.500%)\n",
      "TRAIN: 87 [0/4038 (0%)]\tLoss: 0.473576, Accuracy: 7/8 (87.500%)\n",
      "TRAIN: LOSS-->1.5464 (0.7093)\tACC-->25.000% (77.177%)\n",
      "TRAIN: 87 [1600/4038 (40%)]\tLoss: 1.546419, Accuracy: 2/8 (25.000%)\n",
      "TRAIN: LOSS-->0.8581 (0.6949)\tACC-->75.000% (76.683%)\n",
      "TRAIN: 87 [3200/4038 (79%)]\tLoss: 0.858145, Accuracy: 6/8 (75.000%)\n",
      "VAL:   LOSS--> 0.1444 (0.1444)\tACC-->100.000 (100.000)\n",
      " * Accuracy 90.4494\n"
     ]
    },
    {
     "name": "stderr",
     "output_type": "stream",
     "text": [
      "\r",
      " 59%|████████████████████████████████████████████████████████████████████████████████████▍                                                           | 88/150 [1:22:30<58:07, 56.25s/it]"
     ]
    },
    {
     "name": "stdout",
     "output_type": "stream",
     "text": [
      "TRAIN: LOSS-->0.7797 (0.7797)\tACC-->75.000% (75.000%)\n",
      "TRAIN: 88 [0/4038 (0%)]\tLoss: 0.779684, Accuracy: 6/8 (75.000%)\n",
      "TRAIN: LOSS-->0.6835 (0.6767)\tACC-->62.500% (77.363%)\n",
      "TRAIN: 88 [1600/4038 (40%)]\tLoss: 0.683470, Accuracy: 5/8 (62.500%)\n",
      "TRAIN: LOSS-->0.0370 (0.6944)\tACC-->100.000% (76.060%)\n",
      "TRAIN: 88 [3200/4038 (79%)]\tLoss: 0.037024, Accuracy: 8/8 (100.000%)\n",
      "VAL:   LOSS--> 0.1456 (0.1456)\tACC-->100.000 (100.000)\n",
      " * Accuracy 91.5730\n"
     ]
    },
    {
     "name": "stderr",
     "output_type": "stream",
     "text": [
      "\r",
      " 59%|█████████████████████████████████████████████████████████████████████████████████████▍                                                          | 89/150 [1:23:26<57:11, 56.25s/it]"
     ]
    },
    {
     "name": "stdout",
     "output_type": "stream",
     "text": [
      "TRAIN: LOSS-->0.3628 (0.3628)\tACC-->100.000% (100.000%)\n",
      "TRAIN: 89 [0/4038 (0%)]\tLoss: 0.362830, Accuracy: 8/8 (100.000%)\n",
      "TRAIN: LOSS-->0.4122 (0.7039)\tACC-->75.000% (76.493%)\n",
      "TRAIN: 89 [1600/4038 (40%)]\tLoss: 0.412178, Accuracy: 6/8 (75.000%)\n",
      "TRAIN: LOSS-->0.4775 (0.7108)\tACC-->62.500% (76.153%)\n",
      "TRAIN: 89 [3200/4038 (79%)]\tLoss: 0.477523, Accuracy: 5/8 (62.500%)\n",
      "VAL:   LOSS--> 0.2014 (0.2014)\tACC-->87.500 (87.500)\n",
      " * Accuracy 92.2753\n"
     ]
    },
    {
     "name": "stderr",
     "output_type": "stream",
     "text": [
      "\r",
      " 60%|██████████████████████████████████████████████████████████████████████████████████████▍                                                         | 90/150 [1:24:22<56:14, 56.25s/it]"
     ]
    },
    {
     "name": "stdout",
     "output_type": "stream",
     "text": [
      "TRAIN: LOSS-->0.1849 (0.1849)\tACC-->100.000% (100.000%)\n",
      "TRAIN: 90 [0/4038 (0%)]\tLoss: 0.184878, Accuracy: 8/8 (100.000%)\n",
      "TRAIN: LOSS-->1.6206 (0.6942)\tACC-->50.000% (75.808%)\n",
      "TRAIN: 90 [1600/4038 (40%)]\tLoss: 1.620589, Accuracy: 4/8 (50.000%)\n",
      "TRAIN: LOSS-->0.4603 (0.6636)\tACC-->75.000% (76.746%)\n",
      "TRAIN: 90 [3200/4038 (79%)]\tLoss: 0.460327, Accuracy: 6/8 (75.000%)\n",
      "VAL:   LOSS--> 0.4662 (0.4662)\tACC-->87.500 (87.500)\n",
      " * Accuracy 91.0112\n"
     ]
    },
    {
     "name": "stderr",
     "output_type": "stream",
     "text": [
      "\r",
      " 61%|███████████████████████████████████████████████████████████████████████████████████████▎                                                        | 91/150 [1:25:18<55:18, 56.25s/it]"
     ]
    },
    {
     "name": "stdout",
     "output_type": "stream",
     "text": [
      "TRAIN: LOSS-->0.5182 (0.5182)\tACC-->75.000% (75.000%)\n",
      "TRAIN: 91 [0/4038 (0%)]\tLoss: 0.518190, Accuracy: 6/8 (75.000%)\n",
      "TRAIN: LOSS-->1.1412 (0.6751)\tACC-->62.500% (76.928%)\n",
      "TRAIN: 91 [1600/4038 (40%)]\tLoss: 1.141196, Accuracy: 5/8 (62.500%)\n",
      "TRAIN: LOSS-->0.6572 (0.6660)\tACC-->62.500% (76.933%)\n",
      "TRAIN: 91 [3200/4038 (79%)]\tLoss: 0.657238, Accuracy: 5/8 (62.500%)\n",
      "VAL:   LOSS--> 0.2946 (0.2946)\tACC-->87.500 (87.500)\n",
      " * Accuracy 92.4157\n"
     ]
    },
    {
     "name": "stderr",
     "output_type": "stream",
     "text": [
      "\r",
      " 61%|████████████████████████████████████████████████████████████████████████████████████████▎                                                       | 92/150 [1:26:14<54:22, 56.25s/it]"
     ]
    },
    {
     "name": "stdout",
     "output_type": "stream",
     "text": [
      "TRAIN: LOSS-->0.2863 (0.2863)\tACC-->87.500% (87.500%)\n",
      "TRAIN: 92 [0/4038 (0%)]\tLoss: 0.286343, Accuracy: 7/8 (87.500%)\n",
      "TRAIN: LOSS-->0.8377 (0.6396)\tACC-->75.000% (78.980%)\n",
      "TRAIN: 92 [1600/4038 (40%)]\tLoss: 0.837721, Accuracy: 6/8 (75.000%)\n",
      "TRAIN: LOSS-->1.0415 (0.6523)\tACC-->75.000% (77.463%)\n",
      "TRAIN: 92 [3200/4038 (79%)]\tLoss: 1.041503, Accuracy: 6/8 (75.000%)\n",
      "VAL:   LOSS--> 0.3929 (0.3929)\tACC-->75.000 (75.000)\n",
      " * Accuracy 92.1348\n"
     ]
    },
    {
     "name": "stderr",
     "output_type": "stream",
     "text": [
      "\r",
      " 62%|█████████████████████████████████████████████████████████████████████████████████████████▎                                                      | 93/150 [1:27:10<53:26, 56.25s/it]"
     ]
    },
    {
     "name": "stdout",
     "output_type": "stream",
     "text": [
      "TRAIN: LOSS-->1.1341 (1.1341)\tACC-->62.500% (62.500%)\n",
      "TRAIN: 93 [0/4038 (0%)]\tLoss: 1.134073, Accuracy: 5/8 (62.500%)\n",
      "TRAIN: LOSS-->0.3192 (0.6197)\tACC-->100.000% (78.731%)\n",
      "TRAIN: 93 [1600/4038 (40%)]\tLoss: 0.319238, Accuracy: 8/8 (100.000%)\n",
      "TRAIN: LOSS-->0.6017 (0.6401)\tACC-->87.500% (78.554%)\n",
      "TRAIN: 93 [3200/4038 (79%)]\tLoss: 0.601661, Accuracy: 7/8 (87.500%)\n",
      "VAL:   LOSS--> 0.1472 (0.1472)\tACC-->87.500 (87.500)\n",
      " * Accuracy 91.4326\n"
     ]
    },
    {
     "name": "stderr",
     "output_type": "stream",
     "text": [
      "\r",
      " 63%|██████████████████████████████████████████████████████████████████████████████████████████▏                                                     | 94/150 [1:28:07<52:29, 56.25s/it]"
     ]
    },
    {
     "name": "stdout",
     "output_type": "stream",
     "text": [
      "TRAIN: LOSS-->0.5494 (0.5494)\tACC-->75.000% (75.000%)\n",
      "TRAIN: 94 [0/4038 (0%)]\tLoss: 0.549402, Accuracy: 6/8 (75.000%)\n",
      "TRAIN: LOSS-->0.2384 (0.6513)\tACC-->87.500% (77.674%)\n",
      "TRAIN: 94 [1600/4038 (40%)]\tLoss: 0.238352, Accuracy: 7/8 (87.500%)\n",
      "TRAIN: LOSS-->0.5921 (0.6536)\tACC-->75.000% (77.213%)\n",
      "TRAIN: 94 [3200/4038 (79%)]\tLoss: 0.592126, Accuracy: 6/8 (75.000%)\n",
      "VAL:   LOSS--> 0.1781 (0.1781)\tACC-->87.500 (87.500)\n",
      " * Accuracy 93.2584\n"
     ]
    },
    {
     "name": "stderr",
     "output_type": "stream",
     "text": [
      "\r",
      " 63%|███████████████████████████████████████████████████████████████████████████████████████████▏                                                    | 95/150 [1:29:03<51:33, 56.25s/it]"
     ]
    },
    {
     "name": "stdout",
     "output_type": "stream",
     "text": [
      "TRAIN: LOSS-->0.4498 (0.4498)\tACC-->87.500% (87.500%)\n",
      "TRAIN: 95 [0/4038 (0%)]\tLoss: 0.449844, Accuracy: 7/8 (87.500%)\n",
      "TRAIN: LOSS-->1.1433 (0.7259)\tACC-->62.500% (75.560%)\n",
      "TRAIN: 95 [1600/4038 (40%)]\tLoss: 1.143323, Accuracy: 5/8 (62.500%)\n",
      "TRAIN: LOSS-->0.4613 (0.7024)\tACC-->87.500% (76.340%)\n",
      "TRAIN: 95 [3200/4038 (79%)]\tLoss: 0.461304, Accuracy: 7/8 (87.500%)\n",
      "VAL:   LOSS--> 0.0398 (0.0398)\tACC-->100.000 (100.000)\n",
      " * Accuracy 90.1685\n"
     ]
    },
    {
     "name": "stderr",
     "output_type": "stream",
     "text": [
      "\r",
      " 64%|████████████████████████████████████████████████████████████████████████████████████████████▏                                                   | 96/150 [1:29:59<50:37, 56.25s/it]"
     ]
    },
    {
     "name": "stdout",
     "output_type": "stream",
     "text": [
      "TRAIN: LOSS-->0.8039 (0.8039)\tACC-->62.500% (62.500%)\n",
      "TRAIN: 96 [0/4038 (0%)]\tLoss: 0.803862, Accuracy: 5/8 (62.500%)\n",
      "TRAIN: LOSS-->0.3545 (0.7167)\tACC-->75.000% (73.818%)\n",
      "TRAIN: 96 [1600/4038 (40%)]\tLoss: 0.354542, Accuracy: 6/8 (75.000%)\n",
      "TRAIN: LOSS-->0.4352 (0.6954)\tACC-->75.000% (75.810%)\n",
      "TRAIN: 96 [3200/4038 (79%)]\tLoss: 0.435154, Accuracy: 6/8 (75.000%)\n",
      "VAL:   LOSS--> 0.0779 (0.0779)\tACC-->100.000 (100.000)\n",
      " * Accuracy 93.3989\n"
     ]
    },
    {
     "name": "stderr",
     "output_type": "stream",
     "text": [
      "\r",
      " 65%|█████████████████████████████████████████████████████████████████████████████████████████████                                                   | 97/150 [1:30:56<49:41, 56.25s/it]"
     ]
    },
    {
     "name": "stdout",
     "output_type": "stream",
     "text": [
      "TRAIN: LOSS-->0.2952 (0.2952)\tACC-->87.500% (87.500%)\n",
      "TRAIN: 97 [0/4038 (0%)]\tLoss: 0.295198, Accuracy: 7/8 (87.500%)\n",
      "TRAIN: LOSS-->0.8827 (0.6414)\tACC-->75.000% (77.923%)\n",
      "TRAIN: 97 [1600/4038 (40%)]\tLoss: 0.882704, Accuracy: 6/8 (75.000%)\n",
      "TRAIN: LOSS-->1.0913 (0.6632)\tACC-->62.500% (77.151%)\n",
      "TRAIN: 97 [3200/4038 (79%)]\tLoss: 1.091304, Accuracy: 5/8 (62.500%)\n",
      "VAL:   LOSS--> 0.0622 (0.0622)\tACC-->100.000 (100.000)\n",
      " * Accuracy 93.5393\n"
     ]
    },
    {
     "name": "stderr",
     "output_type": "stream",
     "text": [
      "\r",
      " 65%|██████████████████████████████████████████████████████████████████████████████████████████████                                                  | 98/150 [1:31:52<48:45, 56.25s/it]"
     ]
    },
    {
     "name": "stdout",
     "output_type": "stream",
     "text": [
      "TRAIN: LOSS-->0.2610 (0.2610)\tACC-->100.000% (100.000%)\n",
      "TRAIN: 98 [0/4038 (0%)]\tLoss: 0.260999, Accuracy: 8/8 (100.000%)\n",
      "TRAIN: LOSS-->0.8547 (0.6570)\tACC-->75.000% (78.234%)\n",
      "TRAIN: 98 [1600/4038 (40%)]\tLoss: 0.854742, Accuracy: 6/8 (75.000%)\n",
      "TRAIN: LOSS-->0.3345 (0.6581)\tACC-->87.500% (78.117%)\n",
      "TRAIN: 98 [3200/4038 (79%)]\tLoss: 0.334466, Accuracy: 7/8 (87.500%)\n",
      "VAL:   LOSS--> 0.6967 (0.6967)\tACC-->75.000 (75.000)\n",
      " * Accuracy 93.8202\n"
     ]
    },
    {
     "name": "stderr",
     "output_type": "stream",
     "text": [
      "\r",
      " 66%|███████████████████████████████████████████████████████████████████████████████████████████████                                                 | 99/150 [1:32:48<47:48, 56.25s/it]"
     ]
    },
    {
     "name": "stdout",
     "output_type": "stream",
     "text": [
      "TRAIN: LOSS-->0.3518 (0.3518)\tACC-->87.500% (87.500%)\n",
      "TRAIN: 99 [0/4038 (0%)]\tLoss: 0.351783, Accuracy: 7/8 (87.500%)\n",
      "TRAIN: LOSS-->0.3023 (0.7039)\tACC-->87.500% (75.187%)\n",
      "TRAIN: 99 [1600/4038 (40%)]\tLoss: 0.302286, Accuracy: 7/8 (87.500%)\n",
      "TRAIN: LOSS-->0.6118 (0.6611)\tACC-->75.000% (77.463%)\n",
      "TRAIN: 99 [3200/4038 (79%)]\tLoss: 0.611814, Accuracy: 6/8 (75.000%)\n",
      "VAL:   LOSS--> 0.2299 (0.2299)\tACC-->87.500 (87.500)\n",
      " * Accuracy 93.9607\n"
     ]
    },
    {
     "name": "stderr",
     "output_type": "stream",
     "text": [
      "\r",
      " 67%|███████████████████████████████████████████████████████████████████████████████████████████████▎                                               | 100/150 [1:33:45<46:52, 56.25s/it]"
     ]
    },
    {
     "name": "stdout",
     "output_type": "stream",
     "text": [
      "TRAIN: LOSS-->0.6973 (0.6973)\tACC-->62.500% (62.500%)\n",
      "TRAIN: 100 [0/4038 (0%)]\tLoss: 0.697306, Accuracy: 5/8 (62.500%)\n",
      "TRAIN: LOSS-->1.0205 (0.6240)\tACC-->75.000% (78.047%)\n",
      "TRAIN: 100 [1600/4038 (40%)]\tLoss: 1.020514, Accuracy: 6/8 (75.000%)\n",
      "TRAIN: LOSS-->0.3788 (0.6335)\tACC-->75.000% (78.148%)\n",
      "TRAIN: 100 [3200/4038 (79%)]\tLoss: 0.378801, Accuracy: 6/8 (75.000%)\n",
      "VAL:   LOSS--> 0.4549 (0.4549)\tACC-->75.000 (75.000)\n",
      " * Accuracy 93.8202\n"
     ]
    },
    {
     "name": "stderr",
     "output_type": "stream",
     "text": [
      "\r",
      " 67%|████████████████████████████████████████████████████████████████████████████████████████████████▎                                              | 101/150 [1:34:41<45:56, 56.25s/it]"
     ]
    },
    {
     "name": "stdout",
     "output_type": "stream",
     "text": [
      "TRAIN: LOSS-->0.7202 (0.7202)\tACC-->50.000% (50.000%)\n",
      "TRAIN: 101 [0/4038 (0%)]\tLoss: 0.720191, Accuracy: 4/8 (50.000%)\n",
      "TRAIN: LOSS-->1.4383 (0.6563)\tACC-->50.000% (78.483%)\n",
      "TRAIN: 101 [1600/4038 (40%)]\tLoss: 1.438300, Accuracy: 4/8 (50.000%)\n",
      "TRAIN: LOSS-->0.1838 (0.6811)\tACC-->100.000% (77.463%)\n",
      "TRAIN: 101 [3200/4038 (79%)]\tLoss: 0.183750, Accuracy: 8/8 (100.000%)\n",
      "VAL:   LOSS--> 0.1584 (0.1584)\tACC-->100.000 (100.000)\n",
      " * Accuracy 90.7303\n"
     ]
    },
    {
     "name": "stderr",
     "output_type": "stream",
     "text": [
      "\r",
      " 68%|█████████████████████████████████████████████████████████████████████████████████████████████████▏                                             | 102/150 [1:35:37<45:00, 56.25s/it]"
     ]
    },
    {
     "name": "stdout",
     "output_type": "stream",
     "text": [
      "TRAIN: LOSS-->0.9906 (0.9906)\tACC-->75.000% (75.000%)\n",
      "TRAIN: 102 [0/4038 (0%)]\tLoss: 0.990644, Accuracy: 6/8 (75.000%)\n",
      "TRAIN: LOSS-->0.4766 (0.6812)\tACC-->75.000% (76.493%)\n",
      "TRAIN: 102 [1600/4038 (40%)]\tLoss: 0.476556, Accuracy: 6/8 (75.000%)\n",
      "TRAIN: LOSS-->0.4173 (0.6583)\tACC-->87.500% (77.837%)\n",
      "TRAIN: 102 [3200/4038 (79%)]\tLoss: 0.417251, Accuracy: 7/8 (87.500%)\n",
      "VAL:   LOSS--> 0.0134 (0.0134)\tACC-->100.000 (100.000)\n",
      " * Accuracy 92.9775\n"
     ]
    },
    {
     "name": "stderr",
     "output_type": "stream",
     "text": [
      "\r",
      " 69%|██████████████████████████████████████████████████████████████████████████████████████████████████▏                                            | 103/150 [1:36:34<44:03, 56.25s/it]"
     ]
    },
    {
     "name": "stdout",
     "output_type": "stream",
     "text": [
      "TRAIN: LOSS-->0.4090 (0.4090)\tACC-->87.500% (87.500%)\n",
      "TRAIN: 103 [0/4038 (0%)]\tLoss: 0.409015, Accuracy: 7/8 (87.500%)\n",
      "TRAIN: LOSS-->0.9985 (0.6569)\tACC-->75.000% (77.612%)\n",
      "TRAIN: 103 [1600/4038 (40%)]\tLoss: 0.998510, Accuracy: 6/8 (75.000%)\n",
      "TRAIN: LOSS-->0.4427 (0.6569)\tACC-->75.000% (77.774%)\n",
      "TRAIN: 103 [3200/4038 (79%)]\tLoss: 0.442705, Accuracy: 6/8 (75.000%)\n",
      "VAL:   LOSS--> 0.1523 (0.1523)\tACC-->87.500 (87.500)\n",
      " * Accuracy 91.8539\n"
     ]
    },
    {
     "name": "stderr",
     "output_type": "stream",
     "text": [
      "\r",
      " 69%|███████████████████████████████████████████████████████████████████████████████████████████████████▏                                           | 104/150 [1:37:30<43:07, 56.25s/it]"
     ]
    },
    {
     "name": "stdout",
     "output_type": "stream",
     "text": [
      "TRAIN: LOSS-->0.9770 (0.9770)\tACC-->37.500% (37.500%)\n",
      "TRAIN: 104 [0/4038 (0%)]\tLoss: 0.976960, Accuracy: 3/8 (37.500%)\n",
      "TRAIN: LOSS-->0.3917 (0.6574)\tACC-->87.500% (76.182%)\n",
      "TRAIN: 104 [1600/4038 (40%)]\tLoss: 0.391720, Accuracy: 7/8 (87.500%)\n",
      "TRAIN: LOSS-->0.7955 (0.6655)\tACC-->62.500% (76.403%)\n",
      "TRAIN: 104 [3200/4038 (79%)]\tLoss: 0.795527, Accuracy: 5/8 (62.500%)\n",
      "VAL:   LOSS--> 0.0885 (0.0885)\tACC-->100.000 (100.000)\n",
      " * Accuracy 94.3820\n"
     ]
    },
    {
     "name": "stderr",
     "output_type": "stream",
     "text": [
      "\r",
      " 70%|████████████████████████████████████████████████████████████████████████████████████████████████████                                           | 105/150 [1:38:26<42:11, 56.25s/it]"
     ]
    },
    {
     "name": "stdout",
     "output_type": "stream",
     "text": [
      "TRAIN: LOSS-->0.1900 (0.1900)\tACC-->87.500% (87.500%)\n",
      "TRAIN: 105 [0/4038 (0%)]\tLoss: 0.189962, Accuracy: 7/8 (87.500%)\n",
      "TRAIN: LOSS-->0.2164 (0.6427)\tACC-->100.000% (78.234%)\n",
      "TRAIN: 105 [1600/4038 (40%)]\tLoss: 0.216445, Accuracy: 8/8 (100.000%)\n",
      "TRAIN: LOSS-->1.3509 (0.6538)\tACC-->62.500% (77.556%)\n",
      "TRAIN: 105 [3200/4038 (79%)]\tLoss: 1.350893, Accuracy: 5/8 (62.500%)\n",
      "VAL:   LOSS--> 0.0047 (0.0047)\tACC-->100.000 (100.000)\n",
      " * Accuracy 93.2584\n"
     ]
    },
    {
     "name": "stderr",
     "output_type": "stream",
     "text": [
      "\r",
      " 71%|█████████████████████████████████████████████████████████████████████████████████████████████████████                                          | 106/150 [1:39:22<41:15, 56.25s/it]"
     ]
    },
    {
     "name": "stdout",
     "output_type": "stream",
     "text": [
      "TRAIN: LOSS-->0.3583 (0.3583)\tACC-->87.500% (87.500%)\n",
      "TRAIN: 106 [0/4038 (0%)]\tLoss: 0.358349, Accuracy: 7/8 (87.500%)\n",
      "TRAIN: LOSS-->0.2365 (0.6408)\tACC-->100.000% (78.794%)\n",
      "TRAIN: 106 [1600/4038 (40%)]\tLoss: 0.236496, Accuracy: 8/8 (100.000%)\n",
      "TRAIN: LOSS-->0.2910 (0.6247)\tACC-->87.500% (78.959%)\n",
      "TRAIN: 106 [3200/4038 (79%)]\tLoss: 0.291027, Accuracy: 7/8 (87.500%)\n",
      "VAL:   LOSS--> 0.3517 (0.3517)\tACC-->87.500 (87.500)\n",
      " * Accuracy 93.5393\n"
     ]
    },
    {
     "name": "stderr",
     "output_type": "stream",
     "text": [
      "\r",
      " 71%|██████████████████████████████████████████████████████████████████████████████████████████████████████                                         | 107/150 [1:40:18<40:18, 56.25s/it]"
     ]
    },
    {
     "name": "stdout",
     "output_type": "stream",
     "text": [
      "TRAIN: LOSS-->0.1684 (0.1684)\tACC-->100.000% (100.000%)\n",
      "TRAIN: 107 [0/4038 (0%)]\tLoss: 0.168388, Accuracy: 8/8 (100.000%)\n",
      "TRAIN: LOSS-->1.0684 (0.6075)\tACC-->75.000% (79.602%)\n",
      "TRAIN: 107 [1600/4038 (40%)]\tLoss: 1.068371, Accuracy: 6/8 (75.000%)\n",
      "TRAIN: LOSS-->0.5776 (0.6374)\tACC-->75.000% (78.554%)\n",
      "TRAIN: 107 [3200/4038 (79%)]\tLoss: 0.577590, Accuracy: 6/8 (75.000%)\n",
      "VAL:   LOSS--> 0.1315 (0.1315)\tACC-->100.000 (100.000)\n",
      " * Accuracy 93.1180\n"
     ]
    },
    {
     "name": "stderr",
     "output_type": "stream",
     "text": [
      "\r",
      " 72%|██████████████████████████████████████████████████████████████████████████████████████████████████████▉                                        | 108/150 [1:41:15<39:22, 56.25s/it]"
     ]
    },
    {
     "name": "stdout",
     "output_type": "stream",
     "text": [
      "TRAIN: LOSS-->1.4824 (1.4824)\tACC-->75.000% (75.000%)\n",
      "TRAIN: 108 [0/4038 (0%)]\tLoss: 1.482411, Accuracy: 6/8 (75.000%)\n",
      "TRAIN: LOSS-->0.7575 (0.6223)\tACC-->50.000% (78.234%)\n",
      "TRAIN: 108 [1600/4038 (40%)]\tLoss: 0.757533, Accuracy: 4/8 (50.000%)\n",
      "TRAIN: LOSS-->0.1778 (0.6243)\tACC-->100.000% (77.993%)\n",
      "TRAIN: 108 [3200/4038 (79%)]\tLoss: 0.177793, Accuracy: 8/8 (100.000%)\n",
      "VAL:   LOSS--> 0.3653 (0.3653)\tACC-->75.000 (75.000)\n",
      " * Accuracy 91.8539\n"
     ]
    },
    {
     "name": "stderr",
     "output_type": "stream",
     "text": [
      "\r",
      " 73%|███████████████████████████████████████████████████████████████████████████████████████████████████████▉                                       | 109/150 [1:42:11<38:26, 56.25s/it]"
     ]
    },
    {
     "name": "stdout",
     "output_type": "stream",
     "text": [
      "TRAIN: LOSS-->0.9092 (0.9092)\tACC-->62.500% (62.500%)\n",
      "TRAIN: 109 [0/4038 (0%)]\tLoss: 0.909154, Accuracy: 5/8 (62.500%)\n",
      "TRAIN: LOSS-->0.4074 (0.6053)\tACC-->87.500% (79.229%)\n",
      "TRAIN: 109 [1600/4038 (40%)]\tLoss: 0.407432, Accuracy: 7/8 (87.500%)\n",
      "TRAIN: LOSS-->0.7264 (0.6269)\tACC-->87.500% (78.086%)\n",
      "TRAIN: 109 [3200/4038 (79%)]\tLoss: 0.726421, Accuracy: 7/8 (87.500%)\n",
      "VAL:   LOSS--> 0.2336 (0.2336)\tACC-->87.500 (87.500)\n",
      " * Accuracy 93.2584\n"
     ]
    },
    {
     "name": "stderr",
     "output_type": "stream",
     "text": [
      "\r",
      " 73%|████████████████████████████████████████████████████████████████████████████████████████████████████████▊                                      | 110/150 [1:43:07<37:30, 56.25s/it]"
     ]
    },
    {
     "name": "stdout",
     "output_type": "stream",
     "text": [
      "TRAIN: LOSS-->0.5254 (0.5254)\tACC-->75.000% (75.000%)\n",
      "TRAIN: 110 [0/4038 (0%)]\tLoss: 0.525415, Accuracy: 6/8 (75.000%)\n",
      "TRAIN: LOSS-->0.5801 (0.6222)\tACC-->75.000% (77.177%)\n",
      "TRAIN: 110 [1600/4038 (40%)]\tLoss: 0.580065, Accuracy: 6/8 (75.000%)\n",
      "TRAIN: LOSS-->0.2313 (0.6241)\tACC-->87.500% (77.993%)\n",
      "TRAIN: 110 [3200/4038 (79%)]\tLoss: 0.231346, Accuracy: 7/8 (87.500%)\n",
      "VAL:   LOSS--> 0.1216 (0.1216)\tACC-->100.000 (100.000)\n",
      " * Accuracy 90.3090\n"
     ]
    },
    {
     "name": "stderr",
     "output_type": "stream",
     "text": [
      "\r",
      " 74%|█████████████████████████████████████████████████████████████████████████████████████████████████████████▊                                     | 111/150 [1:44:03<36:33, 56.25s/it]"
     ]
    },
    {
     "name": "stdout",
     "output_type": "stream",
     "text": [
      "TRAIN: LOSS-->0.5662 (0.5662)\tACC-->75.000% (75.000%)\n",
      "TRAIN: 111 [0/4038 (0%)]\tLoss: 0.566164, Accuracy: 6/8 (75.000%)\n",
      "TRAIN: LOSS-->0.9768 (0.6354)\tACC-->75.000% (78.234%)\n",
      "TRAIN: 111 [1600/4038 (40%)]\tLoss: 0.976828, Accuracy: 6/8 (75.000%)\n",
      "TRAIN: LOSS-->0.9434 (0.6322)\tACC-->75.000% (78.180%)\n",
      "TRAIN: 111 [3200/4038 (79%)]\tLoss: 0.943407, Accuracy: 6/8 (75.000%)\n",
      "VAL:   LOSS--> 0.0340 (0.0340)\tACC-->100.000 (100.000)\n",
      " * Accuracy 93.5393\n"
     ]
    },
    {
     "name": "stderr",
     "output_type": "stream",
     "text": [
      "\r",
      " 75%|██████████████████████████████████████████████████████████████████████████████████████████████████████████▊                                    | 112/150 [1:44:59<35:37, 56.25s/it]"
     ]
    },
    {
     "name": "stdout",
     "output_type": "stream",
     "text": [
      "TRAIN: LOSS-->0.8741 (0.8741)\tACC-->62.500% (62.500%)\n",
      "TRAIN: 112 [0/4038 (0%)]\tLoss: 0.874096, Accuracy: 5/8 (62.500%)\n",
      "TRAIN: LOSS-->1.1766 (0.6404)\tACC-->62.500% (78.109%)\n",
      "TRAIN: 112 [1600/4038 (40%)]\tLoss: 1.176632, Accuracy: 5/8 (62.500%)\n",
      "TRAIN: LOSS-->1.1120 (0.6472)\tACC-->62.500% (77.899%)\n",
      "TRAIN: 112 [3200/4038 (79%)]\tLoss: 1.111957, Accuracy: 5/8 (62.500%)\n",
      "VAL:   LOSS--> 0.2897 (0.2897)\tACC-->75.000 (75.000)\n",
      " * Accuracy 92.2753\n"
     ]
    },
    {
     "name": "stderr",
     "output_type": "stream",
     "text": [
      "\r",
      " 75%|███████████████████████████████████████████████████████████████████████████████████████████████████████████▋                                   | 113/150 [1:45:56<34:41, 56.25s/it]"
     ]
    },
    {
     "name": "stdout",
     "output_type": "stream",
     "text": [
      "TRAIN: LOSS-->0.5588 (0.5588)\tACC-->87.500% (87.500%)\n",
      "TRAIN: 113 [0/4038 (0%)]\tLoss: 0.558767, Accuracy: 7/8 (87.500%)\n",
      "TRAIN: LOSS-->0.5609 (0.5771)\tACC-->75.000% (80.348%)\n",
      "TRAIN: 113 [1600/4038 (40%)]\tLoss: 0.560863, Accuracy: 6/8 (75.000%)\n",
      "TRAIN: LOSS-->0.6690 (0.6268)\tACC-->75.000% (79.052%)\n",
      "TRAIN: 113 [3200/4038 (79%)]\tLoss: 0.668967, Accuracy: 6/8 (75.000%)\n",
      "VAL:   LOSS--> 0.0613 (0.0613)\tACC-->100.000 (100.000)\n",
      " * Accuracy 93.5393\n"
     ]
    },
    {
     "name": "stderr",
     "output_type": "stream",
     "text": [
      "\r",
      " 76%|████████████████████████████████████████████████████████████████████████████████████████████████████████████▋                                  | 114/150 [1:46:52<33:45, 56.25s/it]"
     ]
    },
    {
     "name": "stdout",
     "output_type": "stream",
     "text": [
      "TRAIN: LOSS-->0.4210 (0.4210)\tACC-->75.000% (75.000%)\n",
      "TRAIN: 114 [0/4038 (0%)]\tLoss: 0.420955, Accuracy: 6/8 (75.000%)\n",
      "TRAIN: LOSS-->0.6932 (0.6583)\tACC-->87.500% (76.493%)\n",
      "TRAIN: 114 [1600/4038 (40%)]\tLoss: 0.693185, Accuracy: 7/8 (87.500%)\n",
      "TRAIN: LOSS-->1.1895 (0.6739)\tACC-->75.000% (76.434%)\n",
      "TRAIN: 114 [3200/4038 (79%)]\tLoss: 1.189486, Accuracy: 6/8 (75.000%)\n",
      "VAL:   LOSS--> 0.1155 (0.1155)\tACC-->100.000 (100.000)\n",
      " * Accuracy 91.4326\n"
     ]
    },
    {
     "name": "stderr",
     "output_type": "stream",
     "text": [
      "\r",
      " 77%|█████████████████████████████████████████████████████████████████████████████████████████████████████████████▋                                 | 115/150 [1:47:48<32:48, 56.25s/it]"
     ]
    },
    {
     "name": "stdout",
     "output_type": "stream",
     "text": [
      "TRAIN: LOSS-->0.6286 (0.6286)\tACC-->75.000% (75.000%)\n",
      "TRAIN: 115 [0/4038 (0%)]\tLoss: 0.628602, Accuracy: 6/8 (75.000%)\n",
      "TRAIN: LOSS-->0.4781 (0.5921)\tACC-->75.000% (80.286%)\n",
      "TRAIN: 115 [1600/4038 (40%)]\tLoss: 0.478074, Accuracy: 6/8 (75.000%)\n",
      "TRAIN: LOSS-->0.6068 (0.6164)\tACC-->87.500% (78.865%)\n",
      "TRAIN: 115 [3200/4038 (79%)]\tLoss: 0.606849, Accuracy: 7/8 (87.500%)\n",
      "VAL:   LOSS--> 0.3355 (0.3355)\tACC-->75.000 (75.000)\n",
      " * Accuracy 93.2584\n"
     ]
    },
    {
     "name": "stderr",
     "output_type": "stream",
     "text": [
      "\r",
      " 77%|██████████████████████████████████████████████████████████████████████████████████████████████████████████████▌                                | 116/150 [1:48:45<31:52, 56.25s/it]"
     ]
    },
    {
     "name": "stdout",
     "output_type": "stream",
     "text": [
      "TRAIN: LOSS-->0.1395 (0.1395)\tACC-->100.000% (100.000%)\n",
      "TRAIN: 116 [0/4038 (0%)]\tLoss: 0.139523, Accuracy: 8/8 (100.000%)\n",
      "TRAIN: LOSS-->1.0447 (0.6327)\tACC-->62.500% (78.607%)\n",
      "TRAIN: 116 [1600/4038 (40%)]\tLoss: 1.044673, Accuracy: 5/8 (62.500%)\n",
      "TRAIN: LOSS-->0.0753 (0.6175)\tACC-->100.000% (78.304%)\n",
      "TRAIN: 116 [3200/4038 (79%)]\tLoss: 0.075328, Accuracy: 8/8 (100.000%)\n",
      "VAL:   LOSS--> 0.1325 (0.1325)\tACC-->87.500 (87.500)\n",
      " * Accuracy 93.9607\n"
     ]
    },
    {
     "name": "stderr",
     "output_type": "stream",
     "text": [
      "\r",
      " 78%|███████████████████████████████████████████████████████████████████████████████████████████████████████████████▌                               | 117/150 [1:49:41<30:56, 56.25s/it]"
     ]
    },
    {
     "name": "stdout",
     "output_type": "stream",
     "text": [
      "TRAIN: LOSS-->0.9609 (0.9609)\tACC-->75.000% (75.000%)\n",
      "TRAIN: 117 [0/4038 (0%)]\tLoss: 0.960919, Accuracy: 6/8 (75.000%)\n",
      "TRAIN: LOSS-->0.5128 (0.6272)\tACC-->87.500% (77.301%)\n",
      "TRAIN: 117 [1600/4038 (40%)]\tLoss: 0.512787, Accuracy: 7/8 (87.500%)\n",
      "TRAIN: LOSS-->1.2733 (0.6377)\tACC-->37.500% (77.618%)\n",
      "TRAIN: 117 [3200/4038 (79%)]\tLoss: 1.273345, Accuracy: 3/8 (37.500%)\n",
      "VAL:   LOSS--> 0.3050 (0.3050)\tACC-->87.500 (87.500)\n",
      " * Accuracy 93.9607\n"
     ]
    },
    {
     "name": "stderr",
     "output_type": "stream",
     "text": [
      "\r",
      " 79%|████████████████████████████████████████████████████████████████████████████████████████████████████████████████▍                              | 118/150 [1:50:37<30:00, 56.25s/it]"
     ]
    },
    {
     "name": "stdout",
     "output_type": "stream",
     "text": [
      "TRAIN: LOSS-->0.2296 (0.2296)\tACC-->100.000% (100.000%)\n",
      "TRAIN: 118 [0/4038 (0%)]\tLoss: 0.229565, Accuracy: 8/8 (100.000%)\n",
      "TRAIN: LOSS-->0.4344 (0.6242)\tACC-->87.500% (78.296%)\n",
      "TRAIN: 118 [1600/4038 (40%)]\tLoss: 0.434423, Accuracy: 7/8 (87.500%)\n",
      "TRAIN: LOSS-->0.2244 (0.6081)\tACC-->87.500% (78.741%)\n",
      "TRAIN: 118 [3200/4038 (79%)]\tLoss: 0.224390, Accuracy: 7/8 (87.500%)\n",
      "VAL:   LOSS--> 0.1299 (0.1299)\tACC-->100.000 (100.000)\n",
      " * Accuracy 90.1685\n"
     ]
    },
    {
     "name": "stderr",
     "output_type": "stream",
     "text": [
      "\r",
      " 79%|█████████████████████████████████████████████████████████████████████████████████████████████████████████████████▍                             | 119/150 [1:51:34<29:03, 56.25s/it]"
     ]
    },
    {
     "name": "stdout",
     "output_type": "stream",
     "text": [
      "TRAIN: LOSS-->0.3120 (0.3120)\tACC-->75.000% (75.000%)\n",
      "TRAIN: 119 [0/4038 (0%)]\tLoss: 0.312025, Accuracy: 6/8 (75.000%)\n",
      "TRAIN: LOSS-->0.5132 (0.6494)\tACC-->87.500% (78.856%)\n",
      "TRAIN: 119 [1600/4038 (40%)]\tLoss: 0.513209, Accuracy: 7/8 (87.500%)\n",
      "TRAIN: LOSS-->0.9780 (0.6373)\tACC-->75.000% (78.554%)\n",
      "TRAIN: 119 [3200/4038 (79%)]\tLoss: 0.978009, Accuracy: 6/8 (75.000%)\n",
      "VAL:   LOSS--> 0.0914 (0.0914)\tACC-->100.000 (100.000)\n",
      " * Accuracy 93.3989\n"
     ]
    },
    {
     "name": "stderr",
     "output_type": "stream",
     "text": [
      "\r",
      " 80%|██████████████████████████████████████████████████████████████████████████████████████████████████████████████████▍                            | 120/150 [1:52:30<28:07, 56.25s/it]"
     ]
    },
    {
     "name": "stdout",
     "output_type": "stream",
     "text": [
      "TRAIN: LOSS-->0.5245 (0.5245)\tACC-->100.000% (100.000%)\n",
      "TRAIN: 120 [0/4038 (0%)]\tLoss: 0.524474, Accuracy: 8/8 (100.000%)\n",
      "TRAIN: LOSS-->0.3022 (0.6174)\tACC-->87.500% (79.167%)\n",
      "TRAIN: 120 [1600/4038 (40%)]\tLoss: 0.302206, Accuracy: 7/8 (87.500%)\n",
      "TRAIN: LOSS-->0.1822 (0.6001)\tACC-->87.500% (79.208%)\n",
      "TRAIN: 120 [3200/4038 (79%)]\tLoss: 0.182203, Accuracy: 7/8 (87.500%)\n",
      "VAL:   LOSS--> 0.2386 (0.2386)\tACC-->87.500 (87.500)\n",
      " * Accuracy 91.9944\n"
     ]
    },
    {
     "name": "stderr",
     "output_type": "stream",
     "text": [
      "\r",
      " 81%|███████████████████████████████████████████████████████████████████████████████████████████████████████████████████▎                           | 121/150 [1:53:26<27:11, 56.25s/it]"
     ]
    },
    {
     "name": "stdout",
     "output_type": "stream",
     "text": [
      "TRAIN: LOSS-->0.5528 (0.5528)\tACC-->62.500% (62.500%)\n",
      "TRAIN: 121 [0/4038 (0%)]\tLoss: 0.552821, Accuracy: 5/8 (62.500%)\n",
      "TRAIN: LOSS-->1.4662 (0.5818)\tACC-->75.000% (80.410%)\n",
      "TRAIN: 121 [1600/4038 (40%)]\tLoss: 1.466198, Accuracy: 6/8 (75.000%)\n",
      "TRAIN: LOSS-->0.6146 (0.5960)\tACC-->87.500% (79.832%)\n",
      "TRAIN: 121 [3200/4038 (79%)]\tLoss: 0.614574, Accuracy: 7/8 (87.500%)\n",
      "VAL:   LOSS--> 0.0815 (0.0815)\tACC-->100.000 (100.000)\n",
      " * Accuracy 91.7135\n"
     ]
    },
    {
     "name": "stderr",
     "output_type": "stream",
     "text": [
      "\r",
      " 81%|████████████████████████████████████████████████████████████████████████████████████████████████████████████████████▎                          | 122/150 [1:54:22<26:15, 56.25s/it]"
     ]
    },
    {
     "name": "stdout",
     "output_type": "stream",
     "text": [
      "TRAIN: LOSS-->0.2706 (0.2706)\tACC-->100.000% (100.000%)\n",
      "TRAIN: 122 [0/4038 (0%)]\tLoss: 0.270554, Accuracy: 8/8 (100.000%)\n",
      "TRAIN: LOSS-->0.2846 (0.5917)\tACC-->87.500% (80.286%)\n",
      "TRAIN: 122 [1600/4038 (40%)]\tLoss: 0.284589, Accuracy: 7/8 (87.500%)\n",
      "TRAIN: LOSS-->1.4320 (0.6043)\tACC-->62.500% (79.738%)\n",
      "TRAIN: 122 [3200/4038 (79%)]\tLoss: 1.431997, Accuracy: 5/8 (62.500%)\n",
      "VAL:   LOSS--> 0.2582 (0.2582)\tACC-->87.500 (87.500)\n",
      " * Accuracy 88.3427\n"
     ]
    },
    {
     "name": "stderr",
     "output_type": "stream",
     "text": [
      "\r",
      " 82%|█████████████████████████████████████████████████████████████████████████████████████████████████████████████████████▎                         | 123/150 [1:55:18<25:18, 56.25s/it]"
     ]
    },
    {
     "name": "stdout",
     "output_type": "stream",
     "text": [
      "TRAIN: LOSS-->1.0570 (1.0570)\tACC-->50.000% (50.000%)\n",
      "TRAIN: 123 [0/4038 (0%)]\tLoss: 1.057030, Accuracy: 4/8 (50.000%)\n",
      "TRAIN: LOSS-->0.1936 (0.5597)\tACC-->100.000% (81.343%)\n",
      "TRAIN: 123 [1600/4038 (40%)]\tLoss: 0.193617, Accuracy: 8/8 (100.000%)\n",
      "TRAIN: LOSS-->0.3571 (0.6150)\tACC-->87.500% (78.928%)\n",
      "TRAIN: 123 [3200/4038 (79%)]\tLoss: 0.357119, Accuracy: 7/8 (87.500%)\n",
      "VAL:   LOSS--> 0.1990 (0.1990)\tACC-->87.500 (87.500)\n",
      " * Accuracy 92.2753\n"
     ]
    },
    {
     "name": "stderr",
     "output_type": "stream",
     "text": [
      "\r",
      " 83%|██████████████████████████████████████████████████████████████████████████████████████████████████████████████████████▏                        | 124/150 [1:56:15<24:22, 56.25s/it]"
     ]
    },
    {
     "name": "stdout",
     "output_type": "stream",
     "text": [
      "TRAIN: LOSS-->0.9329 (0.9329)\tACC-->62.500% (62.500%)\n",
      "TRAIN: 124 [0/4038 (0%)]\tLoss: 0.932864, Accuracy: 5/8 (62.500%)\n",
      "TRAIN: LOSS-->0.7935 (0.6145)\tACC-->50.000% (78.358%)\n",
      "TRAIN: 124 [1600/4038 (40%)]\tLoss: 0.793468, Accuracy: 4/8 (50.000%)\n",
      "TRAIN: LOSS-->0.5525 (0.6337)\tACC-->87.500% (77.961%)\n",
      "TRAIN: 124 [3200/4038 (79%)]\tLoss: 0.552484, Accuracy: 7/8 (87.500%)\n",
      "VAL:   LOSS--> 0.1132 (0.1132)\tACC-->100.000 (100.000)\n",
      " * Accuracy 92.9775\n"
     ]
    },
    {
     "name": "stderr",
     "output_type": "stream",
     "text": [
      "\r",
      " 83%|███████████████████████████████████████████████████████████████████████████████████████████████████████████████████████▏                       | 125/150 [1:57:11<23:26, 56.25s/it]"
     ]
    },
    {
     "name": "stdout",
     "output_type": "stream",
     "text": [
      "TRAIN: LOSS-->1.0237 (1.0237)\tACC-->87.500% (87.500%)\n",
      "TRAIN: 125 [0/4038 (0%)]\tLoss: 1.023740, Accuracy: 7/8 (87.500%)\n",
      "TRAIN: LOSS-->0.6639 (0.5772)\tACC-->75.000% (81.530%)\n",
      "TRAIN: 125 [1600/4038 (40%)]\tLoss: 0.663917, Accuracy: 6/8 (75.000%)\n",
      "TRAIN: LOSS-->1.1558 (0.6035)\tACC-->75.000% (80.299%)\n",
      "TRAIN: 125 [3200/4038 (79%)]\tLoss: 1.155784, Accuracy: 6/8 (75.000%)\n",
      "VAL:   LOSS--> 0.0647 (0.0647)\tACC-->100.000 (100.000)\n",
      " * Accuracy 91.9944\n"
     ]
    },
    {
     "name": "stderr",
     "output_type": "stream",
     "text": [
      "\r",
      " 84%|████████████████████████████████████████████████████████████████████████████████████████████████████████████████████████                       | 126/150 [1:58:07<22:29, 56.25s/it]"
     ]
    },
    {
     "name": "stdout",
     "output_type": "stream",
     "text": [
      "TRAIN: LOSS-->0.6164 (0.6164)\tACC-->75.000% (75.000%)\n",
      "TRAIN: 126 [0/4038 (0%)]\tLoss: 0.616364, Accuracy: 6/8 (75.000%)\n",
      "TRAIN: LOSS-->0.6324 (0.6244)\tACC-->75.000% (77.612%)\n",
      "TRAIN: 126 [1600/4038 (40%)]\tLoss: 0.632374, Accuracy: 6/8 (75.000%)\n",
      "TRAIN: LOSS-->0.9460 (0.6034)\tACC-->87.500% (78.647%)\n",
      "TRAIN: 126 [3200/4038 (79%)]\tLoss: 0.945958, Accuracy: 7/8 (87.500%)\n",
      "VAL:   LOSS--> 0.3795 (0.3795)\tACC-->87.500 (87.500)\n",
      " * Accuracy 90.8708\n"
     ]
    },
    {
     "name": "stderr",
     "output_type": "stream",
     "text": [
      "\r",
      " 85%|█████████████████████████████████████████████████████████████████████████████████████████████████████████████████████████                      | 127/150 [1:59:03<21:33, 56.25s/it]"
     ]
    },
    {
     "name": "stdout",
     "output_type": "stream",
     "text": [
      "TRAIN: LOSS-->0.3592 (0.3592)\tACC-->87.500% (87.500%)\n",
      "TRAIN: 127 [0/4038 (0%)]\tLoss: 0.359195, Accuracy: 7/8 (87.500%)\n",
      "TRAIN: LOSS-->0.4519 (0.5981)\tACC-->62.500% (79.042%)\n",
      "TRAIN: 127 [1600/4038 (40%)]\tLoss: 0.451905, Accuracy: 5/8 (62.500%)\n",
      "TRAIN: LOSS-->0.6430 (0.6159)\tACC-->75.000% (78.554%)\n",
      "TRAIN: 127 [3200/4038 (79%)]\tLoss: 0.642980, Accuracy: 6/8 (75.000%)\n",
      "VAL:   LOSS--> 0.0895 (0.0895)\tACC-->100.000 (100.000)\n",
      " * Accuracy 91.7135\n"
     ]
    },
    {
     "name": "stderr",
     "output_type": "stream",
     "text": [
      "\r",
      " 85%|██████████████████████████████████████████████████████████████████████████████████████████████████████████████████████████                     | 128/150 [1:59:59<20:37, 56.24s/it]"
     ]
    },
    {
     "name": "stdout",
     "output_type": "stream",
     "text": [
      "TRAIN: LOSS-->0.6162 (0.6162)\tACC-->75.000% (75.000%)\n",
      "TRAIN: 128 [0/4038 (0%)]\tLoss: 0.616199, Accuracy: 6/8 (75.000%)\n",
      "TRAIN: LOSS-->0.3148 (0.5484)\tACC-->87.500% (79.975%)\n",
      "TRAIN: 128 [1600/4038 (40%)]\tLoss: 0.314810, Accuracy: 7/8 (87.500%)\n",
      "TRAIN: LOSS-->0.6835 (0.5864)\tACC-->75.000% (79.021%)\n",
      "TRAIN: 128 [3200/4038 (79%)]\tLoss: 0.683490, Accuracy: 6/8 (75.000%)\n",
      "VAL:   LOSS--> 0.1069 (0.1069)\tACC-->100.000 (100.000)\n",
      " * Accuracy 93.2584\n"
     ]
    },
    {
     "name": "stderr",
     "output_type": "stream",
     "text": [
      "\r",
      " 86%|██████████████████████████████████████████████████████████████████████████████████████████████████████████████████████████▉                    | 129/150 [2:00:55<19:41, 56.24s/it]"
     ]
    },
    {
     "name": "stdout",
     "output_type": "stream",
     "text": [
      "TRAIN: LOSS-->0.6698 (0.6698)\tACC-->62.500% (62.500%)\n",
      "TRAIN: 129 [0/4038 (0%)]\tLoss: 0.669793, Accuracy: 5/8 (62.500%)\n",
      "TRAIN: LOSS-->1.1536 (0.6127)\tACC-->50.000% (79.291%)\n",
      "TRAIN: 129 [1600/4038 (40%)]\tLoss: 1.153580, Accuracy: 4/8 (50.000%)\n",
      "TRAIN: LOSS-->0.4853 (0.5882)\tACC-->87.500% (80.112%)\n",
      "TRAIN: 129 [3200/4038 (79%)]\tLoss: 0.485320, Accuracy: 7/8 (87.500%)\n",
      "VAL:   LOSS--> 0.0031 (0.0031)\tACC-->100.000 (100.000)\n",
      " * Accuracy 91.4326\n"
     ]
    },
    {
     "name": "stderr",
     "output_type": "stream",
     "text": [
      "\r",
      " 87%|███████████████████████████████████████████████████████████████████████████████████████████████████████████████████████████▉                   | 130/150 [2:01:51<18:44, 56.24s/it]"
     ]
    },
    {
     "name": "stdout",
     "output_type": "stream",
     "text": [
      "TRAIN: LOSS-->0.3066 (0.3066)\tACC-->100.000% (100.000%)\n",
      "TRAIN: 130 [0/4038 (0%)]\tLoss: 0.306575, Accuracy: 8/8 (100.000%)\n",
      "TRAIN: LOSS-->0.1546 (0.5919)\tACC-->100.000% (79.540%)\n",
      "TRAIN: 130 [1600/4038 (40%)]\tLoss: 0.154624, Accuracy: 8/8 (100.000%)\n",
      "TRAIN: LOSS-->0.3471 (0.5964)\tACC-->87.500% (79.021%)\n",
      "TRAIN: 130 [3200/4038 (79%)]\tLoss: 0.347053, Accuracy: 7/8 (87.500%)\n",
      "VAL:   LOSS--> 0.0344 (0.0344)\tACC-->100.000 (100.000)\n",
      " * Accuracy 93.5393\n"
     ]
    },
    {
     "name": "stderr",
     "output_type": "stream",
     "text": [
      "\r",
      " 87%|████████████████████████████████████████████████████████████████████████████████████████████████████████████████████████████▉                  | 131/150 [2:02:47<17:48, 56.24s/it]"
     ]
    },
    {
     "name": "stdout",
     "output_type": "stream",
     "text": [
      "TRAIN: LOSS-->0.4979 (0.4979)\tACC-->87.500% (87.500%)\n",
      "TRAIN: 131 [0/4038 (0%)]\tLoss: 0.497919, Accuracy: 7/8 (87.500%)\n",
      "TRAIN: LOSS-->1.1272 (0.6133)\tACC-->75.000% (79.167%)\n",
      "TRAIN: 131 [1600/4038 (40%)]\tLoss: 1.127165, Accuracy: 6/8 (75.000%)\n",
      "TRAIN: LOSS-->0.5357 (0.5895)\tACC-->62.500% (80.081%)\n",
      "TRAIN: 131 [3200/4038 (79%)]\tLoss: 0.535721, Accuracy: 5/8 (62.500%)\n",
      "VAL:   LOSS--> 0.2426 (0.2426)\tACC-->87.500 (87.500)\n",
      " * Accuracy 91.5730\n"
     ]
    },
    {
     "name": "stderr",
     "output_type": "stream",
     "text": [
      "\r",
      " 88%|█████████████████████████████████████████████████████████████████████████████████████████████████████████████████████████████▊                 | 132/150 [2:03:43<16:52, 56.24s/it]"
     ]
    },
    {
     "name": "stdout",
     "output_type": "stream",
     "text": [
      "TRAIN: LOSS-->0.6389 (0.6389)\tACC-->62.500% (62.500%)\n",
      "TRAIN: 132 [0/4038 (0%)]\tLoss: 0.638915, Accuracy: 5/8 (62.500%)\n",
      "TRAIN: LOSS-->0.3560 (0.5692)\tACC-->87.500% (80.037%)\n",
      "TRAIN: 132 [1600/4038 (40%)]\tLoss: 0.356032, Accuracy: 7/8 (87.500%)\n",
      "TRAIN: LOSS-->0.4147 (0.6088)\tACC-->75.000% (79.177%)\n",
      "TRAIN: 132 [3200/4038 (79%)]\tLoss: 0.414689, Accuracy: 6/8 (75.000%)\n",
      "VAL:   LOSS--> 0.0039 (0.0039)\tACC-->100.000 (100.000)\n",
      " * Accuracy 93.1180\n"
     ]
    },
    {
     "name": "stderr",
     "output_type": "stream",
     "text": [
      "\r",
      " 89%|██████████████████████████████████████████████████████████████████████████████████████████████████████████████████████████████▊                | 133/150 [2:04:39<15:56, 56.24s/it]"
     ]
    },
    {
     "name": "stdout",
     "output_type": "stream",
     "text": [
      "TRAIN: LOSS-->0.5772 (0.5772)\tACC-->75.000% (75.000%)\n",
      "TRAIN: 133 [0/4038 (0%)]\tLoss: 0.577206, Accuracy: 6/8 (75.000%)\n",
      "TRAIN: LOSS-->0.5060 (0.5922)\tACC-->87.500% (79.167%)\n",
      "TRAIN: 133 [1600/4038 (40%)]\tLoss: 0.506041, Accuracy: 7/8 (87.500%)\n",
      "TRAIN: LOSS-->1.1229 (0.6051)\tACC-->75.000% (79.177%)\n",
      "TRAIN: 133 [3200/4038 (79%)]\tLoss: 1.122938, Accuracy: 6/8 (75.000%)\n",
      "VAL:   LOSS--> 0.6029 (0.6029)\tACC-->87.500 (87.500)\n",
      " * Accuracy 92.8371\n"
     ]
    },
    {
     "name": "stderr",
     "output_type": "stream",
     "text": [
      "\r",
      " 89%|███████████████████████████████████████████████████████████████████████████████████████████████████████████████████████████████▋               | 134/150 [2:05:36<14:59, 56.24s/it]"
     ]
    },
    {
     "name": "stdout",
     "output_type": "stream",
     "text": [
      "TRAIN: LOSS-->0.1812 (0.1812)\tACC-->87.500% (87.500%)\n",
      "TRAIN: 134 [0/4038 (0%)]\tLoss: 0.181219, Accuracy: 7/8 (87.500%)\n",
      "TRAIN: LOSS-->0.0653 (0.5797)\tACC-->100.000% (80.100%)\n",
      "TRAIN: 134 [1600/4038 (40%)]\tLoss: 0.065348, Accuracy: 8/8 (100.000%)\n",
      "TRAIN: LOSS-->0.9082 (0.5649)\tACC-->50.000% (80.206%)\n",
      "TRAIN: 134 [3200/4038 (79%)]\tLoss: 0.908215, Accuracy: 4/8 (50.000%)\n",
      "VAL:   LOSS--> 0.0054 (0.0054)\tACC-->100.000 (100.000)\n",
      " * Accuracy 93.1180\n"
     ]
    },
    {
     "name": "stderr",
     "output_type": "stream",
     "text": [
      "\r",
      " 90%|████████████████████████████████████████████████████████████████████████████████████████████████████████████████████████████████▋              | 135/150 [2:06:32<14:03, 56.24s/it]"
     ]
    },
    {
     "name": "stdout",
     "output_type": "stream",
     "text": [
      "TRAIN: LOSS-->1.1246 (1.1246)\tACC-->75.000% (75.000%)\n",
      "TRAIN: 135 [0/4038 (0%)]\tLoss: 1.124601, Accuracy: 6/8 (75.000%)\n",
      "TRAIN: LOSS-->0.9190 (0.5969)\tACC-->62.500% (80.597%)\n",
      "TRAIN: 135 [1600/4038 (40%)]\tLoss: 0.918991, Accuracy: 5/8 (62.500%)\n",
      "TRAIN: LOSS-->0.1036 (0.6221)\tACC-->100.000% (79.052%)\n",
      "TRAIN: 135 [3200/4038 (79%)]\tLoss: 0.103625, Accuracy: 8/8 (100.000%)\n",
      "VAL:   LOSS--> 0.0842 (0.0842)\tACC-->100.000 (100.000)\n",
      " * Accuracy 91.8539\n"
     ]
    },
    {
     "name": "stderr",
     "output_type": "stream",
     "text": [
      "\r",
      " 91%|█████████████████████████████████████████████████████████████████████████████████████████████████████████████████████████████████▋             | 136/150 [2:07:28<13:07, 56.24s/it]"
     ]
    },
    {
     "name": "stdout",
     "output_type": "stream",
     "text": [
      "TRAIN: LOSS-->0.0673 (0.0673)\tACC-->100.000% (100.000%)\n",
      "TRAIN: 136 [0/4038 (0%)]\tLoss: 0.067261, Accuracy: 8/8 (100.000%)\n",
      "TRAIN: LOSS-->0.5227 (0.5788)\tACC-->87.500% (79.104%)\n",
      "TRAIN: 136 [1600/4038 (40%)]\tLoss: 0.522665, Accuracy: 7/8 (87.500%)\n",
      "TRAIN: LOSS-->0.5051 (0.5899)\tACC-->87.500% (78.429%)\n",
      "TRAIN: 136 [3200/4038 (79%)]\tLoss: 0.505073, Accuracy: 7/8 (87.500%)\n",
      "VAL:   LOSS--> 1.1235 (1.1235)\tACC-->62.500 (62.500)\n",
      " * Accuracy 91.1517\n"
     ]
    },
    {
     "name": "stderr",
     "output_type": "stream",
     "text": [
      "\r",
      " 91%|██████████████████████████████████████████████████████████████████████████████████████████████████████████████████████████████████▌            | 137/150 [2:08:24<12:11, 56.24s/it]"
     ]
    },
    {
     "name": "stdout",
     "output_type": "stream",
     "text": [
      "TRAIN: LOSS-->0.5515 (0.5515)\tACC-->75.000% (75.000%)\n",
      "TRAIN: 137 [0/4038 (0%)]\tLoss: 0.551450, Accuracy: 6/8 (75.000%)\n",
      "TRAIN: LOSS-->0.5492 (0.6109)\tACC-->75.000% (78.794%)\n",
      "TRAIN: 137 [1600/4038 (40%)]\tLoss: 0.549242, Accuracy: 6/8 (75.000%)\n",
      "TRAIN: LOSS-->1.0995 (0.5852)\tACC-->62.500% (79.613%)\n",
      "TRAIN: 137 [3200/4038 (79%)]\tLoss: 1.099453, Accuracy: 5/8 (62.500%)\n",
      "VAL:   LOSS--> 0.0787 (0.0787)\tACC-->100.000 (100.000)\n",
      " * Accuracy 92.9775\n"
     ]
    },
    {
     "name": "stderr",
     "output_type": "stream",
     "text": [
      "\r",
      " 92%|███████████████████████████████████████████████████████████████████████████████████████████████████████████████████████████████████▌           | 138/150 [2:09:20<11:14, 56.24s/it]"
     ]
    },
    {
     "name": "stdout",
     "output_type": "stream",
     "text": [
      "TRAIN: LOSS-->0.1607 (0.1607)\tACC-->100.000% (100.000%)\n",
      "TRAIN: 138 [0/4038 (0%)]\tLoss: 0.160652, Accuracy: 8/8 (100.000%)\n",
      "TRAIN: LOSS-->1.0053 (0.5496)\tACC-->50.000% (81.343%)\n",
      "TRAIN: 138 [1600/4038 (40%)]\tLoss: 1.005308, Accuracy: 4/8 (50.000%)\n",
      "TRAIN: LOSS-->0.9611 (0.5713)\tACC-->62.500% (80.050%)\n",
      "TRAIN: 138 [3200/4038 (79%)]\tLoss: 0.961149, Accuracy: 5/8 (62.500%)\n",
      "VAL:   LOSS--> 0.0312 (0.0312)\tACC-->100.000 (100.000)\n",
      " * Accuracy 91.8539\n"
     ]
    },
    {
     "name": "stderr",
     "output_type": "stream",
     "text": [
      "\r",
      " 93%|████████████████████████████████████████████████████████████████████████████████████████████████████████████████████████████████████▌          | 139/150 [2:10:16<10:18, 56.24s/it]"
     ]
    },
    {
     "name": "stdout",
     "output_type": "stream",
     "text": [
      "TRAIN: LOSS-->0.5590 (0.5590)\tACC-->75.000% (75.000%)\n",
      "TRAIN: 139 [0/4038 (0%)]\tLoss: 0.558964, Accuracy: 6/8 (75.000%)\n",
      "TRAIN: LOSS-->0.4784 (0.6107)\tACC-->75.000% (79.789%)\n",
      "TRAIN: 139 [1600/4038 (40%)]\tLoss: 0.478381, Accuracy: 6/8 (75.000%)\n",
      "TRAIN: LOSS-->0.6387 (0.5996)\tACC-->75.000% (79.146%)\n",
      "TRAIN: 139 [3200/4038 (79%)]\tLoss: 0.638721, Accuracy: 6/8 (75.000%)\n",
      "VAL:   LOSS--> 0.4877 (0.4877)\tACC-->87.500 (87.500)\n",
      " * Accuracy 91.8539\n"
     ]
    },
    {
     "name": "stderr",
     "output_type": "stream",
     "text": [
      "\r",
      " 93%|█████████████████████████████████████████████████████████████████████████████████████████████████████████████████████████████████████▍         | 140/150 [2:11:13<09:22, 56.24s/it]"
     ]
    },
    {
     "name": "stdout",
     "output_type": "stream",
     "text": [
      "TRAIN: LOSS-->0.4633 (0.4633)\tACC-->87.500% (87.500%)\n",
      "TRAIN: 140 [0/4038 (0%)]\tLoss: 0.463338, Accuracy: 7/8 (87.500%)\n",
      "TRAIN: LOSS-->0.8439 (0.5614)\tACC-->50.000% (80.784%)\n",
      "TRAIN: 140 [1600/4038 (40%)]\tLoss: 0.843858, Accuracy: 4/8 (50.000%)\n",
      "TRAIN: LOSS-->0.8634 (0.5789)\tACC-->75.000% (80.081%)\n",
      "TRAIN: 140 [3200/4038 (79%)]\tLoss: 0.863355, Accuracy: 6/8 (75.000%)\n",
      "VAL:   LOSS--> 0.1216 (0.1216)\tACC-->100.000 (100.000)\n",
      " * Accuracy 94.5225\n"
     ]
    },
    {
     "name": "stderr",
     "output_type": "stream",
     "text": [
      "\r",
      " 94%|██████████████████████████████████████████████████████████████████████████████████████████████████████████████████████████████████████▍        | 141/150 [2:12:09<08:26, 56.24s/it]"
     ]
    },
    {
     "name": "stdout",
     "output_type": "stream",
     "text": [
      "TRAIN: LOSS-->0.5567 (0.5567)\tACC-->75.000% (75.000%)\n",
      "TRAIN: 141 [0/4038 (0%)]\tLoss: 0.556656, Accuracy: 6/8 (75.000%)\n",
      "TRAIN: LOSS-->0.9984 (0.5952)\tACC-->75.000% (79.789%)\n",
      "TRAIN: 141 [1600/4038 (40%)]\tLoss: 0.998442, Accuracy: 6/8 (75.000%)\n",
      "TRAIN: LOSS-->0.6094 (0.5988)\tACC-->75.000% (79.458%)\n",
      "TRAIN: 141 [3200/4038 (79%)]\tLoss: 0.609411, Accuracy: 6/8 (75.000%)\n",
      "VAL:   LOSS--> 0.3476 (0.3476)\tACC-->87.500 (87.500)\n",
      " * Accuracy 93.8202\n"
     ]
    },
    {
     "name": "stderr",
     "output_type": "stream",
     "text": [
      "\r",
      " 95%|███████████████████████████████████████████████████████████████████████████████████████████████████████████████████████████████████████▎       | 142/150 [2:13:05<07:29, 56.24s/it]"
     ]
    },
    {
     "name": "stdout",
     "output_type": "stream",
     "text": [
      "TRAIN: LOSS-->0.1869 (0.1869)\tACC-->100.000% (100.000%)\n",
      "TRAIN: 142 [0/4038 (0%)]\tLoss: 0.186943, Accuracy: 8/8 (100.000%)\n",
      "TRAIN: LOSS-->0.3454 (0.5867)\tACC-->87.500% (79.540%)\n",
      "TRAIN: 142 [1600/4038 (40%)]\tLoss: 0.345430, Accuracy: 7/8 (87.500%)\n",
      "TRAIN: LOSS-->0.8023 (0.6030)\tACC-->75.000% (79.271%)\n",
      "TRAIN: 142 [3200/4038 (79%)]\tLoss: 0.802344, Accuracy: 6/8 (75.000%)\n",
      "VAL:   LOSS--> 0.0724 (0.0724)\tACC-->100.000 (100.000)\n",
      " * Accuracy 92.2753\n"
     ]
    },
    {
     "name": "stderr",
     "output_type": "stream",
     "text": [
      "\r",
      " 95%|████████████████████████████████████████████████████████████████████████████████████████████████████████████████████████████████████████▎      | 143/150 [2:14:01<06:33, 56.24s/it]"
     ]
    },
    {
     "name": "stdout",
     "output_type": "stream",
     "text": [
      "TRAIN: LOSS-->0.9296 (0.9296)\tACC-->87.500% (87.500%)\n",
      "TRAIN: 143 [0/4038 (0%)]\tLoss: 0.929562, Accuracy: 7/8 (87.500%)\n",
      "TRAIN: LOSS-->0.8615 (0.6046)\tACC-->87.500% (78.918%)\n",
      "TRAIN: 143 [1600/4038 (40%)]\tLoss: 0.861480, Accuracy: 7/8 (87.500%)\n",
      "TRAIN: LOSS-->0.2317 (0.5692)\tACC-->100.000% (80.517%)\n",
      "TRAIN: 143 [3200/4038 (79%)]\tLoss: 0.231747, Accuracy: 8/8 (100.000%)\n",
      "VAL:   LOSS--> 0.0087 (0.0087)\tACC-->100.000 (100.000)\n",
      " * Accuracy 92.5562\n"
     ]
    },
    {
     "name": "stderr",
     "output_type": "stream",
     "text": [
      "\r",
      " 96%|█████████████████████████████████████████████████████████████████████████████████████████████████████████████████████████████████████████▎     | 144/150 [2:14:57<05:37, 56.24s/it]"
     ]
    },
    {
     "name": "stdout",
     "output_type": "stream",
     "text": [
      "TRAIN: LOSS-->0.2908 (0.2908)\tACC-->100.000% (100.000%)\n",
      "TRAIN: 144 [0/4038 (0%)]\tLoss: 0.290810, Accuracy: 8/8 (100.000%)\n",
      "TRAIN: LOSS-->0.3884 (0.5925)\tACC-->75.000% (79.602%)\n",
      "TRAIN: 144 [1600/4038 (40%)]\tLoss: 0.388367, Accuracy: 6/8 (75.000%)\n",
      "TRAIN: LOSS-->0.1632 (0.5737)\tACC-->100.000% (80.019%)\n",
      "TRAIN: 144 [3200/4038 (79%)]\tLoss: 0.163193, Accuracy: 8/8 (100.000%)\n",
      "VAL:   LOSS--> 0.1108 (0.1108)\tACC-->100.000 (100.000)\n",
      " * Accuracy 93.1180\n"
     ]
    },
    {
     "name": "stderr",
     "output_type": "stream",
     "text": [
      "\r",
      " 97%|██████████████████████████████████████████████████████████████████████████████████████████████████████████████████████████████████████████▏    | 145/150 [2:15:53<04:41, 56.23s/it]"
     ]
    },
    {
     "name": "stdout",
     "output_type": "stream",
     "text": [
      "TRAIN: LOSS-->0.5275 (0.5275)\tACC-->62.500% (62.500%)\n",
      "TRAIN: 145 [0/4038 (0%)]\tLoss: 0.527549, Accuracy: 5/8 (62.500%)\n",
      "TRAIN: LOSS-->0.9913 (0.5515)\tACC-->62.500% (80.784%)\n",
      "TRAIN: 145 [1600/4038 (40%)]\tLoss: 0.991346, Accuracy: 5/8 (62.500%)\n",
      "TRAIN: LOSS-->0.6491 (0.5659)\tACC-->75.000% (80.175%)\n",
      "TRAIN: 145 [3200/4038 (79%)]\tLoss: 0.649122, Accuracy: 6/8 (75.000%)\n",
      "VAL:   LOSS--> 0.2156 (0.2156)\tACC-->87.500 (87.500)\n",
      " * Accuracy 92.2753\n"
     ]
    },
    {
     "name": "stderr",
     "output_type": "stream",
     "text": [
      "\r",
      " 97%|███████████████████████████████████████████████████████████████████████████████████████████████████████████████████████████████████████████▏   | 146/150 [2:16:50<03:44, 56.23s/it]"
     ]
    },
    {
     "name": "stdout",
     "output_type": "stream",
     "text": [
      "TRAIN: LOSS-->0.2128 (0.2128)\tACC-->100.000% (100.000%)\n",
      "TRAIN: 146 [0/4038 (0%)]\tLoss: 0.212760, Accuracy: 8/8 (100.000%)\n",
      "TRAIN: LOSS-->0.2196 (0.5923)\tACC-->100.000% (79.229%)\n",
      "TRAIN: 146 [1600/4038 (40%)]\tLoss: 0.219621, Accuracy: 8/8 (100.000%)\n",
      "TRAIN: LOSS-->0.3647 (0.6004)\tACC-->87.500% (79.364%)\n",
      "TRAIN: 146 [3200/4038 (79%)]\tLoss: 0.364682, Accuracy: 7/8 (87.500%)\n",
      "VAL:   LOSS--> 0.0078 (0.0078)\tACC-->100.000 (100.000)\n",
      " * Accuracy 94.2416\n"
     ]
    },
    {
     "name": "stderr",
     "output_type": "stream",
     "text": [
      "\r",
      " 98%|████████████████████████████████████████████████████████████████████████████████████████████████████████████████████████████████████████████▏  | 147/150 [2:17:46<02:48, 56.23s/it]"
     ]
    },
    {
     "name": "stdout",
     "output_type": "stream",
     "text": [
      "TRAIN: LOSS-->0.5369 (0.5369)\tACC-->75.000% (75.000%)\n",
      "TRAIN: 147 [0/4038 (0%)]\tLoss: 0.536897, Accuracy: 6/8 (75.000%)\n",
      "TRAIN: LOSS-->0.5830 (0.5744)\tACC-->62.500% (80.100%)\n",
      "TRAIN: 147 [1600/4038 (40%)]\tLoss: 0.583038, Accuracy: 5/8 (62.500%)\n",
      "TRAIN: LOSS-->0.6598 (0.5862)\tACC-->62.500% (79.645%)\n",
      "TRAIN: 147 [3200/4038 (79%)]\tLoss: 0.659844, Accuracy: 5/8 (62.500%)\n",
      "VAL:   LOSS--> 0.2954 (0.2954)\tACC-->87.500 (87.500)\n",
      " * Accuracy 92.1348\n"
     ]
    },
    {
     "name": "stderr",
     "output_type": "stream",
     "text": [
      "\r",
      " 99%|█████████████████████████████████████████████████████████████████████████████████████████████████████████████████████████████████████████████  | 148/150 [2:18:42<01:52, 56.23s/it]"
     ]
    },
    {
     "name": "stdout",
     "output_type": "stream",
     "text": [
      "TRAIN: LOSS-->0.6503 (0.6503)\tACC-->75.000% (75.000%)\n",
      "TRAIN: 148 [0/4038 (0%)]\tLoss: 0.650310, Accuracy: 6/8 (75.000%)\n",
      "TRAIN: LOSS-->0.3632 (0.5541)\tACC-->87.500% (81.592%)\n",
      "TRAIN: 148 [1600/4038 (40%)]\tLoss: 0.363205, Accuracy: 7/8 (87.500%)\n",
      "TRAIN: LOSS-->0.2205 (0.5716)\tACC-->87.500% (80.486%)\n",
      "TRAIN: 148 [3200/4038 (79%)]\tLoss: 0.220547, Accuracy: 7/8 (87.500%)\n",
      "VAL:   LOSS--> 0.3945 (0.3945)\tACC-->75.000 (75.000)\n",
      " * Accuracy 92.5562\n"
     ]
    },
    {
     "name": "stderr",
     "output_type": "stream",
     "text": [
      "\r",
      " 99%|██████████████████████████████████████████████████████████████████████████████████████████████████████████████████████████████████████████████ | 149/150 [2:19:38<00:56, 56.23s/it]"
     ]
    },
    {
     "name": "stdout",
     "output_type": "stream",
     "text": [
      "TRAIN: LOSS-->0.5897 (0.5897)\tACC-->75.000% (75.000%)\n",
      "TRAIN: 149 [0/4038 (0%)]\tLoss: 0.589660, Accuracy: 6/8 (75.000%)\n",
      "TRAIN: LOSS-->0.1839 (0.5672)\tACC-->100.000% (79.851%)\n",
      "TRAIN: 149 [1600/4038 (40%)]\tLoss: 0.183869, Accuracy: 8/8 (100.000%)\n",
      "TRAIN: LOSS-->0.4528 (0.5820)\tACC-->87.500% (79.925%)\n",
      "TRAIN: 149 [3200/4038 (79%)]\tLoss: 0.452808, Accuracy: 7/8 (87.500%)\n",
      "VAL:   LOSS--> 0.1428 (0.1428)\tACC-->100.000 (100.000)\n",
      " * Accuracy 91.8539\n"
     ]
    },
    {
     "name": "stderr",
     "output_type": "stream",
     "text": [
      "100%|███████████████████████████████████████████████████████████████████████████████████████████████████████████████████████████████████████████████| 150/150 [2:20:35<00:00, 56.24s/it]\n"
     ]
    }
   ],
   "source": [
    "sample_submission = pd.read_csv('sample_submission.csv')\n",
    "sample_submission.columns = ['file', 'species']\n",
    "# sample_submission['category_id'] = 0\n",
    "sample_submission.head(3)\n",
    "\n",
    "if __name__ == '__main__':  \n",
    "    epochs=150\n",
    "    runId = datetime.datetime.now().strftime('%Y-%m-%d_%H-%M-%S')    \n",
    "    recorder = RecorderMeter(epochs)  # epoc is updated\n",
    "#     model_name = (type(model).__name__)\n",
    "\n",
    "    exp_name = datetime.datetime.now().strftime(model_name + '_' + dataset + '_%Y-%m-%d_%H-%M-%S')    \n",
    "    mPath = './logs' + '/' + dataset + '/' + model_name + '/'    \n",
    "    if not os.path.isdir(mPath):\n",
    "        os.makedirs(mPath)    \n",
    "    print(\"Random Seed: {}\".format(manualSeed))\n",
    "    print(\"python version : {}\".format(sys.version.replace('\\n', ' ')))\n",
    "    print(\"torch  version : {}\".format(torch.__version__))\n",
    "    print(\"cudnn  version : {}\".format(torch.backends.cudnn.version()))    \n",
    "    print(\"=> Final model name '{}'\".format(model_name))            \n",
    "    print (\"MODEL: {}\".format( str(model_name)))\n",
    "    print (\"dataset: {}\".format(dataset))\n",
    "    print('    Total params: %.2fM' % (sum(p.numel() for p in model.parameters()) / 1000000.0))    \n",
    "    \n",
    "    print (\"MODEL: {}\".format( str(type(model).__name__)))\n",
    "    \n",
    "    start_training_time = time.time()\n",
    "    training_time=time.time()\n",
    "    for epoch in tqdm(range(0, epochs)):        \n",
    "        train_result, accuracy_tr=train(t_loader, model, epoch, optimizer)\n",
    "        val_loss, val_accuracy= validate(v_loader, model, epoch)  \n",
    "        \n",
    "        recorder.update(epoch, train_result, accuracy_tr, val_loss, val_accuracy) \n",
    "        training_time=time.time() - start_training_time\n",
    "        recorder.plot_curve(os.path.join(mPath, model_name + '_' + exp_name + '.png'),training_time, model, model_name,\n",
    "                            str(dataset_sizes),\n",
    "                        batch_size, lr,dataset,manualSeed,len(classes))\n",
    "        \n",
    "        if float(val_accuracy) > float(95.0):            \n",
    "            print (\"EARLY STOP\")            \n",
    "            df_pred=testModel(test_data_dir,model)\n",
    "            df_pred.to_csv(str(type(model).__name__) + '_' + str(val_accuracy) + '_' + \n",
    "                           str(epoch) + \"_sub.csv\", columns=('file', 'species'), index=None)\n",
    "            torch.save(model.state_dict(), os.path.join(mPath, model_name + '_' + runId + '_' + str(val_accuracy) + '_.pth'))                        "
   ]
  },
  {
   "cell_type": "code",
   "execution_count": 0,
   "metadata": {
    "colab": {
     "autoexec": {
      "startup": false,
      "wait_interval": 0
     }
    },
    "colab_type": "code",
    "collapsed": true,
    "id": "9mH8koj_zpTc"
   },
   "outputs": [],
   "source": [
    "torch.save(model.state_dict(), os.path.join(mPath, model_name + '_' + runId + '_' + str(val_accuracy) + 'FINAL_.pth'))"
   ]
  },
  {
   "cell_type": "markdown",
   "metadata": {
    "colab_type": "text",
    "id": "CZbOD_cEzpTg"
   },
   "source": [
    "In this step, participants will be asked to provide the following classification rates:\n",
    "\n",
    "-- TP (True Positive, which is the number of OP people correctly identified),\n",
    "\n",
    "-- FP (False Positive, which is the number of CT people incorrectly identified),\n",
    "\n",
    "-- TN (True Negative, which is the number of CT people correctly identified),\n",
    "\n",
    "-- FN (False Negative, which is the number of OP people incorrectly identified),\n",
    "\n",
    "-- Sn (True positive rate or sensitivity) as Sn = TP/(TP + FN),\n",
    "\n",
    "-- Sp (Specificity or True Negative Rate) as Sp = TN/(FP + TN)."
   ]
  },
  {
   "cell_type": "markdown",
   "metadata": {
    "colab_type": "text",
    "id": "xJl5xk-izpTh"
   },
   "source": [
    "## Confusion matrix code, from the scikit documentation"
   ]
  },
  {
   "cell_type": "code",
   "execution_count": 0,
   "metadata": {
    "colab": {
     "autoexec": {
      "startup": false,
      "wait_interval": 0
     }
    },
    "colab_type": "code",
    "collapsed": true,
    "id": "zSJhsAEAzpTi"
   },
   "outputs": [],
   "source": [
    "import itertools\n",
    "\n",
    "# Performance monitoring\n",
    "from time import process_time\n",
    "import matplotlib.pyplot as plt\n",
    "import numpy as np\n",
    "%matplotlib nbagg\n",
    "from sklearn.metrics import confusion_matrix\n",
    "\n",
    "def plot_confusion_matrix(cm, classes,\n",
    "                          normalize=False,\n",
    "                          title='Confusion matrix',\n",
    "                          cmap=plt.cm.Blues):\n",
    "    \"\"\"\n",
    "    This function prints and plots the confusion matrix.\n",
    "    Normalization can be applied by setting `normalize=True`.\n",
    "    \"\"\"\n",
    "    if normalize:\n",
    "        cm = cm.astype('float') / cm.sum(axis=1)[:, np.newaxis]\n",
    "        print(\"Normalized confusion matrix\")\n",
    "    else:\n",
    "        print('Confusion matrix, without normalization')\n",
    "\n",
    "    #print(cm)\n",
    "\n",
    "    plt.imshow(cm, interpolation='nearest', cmap=cmap)\n",
    "    plt.title(title)\n",
    "    plt.colorbar()\n",
    "    tick_marks = np.arange(len(classes))\n",
    "    plt.xticks(tick_marks, classes, rotation=45)\n",
    "    plt.yticks(tick_marks, classes)\n",
    "\n",
    "    fmt = '.2f' if normalize else 'd'\n",
    "    thresh = cm.max() / 2.\n",
    "    for i, j in itertools.product(range(cm.shape[0]), range(cm.shape[1])):\n",
    "        plt.text(j, i, format(cm[i, j], fmt),\n",
    "                 horizontalalignment=\"center\",\n",
    "                 color=\"white\" if cm[i, j] > thresh else \"black\")\n",
    "\n",
    "    plt.tight_layout()\n",
    "    plt.ylabel('True label')\n",
    "    plt.xlabel('Predicted label')\n",
    "\n",
    "def confusion_diagnostic(model) :\n",
    "    \"Displays a synthetic matrix, which represents our classifier performances.\"\n",
    "    y_test    = [] ; y_pred    = [] ; \n",
    "    for data, target in v_loader: # We won't load the testing dataset all at once:\n",
    "        # Load the data on the GPU if needed, and wrap it into an autodiff object ----\n",
    "        if use_cuda: data, target = data.cuda(), target.cuda()\n",
    "        data, target = Variable(data, volatile=True), Variable(target)\n",
    "        # Evaluation of our model on the test mini-batch -----------------------------\n",
    "        output     = model(data) # Forward pass through the model\n",
    "        pred       = output.data.max(1, keepdim=True)[1] # get the index of the max log-probability\n",
    "        y_test.append(target.data.cpu().numpy()) ; y_pred.append(pred.view(-1).cpu().numpy())\n",
    "    y_test = np.hstack(y_test) ; y_pred = np.hstack(y_pred)\n",
    "    \n",
    "    # Display --------------------------------------------------------------------   \n",
    "    cnf_matrix = confusion_matrix(y_test, y_pred)\n",
    "    fig = plt.figure(dpi=150)\n",
    "    plot_confusion_matrix(cnf_matrix, classes=classes,\n",
    "                      title='Confusion matrix')\n",
    "    fig.canvas.draw()"
   ]
  },
  {
   "cell_type": "code",
   "execution_count": 0,
   "metadata": {
    "colab": {
     "autoexec": {
      "startup": false,
      "wait_interval": 0
     },
     "output_extras": [
      {},
      {},
      {}
     ]
    },
    "colab_type": "code",
    "id": "Ak8tzO3TzpTk",
    "outputId": "866a43d0-e58a-44d6-8ae3-5ee742928d64"
   },
   "outputs": [
    {
     "data": {
      "application/javascript": [
       "/* Put everything inside the global mpl namespace */\n",
       "window.mpl = {};\n",
       "\n",
       "\n",
       "mpl.get_websocket_type = function() {\n",
       "    if (typeof(WebSocket) !== 'undefined') {\n",
       "        return WebSocket;\n",
       "    } else if (typeof(MozWebSocket) !== 'undefined') {\n",
       "        return MozWebSocket;\n",
       "    } else {\n",
       "        alert('Your browser does not have WebSocket support.' +\n",
       "              'Please try Chrome, Safari or Firefox ≥ 6. ' +\n",
       "              'Firefox 4 and 5 are also supported but you ' +\n",
       "              'have to enable WebSockets in about:config.');\n",
       "    };\n",
       "}\n",
       "\n",
       "mpl.figure = function(figure_id, websocket, ondownload, parent_element) {\n",
       "    this.id = figure_id;\n",
       "\n",
       "    this.ws = websocket;\n",
       "\n",
       "    this.supports_binary = (this.ws.binaryType != undefined);\n",
       "\n",
       "    if (!this.supports_binary) {\n",
       "        var warnings = document.getElementById(\"mpl-warnings\");\n",
       "        if (warnings) {\n",
       "            warnings.style.display = 'block';\n",
       "            warnings.textContent = (\n",
       "                \"This browser does not support binary websocket messages. \" +\n",
       "                    \"Performance may be slow.\");\n",
       "        }\n",
       "    }\n",
       "\n",
       "    this.imageObj = new Image();\n",
       "\n",
       "    this.context = undefined;\n",
       "    this.message = undefined;\n",
       "    this.canvas = undefined;\n",
       "    this.rubberband_canvas = undefined;\n",
       "    this.rubberband_context = undefined;\n",
       "    this.format_dropdown = undefined;\n",
       "\n",
       "    this.image_mode = 'full';\n",
       "\n",
       "    this.root = $('<div/>');\n",
       "    this._root_extra_style(this.root)\n",
       "    this.root.attr('style', 'display: inline-block');\n",
       "\n",
       "    $(parent_element).append(this.root);\n",
       "\n",
       "    this._init_header(this);\n",
       "    this._init_canvas(this);\n",
       "    this._init_toolbar(this);\n",
       "\n",
       "    var fig = this;\n",
       "\n",
       "    this.waiting = false;\n",
       "\n",
       "    this.ws.onopen =  function () {\n",
       "            fig.send_message(\"supports_binary\", {value: fig.supports_binary});\n",
       "            fig.send_message(\"send_image_mode\", {});\n",
       "            if (mpl.ratio != 1) {\n",
       "                fig.send_message(\"set_dpi_ratio\", {'dpi_ratio': mpl.ratio});\n",
       "            }\n",
       "            fig.send_message(\"refresh\", {});\n",
       "        }\n",
       "\n",
       "    this.imageObj.onload = function() {\n",
       "            if (fig.image_mode == 'full') {\n",
       "                // Full images could contain transparency (where diff images\n",
       "                // almost always do), so we need to clear the canvas so that\n",
       "                // there is no ghosting.\n",
       "                fig.context.clearRect(0, 0, fig.canvas.width, fig.canvas.height);\n",
       "            }\n",
       "            fig.context.drawImage(fig.imageObj, 0, 0);\n",
       "        };\n",
       "\n",
       "    this.imageObj.onunload = function() {\n",
       "        fig.ws.close();\n",
       "    }\n",
       "\n",
       "    this.ws.onmessage = this._make_on_message_function(this);\n",
       "\n",
       "    this.ondownload = ondownload;\n",
       "}\n",
       "\n",
       "mpl.figure.prototype._init_header = function() {\n",
       "    var titlebar = $(\n",
       "        '<div class=\"ui-dialog-titlebar ui-widget-header ui-corner-all ' +\n",
       "        'ui-helper-clearfix\"/>');\n",
       "    var titletext = $(\n",
       "        '<div class=\"ui-dialog-title\" style=\"width: 100%; ' +\n",
       "        'text-align: center; padding: 3px;\"/>');\n",
       "    titlebar.append(titletext)\n",
       "    this.root.append(titlebar);\n",
       "    this.header = titletext[0];\n",
       "}\n",
       "\n",
       "\n",
       "\n",
       "mpl.figure.prototype._canvas_extra_style = function(canvas_div) {\n",
       "\n",
       "}\n",
       "\n",
       "\n",
       "mpl.figure.prototype._root_extra_style = function(canvas_div) {\n",
       "\n",
       "}\n",
       "\n",
       "mpl.figure.prototype._init_canvas = function() {\n",
       "    var fig = this;\n",
       "\n",
       "    var canvas_div = $('<div/>');\n",
       "\n",
       "    canvas_div.attr('style', 'position: relative; clear: both; outline: 0');\n",
       "\n",
       "    function canvas_keyboard_event(event) {\n",
       "        return fig.key_event(event, event['data']);\n",
       "    }\n",
       "\n",
       "    canvas_div.keydown('key_press', canvas_keyboard_event);\n",
       "    canvas_div.keyup('key_release', canvas_keyboard_event);\n",
       "    this.canvas_div = canvas_div\n",
       "    this._canvas_extra_style(canvas_div)\n",
       "    this.root.append(canvas_div);\n",
       "\n",
       "    var canvas = $('<canvas/>');\n",
       "    canvas.addClass('mpl-canvas');\n",
       "    canvas.attr('style', \"left: 0; top: 0; z-index: 0; outline: 0\")\n",
       "\n",
       "    this.canvas = canvas[0];\n",
       "    this.context = canvas[0].getContext(\"2d\");\n",
       "\n",
       "    var backingStore = this.context.backingStorePixelRatio ||\n",
       "\tthis.context.webkitBackingStorePixelRatio ||\n",
       "\tthis.context.mozBackingStorePixelRatio ||\n",
       "\tthis.context.msBackingStorePixelRatio ||\n",
       "\tthis.context.oBackingStorePixelRatio ||\n",
       "\tthis.context.backingStorePixelRatio || 1;\n",
       "\n",
       "    mpl.ratio = (window.devicePixelRatio || 1) / backingStore;\n",
       "\n",
       "    var rubberband = $('<canvas/>');\n",
       "    rubberband.attr('style', \"position: absolute; left: 0; top: 0; z-index: 1;\")\n",
       "\n",
       "    var pass_mouse_events = true;\n",
       "\n",
       "    canvas_div.resizable({\n",
       "        start: function(event, ui) {\n",
       "            pass_mouse_events = false;\n",
       "        },\n",
       "        resize: function(event, ui) {\n",
       "            fig.request_resize(ui.size.width, ui.size.height);\n",
       "        },\n",
       "        stop: function(event, ui) {\n",
       "            pass_mouse_events = true;\n",
       "            fig.request_resize(ui.size.width, ui.size.height);\n",
       "        },\n",
       "    });\n",
       "\n",
       "    function mouse_event_fn(event) {\n",
       "        if (pass_mouse_events)\n",
       "            return fig.mouse_event(event, event['data']);\n",
       "    }\n",
       "\n",
       "    rubberband.mousedown('button_press', mouse_event_fn);\n",
       "    rubberband.mouseup('button_release', mouse_event_fn);\n",
       "    // Throttle sequential mouse events to 1 every 20ms.\n",
       "    rubberband.mousemove('motion_notify', mouse_event_fn);\n",
       "\n",
       "    rubberband.mouseenter('figure_enter', mouse_event_fn);\n",
       "    rubberband.mouseleave('figure_leave', mouse_event_fn);\n",
       "\n",
       "    canvas_div.on(\"wheel\", function (event) {\n",
       "        event = event.originalEvent;\n",
       "        event['data'] = 'scroll'\n",
       "        if (event.deltaY < 0) {\n",
       "            event.step = 1;\n",
       "        } else {\n",
       "            event.step = -1;\n",
       "        }\n",
       "        mouse_event_fn(event);\n",
       "    });\n",
       "\n",
       "    canvas_div.append(canvas);\n",
       "    canvas_div.append(rubberband);\n",
       "\n",
       "    this.rubberband = rubberband;\n",
       "    this.rubberband_canvas = rubberband[0];\n",
       "    this.rubberband_context = rubberband[0].getContext(\"2d\");\n",
       "    this.rubberband_context.strokeStyle = \"#000000\";\n",
       "\n",
       "    this._resize_canvas = function(width, height) {\n",
       "        // Keep the size of the canvas, canvas container, and rubber band\n",
       "        // canvas in synch.\n",
       "        canvas_div.css('width', width)\n",
       "        canvas_div.css('height', height)\n",
       "\n",
       "        canvas.attr('width', width * mpl.ratio);\n",
       "        canvas.attr('height', height * mpl.ratio);\n",
       "        canvas.attr('style', 'width: ' + width + 'px; height: ' + height + 'px;');\n",
       "\n",
       "        rubberband.attr('width', width);\n",
       "        rubberband.attr('height', height);\n",
       "    }\n",
       "\n",
       "    // Set the figure to an initial 600x600px, this will subsequently be updated\n",
       "    // upon first draw.\n",
       "    this._resize_canvas(600, 600);\n",
       "\n",
       "    // Disable right mouse context menu.\n",
       "    $(this.rubberband_canvas).bind(\"contextmenu\",function(e){\n",
       "        return false;\n",
       "    });\n",
       "\n",
       "    function set_focus () {\n",
       "        canvas.focus();\n",
       "        canvas_div.focus();\n",
       "    }\n",
       "\n",
       "    window.setTimeout(set_focus, 100);\n",
       "}\n",
       "\n",
       "mpl.figure.prototype._init_toolbar = function() {\n",
       "    var fig = this;\n",
       "\n",
       "    var nav_element = $('<div/>')\n",
       "    nav_element.attr('style', 'width: 100%');\n",
       "    this.root.append(nav_element);\n",
       "\n",
       "    // Define a callback function for later on.\n",
       "    function toolbar_event(event) {\n",
       "        return fig.toolbar_button_onclick(event['data']);\n",
       "    }\n",
       "    function toolbar_mouse_event(event) {\n",
       "        return fig.toolbar_button_onmouseover(event['data']);\n",
       "    }\n",
       "\n",
       "    for(var toolbar_ind in mpl.toolbar_items) {\n",
       "        var name = mpl.toolbar_items[toolbar_ind][0];\n",
       "        var tooltip = mpl.toolbar_items[toolbar_ind][1];\n",
       "        var image = mpl.toolbar_items[toolbar_ind][2];\n",
       "        var method_name = mpl.toolbar_items[toolbar_ind][3];\n",
       "\n",
       "        if (!name) {\n",
       "            // put a spacer in here.\n",
       "            continue;\n",
       "        }\n",
       "        var button = $('<button/>');\n",
       "        button.addClass('ui-button ui-widget ui-state-default ui-corner-all ' +\n",
       "                        'ui-button-icon-only');\n",
       "        button.attr('role', 'button');\n",
       "        button.attr('aria-disabled', 'false');\n",
       "        button.click(method_name, toolbar_event);\n",
       "        button.mouseover(tooltip, toolbar_mouse_event);\n",
       "\n",
       "        var icon_img = $('<span/>');\n",
       "        icon_img.addClass('ui-button-icon-primary ui-icon');\n",
       "        icon_img.addClass(image);\n",
       "        icon_img.addClass('ui-corner-all');\n",
       "\n",
       "        var tooltip_span = $('<span/>');\n",
       "        tooltip_span.addClass('ui-button-text');\n",
       "        tooltip_span.html(tooltip);\n",
       "\n",
       "        button.append(icon_img);\n",
       "        button.append(tooltip_span);\n",
       "\n",
       "        nav_element.append(button);\n",
       "    }\n",
       "\n",
       "    var fmt_picker_span = $('<span/>');\n",
       "\n",
       "    var fmt_picker = $('<select/>');\n",
       "    fmt_picker.addClass('mpl-toolbar-option ui-widget ui-widget-content');\n",
       "    fmt_picker_span.append(fmt_picker);\n",
       "    nav_element.append(fmt_picker_span);\n",
       "    this.format_dropdown = fmt_picker[0];\n",
       "\n",
       "    for (var ind in mpl.extensions) {\n",
       "        var fmt = mpl.extensions[ind];\n",
       "        var option = $(\n",
       "            '<option/>', {selected: fmt === mpl.default_extension}).html(fmt);\n",
       "        fmt_picker.append(option)\n",
       "    }\n",
       "\n",
       "    // Add hover states to the ui-buttons\n",
       "    $( \".ui-button\" ).hover(\n",
       "        function() { $(this).addClass(\"ui-state-hover\");},\n",
       "        function() { $(this).removeClass(\"ui-state-hover\");}\n",
       "    );\n",
       "\n",
       "    var status_bar = $('<span class=\"mpl-message\"/>');\n",
       "    nav_element.append(status_bar);\n",
       "    this.message = status_bar[0];\n",
       "}\n",
       "\n",
       "mpl.figure.prototype.request_resize = function(x_pixels, y_pixels) {\n",
       "    // Request matplotlib to resize the figure. Matplotlib will then trigger a resize in the client,\n",
       "    // which will in turn request a refresh of the image.\n",
       "    this.send_message('resize', {'width': x_pixels, 'height': y_pixels});\n",
       "}\n",
       "\n",
       "mpl.figure.prototype.send_message = function(type, properties) {\n",
       "    properties['type'] = type;\n",
       "    properties['figure_id'] = this.id;\n",
       "    this.ws.send(JSON.stringify(properties));\n",
       "}\n",
       "\n",
       "mpl.figure.prototype.send_draw_message = function() {\n",
       "    if (!this.waiting) {\n",
       "        this.waiting = true;\n",
       "        this.ws.send(JSON.stringify({type: \"draw\", figure_id: this.id}));\n",
       "    }\n",
       "}\n",
       "\n",
       "\n",
       "mpl.figure.prototype.handle_save = function(fig, msg) {\n",
       "    var format_dropdown = fig.format_dropdown;\n",
       "    var format = format_dropdown.options[format_dropdown.selectedIndex].value;\n",
       "    fig.ondownload(fig, format);\n",
       "}\n",
       "\n",
       "\n",
       "mpl.figure.prototype.handle_resize = function(fig, msg) {\n",
       "    var size = msg['size'];\n",
       "    if (size[0] != fig.canvas.width || size[1] != fig.canvas.height) {\n",
       "        fig._resize_canvas(size[0], size[1]);\n",
       "        fig.send_message(\"refresh\", {});\n",
       "    };\n",
       "}\n",
       "\n",
       "mpl.figure.prototype.handle_rubberband = function(fig, msg) {\n",
       "    var x0 = msg['x0'] / mpl.ratio;\n",
       "    var y0 = (fig.canvas.height - msg['y0']) / mpl.ratio;\n",
       "    var x1 = msg['x1'] / mpl.ratio;\n",
       "    var y1 = (fig.canvas.height - msg['y1']) / mpl.ratio;\n",
       "    x0 = Math.floor(x0) + 0.5;\n",
       "    y0 = Math.floor(y0) + 0.5;\n",
       "    x1 = Math.floor(x1) + 0.5;\n",
       "    y1 = Math.floor(y1) + 0.5;\n",
       "    var min_x = Math.min(x0, x1);\n",
       "    var min_y = Math.min(y0, y1);\n",
       "    var width = Math.abs(x1 - x0);\n",
       "    var height = Math.abs(y1 - y0);\n",
       "\n",
       "    fig.rubberband_context.clearRect(\n",
       "        0, 0, fig.canvas.width, fig.canvas.height);\n",
       "\n",
       "    fig.rubberband_context.strokeRect(min_x, min_y, width, height);\n",
       "}\n",
       "\n",
       "mpl.figure.prototype.handle_figure_label = function(fig, msg) {\n",
       "    // Updates the figure title.\n",
       "    fig.header.textContent = msg['label'];\n",
       "}\n",
       "\n",
       "mpl.figure.prototype.handle_cursor = function(fig, msg) {\n",
       "    var cursor = msg['cursor'];\n",
       "    switch(cursor)\n",
       "    {\n",
       "    case 0:\n",
       "        cursor = 'pointer';\n",
       "        break;\n",
       "    case 1:\n",
       "        cursor = 'default';\n",
       "        break;\n",
       "    case 2:\n",
       "        cursor = 'crosshair';\n",
       "        break;\n",
       "    case 3:\n",
       "        cursor = 'move';\n",
       "        break;\n",
       "    }\n",
       "    fig.rubberband_canvas.style.cursor = cursor;\n",
       "}\n",
       "\n",
       "mpl.figure.prototype.handle_message = function(fig, msg) {\n",
       "    fig.message.textContent = msg['message'];\n",
       "}\n",
       "\n",
       "mpl.figure.prototype.handle_draw = function(fig, msg) {\n",
       "    // Request the server to send over a new figure.\n",
       "    fig.send_draw_message();\n",
       "}\n",
       "\n",
       "mpl.figure.prototype.handle_image_mode = function(fig, msg) {\n",
       "    fig.image_mode = msg['mode'];\n",
       "}\n",
       "\n",
       "mpl.figure.prototype.updated_canvas_event = function() {\n",
       "    // Called whenever the canvas gets updated.\n",
       "    this.send_message(\"ack\", {});\n",
       "}\n",
       "\n",
       "// A function to construct a web socket function for onmessage handling.\n",
       "// Called in the figure constructor.\n",
       "mpl.figure.prototype._make_on_message_function = function(fig) {\n",
       "    return function socket_on_message(evt) {\n",
       "        if (evt.data instanceof Blob) {\n",
       "            /* FIXME: We get \"Resource interpreted as Image but\n",
       "             * transferred with MIME type text/plain:\" errors on\n",
       "             * Chrome.  But how to set the MIME type?  It doesn't seem\n",
       "             * to be part of the websocket stream */\n",
       "            evt.data.type = \"image/png\";\n",
       "\n",
       "            /* Free the memory for the previous frames */\n",
       "            if (fig.imageObj.src) {\n",
       "                (window.URL || window.webkitURL).revokeObjectURL(\n",
       "                    fig.imageObj.src);\n",
       "            }\n",
       "\n",
       "            fig.imageObj.src = (window.URL || window.webkitURL).createObjectURL(\n",
       "                evt.data);\n",
       "            fig.updated_canvas_event();\n",
       "            fig.waiting = false;\n",
       "            return;\n",
       "        }\n",
       "        else if (typeof evt.data === 'string' && evt.data.slice(0, 21) == \"data:image/png;base64\") {\n",
       "            fig.imageObj.src = evt.data;\n",
       "            fig.updated_canvas_event();\n",
       "            fig.waiting = false;\n",
       "            return;\n",
       "        }\n",
       "\n",
       "        var msg = JSON.parse(evt.data);\n",
       "        var msg_type = msg['type'];\n",
       "\n",
       "        // Call the  \"handle_{type}\" callback, which takes\n",
       "        // the figure and JSON message as its only arguments.\n",
       "        try {\n",
       "            var callback = fig[\"handle_\" + msg_type];\n",
       "        } catch (e) {\n",
       "            console.log(\"No handler for the '\" + msg_type + \"' message type: \", msg);\n",
       "            return;\n",
       "        }\n",
       "\n",
       "        if (callback) {\n",
       "            try {\n",
       "                // console.log(\"Handling '\" + msg_type + \"' message: \", msg);\n",
       "                callback(fig, msg);\n",
       "            } catch (e) {\n",
       "                console.log(\"Exception inside the 'handler_\" + msg_type + \"' callback:\", e, e.stack, msg);\n",
       "            }\n",
       "        }\n",
       "    };\n",
       "}\n",
       "\n",
       "// from http://stackoverflow.com/questions/1114465/getting-mouse-location-in-canvas\n",
       "mpl.findpos = function(e) {\n",
       "    //this section is from http://www.quirksmode.org/js/events_properties.html\n",
       "    var targ;\n",
       "    if (!e)\n",
       "        e = window.event;\n",
       "    if (e.target)\n",
       "        targ = e.target;\n",
       "    else if (e.srcElement)\n",
       "        targ = e.srcElement;\n",
       "    if (targ.nodeType == 3) // defeat Safari bug\n",
       "        targ = targ.parentNode;\n",
       "\n",
       "    // jQuery normalizes the pageX and pageY\n",
       "    // pageX,Y are the mouse positions relative to the document\n",
       "    // offset() returns the position of the element relative to the document\n",
       "    var x = e.pageX - $(targ).offset().left;\n",
       "    var y = e.pageY - $(targ).offset().top;\n",
       "\n",
       "    return {\"x\": x, \"y\": y};\n",
       "};\n",
       "\n",
       "/*\n",
       " * return a copy of an object with only non-object keys\n",
       " * we need this to avoid circular references\n",
       " * http://stackoverflow.com/a/24161582/3208463\n",
       " */\n",
       "function simpleKeys (original) {\n",
       "  return Object.keys(original).reduce(function (obj, key) {\n",
       "    if (typeof original[key] !== 'object')\n",
       "        obj[key] = original[key]\n",
       "    return obj;\n",
       "  }, {});\n",
       "}\n",
       "\n",
       "mpl.figure.prototype.mouse_event = function(event, name) {\n",
       "    var canvas_pos = mpl.findpos(event)\n",
       "\n",
       "    if (name === 'button_press')\n",
       "    {\n",
       "        this.canvas.focus();\n",
       "        this.canvas_div.focus();\n",
       "    }\n",
       "\n",
       "    var x = canvas_pos.x * mpl.ratio;\n",
       "    var y = canvas_pos.y * mpl.ratio;\n",
       "\n",
       "    this.send_message(name, {x: x, y: y, button: event.button,\n",
       "                             step: event.step,\n",
       "                             guiEvent: simpleKeys(event)});\n",
       "\n",
       "    /* This prevents the web browser from automatically changing to\n",
       "     * the text insertion cursor when the button is pressed.  We want\n",
       "     * to control all of the cursor setting manually through the\n",
       "     * 'cursor' event from matplotlib */\n",
       "    event.preventDefault();\n",
       "    return false;\n",
       "}\n",
       "\n",
       "mpl.figure.prototype._key_event_extra = function(event, name) {\n",
       "    // Handle any extra behaviour associated with a key event\n",
       "}\n",
       "\n",
       "mpl.figure.prototype.key_event = function(event, name) {\n",
       "\n",
       "    // Prevent repeat events\n",
       "    if (name == 'key_press')\n",
       "    {\n",
       "        if (event.which === this._key)\n",
       "            return;\n",
       "        else\n",
       "            this._key = event.which;\n",
       "    }\n",
       "    if (name == 'key_release')\n",
       "        this._key = null;\n",
       "\n",
       "    var value = '';\n",
       "    if (event.ctrlKey && event.which != 17)\n",
       "        value += \"ctrl+\";\n",
       "    if (event.altKey && event.which != 18)\n",
       "        value += \"alt+\";\n",
       "    if (event.shiftKey && event.which != 16)\n",
       "        value += \"shift+\";\n",
       "\n",
       "    value += 'k';\n",
       "    value += event.which.toString();\n",
       "\n",
       "    this._key_event_extra(event, name);\n",
       "\n",
       "    this.send_message(name, {key: value,\n",
       "                             guiEvent: simpleKeys(event)});\n",
       "    return false;\n",
       "}\n",
       "\n",
       "mpl.figure.prototype.toolbar_button_onclick = function(name) {\n",
       "    if (name == 'download') {\n",
       "        this.handle_save(this, null);\n",
       "    } else {\n",
       "        this.send_message(\"toolbar_button\", {name: name});\n",
       "    }\n",
       "};\n",
       "\n",
       "mpl.figure.prototype.toolbar_button_onmouseover = function(tooltip) {\n",
       "    this.message.textContent = tooltip;\n",
       "};\n",
       "mpl.toolbar_items = [[\"Home\", \"Reset original view\", \"fa fa-home icon-home\", \"home\"], [\"Back\", \"Back to  previous view\", \"fa fa-arrow-left icon-arrow-left\", \"back\"], [\"Forward\", \"Forward to next view\", \"fa fa-arrow-right icon-arrow-right\", \"forward\"], [\"\", \"\", \"\", \"\"], [\"Pan\", \"Pan axes with left mouse, zoom with right\", \"fa fa-arrows icon-move\", \"pan\"], [\"Zoom\", \"Zoom to rectangle\", \"fa fa-square-o icon-check-empty\", \"zoom\"], [\"\", \"\", \"\", \"\"], [\"Download\", \"Download plot\", \"fa fa-floppy-o icon-save\", \"download\"]];\n",
       "\n",
       "mpl.extensions = [\"eps\", \"jpeg\", \"pdf\", \"png\", \"ps\", \"raw\", \"svg\", \"tif\"];\n",
       "\n",
       "mpl.default_extension = \"png\";var comm_websocket_adapter = function(comm) {\n",
       "    // Create a \"websocket\"-like object which calls the given IPython comm\n",
       "    // object with the appropriate methods. Currently this is a non binary\n",
       "    // socket, so there is still some room for performance tuning.\n",
       "    var ws = {};\n",
       "\n",
       "    ws.close = function() {\n",
       "        comm.close()\n",
       "    };\n",
       "    ws.send = function(m) {\n",
       "        //console.log('sending', m);\n",
       "        comm.send(m);\n",
       "    };\n",
       "    // Register the callback with on_msg.\n",
       "    comm.on_msg(function(msg) {\n",
       "        //console.log('receiving', msg['content']['data'], msg);\n",
       "        // Pass the mpl event to the overriden (by mpl) onmessage function.\n",
       "        ws.onmessage(msg['content']['data'])\n",
       "    });\n",
       "    return ws;\n",
       "}\n",
       "\n",
       "mpl.mpl_figure_comm = function(comm, msg) {\n",
       "    // This is the function which gets called when the mpl process\n",
       "    // starts-up an IPython Comm through the \"matplotlib\" channel.\n",
       "\n",
       "    var id = msg.content.data.id;\n",
       "    // Get hold of the div created by the display call when the Comm\n",
       "    // socket was opened in Python.\n",
       "    var element = $(\"#\" + id);\n",
       "    var ws_proxy = comm_websocket_adapter(comm)\n",
       "\n",
       "    function ondownload(figure, format) {\n",
       "        window.open(figure.imageObj.src);\n",
       "    }\n",
       "\n",
       "    var fig = new mpl.figure(id, ws_proxy,\n",
       "                           ondownload,\n",
       "                           element.get(0));\n",
       "\n",
       "    // Call onopen now - mpl needs it, as it is assuming we've passed it a real\n",
       "    // web socket which is closed, not our websocket->open comm proxy.\n",
       "    ws_proxy.onopen();\n",
       "\n",
       "    fig.parent_element = element.get(0);\n",
       "    fig.cell_info = mpl.find_output_cell(\"<div id='\" + id + \"'></div>\");\n",
       "    if (!fig.cell_info) {\n",
       "        console.error(\"Failed to find cell for figure\", id, fig);\n",
       "        return;\n",
       "    }\n",
       "\n",
       "    var output_index = fig.cell_info[2]\n",
       "    var cell = fig.cell_info[0];\n",
       "\n",
       "};\n",
       "\n",
       "mpl.figure.prototype.handle_close = function(fig, msg) {\n",
       "    var width = fig.canvas.width/mpl.ratio\n",
       "    fig.root.unbind('remove')\n",
       "\n",
       "    // Update the output cell to use the data from the current canvas.\n",
       "    fig.push_to_output();\n",
       "    var dataURL = fig.canvas.toDataURL();\n",
       "    // Re-enable the keyboard manager in IPython - without this line, in FF,\n",
       "    // the notebook keyboard shortcuts fail.\n",
       "    IPython.keyboard_manager.enable()\n",
       "    $(fig.parent_element).html('<img src=\"' + dataURL + '\" width=\"' + width + '\">');\n",
       "    fig.close_ws(fig, msg);\n",
       "}\n",
       "\n",
       "mpl.figure.prototype.close_ws = function(fig, msg){\n",
       "    fig.send_message('closing', msg);\n",
       "    // fig.ws.close()\n",
       "}\n",
       "\n",
       "mpl.figure.prototype.push_to_output = function(remove_interactive) {\n",
       "    // Turn the data on the canvas into data in the output cell.\n",
       "    var width = this.canvas.width/mpl.ratio\n",
       "    var dataURL = this.canvas.toDataURL();\n",
       "    this.cell_info[1]['text/html'] = '<img src=\"' + dataURL + '\" width=\"' + width + '\">';\n",
       "}\n",
       "\n",
       "mpl.figure.prototype.updated_canvas_event = function() {\n",
       "    // Tell IPython that the notebook contents must change.\n",
       "    IPython.notebook.set_dirty(true);\n",
       "    this.send_message(\"ack\", {});\n",
       "    var fig = this;\n",
       "    // Wait a second, then push the new image to the DOM so\n",
       "    // that it is saved nicely (might be nice to debounce this).\n",
       "    setTimeout(function () { fig.push_to_output() }, 1000);\n",
       "}\n",
       "\n",
       "mpl.figure.prototype._init_toolbar = function() {\n",
       "    var fig = this;\n",
       "\n",
       "    var nav_element = $('<div/>')\n",
       "    nav_element.attr('style', 'width: 100%');\n",
       "    this.root.append(nav_element);\n",
       "\n",
       "    // Define a callback function for later on.\n",
       "    function toolbar_event(event) {\n",
       "        return fig.toolbar_button_onclick(event['data']);\n",
       "    }\n",
       "    function toolbar_mouse_event(event) {\n",
       "        return fig.toolbar_button_onmouseover(event['data']);\n",
       "    }\n",
       "\n",
       "    for(var toolbar_ind in mpl.toolbar_items){\n",
       "        var name = mpl.toolbar_items[toolbar_ind][0];\n",
       "        var tooltip = mpl.toolbar_items[toolbar_ind][1];\n",
       "        var image = mpl.toolbar_items[toolbar_ind][2];\n",
       "        var method_name = mpl.toolbar_items[toolbar_ind][3];\n",
       "\n",
       "        if (!name) { continue; };\n",
       "\n",
       "        var button = $('<button class=\"btn btn-default\" href=\"#\" title=\"' + name + '\"><i class=\"fa ' + image + ' fa-lg\"></i></button>');\n",
       "        button.click(method_name, toolbar_event);\n",
       "        button.mouseover(tooltip, toolbar_mouse_event);\n",
       "        nav_element.append(button);\n",
       "    }\n",
       "\n",
       "    // Add the status bar.\n",
       "    var status_bar = $('<span class=\"mpl-message\" style=\"text-align:right; float: right;\"/>');\n",
       "    nav_element.append(status_bar);\n",
       "    this.message = status_bar[0];\n",
       "\n",
       "    // Add the close button to the window.\n",
       "    var buttongrp = $('<div class=\"btn-group inline pull-right\"></div>');\n",
       "    var button = $('<button class=\"btn btn-mini btn-primary\" href=\"#\" title=\"Stop Interaction\"><i class=\"fa fa-power-off icon-remove icon-large\"></i></button>');\n",
       "    button.click(function (evt) { fig.handle_close(fig, {}); } );\n",
       "    button.mouseover('Stop Interaction', toolbar_mouse_event);\n",
       "    buttongrp.append(button);\n",
       "    var titlebar = this.root.find($('.ui-dialog-titlebar'));\n",
       "    titlebar.prepend(buttongrp);\n",
       "}\n",
       "\n",
       "mpl.figure.prototype._root_extra_style = function(el){\n",
       "    var fig = this\n",
       "    el.on(\"remove\", function(){\n",
       "\tfig.close_ws(fig, {});\n",
       "    });\n",
       "}\n",
       "\n",
       "mpl.figure.prototype._canvas_extra_style = function(el){\n",
       "    // this is important to make the div 'focusable\n",
       "    el.attr('tabindex', 0)\n",
       "    // reach out to IPython and tell the keyboard manager to turn it's self\n",
       "    // off when our div gets focus\n",
       "\n",
       "    // location in version 3\n",
       "    if (IPython.notebook.keyboard_manager) {\n",
       "        IPython.notebook.keyboard_manager.register_events(el);\n",
       "    }\n",
       "    else {\n",
       "        // location in version 2\n",
       "        IPython.keyboard_manager.register_events(el);\n",
       "    }\n",
       "\n",
       "}\n",
       "\n",
       "mpl.figure.prototype._key_event_extra = function(event, name) {\n",
       "    var manager = IPython.notebook.keyboard_manager;\n",
       "    if (!manager)\n",
       "        manager = IPython.keyboard_manager;\n",
       "\n",
       "    // Check for shift+enter\n",
       "    if (event.shiftKey && event.which == 13) {\n",
       "        this.canvas_div.blur();\n",
       "        event.shiftKey = false;\n",
       "        // Send a \"J\" for go to next cell\n",
       "        event.which = 74;\n",
       "        event.keyCode = 74;\n",
       "        manager.command_mode();\n",
       "        manager.handle_keydown(event);\n",
       "    }\n",
       "}\n",
       "\n",
       "mpl.figure.prototype.handle_save = function(fig, msg) {\n",
       "    fig.ondownload(fig, null);\n",
       "}\n",
       "\n",
       "\n",
       "mpl.find_output_cell = function(html_output) {\n",
       "    // Return the cell and output element which can be found *uniquely* in the notebook.\n",
       "    // Note - this is a bit hacky, but it is done because the \"notebook_saving.Notebook\"\n",
       "    // IPython event is triggered only after the cells have been serialised, which for\n",
       "    // our purposes (turning an active figure into a static one), is too late.\n",
       "    var cells = IPython.notebook.get_cells();\n",
       "    var ncells = cells.length;\n",
       "    for (var i=0; i<ncells; i++) {\n",
       "        var cell = cells[i];\n",
       "        if (cell.cell_type === 'code'){\n",
       "            for (var j=0; j<cell.output_area.outputs.length; j++) {\n",
       "                var data = cell.output_area.outputs[j];\n",
       "                if (data.data) {\n",
       "                    // IPython >= 3 moved mimebundle to data attribute of output\n",
       "                    data = data.data;\n",
       "                }\n",
       "                if (data['text/html'] == html_output) {\n",
       "                    return [cell, data, j];\n",
       "                }\n",
       "            }\n",
       "        }\n",
       "    }\n",
       "}\n",
       "\n",
       "// Register the function which deals with the matplotlib target/channel.\n",
       "// The kernel may be null if the page has been refreshed.\n",
       "if (IPython.notebook.kernel != null) {\n",
       "    IPython.notebook.kernel.comm_manager.register_target('matplotlib', mpl.mpl_figure_comm);\n",
       "}\n"
      ],
      "text/plain": [
       "<IPython.core.display.Javascript object>"
      ]
     },
     "metadata": {
      "tags": []
     },
     "output_type": "display_data"
    },
    {
     "data": {
      "text/html": [
       "<img src=\"data:image/png;base64,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\" width=\"900\">"
      ],
      "text/plain": [
       "<IPython.core.display.HTML object>"
      ]
     },
     "metadata": {
      "tags": []
     },
     "output_type": "display_data"
    },
    {
     "name": "stdout",
     "output_type": "stream",
     "text": [
      "Confusion matrix, without normalization\n"
     ]
    }
   ],
   "source": [
    "confusion_diagnostic(model)"
   ]
  },
  {
   "cell_type": "code",
   "execution_count": 0,
   "metadata": {
    "colab": {
     "autoexec": {
      "startup": false,
      "wait_interval": 0
     }
    },
    "colab_type": "code",
    "collapsed": true,
    "id": "uKXfEI9KzpTp"
   },
   "outputs": [],
   "source": []
  }
 ],
 "metadata": {
  "accelerator": "GPU",
  "colab": {
   "default_view": {},
   "name": "generic-SeNet-SeedLings.ipynb",
   "provenance": [],
   "toc_visible": true,
   "version": "0.3.2",
   "views": {}
  },
  "kernelspec": {
   "display_name": "Python 3",
   "language": "python",
   "name": "python3"
  },
  "language_info": {
   "codemirror_mode": {
    "name": "ipython",
    "version": 3
   },
   "file_extension": ".py",
   "mimetype": "text/x-python",
   "name": "python",
   "nbconvert_exporter": "python",
   "pygments_lexer": "ipython3",
   "version": "3.6.2"
  }
 },
 "nbformat": 4,
 "nbformat_minor": 1
}
